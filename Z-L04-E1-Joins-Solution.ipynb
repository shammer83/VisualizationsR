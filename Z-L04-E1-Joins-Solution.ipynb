{
 "cells": [
  {
   "cell_type": "markdown",
   "metadata": {},
   "source": [
    "# Joins\n",
    "These are the solutions to selected code blocks. You will have to run the code blocks to see what they do."
   ]
  },
  {
   "cell_type": "code",
   "execution_count": 1,
   "metadata": {
    "scrolled": false
   },
   "outputs": [
    {
     "name": "stderr",
     "output_type": "stream",
     "text": [
      "── Attaching packages ─────────────────────────────────────── tidyverse 1.2.1 ──\n",
      "✔ ggplot2 3.0.0     ✔ purrr   0.2.5\n",
      "✔ tibble  1.4.2     ✔ dplyr   0.7.6\n",
      "✔ tidyr   0.8.1     ✔ stringr 1.3.1\n",
      "✔ readr   1.1.1     ✔ forcats 0.3.0\n",
      "── Conflicts ────────────────────────────────────────── tidyverse_conflicts() ──\n",
      "✖ dplyr::filter() masks stats::filter()\n",
      "✖ dplyr::lag()    masks stats::lag()\n"
     ]
    }
   ],
   "source": [
    "# Load libraries\n",
    "library(odbc) # odbc\n",
    "library(DBI) # DBI\n",
    "library(tidyverse) # tidyverse"
   ]
  },
  {
   "cell_type": "markdown",
   "metadata": {},
   "source": [
    "## Import several related SQL tables\n",
    "Connect to the AdventureWorks SQL database and download some tables"
   ]
  },
  {
   "cell_type": "code",
   "execution_count": 2,
   "metadata": {},
   "outputs": [
    {
     "name": "stdout",
     "output_type": "stream",
     "text": [
      "<OdbcConnection> sqlstudentreader@UWC-SQLSERVER\n",
      "  Database: AdventureWorks2016CTP3\n",
      "  Microsoft SQL Server Version: 13.00.4224\n"
     ]
    }
   ],
   "source": [
    "# Connection string info\n",
    "# Already completed, just run the code block\n",
    "# Everyone uses the same SQL credentials\n",
    "driver_name <- \"ODBC Driver 13 for SQL Server\"\n",
    "server_name <- \"uwc-sqlserver.clients.uw.edu\"\n",
    "database_name <- \"AdventureWorks2016CTP3\" \n",
    "user_id <- \"sqlstudentreader\"\n",
    "password <- \"PA6aX2gAhe4hE!ru$6atru\"\n",
    "\n",
    "# Connect to the database\n",
    "# Store connection in conn variable\n",
    "conn <- dbConnect(odbc::odbc(), \n",
    "                  driver = driver_name, \n",
    "                  server = server_name, \n",
    "                  database = database_name,\n",
    "                  uid = user_id,\n",
    "                  pwd = password)\n",
    "\n",
    "# Print the connection object\n",
    "print(conn)"
   ]
  },
  {
   "cell_type": "markdown",
   "metadata": {},
   "source": [
    "## Sales Order Tables"
   ]
  },
  {
   "cell_type": "code",
   "execution_count": 3,
   "metadata": {},
   "outputs": [
    {
     "name": "stdout",
     "output_type": "stream",
     "text": [
      "Observations: 31,465\n",
      "Variables: 26\n",
      "$ SalesOrderID           <int> 43659, 43660, 43661, 43662, 43663, 43664, 43...\n",
      "$ RevisionNumber         <int> 8, 8, 8, 8, 8, 8, 8, 8, 8, 8, 8, 8, 8, 8, 8,...\n",
      "$ OrderDate              <dttm> 2011-05-31, 2011-05-31, 2011-05-31, 2011-05...\n",
      "$ DueDate                <dttm> 2011-06-12, 2011-06-12, 2011-06-12, 2011-06...\n",
      "$ ShipDate               <dttm> 2011-06-07, 2011-06-07, 2011-06-07, 2011-06...\n",
      "$ Status                 <int> 5, 5, 5, 5, 5, 5, 5, 5, 5, 5, 5, 5, 5, 5, 5,...\n",
      "$ OnlineOrderFlag        <lgl> FALSE, FALSE, FALSE, FALSE, FALSE, FALSE, FA...\n",
      "$ SalesOrderNumber       <chr> \"SO43659\", \"SO43660\", \"SO43661\", \"SO43662\", ...\n",
      "$ PurchaseOrderNumber    <chr> \"PO522145787\", \"PO18850127500\", \"PO184731896...\n",
      "$ AccountNumber          <chr> \"10-4020-000676\", \"10-4020-000117\", \"10-4020...\n",
      "$ CustomerID             <int> 29825, 29672, 29734, 29994, 29565, 29898, 29...\n",
      "$ SalesPersonID          <int> 279, 279, 282, 282, 276, 280, 283, 276, 277,...\n",
      "$ TerritoryID            <int> 5, 5, 6, 6, 4, 1, 1, 4, 3, 6, 1, 3, 1, 6, 2,...\n",
      "$ BillToAddressID        <int> 985, 921, 517, 482, 1073, 876, 849, 1074, 62...\n",
      "$ ShipToAddressID        <int> 985, 921, 517, 482, 1073, 876, 849, 1074, 62...\n",
      "$ ShipMethodID           <int> 5, 5, 5, 5, 5, 5, 5, 5, 5, 5, 5, 5, 5, 5, 5,...\n",
      "$ CreditCardID           <int> 16281, 5618, 1346, 10456, 4322, 806, 15232, ...\n",
      "$ CreditCardApprovalCode <chr> \"105041Vi84182\", \"115213Vi29411\", \"85274Vi68...\n",
      "$ CurrencyRateID         <int> NA, NA, 4, 4, NA, NA, NA, NA, NA, 4, NA, NA,...\n",
      "$ SubTotal               <dbl> 20565.6206, 1294.2529, 32726.4786, 28832.528...\n",
      "$ TaxAmt                 <dbl> 1971.5149, 124.2483, 3153.7696, 2775.1646, 4...\n",
      "$ Freight                <dbl> 616.0984, 38.8276, 985.5530, 867.2389, 12.58...\n",
      "$ TotalDue               <dbl> 23153.2339, 1457.3288, 36865.8012, 32474.932...\n",
      "$ Comment                <chr> NA, NA, NA, NA, NA, NA, NA, NA, NA, NA, NA, ...\n",
      "$ rowguid                <chr> \"79B65321-39CA-4115-9CBA-8FE0903E12E6\", \"738...\n",
      "$ ModifiedDate           <dttm> 2011-06-07, 2011-06-07, 2011-06-07, 2011-06...\n",
      "Observations: 121,317\n",
      "Variables: 11\n",
      "$ SalesOrderID          <int> 43659, 43659, 43659, 43659, 43659, 43659, 436...\n",
      "$ SalesOrderDetailID    <int> 1, 2, 3, 4, 5, 6, 7, 8, 9, 10, 11, 12, 13, 14...\n",
      "$ CarrierTrackingNumber <chr> \"4911-403C-98\", \"4911-403C-98\", \"4911-403C-98...\n",
      "$ OrderQty              <int> 1, 3, 1, 1, 1, 2, 1, 3, 1, 6, 2, 4, 1, 1, 1, ...\n",
      "$ ProductID             <int> 776, 777, 778, 771, 772, 773, 774, 714, 716, ...\n",
      "$ SpecialOfferID        <int> 1, 1, 1, 1, 1, 1, 1, 1, 1, 1, 1, 1, 1, 1, 1, ...\n",
      "$ UnitPrice             <dbl> 2024.9940, 2024.9940, 2024.9940, 2039.9940, 2...\n",
      "$ UnitPriceDiscount     <dbl> 0, 0, 0, 0, 0, 0, 0, 0, 0, 0, 0, 0, 0, 0, 0, ...\n",
      "$ LineTotal             <dbl> 2024.9940, 6074.9820, 2024.9940, 2039.9940, 2...\n",
      "$ rowguid               <chr> \"B207C96D-D9E6-402B-8470-2CC176C42283\", \"7ABB...\n",
      "$ ModifiedDate          <dttm> 2011-05-31, 2011-05-31, 2011-05-31, 2011-05-...\n"
     ]
    }
   ],
   "source": [
    "# Get Sales.SalesOrderHeader\n",
    "sql_select <- \"SELECT * FROM Sales.SalesOrderHeader\"\n",
    "df_sales_order_header <- conn %>% \n",
    "   dbGetQuery(sql_select)\n",
    "\n",
    "# Get Sales.SalesOrderDetail\n",
    "sql_select <- \"SELECT * FROM Sales.SalesOrderDetail\"\n",
    "df_sales_order_detail <- conn %>% \n",
    "   dbGetQuery(sql_select)\n",
    "\n",
    "# Glimpse results\n",
    "glimpse(df_sales_order_header)\n",
    "glimpse(df_sales_order_detail)"
   ]
  },
  {
   "cell_type": "markdown",
   "metadata": {},
   "source": [
    "## Distinct()"
   ]
  },
  {
   "cell_type": "code",
   "execution_count": 4,
   "metadata": {},
   "outputs": [
    {
     "data": {
      "text/html": [
       "31465"
      ],
      "text/latex": [
       "31465"
      ],
      "text/markdown": [
       "31465"
      ],
      "text/plain": [
       "[1] 31465"
      ]
     },
     "metadata": {},
     "output_type": "display_data"
    },
    {
     "data": {
      "text/html": [
       "31465"
      ],
      "text/latex": [
       "31465"
      ],
      "text/markdown": [
       "31465"
      ],
      "text/plain": [
       "[1] 31465"
      ]
     },
     "metadata": {},
     "output_type": "display_data"
    }
   ],
   "source": [
    "# Get the row count for \n",
    "# Sales.SalesOrderHeader\n",
    "# Hint: nrow()\n",
    "df_sales_order_header %>% \n",
    "   nrow()\n",
    "\n",
    "# Get the distinct row count for \n",
    "# Sales.SalesOrderHeader/SalesOrderID\n",
    "# Hint: distinct() and nrow()\n",
    "df_sales_order_header %>% \n",
    "   distinct(SalesOrderID) %>% \n",
    "   nrow()"
   ]
  },
  {
   "cell_type": "markdown",
   "metadata": {},
   "source": [
    "Notice that the overall row count and the distinct row count for SalesOrderID is the same. This is required for the primary key."
   ]
  },
  {
   "cell_type": "code",
   "execution_count": 5,
   "metadata": {},
   "outputs": [
    {
     "data": {
      "text/html": [
       "121317"
      ],
      "text/latex": [
       "121317"
      ],
      "text/markdown": [
       "121317"
      ],
      "text/plain": [
       "[1] 121317"
      ]
     },
     "metadata": {},
     "output_type": "display_data"
    },
    {
     "data": {
      "text/html": [
       "31465"
      ],
      "text/latex": [
       "31465"
      ],
      "text/markdown": [
       "31465"
      ],
      "text/plain": [
       "[1] 31465"
      ]
     },
     "metadata": {},
     "output_type": "display_data"
    }
   ],
   "source": [
    "# Get the row count for \n",
    "# Sales.SalesOrderDetail\n",
    "# Hint: nrow()\n",
    "df_sales_order_detail %>% \n",
    "   nrow()\n",
    "\n",
    "# Get the distinct row count for \n",
    "# Sales.SalesOrderDetail/SalesOrderID\n",
    "# Hint: distinct() and nrow()\n",
    "df_sales_order_detail %>% \n",
    "   distinct(SalesOrderID) %>% \n",
    "   nrow()"
   ]
  },
  {
   "cell_type": "markdown",
   "metadata": {},
   "source": [
    "Notice that the overall row count is much larger than the distinct values of SalesOrderID. This is because SalesOrderID is a foreign key with values used more than once. The grain of the sales order *detail* table is one row per sales transaction AND product ID. This allows storing of quantity of each product purchased. In contrast, the sales order *header* does not contain product ID or its quantity purchased. \n",
    "\n",
    "Also notice that the unique values matched the number of rows for the sales order header table. This is a sign of clean data with SQL referrential integrity enabled to ensure that they match. There can be no header row without a detail row. There can be no detail row without a header row."
   ]
  },
  {
   "cell_type": "markdown",
   "metadata": {},
   "source": [
    "## Joins\n",
    "Join two tables together. \n",
    "\n",
    "### Usage\n",
    "inner_join(x, y, by = NULL, copy = FALSE, suffix = c(\".x\", \".y\"), ...)\n",
    "\n",
    "left_join(x, y, by = NULL, copy = FALSE, suffix = c(\".x\", \".y\"), ...)\n",
    "\n",
    "right_join(x, y, by = NULL, copy = FALSE, suffix = c(\".x\", \".y\"), ...)\n",
    "\n",
    "full_join(x, y, by = NULL, copy = FALSE, suffix = c(\".x\", \".y\"), ...)\n",
    "\n",
    "semi_join(x, y, by = NULL, copy = FALSE, ...)\n",
    "\n",
    "anti_join(x, y, by = NULL, copy = FALSE, ...)\n",
    "\n"
   ]
  },
  {
   "cell_type": "markdown",
   "metadata": {
    "collapsed": true
   },
   "source": [
    "### inner_join"
   ]
  },
  {
   "cell_type": "code",
   "execution_count": 6,
   "metadata": {},
   "outputs": [
    {
     "name": "stderr",
     "output_type": "stream",
     "text": [
      "Joining, by = c(\"SalesOrderID\", \"rowguid\", \"ModifiedDate\")\n"
     ]
    },
    {
     "name": "stdout",
     "output_type": "stream",
     "text": [
      "Observations: 0\n",
      "Variables: 34\n",
      "$ SalesOrderID           <int> \n",
      "$ RevisionNumber         <int> \n",
      "$ OrderDate              <dttm> \n",
      "$ DueDate                <dttm> \n",
      "$ ShipDate               <dttm> \n",
      "$ Status                 <int> \n",
      "$ OnlineOrderFlag        <lgl> \n",
      "$ SalesOrderNumber       <chr> \n",
      "$ PurchaseOrderNumber    <chr> \n",
      "$ AccountNumber          <chr> \n",
      "$ CustomerID             <int> \n",
      "$ SalesPersonID          <int> \n",
      "$ TerritoryID            <int> \n",
      "$ BillToAddressID        <int> \n",
      "$ ShipToAddressID        <int> \n",
      "$ ShipMethodID           <int> \n",
      "$ CreditCardID           <int> \n",
      "$ CreditCardApprovalCode <chr> \n",
      "$ CurrencyRateID         <int> \n",
      "$ SubTotal               <dbl> \n",
      "$ TaxAmt                 <dbl> \n",
      "$ Freight                <dbl> \n",
      "$ TotalDue               <dbl> \n",
      "$ Comment                <chr> \n",
      "$ rowguid                <chr> \n",
      "$ ModifiedDate           <dttm> \n",
      "$ SalesOrderDetailID     <int> \n",
      "$ CarrierTrackingNumber  <chr> \n",
      "$ OrderQty               <int> \n",
      "$ ProductID              <int> \n",
      "$ SpecialOfferID         <int> \n",
      "$ UnitPrice              <dbl> \n",
      "$ UnitPriceDiscount      <dbl> \n",
      "$ LineTotal              <dbl> \n"
     ]
    }
   ],
   "source": [
    "# Join Sales.SalesOrderHeader and Sales.SalesOrderDetails\n",
    "# using inner_join() \n",
    "# using automatic join column (omit the 'by' parameter)\n",
    "# store as df_sales_order_inner\n",
    "df_sales_order_inner <- df_sales_order_header %>%\n",
    "   inner_join(df_sales_order_detail)\n",
    "\n",
    "# Glimpse result\n",
    "glimpse(df_sales_order_inner)"
   ]
  },
  {
   "cell_type": "markdown",
   "metadata": {},
   "source": [
    "### left_join"
   ]
  },
  {
   "cell_type": "code",
   "execution_count": 7,
   "metadata": {},
   "outputs": [
    {
     "name": "stderr",
     "output_type": "stream",
     "text": [
      "Joining, by = c(\"SalesOrderID\", \"rowguid\", \"ModifiedDate\")\n"
     ]
    },
    {
     "name": "stdout",
     "output_type": "stream",
     "text": [
      "Observations: 31,465\n",
      "Variables: 34\n",
      "$ SalesOrderID           <int> 43659, 43660, 43661, 43662, 43663, 43664, 43...\n",
      "$ RevisionNumber         <int> 8, 8, 8, 8, 8, 8, 8, 8, 8, 8, 8, 8, 8, 8, 8,...\n",
      "$ OrderDate              <dttm> 2011-05-31, 2011-05-31, 2011-05-31, 2011-05...\n",
      "$ DueDate                <dttm> 2011-06-12, 2011-06-12, 2011-06-12, 2011-06...\n",
      "$ ShipDate               <dttm> 2011-06-07, 2011-06-07, 2011-06-07, 2011-06...\n",
      "$ Status                 <int> 5, 5, 5, 5, 5, 5, 5, 5, 5, 5, 5, 5, 5, 5, 5,...\n",
      "$ OnlineOrderFlag        <lgl> FALSE, FALSE, FALSE, FALSE, FALSE, FALSE, FA...\n",
      "$ SalesOrderNumber       <chr> \"SO43659\", \"SO43660\", \"SO43661\", \"SO43662\", ...\n",
      "$ PurchaseOrderNumber    <chr> \"PO522145787\", \"PO18850127500\", \"PO184731896...\n",
      "$ AccountNumber          <chr> \"10-4020-000676\", \"10-4020-000117\", \"10-4020...\n",
      "$ CustomerID             <int> 29825, 29672, 29734, 29994, 29565, 29898, 29...\n",
      "$ SalesPersonID          <int> 279, 279, 282, 282, 276, 280, 283, 276, 277,...\n",
      "$ TerritoryID            <int> 5, 5, 6, 6, 4, 1, 1, 4, 3, 6, 1, 3, 1, 6, 2,...\n",
      "$ BillToAddressID        <int> 985, 921, 517, 482, 1073, 876, 849, 1074, 62...\n",
      "$ ShipToAddressID        <int> 985, 921, 517, 482, 1073, 876, 849, 1074, 62...\n",
      "$ ShipMethodID           <int> 5, 5, 5, 5, 5, 5, 5, 5, 5, 5, 5, 5, 5, 5, 5,...\n",
      "$ CreditCardID           <int> 16281, 5618, 1346, 10456, 4322, 806, 15232, ...\n",
      "$ CreditCardApprovalCode <chr> \"105041Vi84182\", \"115213Vi29411\", \"85274Vi68...\n",
      "$ CurrencyRateID         <int> NA, NA, 4, 4, NA, NA, NA, NA, NA, 4, NA, NA,...\n",
      "$ SubTotal               <dbl> 20565.6206, 1294.2529, 32726.4786, 28832.528...\n",
      "$ TaxAmt                 <dbl> 1971.5149, 124.2483, 3153.7696, 2775.1646, 4...\n",
      "$ Freight                <dbl> 616.0984, 38.8276, 985.5530, 867.2389, 12.58...\n",
      "$ TotalDue               <dbl> 23153.2339, 1457.3288, 36865.8012, 32474.932...\n",
      "$ Comment                <chr> NA, NA, NA, NA, NA, NA, NA, NA, NA, NA, NA, ...\n",
      "$ rowguid                <chr> \"79B65321-39CA-4115-9CBA-8FE0903E12E6\", \"738...\n",
      "$ ModifiedDate           <dttm> 2011-06-07, 2011-06-07, 2011-06-07, 2011-06...\n",
      "$ SalesOrderDetailID     <int> NA, NA, NA, NA, NA, NA, NA, NA, NA, NA, NA, ...\n",
      "$ CarrierTrackingNumber  <chr> NA, NA, NA, NA, NA, NA, NA, NA, NA, NA, NA, ...\n",
      "$ OrderQty               <int> NA, NA, NA, NA, NA, NA, NA, NA, NA, NA, NA, ...\n",
      "$ ProductID              <int> NA, NA, NA, NA, NA, NA, NA, NA, NA, NA, NA, ...\n",
      "$ SpecialOfferID         <int> NA, NA, NA, NA, NA, NA, NA, NA, NA, NA, NA, ...\n",
      "$ UnitPrice              <dbl> NA, NA, NA, NA, NA, NA, NA, NA, NA, NA, NA, ...\n",
      "$ UnitPriceDiscount      <dbl> NA, NA, NA, NA, NA, NA, NA, NA, NA, NA, NA, ...\n",
      "$ LineTotal              <dbl> NA, NA, NA, NA, NA, NA, NA, NA, NA, NA, NA, ...\n"
     ]
    }
   ],
   "source": [
    "# Join Sales.SalesOrderHeader and Sales.SalesOrderDetails\n",
    "# using left_join() \n",
    "# using automatic join column (omit the 'by' parameter)\n",
    "# store as df_sales_order_left\n",
    "df_sales_order_left <- df_sales_order_header %>%\n",
    "   left_join(df_sales_order_detail)\n",
    "\n",
    "# Glimpse result\n",
    "glimpse(df_sales_order_left)"
   ]
  },
  {
   "cell_type": "markdown",
   "metadata": {},
   "source": [
    "### right_join"
   ]
  },
  {
   "cell_type": "code",
   "execution_count": 8,
   "metadata": {},
   "outputs": [
    {
     "name": "stderr",
     "output_type": "stream",
     "text": [
      "Joining, by = c(\"SalesOrderID\", \"rowguid\", \"ModifiedDate\")\n"
     ]
    },
    {
     "name": "stdout",
     "output_type": "stream",
     "text": [
      "Observations: 121,317\n",
      "Variables: 34\n",
      "$ SalesOrderID           <int> 43659, 43659, 43659, 43659, 43659, 43659, 43...\n",
      "$ RevisionNumber         <int> NA, NA, NA, NA, NA, NA, NA, NA, NA, NA, NA, ...\n",
      "$ OrderDate              <dttm> NA, NA, NA, NA, NA, NA, NA, NA, NA, NA, NA,...\n",
      "$ DueDate                <dttm> NA, NA, NA, NA, NA, NA, NA, NA, NA, NA, NA,...\n",
      "$ ShipDate               <dttm> NA, NA, NA, NA, NA, NA, NA, NA, NA, NA, NA,...\n",
      "$ Status                 <int> NA, NA, NA, NA, NA, NA, NA, NA, NA, NA, NA, ...\n",
      "$ OnlineOrderFlag        <lgl> NA, NA, NA, NA, NA, NA, NA, NA, NA, NA, NA, ...\n",
      "$ SalesOrderNumber       <chr> NA, NA, NA, NA, NA, NA, NA, NA, NA, NA, NA, ...\n",
      "$ PurchaseOrderNumber    <chr> NA, NA, NA, NA, NA, NA, NA, NA, NA, NA, NA, ...\n",
      "$ AccountNumber          <chr> NA, NA, NA, NA, NA, NA, NA, NA, NA, NA, NA, ...\n",
      "$ CustomerID             <int> NA, NA, NA, NA, NA, NA, NA, NA, NA, NA, NA, ...\n",
      "$ SalesPersonID          <int> NA, NA, NA, NA, NA, NA, NA, NA, NA, NA, NA, ...\n",
      "$ TerritoryID            <int> NA, NA, NA, NA, NA, NA, NA, NA, NA, NA, NA, ...\n",
      "$ BillToAddressID        <int> NA, NA, NA, NA, NA, NA, NA, NA, NA, NA, NA, ...\n",
      "$ ShipToAddressID        <int> NA, NA, NA, NA, NA, NA, NA, NA, NA, NA, NA, ...\n",
      "$ ShipMethodID           <int> NA, NA, NA, NA, NA, NA, NA, NA, NA, NA, NA, ...\n",
      "$ CreditCardID           <int> NA, NA, NA, NA, NA, NA, NA, NA, NA, NA, NA, ...\n",
      "$ CreditCardApprovalCode <chr> NA, NA, NA, NA, NA, NA, NA, NA, NA, NA, NA, ...\n",
      "$ CurrencyRateID         <int> NA, NA, NA, NA, NA, NA, NA, NA, NA, NA, NA, ...\n",
      "$ SubTotal               <dbl> NA, NA, NA, NA, NA, NA, NA, NA, NA, NA, NA, ...\n",
      "$ TaxAmt                 <dbl> NA, NA, NA, NA, NA, NA, NA, NA, NA, NA, NA, ...\n",
      "$ Freight                <dbl> NA, NA, NA, NA, NA, NA, NA, NA, NA, NA, NA, ...\n",
      "$ TotalDue               <dbl> NA, NA, NA, NA, NA, NA, NA, NA, NA, NA, NA, ...\n",
      "$ Comment                <chr> NA, NA, NA, NA, NA, NA, NA, NA, NA, NA, NA, ...\n",
      "$ rowguid                <chr> \"B207C96D-D9E6-402B-8470-2CC176C42283\", \"7AB...\n",
      "$ ModifiedDate           <dttm> 2011-05-31, 2011-05-31, 2011-05-31, 2011-05...\n",
      "$ SalesOrderDetailID     <int> 1, 2, 3, 4, 5, 6, 7, 8, 9, 10, 11, 12, 13, 1...\n",
      "$ CarrierTrackingNumber  <chr> \"4911-403C-98\", \"4911-403C-98\", \"4911-403C-9...\n",
      "$ OrderQty               <int> 1, 3, 1, 1, 1, 2, 1, 3, 1, 6, 2, 4, 1, 1, 1,...\n",
      "$ ProductID              <int> 776, 777, 778, 771, 772, 773, 774, 714, 716,...\n",
      "$ SpecialOfferID         <int> 1, 1, 1, 1, 1, 1, 1, 1, 1, 1, 1, 1, 1, 1, 1,...\n",
      "$ UnitPrice              <dbl> 2024.9940, 2024.9940, 2024.9940, 2039.9940, ...\n",
      "$ UnitPriceDiscount      <dbl> 0, 0, 0, 0, 0, 0, 0, 0, 0, 0, 0, 0, 0, 0, 0,...\n",
      "$ LineTotal              <dbl> 2024.9940, 6074.9820, 2024.9940, 2039.9940, ...\n"
     ]
    }
   ],
   "source": [
    "# Join Sales.SalesOrderHeader and Sales.SalesOrderDetails\n",
    "# using right_join() \n",
    "# using automatic join column (omit the 'by' parameter)\n",
    "# store as df_sales_order_right\n",
    "df_sales_order_right <- df_sales_order_header %>%\n",
    "   right_join(df_sales_order_detail)\n",
    "\n",
    "# Glimpse result\n",
    "glimpse(df_sales_order_right)"
   ]
  },
  {
   "cell_type": "markdown",
   "metadata": {},
   "source": [
    "### full_join"
   ]
  },
  {
   "cell_type": "code",
   "execution_count": 9,
   "metadata": {},
   "outputs": [
    {
     "name": "stderr",
     "output_type": "stream",
     "text": [
      "Joining, by = c(\"SalesOrderID\", \"rowguid\", \"ModifiedDate\")\n"
     ]
    },
    {
     "name": "stdout",
     "output_type": "stream",
     "text": [
      "Observations: 152,782\n",
      "Variables: 34\n",
      "$ SalesOrderID           <int> 43659, 43660, 43661, 43662, 43663, 43664, 43...\n",
      "$ RevisionNumber         <int> 8, 8, 8, 8, 8, 8, 8, 8, 8, 8, 8, 8, 8, 8, 8,...\n",
      "$ OrderDate              <dttm> 2011-05-31, 2011-05-31, 2011-05-31, 2011-05...\n",
      "$ DueDate                <dttm> 2011-06-12, 2011-06-12, 2011-06-12, 2011-06...\n",
      "$ ShipDate               <dttm> 2011-06-07, 2011-06-07, 2011-06-07, 2011-06...\n",
      "$ Status                 <int> 5, 5, 5, 5, 5, 5, 5, 5, 5, 5, 5, 5, 5, 5, 5,...\n",
      "$ OnlineOrderFlag        <lgl> FALSE, FALSE, FALSE, FALSE, FALSE, FALSE, FA...\n",
      "$ SalesOrderNumber       <chr> \"SO43659\", \"SO43660\", \"SO43661\", \"SO43662\", ...\n",
      "$ PurchaseOrderNumber    <chr> \"PO522145787\", \"PO18850127500\", \"PO184731896...\n",
      "$ AccountNumber          <chr> \"10-4020-000676\", \"10-4020-000117\", \"10-4020...\n",
      "$ CustomerID             <int> 29825, 29672, 29734, 29994, 29565, 29898, 29...\n",
      "$ SalesPersonID          <int> 279, 279, 282, 282, 276, 280, 283, 276, 277,...\n",
      "$ TerritoryID            <int> 5, 5, 6, 6, 4, 1, 1, 4, 3, 6, 1, 3, 1, 6, 2,...\n",
      "$ BillToAddressID        <int> 985, 921, 517, 482, 1073, 876, 849, 1074, 62...\n",
      "$ ShipToAddressID        <int> 985, 921, 517, 482, 1073, 876, 849, 1074, 62...\n",
      "$ ShipMethodID           <int> 5, 5, 5, 5, 5, 5, 5, 5, 5, 5, 5, 5, 5, 5, 5,...\n",
      "$ CreditCardID           <int> 16281, 5618, 1346, 10456, 4322, 806, 15232, ...\n",
      "$ CreditCardApprovalCode <chr> \"105041Vi84182\", \"115213Vi29411\", \"85274Vi68...\n",
      "$ CurrencyRateID         <int> NA, NA, 4, 4, NA, NA, NA, NA, NA, 4, NA, NA,...\n",
      "$ SubTotal               <dbl> 20565.6206, 1294.2529, 32726.4786, 28832.528...\n",
      "$ TaxAmt                 <dbl> 1971.5149, 124.2483, 3153.7696, 2775.1646, 4...\n",
      "$ Freight                <dbl> 616.0984, 38.8276, 985.5530, 867.2389, 12.58...\n",
      "$ TotalDue               <dbl> 23153.2339, 1457.3288, 36865.8012, 32474.932...\n",
      "$ Comment                <chr> NA, NA, NA, NA, NA, NA, NA, NA, NA, NA, NA, ...\n",
      "$ rowguid                <chr> \"79B65321-39CA-4115-9CBA-8FE0903E12E6\", \"738...\n",
      "$ ModifiedDate           <dttm> 2011-06-07, 2011-06-07, 2011-06-07, 2011-06...\n",
      "$ SalesOrderDetailID     <int> NA, NA, NA, NA, NA, NA, NA, NA, NA, NA, NA, ...\n",
      "$ CarrierTrackingNumber  <chr> NA, NA, NA, NA, NA, NA, NA, NA, NA, NA, NA, ...\n",
      "$ OrderQty               <int> NA, NA, NA, NA, NA, NA, NA, NA, NA, NA, NA, ...\n",
      "$ ProductID              <int> NA, NA, NA, NA, NA, NA, NA, NA, NA, NA, NA, ...\n",
      "$ SpecialOfferID         <int> NA, NA, NA, NA, NA, NA, NA, NA, NA, NA, NA, ...\n",
      "$ UnitPrice              <dbl> NA, NA, NA, NA, NA, NA, NA, NA, NA, NA, NA, ...\n",
      "$ UnitPriceDiscount      <dbl> NA, NA, NA, NA, NA, NA, NA, NA, NA, NA, NA, ...\n",
      "$ LineTotal              <dbl> NA, NA, NA, NA, NA, NA, NA, NA, NA, NA, NA, ...\n"
     ]
    }
   ],
   "source": [
    "# Join Sales.SalesOrderHeader and Sales.SalesOrderDetails\n",
    "# using full_join() \n",
    "# using automatic join column (omit the 'by' parameter)\n",
    "# store as df_sales_order_full\n",
    "df_sales_order_full <- df_sales_order_header %>%\n",
    "   full_join(df_sales_order_detail)\n",
    "\n",
    "# Glimpse result\n",
    "glimpse(df_sales_order_full)"
   ]
  },
  {
   "cell_type": "markdown",
   "metadata": {},
   "source": [
    "## by\n",
    "The reason there were no matches were because by default, the join functions look for the same column names between the two tables and use that. We can specify the by parameter to override this default behavior. \n",
    "\n",
    "There are three different syntax for by:\n",
    "1. by = \"column name\" - use this for the same single column name in both tables\n",
    "2. by = c(\"col_1\", \"col_2\") - use this for the same multiple column names (composite primary keys)\n",
    "3. by = c(\"col_1_left\" = \"col_1_right\", \"col_2_left\" = \"col_2_right\") - use this when the names don't match between the two tables. It also supports composite primary keys."
   ]
  },
  {
   "cell_type": "code",
   "execution_count": 10,
   "metadata": {},
   "outputs": [
    {
     "name": "stdout",
     "output_type": "stream",
     "text": [
      "Observations: 121,317\n",
      "Variables: 36\n",
      "$ SalesOrderID           <int> 43659, 43659, 43659, 43659, 43659, 43659, 43...\n",
      "$ RevisionNumber         <int> 8, 8, 8, 8, 8, 8, 8, 8, 8, 8, 8, 8, 8, 8, 8,...\n",
      "$ OrderDate              <dttm> 2011-05-31, 2011-05-31, 2011-05-31, 2011-05...\n",
      "$ DueDate                <dttm> 2011-06-12, 2011-06-12, 2011-06-12, 2011-06...\n",
      "$ ShipDate               <dttm> 2011-06-07, 2011-06-07, 2011-06-07, 2011-06...\n",
      "$ Status                 <int> 5, 5, 5, 5, 5, 5, 5, 5, 5, 5, 5, 5, 5, 5, 5,...\n",
      "$ OnlineOrderFlag        <lgl> FALSE, FALSE, FALSE, FALSE, FALSE, FALSE, FA...\n",
      "$ SalesOrderNumber       <chr> \"SO43659\", \"SO43659\", \"SO43659\", \"SO43659\", ...\n",
      "$ PurchaseOrderNumber    <chr> \"PO522145787\", \"PO522145787\", \"PO522145787\",...\n",
      "$ AccountNumber          <chr> \"10-4020-000676\", \"10-4020-000676\", \"10-4020...\n",
      "$ CustomerID             <int> 29825, 29825, 29825, 29825, 29825, 29825, 29...\n",
      "$ SalesPersonID          <int> 279, 279, 279, 279, 279, 279, 279, 279, 279,...\n",
      "$ TerritoryID            <int> 5, 5, 5, 5, 5, 5, 5, 5, 5, 5, 5, 5, 5, 5, 6,...\n",
      "$ BillToAddressID        <int> 985, 985, 985, 985, 985, 985, 985, 985, 985,...\n",
      "$ ShipToAddressID        <int> 985, 985, 985, 985, 985, 985, 985, 985, 985,...\n",
      "$ ShipMethodID           <int> 5, 5, 5, 5, 5, 5, 5, 5, 5, 5, 5, 5, 5, 5, 5,...\n",
      "$ CreditCardID           <int> 16281, 16281, 16281, 16281, 16281, 16281, 16...\n",
      "$ CreditCardApprovalCode <chr> \"105041Vi84182\", \"105041Vi84182\", \"105041Vi8...\n",
      "$ CurrencyRateID         <int> NA, NA, NA, NA, NA, NA, NA, NA, NA, NA, NA, ...\n",
      "$ SubTotal               <dbl> 20565.621, 20565.621, 20565.621, 20565.621, ...\n",
      "$ TaxAmt                 <dbl> 1971.5149, 1971.5149, 1971.5149, 1971.5149, ...\n",
      "$ Freight                <dbl> 616.0984, 616.0984, 616.0984, 616.0984, 616....\n",
      "$ TotalDue               <dbl> 23153.234, 23153.234, 23153.234, 23153.234, ...\n",
      "$ Comment                <chr> NA, NA, NA, NA, NA, NA, NA, NA, NA, NA, NA, ...\n",
      "$ rowguid.x              <chr> \"79B65321-39CA-4115-9CBA-8FE0903E12E6\", \"79B...\n",
      "$ ModifiedDate.x         <dttm> 2011-06-07, 2011-06-07, 2011-06-07, 2011-06...\n",
      "$ SalesOrderDetailID     <int> 1, 2, 3, 4, 5, 6, 7, 8, 9, 10, 11, 12, 13, 1...\n",
      "$ CarrierTrackingNumber  <chr> \"4911-403C-98\", \"4911-403C-98\", \"4911-403C-9...\n",
      "$ OrderQty               <int> 1, 3, 1, 1, 1, 2, 1, 3, 1, 6, 2, 4, 1, 1, 1,...\n",
      "$ ProductID              <int> 776, 777, 778, 771, 772, 773, 774, 714, 716,...\n",
      "$ SpecialOfferID         <int> 1, 1, 1, 1, 1, 1, 1, 1, 1, 1, 1, 1, 1, 1, 1,...\n",
      "$ UnitPrice              <dbl> 2024.9940, 2024.9940, 2024.9940, 2039.9940, ...\n",
      "$ UnitPriceDiscount      <dbl> 0, 0, 0, 0, 0, 0, 0, 0, 0, 0, 0, 0, 0, 0, 0,...\n",
      "$ LineTotal              <dbl> 2024.9940, 6074.9820, 2024.9940, 2039.9940, ...\n",
      "$ rowguid.y              <chr> \"B207C96D-D9E6-402B-8470-2CC176C42283\", \"7AB...\n",
      "$ ModifiedDate.y         <dttm> 2011-05-31, 2011-05-31, 2011-05-31, 2011-05...\n"
     ]
    }
   ],
   "source": [
    "# Join Sales.SalesOrderHeader and Sales.SalesOrderDetails\n",
    "# using inner_join() \n",
    "# using by = \"SalesOrderID\"\n",
    "# store as df_sales_order\n",
    "df_sales_order <- df_sales_order_header %>%\n",
    "   inner_join(df_sales_order_detail, by = \"SalesOrderID\")\n",
    "\n",
    "# Glimpse result\n",
    "glimpse(df_sales_order)"
   ]
  },
  {
   "cell_type": "markdown",
   "metadata": {},
   "source": [
    "## Renaming conflicting columns"
   ]
  },
  {
   "cell_type": "code",
   "execution_count": 11,
   "metadata": {},
   "outputs": [
    {
     "name": "stdout",
     "output_type": "stream",
     "text": [
      "Observations: 121,317\n",
      "Variables: 36\n",
      "$ SalesOrderID                  <int> 43659, 43659, 43659, 43659, 43659, 43...\n",
      "$ RevisionNumber                <int> 8, 8, 8, 8, 8, 8, 8, 8, 8, 8, 8, 8, 8...\n",
      "$ OrderDate                     <dttm> 2011-05-31, 2011-05-31, 2011-05-31, ...\n",
      "$ DueDate                       <dttm> 2011-06-12, 2011-06-12, 2011-06-12, ...\n",
      "$ ShipDate                      <dttm> 2011-06-07, 2011-06-07, 2011-06-07, ...\n",
      "$ Status                        <int> 5, 5, 5, 5, 5, 5, 5, 5, 5, 5, 5, 5, 5...\n",
      "$ OnlineOrderFlag               <lgl> FALSE, FALSE, FALSE, FALSE, FALSE, FA...\n",
      "$ SalesOrderNumber              <chr> \"SO43659\", \"SO43659\", \"SO43659\", \"SO4...\n",
      "$ PurchaseOrderNumber           <chr> \"PO522145787\", \"PO522145787\", \"PO5221...\n",
      "$ AccountNumber                 <chr> \"10-4020-000676\", \"10-4020-000676\", \"...\n",
      "$ CustomerID                    <int> 29825, 29825, 29825, 29825, 29825, 29...\n",
      "$ SalesPersonID                 <int> 279, 279, 279, 279, 279, 279, 279, 27...\n",
      "$ TerritoryID                   <int> 5, 5, 5, 5, 5, 5, 5, 5, 5, 5, 5, 5, 5...\n",
      "$ BillToAddressID               <int> 985, 985, 985, 985, 985, 985, 985, 98...\n",
      "$ ShipToAddressID               <int> 985, 985, 985, 985, 985, 985, 985, 98...\n",
      "$ ShipMethodID                  <int> 5, 5, 5, 5, 5, 5, 5, 5, 5, 5, 5, 5, 5...\n",
      "$ CreditCardID                  <int> 16281, 16281, 16281, 16281, 16281, 16...\n",
      "$ CreditCardApprovalCode        <chr> \"105041Vi84182\", \"105041Vi84182\", \"10...\n",
      "$ CurrencyRateID                <int> NA, NA, NA, NA, NA, NA, NA, NA, NA, N...\n",
      "$ SubTotal                      <dbl> 20565.621, 20565.621, 20565.621, 2056...\n",
      "$ TaxAmt                        <dbl> 1971.5149, 1971.5149, 1971.5149, 1971...\n",
      "$ Freight                       <dbl> 616.0984, 616.0984, 616.0984, 616.098...\n",
      "$ TotalDue                      <dbl> 23153.234, 23153.234, 23153.234, 2315...\n",
      "$ Comment                       <chr> NA, NA, NA, NA, NA, NA, NA, NA, NA, N...\n",
      "$ SalesOrderHeader_rowguid      <chr> \"79B65321-39CA-4115-9CBA-8FE0903E12E6...\n",
      "$ SalesOrderHeader_ModifiedDate <dttm> 2011-06-07, 2011-06-07, 2011-06-07, ...\n",
      "$ SalesOrderDetailID            <int> 1, 2, 3, 4, 5, 6, 7, 8, 9, 10, 11, 12...\n",
      "$ CarrierTrackingNumber         <chr> \"4911-403C-98\", \"4911-403C-98\", \"4911...\n",
      "$ OrderQty                      <int> 1, 3, 1, 1, 1, 2, 1, 3, 1, 6, 2, 4, 1...\n",
      "$ ProductID                     <int> 776, 777, 778, 771, 772, 773, 774, 71...\n",
      "$ SpecialOfferID                <int> 1, 1, 1, 1, 1, 1, 1, 1, 1, 1, 1, 1, 1...\n",
      "$ UnitPrice                     <dbl> 2024.9940, 2024.9940, 2024.9940, 2039...\n",
      "$ UnitPriceDiscount             <dbl> 0, 0, 0, 0, 0, 0, 0, 0, 0, 0, 0, 0, 0...\n",
      "$ LineTotal                     <dbl> 2024.9940, 6074.9820, 2024.9940, 2039...\n",
      "$ SalesOrderDetail_rowguid      <chr> \"B207C96D-D9E6-402B-8470-2CC176C42283...\n",
      "$ SalesOrderDetail_ModifiedDate <dttm> 2011-05-31, 2011-05-31, 2011-05-31, ...\n"
     ]
    }
   ],
   "source": [
    "# Rename the conflicting .x and .y columns\n",
    "# using the naming convention <table>_<column>\n",
    "# update df_sales_order\n",
    "df_sales_order <- df_sales_order %>%\n",
    "   rename(SalesOrderHeader_rowguid = rowguid.x,\n",
    "         SalesOrderHeader_ModifiedDate = ModifiedDate.x,\n",
    "         SalesOrderDetail_rowguid = rowguid.y,\n",
    "         SalesOrderDetail_ModifiedDate = ModifiedDate.y)\n",
    "\n",
    "# Glimpse result\n",
    "glimpse(df_sales_order)"
   ]
  },
  {
   "cell_type": "markdown",
   "metadata": {},
   "source": [
    "## Single vs Multiple Dataframes\n",
    "You can continue to join tables and create a single table at the lowest data grain with a large number of columns. This is useful for machine learning algorithms where all the data it processes must be in a single table. \n",
    "\n",
    "For human analysis, however, it might be more effective to have several data frames you can easily join together as required. Consider a data warehouse star schema as a guideline for how to design your dataframes."
   ]
  },
  {
   "cell_type": "code",
   "execution_count": 12,
   "metadata": {},
   "outputs": [
    {
     "name": "stdout",
     "output_type": "stream",
     "text": [
      "Observations: 504\n",
      "Variables: 23\n",
      "$ ProductID             <int> 1, 2, 3, 4, 316, 317, 318, 319, 320, 321, 322...\n",
      "$ Name                  <chr> \"Adjustable Race\", \"Bearing Ball\", \"BB Ball B...\n",
      "$ ProductNumber         <chr> \"AR-5381\", \"BA-8327\", \"BE-2349\", \"BE-2908\", \"...\n",
      "$ MakeFlag              <lgl> FALSE, FALSE, TRUE, FALSE, TRUE, FALSE, FALSE...\n",
      "$ FinishedGoodsFlag     <lgl> FALSE, FALSE, FALSE, FALSE, FALSE, FALSE, FAL...\n",
      "$ Color                 <chr> NA, NA, NA, NA, NA, \"Black\", \"Black\", \"Black\"...\n",
      "$ SafetyStockLevel      <int> 1000, 1000, 800, 800, 800, 500, 500, 500, 100...\n",
      "$ ReorderPoint          <int> 750, 750, 600, 600, 600, 375, 375, 375, 750, ...\n",
      "$ StandardCost          <dbl> 0, 0, 0, 0, 0, 0, 0, 0, 0, 0, 0, 0, 0, 0, 0, ...\n",
      "$ ListPrice             <dbl> 0, 0, 0, 0, 0, 0, 0, 0, 0, 0, 0, 0, 0, 0, 0, ...\n",
      "$ Size                  <chr> NA, NA, NA, NA, NA, NA, NA, NA, NA, NA, NA, N...\n",
      "$ SizeUnitMeasureCode   <chr> NA, NA, NA, NA, NA, NA, NA, NA, NA, NA, NA, N...\n",
      "$ WeightUnitMeasureCode <chr> NA, NA, NA, NA, NA, NA, NA, NA, NA, NA, NA, N...\n",
      "$ Weight                <dbl> NA, NA, NA, NA, NA, NA, NA, NA, NA, NA, NA, N...\n",
      "$ DaysToManufacture     <int> 0, 0, 1, 0, 1, 0, 0, 0, 0, 0, 0, 0, 1, 0, 0, ...\n",
      "$ ProductLine           <chr> NA, NA, NA, NA, NA, NA, NA, NA, NA, NA, NA, N...\n",
      "$ Class                 <chr> NA, NA, NA, NA, NA, \"L \", \"M \", NA, NA, NA, N...\n",
      "$ Style                 <chr> NA, NA, NA, NA, NA, NA, NA, NA, NA, NA, NA, N...\n",
      "$ ProductSubcategoryID  <int> NA, NA, NA, NA, NA, NA, NA, NA, NA, NA, NA, N...\n",
      "$ ProductModelID        <int> NA, NA, NA, NA, NA, NA, NA, NA, NA, NA, NA, N...\n",
      "$ SellStartDate         <dttm> 2008-04-30, 2008-04-30, 2008-04-30, 2008-04-...\n",
      "$ SellEndDate           <dttm> NA, NA, NA, NA, NA, NA, NA, NA, NA, NA, NA, ...\n",
      "$ DiscontinuedDate      <dttm> NA, NA, NA, NA, NA, NA, NA, NA, NA, NA, NA, ...\n",
      "Observations: 10\n",
      "Variables: 8\n",
      "$ TerritoryID       <int> 1, 2, 3, 4, 5, 6, 7, 8, 9, 10\n",
      "$ Name              <chr> \"Northwest\", \"Northeast\", \"Central\", \"Southwest\",...\n",
      "$ CountryRegionCode <chr> \"US\", \"US\", \"US\", \"US\", \"US\", \"CA\", \"FR\", \"DE\", \"...\n",
      "$ Group             <chr> \"North America\", \"North America\", \"North America\"...\n",
      "$ SalesYTD          <dbl> 7887187, 2402177, 3072175, 10510854, 2538667, 677...\n",
      "$ SalesLastYear     <dbl> 3298694, 3607149, 3205014, 5366576, 3925071, 5693...\n",
      "$ CostYTD           <dbl> 0, 0, 0, 0, 0, 0, 0, 0, 0, 0\n",
      "$ CostLastYear      <dbl> 0, 0, 0, 0, 0, 0, 0, 0, 0, 0\n"
     ]
    }
   ],
   "source": [
    "# Get Production.Product\n",
    "# exclude metadata columns: rowguid, ModifiedDate\n",
    "sql_select <- \"SELECT * FROM Production.Product\"\n",
    "df_product <- conn %>% \n",
    "   dbGetQuery(sql_select) %>% \n",
    "   select(-rowguid, -ModifiedDate)\n",
    "\n",
    "# Get Sales.SalesTerritory\n",
    "# exclude metadata columns: rowguid, ModifiedDate\n",
    "sql_select <- \"SELECT * FROM Sales.SalesTerritory\"\n",
    "df_sales_territory <- conn %>% \n",
    "   dbGetQuery(sql_select) %>% \n",
    "   select(-rowguid, -ModifiedDate)\n",
    "\n",
    "# Glimpse results\n",
    "glimpse(df_product)\n",
    "glimpse(df_sales_territory)"
   ]
  },
  {
   "cell_type": "markdown",
   "metadata": {},
   "source": [
    "### left_join"
   ]
  },
  {
   "cell_type": "code",
   "execution_count": 13,
   "metadata": {},
   "outputs": [
    {
     "name": "stderr",
     "output_type": "stream",
     "text": [
      "Joining, by = \"ProductID\"\n",
      "Joining, by = c(\"TerritoryID\", \"Name\")\n"
     ]
    },
    {
     "name": "stdout",
     "output_type": "stream",
     "text": [
      "Observations: 121,317\n",
      "Variables: 64\n",
      "$ SalesOrderID                  <int> 43659, 43659, 43659, 43659, 43659, 43...\n",
      "$ RevisionNumber                <int> 8, 8, 8, 8, 8, 8, 8, 8, 8, 8, 8, 8, 8...\n",
      "$ OrderDate                     <dttm> 2011-05-31, 2011-05-31, 2011-05-31, ...\n",
      "$ DueDate                       <dttm> 2011-06-12, 2011-06-12, 2011-06-12, ...\n",
      "$ ShipDate                      <dttm> 2011-06-07, 2011-06-07, 2011-06-07, ...\n",
      "$ Status                        <int> 5, 5, 5, 5, 5, 5, 5, 5, 5, 5, 5, 5, 5...\n",
      "$ OnlineOrderFlag               <lgl> FALSE, FALSE, FALSE, FALSE, FALSE, FA...\n",
      "$ SalesOrderNumber              <chr> \"SO43659\", \"SO43659\", \"SO43659\", \"SO4...\n",
      "$ PurchaseOrderNumber           <chr> \"PO522145787\", \"PO522145787\", \"PO5221...\n",
      "$ AccountNumber                 <chr> \"10-4020-000676\", \"10-4020-000676\", \"...\n",
      "$ CustomerID                    <int> 29825, 29825, 29825, 29825, 29825, 29...\n",
      "$ SalesPersonID                 <int> 279, 279, 279, 279, 279, 279, 279, 27...\n",
      "$ TerritoryID                   <int> 5, 5, 5, 5, 5, 5, 5, 5, 5, 5, 5, 5, 5...\n",
      "$ BillToAddressID               <int> 985, 985, 985, 985, 985, 985, 985, 98...\n",
      "$ ShipToAddressID               <int> 985, 985, 985, 985, 985, 985, 985, 98...\n",
      "$ ShipMethodID                  <int> 5, 5, 5, 5, 5, 5, 5, 5, 5, 5, 5, 5, 5...\n",
      "$ CreditCardID                  <int> 16281, 16281, 16281, 16281, 16281, 16...\n",
      "$ CreditCardApprovalCode        <chr> \"105041Vi84182\", \"105041Vi84182\", \"10...\n",
      "$ CurrencyRateID                <int> NA, NA, NA, NA, NA, NA, NA, NA, NA, N...\n",
      "$ SubTotal                      <dbl> 20565.621, 20565.621, 20565.621, 2056...\n",
      "$ TaxAmt                        <dbl> 1971.5149, 1971.5149, 1971.5149, 1971...\n",
      "$ Freight                       <dbl> 616.0984, 616.0984, 616.0984, 616.098...\n",
      "$ TotalDue                      <dbl> 23153.234, 23153.234, 23153.234, 2315...\n",
      "$ Comment                       <chr> NA, NA, NA, NA, NA, NA, NA, NA, NA, N...\n",
      "$ SalesOrderHeader_rowguid      <chr> \"79B65321-39CA-4115-9CBA-8FE0903E12E6...\n",
      "$ SalesOrderHeader_ModifiedDate <dttm> 2011-06-07, 2011-06-07, 2011-06-07, ...\n",
      "$ SalesOrderDetailID            <int> 1, 2, 3, 4, 5, 6, 7, 8, 9, 10, 11, 12...\n",
      "$ CarrierTrackingNumber         <chr> \"4911-403C-98\", \"4911-403C-98\", \"4911...\n",
      "$ OrderQty                      <int> 1, 3, 1, 1, 1, 2, 1, 3, 1, 6, 2, 4, 1...\n",
      "$ ProductID                     <int> 776, 777, 778, 771, 772, 773, 774, 71...\n",
      "$ SpecialOfferID                <int> 1, 1, 1, 1, 1, 1, 1, 1, 1, 1, 1, 1, 1...\n",
      "$ UnitPrice                     <dbl> 2024.9940, 2024.9940, 2024.9940, 2039...\n",
      "$ UnitPriceDiscount             <dbl> 0, 0, 0, 0, 0, 0, 0, 0, 0, 0, 0, 0, 0...\n",
      "$ LineTotal                     <dbl> 2024.9940, 6074.9820, 2024.9940, 2039...\n",
      "$ SalesOrderDetail_rowguid      <chr> \"B207C96D-D9E6-402B-8470-2CC176C42283...\n",
      "$ SalesOrderDetail_ModifiedDate <dttm> 2011-05-31, 2011-05-31, 2011-05-31, ...\n",
      "$ Name                          <chr> \"Mountain-100 Black, 42\", \"Mountain-1...\n",
      "$ ProductNumber                 <chr> \"BK-M82B-42\", \"BK-M82B-44\", \"BK-M82B-...\n",
      "$ MakeFlag                      <lgl> TRUE, TRUE, TRUE, TRUE, TRUE, TRUE, T...\n",
      "$ FinishedGoodsFlag             <lgl> TRUE, TRUE, TRUE, TRUE, TRUE, TRUE, T...\n",
      "$ Color                         <chr> \"Black\", \"Black\", \"Black\", \"Silver\", ...\n",
      "$ SafetyStockLevel              <int> 100, 100, 100, 100, 100, 100, 100, 4,...\n",
      "$ ReorderPoint                  <int> 75, 75, 75, 75, 75, 75, 75, 3, 3, 3, ...\n",
      "$ StandardCost                  <dbl> 1898.0944, 1898.0944, 1898.0944, 1912...\n",
      "$ ListPrice                     <dbl> 3374.99, 3374.99, 3374.99, 3399.99, 3...\n",
      "$ Size                          <chr> \"42\", \"44\", \"48\", \"38\", \"42\", \"44\", \"...\n",
      "$ SizeUnitMeasureCode           <chr> \"CM \", \"CM \", \"CM \", \"CM \", \"CM \", \"C...\n",
      "$ WeightUnitMeasureCode         <chr> \"LB \", \"LB \", \"LB \", \"LB \", \"LB \", \"L...\n",
      "$ Weight                        <dbl> 20.77, 21.13, 21.42, 20.35, 20.77, 21...\n",
      "$ DaysToManufacture             <int> 4, 4, 4, 4, 4, 4, 4, 0, 0, 0, 0, 0, 4...\n",
      "$ ProductLine                   <chr> \"M \", \"M \", \"M \", \"M \", \"M \", \"M \", \"...\n",
      "$ Class                         <chr> \"H \", \"H \", \"H \", \"H \", \"H \", \"H \", \"...\n",
      "$ Style                         <chr> \"U \", \"U \", \"U \", \"U \", \"U \", \"U \", \"...\n",
      "$ ProductSubcategoryID          <int> 1, 1, 1, 1, 1, 1, 1, 21, 21, 23, 19, ...\n",
      "$ ProductModelID                <int> 19, 19, 19, 19, 19, 19, 19, 11, 11, 1...\n",
      "$ SellStartDate                 <dttm> 2011-05-31, 2011-05-31, 2011-05-31, ...\n",
      "$ SellEndDate                   <dttm> 2012-05-29, 2012-05-29, 2012-05-29, ...\n",
      "$ DiscontinuedDate              <dttm> NA, NA, NA, NA, NA, NA, NA, NA, NA, ...\n",
      "$ CountryRegionCode             <chr> NA, NA, NA, NA, NA, NA, NA, NA, NA, N...\n",
      "$ Group                         <chr> NA, NA, NA, NA, NA, NA, NA, NA, NA, N...\n",
      "$ SalesYTD                      <dbl> NA, NA, NA, NA, NA, NA, NA, NA, NA, N...\n",
      "$ SalesLastYear                 <dbl> NA, NA, NA, NA, NA, NA, NA, NA, NA, N...\n",
      "$ CostYTD                       <dbl> NA, NA, NA, NA, NA, NA, NA, NA, NA, N...\n",
      "$ CostLastYear                  <dbl> NA, NA, NA, NA, NA, NA, NA, NA, NA, N...\n"
     ]
    }
   ],
   "source": [
    "# left join df_sales_order with\n",
    "# df_product and df_sales_territory\n",
    "# store df_sales_order_complete\n",
    "# do not specify the by parameter\n",
    "df_sales_order_complete <- df_sales_order %>% \n",
    "   left_join(df_product) %>% \n",
    "   left_join(df_sales_territory)\n",
    "\n",
    "# Glimpse result\n",
    "glimpse(df_sales_order_complete)"
   ]
  },
  {
   "cell_type": "markdown",
   "metadata": {},
   "source": [
    "Notice the warning message from the automatic by parameter. Were these the join columns you expected? \n",
    "\n",
    "This is a convenient way to help determine the by parameter and alert you to any potential issues. "
   ]
  },
  {
   "cell_type": "markdown",
   "metadata": {},
   "source": [
    "### left_join and rename"
   ]
  },
  {
   "cell_type": "code",
   "execution_count": 14,
   "metadata": {},
   "outputs": [
    {
     "name": "stderr",
     "output_type": "stream",
     "text": [
      "Joining, by = \"ProductID\"\n",
      "Joining, by = \"TerritoryID\"\n"
     ]
    },
    {
     "name": "stdout",
     "output_type": "stream",
     "text": [
      "Observations: 121,317\n",
      "Variables: 65\n",
      "$ SalesOrderID                  <int> 43659, 43659, 43659, 43659, 43659, 43...\n",
      "$ RevisionNumber                <int> 8, 8, 8, 8, 8, 8, 8, 8, 8, 8, 8, 8, 8...\n",
      "$ OrderDate                     <dttm> 2011-05-31, 2011-05-31, 2011-05-31, ...\n",
      "$ DueDate                       <dttm> 2011-06-12, 2011-06-12, 2011-06-12, ...\n",
      "$ ShipDate                      <dttm> 2011-06-07, 2011-06-07, 2011-06-07, ...\n",
      "$ Status                        <int> 5, 5, 5, 5, 5, 5, 5, 5, 5, 5, 5, 5, 5...\n",
      "$ OnlineOrderFlag               <lgl> FALSE, FALSE, FALSE, FALSE, FALSE, FA...\n",
      "$ SalesOrderNumber              <chr> \"SO43659\", \"SO43659\", \"SO43659\", \"SO4...\n",
      "$ PurchaseOrderNumber           <chr> \"PO522145787\", \"PO522145787\", \"PO5221...\n",
      "$ AccountNumber                 <chr> \"10-4020-000676\", \"10-4020-000676\", \"...\n",
      "$ CustomerID                    <int> 29825, 29825, 29825, 29825, 29825, 29...\n",
      "$ SalesPersonID                 <int> 279, 279, 279, 279, 279, 279, 279, 27...\n",
      "$ TerritoryID                   <int> 5, 5, 5, 5, 5, 5, 5, 5, 5, 5, 5, 5, 5...\n",
      "$ BillToAddressID               <int> 985, 985, 985, 985, 985, 985, 985, 98...\n",
      "$ ShipToAddressID               <int> 985, 985, 985, 985, 985, 985, 985, 98...\n",
      "$ ShipMethodID                  <int> 5, 5, 5, 5, 5, 5, 5, 5, 5, 5, 5, 5, 5...\n",
      "$ CreditCardID                  <int> 16281, 16281, 16281, 16281, 16281, 16...\n",
      "$ CreditCardApprovalCode        <chr> \"105041Vi84182\", \"105041Vi84182\", \"10...\n",
      "$ CurrencyRateID                <int> NA, NA, NA, NA, NA, NA, NA, NA, NA, N...\n",
      "$ SubTotal                      <dbl> 20565.621, 20565.621, 20565.621, 2056...\n",
      "$ TaxAmt                        <dbl> 1971.5149, 1971.5149, 1971.5149, 1971...\n",
      "$ Freight                       <dbl> 616.0984, 616.0984, 616.0984, 616.098...\n",
      "$ TotalDue                      <dbl> 23153.234, 23153.234, 23153.234, 2315...\n",
      "$ Comment                       <chr> NA, NA, NA, NA, NA, NA, NA, NA, NA, N...\n",
      "$ SalesOrderHeader_rowguid      <chr> \"79B65321-39CA-4115-9CBA-8FE0903E12E6...\n",
      "$ SalesOrderHeader_ModifiedDate <dttm> 2011-06-07, 2011-06-07, 2011-06-07, ...\n",
      "$ SalesOrderDetailID            <int> 1, 2, 3, 4, 5, 6, 7, 8, 9, 10, 11, 12...\n",
      "$ CarrierTrackingNumber         <chr> \"4911-403C-98\", \"4911-403C-98\", \"4911...\n",
      "$ OrderQty                      <int> 1, 3, 1, 1, 1, 2, 1, 3, 1, 6, 2, 4, 1...\n",
      "$ ProductID                     <int> 776, 777, 778, 771, 772, 773, 774, 71...\n",
      "$ SpecialOfferID                <int> 1, 1, 1, 1, 1, 1, 1, 1, 1, 1, 1, 1, 1...\n",
      "$ UnitPrice                     <dbl> 2024.9940, 2024.9940, 2024.9940, 2039...\n",
      "$ UnitPriceDiscount             <dbl> 0, 0, 0, 0, 0, 0, 0, 0, 0, 0, 0, 0, 0...\n",
      "$ LineTotal                     <dbl> 2024.9940, 6074.9820, 2024.9940, 2039...\n",
      "$ SalesOrderDetail_rowguid      <chr> \"B207C96D-D9E6-402B-8470-2CC176C42283...\n",
      "$ SalesOrderDetail_ModifiedDate <dttm> 2011-05-31, 2011-05-31, 2011-05-31, ...\n",
      "$ Product_Name                  <chr> \"Mountain-100 Black, 42\", \"Mountain-1...\n",
      "$ ProductNumber                 <chr> \"BK-M82B-42\", \"BK-M82B-44\", \"BK-M82B-...\n",
      "$ MakeFlag                      <lgl> TRUE, TRUE, TRUE, TRUE, TRUE, TRUE, T...\n",
      "$ FinishedGoodsFlag             <lgl> TRUE, TRUE, TRUE, TRUE, TRUE, TRUE, T...\n",
      "$ Color                         <chr> \"Black\", \"Black\", \"Black\", \"Silver\", ...\n",
      "$ SafetyStockLevel              <int> 100, 100, 100, 100, 100, 100, 100, 4,...\n",
      "$ ReorderPoint                  <int> 75, 75, 75, 75, 75, 75, 75, 3, 3, 3, ...\n",
      "$ StandardCost                  <dbl> 1898.0944, 1898.0944, 1898.0944, 1912...\n",
      "$ ListPrice                     <dbl> 3374.99, 3374.99, 3374.99, 3399.99, 3...\n",
      "$ Size                          <chr> \"42\", \"44\", \"48\", \"38\", \"42\", \"44\", \"...\n",
      "$ SizeUnitMeasureCode           <chr> \"CM \", \"CM \", \"CM \", \"CM \", \"CM \", \"C...\n",
      "$ WeightUnitMeasureCode         <chr> \"LB \", \"LB \", \"LB \", \"LB \", \"LB \", \"L...\n",
      "$ Weight                        <dbl> 20.77, 21.13, 21.42, 20.35, 20.77, 21...\n",
      "$ DaysToManufacture             <int> 4, 4, 4, 4, 4, 4, 4, 0, 0, 0, 0, 0, 4...\n",
      "$ ProductLine                   <chr> \"M \", \"M \", \"M \", \"M \", \"M \", \"M \", \"...\n",
      "$ Class                         <chr> \"H \", \"H \", \"H \", \"H \", \"H \", \"H \", \"...\n",
      "$ Style                         <chr> \"U \", \"U \", \"U \", \"U \", \"U \", \"U \", \"...\n",
      "$ ProductSubcategoryID          <int> 1, 1, 1, 1, 1, 1, 1, 21, 21, 23, 19, ...\n",
      "$ ProductModelID                <int> 19, 19, 19, 19, 19, 19, 19, 11, 11, 1...\n",
      "$ SellStartDate                 <dttm> 2011-05-31, 2011-05-31, 2011-05-31, ...\n",
      "$ SellEndDate                   <dttm> 2012-05-29, 2012-05-29, 2012-05-29, ...\n",
      "$ DiscontinuedDate              <dttm> NA, NA, NA, NA, NA, NA, NA, NA, NA, ...\n",
      "$ SalesTerritory_Name           <chr> \"Southeast\", \"Southeast\", \"Southeast\"...\n",
      "$ CountryRegionCode             <chr> \"US\", \"US\", \"US\", \"US\", \"US\", \"US\", \"...\n",
      "$ Group                         <chr> \"North America\", \"North America\", \"No...\n",
      "$ SalesYTD                      <dbl> 2538667, 2538667, 2538667, 2538667, 2...\n",
      "$ SalesLastYear                 <dbl> 3925071, 3925071, 3925071, 3925071, 3...\n",
      "$ CostYTD                       <dbl> 0, 0, 0, 0, 0, 0, 0, 0, 0, 0, 0, 0, 0...\n",
      "$ CostLastYear                  <dbl> 0, 0, 0, 0, 0, 0, 0, 0, 0, 0, 0, 0, 0...\n"
     ]
    }
   ],
   "source": [
    "# left join df_sales_order with\n",
    "# df_product and df_sales_territory\n",
    "# rename the Name columns to <table>_Name before joining\n",
    "# store df_sales_order_complete\n",
    "# do not specify the by parameter\n",
    "df_sales_order_complete <- df_sales_order %>% \n",
    "   left_join(df_product %>% rename(Product_Name = Name)) %>% \n",
    "   left_join(df_sales_territory %>% rename(SalesTerritory_Name = Name))\n",
    "\n",
    "# Glimpse result\n",
    "glimpse(df_sales_order_complete)"
   ]
  },
  {
   "cell_type": "markdown",
   "metadata": {},
   "source": [
    "## semi_join"
   ]
  },
  {
   "cell_type": "code",
   "execution_count": 15,
   "metadata": {},
   "outputs": [
    {
     "name": "stderr",
     "output_type": "stream",
     "text": [
      "Joining, by = \"TerritoryID\"\n"
     ]
    },
    {
     "name": "stdout",
     "output_type": "stream",
     "text": [
      "Observations: 121,317\n",
      "Variables: 36\n",
      "$ SalesOrderID                  <int> 43659, 43659, 43659, 43659, 43659, 43...\n",
      "$ RevisionNumber                <int> 8, 8, 8, 8, 8, 8, 8, 8, 8, 8, 8, 8, 8...\n",
      "$ OrderDate                     <dttm> 2011-05-31, 2011-05-31, 2011-05-31, ...\n",
      "$ DueDate                       <dttm> 2011-06-12, 2011-06-12, 2011-06-12, ...\n",
      "$ ShipDate                      <dttm> 2011-06-07, 2011-06-07, 2011-06-07, ...\n",
      "$ Status                        <int> 5, 5, 5, 5, 5, 5, 5, 5, 5, 5, 5, 5, 5...\n",
      "$ OnlineOrderFlag               <lgl> FALSE, FALSE, FALSE, FALSE, FALSE, FA...\n",
      "$ SalesOrderNumber              <chr> \"SO43659\", \"SO43659\", \"SO43659\", \"SO4...\n",
      "$ PurchaseOrderNumber           <chr> \"PO522145787\", \"PO522145787\", \"PO5221...\n",
      "$ AccountNumber                 <chr> \"10-4020-000676\", \"10-4020-000676\", \"...\n",
      "$ CustomerID                    <int> 29825, 29825, 29825, 29825, 29825, 29...\n",
      "$ SalesPersonID                 <int> 279, 279, 279, 279, 279, 279, 279, 27...\n",
      "$ TerritoryID                   <int> 5, 5, 5, 5, 5, 5, 5, 5, 5, 5, 5, 5, 5...\n",
      "$ BillToAddressID               <int> 985, 985, 985, 985, 985, 985, 985, 98...\n",
      "$ ShipToAddressID               <int> 985, 985, 985, 985, 985, 985, 985, 98...\n",
      "$ ShipMethodID                  <int> 5, 5, 5, 5, 5, 5, 5, 5, 5, 5, 5, 5, 5...\n",
      "$ CreditCardID                  <int> 16281, 16281, 16281, 16281, 16281, 16...\n",
      "$ CreditCardApprovalCode        <chr> \"105041Vi84182\", \"105041Vi84182\", \"10...\n",
      "$ CurrencyRateID                <int> NA, NA, NA, NA, NA, NA, NA, NA, NA, N...\n",
      "$ SubTotal                      <dbl> 20565.621, 20565.621, 20565.621, 2056...\n",
      "$ TaxAmt                        <dbl> 1971.5149, 1971.5149, 1971.5149, 1971...\n",
      "$ Freight                       <dbl> 616.0984, 616.0984, 616.0984, 616.098...\n",
      "$ TotalDue                      <dbl> 23153.234, 23153.234, 23153.234, 2315...\n",
      "$ Comment                       <chr> NA, NA, NA, NA, NA, NA, NA, NA, NA, N...\n",
      "$ SalesOrderHeader_rowguid      <chr> \"79B65321-39CA-4115-9CBA-8FE0903E12E6...\n",
      "$ SalesOrderHeader_ModifiedDate <dttm> 2011-06-07, 2011-06-07, 2011-06-07, ...\n",
      "$ SalesOrderDetailID            <int> 1, 2, 3, 4, 5, 6, 7, 8, 9, 10, 11, 12...\n",
      "$ CarrierTrackingNumber         <chr> \"4911-403C-98\", \"4911-403C-98\", \"4911...\n",
      "$ OrderQty                      <int> 1, 3, 1, 1, 1, 2, 1, 3, 1, 6, 2, 4, 1...\n",
      "$ ProductID                     <int> 776, 777, 778, 771, 772, 773, 774, 71...\n",
      "$ SpecialOfferID                <int> 1, 1, 1, 1, 1, 1, 1, 1, 1, 1, 1, 1, 1...\n",
      "$ UnitPrice                     <dbl> 2024.9940, 2024.9940, 2024.9940, 2039...\n",
      "$ UnitPriceDiscount             <dbl> 0, 0, 0, 0, 0, 0, 0, 0, 0, 0, 0, 0, 0...\n",
      "$ LineTotal                     <dbl> 2024.9940, 6074.9820, 2024.9940, 2039...\n",
      "$ SalesOrderDetail_rowguid      <chr> \"B207C96D-D9E6-402B-8470-2CC176C42283...\n",
      "$ SalesOrderDetail_ModifiedDate <dttm> 2011-05-31, 2011-05-31, 2011-05-31, ...\n"
     ]
    }
   ],
   "source": [
    "# semi join df_sales_order\n",
    "# with df_sales_territory\n",
    "# glimpse result, do not store in variable\n",
    "df_sales_order %>% semi_join(df_sales_territory) %>% \n",
    "   glimpse()"
   ]
  },
  {
   "cell_type": "markdown",
   "metadata": {},
   "source": [
    "Is the row count what you expected? Are there any SalesTerritory columns part of the result? \n",
    "\n",
    "Semi join matched on TerritoryID for each and every row. This is an indication of clean source data. "
   ]
  },
  {
   "cell_type": "markdown",
   "metadata": {},
   "source": [
    "## anti_join"
   ]
  },
  {
   "cell_type": "code",
   "execution_count": 16,
   "metadata": {},
   "outputs": [
    {
     "name": "stderr",
     "output_type": "stream",
     "text": [
      "Joining, by = \"TerritoryID\"\n"
     ]
    },
    {
     "name": "stdout",
     "output_type": "stream",
     "text": [
      "Observations: 0\n",
      "Variables: 36\n",
      "$ SalesOrderID                  <int> \n",
      "$ RevisionNumber                <int> \n",
      "$ OrderDate                     <dttm> \n",
      "$ DueDate                       <dttm> \n",
      "$ ShipDate                      <dttm> \n",
      "$ Status                        <int> \n",
      "$ OnlineOrderFlag               <lgl> \n",
      "$ SalesOrderNumber              <chr> \n",
      "$ PurchaseOrderNumber           <chr> \n",
      "$ AccountNumber                 <chr> \n",
      "$ CustomerID                    <int> \n",
      "$ SalesPersonID                 <int> \n",
      "$ TerritoryID                   <int> \n",
      "$ BillToAddressID               <int> \n",
      "$ ShipToAddressID               <int> \n",
      "$ ShipMethodID                  <int> \n",
      "$ CreditCardID                  <int> \n",
      "$ CreditCardApprovalCode        <chr> \n",
      "$ CurrencyRateID                <int> \n",
      "$ SubTotal                      <dbl> \n",
      "$ TaxAmt                        <dbl> \n",
      "$ Freight                       <dbl> \n",
      "$ TotalDue                      <dbl> \n",
      "$ Comment                       <chr> \n",
      "$ SalesOrderHeader_rowguid      <chr> \n",
      "$ SalesOrderHeader_ModifiedDate <dttm> \n",
      "$ SalesOrderDetailID            <int> \n",
      "$ CarrierTrackingNumber         <chr> \n",
      "$ OrderQty                      <int> \n",
      "$ ProductID                     <int> \n",
      "$ SpecialOfferID                <int> \n",
      "$ UnitPrice                     <dbl> \n",
      "$ UnitPriceDiscount             <dbl> \n",
      "$ LineTotal                     <dbl> \n",
      "$ SalesOrderDetail_rowguid      <chr> \n",
      "$ SalesOrderDetail_ModifiedDate <dttm> \n"
     ]
    }
   ],
   "source": [
    "# anti join df_sales_order\n",
    "# with df_sales_territory\n",
    "# glimpse result, do not store in variable\n",
    "df_sales_order %>% anti_join(df_sales_territory) %>% \n",
    "   glimpse()"
   ]
  },
  {
   "cell_type": "markdown",
   "metadata": {},
   "source": [
    "Are the rows returned what you expected? \n",
    "\n",
    "Since anti_join is the opposite from semi_join, if semi_join matched all the rows then anti_join matched 0 rows. "
   ]
  },
  {
   "cell_type": "markdown",
   "metadata": {},
   "source": [
    "### semi_join and filter"
   ]
  },
  {
   "cell_type": "code",
   "execution_count": 17,
   "metadata": {},
   "outputs": [
    {
     "name": "stderr",
     "output_type": "stream",
     "text": [
      "Joining, by = \"TerritoryID\"\n"
     ]
    },
    {
     "name": "stdout",
     "output_type": "stream",
     "text": [
      "Observations: 60,153\n",
      "Variables: 36\n",
      "$ SalesOrderID                  <int> 43659, 43659, 43659, 43659, 43659, 43...\n",
      "$ RevisionNumber                <int> 8, 8, 8, 8, 8, 8, 8, 8, 8, 8, 8, 8, 8...\n",
      "$ OrderDate                     <dttm> 2011-05-31, 2011-05-31, 2011-05-31, ...\n",
      "$ DueDate                       <dttm> 2011-06-12, 2011-06-12, 2011-06-12, ...\n",
      "$ ShipDate                      <dttm> 2011-06-07, 2011-06-07, 2011-06-07, ...\n",
      "$ Status                        <int> 5, 5, 5, 5, 5, 5, 5, 5, 5, 5, 5, 5, 5...\n",
      "$ OnlineOrderFlag               <lgl> FALSE, FALSE, FALSE, FALSE, FALSE, FA...\n",
      "$ SalesOrderNumber              <chr> \"SO43659\", \"SO43659\", \"SO43659\", \"SO4...\n",
      "$ PurchaseOrderNumber           <chr> \"PO522145787\", \"PO522145787\", \"PO5221...\n",
      "$ AccountNumber                 <chr> \"10-4020-000676\", \"10-4020-000676\", \"...\n",
      "$ CustomerID                    <int> 29825, 29825, 29825, 29825, 29825, 29...\n",
      "$ SalesPersonID                 <int> 279, 279, 279, 279, 279, 279, 279, 27...\n",
      "$ TerritoryID                   <int> 5, 5, 5, 5, 5, 5, 5, 5, 5, 5, 5, 5, 5...\n",
      "$ BillToAddressID               <int> 985, 985, 985, 985, 985, 985, 985, 98...\n",
      "$ ShipToAddressID               <int> 985, 985, 985, 985, 985, 985, 985, 98...\n",
      "$ ShipMethodID                  <int> 5, 5, 5, 5, 5, 5, 5, 5, 5, 5, 5, 5, 5...\n",
      "$ CreditCardID                  <int> 16281, 16281, 16281, 16281, 16281, 16...\n",
      "$ CreditCardApprovalCode        <chr> \"105041Vi84182\", \"105041Vi84182\", \"10...\n",
      "$ CurrencyRateID                <int> NA, NA, NA, NA, NA, NA, NA, NA, NA, N...\n",
      "$ SubTotal                      <dbl> 20565.6206, 20565.6206, 20565.6206, 2...\n",
      "$ TaxAmt                        <dbl> 1971.5149, 1971.5149, 1971.5149, 1971...\n",
      "$ Freight                       <dbl> 616.0984, 616.0984, 616.0984, 616.098...\n",
      "$ TotalDue                      <dbl> 23153.2339, 23153.2339, 23153.2339, 2...\n",
      "$ Comment                       <chr> NA, NA, NA, NA, NA, NA, NA, NA, NA, N...\n",
      "$ SalesOrderHeader_rowguid      <chr> \"79B65321-39CA-4115-9CBA-8FE0903E12E6...\n",
      "$ SalesOrderHeader_ModifiedDate <dttm> 2011-06-07, 2011-06-07, 2011-06-07, ...\n",
      "$ SalesOrderDetailID            <int> 1, 2, 3, 4, 5, 6, 7, 8, 9, 10, 11, 12...\n",
      "$ CarrierTrackingNumber         <chr> \"4911-403C-98\", \"4911-403C-98\", \"4911...\n",
      "$ OrderQty                      <int> 1, 3, 1, 1, 1, 2, 1, 3, 1, 6, 2, 4, 1...\n",
      "$ ProductID                     <int> 776, 777, 778, 771, 772, 773, 774, 71...\n",
      "$ SpecialOfferID                <int> 1, 1, 1, 1, 1, 1, 1, 1, 1, 1, 1, 1, 1...\n",
      "$ UnitPrice                     <dbl> 2024.9940, 2024.9940, 2024.9940, 2039...\n",
      "$ UnitPriceDiscount             <dbl> 0, 0, 0, 0, 0, 0, 0, 0, 0, 0, 0, 0, 0...\n",
      "$ LineTotal                     <dbl> 2024.9940, 6074.9820, 2024.9940, 2039...\n",
      "$ SalesOrderDetail_rowguid      <chr> \"B207C96D-D9E6-402B-8470-2CC176C42283...\n",
      "$ SalesOrderDetail_ModifiedDate <dttm> 2011-05-31, 2011-05-31, 2011-05-31, ...\n"
     ]
    }
   ],
   "source": [
    "# semi join df_sales_order\n",
    "# with df_sales_territory\n",
    "# inline filtered on CountryRegionCode == \"US\"\n",
    "# glimpse result, do not store in variable\n",
    "df_sales_order %>% semi_join(df_sales_territory %>% filter(CountryRegionCode == \"US\")) %>% \n",
    "   glimpse()"
   ]
  },
  {
   "cell_type": "markdown",
   "metadata": {},
   "source": [
    "Is the row count what you expected? \n",
    "\n",
    "There are fewer rows in the result reflecting the filtering of only US sales. "
   ]
  },
  {
   "cell_type": "markdown",
   "metadata": {},
   "source": [
    "### anti_join and filter"
   ]
  },
  {
   "cell_type": "code",
   "execution_count": 18,
   "metadata": {},
   "outputs": [
    {
     "name": "stderr",
     "output_type": "stream",
     "text": [
      "Joining, by = \"TerritoryID\"\n"
     ]
    },
    {
     "name": "stdout",
     "output_type": "stream",
     "text": [
      "Observations: 42,100\n",
      "Variables: 36\n",
      "$ SalesOrderID                  <int> 43698, 43701, 43703, 43704, 43705, 43...\n",
      "$ RevisionNumber                <int> 8, 8, 8, 8, 8, 8, 8, 8, 8, 8, 8, 8, 8...\n",
      "$ OrderDate                     <dttm> 2011-05-31, 2011-05-31, 2011-06-01, ...\n",
      "$ DueDate                       <dttm> 2011-06-12, 2011-06-12, 2011-06-13, ...\n",
      "$ ShipDate                      <dttm> 2011-06-07, 2011-06-07, 2011-06-08, ...\n",
      "$ Status                        <int> 5, 5, 5, 5, 5, 5, 5, 5, 5, 5, 5, 5, 5...\n",
      "$ OnlineOrderFlag               <lgl> TRUE, TRUE, TRUE, TRUE, TRUE, TRUE, T...\n",
      "$ SalesOrderNumber              <chr> \"SO43698\", \"SO43701\", \"SO43703\", \"SO4...\n",
      "$ PurchaseOrderNumber           <chr> NA, NA, NA, NA, NA, NA, NA, NA, NA, N...\n",
      "$ AccountNumber                 <chr> \"10-4030-028389\", \"10-4030-011003\", \"...\n",
      "$ CustomerID                    <int> 28389, 11003, 16624, 11005, 11011, 20...\n",
      "$ SalesPersonID                 <int> NA, NA, NA, NA, NA, NA, NA, NA, NA, N...\n",
      "$ TerritoryID                   <int> 7, 9, 9, 9, 9, 10, 9, 9, 8, 10, 9, 9,...\n",
      "$ BillToAddressID               <int> 24593, 20425, 23967, 16025, 27345, 18...\n",
      "$ ShipToAddressID               <int> 24593, 20425, 23967, 16025, 27345, 18...\n",
      "$ ShipMethodID                  <int> 1, 1, 1, 1, 1, 1, 1, 1, 1, 1, 1, 1, 1...\n",
      "$ CreditCardID                  <int> 16625, 11150, 9497, 1988, 7205, 4369,...\n",
      "$ CreditCardApprovalCode        <chr> \"1231736Vi86048\", \"335093Vi57504\", \"1...\n",
      "$ CurrencyRateID                <int> 8, 2, 15, 15, 15, 35, 28, 28, 45, 61,...\n",
      "$ SubTotal                      <dbl> 3399.9900, 3399.9900, 3578.2700, 3374...\n",
      "$ TaxAmt                        <dbl> 271.9992, 271.9992, 286.2616, 269.999...\n",
      "$ Freight                       <dbl> 84.9998, 84.9998, 89.4568, 84.3748, 8...\n",
      "$ TotalDue                      <dbl> 3756.9890, 3756.9890, 3953.9884, 3729...\n",
      "$ Comment                       <chr> NA, NA, NA, NA, NA, NA, NA, NA, NA, N...\n",
      "$ SalesOrderHeader_rowguid      <chr> \"0AE8A848-41D9-4E5E-8FE8-5CD23F14421E...\n",
      "$ SalesOrderHeader_ModifiedDate <dttm> 2011-06-07, 2011-06-07, 2011-06-08, ...\n",
      "$ SalesOrderDetailID            <int> 354, 357, 359, 360, 361, 364, 365, 36...\n",
      "$ CarrierTrackingNumber         <chr> NA, NA, NA, NA, NA, NA, NA, NA, NA, N...\n",
      "$ OrderQty                      <int> 1, 1, 1, 1, 1, 1, 1, 1, 1, 1, 1, 1, 1...\n",
      "$ ProductID                     <int> 773, 773, 749, 778, 771, 764, 752, 75...\n",
      "$ SpecialOfferID                <int> 1, 1, 1, 1, 1, 1, 1, 1, 1, 1, 1, 1, 1...\n",
      "$ UnitPrice                     <dbl> 3399.9900, 3399.9900, 3578.2700, 3374...\n",
      "$ UnitPriceDiscount             <dbl> 0, 0, 0, 0, 0, 0, 0, 0, 0, 0, 0, 0, 0...\n",
      "$ LineTotal                     <dbl> 3399.9900, 3399.9900, 3578.2700, 3374...\n",
      "$ SalesOrderDetail_rowguid      <chr> \"A2D7730F-D2D0-4C47-8F36-FBD316680CEF...\n",
      "$ SalesOrderDetail_ModifiedDate <dttm> 2011-05-31, 2011-05-31, 2011-06-01, ...\n"
     ]
    }
   ],
   "source": [
    "# anti join df_sales_order\n",
    "# with df_sales_territory\n",
    "# inline filtered on Group == \"North America\"\n",
    "# glimpse result, do not store in variable\n",
    "df_sales_order %>% anti_join(df_sales_territory %>% filter(Group == \"North America\")) %>% \n",
    "   glimpse()"
   ]
  },
  {
   "cell_type": "markdown",
   "metadata": {},
   "source": [
    "Is the row count what you expected? \n",
    "\n",
    "These results are the sales from all territory groups except for North America."
   ]
  },
  {
   "cell_type": "markdown",
   "metadata": {},
   "source": [
    "## Close SQL connection"
   ]
  },
  {
   "cell_type": "code",
   "execution_count": 19,
   "metadata": {
    "collapsed": true
   },
   "outputs": [],
   "source": [
    "# Close SQL connection\n",
    "conn %>% dbDisconnect()"
   ]
  },
  {
   "cell_type": "markdown",
   "metadata": {},
   "source": [
    "## Summary\n",
    "Joining is a common data wrangling task as you accumulate more and more dataframes of data. You use joining to organize the data into a design that makes your analysis more agile. You also use joining as a way to explore and filter the data as part of data exploration."
   ]
  }
 ],
 "metadata": {
  "kernelspec": {
   "display_name": "R 3.5.1",
   "language": "R",
   "name": "ir"
  },
  "language_info": {
   "codemirror_mode": "r",
   "file_extension": ".r",
   "mimetype": "text/x-r-source",
   "name": "R",
   "pygments_lexer": "r",
   "version": "3.5.1"
  }
 },
 "nbformat": 4,
 "nbformat_minor": 1
}
