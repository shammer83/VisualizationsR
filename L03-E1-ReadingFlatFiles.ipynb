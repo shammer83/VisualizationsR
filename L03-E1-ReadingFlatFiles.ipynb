{
 "cells": [
  {
   "cell_type": "markdown",
   "metadata": {},
   "source": [
    "# Reading Flat Files\n",
    "## Exercise Instructions\n",
    "\n",
    "* Complete all cells as instructed, replacing any ??? with the appropriate code\n",
    "\n",
    "* Execute Jupyter **Kernel** > **Restart & Run All** and ensure that all code blocks run without error\n",
    "\n",
    "## Description\n",
    "\n",
    "It doesn’t get more universal than importing the typical ‘flat file’. As you can imagine, there are many ways and packages in R that can do this. And this has been streamlined as much as possible, while providing customizable options a mile long. The good news is that we can expect a simple single line of code to do the trick only providing a minimum of information, letting R make all the rest of the assumptions for us. \n",
    "\n",
    "### read_csv()\n",
    "Fortunately, there is a tidyverse version of file import, so that is what we will use. Hopefully, as we explore more and more of the tidyverse, it will start to become more intuitive. I can often guess what a function name would be called or how it will return a result. It is like guessing the meaning of a word you hadn’t heard of before, but being reasonably close to its definition because it is consistent with the rest of the language that you already learned. \n",
    "In this exercise, you will read in comma separated value (csv) files into R using read_csv(). Note the underscore between read and csv. This version is from the readr package, a part of the tidyverse. There is a function that uses a period in place of an underscore which is the base R version. Remember to use the underscore version of the function.\n",
    "read_csv() has some parameters most with default values. The only required parameter is the filename. That is the only thing it couldn’t guess. It can’t get much simpler than that. The remaining parameters are used to adjust the default behavior when you encounter that situation.\n",
    "\n",
    "### read_tsv()\n",
    "There is also a read_tsv() to use for tab separated values. Just substitute tsv for csv in the function call. There is also a read_delim() function where you can specify your own column delimiter in case the file uses something other than a comma or tab. Read_csv() and read_tsv() are called wrapper functions around read_delim() meaning that they set default values to make it easy to use for a specific context. So instead of setting the column delimiter in read_delim() you simply call the read_csv function which sets that parameter for you. This is just like geom_jitter() we encountered before as a wrapper function around geom_point() with the jitter parameter enabled. \n",
    "\n",
    "### read_delim()\n",
    "I find the wrapper functions easier to read than parameters, so I use those when I can. But since they are wrapper functions, that means you can call the underlying read_delim() function and have access to all the parameters for complete customization.\n",
    "\n",
    "### write_csv(), write_tsv()\n",
    "There are also write versions of the read functions like write_csv() and write_tsv() which takes a data frame and writes it to a file. This is a useful way to export a copy of the data especially after doing a bunch of data wrangling.\n",
    "\n",
    "### skip, col_names, col_types\n",
    "We will explore skipping rows, handling header rows, renaming columns, and setting data types. We will also see what can go wrong during data type conversion and how to get details about the errors with problems(). \n",
    "\n",
    "### Process strings after import\n",
    "If you cannot resolve a data type conversion issue during import, just bring the column in as a string column and then handle it after it is in a data frame where we have the full power of R at our disposal. This is most common when dealing with various date formats. If we are lucky we can convert to a date during import, but sometimes the import tools cannot handle the wide diversity of dates. So, we bring it in as a string and then use different R packages that specialize in date manipulation to coerce them into dates.\n",
    "\n",
    "\n",
    "## R Features\n",
    "* library()\n",
    "* write_csv()\n",
    "* write_tsv()\n",
    "* getwd()\n",
    "* dir()\n",
    "* read_csv()\n",
    "* read_tsv()\n",
    "* glimpse()\n",
    "* names()\n",
    "* print()\n",
    "* c()\n",
    "* head()\n",
    "* spec()\n",
    "* problems()\n",
    "\n",
    "## Datasets\n",
    "* mpg\n"
   ]
  },
  {
   "cell_type": "code",
   "execution_count": 4,
   "metadata": {
    "scrolled": false
   },
   "outputs": [
    {
     "name": "stderr",
     "output_type": "stream",
     "text": [
      "── \u001b[1mAttaching packages\u001b[22m ─────────────────────────────────────── tidyverse 1.2.1 ──\n",
      "\u001b[32m✔\u001b[39m \u001b[34mggplot2\u001b[39m 3.2.1     \u001b[32m✔\u001b[39m \u001b[34mpurrr  \u001b[39m 0.3.2\n",
      "\u001b[32m✔\u001b[39m \u001b[34mtibble \u001b[39m 2.1.3     \u001b[32m✔\u001b[39m \u001b[34mdplyr  \u001b[39m 0.8.3\n",
      "\u001b[32m✔\u001b[39m \u001b[34mtidyr  \u001b[39m 1.0.0     \u001b[32m✔\u001b[39m \u001b[34mstringr\u001b[39m 1.4.0\n",
      "\u001b[32m✔\u001b[39m \u001b[34mreadr  \u001b[39m 1.3.1     \u001b[32m✔\u001b[39m \u001b[34mforcats\u001b[39m 0.4.0\n",
      "── \u001b[1mConflicts\u001b[22m ────────────────────────────────────────── tidyverse_conflicts() ──\n",
      "\u001b[31m✖\u001b[39m \u001b[34mdplyr\u001b[39m::\u001b[32mfilter()\u001b[39m masks \u001b[34mstats\u001b[39m::filter()\n",
      "\u001b[31m✖\u001b[39m \u001b[34mdplyr\u001b[39m::\u001b[32mlag()\u001b[39m    masks \u001b[34mstats\u001b[39m::lag()\n"
     ]
    }
   ],
   "source": [
    "# Load the tidyverse library\n",
    "library('tidyverse')"
   ]
  },
  {
   "cell_type": "markdown",
   "metadata": {},
   "source": [
    "Notice readr is a tidyverse library"
   ]
  },
  {
   "cell_type": "markdown",
   "metadata": {},
   "source": [
    "## write_csv(), write_tsv(), write_excel_csv()\n",
    "Save a data frame to a delimited file. This is about twice as fast as write.csv, and never writes row names.\n",
    "\n",
    "write_csv(x, path, na = \"NA\", append = FALSE, col_names = !append)\n",
    "\n",
    "write_tsv(x, path, na = \"NA\", append = FALSE, col_names = !append)\n",
    "\n",
    "write_excel_csv(x, path, na = \"NA\", append = FALSE, col_names = !append)\n"
   ]
  },
  {
   "cell_type": "markdown",
   "metadata": {},
   "source": [
    "# write_csv()\n",
    "We are going to create the files we need to import by first exporting them or writing them to disk. Let's start with help on write_csv()"
   ]
  },
  {
   "cell_type": "code",
   "execution_count": 6,
   "metadata": {},
   "outputs": [],
   "source": [
    "# Display help on write_csv()\n",
    "?write_csv()"
   ]
  },
  {
   "cell_type": "markdown",
   "metadata": {},
   "source": [
    "# write_delim {readr}\tR Documentation\n",
    "Write a data frame to a delimited file\n",
    "## Description\n",
    "This is about twice as fast as write.csv(), and never writes row names. output_column() is a generic method used to coerce columns to suitable output.\n",
    "\n",
    "## Usage\n",
    "write_delim(x, path, delim = \" \", na = \"NA\", append = FALSE,\n",
    "  col_names = !append)\n",
    "\n",
    "write_csv(x, path, na = \"NA\", append = FALSE, col_names = !append)\n",
    "\n",
    "write_excel_csv(x, path, na = \"NA\", append = FALSE, col_names = !append)\n",
    "\n",
    "write_tsv(x, path, na = \"NA\", append = FALSE, col_names = !append)\n",
    "## Arguments\n",
    "x - A data frame to write to disk\n",
    "\n",
    "path - Path or connection to write to.\n",
    "\n",
    "delim\t- Delimiter used to separate values. Defaults to \" \". Must be a single character.\n",
    "\n",
    "na\t- String used for missing values. Defaults to NA. Missing values will never be quoted; strings with the same value as na will always be quoted.\n",
    "\n",
    "append\t- If FALSE, will overwrite existing file. If TRUE, will append to existing file. In both cases, if file does not exist a new file is created.\n",
    "\n",
    "col_names\t- Write columns names at the top of the file?"
   ]
  },
  {
   "cell_type": "markdown",
   "metadata": {},
   "source": [
    "Notice there are a few versions. In this lesson will explore the csv, and tsv options. We pass these functions a data frame and a filename string."
   ]
  },
  {
   "cell_type": "markdown",
   "metadata": {},
   "source": [
    "# Write a csv file\n",
    "Let's export the mpg data to a csv file. Now that you are aware of the pipe operator %>% I'll tend to use that syntax. I still use the other way sometimes, especially for short simple function calls. You are welcome to use either way. In the case for writing a csv file you can use dataframe_name %>% write_csv(\"myfile.csv\") or write_csv(dataframe_name, \"myfile.csv\")"
   ]
  },
  {
   "cell_type": "code",
   "execution_count": 7,
   "metadata": {},
   "outputs": [],
   "source": [
    "# Write a csv file\n",
    "# data: mpg \n",
    "# file: mpg.csv\n",
    "# Hint: write_csv()\n",
    "mpg %>% write_csv(\"mpg.csv\")"
   ]
  },
  {
   "cell_type": "markdown",
   "metadata": {},
   "source": [
    "There was no visible output if all went according to plan. It wrote the mpg dataframe to a file named mpg.csv in the current working directory. We should confirm that...but where is the current working directory. Let's find out."
   ]
  },
  {
   "cell_type": "code",
   "execution_count": 8,
   "metadata": {},
   "outputs": [],
   "source": [
    "# Display help on getwd()\n",
    "?getwd()"
   ]
  },
  {
   "cell_type": "markdown",
   "metadata": {},
   "source": [
    "# getwd {base}\tR Documentation\n",
    "Get or Set Working Directory\n",
    "## Description\n",
    "getwd returns an absolute filepath representing the current working directory of the R process; setwd(dir) is used to set the working directory to dir.\n",
    "\n",
    "## Usage\n",
    "getwd()\n",
    "setwd(dir)\n",
    "## Arguments\n",
    "dir\t- A character string: tilde expansion will be done.\n",
    "\n"
   ]
  },
  {
   "cell_type": "markdown",
   "metadata": {},
   "source": [
    "# getwd()\n",
    "Equipped with getwd(), let's find where R created this file. Unless we specify the full path when executing the write_csv() function, it will create the file in its current working directory. That is where we will find our file."
   ]
  },
  {
   "cell_type": "code",
   "execution_count": 9,
   "metadata": {},
   "outputs": [
    {
     "data": {
      "text/html": [
       "'/Users/dhaynes/Documents/Data_science/VisualizationsR'"
      ],
      "text/latex": [
       "'/Users/dhaynes/Documents/Data\\_science/VisualizationsR'"
      ],
      "text/markdown": [
       "'/Users/dhaynes/Documents/Data_science/VisualizationsR'"
      ],
      "text/plain": [
       "[1] \"/Users/dhaynes/Documents/Data_science/VisualizationsR\""
      ]
     },
     "metadata": {},
     "output_type": "display_data"
    }
   ],
   "source": [
    "# Display the current working directory\n",
    "# Hint: getwd()\n",
    "getwd()"
   ]
  },
  {
   "cell_type": "markdown",
   "metadata": {},
   "source": [
    "This resulted in a folder path which might be unfamiliar if you are running this notebook in a virtual cloud environment. Yours will...hopefully...be different than my result as we don't want to overwrite each other's files."
   ]
  },
  {
   "cell_type": "markdown",
   "metadata": {},
   "source": [
    "# Listing the contents of a directory\n",
    "Now that we know where our exported file is, it would be nice to see it somehow. The dir() command will display the files in a folder from within R. Let's check out its usage statement."
   ]
  },
  {
   "cell_type": "code",
   "execution_count": 10,
   "metadata": {},
   "outputs": [],
   "source": [
    "# Display help on dir()\n",
    "?dir()"
   ]
  },
  {
   "cell_type": "markdown",
   "metadata": {},
   "source": [
    "# list.files {base}\tR Documentation\n",
    "List the Files in a Directory/Folder\n",
    "## Description\n",
    "These functions produce a character vector of the names of files or directories in the named directory.\n",
    "\n",
    "## Usage\n",
    "list.files(path = \".\", pattern = NULL, all.files = FALSE,\n",
    "           full.names = FALSE, recursive = FALSE,\n",
    "           ignore.case = FALSE, include.dirs = FALSE, no.. = FALSE)\n",
    "\n",
    "       dir(path = \".\", pattern = NULL, all.files = FALSE,\n",
    "           full.names = FALSE, recursive = FALSE,\n",
    "           ignore.case = FALSE, include.dirs = FALSE, no.. = FALSE)\n",
    "\n",
    "list.dirs(path = \".\", full.names = TRUE, recursive = TRUE)\n",
    "## Arguments\n",
    "path\t- a character vector of full path names; the default corresponds to the working directory, getwd(). Tilde expansion (see path.expand) is performed. Missing values will be ignored.\n",
    "\n",
    "pattern\t- an optional regular expression. Only file names which match the regular expression will be returned.\n",
    "\n",
    "all.files\t- a logical value. If FALSE, only the names of visible files are returned. If TRUE, all file names will be returned.\n",
    "\n",
    "full.names\t- a logical value. If TRUE, the directory path is prepended to the file names to give a relative file path. If FALSE, the file names (rather than paths) are returned.\n",
    "\n",
    "recursive\t- logical. Should the listing recurse into directories?\n",
    "\n",
    "ignore.case\t- logical. Should pattern-matching be case-insensitive?\n",
    "\n",
    "include.dirs\t- logical. Should subdirectory names be included in recursive listings? (They always are in non-recursive ones).\n",
    "\n",
    "no..\t- logical. Should both \".\" and \"..\" be excluded also from non-recursive listings?"
   ]
  },
  {
   "cell_type": "markdown",
   "metadata": {},
   "source": [
    "How can something so simple be made so complex!! Don't worry, a simple dir() is all we need."
   ]
  },
  {
   "cell_type": "code",
   "execution_count": 11,
   "metadata": {},
   "outputs": [
    {
     "data": {
      "text/html": [
       "<ol class=list-inline>\n",
       "\t<li>'1-1.ipynb'</li>\n",
       "\t<li>'1-2.ipynb'</li>\n",
       "\t<li>'1.1.nb.html'</li>\n",
       "\t<li>'1.1.Rmd'</li>\n",
       "\t<li>'auto.csv'</li>\n",
       "\t<li>'L01-Assignment.ipynb'</li>\n",
       "\t<li>'L01-E2-Scatterplots.ipynb'</li>\n",
       "\t<li>'L02-Assignment_DHaynes.ipynb'</li>\n",
       "\t<li>'L02-E1-Trendlines.ipynb'</li>\n",
       "\t<li>'L02-E2-Overplotting.ipynb'</li>\n",
       "\t<li>'L02-E3-Categorical.ipynb'</li>\n",
       "\t<li>'L02-E4-Filtering.ipynb'</li>\n",
       "\t<li>'L02-E5-Piping.ipynb'</li>\n",
       "\t<li>'L02-E6-Select.ipynb'</li>\n",
       "\t<li>'L03-E1-ReadingFlatFiles.ipynb'</li>\n",
       "\t<li>'L03-E2-ReadingExcelFiles.ipynb'</li>\n",
       "\t<li>'L03-E3-ImportingFromInternet.ipynb'</li>\n",
       "\t<li>'L03-E4-SqlImport.ipynb'</li>\n",
       "\t<li>'L03-E5-DataTypeConversion.ipynb'</li>\n",
       "\t<li>'mpg.csv'</li>\n",
       "\t<li>'mtcars.csv'</li>\n",
       "\t<li>'mtcars.xls'</li>\n",
       "\t<li>'README.md'</li>\n",
       "\t<li>'Visualizations-RfoDataScience.R'</li>\n",
       "\t<li>'VisualizationsR'</li>\n",
       "</ol>\n"
      ],
      "text/latex": [
       "\\begin{enumerate*}\n",
       "\\item '1-1.ipynb'\n",
       "\\item '1-2.ipynb'\n",
       "\\item '1.1.nb.html'\n",
       "\\item '1.1.Rmd'\n",
       "\\item 'auto.csv'\n",
       "\\item 'L01-Assignment.ipynb'\n",
       "\\item 'L01-E2-Scatterplots.ipynb'\n",
       "\\item 'L02-Assignment\\_DHaynes.ipynb'\n",
       "\\item 'L02-E1-Trendlines.ipynb'\n",
       "\\item 'L02-E2-Overplotting.ipynb'\n",
       "\\item 'L02-E3-Categorical.ipynb'\n",
       "\\item 'L02-E4-Filtering.ipynb'\n",
       "\\item 'L02-E5-Piping.ipynb'\n",
       "\\item 'L02-E6-Select.ipynb'\n",
       "\\item 'L03-E1-ReadingFlatFiles.ipynb'\n",
       "\\item 'L03-E2-ReadingExcelFiles.ipynb'\n",
       "\\item 'L03-E3-ImportingFromInternet.ipynb'\n",
       "\\item 'L03-E4-SqlImport.ipynb'\n",
       "\\item 'L03-E5-DataTypeConversion.ipynb'\n",
       "\\item 'mpg.csv'\n",
       "\\item 'mtcars.csv'\n",
       "\\item 'mtcars.xls'\n",
       "\\item 'README.md'\n",
       "\\item 'Visualizations-RfoDataScience.R'\n",
       "\\item 'VisualizationsR'\n",
       "\\end{enumerate*}\n"
      ],
      "text/markdown": [
       "1. '1-1.ipynb'\n",
       "2. '1-2.ipynb'\n",
       "3. '1.1.nb.html'\n",
       "4. '1.1.Rmd'\n",
       "5. 'auto.csv'\n",
       "6. 'L01-Assignment.ipynb'\n",
       "7. 'L01-E2-Scatterplots.ipynb'\n",
       "8. 'L02-Assignment_DHaynes.ipynb'\n",
       "9. 'L02-E1-Trendlines.ipynb'\n",
       "10. 'L02-E2-Overplotting.ipynb'\n",
       "11. 'L02-E3-Categorical.ipynb'\n",
       "12. 'L02-E4-Filtering.ipynb'\n",
       "13. 'L02-E5-Piping.ipynb'\n",
       "14. 'L02-E6-Select.ipynb'\n",
       "15. 'L03-E1-ReadingFlatFiles.ipynb'\n",
       "16. 'L03-E2-ReadingExcelFiles.ipynb'\n",
       "17. 'L03-E3-ImportingFromInternet.ipynb'\n",
       "18. 'L03-E4-SqlImport.ipynb'\n",
       "19. 'L03-E5-DataTypeConversion.ipynb'\n",
       "20. 'mpg.csv'\n",
       "21. 'mtcars.csv'\n",
       "22. 'mtcars.xls'\n",
       "23. 'README.md'\n",
       "24. 'Visualizations-RfoDataScience.R'\n",
       "25. 'VisualizationsR'\n",
       "\n",
       "\n"
      ],
      "text/plain": [
       " [1] \"1-1.ipynb\"                          \"1-2.ipynb\"                         \n",
       " [3] \"1.1.nb.html\"                        \"1.1.Rmd\"                           \n",
       " [5] \"auto.csv\"                           \"L01-Assignment.ipynb\"              \n",
       " [7] \"L01-E2-Scatterplots.ipynb\"          \"L02-Assignment_DHaynes.ipynb\"      \n",
       " [9] \"L02-E1-Trendlines.ipynb\"            \"L02-E2-Overplotting.ipynb\"         \n",
       "[11] \"L02-E3-Categorical.ipynb\"           \"L02-E4-Filtering.ipynb\"            \n",
       "[13] \"L02-E5-Piping.ipynb\"                \"L02-E6-Select.ipynb\"               \n",
       "[15] \"L03-E1-ReadingFlatFiles.ipynb\"      \"L03-E2-ReadingExcelFiles.ipynb\"    \n",
       "[17] \"L03-E3-ImportingFromInternet.ipynb\" \"L03-E4-SqlImport.ipynb\"            \n",
       "[19] \"L03-E5-DataTypeConversion.ipynb\"    \"mpg.csv\"                           \n",
       "[21] \"mtcars.csv\"                         \"mtcars.xls\"                        \n",
       "[23] \"README.md\"                          \"Visualizations-RfoDataScience.R\"   \n",
       "[25] \"VisualizationsR\"                   "
      ]
     },
     "metadata": {},
     "output_type": "display_data"
    }
   ],
   "source": [
    "# Let's list the files in the \n",
    "# current working directory\n",
    "# Hint: dir()\n",
    "dir()"
   ]
  },
  {
   "cell_type": "markdown",
   "metadata": {},
   "source": [
    "Notice that mpg.csv should be listed in there."
   ]
  },
  {
   "cell_type": "markdown",
   "metadata": {},
   "source": [
    "# write_tsv()\n",
    "Let's do the same thing with tsv."
   ]
  },
  {
   "cell_type": "code",
   "execution_count": 13,
   "metadata": {},
   "outputs": [
    {
     "data": {
      "text/html": [
       "<ol class=list-inline>\n",
       "\t<li>'1-1.ipynb'</li>\n",
       "\t<li>'1-2.ipynb'</li>\n",
       "\t<li>'1.1.nb.html'</li>\n",
       "\t<li>'1.1.Rmd'</li>\n",
       "\t<li>'auto.csv'</li>\n",
       "\t<li>'L01-Assignment.ipynb'</li>\n",
       "\t<li>'L01-E2-Scatterplots.ipynb'</li>\n",
       "\t<li>'L02-Assignment_DHaynes.ipynb'</li>\n",
       "\t<li>'L02-E1-Trendlines.ipynb'</li>\n",
       "\t<li>'L02-E2-Overplotting.ipynb'</li>\n",
       "\t<li>'L02-E3-Categorical.ipynb'</li>\n",
       "\t<li>'L02-E4-Filtering.ipynb'</li>\n",
       "\t<li>'L02-E5-Piping.ipynb'</li>\n",
       "\t<li>'L02-E6-Select.ipynb'</li>\n",
       "\t<li>'L03-E1-ReadingFlatFiles.ipynb'</li>\n",
       "\t<li>'L03-E2-ReadingExcelFiles.ipynb'</li>\n",
       "\t<li>'L03-E3-ImportingFromInternet.ipynb'</li>\n",
       "\t<li>'L03-E4-SqlImport.ipynb'</li>\n",
       "\t<li>'L03-E5-DataTypeConversion.ipynb'</li>\n",
       "\t<li>'mpg.csv'</li>\n",
       "\t<li>'mpg.tsv'</li>\n",
       "\t<li>'mtcars.csv'</li>\n",
       "\t<li>'mtcars.xls'</li>\n",
       "\t<li>'README.md'</li>\n",
       "\t<li>'Visualizations-RfoDataScience.R'</li>\n",
       "\t<li>'VisualizationsR'</li>\n",
       "</ol>\n"
      ],
      "text/latex": [
       "\\begin{enumerate*}\n",
       "\\item '1-1.ipynb'\n",
       "\\item '1-2.ipynb'\n",
       "\\item '1.1.nb.html'\n",
       "\\item '1.1.Rmd'\n",
       "\\item 'auto.csv'\n",
       "\\item 'L01-Assignment.ipynb'\n",
       "\\item 'L01-E2-Scatterplots.ipynb'\n",
       "\\item 'L02-Assignment\\_DHaynes.ipynb'\n",
       "\\item 'L02-E1-Trendlines.ipynb'\n",
       "\\item 'L02-E2-Overplotting.ipynb'\n",
       "\\item 'L02-E3-Categorical.ipynb'\n",
       "\\item 'L02-E4-Filtering.ipynb'\n",
       "\\item 'L02-E5-Piping.ipynb'\n",
       "\\item 'L02-E6-Select.ipynb'\n",
       "\\item 'L03-E1-ReadingFlatFiles.ipynb'\n",
       "\\item 'L03-E2-ReadingExcelFiles.ipynb'\n",
       "\\item 'L03-E3-ImportingFromInternet.ipynb'\n",
       "\\item 'L03-E4-SqlImport.ipynb'\n",
       "\\item 'L03-E5-DataTypeConversion.ipynb'\n",
       "\\item 'mpg.csv'\n",
       "\\item 'mpg.tsv'\n",
       "\\item 'mtcars.csv'\n",
       "\\item 'mtcars.xls'\n",
       "\\item 'README.md'\n",
       "\\item 'Visualizations-RfoDataScience.R'\n",
       "\\item 'VisualizationsR'\n",
       "\\end{enumerate*}\n"
      ],
      "text/markdown": [
       "1. '1-1.ipynb'\n",
       "2. '1-2.ipynb'\n",
       "3. '1.1.nb.html'\n",
       "4. '1.1.Rmd'\n",
       "5. 'auto.csv'\n",
       "6. 'L01-Assignment.ipynb'\n",
       "7. 'L01-E2-Scatterplots.ipynb'\n",
       "8. 'L02-Assignment_DHaynes.ipynb'\n",
       "9. 'L02-E1-Trendlines.ipynb'\n",
       "10. 'L02-E2-Overplotting.ipynb'\n",
       "11. 'L02-E3-Categorical.ipynb'\n",
       "12. 'L02-E4-Filtering.ipynb'\n",
       "13. 'L02-E5-Piping.ipynb'\n",
       "14. 'L02-E6-Select.ipynb'\n",
       "15. 'L03-E1-ReadingFlatFiles.ipynb'\n",
       "16. 'L03-E2-ReadingExcelFiles.ipynb'\n",
       "17. 'L03-E3-ImportingFromInternet.ipynb'\n",
       "18. 'L03-E4-SqlImport.ipynb'\n",
       "19. 'L03-E5-DataTypeConversion.ipynb'\n",
       "20. 'mpg.csv'\n",
       "21. 'mpg.tsv'\n",
       "22. 'mtcars.csv'\n",
       "23. 'mtcars.xls'\n",
       "24. 'README.md'\n",
       "25. 'Visualizations-RfoDataScience.R'\n",
       "26. 'VisualizationsR'\n",
       "\n",
       "\n"
      ],
      "text/plain": [
       " [1] \"1-1.ipynb\"                          \"1-2.ipynb\"                         \n",
       " [3] \"1.1.nb.html\"                        \"1.1.Rmd\"                           \n",
       " [5] \"auto.csv\"                           \"L01-Assignment.ipynb\"              \n",
       " [7] \"L01-E2-Scatterplots.ipynb\"          \"L02-Assignment_DHaynes.ipynb\"      \n",
       " [9] \"L02-E1-Trendlines.ipynb\"            \"L02-E2-Overplotting.ipynb\"         \n",
       "[11] \"L02-E3-Categorical.ipynb\"           \"L02-E4-Filtering.ipynb\"            \n",
       "[13] \"L02-E5-Piping.ipynb\"                \"L02-E6-Select.ipynb\"               \n",
       "[15] \"L03-E1-ReadingFlatFiles.ipynb\"      \"L03-E2-ReadingExcelFiles.ipynb\"    \n",
       "[17] \"L03-E3-ImportingFromInternet.ipynb\" \"L03-E4-SqlImport.ipynb\"            \n",
       "[19] \"L03-E5-DataTypeConversion.ipynb\"    \"mpg.csv\"                           \n",
       "[21] \"mpg.tsv\"                            \"mtcars.csv\"                        \n",
       "[23] \"mtcars.xls\"                         \"README.md\"                         \n",
       "[25] \"Visualizations-RfoDataScience.R\"    \"VisualizationsR\"                   "
      ]
     },
     "metadata": {},
     "output_type": "display_data"
    }
   ],
   "source": [
    "# Now write it as a tsv file\n",
    "# Make sure the file extension is tsv\n",
    "# data: mpg \n",
    "# file: mpg.tsv\n",
    "# Hint: write_tsv()\n",
    "mpg %>% write_tsv(\"mpg.tsv\")\n",
    "\n",
    "# Confirm that the file is listed in the current working directory\n",
    "# Hint: dir()\n",
    "dir()"
   ]
  },
  {
   "cell_type": "markdown",
   "metadata": {},
   "source": [
    "Confirm that mpg.tsv is one of the files listed."
   ]
  },
  {
   "cell_type": "markdown",
   "metadata": {},
   "source": [
    "# read_csv()\n",
    "Now that we have some files of known data to experiment on, let's read them in."
   ]
  },
  {
   "cell_type": "code",
   "execution_count": 15,
   "metadata": {},
   "outputs": [
    {
     "name": "stderr",
     "output_type": "stream",
     "text": [
      "Parsed with column specification:\n",
      "cols(\n",
      "  manufacturer = \u001b[31mcol_character()\u001b[39m,\n",
      "  model = \u001b[31mcol_character()\u001b[39m,\n",
      "  displ = \u001b[32mcol_double()\u001b[39m,\n",
      "  year = \u001b[32mcol_double()\u001b[39m,\n",
      "  cyl = \u001b[32mcol_double()\u001b[39m,\n",
      "  trans = \u001b[31mcol_character()\u001b[39m,\n",
      "  drv = \u001b[31mcol_character()\u001b[39m,\n",
      "  cty = \u001b[32mcol_double()\u001b[39m,\n",
      "  hwy = \u001b[32mcol_double()\u001b[39m,\n",
      "  fl = \u001b[31mcol_character()\u001b[39m,\n",
      "  class = \u001b[31mcol_character()\u001b[39m\n",
      ")\n"
     ]
    },
    {
     "data": {
      "text/html": [
       "<table>\n",
       "<caption>A spec_tbl_df: 234 × 11</caption>\n",
       "<thead>\n",
       "\t<tr><th scope=col>manufacturer</th><th scope=col>model</th><th scope=col>displ</th><th scope=col>year</th><th scope=col>cyl</th><th scope=col>trans</th><th scope=col>drv</th><th scope=col>cty</th><th scope=col>hwy</th><th scope=col>fl</th><th scope=col>class</th></tr>\n",
       "\t<tr><th scope=col>&lt;chr&gt;</th><th scope=col>&lt;chr&gt;</th><th scope=col>&lt;dbl&gt;</th><th scope=col>&lt;dbl&gt;</th><th scope=col>&lt;dbl&gt;</th><th scope=col>&lt;chr&gt;</th><th scope=col>&lt;chr&gt;</th><th scope=col>&lt;dbl&gt;</th><th scope=col>&lt;dbl&gt;</th><th scope=col>&lt;chr&gt;</th><th scope=col>&lt;chr&gt;</th></tr>\n",
       "</thead>\n",
       "<tbody>\n",
       "\t<tr><td>audi     </td><td>a4                </td><td>1.8</td><td>1999</td><td>4</td><td>auto(l5)  </td><td>f</td><td>18</td><td>29</td><td>p</td><td>compact</td></tr>\n",
       "\t<tr><td>audi     </td><td>a4                </td><td>1.8</td><td>1999</td><td>4</td><td>manual(m5)</td><td>f</td><td>21</td><td>29</td><td>p</td><td>compact</td></tr>\n",
       "\t<tr><td>audi     </td><td>a4                </td><td>2.0</td><td>2008</td><td>4</td><td>manual(m6)</td><td>f</td><td>20</td><td>31</td><td>p</td><td>compact</td></tr>\n",
       "\t<tr><td>audi     </td><td>a4                </td><td>2.0</td><td>2008</td><td>4</td><td>auto(av)  </td><td>f</td><td>21</td><td>30</td><td>p</td><td>compact</td></tr>\n",
       "\t<tr><td>audi     </td><td>a4                </td><td>2.8</td><td>1999</td><td>6</td><td>auto(l5)  </td><td>f</td><td>16</td><td>26</td><td>p</td><td>compact</td></tr>\n",
       "\t<tr><td>audi     </td><td>a4                </td><td>2.8</td><td>1999</td><td>6</td><td>manual(m5)</td><td>f</td><td>18</td><td>26</td><td>p</td><td>compact</td></tr>\n",
       "\t<tr><td>audi     </td><td>a4                </td><td>3.1</td><td>2008</td><td>6</td><td>auto(av)  </td><td>f</td><td>18</td><td>27</td><td>p</td><td>compact</td></tr>\n",
       "\t<tr><td>audi     </td><td>a4 quattro        </td><td>1.8</td><td>1999</td><td>4</td><td>manual(m5)</td><td>4</td><td>18</td><td>26</td><td>p</td><td>compact</td></tr>\n",
       "\t<tr><td>audi     </td><td>a4 quattro        </td><td>1.8</td><td>1999</td><td>4</td><td>auto(l5)  </td><td>4</td><td>16</td><td>25</td><td>p</td><td>compact</td></tr>\n",
       "\t<tr><td>audi     </td><td>a4 quattro        </td><td>2.0</td><td>2008</td><td>4</td><td>manual(m6)</td><td>4</td><td>20</td><td>28</td><td>p</td><td>compact</td></tr>\n",
       "\t<tr><td>audi     </td><td>a4 quattro        </td><td>2.0</td><td>2008</td><td>4</td><td>auto(s6)  </td><td>4</td><td>19</td><td>27</td><td>p</td><td>compact</td></tr>\n",
       "\t<tr><td>audi     </td><td>a4 quattro        </td><td>2.8</td><td>1999</td><td>6</td><td>auto(l5)  </td><td>4</td><td>15</td><td>25</td><td>p</td><td>compact</td></tr>\n",
       "\t<tr><td>audi     </td><td>a4 quattro        </td><td>2.8</td><td>1999</td><td>6</td><td>manual(m5)</td><td>4</td><td>17</td><td>25</td><td>p</td><td>compact</td></tr>\n",
       "\t<tr><td>audi     </td><td>a4 quattro        </td><td>3.1</td><td>2008</td><td>6</td><td>auto(s6)  </td><td>4</td><td>17</td><td>25</td><td>p</td><td>compact</td></tr>\n",
       "\t<tr><td>audi     </td><td>a4 quattro        </td><td>3.1</td><td>2008</td><td>6</td><td>manual(m6)</td><td>4</td><td>15</td><td>25</td><td>p</td><td>compact</td></tr>\n",
       "\t<tr><td>audi     </td><td>a6 quattro        </td><td>2.8</td><td>1999</td><td>6</td><td>auto(l5)  </td><td>4</td><td>15</td><td>24</td><td>p</td><td>midsize</td></tr>\n",
       "\t<tr><td>audi     </td><td>a6 quattro        </td><td>3.1</td><td>2008</td><td>6</td><td>auto(s6)  </td><td>4</td><td>17</td><td>25</td><td>p</td><td>midsize</td></tr>\n",
       "\t<tr><td>audi     </td><td>a6 quattro        </td><td>4.2</td><td>2008</td><td>8</td><td>auto(s6)  </td><td>4</td><td>16</td><td>23</td><td>p</td><td>midsize</td></tr>\n",
       "\t<tr><td>chevrolet</td><td>c1500 suburban 2wd</td><td>5.3</td><td>2008</td><td>8</td><td>auto(l4)  </td><td>r</td><td>14</td><td>20</td><td>r</td><td>suv    </td></tr>\n",
       "\t<tr><td>chevrolet</td><td>c1500 suburban 2wd</td><td>5.3</td><td>2008</td><td>8</td><td>auto(l4)  </td><td>r</td><td>11</td><td>15</td><td>e</td><td>suv    </td></tr>\n",
       "\t<tr><td>chevrolet</td><td>c1500 suburban 2wd</td><td>5.3</td><td>2008</td><td>8</td><td>auto(l4)  </td><td>r</td><td>14</td><td>20</td><td>r</td><td>suv    </td></tr>\n",
       "\t<tr><td>chevrolet</td><td>c1500 suburban 2wd</td><td>5.7</td><td>1999</td><td>8</td><td>auto(l4)  </td><td>r</td><td>13</td><td>17</td><td>r</td><td>suv    </td></tr>\n",
       "\t<tr><td>chevrolet</td><td>c1500 suburban 2wd</td><td>6.0</td><td>2008</td><td>8</td><td>auto(l4)  </td><td>r</td><td>12</td><td>17</td><td>r</td><td>suv    </td></tr>\n",
       "\t<tr><td>chevrolet</td><td>corvette          </td><td>5.7</td><td>1999</td><td>8</td><td>manual(m6)</td><td>r</td><td>16</td><td>26</td><td>p</td><td>2seater</td></tr>\n",
       "\t<tr><td>chevrolet</td><td>corvette          </td><td>5.7</td><td>1999</td><td>8</td><td>auto(l4)  </td><td>r</td><td>15</td><td>23</td><td>p</td><td>2seater</td></tr>\n",
       "\t<tr><td>chevrolet</td><td>corvette          </td><td>6.2</td><td>2008</td><td>8</td><td>manual(m6)</td><td>r</td><td>16</td><td>26</td><td>p</td><td>2seater</td></tr>\n",
       "\t<tr><td>chevrolet</td><td>corvette          </td><td>6.2</td><td>2008</td><td>8</td><td>auto(s6)  </td><td>r</td><td>15</td><td>25</td><td>p</td><td>2seater</td></tr>\n",
       "\t<tr><td>chevrolet</td><td>corvette          </td><td>7.0</td><td>2008</td><td>8</td><td>manual(m6)</td><td>r</td><td>15</td><td>24</td><td>p</td><td>2seater</td></tr>\n",
       "\t<tr><td>chevrolet</td><td>k1500 tahoe 4wd   </td><td>5.3</td><td>2008</td><td>8</td><td>auto(l4)  </td><td>4</td><td>14</td><td>19</td><td>r</td><td>suv    </td></tr>\n",
       "\t<tr><td>chevrolet</td><td>k1500 tahoe 4wd   </td><td>5.3</td><td>2008</td><td>8</td><td>auto(l4)  </td><td>4</td><td>11</td><td>14</td><td>e</td><td>suv    </td></tr>\n",
       "\t<tr><td>⋮</td><td>⋮</td><td>⋮</td><td>⋮</td><td>⋮</td><td>⋮</td><td>⋮</td><td>⋮</td><td>⋮</td><td>⋮</td><td>⋮</td></tr>\n",
       "\t<tr><td>toyota    </td><td>toyota tacoma 4wd</td><td>3.4</td><td>1999</td><td>6</td><td>auto(l4)  </td><td>4</td><td>15</td><td>19</td><td>r</td><td>pickup    </td></tr>\n",
       "\t<tr><td>toyota    </td><td>toyota tacoma 4wd</td><td>4.0</td><td>2008</td><td>6</td><td>manual(m6)</td><td>4</td><td>15</td><td>18</td><td>r</td><td>pickup    </td></tr>\n",
       "\t<tr><td>toyota    </td><td>toyota tacoma 4wd</td><td>4.0</td><td>2008</td><td>6</td><td>auto(l5)  </td><td>4</td><td>16</td><td>20</td><td>r</td><td>pickup    </td></tr>\n",
       "\t<tr><td>volkswagen</td><td>gti              </td><td>2.0</td><td>1999</td><td>4</td><td>manual(m5)</td><td>f</td><td>21</td><td>29</td><td>r</td><td>compact   </td></tr>\n",
       "\t<tr><td>volkswagen</td><td>gti              </td><td>2.0</td><td>1999</td><td>4</td><td>auto(l4)  </td><td>f</td><td>19</td><td>26</td><td>r</td><td>compact   </td></tr>\n",
       "\t<tr><td>volkswagen</td><td>gti              </td><td>2.0</td><td>2008</td><td>4</td><td>manual(m6)</td><td>f</td><td>21</td><td>29</td><td>p</td><td>compact   </td></tr>\n",
       "\t<tr><td>volkswagen</td><td>gti              </td><td>2.0</td><td>2008</td><td>4</td><td>auto(s6)  </td><td>f</td><td>22</td><td>29</td><td>p</td><td>compact   </td></tr>\n",
       "\t<tr><td>volkswagen</td><td>gti              </td><td>2.8</td><td>1999</td><td>6</td><td>manual(m5)</td><td>f</td><td>17</td><td>24</td><td>r</td><td>compact   </td></tr>\n",
       "\t<tr><td>volkswagen</td><td>jetta            </td><td>1.9</td><td>1999</td><td>4</td><td>manual(m5)</td><td>f</td><td>33</td><td>44</td><td>d</td><td>compact   </td></tr>\n",
       "\t<tr><td>volkswagen</td><td>jetta            </td><td>2.0</td><td>1999</td><td>4</td><td>manual(m5)</td><td>f</td><td>21</td><td>29</td><td>r</td><td>compact   </td></tr>\n",
       "\t<tr><td>volkswagen</td><td>jetta            </td><td>2.0</td><td>1999</td><td>4</td><td>auto(l4)  </td><td>f</td><td>19</td><td>26</td><td>r</td><td>compact   </td></tr>\n",
       "\t<tr><td>volkswagen</td><td>jetta            </td><td>2.0</td><td>2008</td><td>4</td><td>auto(s6)  </td><td>f</td><td>22</td><td>29</td><td>p</td><td>compact   </td></tr>\n",
       "\t<tr><td>volkswagen</td><td>jetta            </td><td>2.0</td><td>2008</td><td>4</td><td>manual(m6)</td><td>f</td><td>21</td><td>29</td><td>p</td><td>compact   </td></tr>\n",
       "\t<tr><td>volkswagen</td><td>jetta            </td><td>2.5</td><td>2008</td><td>5</td><td>auto(s6)  </td><td>f</td><td>21</td><td>29</td><td>r</td><td>compact   </td></tr>\n",
       "\t<tr><td>volkswagen</td><td>jetta            </td><td>2.5</td><td>2008</td><td>5</td><td>manual(m5)</td><td>f</td><td>21</td><td>29</td><td>r</td><td>compact   </td></tr>\n",
       "\t<tr><td>volkswagen</td><td>jetta            </td><td>2.8</td><td>1999</td><td>6</td><td>auto(l4)  </td><td>f</td><td>16</td><td>23</td><td>r</td><td>compact   </td></tr>\n",
       "\t<tr><td>volkswagen</td><td>jetta            </td><td>2.8</td><td>1999</td><td>6</td><td>manual(m5)</td><td>f</td><td>17</td><td>24</td><td>r</td><td>compact   </td></tr>\n",
       "\t<tr><td>volkswagen</td><td>new beetle       </td><td>1.9</td><td>1999</td><td>4</td><td>manual(m5)</td><td>f</td><td>35</td><td>44</td><td>d</td><td>subcompact</td></tr>\n",
       "\t<tr><td>volkswagen</td><td>new beetle       </td><td>1.9</td><td>1999</td><td>4</td><td>auto(l4)  </td><td>f</td><td>29</td><td>41</td><td>d</td><td>subcompact</td></tr>\n",
       "\t<tr><td>volkswagen</td><td>new beetle       </td><td>2.0</td><td>1999</td><td>4</td><td>manual(m5)</td><td>f</td><td>21</td><td>29</td><td>r</td><td>subcompact</td></tr>\n",
       "\t<tr><td>volkswagen</td><td>new beetle       </td><td>2.0</td><td>1999</td><td>4</td><td>auto(l4)  </td><td>f</td><td>19</td><td>26</td><td>r</td><td>subcompact</td></tr>\n",
       "\t<tr><td>volkswagen</td><td>new beetle       </td><td>2.5</td><td>2008</td><td>5</td><td>manual(m5)</td><td>f</td><td>20</td><td>28</td><td>r</td><td>subcompact</td></tr>\n",
       "\t<tr><td>volkswagen</td><td>new beetle       </td><td>2.5</td><td>2008</td><td>5</td><td>auto(s6)  </td><td>f</td><td>20</td><td>29</td><td>r</td><td>subcompact</td></tr>\n",
       "\t<tr><td>volkswagen</td><td>passat           </td><td>1.8</td><td>1999</td><td>4</td><td>manual(m5)</td><td>f</td><td>21</td><td>29</td><td>p</td><td>midsize   </td></tr>\n",
       "\t<tr><td>volkswagen</td><td>passat           </td><td>1.8</td><td>1999</td><td>4</td><td>auto(l5)  </td><td>f</td><td>18</td><td>29</td><td>p</td><td>midsize   </td></tr>\n",
       "\t<tr><td>volkswagen</td><td>passat           </td><td>2.0</td><td>2008</td><td>4</td><td>auto(s6)  </td><td>f</td><td>19</td><td>28</td><td>p</td><td>midsize   </td></tr>\n",
       "\t<tr><td>volkswagen</td><td>passat           </td><td>2.0</td><td>2008</td><td>4</td><td>manual(m6)</td><td>f</td><td>21</td><td>29</td><td>p</td><td>midsize   </td></tr>\n",
       "\t<tr><td>volkswagen</td><td>passat           </td><td>2.8</td><td>1999</td><td>6</td><td>auto(l5)  </td><td>f</td><td>16</td><td>26</td><td>p</td><td>midsize   </td></tr>\n",
       "\t<tr><td>volkswagen</td><td>passat           </td><td>2.8</td><td>1999</td><td>6</td><td>manual(m5)</td><td>f</td><td>18</td><td>26</td><td>p</td><td>midsize   </td></tr>\n",
       "\t<tr><td>volkswagen</td><td>passat           </td><td>3.6</td><td>2008</td><td>6</td><td>auto(s6)  </td><td>f</td><td>17</td><td>26</td><td>p</td><td>midsize   </td></tr>\n",
       "</tbody>\n",
       "</table>\n"
      ],
      "text/latex": [
       "A spec_tbl_df: 234 × 11\n",
       "\\begin{tabular}{r|lllllllllll}\n",
       " manufacturer & model & displ & year & cyl & trans & drv & cty & hwy & fl & class\\\\\n",
       " <chr> & <chr> & <dbl> & <dbl> & <dbl> & <chr> & <chr> & <dbl> & <dbl> & <chr> & <chr>\\\\\n",
       "\\hline\n",
       "\t audi      & a4                 & 1.8 & 1999 & 4 & auto(l5)   & f & 18 & 29 & p & compact\\\\\n",
       "\t audi      & a4                 & 1.8 & 1999 & 4 & manual(m5) & f & 21 & 29 & p & compact\\\\\n",
       "\t audi      & a4                 & 2.0 & 2008 & 4 & manual(m6) & f & 20 & 31 & p & compact\\\\\n",
       "\t audi      & a4                 & 2.0 & 2008 & 4 & auto(av)   & f & 21 & 30 & p & compact\\\\\n",
       "\t audi      & a4                 & 2.8 & 1999 & 6 & auto(l5)   & f & 16 & 26 & p & compact\\\\\n",
       "\t audi      & a4                 & 2.8 & 1999 & 6 & manual(m5) & f & 18 & 26 & p & compact\\\\\n",
       "\t audi      & a4                 & 3.1 & 2008 & 6 & auto(av)   & f & 18 & 27 & p & compact\\\\\n",
       "\t audi      & a4 quattro         & 1.8 & 1999 & 4 & manual(m5) & 4 & 18 & 26 & p & compact\\\\\n",
       "\t audi      & a4 quattro         & 1.8 & 1999 & 4 & auto(l5)   & 4 & 16 & 25 & p & compact\\\\\n",
       "\t audi      & a4 quattro         & 2.0 & 2008 & 4 & manual(m6) & 4 & 20 & 28 & p & compact\\\\\n",
       "\t audi      & a4 quattro         & 2.0 & 2008 & 4 & auto(s6)   & 4 & 19 & 27 & p & compact\\\\\n",
       "\t audi      & a4 quattro         & 2.8 & 1999 & 6 & auto(l5)   & 4 & 15 & 25 & p & compact\\\\\n",
       "\t audi      & a4 quattro         & 2.8 & 1999 & 6 & manual(m5) & 4 & 17 & 25 & p & compact\\\\\n",
       "\t audi      & a4 quattro         & 3.1 & 2008 & 6 & auto(s6)   & 4 & 17 & 25 & p & compact\\\\\n",
       "\t audi      & a4 quattro         & 3.1 & 2008 & 6 & manual(m6) & 4 & 15 & 25 & p & compact\\\\\n",
       "\t audi      & a6 quattro         & 2.8 & 1999 & 6 & auto(l5)   & 4 & 15 & 24 & p & midsize\\\\\n",
       "\t audi      & a6 quattro         & 3.1 & 2008 & 6 & auto(s6)   & 4 & 17 & 25 & p & midsize\\\\\n",
       "\t audi      & a6 quattro         & 4.2 & 2008 & 8 & auto(s6)   & 4 & 16 & 23 & p & midsize\\\\\n",
       "\t chevrolet & c1500 suburban 2wd & 5.3 & 2008 & 8 & auto(l4)   & r & 14 & 20 & r & suv    \\\\\n",
       "\t chevrolet & c1500 suburban 2wd & 5.3 & 2008 & 8 & auto(l4)   & r & 11 & 15 & e & suv    \\\\\n",
       "\t chevrolet & c1500 suburban 2wd & 5.3 & 2008 & 8 & auto(l4)   & r & 14 & 20 & r & suv    \\\\\n",
       "\t chevrolet & c1500 suburban 2wd & 5.7 & 1999 & 8 & auto(l4)   & r & 13 & 17 & r & suv    \\\\\n",
       "\t chevrolet & c1500 suburban 2wd & 6.0 & 2008 & 8 & auto(l4)   & r & 12 & 17 & r & suv    \\\\\n",
       "\t chevrolet & corvette           & 5.7 & 1999 & 8 & manual(m6) & r & 16 & 26 & p & 2seater\\\\\n",
       "\t chevrolet & corvette           & 5.7 & 1999 & 8 & auto(l4)   & r & 15 & 23 & p & 2seater\\\\\n",
       "\t chevrolet & corvette           & 6.2 & 2008 & 8 & manual(m6) & r & 16 & 26 & p & 2seater\\\\\n",
       "\t chevrolet & corvette           & 6.2 & 2008 & 8 & auto(s6)   & r & 15 & 25 & p & 2seater\\\\\n",
       "\t chevrolet & corvette           & 7.0 & 2008 & 8 & manual(m6) & r & 15 & 24 & p & 2seater\\\\\n",
       "\t chevrolet & k1500 tahoe 4wd    & 5.3 & 2008 & 8 & auto(l4)   & 4 & 14 & 19 & r & suv    \\\\\n",
       "\t chevrolet & k1500 tahoe 4wd    & 5.3 & 2008 & 8 & auto(l4)   & 4 & 11 & 14 & e & suv    \\\\\n",
       "\t ⋮ & ⋮ & ⋮ & ⋮ & ⋮ & ⋮ & ⋮ & ⋮ & ⋮ & ⋮ & ⋮\\\\\n",
       "\t toyota     & toyota tacoma 4wd & 3.4 & 1999 & 6 & auto(l4)   & 4 & 15 & 19 & r & pickup    \\\\\n",
       "\t toyota     & toyota tacoma 4wd & 4.0 & 2008 & 6 & manual(m6) & 4 & 15 & 18 & r & pickup    \\\\\n",
       "\t toyota     & toyota tacoma 4wd & 4.0 & 2008 & 6 & auto(l5)   & 4 & 16 & 20 & r & pickup    \\\\\n",
       "\t volkswagen & gti               & 2.0 & 1999 & 4 & manual(m5) & f & 21 & 29 & r & compact   \\\\\n",
       "\t volkswagen & gti               & 2.0 & 1999 & 4 & auto(l4)   & f & 19 & 26 & r & compact   \\\\\n",
       "\t volkswagen & gti               & 2.0 & 2008 & 4 & manual(m6) & f & 21 & 29 & p & compact   \\\\\n",
       "\t volkswagen & gti               & 2.0 & 2008 & 4 & auto(s6)   & f & 22 & 29 & p & compact   \\\\\n",
       "\t volkswagen & gti               & 2.8 & 1999 & 6 & manual(m5) & f & 17 & 24 & r & compact   \\\\\n",
       "\t volkswagen & jetta             & 1.9 & 1999 & 4 & manual(m5) & f & 33 & 44 & d & compact   \\\\\n",
       "\t volkswagen & jetta             & 2.0 & 1999 & 4 & manual(m5) & f & 21 & 29 & r & compact   \\\\\n",
       "\t volkswagen & jetta             & 2.0 & 1999 & 4 & auto(l4)   & f & 19 & 26 & r & compact   \\\\\n",
       "\t volkswagen & jetta             & 2.0 & 2008 & 4 & auto(s6)   & f & 22 & 29 & p & compact   \\\\\n",
       "\t volkswagen & jetta             & 2.0 & 2008 & 4 & manual(m6) & f & 21 & 29 & p & compact   \\\\\n",
       "\t volkswagen & jetta             & 2.5 & 2008 & 5 & auto(s6)   & f & 21 & 29 & r & compact   \\\\\n",
       "\t volkswagen & jetta             & 2.5 & 2008 & 5 & manual(m5) & f & 21 & 29 & r & compact   \\\\\n",
       "\t volkswagen & jetta             & 2.8 & 1999 & 6 & auto(l4)   & f & 16 & 23 & r & compact   \\\\\n",
       "\t volkswagen & jetta             & 2.8 & 1999 & 6 & manual(m5) & f & 17 & 24 & r & compact   \\\\\n",
       "\t volkswagen & new beetle        & 1.9 & 1999 & 4 & manual(m5) & f & 35 & 44 & d & subcompact\\\\\n",
       "\t volkswagen & new beetle        & 1.9 & 1999 & 4 & auto(l4)   & f & 29 & 41 & d & subcompact\\\\\n",
       "\t volkswagen & new beetle        & 2.0 & 1999 & 4 & manual(m5) & f & 21 & 29 & r & subcompact\\\\\n",
       "\t volkswagen & new beetle        & 2.0 & 1999 & 4 & auto(l4)   & f & 19 & 26 & r & subcompact\\\\\n",
       "\t volkswagen & new beetle        & 2.5 & 2008 & 5 & manual(m5) & f & 20 & 28 & r & subcompact\\\\\n",
       "\t volkswagen & new beetle        & 2.5 & 2008 & 5 & auto(s6)   & f & 20 & 29 & r & subcompact\\\\\n",
       "\t volkswagen & passat            & 1.8 & 1999 & 4 & manual(m5) & f & 21 & 29 & p & midsize   \\\\\n",
       "\t volkswagen & passat            & 1.8 & 1999 & 4 & auto(l5)   & f & 18 & 29 & p & midsize   \\\\\n",
       "\t volkswagen & passat            & 2.0 & 2008 & 4 & auto(s6)   & f & 19 & 28 & p & midsize   \\\\\n",
       "\t volkswagen & passat            & 2.0 & 2008 & 4 & manual(m6) & f & 21 & 29 & p & midsize   \\\\\n",
       "\t volkswagen & passat            & 2.8 & 1999 & 6 & auto(l5)   & f & 16 & 26 & p & midsize   \\\\\n",
       "\t volkswagen & passat            & 2.8 & 1999 & 6 & manual(m5) & f & 18 & 26 & p & midsize   \\\\\n",
       "\t volkswagen & passat            & 3.6 & 2008 & 6 & auto(s6)   & f & 17 & 26 & p & midsize   \\\\\n",
       "\\end{tabular}\n"
      ],
      "text/markdown": [
       "\n",
       "A spec_tbl_df: 234 × 11\n",
       "\n",
       "| manufacturer &lt;chr&gt; | model &lt;chr&gt; | displ &lt;dbl&gt; | year &lt;dbl&gt; | cyl &lt;dbl&gt; | trans &lt;chr&gt; | drv &lt;chr&gt; | cty &lt;dbl&gt; | hwy &lt;dbl&gt; | fl &lt;chr&gt; | class &lt;chr&gt; |\n",
       "|---|---|---|---|---|---|---|---|---|---|---|\n",
       "| audi      | a4                 | 1.8 | 1999 | 4 | auto(l5)   | f | 18 | 29 | p | compact |\n",
       "| audi      | a4                 | 1.8 | 1999 | 4 | manual(m5) | f | 21 | 29 | p | compact |\n",
       "| audi      | a4                 | 2.0 | 2008 | 4 | manual(m6) | f | 20 | 31 | p | compact |\n",
       "| audi      | a4                 | 2.0 | 2008 | 4 | auto(av)   | f | 21 | 30 | p | compact |\n",
       "| audi      | a4                 | 2.8 | 1999 | 6 | auto(l5)   | f | 16 | 26 | p | compact |\n",
       "| audi      | a4                 | 2.8 | 1999 | 6 | manual(m5) | f | 18 | 26 | p | compact |\n",
       "| audi      | a4                 | 3.1 | 2008 | 6 | auto(av)   | f | 18 | 27 | p | compact |\n",
       "| audi      | a4 quattro         | 1.8 | 1999 | 4 | manual(m5) | 4 | 18 | 26 | p | compact |\n",
       "| audi      | a4 quattro         | 1.8 | 1999 | 4 | auto(l5)   | 4 | 16 | 25 | p | compact |\n",
       "| audi      | a4 quattro         | 2.0 | 2008 | 4 | manual(m6) | 4 | 20 | 28 | p | compact |\n",
       "| audi      | a4 quattro         | 2.0 | 2008 | 4 | auto(s6)   | 4 | 19 | 27 | p | compact |\n",
       "| audi      | a4 quattro         | 2.8 | 1999 | 6 | auto(l5)   | 4 | 15 | 25 | p | compact |\n",
       "| audi      | a4 quattro         | 2.8 | 1999 | 6 | manual(m5) | 4 | 17 | 25 | p | compact |\n",
       "| audi      | a4 quattro         | 3.1 | 2008 | 6 | auto(s6)   | 4 | 17 | 25 | p | compact |\n",
       "| audi      | a4 quattro         | 3.1 | 2008 | 6 | manual(m6) | 4 | 15 | 25 | p | compact |\n",
       "| audi      | a6 quattro         | 2.8 | 1999 | 6 | auto(l5)   | 4 | 15 | 24 | p | midsize |\n",
       "| audi      | a6 quattro         | 3.1 | 2008 | 6 | auto(s6)   | 4 | 17 | 25 | p | midsize |\n",
       "| audi      | a6 quattro         | 4.2 | 2008 | 8 | auto(s6)   | 4 | 16 | 23 | p | midsize |\n",
       "| chevrolet | c1500 suburban 2wd | 5.3 | 2008 | 8 | auto(l4)   | r | 14 | 20 | r | suv     |\n",
       "| chevrolet | c1500 suburban 2wd | 5.3 | 2008 | 8 | auto(l4)   | r | 11 | 15 | e | suv     |\n",
       "| chevrolet | c1500 suburban 2wd | 5.3 | 2008 | 8 | auto(l4)   | r | 14 | 20 | r | suv     |\n",
       "| chevrolet | c1500 suburban 2wd | 5.7 | 1999 | 8 | auto(l4)   | r | 13 | 17 | r | suv     |\n",
       "| chevrolet | c1500 suburban 2wd | 6.0 | 2008 | 8 | auto(l4)   | r | 12 | 17 | r | suv     |\n",
       "| chevrolet | corvette           | 5.7 | 1999 | 8 | manual(m6) | r | 16 | 26 | p | 2seater |\n",
       "| chevrolet | corvette           | 5.7 | 1999 | 8 | auto(l4)   | r | 15 | 23 | p | 2seater |\n",
       "| chevrolet | corvette           | 6.2 | 2008 | 8 | manual(m6) | r | 16 | 26 | p | 2seater |\n",
       "| chevrolet | corvette           | 6.2 | 2008 | 8 | auto(s6)   | r | 15 | 25 | p | 2seater |\n",
       "| chevrolet | corvette           | 7.0 | 2008 | 8 | manual(m6) | r | 15 | 24 | p | 2seater |\n",
       "| chevrolet | k1500 tahoe 4wd    | 5.3 | 2008 | 8 | auto(l4)   | 4 | 14 | 19 | r | suv     |\n",
       "| chevrolet | k1500 tahoe 4wd    | 5.3 | 2008 | 8 | auto(l4)   | 4 | 11 | 14 | e | suv     |\n",
       "| ⋮ | ⋮ | ⋮ | ⋮ | ⋮ | ⋮ | ⋮ | ⋮ | ⋮ | ⋮ | ⋮ |\n",
       "| toyota     | toyota tacoma 4wd | 3.4 | 1999 | 6 | auto(l4)   | 4 | 15 | 19 | r | pickup     |\n",
       "| toyota     | toyota tacoma 4wd | 4.0 | 2008 | 6 | manual(m6) | 4 | 15 | 18 | r | pickup     |\n",
       "| toyota     | toyota tacoma 4wd | 4.0 | 2008 | 6 | auto(l5)   | 4 | 16 | 20 | r | pickup     |\n",
       "| volkswagen | gti               | 2.0 | 1999 | 4 | manual(m5) | f | 21 | 29 | r | compact    |\n",
       "| volkswagen | gti               | 2.0 | 1999 | 4 | auto(l4)   | f | 19 | 26 | r | compact    |\n",
       "| volkswagen | gti               | 2.0 | 2008 | 4 | manual(m6) | f | 21 | 29 | p | compact    |\n",
       "| volkswagen | gti               | 2.0 | 2008 | 4 | auto(s6)   | f | 22 | 29 | p | compact    |\n",
       "| volkswagen | gti               | 2.8 | 1999 | 6 | manual(m5) | f | 17 | 24 | r | compact    |\n",
       "| volkswagen | jetta             | 1.9 | 1999 | 4 | manual(m5) | f | 33 | 44 | d | compact    |\n",
       "| volkswagen | jetta             | 2.0 | 1999 | 4 | manual(m5) | f | 21 | 29 | r | compact    |\n",
       "| volkswagen | jetta             | 2.0 | 1999 | 4 | auto(l4)   | f | 19 | 26 | r | compact    |\n",
       "| volkswagen | jetta             | 2.0 | 2008 | 4 | auto(s6)   | f | 22 | 29 | p | compact    |\n",
       "| volkswagen | jetta             | 2.0 | 2008 | 4 | manual(m6) | f | 21 | 29 | p | compact    |\n",
       "| volkswagen | jetta             | 2.5 | 2008 | 5 | auto(s6)   | f | 21 | 29 | r | compact    |\n",
       "| volkswagen | jetta             | 2.5 | 2008 | 5 | manual(m5) | f | 21 | 29 | r | compact    |\n",
       "| volkswagen | jetta             | 2.8 | 1999 | 6 | auto(l4)   | f | 16 | 23 | r | compact    |\n",
       "| volkswagen | jetta             | 2.8 | 1999 | 6 | manual(m5) | f | 17 | 24 | r | compact    |\n",
       "| volkswagen | new beetle        | 1.9 | 1999 | 4 | manual(m5) | f | 35 | 44 | d | subcompact |\n",
       "| volkswagen | new beetle        | 1.9 | 1999 | 4 | auto(l4)   | f | 29 | 41 | d | subcompact |\n",
       "| volkswagen | new beetle        | 2.0 | 1999 | 4 | manual(m5) | f | 21 | 29 | r | subcompact |\n",
       "| volkswagen | new beetle        | 2.0 | 1999 | 4 | auto(l4)   | f | 19 | 26 | r | subcompact |\n",
       "| volkswagen | new beetle        | 2.5 | 2008 | 5 | manual(m5) | f | 20 | 28 | r | subcompact |\n",
       "| volkswagen | new beetle        | 2.5 | 2008 | 5 | auto(s6)   | f | 20 | 29 | r | subcompact |\n",
       "| volkswagen | passat            | 1.8 | 1999 | 4 | manual(m5) | f | 21 | 29 | p | midsize    |\n",
       "| volkswagen | passat            | 1.8 | 1999 | 4 | auto(l5)   | f | 18 | 29 | p | midsize    |\n",
       "| volkswagen | passat            | 2.0 | 2008 | 4 | auto(s6)   | f | 19 | 28 | p | midsize    |\n",
       "| volkswagen | passat            | 2.0 | 2008 | 4 | manual(m6) | f | 21 | 29 | p | midsize    |\n",
       "| volkswagen | passat            | 2.8 | 1999 | 6 | auto(l5)   | f | 16 | 26 | p | midsize    |\n",
       "| volkswagen | passat            | 2.8 | 1999 | 6 | manual(m5) | f | 18 | 26 | p | midsize    |\n",
       "| volkswagen | passat            | 3.6 | 2008 | 6 | auto(s6)   | f | 17 | 26 | p | midsize    |\n",
       "\n"
      ],
      "text/plain": [
       "    manufacturer model              displ year cyl trans      drv cty hwy fl\n",
       "1   audi         a4                 1.8   1999 4   auto(l5)   f   18  29  p \n",
       "2   audi         a4                 1.8   1999 4   manual(m5) f   21  29  p \n",
       "3   audi         a4                 2.0   2008 4   manual(m6) f   20  31  p \n",
       "4   audi         a4                 2.0   2008 4   auto(av)   f   21  30  p \n",
       "5   audi         a4                 2.8   1999 6   auto(l5)   f   16  26  p \n",
       "6   audi         a4                 2.8   1999 6   manual(m5) f   18  26  p \n",
       "7   audi         a4                 3.1   2008 6   auto(av)   f   18  27  p \n",
       "8   audi         a4 quattro         1.8   1999 4   manual(m5) 4   18  26  p \n",
       "9   audi         a4 quattro         1.8   1999 4   auto(l5)   4   16  25  p \n",
       "10  audi         a4 quattro         2.0   2008 4   manual(m6) 4   20  28  p \n",
       "11  audi         a4 quattro         2.0   2008 4   auto(s6)   4   19  27  p \n",
       "12  audi         a4 quattro         2.8   1999 6   auto(l5)   4   15  25  p \n",
       "13  audi         a4 quattro         2.8   1999 6   manual(m5) 4   17  25  p \n",
       "14  audi         a4 quattro         3.1   2008 6   auto(s6)   4   17  25  p \n",
       "15  audi         a4 quattro         3.1   2008 6   manual(m6) 4   15  25  p \n",
       "16  audi         a6 quattro         2.8   1999 6   auto(l5)   4   15  24  p \n",
       "17  audi         a6 quattro         3.1   2008 6   auto(s6)   4   17  25  p \n",
       "18  audi         a6 quattro         4.2   2008 8   auto(s6)   4   16  23  p \n",
       "19  chevrolet    c1500 suburban 2wd 5.3   2008 8   auto(l4)   r   14  20  r \n",
       "20  chevrolet    c1500 suburban 2wd 5.3   2008 8   auto(l4)   r   11  15  e \n",
       "21  chevrolet    c1500 suburban 2wd 5.3   2008 8   auto(l4)   r   14  20  r \n",
       "22  chevrolet    c1500 suburban 2wd 5.7   1999 8   auto(l4)   r   13  17  r \n",
       "23  chevrolet    c1500 suburban 2wd 6.0   2008 8   auto(l4)   r   12  17  r \n",
       "24  chevrolet    corvette           5.7   1999 8   manual(m6) r   16  26  p \n",
       "25  chevrolet    corvette           5.7   1999 8   auto(l4)   r   15  23  p \n",
       "26  chevrolet    corvette           6.2   2008 8   manual(m6) r   16  26  p \n",
       "27  chevrolet    corvette           6.2   2008 8   auto(s6)   r   15  25  p \n",
       "28  chevrolet    corvette           7.0   2008 8   manual(m6) r   15  24  p \n",
       "29  chevrolet    k1500 tahoe 4wd    5.3   2008 8   auto(l4)   4   14  19  r \n",
       "30  chevrolet    k1500 tahoe 4wd    5.3   2008 8   auto(l4)   4   11  14  e \n",
       "⋮   ⋮            ⋮                  ⋮     ⋮    ⋮   ⋮          ⋮   ⋮   ⋮   ⋮ \n",
       "205 toyota       toyota tacoma 4wd  3.4   1999 6   auto(l4)   4   15  19  r \n",
       "206 toyota       toyota tacoma 4wd  4.0   2008 6   manual(m6) 4   15  18  r \n",
       "207 toyota       toyota tacoma 4wd  4.0   2008 6   auto(l5)   4   16  20  r \n",
       "208 volkswagen   gti                2.0   1999 4   manual(m5) f   21  29  r \n",
       "209 volkswagen   gti                2.0   1999 4   auto(l4)   f   19  26  r \n",
       "210 volkswagen   gti                2.0   2008 4   manual(m6) f   21  29  p \n",
       "211 volkswagen   gti                2.0   2008 4   auto(s6)   f   22  29  p \n",
       "212 volkswagen   gti                2.8   1999 6   manual(m5) f   17  24  r \n",
       "213 volkswagen   jetta              1.9   1999 4   manual(m5) f   33  44  d \n",
       "214 volkswagen   jetta              2.0   1999 4   manual(m5) f   21  29  r \n",
       "215 volkswagen   jetta              2.0   1999 4   auto(l4)   f   19  26  r \n",
       "216 volkswagen   jetta              2.0   2008 4   auto(s6)   f   22  29  p \n",
       "217 volkswagen   jetta              2.0   2008 4   manual(m6) f   21  29  p \n",
       "218 volkswagen   jetta              2.5   2008 5   auto(s6)   f   21  29  r \n",
       "219 volkswagen   jetta              2.5   2008 5   manual(m5) f   21  29  r \n",
       "220 volkswagen   jetta              2.8   1999 6   auto(l4)   f   16  23  r \n",
       "221 volkswagen   jetta              2.8   1999 6   manual(m5) f   17  24  r \n",
       "222 volkswagen   new beetle         1.9   1999 4   manual(m5) f   35  44  d \n",
       "223 volkswagen   new beetle         1.9   1999 4   auto(l4)   f   29  41  d \n",
       "224 volkswagen   new beetle         2.0   1999 4   manual(m5) f   21  29  r \n",
       "225 volkswagen   new beetle         2.0   1999 4   auto(l4)   f   19  26  r \n",
       "226 volkswagen   new beetle         2.5   2008 5   manual(m5) f   20  28  r \n",
       "227 volkswagen   new beetle         2.5   2008 5   auto(s6)   f   20  29  r \n",
       "228 volkswagen   passat             1.8   1999 4   manual(m5) f   21  29  p \n",
       "229 volkswagen   passat             1.8   1999 4   auto(l5)   f   18  29  p \n",
       "230 volkswagen   passat             2.0   2008 4   auto(s6)   f   19  28  p \n",
       "231 volkswagen   passat             2.0   2008 4   manual(m6) f   21  29  p \n",
       "232 volkswagen   passat             2.8   1999 6   auto(l5)   f   16  26  p \n",
       "233 volkswagen   passat             2.8   1999 6   manual(m5) f   18  26  p \n",
       "234 volkswagen   passat             3.6   2008 6   auto(s6)   f   17  26  p \n",
       "    class     \n",
       "1   compact   \n",
       "2   compact   \n",
       "3   compact   \n",
       "4   compact   \n",
       "5   compact   \n",
       "6   compact   \n",
       "7   compact   \n",
       "8   compact   \n",
       "9   compact   \n",
       "10  compact   \n",
       "11  compact   \n",
       "12  compact   \n",
       "13  compact   \n",
       "14  compact   \n",
       "15  compact   \n",
       "16  midsize   \n",
       "17  midsize   \n",
       "18  midsize   \n",
       "19  suv       \n",
       "20  suv       \n",
       "21  suv       \n",
       "22  suv       \n",
       "23  suv       \n",
       "24  2seater   \n",
       "25  2seater   \n",
       "26  2seater   \n",
       "27  2seater   \n",
       "28  2seater   \n",
       "29  suv       \n",
       "30  suv       \n",
       "⋮   ⋮         \n",
       "205 pickup    \n",
       "206 pickup    \n",
       "207 pickup    \n",
       "208 compact   \n",
       "209 compact   \n",
       "210 compact   \n",
       "211 compact   \n",
       "212 compact   \n",
       "213 compact   \n",
       "214 compact   \n",
       "215 compact   \n",
       "216 compact   \n",
       "217 compact   \n",
       "218 compact   \n",
       "219 compact   \n",
       "220 compact   \n",
       "221 compact   \n",
       "222 subcompact\n",
       "223 subcompact\n",
       "224 subcompact\n",
       "225 subcompact\n",
       "226 subcompact\n",
       "227 subcompact\n",
       "228 midsize   \n",
       "229 midsize   \n",
       "230 midsize   \n",
       "231 midsize   \n",
       "232 midsize   \n",
       "233 midsize   \n",
       "234 midsize   "
      ]
     },
     "metadata": {},
     "output_type": "display_data"
    }
   ],
   "source": [
    "# Display help on read_csv()\n",
    "read_csv('mpg.csv')"
   ]
  },
  {
   "cell_type": "markdown",
   "metadata": {},
   "source": [
    "# read_delim {readr}\tR Documentation\n",
    "Read a delimited file (including csv & tsv) into a tibble\n",
    "## Description\n",
    "read_csv() and read_tsv() are special cases of the general read_delim(). They're useful for reading the most common types of flat file data, comma separated values and tab separated values, respectively. read_csv2() uses ; for separators, instead of ,. This is common in European countries which use , as the decimal separator.\n",
    "\n",
    "## Usage\n",
    "read_delim(file, delim, quote = \"\\\"\", escape_backslash = FALSE,\n",
    "  escape_double = TRUE, col_names = TRUE, col_types = NULL,\n",
    "  locale = default_locale(), na = c(\"\", \"NA\"), quoted_na = TRUE,\n",
    "  comment = \"\", trim_ws = FALSE, skip = 0, n_max = Inf,\n",
    "  guess_max = min(1000, n_max), progress = show_progress())\n",
    "\n",
    "read_csv(file, col_names = TRUE, col_types = NULL,\n",
    "  locale = default_locale(), na = c(\"\", \"NA\"), quoted_na = TRUE,\n",
    "  quote = \"\\\"\", comment = \"\", trim_ws = TRUE, skip = 0, n_max = Inf,\n",
    "  guess_max = min(1000, n_max), progress = show_progress())\n",
    "\n",
    "read_csv2(file, col_names = TRUE, col_types = NULL,\n",
    "  locale = default_locale(), na = c(\"\", \"NA\"), quoted_na = TRUE,\n",
    "  quote = \"\\\"\", comment = \"\", trim_ws = TRUE, skip = 0, n_max = Inf,\n",
    "  guess_max = min(1000, n_max), progress = show_progress())\n",
    "\n",
    "read_tsv(file, col_names = TRUE, col_types = NULL,\n",
    "  locale = default_locale(), na = c(\"\", \"NA\"), quoted_na = TRUE,\n",
    "  quote = \"\\\"\", comment = \"\", trim_ws = TRUE, skip = 0, n_max = Inf,\n",
    "  guess_max = min(1000, n_max), progress = show_progress())"
   ]
  },
  {
   "cell_type": "markdown",
   "metadata": {},
   "source": [
    "Notice it has csv, tsv, and the generic delim functions csv2 is for other locales that use the comma as a decimal separator. \n",
    "\n",
    "There are a number of options to handle all sorts of conditions. Help provides more details on the arguments, if you need to change the default behavior of the function. \n",
    "\n",
    "We'll try out a few of the options in a moment, but first let's read in the mpg.csv file."
   ]
  },
  {
   "cell_type": "code",
   "execution_count": 16,
   "metadata": {},
   "outputs": [
    {
     "name": "stderr",
     "output_type": "stream",
     "text": [
      "Parsed with column specification:\n",
      "cols(\n",
      "  manufacturer = \u001b[31mcol_character()\u001b[39m,\n",
      "  model = \u001b[31mcol_character()\u001b[39m,\n",
      "  displ = \u001b[32mcol_double()\u001b[39m,\n",
      "  year = \u001b[32mcol_double()\u001b[39m,\n",
      "  cyl = \u001b[32mcol_double()\u001b[39m,\n",
      "  trans = \u001b[31mcol_character()\u001b[39m,\n",
      "  drv = \u001b[31mcol_character()\u001b[39m,\n",
      "  cty = \u001b[32mcol_double()\u001b[39m,\n",
      "  hwy = \u001b[32mcol_double()\u001b[39m,\n",
      "  fl = \u001b[31mcol_character()\u001b[39m,\n",
      "  class = \u001b[31mcol_character()\u001b[39m\n",
      ")\n"
     ]
    }
   ],
   "source": [
    "# file: mpg.csv\n",
    "# variable: df_csv\n",
    "# Hint: read_csv()\n",
    "df_csv <- \"mpg.csv\" %>% read_csv()"
   ]
  },
  {
   "cell_type": "markdown",
   "metadata": {},
   "source": [
    "Notice the column specification output. The default behavior is to review the first 1000 rows and determine the most appropriate data type for each column. If there are a large number of columns, the output will mention a default value and lists all the columns that are not the default datatype to make the output more readable. In the above case, there wasn't enough columns to trigger this."
   ]
  },
  {
   "cell_type": "markdown",
   "metadata": {},
   "source": [
    "# Compare imported csv to original dataframe\n",
    "Let's compare the imported csv file from the original dataframe. Often times, something gets lost in translation because the csv file is all character data and some of the rich metadata that is contained in the R dataframe cannot be exported to a file format such as csv. "
   ]
  },
  {
   "cell_type": "code",
   "execution_count": 17,
   "metadata": {},
   "outputs": [
    {
     "name": "stdout",
     "output_type": "stream",
     "text": [
      "Observations: 234\n",
      "Variables: 11\n",
      "$ manufacturer \u001b[3m\u001b[38;5;246m<chr>\u001b[39m\u001b[23m \"audi\", \"audi\", \"audi\", \"audi\", \"audi\", \"audi\", \"audi\", …\n",
      "$ model        \u001b[3m\u001b[38;5;246m<chr>\u001b[39m\u001b[23m \"a4\", \"a4\", \"a4\", \"a4\", \"a4\", \"a4\", \"a4\", \"a4 quattro\", …\n",
      "$ displ        \u001b[3m\u001b[38;5;246m<dbl>\u001b[39m\u001b[23m 1.8, 1.8, 2.0, 2.0, 2.8, 2.8, 3.1, 1.8, 1.8, 2.0, 2.0, 2…\n",
      "$ year         \u001b[3m\u001b[38;5;246m<dbl>\u001b[39m\u001b[23m 1999, 1999, 2008, 2008, 1999, 1999, 2008, 1999, 1999, 20…\n",
      "$ cyl          \u001b[3m\u001b[38;5;246m<dbl>\u001b[39m\u001b[23m 4, 4, 4, 4, 6, 6, 6, 4, 4, 4, 4, 6, 6, 6, 6, 6, 6, 8, 8,…\n",
      "$ trans        \u001b[3m\u001b[38;5;246m<chr>\u001b[39m\u001b[23m \"auto(l5)\", \"manual(m5)\", \"manual(m6)\", \"auto(av)\", \"aut…\n",
      "$ drv          \u001b[3m\u001b[38;5;246m<chr>\u001b[39m\u001b[23m \"f\", \"f\", \"f\", \"f\", \"f\", \"f\", \"f\", \"4\", \"4\", \"4\", \"4\", \"…\n",
      "$ cty          \u001b[3m\u001b[38;5;246m<dbl>\u001b[39m\u001b[23m 18, 21, 20, 21, 16, 18, 18, 18, 16, 20, 19, 15, 17, 17, …\n",
      "$ hwy          \u001b[3m\u001b[38;5;246m<dbl>\u001b[39m\u001b[23m 29, 29, 31, 30, 26, 26, 27, 26, 25, 28, 27, 25, 25, 25, …\n",
      "$ fl           \u001b[3m\u001b[38;5;246m<chr>\u001b[39m\u001b[23m \"p\", \"p\", \"p\", \"p\", \"p\", \"p\", \"p\", \"p\", \"p\", \"p\", \"p\", \"…\n",
      "$ class        \u001b[3m\u001b[38;5;246m<chr>\u001b[39m\u001b[23m \"compact\", \"compact\", \"compact\", \"compact\", \"compact\", \"…\n",
      "Observations: 234\n",
      "Variables: 11\n",
      "$ manufacturer \u001b[3m\u001b[38;5;246m<chr>\u001b[39m\u001b[23m \"audi\", \"audi\", \"audi\", \"audi\", \"audi\", \"audi\", \"audi\", …\n",
      "$ model        \u001b[3m\u001b[38;5;246m<chr>\u001b[39m\u001b[23m \"a4\", \"a4\", \"a4\", \"a4\", \"a4\", \"a4\", \"a4\", \"a4 quattro\", …\n",
      "$ displ        \u001b[3m\u001b[38;5;246m<dbl>\u001b[39m\u001b[23m 1.8, 1.8, 2.0, 2.0, 2.8, 2.8, 3.1, 1.8, 1.8, 2.0, 2.0, 2…\n",
      "$ year         \u001b[3m\u001b[38;5;246m<int>\u001b[39m\u001b[23m 1999, 1999, 2008, 2008, 1999, 1999, 2008, 1999, 1999, 20…\n",
      "$ cyl          \u001b[3m\u001b[38;5;246m<int>\u001b[39m\u001b[23m 4, 4, 4, 4, 6, 6, 6, 4, 4, 4, 4, 6, 6, 6, 6, 6, 6, 8, 8,…\n",
      "$ trans        \u001b[3m\u001b[38;5;246m<chr>\u001b[39m\u001b[23m \"auto(l5)\", \"manual(m5)\", \"manual(m6)\", \"auto(av)\", \"aut…\n",
      "$ drv          \u001b[3m\u001b[38;5;246m<chr>\u001b[39m\u001b[23m \"f\", \"f\", \"f\", \"f\", \"f\", \"f\", \"f\", \"4\", \"4\", \"4\", \"4\", \"…\n",
      "$ cty          \u001b[3m\u001b[38;5;246m<int>\u001b[39m\u001b[23m 18, 21, 20, 21, 16, 18, 18, 18, 16, 20, 19, 15, 17, 17, …\n",
      "$ hwy          \u001b[3m\u001b[38;5;246m<int>\u001b[39m\u001b[23m 29, 29, 31, 30, 26, 26, 27, 26, 25, 28, 27, 25, 25, 25, …\n",
      "$ fl           \u001b[3m\u001b[38;5;246m<chr>\u001b[39m\u001b[23m \"p\", \"p\", \"p\", \"p\", \"p\", \"p\", \"p\", \"p\", \"p\", \"p\", \"p\", \"…\n",
      "$ class        \u001b[3m\u001b[38;5;246m<chr>\u001b[39m\u001b[23m \"compact\", \"compact\", \"compact\", \"compact\", \"compact\", \"…\n"
     ]
    }
   ],
   "source": [
    "# Compare dataframes\n",
    "# Hint: glimpse()\n",
    "\n",
    "# Explore df_csv\n",
    "df_csv %>% glimpse()\n",
    "\n",
    "# Explore mpg\n",
    "mpg %>% glimpse()"
   ]
  },
  {
   "cell_type": "markdown",
   "metadata": {},
   "source": [
    "Notice that both have the same # number of rows and columns and the same variable names and order and the same data types. The write_csv() and read_csv() both did a good job of preserving the data in this case. Note that the data types were not stored in the csv file, rather the read_csv() function made that determination and converted the data to that datatype."
   ]
  },
  {
   "cell_type": "markdown",
   "metadata": {},
   "source": [
    "# Compare imported tsv to original dataframe\n",
    "Similar to the csv file, let's compare the imported tsv file from the original dataframe."
   ]
  },
  {
   "cell_type": "code",
   "execution_count": 18,
   "metadata": {},
   "outputs": [
    {
     "name": "stderr",
     "output_type": "stream",
     "text": [
      "Parsed with column specification:\n",
      "cols(\n",
      "  manufacturer = \u001b[31mcol_character()\u001b[39m,\n",
      "  model = \u001b[31mcol_character()\u001b[39m,\n",
      "  displ = \u001b[32mcol_double()\u001b[39m,\n",
      "  year = \u001b[32mcol_double()\u001b[39m,\n",
      "  cyl = \u001b[32mcol_double()\u001b[39m,\n",
      "  trans = \u001b[31mcol_character()\u001b[39m,\n",
      "  drv = \u001b[31mcol_character()\u001b[39m,\n",
      "  cty = \u001b[32mcol_double()\u001b[39m,\n",
      "  hwy = \u001b[32mcol_double()\u001b[39m,\n",
      "  fl = \u001b[31mcol_character()\u001b[39m,\n",
      "  class = \u001b[31mcol_character()\u001b[39m\n",
      ")\n"
     ]
    }
   ],
   "source": [
    "# file: mpg.tsv\n",
    "# variable: df_tsv\n",
    "# Hint: read_tsv()\n",
    "df_tsv <- \"mpg.tsv\" %>% read_tsv()"
   ]
  },
  {
   "cell_type": "code",
   "execution_count": 19,
   "metadata": {},
   "outputs": [
    {
     "name": "stdout",
     "output_type": "stream",
     "text": [
      "Observations: 234\n",
      "Variables: 11\n",
      "$ manufacturer \u001b[3m\u001b[38;5;246m<chr>\u001b[39m\u001b[23m \"audi\", \"audi\", \"audi\", \"audi\", \"audi\", \"audi\", \"audi\", …\n",
      "$ model        \u001b[3m\u001b[38;5;246m<chr>\u001b[39m\u001b[23m \"a4\", \"a4\", \"a4\", \"a4\", \"a4\", \"a4\", \"a4\", \"a4 quattro\", …\n",
      "$ displ        \u001b[3m\u001b[38;5;246m<dbl>\u001b[39m\u001b[23m 1.8, 1.8, 2.0, 2.0, 2.8, 2.8, 3.1, 1.8, 1.8, 2.0, 2.0, 2…\n",
      "$ year         \u001b[3m\u001b[38;5;246m<dbl>\u001b[39m\u001b[23m 1999, 1999, 2008, 2008, 1999, 1999, 2008, 1999, 1999, 20…\n",
      "$ cyl          \u001b[3m\u001b[38;5;246m<dbl>\u001b[39m\u001b[23m 4, 4, 4, 4, 6, 6, 6, 4, 4, 4, 4, 6, 6, 6, 6, 6, 6, 8, 8,…\n",
      "$ trans        \u001b[3m\u001b[38;5;246m<chr>\u001b[39m\u001b[23m \"auto(l5)\", \"manual(m5)\", \"manual(m6)\", \"auto(av)\", \"aut…\n",
      "$ drv          \u001b[3m\u001b[38;5;246m<chr>\u001b[39m\u001b[23m \"f\", \"f\", \"f\", \"f\", \"f\", \"f\", \"f\", \"4\", \"4\", \"4\", \"4\", \"…\n",
      "$ cty          \u001b[3m\u001b[38;5;246m<dbl>\u001b[39m\u001b[23m 18, 21, 20, 21, 16, 18, 18, 18, 16, 20, 19, 15, 17, 17, …\n",
      "$ hwy          \u001b[3m\u001b[38;5;246m<dbl>\u001b[39m\u001b[23m 29, 29, 31, 30, 26, 26, 27, 26, 25, 28, 27, 25, 25, 25, …\n",
      "$ fl           \u001b[3m\u001b[38;5;246m<chr>\u001b[39m\u001b[23m \"p\", \"p\", \"p\", \"p\", \"p\", \"p\", \"p\", \"p\", \"p\", \"p\", \"p\", \"…\n",
      "$ class        \u001b[3m\u001b[38;5;246m<chr>\u001b[39m\u001b[23m \"compact\", \"compact\", \"compact\", \"compact\", \"compact\", \"…\n",
      "Observations: 234\n",
      "Variables: 11\n",
      "$ manufacturer \u001b[3m\u001b[38;5;246m<chr>\u001b[39m\u001b[23m \"audi\", \"audi\", \"audi\", \"audi\", \"audi\", \"audi\", \"audi\", …\n",
      "$ model        \u001b[3m\u001b[38;5;246m<chr>\u001b[39m\u001b[23m \"a4\", \"a4\", \"a4\", \"a4\", \"a4\", \"a4\", \"a4\", \"a4 quattro\", …\n",
      "$ displ        \u001b[3m\u001b[38;5;246m<dbl>\u001b[39m\u001b[23m 1.8, 1.8, 2.0, 2.0, 2.8, 2.8, 3.1, 1.8, 1.8, 2.0, 2.0, 2…\n",
      "$ year         \u001b[3m\u001b[38;5;246m<int>\u001b[39m\u001b[23m 1999, 1999, 2008, 2008, 1999, 1999, 2008, 1999, 1999, 20…\n",
      "$ cyl          \u001b[3m\u001b[38;5;246m<int>\u001b[39m\u001b[23m 4, 4, 4, 4, 6, 6, 6, 4, 4, 4, 4, 6, 6, 6, 6, 6, 6, 8, 8,…\n",
      "$ trans        \u001b[3m\u001b[38;5;246m<chr>\u001b[39m\u001b[23m \"auto(l5)\", \"manual(m5)\", \"manual(m6)\", \"auto(av)\", \"aut…\n",
      "$ drv          \u001b[3m\u001b[38;5;246m<chr>\u001b[39m\u001b[23m \"f\", \"f\", \"f\", \"f\", \"f\", \"f\", \"f\", \"4\", \"4\", \"4\", \"4\", \"…\n",
      "$ cty          \u001b[3m\u001b[38;5;246m<int>\u001b[39m\u001b[23m 18, 21, 20, 21, 16, 18, 18, 18, 16, 20, 19, 15, 17, 17, …\n",
      "$ hwy          \u001b[3m\u001b[38;5;246m<int>\u001b[39m\u001b[23m 29, 29, 31, 30, 26, 26, 27, 26, 25, 28, 27, 25, 25, 25, …\n",
      "$ fl           \u001b[3m\u001b[38;5;246m<chr>\u001b[39m\u001b[23m \"p\", \"p\", \"p\", \"p\", \"p\", \"p\", \"p\", \"p\", \"p\", \"p\", \"p\", \"…\n",
      "$ class        \u001b[3m\u001b[38;5;246m<chr>\u001b[39m\u001b[23m \"compact\", \"compact\", \"compact\", \"compact\", \"compact\", \"…\n"
     ]
    }
   ],
   "source": [
    "# Compare dataframes\n",
    "# Hint: glimpse()\n",
    "\n",
    "# Explore df_tsv\n",
    "df_tsv %>% glimpse()\n",
    "\n",
    "# Explore mpg\n",
    "mpg %>% glimpse()"
   ]
  },
  {
   "cell_type": "markdown",
   "metadata": {},
   "source": [
    "Notice any differences? Hopefully not."
   ]
  },
  {
   "cell_type": "markdown",
   "metadata": {},
   "source": [
    "# read_csv() options\n",
    "\n",
    "Let's focus on a few useful options for read_csv(). They are the same for read_tsv() as well. \n",
    "\n",
    "read_csv(file, col_names = TRUE, col_types = NULL,\n",
    "  locale = default_locale(), na = c(\"\", \"NA\"), quoted_na = TRUE,\n",
    "  comment = \"\", trim_ws = TRUE, skip = 0, n_max = Inf,\n",
    "  guess_max = min(1000, n_max), progress = interactive())\n",
    "  \n",
    "Some notable parameters are listed below. We will explore some of them in more detail.\n",
    "\n",
    "### trim_ws \n",
    "trims whitespace on the beginning and ends of the value\n",
    "I always do this cleaning step, it is on be default\n",
    "\n",
    "### guess_max\n",
    "These are the rows used to determine the data types. 1000 is the minimum, but you can go higher if you think it would make a difference.\n",
    "\n",
    "### col_names\n",
    "Specify the column names. This is handy when the file doesn't provide it in the header. This serves two purposes, first you can turn it on or off (TRUE or FALSE) meaning that you are stating that the first row is a header row or not. The second is to provide a vector of column names and it will use those names instead. Note that it will think the first row is a data row not a header row. \n",
    "\n",
    "### skip\n",
    "This allows you to skip the first n rows you specify. I have found files that have summary info at the top that need to be skipped. skip can also be used when you want to use col_names to rename the columns and skip the header row at the same time.\n",
    "\n",
    "### col_types\n",
    "This allows you to define the column types upon import. An automatic attempt is made, but you may want a different data type or if you are like me, you want to be more deterministic and not leave it to the data to determine its type. Another useful feature is to drop or skip columns you don't want. This is really a trade off of when to do the data wrangling, right now or after it is already in a data frame variable. As always, it is a personal preference and often a balance."
   ]
  },
  {
   "cell_type": "markdown",
   "metadata": {},
   "source": [
    "# col_names parameter\n",
    "Let's set the column names parameter to FALSE when reading in the csv file. What do you think will happen?"
   ]
  },
  {
   "cell_type": "code",
   "execution_count": 20,
   "metadata": {
    "scrolled": false
   },
   "outputs": [
    {
     "name": "stderr",
     "output_type": "stream",
     "text": [
      "Parsed with column specification:\n",
      "cols(\n",
      "  X1 = \u001b[31mcol_character()\u001b[39m,\n",
      "  X2 = \u001b[31mcol_character()\u001b[39m,\n",
      "  X3 = \u001b[31mcol_character()\u001b[39m,\n",
      "  X4 = \u001b[31mcol_character()\u001b[39m,\n",
      "  X5 = \u001b[31mcol_character()\u001b[39m,\n",
      "  X6 = \u001b[31mcol_character()\u001b[39m,\n",
      "  X7 = \u001b[31mcol_character()\u001b[39m,\n",
      "  X8 = \u001b[31mcol_character()\u001b[39m,\n",
      "  X9 = \u001b[31mcol_character()\u001b[39m,\n",
      "  X10 = \u001b[31mcol_character()\u001b[39m,\n",
      "  X11 = \u001b[31mcol_character()\u001b[39m\n",
      ")\n"
     ]
    },
    {
     "name": "stdout",
     "output_type": "stream",
     "text": [
      "Observations: 235\n",
      "Variables: 11\n",
      "$ X1  \u001b[3m\u001b[38;5;246m<chr>\u001b[39m\u001b[23m \"manufacturer\", \"audi\", \"audi\", \"audi\", \"audi\", \"audi\", \"audi\", \"…\n",
      "$ X2  \u001b[3m\u001b[38;5;246m<chr>\u001b[39m\u001b[23m \"model\", \"a4\", \"a4\", \"a4\", \"a4\", \"a4\", \"a4\", \"a4\", \"a4 quattro\", …\n",
      "$ X3  \u001b[3m\u001b[38;5;246m<chr>\u001b[39m\u001b[23m \"displ\", \"1.8\", \"1.8\", \"2\", \"2\", \"2.8\", \"2.8\", \"3.1\", \"1.8\", \"1.8…\n",
      "$ X4  \u001b[3m\u001b[38;5;246m<chr>\u001b[39m\u001b[23m \"year\", \"1999\", \"1999\", \"2008\", \"2008\", \"1999\", \"1999\", \"2008\", \"…\n",
      "$ X5  \u001b[3m\u001b[38;5;246m<chr>\u001b[39m\u001b[23m \"cyl\", \"4\", \"4\", \"4\", \"4\", \"6\", \"6\", \"6\", \"4\", \"4\", \"4\", \"4\", \"6\"…\n",
      "$ X6  \u001b[3m\u001b[38;5;246m<chr>\u001b[39m\u001b[23m \"trans\", \"auto(l5)\", \"manual(m5)\", \"manual(m6)\", \"auto(av)\", \"aut…\n",
      "$ X7  \u001b[3m\u001b[38;5;246m<chr>\u001b[39m\u001b[23m \"drv\", \"f\", \"f\", \"f\", \"f\", \"f\", \"f\", \"f\", \"4\", \"4\", \"4\", \"4\", \"4\"…\n",
      "$ X8  \u001b[3m\u001b[38;5;246m<chr>\u001b[39m\u001b[23m \"cty\", \"18\", \"21\", \"20\", \"21\", \"16\", \"18\", \"18\", \"18\", \"16\", \"20\"…\n",
      "$ X9  \u001b[3m\u001b[38;5;246m<chr>\u001b[39m\u001b[23m \"hwy\", \"29\", \"29\", \"31\", \"30\", \"26\", \"26\", \"27\", \"26\", \"25\", \"28\"…\n",
      "$ X10 \u001b[3m\u001b[38;5;246m<chr>\u001b[39m\u001b[23m \"fl\", \"p\", \"p\", \"p\", \"p\", \"p\", \"p\", \"p\", \"p\", \"p\", \"p\", \"p\", \"p\",…\n",
      "$ X11 \u001b[3m\u001b[38;5;246m<chr>\u001b[39m\u001b[23m \"class\", \"compact\", \"compact\", \"compact\", \"compact\", \"compact\", \"…\n",
      "Observations: 234\n",
      "Variables: 11\n",
      "$ manufacturer \u001b[3m\u001b[38;5;246m<chr>\u001b[39m\u001b[23m \"audi\", \"audi\", \"audi\", \"audi\", \"audi\", \"audi\", \"audi\", …\n",
      "$ model        \u001b[3m\u001b[38;5;246m<chr>\u001b[39m\u001b[23m \"a4\", \"a4\", \"a4\", \"a4\", \"a4\", \"a4\", \"a4\", \"a4 quattro\", …\n",
      "$ displ        \u001b[3m\u001b[38;5;246m<dbl>\u001b[39m\u001b[23m 1.8, 1.8, 2.0, 2.0, 2.8, 2.8, 3.1, 1.8, 1.8, 2.0, 2.0, 2…\n",
      "$ year         \u001b[3m\u001b[38;5;246m<int>\u001b[39m\u001b[23m 1999, 1999, 2008, 2008, 1999, 1999, 2008, 1999, 1999, 20…\n",
      "$ cyl          \u001b[3m\u001b[38;5;246m<int>\u001b[39m\u001b[23m 4, 4, 4, 4, 6, 6, 6, 4, 4, 4, 4, 6, 6, 6, 6, 6, 6, 8, 8,…\n",
      "$ trans        \u001b[3m\u001b[38;5;246m<chr>\u001b[39m\u001b[23m \"auto(l5)\", \"manual(m5)\", \"manual(m6)\", \"auto(av)\", \"aut…\n",
      "$ drv          \u001b[3m\u001b[38;5;246m<chr>\u001b[39m\u001b[23m \"f\", \"f\", \"f\", \"f\", \"f\", \"f\", \"f\", \"4\", \"4\", \"4\", \"4\", \"…\n",
      "$ cty          \u001b[3m\u001b[38;5;246m<int>\u001b[39m\u001b[23m 18, 21, 20, 21, 16, 18, 18, 18, 16, 20, 19, 15, 17, 17, …\n",
      "$ hwy          \u001b[3m\u001b[38;5;246m<int>\u001b[39m\u001b[23m 29, 29, 31, 30, 26, 26, 27, 26, 25, 28, 27, 25, 25, 25, …\n",
      "$ fl           \u001b[3m\u001b[38;5;246m<chr>\u001b[39m\u001b[23m \"p\", \"p\", \"p\", \"p\", \"p\", \"p\", \"p\", \"p\", \"p\", \"p\", \"p\", \"…\n",
      "$ class        \u001b[3m\u001b[38;5;246m<chr>\u001b[39m\u001b[23m \"compact\", \"compact\", \"compact\", \"compact\", \"compact\", \"…\n"
     ]
    }
   ],
   "source": [
    "# Read mpg.csv with col_names set to false\n",
    "# Hint: read_csv() with col_names parameter\n",
    "df_csv_no_col_names <- \"mpg.csv\" %>% read_csv(col_names = FALSE )\n",
    "\n",
    "# Compare the result to mpg\n",
    "# Hint: glimpse()\n",
    "df_csv_no_col_names %>% glimpse()\n",
    "mpg %>% glimpse ()"
   ]
  },
  {
   "cell_type": "markdown",
   "metadata": {},
   "source": [
    "* Notice that the column names are automatically generated X1 to X11. \n",
    "* Notice that all columns came is an character. Do you know why?\n",
    "* Notice that there is an extra row in df. If the data in the file didn't change, where did the extra row of data come from?\n",
    "\n",
    "The first line in the file contains the column name strings. This is known as the header row. Since we told read_csv() that there was no header row with col_names=FALSE, it treated this first row as a data row resulting in an extra row of data. Because there was a string value detected in each column, all the column data types were changed to character in order to save this string data."
   ]
  },
  {
   "cell_type": "markdown",
   "metadata": {},
   "source": [
    "# skip parameter\n",
    "We created a simulated troubleshooting opportunity in the prior cell!  Let's start fixing this by skipping the first line. Use the skip parameter and set it to the number of rows you want to skip."
   ]
  },
  {
   "cell_type": "code",
   "execution_count": 22,
   "metadata": {
    "scrolled": false
   },
   "outputs": [
    {
     "name": "stderr",
     "output_type": "stream",
     "text": [
      "Parsed with column specification:\n",
      "cols(\n",
      "  X1 = \u001b[31mcol_character()\u001b[39m,\n",
      "  X2 = \u001b[31mcol_character()\u001b[39m,\n",
      "  X3 = \u001b[32mcol_double()\u001b[39m,\n",
      "  X4 = \u001b[32mcol_double()\u001b[39m,\n",
      "  X5 = \u001b[32mcol_double()\u001b[39m,\n",
      "  X6 = \u001b[31mcol_character()\u001b[39m,\n",
      "  X7 = \u001b[31mcol_character()\u001b[39m,\n",
      "  X8 = \u001b[32mcol_double()\u001b[39m,\n",
      "  X9 = \u001b[32mcol_double()\u001b[39m,\n",
      "  X10 = \u001b[31mcol_character()\u001b[39m,\n",
      "  X11 = \u001b[31mcol_character()\u001b[39m\n",
      ")\n"
     ]
    },
    {
     "name": "stdout",
     "output_type": "stream",
     "text": [
      "Observations: 234\n",
      "Variables: 11\n",
      "$ X1  \u001b[3m\u001b[38;5;246m<chr>\u001b[39m\u001b[23m \"audi\", \"audi\", \"audi\", \"audi\", \"audi\", \"audi\", \"audi\", \"audi\", \"…\n",
      "$ X2  \u001b[3m\u001b[38;5;246m<chr>\u001b[39m\u001b[23m \"a4\", \"a4\", \"a4\", \"a4\", \"a4\", \"a4\", \"a4\", \"a4 quattro\", \"a4 quatt…\n",
      "$ X3  \u001b[3m\u001b[38;5;246m<dbl>\u001b[39m\u001b[23m 1.8, 1.8, 2.0, 2.0, 2.8, 2.8, 3.1, 1.8, 1.8, 2.0, 2.0, 2.8, 2.8, …\n",
      "$ X4  \u001b[3m\u001b[38;5;246m<dbl>\u001b[39m\u001b[23m 1999, 1999, 2008, 2008, 1999, 1999, 2008, 1999, 1999, 2008, 2008,…\n",
      "$ X5  \u001b[3m\u001b[38;5;246m<dbl>\u001b[39m\u001b[23m 4, 4, 4, 4, 6, 6, 6, 4, 4, 4, 4, 6, 6, 6, 6, 6, 6, 8, 8, 8, 8, 8,…\n",
      "$ X6  \u001b[3m\u001b[38;5;246m<chr>\u001b[39m\u001b[23m \"auto(l5)\", \"manual(m5)\", \"manual(m6)\", \"auto(av)\", \"auto(l5)\", \"…\n",
      "$ X7  \u001b[3m\u001b[38;5;246m<chr>\u001b[39m\u001b[23m \"f\", \"f\", \"f\", \"f\", \"f\", \"f\", \"f\", \"4\", \"4\", \"4\", \"4\", \"4\", \"4\", …\n",
      "$ X8  \u001b[3m\u001b[38;5;246m<dbl>\u001b[39m\u001b[23m 18, 21, 20, 21, 16, 18, 18, 18, 16, 20, 19, 15, 17, 17, 15, 15, 1…\n",
      "$ X9  \u001b[3m\u001b[38;5;246m<dbl>\u001b[39m\u001b[23m 29, 29, 31, 30, 26, 26, 27, 26, 25, 28, 27, 25, 25, 25, 25, 24, 2…\n",
      "$ X10 \u001b[3m\u001b[38;5;246m<chr>\u001b[39m\u001b[23m \"p\", \"p\", \"p\", \"p\", \"p\", \"p\", \"p\", \"p\", \"p\", \"p\", \"p\", \"p\", \"p\", …\n",
      "$ X11 \u001b[3m\u001b[38;5;246m<chr>\u001b[39m\u001b[23m \"compact\", \"compact\", \"compact\", \"compact\", \"compact\", \"compact\",…\n",
      "Observations: 234\n",
      "Variables: 11\n",
      "$ manufacturer \u001b[3m\u001b[38;5;246m<chr>\u001b[39m\u001b[23m \"audi\", \"audi\", \"audi\", \"audi\", \"audi\", \"audi\", \"audi\", …\n",
      "$ model        \u001b[3m\u001b[38;5;246m<chr>\u001b[39m\u001b[23m \"a4\", \"a4\", \"a4\", \"a4\", \"a4\", \"a4\", \"a4\", \"a4 quattro\", …\n",
      "$ displ        \u001b[3m\u001b[38;5;246m<dbl>\u001b[39m\u001b[23m 1.8, 1.8, 2.0, 2.0, 2.8, 2.8, 3.1, 1.8, 1.8, 2.0, 2.0, 2…\n",
      "$ year         \u001b[3m\u001b[38;5;246m<int>\u001b[39m\u001b[23m 1999, 1999, 2008, 2008, 1999, 1999, 2008, 1999, 1999, 20…\n",
      "$ cyl          \u001b[3m\u001b[38;5;246m<int>\u001b[39m\u001b[23m 4, 4, 4, 4, 6, 6, 6, 4, 4, 4, 4, 6, 6, 6, 6, 6, 6, 8, 8,…\n",
      "$ trans        \u001b[3m\u001b[38;5;246m<chr>\u001b[39m\u001b[23m \"auto(l5)\", \"manual(m5)\", \"manual(m6)\", \"auto(av)\", \"aut…\n",
      "$ drv          \u001b[3m\u001b[38;5;246m<chr>\u001b[39m\u001b[23m \"f\", \"f\", \"f\", \"f\", \"f\", \"f\", \"f\", \"4\", \"4\", \"4\", \"4\", \"…\n",
      "$ cty          \u001b[3m\u001b[38;5;246m<int>\u001b[39m\u001b[23m 18, 21, 20, 21, 16, 18, 18, 18, 16, 20, 19, 15, 17, 17, …\n",
      "$ hwy          \u001b[3m\u001b[38;5;246m<int>\u001b[39m\u001b[23m 29, 29, 31, 30, 26, 26, 27, 26, 25, 28, 27, 25, 25, 25, …\n",
      "$ fl           \u001b[3m\u001b[38;5;246m<chr>\u001b[39m\u001b[23m \"p\", \"p\", \"p\", \"p\", \"p\", \"p\", \"p\", \"p\", \"p\", \"p\", \"p\", \"…\n",
      "$ class        \u001b[3m\u001b[38;5;246m<chr>\u001b[39m\u001b[23m \"compact\", \"compact\", \"compact\", \"compact\", \"compact\", \"…\n"
     ]
    }
   ],
   "source": [
    "# Skip the first line of the file\n",
    "# Hint read_csv() with skip parameter\n",
    "df_skip <- read_csv(\"mpg.csv\", col_names = FALSE, skip = 1 )\n",
    "\n",
    "# Compare the output to mpg\n",
    "# Hint: glimpse()\n",
    "df_skip %>% glimpse ()\n",
    "mpg %>% glimpse()"
   ]
  },
  {
   "cell_type": "markdown",
   "metadata": {},
   "source": [
    "Notice row count and data types are corrected. Column names still need work."
   ]
  },
  {
   "cell_type": "markdown",
   "metadata": {},
   "source": [
    "# Specify column names\n",
    "You can use the col_names parameter to specify column names. So this parameter is doing double duty. It can be a boolean to specify whether column names exist or not. It can also be used to provide column names if set to a vector of column names. "
   ]
  },
  {
   "cell_type": "code",
   "execution_count": 25,
   "metadata": {},
   "outputs": [
    {
     "data": {
      "text/html": [
       "<ol class=list-inline>\n",
       "\t<li>'manufacturer'</li>\n",
       "\t<li>'model'</li>\n",
       "\t<li>'displ'</li>\n",
       "\t<li>'year'</li>\n",
       "\t<li>'cyl'</li>\n",
       "\t<li>'trans'</li>\n",
       "\t<li>'drv'</li>\n",
       "\t<li>'cty'</li>\n",
       "\t<li>'hwy'</li>\n",
       "\t<li>'fl'</li>\n",
       "\t<li>'class'</li>\n",
       "</ol>\n"
      ],
      "text/latex": [
       "\\begin{enumerate*}\n",
       "\\item 'manufacturer'\n",
       "\\item 'model'\n",
       "\\item 'displ'\n",
       "\\item 'year'\n",
       "\\item 'cyl'\n",
       "\\item 'trans'\n",
       "\\item 'drv'\n",
       "\\item 'cty'\n",
       "\\item 'hwy'\n",
       "\\item 'fl'\n",
       "\\item 'class'\n",
       "\\end{enumerate*}\n"
      ],
      "text/markdown": [
       "1. 'manufacturer'\n",
       "2. 'model'\n",
       "3. 'displ'\n",
       "4. 'year'\n",
       "5. 'cyl'\n",
       "6. 'trans'\n",
       "7. 'drv'\n",
       "8. 'cty'\n",
       "9. 'hwy'\n",
       "10. 'fl'\n",
       "11. 'class'\n",
       "\n",
       "\n"
      ],
      "text/plain": [
       " [1] \"manufacturer\" \"model\"        \"displ\"        \"year\"         \"cyl\"         \n",
       " [6] \"trans\"        \"drv\"          \"cty\"          \"hwy\"          \"fl\"          \n",
       "[11] \"class\"       "
      ]
     },
     "metadata": {},
     "output_type": "display_data"
    },
    {
     "name": "stdout",
     "output_type": "stream",
     "text": [
      " [1] \"manufacturer\" \"model\"        \"displ\"        \"year\"         \"cyl\"         \n",
      " [6] \"trans\"        \"drv\"          \"cty\"          \"hwy\"          \"fl\"          \n",
      "[11] \"class\"       \n"
     ]
    },
    {
     "ename": "ERROR",
     "evalue": "Error in eval(expr, envir, enclos): object 'vp_mpg_col_names' not found\n",
     "output_type": "error",
     "traceback": [
      "Error in eval(expr, envir, enclos): object 'vp_mpg_col_names' not found\nTraceback:\n"
     ]
    }
   ],
   "source": [
    "# Let's add our own column names\n",
    "# Display the column names from mpg.\n",
    "# Hint: names()\n",
    "names(mpg)\n",
    "\n",
    "# Now let's store that into a variable\n",
    "# which is called a vector in R\n",
    "v_mpg_col_names <- names(mpg)\n",
    "\n",
    "# To see what is in a variable \n",
    "# Hint: print()\n",
    " print(v_mpg_col_names)\n",
    "\n",
    "# or you can just type the variable name\n",
    "# Hint: v_mpg_col_names\n",
    "vp_mpg_col_names"
   ]
  },
  {
   "cell_type": "code",
   "execution_count": 29,
   "metadata": {
    "scrolled": false
   },
   "outputs": [
    {
     "name": "stderr",
     "output_type": "stream",
     "text": [
      "Parsed with column specification:\n",
      "cols(\n",
      "  manufacturer = \u001b[31mcol_character()\u001b[39m,\n",
      "  model = \u001b[31mcol_character()\u001b[39m,\n",
      "  displ = \u001b[32mcol_double()\u001b[39m,\n",
      "  year = \u001b[32mcol_double()\u001b[39m,\n",
      "  cyl = \u001b[32mcol_double()\u001b[39m,\n",
      "  trans = \u001b[31mcol_character()\u001b[39m,\n",
      "  drv = \u001b[31mcol_character()\u001b[39m,\n",
      "  cty = \u001b[32mcol_double()\u001b[39m,\n",
      "  hwy = \u001b[32mcol_double()\u001b[39m,\n",
      "  fl = \u001b[31mcol_character()\u001b[39m,\n",
      "  class = \u001b[31mcol_character()\u001b[39m\n",
      ")\n"
     ]
    },
    {
     "data": {
      "text/html": [
       "<ol class=list-inline>\n",
       "\t<li>'manufacturer'</li>\n",
       "\t<li>'model'</li>\n",
       "\t<li>'displ'</li>\n",
       "\t<li>'year'</li>\n",
       "\t<li>'cyl'</li>\n",
       "\t<li>'trans'</li>\n",
       "\t<li>'drv'</li>\n",
       "\t<li>'cty'</li>\n",
       "\t<li>'hwy'</li>\n",
       "\t<li>'fl'</li>\n",
       "\t<li>'class'</li>\n",
       "</ol>\n"
      ],
      "text/latex": [
       "\\begin{enumerate*}\n",
       "\\item 'manufacturer'\n",
       "\\item 'model'\n",
       "\\item 'displ'\n",
       "\\item 'year'\n",
       "\\item 'cyl'\n",
       "\\item 'trans'\n",
       "\\item 'drv'\n",
       "\\item 'cty'\n",
       "\\item 'hwy'\n",
       "\\item 'fl'\n",
       "\\item 'class'\n",
       "\\end{enumerate*}\n"
      ],
      "text/markdown": [
       "1. 'manufacturer'\n",
       "2. 'model'\n",
       "3. 'displ'\n",
       "4. 'year'\n",
       "5. 'cyl'\n",
       "6. 'trans'\n",
       "7. 'drv'\n",
       "8. 'cty'\n",
       "9. 'hwy'\n",
       "10. 'fl'\n",
       "11. 'class'\n",
       "\n",
       "\n"
      ],
      "text/plain": [
       " [1] \"manufacturer\" \"model\"        \"displ\"        \"year\"         \"cyl\"         \n",
       " [6] \"trans\"        \"drv\"          \"cty\"          \"hwy\"          \"fl\"          \n",
       "[11] \"class\"       "
      ]
     },
     "metadata": {},
     "output_type": "display_data"
    },
    {
     "data": {
      "text/html": [
       "<ol class=list-inline>\n",
       "\t<li>'manufacturer'</li>\n",
       "\t<li>'model'</li>\n",
       "\t<li>'displ'</li>\n",
       "\t<li>'year'</li>\n",
       "\t<li>'cyl'</li>\n",
       "\t<li>'trans'</li>\n",
       "\t<li>'drv'</li>\n",
       "\t<li>'cty'</li>\n",
       "\t<li>'hwy'</li>\n",
       "\t<li>'fl'</li>\n",
       "\t<li>'class'</li>\n",
       "</ol>\n"
      ],
      "text/latex": [
       "\\begin{enumerate*}\n",
       "\\item 'manufacturer'\n",
       "\\item 'model'\n",
       "\\item 'displ'\n",
       "\\item 'year'\n",
       "\\item 'cyl'\n",
       "\\item 'trans'\n",
       "\\item 'drv'\n",
       "\\item 'cty'\n",
       "\\item 'hwy'\n",
       "\\item 'fl'\n",
       "\\item 'class'\n",
       "\\end{enumerate*}\n"
      ],
      "text/markdown": [
       "1. 'manufacturer'\n",
       "2. 'model'\n",
       "3. 'displ'\n",
       "4. 'year'\n",
       "5. 'cyl'\n",
       "6. 'trans'\n",
       "7. 'drv'\n",
       "8. 'cty'\n",
       "9. 'hwy'\n",
       "10. 'fl'\n",
       "11. 'class'\n",
       "\n",
       "\n"
      ],
      "text/plain": [
       " [1] \"manufacturer\" \"model\"        \"displ\"        \"year\"         \"cyl\"         \n",
       " [6] \"trans\"        \"drv\"          \"cty\"          \"hwy\"          \"fl\"          \n",
       "[11] \"class\"       "
      ]
     },
     "metadata": {},
     "output_type": "display_data"
    }
   ],
   "source": [
    "# Let's use our new names variable to add the column\n",
    "# names back in\n",
    "# Hint: read_csv() with col_names parameter\n",
    "df_my_col_names <- read_csv(\"mpg.csv\", col_names = TRUE)\n",
    "\n",
    "# Compare the column names to mpg\n",
    "# Hint: names()\n",
    "df_my_col_names %>% names()\n",
    "mpg %>% names()"
   ]
  },
  {
   "cell_type": "markdown",
   "metadata": {},
   "source": [
    "Notice the column names match."
   ]
  },
  {
   "cell_type": "markdown",
   "metadata": {},
   "source": [
    "# c() for combine\n",
    "Let's say we had done our homework and knew what column names we wanted. We can create our own names vector using the c() function short for combine, which combines comma separated values into a vector."
   ]
  },
  {
   "cell_type": "code",
   "execution_count": 31,
   "metadata": {
    "scrolled": false
   },
   "outputs": [],
   "source": [
    "# Combine strings into a vector\n",
    "# Hint: c()\n",
    "v_mpg_col_names <- c('vehicle', 'model', 'disp', 'year', \n",
    "                     'cyl', 'trans', 'drv', 'cty', 'hwy', 'fl', 'class')"
   ]
  },
  {
   "cell_type": "markdown",
   "metadata": {},
   "source": [
    "* You can use single quotes or double quotes. Since I copied and pasted the above from the earlier output window, it had single quotes so I used them. I normally use double quotes so they don't mess with SQL syntax that uses single quotes when I am embedded SQL strings into R. Again it is a personal preference.\n",
    "\n",
    "* Notice that I added a carriage return after 'year'. Any time there is whitespace outside of a string, you can add a carriage return (newline) for readability.\n",
    "\n",
    "* Notice that I changed column names manufacturer to vehicle and displ to disp so we can determine if our code is really working."
   ]
  },
  {
   "cell_type": "code",
   "execution_count": 33,
   "metadata": {},
   "outputs": [
    {
     "name": "stderr",
     "output_type": "stream",
     "text": [
      "Parsed with column specification:\n",
      "cols(\n",
      "  vehicle = \u001b[31mcol_character()\u001b[39m,\n",
      "  model = \u001b[31mcol_character()\u001b[39m,\n",
      "  disp = \u001b[32mcol_double()\u001b[39m,\n",
      "  year = \u001b[32mcol_double()\u001b[39m,\n",
      "  cyl = \u001b[32mcol_double()\u001b[39m,\n",
      "  trans = \u001b[31mcol_character()\u001b[39m,\n",
      "  drv = \u001b[31mcol_character()\u001b[39m,\n",
      "  cty = \u001b[32mcol_double()\u001b[39m,\n",
      "  hwy = \u001b[32mcol_double()\u001b[39m,\n",
      "  fl = \u001b[31mcol_character()\u001b[39m,\n",
      "  class = \u001b[31mcol_character()\u001b[39m\n",
      ")\n"
     ]
    },
    {
     "name": "stdout",
     "output_type": "stream",
     "text": [
      "Observations: 234\n",
      "Variables: 11\n",
      "$ vehicle \u001b[3m\u001b[38;5;246m<chr>\u001b[39m\u001b[23m \"audi\", \"audi\", \"audi\", \"audi\", \"audi\", \"audi\", \"audi\", \"audi…\n",
      "$ model   \u001b[3m\u001b[38;5;246m<chr>\u001b[39m\u001b[23m \"a4\", \"a4\", \"a4\", \"a4\", \"a4\", \"a4\", \"a4\", \"a4 quattro\", \"a4 q…\n",
      "$ disp    \u001b[3m\u001b[38;5;246m<dbl>\u001b[39m\u001b[23m 1.8, 1.8, 2.0, 2.0, 2.8, 2.8, 3.1, 1.8, 1.8, 2.0, 2.0, 2.8, 2…\n",
      "$ year    \u001b[3m\u001b[38;5;246m<dbl>\u001b[39m\u001b[23m 1999, 1999, 2008, 2008, 1999, 1999, 2008, 1999, 1999, 2008, 2…\n",
      "$ cyl     \u001b[3m\u001b[38;5;246m<dbl>\u001b[39m\u001b[23m 4, 4, 4, 4, 6, 6, 6, 4, 4, 4, 4, 6, 6, 6, 6, 6, 6, 8, 8, 8, 8…\n",
      "$ trans   \u001b[3m\u001b[38;5;246m<chr>\u001b[39m\u001b[23m \"auto(l5)\", \"manual(m5)\", \"manual(m6)\", \"auto(av)\", \"auto(l5)…\n",
      "$ drv     \u001b[3m\u001b[38;5;246m<chr>\u001b[39m\u001b[23m \"f\", \"f\", \"f\", \"f\", \"f\", \"f\", \"f\", \"4\", \"4\", \"4\", \"4\", \"4\", \"…\n",
      "$ cty     \u001b[3m\u001b[38;5;246m<dbl>\u001b[39m\u001b[23m 18, 21, 20, 21, 16, 18, 18, 18, 16, 20, 19, 15, 17, 17, 15, 1…\n",
      "$ hwy     \u001b[3m\u001b[38;5;246m<dbl>\u001b[39m\u001b[23m 29, 29, 31, 30, 26, 26, 27, 26, 25, 28, 27, 25, 25, 25, 25, 2…\n",
      "$ fl      \u001b[3m\u001b[38;5;246m<chr>\u001b[39m\u001b[23m \"p\", \"p\", \"p\", \"p\", \"p\", \"p\", \"p\", \"p\", \"p\", \"p\", \"p\", \"p\", \"…\n",
      "$ class   \u001b[3m\u001b[38;5;246m<chr>\u001b[39m\u001b[23m \"compact\", \"compact\", \"compact\", \"compact\", \"compact\", \"compa…\n",
      "Observations: 234\n",
      "Variables: 11\n",
      "$ manufacturer \u001b[3m\u001b[38;5;246m<chr>\u001b[39m\u001b[23m \"audi\", \"audi\", \"audi\", \"audi\", \"audi\", \"audi\", \"audi\", …\n",
      "$ model        \u001b[3m\u001b[38;5;246m<chr>\u001b[39m\u001b[23m \"a4\", \"a4\", \"a4\", \"a4\", \"a4\", \"a4\", \"a4\", \"a4 quattro\", …\n",
      "$ displ        \u001b[3m\u001b[38;5;246m<dbl>\u001b[39m\u001b[23m 1.8, 1.8, 2.0, 2.0, 2.8, 2.8, 3.1, 1.8, 1.8, 2.0, 2.0, 2…\n",
      "$ year         \u001b[3m\u001b[38;5;246m<int>\u001b[39m\u001b[23m 1999, 1999, 2008, 2008, 1999, 1999, 2008, 1999, 1999, 20…\n",
      "$ cyl          \u001b[3m\u001b[38;5;246m<int>\u001b[39m\u001b[23m 4, 4, 4, 4, 6, 6, 6, 4, 4, 4, 4, 6, 6, 6, 6, 6, 6, 8, 8,…\n",
      "$ trans        \u001b[3m\u001b[38;5;246m<chr>\u001b[39m\u001b[23m \"auto(l5)\", \"manual(m5)\", \"manual(m6)\", \"auto(av)\", \"aut…\n",
      "$ drv          \u001b[3m\u001b[38;5;246m<chr>\u001b[39m\u001b[23m \"f\", \"f\", \"f\", \"f\", \"f\", \"f\", \"f\", \"4\", \"4\", \"4\", \"4\", \"…\n",
      "$ cty          \u001b[3m\u001b[38;5;246m<int>\u001b[39m\u001b[23m 18, 21, 20, 21, 16, 18, 18, 18, 16, 20, 19, 15, 17, 17, …\n",
      "$ hwy          \u001b[3m\u001b[38;5;246m<int>\u001b[39m\u001b[23m 29, 29, 31, 30, 26, 26, 27, 26, 25, 28, 27, 25, 25, 25, …\n",
      "$ fl           \u001b[3m\u001b[38;5;246m<chr>\u001b[39m\u001b[23m \"p\", \"p\", \"p\", \"p\", \"p\", \"p\", \"p\", \"p\", \"p\", \"p\", \"p\", \"…\n",
      "$ class        \u001b[3m\u001b[38;5;246m<chr>\u001b[39m\u001b[23m \"compact\", \"compact\", \"compact\", \"compact\", \"compact\", \"…\n"
     ]
    }
   ],
   "source": [
    "# Let's try with the new names\n",
    "# Hint: read_csv() with col_names parameter\n",
    "df_custom_col_names <- read_csv(\"mpg.csv\", col_names = v_mpg_col_names , skip = 1)\n",
    "\n",
    "# Compare the output to mpg\n",
    "# Hint: glimpse()\n",
    "df_custom_col_names %>% glimpse ()\n",
    "mpg %>% glimpse()"
   ]
  },
  {
   "cell_type": "markdown",
   "metadata": {},
   "source": [
    "# Changing data types\n",
    "Now that we can easily rename our columns. Let's set the data types manually\n",
    "\n",
    "We will use the col_type variable and a convenient shorthand letter for each column\n",
    "* c = character, \n",
    "* i = integer, \n",
    "* n = number, same as double\n",
    "* d = double, \n",
    "* l = logical, \n",
    "* D = date, \n",
    "* T = date time, \n",
    "* t = time, \n",
    "* ? = guess, \n",
    "* _ or - to skip the column\n"
   ]
  },
  {
   "cell_type": "code",
   "execution_count": 36,
   "metadata": {},
   "outputs": [
    {
     "name": "stdout",
     "output_type": "stream",
     "text": [
      "Observations: 234\n",
      "Variables: 11\n",
      "$ vehicle \u001b[3m\u001b[38;5;246m<chr>\u001b[39m\u001b[23m \"audi\", \"audi\", \"audi\", \"audi\", \"audi\", \"audi\", \"audi\", \"audi…\n",
      "$ model   \u001b[3m\u001b[38;5;246m<chr>\u001b[39m\u001b[23m \"a4\", \"a4\", \"a4\", \"a4\", \"a4\", \"a4\", \"a4\", \"a4 quattro\", \"a4 q…\n",
      "$ disp    \u001b[3m\u001b[38;5;246m<dbl>\u001b[39m\u001b[23m 1.8, 1.8, 2.0, 2.0, 2.8, 2.8, 3.1, 1.8, 1.8, 2.0, 2.0, 2.8, 2…\n",
      "$ year    \u001b[3m\u001b[38;5;246m<int>\u001b[39m\u001b[23m 1999, 1999, 2008, 2008, 1999, 1999, 2008, 1999, 1999, 2008, 2…\n",
      "$ cyl     \u001b[3m\u001b[38;5;246m<int>\u001b[39m\u001b[23m 4, 4, 4, 4, 6, 6, 6, 4, 4, 4, 4, 6, 6, 6, 6, 6, 6, 8, 8, 8, 8…\n",
      "$ trans   \u001b[3m\u001b[38;5;246m<chr>\u001b[39m\u001b[23m \"auto(l5)\", \"manual(m5)\", \"manual(m6)\", \"auto(av)\", \"auto(l5)…\n",
      "$ drv     \u001b[3m\u001b[38;5;246m<chr>\u001b[39m\u001b[23m \"f\", \"f\", \"f\", \"f\", \"f\", \"f\", \"f\", \"4\", \"4\", \"4\", \"4\", \"4\", \"…\n",
      "$ cty     \u001b[3m\u001b[38;5;246m<int>\u001b[39m\u001b[23m 18, 21, 20, 21, 16, 18, 18, 18, 16, 20, 19, 15, 17, 17, 15, 1…\n",
      "$ hwy     \u001b[3m\u001b[38;5;246m<int>\u001b[39m\u001b[23m 29, 29, 31, 30, 26, 26, 27, 26, 25, 28, 27, 25, 25, 25, 25, 2…\n",
      "$ fl      \u001b[3m\u001b[38;5;246m<chr>\u001b[39m\u001b[23m \"p\", \"p\", \"p\", \"p\", \"p\", \"p\", \"p\", \"p\", \"p\", \"p\", \"p\", \"p\", \"…\n",
      "$ class   \u001b[3m\u001b[38;5;246m<chr>\u001b[39m\u001b[23m \"compact\", \"compact\", \"compact\", \"compact\", \"compact\", \"compa…\n",
      "Observations: 234\n",
      "Variables: 11\n",
      "$ manufacturer \u001b[3m\u001b[38;5;246m<chr>\u001b[39m\u001b[23m \"audi\", \"audi\", \"audi\", \"audi\", \"audi\", \"audi\", \"audi\", …\n",
      "$ model        \u001b[3m\u001b[38;5;246m<chr>\u001b[39m\u001b[23m \"a4\", \"a4\", \"a4\", \"a4\", \"a4\", \"a4\", \"a4\", \"a4 quattro\", …\n",
      "$ displ        \u001b[3m\u001b[38;5;246m<dbl>\u001b[39m\u001b[23m 1.8, 1.8, 2.0, 2.0, 2.8, 2.8, 3.1, 1.8, 1.8, 2.0, 2.0, 2…\n",
      "$ year         \u001b[3m\u001b[38;5;246m<int>\u001b[39m\u001b[23m 1999, 1999, 2008, 2008, 1999, 1999, 2008, 1999, 1999, 20…\n",
      "$ cyl          \u001b[3m\u001b[38;5;246m<int>\u001b[39m\u001b[23m 4, 4, 4, 4, 6, 6, 6, 4, 4, 4, 4, 6, 6, 6, 6, 6, 6, 8, 8,…\n",
      "$ trans        \u001b[3m\u001b[38;5;246m<chr>\u001b[39m\u001b[23m \"auto(l5)\", \"manual(m5)\", \"manual(m6)\", \"auto(av)\", \"aut…\n",
      "$ drv          \u001b[3m\u001b[38;5;246m<chr>\u001b[39m\u001b[23m \"f\", \"f\", \"f\", \"f\", \"f\", \"f\", \"f\", \"4\", \"4\", \"4\", \"4\", \"…\n",
      "$ cty          \u001b[3m\u001b[38;5;246m<int>\u001b[39m\u001b[23m 18, 21, 20, 21, 16, 18, 18, 18, 16, 20, 19, 15, 17, 17, …\n",
      "$ hwy          \u001b[3m\u001b[38;5;246m<int>\u001b[39m\u001b[23m 29, 29, 31, 30, 26, 26, 27, 26, 25, 28, 27, 25, 25, 25, …\n",
      "$ fl           \u001b[3m\u001b[38;5;246m<chr>\u001b[39m\u001b[23m \"p\", \"p\", \"p\", \"p\", \"p\", \"p\", \"p\", \"p\", \"p\", \"p\", \"p\", \"…\n",
      "$ class        \u001b[3m\u001b[38;5;246m<chr>\u001b[39m\u001b[23m \"compact\", \"compact\", \"compact\", \"compact\", \"compact\", \"…\n"
     ]
    }
   ],
   "source": [
    "# One letter for each column\n",
    "v_mpg_col_type <- \"ccdiicciicc\"\n",
    "\n",
    "# set the data types\n",
    "# Hint: read_csv() with col_type parameter\n",
    "df_col_types <- read_csv(\"mpg.csv\", col_names = v_mpg_col_names, skip = 1, col_types = v_mpg_col_type )\n",
    "\n",
    "# Compare the output to mpg\n",
    "# Hint: glimpse()\n",
    "df_col_types %>% glimpse()\n",
    "mpg %>% glimpse ()"
   ]
  },
  {
   "cell_type": "markdown",
   "metadata": {},
   "source": [
    "Notice we got it all back and we have demonstrated full control over the column names and data types. Also notice that the specification information isn't displayed when specifying the column type."
   ]
  },
  {
   "cell_type": "markdown",
   "metadata": {},
   "source": [
    "# spec()\n",
    "\n",
    "Examine the column specifications for a data frame. spec extracts the full column specifications. cols_condense takes a spec object and condenses its definition by setting the default column type to the most frequent type and only listing columns with a different type.\n",
    "\n",
    "spec(x)"
   ]
  },
  {
   "cell_type": "code",
   "execution_count": 37,
   "metadata": {},
   "outputs": [],
   "source": [
    "# Pull up help on spec()\n",
    "? readr:: spec"
   ]
  },
  {
   "cell_type": "code",
   "execution_count": 39,
   "metadata": {},
   "outputs": [
    {
     "data": {
      "text/plain": [
       "cols(\n",
       "  vehicle = \u001b[31mcol_character()\u001b[39m,\n",
       "  model = \u001b[31mcol_character()\u001b[39m,\n",
       "  disp = \u001b[32mcol_double()\u001b[39m,\n",
       "  year = \u001b[32mcol_integer()\u001b[39m,\n",
       "  cyl = \u001b[32mcol_integer()\u001b[39m,\n",
       "  trans = \u001b[31mcol_character()\u001b[39m,\n",
       "  drv = \u001b[31mcol_character()\u001b[39m,\n",
       "  cty = \u001b[32mcol_integer()\u001b[39m,\n",
       "  hwy = \u001b[32mcol_integer()\u001b[39m,\n",
       "  fl = \u001b[31mcol_character()\u001b[39m,\n",
       "  class = \u001b[31mcol_character()\u001b[39m\n",
       ")"
      ]
     },
     "metadata": {},
     "output_type": "display_data"
    }
   ],
   "source": [
    "# Display the specification for df_col_types\n",
    "# Hint: spec()\n",
    "df_col_types %>% spec()"
   ]
  },
  {
   "cell_type": "markdown",
   "metadata": {},
   "source": [
    "# Handling a parsing error\n",
    "What happens when there is a parsing error? What does that look like and how can we best deal with it.\n",
    "\n",
    "Let's attempt to create an error by taking a string and asking for a double on the first column and a date on the last column>"
   ]
  },
  {
   "cell_type": "code",
   "execution_count": 43,
   "metadata": {
    "scrolled": false
   },
   "outputs": [
    {
     "name": "stderr",
     "output_type": "stream",
     "text": [
      "Warning message:\n",
      "“468 parsing failures.\n",
      "row     col   expected  actual      file\n",
      "  1 vehicle a double   audi    'mpg.csv'\n",
      "  1 class   date like  compact 'mpg.csv'\n",
      "  2 vehicle a double   audi    'mpg.csv'\n",
      "  2 class   date like  compact 'mpg.csv'\n",
      "  3 vehicle a double   audi    'mpg.csv'\n",
      "... ....... .......... ....... .........\n",
      "See problems(...) for more details.\n",
      "”"
     ]
    },
    {
     "name": "stdout",
     "output_type": "stream",
     "text": [
      "Observations: 234\n",
      "Variables: 11\n",
      "$ vehicle \u001b[3m\u001b[38;5;246m<dbl>\u001b[39m\u001b[23m NA, NA, NA, NA, NA, NA, NA, NA, NA, NA, NA, NA, NA, NA, NA, N…\n",
      "$ model   \u001b[3m\u001b[38;5;246m<chr>\u001b[39m\u001b[23m \"a4\", \"a4\", \"a4\", \"a4\", \"a4\", \"a4\", \"a4\", \"a4 quattro\", \"a4 q…\n",
      "$ disp    \u001b[3m\u001b[38;5;246m<dbl>\u001b[39m\u001b[23m 1.8, 1.8, 2.0, 2.0, 2.8, 2.8, 3.1, 1.8, 1.8, 2.0, 2.0, 2.8, 2…\n",
      "$ year    \u001b[3m\u001b[38;5;246m<int>\u001b[39m\u001b[23m 1999, 1999, 2008, 2008, 1999, 1999, 2008, 1999, 1999, 2008, 2…\n",
      "$ cyl     \u001b[3m\u001b[38;5;246m<int>\u001b[39m\u001b[23m 4, 4, 4, 4, 6, 6, 6, 4, 4, 4, 4, 6, 6, 6, 6, 6, 6, 8, 8, 8, 8…\n",
      "$ trans   \u001b[3m\u001b[38;5;246m<chr>\u001b[39m\u001b[23m \"auto(l5)\", \"manual(m5)\", \"manual(m6)\", \"auto(av)\", \"auto(l5)…\n",
      "$ drv     \u001b[3m\u001b[38;5;246m<chr>\u001b[39m\u001b[23m \"f\", \"f\", \"f\", \"f\", \"f\", \"f\", \"f\", \"4\", \"4\", \"4\", \"4\", \"4\", \"…\n",
      "$ cty     \u001b[3m\u001b[38;5;246m<int>\u001b[39m\u001b[23m 18, 21, 20, 21, 16, 18, 18, 18, 16, 20, 19, 15, 17, 17, 15, 1…\n",
      "$ hwy     \u001b[3m\u001b[38;5;246m<int>\u001b[39m\u001b[23m 29, 29, 31, 30, 26, 26, 27, 26, 25, 28, 27, 25, 25, 25, 25, 2…\n",
      "$ fl      \u001b[3m\u001b[38;5;246m<chr>\u001b[39m\u001b[23m \"p\", \"p\", \"p\", \"p\", \"p\", \"p\", \"p\", \"p\", \"p\", \"p\", \"p\", \"p\", \"…\n",
      "$ class   \u001b[3m\u001b[38;5;246m<date>\u001b[39m\u001b[23m NA, NA, NA, NA, NA, NA, NA, NA, NA, NA, NA, NA, NA, NA, NA, …\n",
      "Observations: 234\n",
      "Variables: 11\n",
      "$ manufacturer \u001b[3m\u001b[38;5;246m<chr>\u001b[39m\u001b[23m \"audi\", \"audi\", \"audi\", \"audi\", \"audi\", \"audi\", \"audi\", …\n",
      "$ model        \u001b[3m\u001b[38;5;246m<chr>\u001b[39m\u001b[23m \"a4\", \"a4\", \"a4\", \"a4\", \"a4\", \"a4\", \"a4\", \"a4 quattro\", …\n",
      "$ displ        \u001b[3m\u001b[38;5;246m<dbl>\u001b[39m\u001b[23m 1.8, 1.8, 2.0, 2.0, 2.8, 2.8, 3.1, 1.8, 1.8, 2.0, 2.0, 2…\n",
      "$ year         \u001b[3m\u001b[38;5;246m<int>\u001b[39m\u001b[23m 1999, 1999, 2008, 2008, 1999, 1999, 2008, 1999, 1999, 20…\n",
      "$ cyl          \u001b[3m\u001b[38;5;246m<int>\u001b[39m\u001b[23m 4, 4, 4, 4, 6, 6, 6, 4, 4, 4, 4, 6, 6, 6, 6, 6, 6, 8, 8,…\n",
      "$ trans        \u001b[3m\u001b[38;5;246m<chr>\u001b[39m\u001b[23m \"auto(l5)\", \"manual(m5)\", \"manual(m6)\", \"auto(av)\", \"aut…\n",
      "$ drv          \u001b[3m\u001b[38;5;246m<chr>\u001b[39m\u001b[23m \"f\", \"f\", \"f\", \"f\", \"f\", \"f\", \"f\", \"4\", \"4\", \"4\", \"4\", \"…\n",
      "$ cty          \u001b[3m\u001b[38;5;246m<int>\u001b[39m\u001b[23m 18, 21, 20, 21, 16, 18, 18, 18, 16, 20, 19, 15, 17, 17, …\n",
      "$ hwy          \u001b[3m\u001b[38;5;246m<int>\u001b[39m\u001b[23m 29, 29, 31, 30, 26, 26, 27, 26, 25, 28, 27, 25, 25, 25, …\n",
      "$ fl           \u001b[3m\u001b[38;5;246m<chr>\u001b[39m\u001b[23m \"p\", \"p\", \"p\", \"p\", \"p\", \"p\", \"p\", \"p\", \"p\", \"p\", \"p\", \"…\n",
      "$ class        \u001b[3m\u001b[38;5;246m<chr>\u001b[39m\u001b[23m \"compact\", \"compact\", \"compact\", \"compact\", \"compact\", \"…\n"
     ]
    }
   ],
   "source": [
    "# Take a string and ask for a double\n",
    "# on the first column and a \n",
    "# date on the last column\n",
    "# Hint: d - double, D - date\n",
    "v_mpg_col_names <- c('vehicle', 'model', 'disp', 'year', \n",
    "                     'cyl', 'trans', 'drv', 'cty', 'hwy', 'fl', 'class')\n",
    "v_mpg_col_type <- \"dcdiicciicD\"\n",
    "\n",
    "# Hint: read_csv() with parameters col_names and col_type\n",
    "df_problem <- read_csv(\"mpg.csv\", col_names = v_mpg_col_names , skip = 1, col_types = v_mpg_col_type)\n",
    "\n",
    "# Compare the output to mpg\n",
    "# Hint: glimpse()\n",
    "df_problem %>% glimpse()\n",
    "mpg %>% glimpse()"
   ]
  },
  {
   "cell_type": "markdown",
   "metadata": {},
   "source": [
    "* Notice the warning message including problems() function.\n",
    "* Notice the NA values for the first and last columns. It put NA as a placeholder meaning Not Available."
   ]
  },
  {
   "cell_type": "markdown",
   "metadata": {},
   "source": [
    "# problems()\n",
    "We can use problems(dataframe_name) to view any parsing problem that were encountered."
   ]
  },
  {
   "cell_type": "code",
   "execution_count": 44,
   "metadata": {
    "scrolled": false
   },
   "outputs": [
    {
     "data": {
      "text/html": [
       "<table>\n",
       "<caption>A tibble: 10 × 5</caption>\n",
       "<thead>\n",
       "\t<tr><th scope=col>row</th><th scope=col>col</th><th scope=col>expected</th><th scope=col>actual</th><th scope=col>file</th></tr>\n",
       "\t<tr><th scope=col>&lt;int&gt;</th><th scope=col>&lt;chr&gt;</th><th scope=col>&lt;chr&gt;</th><th scope=col>&lt;chr&gt;</th><th scope=col>&lt;chr&gt;</th></tr>\n",
       "</thead>\n",
       "<tbody>\n",
       "\t<tr><td>1</td><td>vehicle</td><td>a double  </td><td>audi   </td><td>'mpg.csv'</td></tr>\n",
       "\t<tr><td>1</td><td>class  </td><td>date like </td><td>compact</td><td>'mpg.csv'</td></tr>\n",
       "\t<tr><td>2</td><td>vehicle</td><td>a double  </td><td>audi   </td><td>'mpg.csv'</td></tr>\n",
       "\t<tr><td>2</td><td>class  </td><td>date like </td><td>compact</td><td>'mpg.csv'</td></tr>\n",
       "\t<tr><td>3</td><td>vehicle</td><td>a double  </td><td>audi   </td><td>'mpg.csv'</td></tr>\n",
       "\t<tr><td>3</td><td>class  </td><td>date like </td><td>compact</td><td>'mpg.csv'</td></tr>\n",
       "\t<tr><td>4</td><td>vehicle</td><td>a double  </td><td>audi   </td><td>'mpg.csv'</td></tr>\n",
       "\t<tr><td>4</td><td>class  </td><td>date like </td><td>compact</td><td>'mpg.csv'</td></tr>\n",
       "\t<tr><td>5</td><td>vehicle</td><td>a double  </td><td>audi   </td><td>'mpg.csv'</td></tr>\n",
       "\t<tr><td>5</td><td>class  </td><td>date like </td><td>compact</td><td>'mpg.csv'</td></tr>\n",
       "</tbody>\n",
       "</table>\n"
      ],
      "text/latex": [
       "A tibble: 10 × 5\n",
       "\\begin{tabular}{r|lllll}\n",
       " row & col & expected & actual & file\\\\\n",
       " <int> & <chr> & <chr> & <chr> & <chr>\\\\\n",
       "\\hline\n",
       "\t 1 & vehicle & a double   & audi    & 'mpg.csv'\\\\\n",
       "\t 1 & class   & date like  & compact & 'mpg.csv'\\\\\n",
       "\t 2 & vehicle & a double   & audi    & 'mpg.csv'\\\\\n",
       "\t 2 & class   & date like  & compact & 'mpg.csv'\\\\\n",
       "\t 3 & vehicle & a double   & audi    & 'mpg.csv'\\\\\n",
       "\t 3 & class   & date like  & compact & 'mpg.csv'\\\\\n",
       "\t 4 & vehicle & a double   & audi    & 'mpg.csv'\\\\\n",
       "\t 4 & class   & date like  & compact & 'mpg.csv'\\\\\n",
       "\t 5 & vehicle & a double   & audi    & 'mpg.csv'\\\\\n",
       "\t 5 & class   & date like  & compact & 'mpg.csv'\\\\\n",
       "\\end{tabular}\n"
      ],
      "text/markdown": [
       "\n",
       "A tibble: 10 × 5\n",
       "\n",
       "| row &lt;int&gt; | col &lt;chr&gt; | expected &lt;chr&gt; | actual &lt;chr&gt; | file &lt;chr&gt; |\n",
       "|---|---|---|---|---|\n",
       "| 1 | vehicle | a double   | audi    | 'mpg.csv' |\n",
       "| 1 | class   | date like  | compact | 'mpg.csv' |\n",
       "| 2 | vehicle | a double   | audi    | 'mpg.csv' |\n",
       "| 2 | class   | date like  | compact | 'mpg.csv' |\n",
       "| 3 | vehicle | a double   | audi    | 'mpg.csv' |\n",
       "| 3 | class   | date like  | compact | 'mpg.csv' |\n",
       "| 4 | vehicle | a double   | audi    | 'mpg.csv' |\n",
       "| 4 | class   | date like  | compact | 'mpg.csv' |\n",
       "| 5 | vehicle | a double   | audi    | 'mpg.csv' |\n",
       "| 5 | class   | date like  | compact | 'mpg.csv' |\n",
       "\n"
      ],
      "text/plain": [
       "   row col     expected   actual  file     \n",
       "1  1   vehicle a double   audi    'mpg.csv'\n",
       "2  1   class   date like  compact 'mpg.csv'\n",
       "3  2   vehicle a double   audi    'mpg.csv'\n",
       "4  2   class   date like  compact 'mpg.csv'\n",
       "5  3   vehicle a double   audi    'mpg.csv'\n",
       "6  3   class   date like  compact 'mpg.csv'\n",
       "7  4   vehicle a double   audi    'mpg.csv'\n",
       "8  4   class   date like  compact 'mpg.csv'\n",
       "9  5   vehicle a double   audi    'mpg.csv'\n",
       "10 5   class   date like  compact 'mpg.csv'"
      ]
     },
     "metadata": {},
     "output_type": "display_data"
    }
   ],
   "source": [
    "# Let's run problems()\n",
    "# pass it in your data frame\n",
    "# Let's also just view the top 10 rows\n",
    "# Hint: problems(), head()\n",
    "df_problem %>% problems() %>% head(10)"
   ]
  },
  {
   "cell_type": "markdown",
   "metadata": {},
   "source": [
    "Notice for each instance it has the column name, what it expects, and what was provided."
   ]
  },
  {
   "cell_type": "markdown",
   "metadata": {},
   "source": [
    "# Summary\n",
    "We learned how to import csv and tsv files and how to handle the header row, column names, and column types. We also viewed parsing problems."
   ]
  }
 ],
 "metadata": {
  "kernelspec": {
   "display_name": "R",
   "language": "R",
   "name": "ir"
  },
  "language_info": {
   "codemirror_mode": "r",
   "file_extension": ".r",
   "mimetype": "text/x-r-source",
   "name": "R",
   "pygments_lexer": "r",
   "version": "3.6.1"
  }
 },
 "nbformat": 4,
 "nbformat_minor": 1
}
