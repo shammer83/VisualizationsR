{
 "cells": [
  {
   "cell_type": "markdown",
   "metadata": {},
   "source": [
    "# Two-Sided T.Test\n",
    "## Exercise Instructions\n",
    "\n",
    "* Complete all cells as instructed, replacing any ??? with the appropriate code\n",
    "\n",
    "* Execute Jupyter **Kernel** > **Restart & Run All** and ensure that all code blocks run without error"
   ]
  },
  {
   "cell_type": "markdown",
   "metadata": {},
   "source": [
    "## Two sample hypothesis testing for comparing two means\n",
    "### Two-sided tests\n",
    "In L07-1, we saw a **two-sided** hypothesis test for inference about population means of two groups, based on samples from the two groups. It's two-sided because the null hypothesis is rejected if the first sample mean is sufficiently larger OR sufficiently smaller than the second sample mean. In other words, we are **not** specifying which mean we expect to be larger. \n",
    "\n",
    "Null hypothesis:  \n",
    "$H_0: \\mu_A = \\mu_B$\n",
    "\n",
    "(Note that this is the same as $\\mu_A - \\mu_B = 0$).\n",
    "\n",
    "Alternative hypothesis (two-sided):  \n",
    "$H_A: \\mu_A \\ne \\mu_B$ \n",
    "\n",
    "**Assumptions: **\n",
    "* Two normally distributed independent populations\n",
    "* Population variances are unknown and not assumed to be equal   \n",
    "\n",
    "As we saw in L07-1, the **t-statistic** for comparing two means is:  \n",
    "$t=\\frac{\\bar{x_1} - \\bar{x_2}}{\\sqrt{s_1^2/n_1+s_2^2/n_2}}$\n",
    "\n",
    "The two-sided test has \"rejection regions\" in the two tails of the normal distribution of the difference in group means. Extreme positive values of the t-statistic are in the upper rejection region, and extreme negative values are in the lower rejection region. Typically the \"cutoff\" values of these regions are set to make the probability in each region .025, so the total probability is .05.      \n",
    "\n",
    "If the p-value for the test is **less than** .05, we **reject** the null hypothesis (which is our default hypothesis). Otherwise, we **fail to reject** the null hypothesis. The \"fail to reject\" language indicates that the data don't provide enough evidence to reject the default. In L07-1, we used the R function pt() to determine the p-value for the two-sided test. \n",
    "\n",
    "A very commonly used R function for performing hypothesis tests is **t.test()**. Let's see how to do the example from L07-1 with t.test().\n",
    "\n",
    "**Example: **\n",
    "Question: Is there a statistically significant difference in **mean sale prices** between Old Town & Somerst neighborhoods?  \n",
    "$H_0: \\mu(OldTown) = \\mu(Somerst)$  \n",
    "$H_A: \\mu(OldTown) \\ne \\mu(Somerst)$"
   ]
  },
  {
   "cell_type": "code",
   "execution_count": 2,
   "metadata": {},
   "outputs": [
    {
     "name": "stderr",
     "output_type": "stream",
     "text": [
      "── \u001b[1mAttaching packages\u001b[22m ─────────────────────────────────────── tidyverse 1.2.1 ──\n",
      "\u001b[32m✔\u001b[39m \u001b[34mggplot2\u001b[39m 3.2.0     \u001b[32m✔\u001b[39m \u001b[34mpurrr  \u001b[39m 0.2.5\n",
      "\u001b[32m✔\u001b[39m \u001b[34mtibble \u001b[39m 2.1.3     \u001b[32m✔\u001b[39m \u001b[34mdplyr  \u001b[39m 0.8.3\n",
      "\u001b[32m✔\u001b[39m \u001b[34mtidyr  \u001b[39m 0.8.1     \u001b[32m✔\u001b[39m \u001b[34mstringr\u001b[39m 1.3.1\n",
      "\u001b[32m✔\u001b[39m \u001b[34mreadr  \u001b[39m 1.1.1     \u001b[32m✔\u001b[39m \u001b[34mforcats\u001b[39m 0.3.0\n",
      "── \u001b[1mConflicts\u001b[22m ────────────────────────────────────────── tidyverse_conflicts() ──\n",
      "\u001b[31m✖\u001b[39m \u001b[34mdplyr\u001b[39m::\u001b[32mfilter()\u001b[39m masks \u001b[34mstats\u001b[39m::filter()\n",
      "\u001b[31m✖\u001b[39m \u001b[34mdplyr\u001b[39m::\u001b[32mlag()\u001b[39m    masks \u001b[34mstats\u001b[39m::lag()\n"
     ]
    }
   ],
   "source": [
    "# Load libraries\n",
    "library(tidyverse)"
   ]
  },
  {
   "cell_type": "code",
   "execution_count": 3,
   "metadata": {},
   "outputs": [
    {
     "name": "stderr",
     "output_type": "stream",
     "text": [
      "Parsed with column specification:\n",
      "cols(\n",
      "  .default = col_character(),\n",
      "  Order = col_double(),\n",
      "  Lot_Frontage = col_integer(),\n",
      "  Lot_Area = col_double(),\n",
      "  Overall_Qual = col_integer(),\n",
      "  Overall_Cond = col_integer(),\n",
      "  Year_Built = col_double(),\n",
      "  Year_Remod_Add = col_double(),\n",
      "  Mas_Vnr_Area = col_integer(),\n",
      "  BsmtFin_SF_1 = col_double(),\n",
      "  BsmtFin_SF_2 = col_integer(),\n",
      "  Bsmt_Unf_SF = col_integer(),\n",
      "  Total_Bsmt_SF = col_integer(),\n",
      "  Z_1st_Flr_SF = col_double(),\n",
      "  Z_2nd_Flr_SF = col_double(),\n",
      "  Low_Qual_Fin_SF = col_integer(),\n",
      "  Gr_Liv_Area = col_integer(),\n",
      "  Bsmt_Full_Bath = col_integer(),\n",
      "  Bsmt_Half_Bath = col_integer(),\n",
      "  Full_Bath = col_integer(),\n",
      "  Half_Bath = col_integer()\n",
      "  # ... with 17 more columns\n",
      ")\n",
      "See spec(...) for full column specifications.\n"
     ]
    }
   ],
   "source": [
    "# Load data: ames_housing.csv\n",
    "# Convert character columns to factor\n",
    "# Select columns of interest: Neighborhood, SalePrice\n",
    "# Store in df_ames_housing\n",
    "# Hint: read_csv(), mutate_if(), select(), is.character(), as.factor()\n",
    "df_ames_housing <- \"ames_housing.csv\" %>% \n",
    "   read_csv() %>% \n",
    "   mutate_if(is.character, as.factor) %>% \n",
    "   select(Neighborhood, SalePrice)"
   ]
  },
  {
   "cell_type": "code",
   "execution_count": 5,
   "metadata": {},
   "outputs": [
    {
     "name": "stdout",
     "output_type": "stream",
     "text": [
      "Observations: 2,930\n",
      "Variables: 2\n",
      "$ Neighborhood \u001b[3m\u001b[90m<fct>\u001b[39m\u001b[23m NAmes, NAmes, NAmes, NAmes, Gilbert, Gilbert, StoneBr, S…\n",
      "$ SalePrice    \u001b[3m\u001b[90m<dbl>\u001b[39m\u001b[23m 215000, 105000, 172000, 244000, 189900, 195500, 213500, …\n"
     ]
    },
    {
     "data": {
      "text/plain": [
       "  Neighborhood    SalePrice     \n",
       " NAmes  : 443   Min.   : 12789  \n",
       " CollgCr: 267   1st Qu.:129500  \n",
       " OldTown: 239   Median :160000  \n",
       " Edwards: 194   Mean   :180796  \n",
       " Somerst: 182   3rd Qu.:213500  \n",
       " NridgHt: 166   Max.   :755000  \n",
       " (Other):1439                   "
      ]
     },
     "metadata": {},
     "output_type": "display_data"
    }
   ],
   "source": [
    "# Explore data structure\n",
    "# Data: AmesHousing\n",
    "df_ames_housing %>% glimpse() %>% summary()"
   ]
  },
  {
   "cell_type": "markdown",
   "metadata": {},
   "source": [
    "# Create subsets for two neighborhoods\n",
    "We are creating two samples which we will perform a hypothesis test that these two neighborhoods do not affect the sales price. We will perform a two-sample two-sided hypothesis test."
   ]
  },
  {
   "cell_type": "code",
   "execution_count": 6,
   "metadata": {},
   "outputs": [
    {
     "name": "stdout",
     "output_type": "stream",
     "text": [
      "Observations: 182\n",
      "Variables: 2\n",
      "$ Neighborhood \u001b[3m\u001b[90m<fct>\u001b[39m\u001b[23m Somerst, Somerst, Somerst, Somerst, Somerst, Somerst, So…\n",
      "$ SalePrice    \u001b[3m\u001b[90m<dbl>\u001b[39m\u001b[23m 216000, 221500, 204500, 215200, 262500, 254900, 271500, …\n"
     ]
    },
    {
     "data": {
      "text/plain": [
       "  Neighborhood   SalePrice     \n",
       " Somerst:182   Min.   :139000  \n",
       " Blmngtn:  0   1st Qu.:185000  \n",
       " Blueste:  0   Median :225500  \n",
       " BrDale :  0   Mean   :229707  \n",
       " BrkSide:  0   3rd Qu.:259375  \n",
       " ClearCr:  0   Max.   :468000  \n",
       " (Other):  0                   "
      ]
     },
     "metadata": {},
     "output_type": "display_data"
    }
   ],
   "source": [
    "# Filter data for Neighborhood equal Somerst\n",
    "# Store in dataframe df_somerst\n",
    "df_somerst <- df_ames_housing %>% filter (Neighborhood == \"Somerst\")\n",
    "\n",
    "# Explore results\n",
    "df_somerst %>% glimpse() %>% summary()"
   ]
  },
  {
   "cell_type": "markdown",
   "metadata": {},
   "source": [
    "Notice the number of rows is reduced and the Neighborhood is as expected."
   ]
  },
  {
   "cell_type": "code",
   "execution_count": 7,
   "metadata": {},
   "outputs": [
    {
     "name": "stdout",
     "output_type": "stream",
     "text": [
      "Observations: 239\n",
      "Variables: 2\n",
      "$ Neighborhood \u001b[3m\u001b[90m<fct>\u001b[39m\u001b[23m OldTown, OldTown, OldTown, OldTown, OldTown, OldTown, Ol…\n",
      "$ SalePrice    \u001b[3m\u001b[90m<dbl>\u001b[39m\u001b[23m 144000, 80400, 96500, 109500, 115000, 143000, 107400, 80…\n"
     ]
    },
    {
     "data": {
      "text/plain": [
       "  Neighborhood   SalePrice     \n",
       " OldTown:239   Min.   : 12789  \n",
       " Blmngtn:  0   1st Qu.:103350  \n",
       " Blueste:  0   Median :119900  \n",
       " BrDale :  0   Mean   :123992  \n",
       " BrkSide:  0   3rd Qu.:140000  \n",
       " ClearCr:  0   Max.   :475000  \n",
       " (Other):  0                   "
      ]
     },
     "metadata": {},
     "output_type": "display_data"
    }
   ],
   "source": [
    "# Filter data for Neighborhood equal OldTown\n",
    "# Store in dataframe df_old_town\n",
    "df_old_town <- df_ames_housing %>% filter (Neighborhood == \"OldTown\" )\n",
    "\n",
    "# Explore results\n",
    "df_old_town %>% glimpse() %>% summary()"
   ]
  },
  {
   "cell_type": "markdown",
   "metadata": {},
   "source": [
    "Notice the number of rows is reduced and the Neighborhood is as expected."
   ]
  },
  {
   "cell_type": "markdown",
   "metadata": {},
   "source": [
    "# Mean and standard deviation of each series\n",
    "Look at the mean and standard deviation of each series to see how close they are to each other."
   ]
  },
  {
   "cell_type": "code",
   "execution_count": 9,
   "metadata": {},
   "outputs": [
    {
     "name": "stdout",
     "output_type": "stream",
     "text": [
      "Somerst: mean = 229707.3 and standard deviation = 57437.4"
     ]
    }
   ],
   "source": [
    "# Get the mean and standard deviation of Somerst\n",
    "# Round to 1 decimal places\n",
    "# Hint: mean(), sd(), round()\n",
    "somerst_mean <- df_somerst$SalePrice %>% mean() %>% round(1)\n",
    "somerst_sd <- df_somerst$SalePrice %>% sd() %>% round(1)\n",
    "\n",
    "# Print results\n",
    "cat(str_c(\"Somerst: mean = \", somerst_mean, \" and standard deviation = \", somerst_sd))"
   ]
  },
  {
   "cell_type": "code",
   "execution_count": 11,
   "metadata": {},
   "outputs": [
    {
     "name": "stdout",
     "output_type": "stream",
     "text": [
      "OldTown: mean = 123991.9 and standard deviation = 44327.1"
     ]
    }
   ],
   "source": [
    "# Get the mean and standard deviation of OldTown\n",
    "# Round to 1 decimal places\n",
    "# Hint: mean(), sd(), round()\n",
    "old_town_mean <- df_old_town$SalePrice %>% mean () %>% round(1)\n",
    "old_town_sd <- df_old_town$SalePrice %>% sd() %>% round(1)\n",
    "\n",
    "# Print results\n",
    "cat(str_c(\"OldTown: mean = \", old_town_mean, \" and standard deviation = \", old_town_sd))"
   ]
  },
  {
   "cell_type": "markdown",
   "metadata": {},
   "source": [
    "Notice that the mean of Somerst is almost double the mean of OldTown with the standard deviation not that much different from each other. That is a good indicator that they will be statistically significant. "
   ]
  },
  {
   "cell_type": "markdown",
   "metadata": {},
   "source": [
    "# t.test()\n",
    "The Student's t-Test can perform one and two sample tests. It can perform one and two sided tests. "
   ]
  },
  {
   "cell_type": "code",
   "execution_count": 12,
   "metadata": {
    "collapsed": true
   },
   "outputs": [],
   "source": [
    "# Display help for t.test()\n",
    "? t.test"
   ]
  },
  {
   "cell_type": "markdown",
   "metadata": {},
   "source": [
    "# t.test {stats}\tR Documentation\n",
    "Student's t-Test\n",
    "## Description\n",
    "Performs one and two sample t-tests on vectors of data.\n",
    "\n",
    "## Usage\n",
    "t.test(x, y = NULL,\n",
    "       alternative = c(\"two.sided\", \"less\", \"greater\"),\n",
    "       mu = 0, paired = FALSE, var.equal = FALSE,\n",
    "       conf.level = 0.95, ...)\n",
    "\n"
   ]
  },
  {
   "cell_type": "markdown",
   "metadata": {},
   "source": [
    "# Perform a two-sided t-test\n",
    "Perform a two-sided t-test using two samples, Somerst and OldTown. The result of this test will indicate whether these two samples are statistically different from each other."
   ]
  },
  {
   "cell_type": "code",
   "execution_count": 13,
   "metadata": {},
   "outputs": [
    {
     "name": "stdout",
     "output_type": "stream",
     "text": [
      "\n",
      "**** Somerst != OldTown ****"
     ]
    },
    {
     "data": {
      "text/plain": [
       "\n",
       "\tWelch Two Sample t-test\n",
       "\n",
       "data:  df_somerst$SalePrice and df_old_town$SalePrice\n",
       "t = 20.595, df = 330.68, p-value < 2.2e-16\n",
       "alternative hypothesis: true difference in means is not equal to 0\n",
       "95 percent confidence interval:\n",
       "  95617.93 115812.94\n",
       "sample estimates:\n",
       "mean of x mean of y \n",
       " 229707.3  123991.9 \n"
      ]
     },
     "metadata": {},
     "output_type": "display_data"
    }
   ],
   "source": [
    "# Perform a two sample, two-sided t-test, on SalePrice for Somerst and OldTown\n",
    "# Confidence level: 95%\n",
    "# Hint: t.test()\n",
    "cat(\"\\n**** Somerst != OldTown ****\")\n",
    "t.test(df_somerst$SalePrice, df_old_town$SalePrice, conf.level = 0.95 , alternative=\"two.sided\")"
   ]
  },
  {
   "cell_type": "markdown",
   "metadata": {
    "collapsed": true
   },
   "source": [
    "# Interpreting the results of the t.test output\n",
    "Let's look at the output from t.test(). It's titled \"Welch Two Sample t-test\" because for unequal population variances, the (complicated) expression for degrees of freedom is called the Welch (or Satterthwaite) approximation.\n",
    "\n",
    "## t statistic, degrees of freedom, p-value\n",
    "The first row shows the value of the t-statistic (large positive), its degrees of freedom, and its p-value. For this test, the p-value is very small: on the order of 10 to the power -16! It's much less than .05, so we **reject** the null hypothesis that the average house price in Old Town & Somerst neighborhoods is the same.\n",
    "\n",
    "## p-value < 0.05 rejects the null hypothesis\n",
    "This 0.05 threshold is 1 - the confidence level which is 0.95 or 95%. Anything below this value means it is statistically significant for this confidence level. \n",
    "\n",
    "## Alternative hypothesis\n",
    "The output reminds us of our alternative hypothesis of the difference in sample means *not equal* to 0. This is a two-sided test. \n",
    "\n",
    "## Confidence interval\n",
    "Then gives a confidence interval for the **difference** in population means. For a significant result (like this one), the confidence interval does not contain 0. \n",
    "\n",
    "## Mean of each sample\n",
    "The final line of the output just shows the means of the two samples. "
   ]
  },
  {
   "cell_type": "markdown",
   "metadata": {},
   "source": [
    "# t.test() default values\n",
    "t.test will default to a two-sided test with a confidence level of 0.95. If you are performing this test, then it isn't necessary to specify these parameters, although you can for readability if you prefer."
   ]
  },
  {
   "cell_type": "markdown",
   "metadata": {},
   "source": [
    "# Code Summary\n",
    "Let's summarize the code for a two-sample, two-sided t.test."
   ]
  },
  {
   "cell_type": "code",
   "execution_count": 16,
   "metadata": {},
   "outputs": [
    {
     "name": "stderr",
     "output_type": "stream",
     "text": [
      "Parsed with column specification:\n",
      "cols(\n",
      "  .default = col_character(),\n",
      "  Order = col_double(),\n",
      "  Lot_Frontage = col_integer(),\n",
      "  Lot_Area = col_double(),\n",
      "  Overall_Qual = col_integer(),\n",
      "  Overall_Cond = col_integer(),\n",
      "  Year_Built = col_double(),\n",
      "  Year_Remod_Add = col_double(),\n",
      "  Mas_Vnr_Area = col_integer(),\n",
      "  BsmtFin_SF_1 = col_double(),\n",
      "  BsmtFin_SF_2 = col_integer(),\n",
      "  Bsmt_Unf_SF = col_integer(),\n",
      "  Total_Bsmt_SF = col_integer(),\n",
      "  Z_1st_Flr_SF = col_double(),\n",
      "  Z_2nd_Flr_SF = col_double(),\n",
      "  Low_Qual_Fin_SF = col_integer(),\n",
      "  Gr_Liv_Area = col_integer(),\n",
      "  Bsmt_Full_Bath = col_integer(),\n",
      "  Bsmt_Half_Bath = col_integer(),\n",
      "  Full_Bath = col_integer(),\n",
      "  Half_Bath = col_integer()\n",
      "  # ... with 17 more columns\n",
      ")\n",
      "See spec(...) for full column specifications.\n"
     ]
    },
    {
     "data": {
      "text/plain": [
       "\n",
       "\tWelch Two Sample t-test\n",
       "\n",
       "data:  df_somerst$SalePrice and df_old_town$SalePrice\n",
       "t = 20.595, df = 330.68, p-value < 2.2e-16\n",
       "alternative hypothesis: true difference in means is not equal to 0\n",
       "95 percent confidence interval:\n",
       "  95617.93 115812.94\n",
       "sample estimates:\n",
       "mean of x mean of y \n",
       " 229707.3  123991.9 \n"
      ]
     },
     "metadata": {},
     "output_type": "display_data"
    }
   ],
   "source": [
    "# Load libraries\n",
    "library( tidyverse )\n",
    "\n",
    "# Load data: ames_housing.csv\n",
    "df_ames_housing <- \"ames_housing.csv\" %>% \n",
    "   read_csv(progress=FALSE) %>% \n",
    "   mutate_if (is.character, as.factor) %>% \n",
    "   select(Neighborhood, SalePrice)\n",
    "\n",
    "# Get two samples\n",
    "df_old_town <- df_ames_housing %>% filter( Neighborhood == \"OldTown\" )\n",
    "df_somerst <- df_ames_housing %>% filter( Neighborhood == \"Somerst\" )\n",
    "\n",
    "# Perform t.test\n",
    "t.test(df_somerst$SalePrice, df_old_town$SalePrice, conf.level = 0.95, alternative = \"two.sided\" )"
   ]
  },
  {
   "cell_type": "code",
   "execution_count": null,
   "metadata": {
    "collapsed": true
   },
   "outputs": [],
   "source": []
  }
 ],
 "metadata": {
  "kernelspec": {
   "display_name": "R 3.5.1",
   "language": "R",
   "name": "ir"
  },
  "language_info": {
   "codemirror_mode": "r",
   "file_extension": ".r",
   "mimetype": "text/x-r-source",
   "name": "R",
   "pygments_lexer": "r",
   "version": "3.5.1"
  }
 },
 "nbformat": 4,
 "nbformat_minor": 2
}
