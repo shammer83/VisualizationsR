{
 "cells": [
  {
   "cell_type": "markdown",
   "metadata": {},
   "source": [
    "# L01-E2-Scatterplots\n",
    "## Exercise Instructions\n",
    "\n",
    "* Complete all cells as instructed, replacing any ??? with the appropriate code\n",
    "\n",
    "* Execute Jupyter **Kernel** > **Restart & Run All** and ensure that all code blocks run without error"
   ]
  },
  {
   "cell_type": "markdown",
   "metadata": {},
   "source": [
    "# Scatterplots\n",
    "\n",
    "We have been looking at vehicle fuel economy using a scatterplot of miles per gallon and the size of the vehicle’s engine as measured in piston displacement. Scatterplots are useful to show the relationship between two variables. It is good practice to explore all the data variables available in the dataset. There are other variables that are related to the size of the engine. \n",
    "\n",
    "We’ll look at these variables to see if they reveal any new information. Using the same datasets, mtcars and mpg, we will deepen our understanding of the functions you previously used, namely library(), glimpse(), ggplot() and geom_point(). We will also introduce comments, a key feature to making your code more human readable, including your future self.\n",
    "\n",
    "\n",
    "## R Features\n",
    "* library()\n",
    "* class()\n",
    "* glimpse()\n",
    "* ggplot()\n",
    "* geom_point()\n",
    "\n",
    "## Datasets\n",
    "* mtcars\n",
    "* mpg"
   ]
  },
  {
   "cell_type": "markdown",
   "metadata": {},
   "source": [
    "## Comments\n",
    "R Code comments start with a \\# (pound sign). They can be on their own line or at the end of a line of code. All text after the \\# is ignored by R. Comments are used for two purposes. \n",
    "1. Communciate something via text to other humans...or to your future self\n",
    "2. Keep a line of code from executing, often called 'commented out' code\n",
    "\n",
    "Feel free to add your comments in any of the exercises. It doesn't affect the running of the code and it is good practice.\n",
    "\n",
    "## Jupyter Code Blocks\n",
    "Jupyter code blocks are like the one shown below. They simply group the code so you can run all those lines at once either by clicking the run button on the toolbar or by holding down the control key and pressing Enter.\n",
    "\n",
    "To the left of the code block is In []:. Inside the square brackets is the status of that block. If it is: \n",
    "* blank - it hasn't been run before\n",
    "* \\* - currently running\n",
    "* (number) means that it completed running. The number is just an execution counter and goes up by one every time any code block is run in the notebook."
   ]
  },
  {
   "cell_type": "code",
   "execution_count": null,
   "metadata": {},
   "outputs": [],
   "source": []
  },
  {
   "cell_type": "code",
   "execution_count": null,
   "metadata": {},
   "outputs": [],
   "source": []
  },
  {
   "cell_type": "code",
   "execution_count": null,
   "metadata": {},
   "outputs": [],
   "source": []
  }
 ],
 "metadata": {
  "kernelspec": {
   "display_name": "R",
   "language": "R",
   "name": "ir"
  },
  "language_info": {
   "codemirror_mode": "r",
   "file_extension": ".r",
   "mimetype": "text/x-r-source",
   "name": "R",
   "pygments_lexer": "r",
   "version": "3.6.1"
  }
 },
 "nbformat": 4,
 "nbformat_minor": 2
}
