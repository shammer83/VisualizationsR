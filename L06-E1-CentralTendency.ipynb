{
 "cells": [
  {
   "cell_type": "markdown",
   "metadata": {},
   "source": [
    "# Central Tendency\n",
    "## Exercise Instructions\n",
    "\n",
    "* Complete all cells as instructed, replacing any ??? with the appropriate code\n",
    "\n",
    "* Execute Jupyter **Kernel** > **Restart & Run All** and ensure that all code blocks run without error\n",
    "\n",
    "\n",
    "You will explore ways to describe and quantify the center or middle of the data. \n",
    "\n",
    "## R Features\n",
    "* mean()\n",
    "* median()\n",
    "* mfv() - most frequent value (mode)\n",
    "* quantile()\n",
    "* min()\n",
    "* max()\n",
    "* summary()\n",
    "* rank()\n",
    "* dense_rank()\n",
    "* row_number()\n",
    "* min_rank()\n",
    "* percent_rank()\n",
    "* data_frame()\n",
    "* seq_along()\n",
    "* sample()\n",
    "* geom_hline()\n",
    "* geom_boxplot()\n",
    "* Others: \n",
    "   * library()\n",
    "   * c()\n",
    "   * str_c()\n",
    "   * cat()\n",
    "   * select()\n",
    "   * glimpse()\n",
    "   * print()\n",
    "   * head()\n",
    "   * ggplot()\n",
    "   * geom_point()\n",
    "   * labs()\n",
    "\n",
    "## Datasets\n",
    "* mpg"
   ]
  },
  {
   "cell_type": "code",
   "execution_count": 18,
   "metadata": {},
   "outputs": [],
   "source": [
    "# Load libraries\n",
    "library(modeest)  # modeest needed for mode\n",
    "library(tidyverse)"
   ]
  },
  {
   "cell_type": "markdown",
   "metadata": {},
   "source": [
    "# Create sample data"
   ]
  },
  {
   "cell_type": "code",
   "execution_count": 19,
   "metadata": {
    "scrolled": true
   },
   "outputs": [
    {
     "name": "stdout",
     "output_type": "stream",
     "text": [
      "3 numbers: 1, 2, 3\n",
      "4 numbers: 10, 20, 30, 40\n",
      "5 numbers: 6, 7, 8, 12, 8\n",
      "na_numbers:[1]  NA   7  NA 100   8\n",
      "outlier numbers: 9, 10, 11, 12, 1000\n",
      "Observations: 234\n",
      "Variables: 3\n",
      "$ cyl   \u001b[3m\u001b[90m<int>\u001b[39m\u001b[23m 4, 4, 4, 4, 6, 6, 6, 4, 4, 4, 4, 6, 6, 6, 6, 6, 6, 8, 8, 8, 8, …\n",
      "$ displ \u001b[3m\u001b[90m<dbl>\u001b[39m\u001b[23m 1.8, 1.8, 2.0, 2.0, 2.8, 2.8, 3.1, 1.8, 1.8, 2.0, 2.0, 2.8, 2.8…\n",
      "$ hwy   \u001b[3m\u001b[90m<int>\u001b[39m\u001b[23m 29, 29, 31, 30, 26, 26, 27, 26, 25, 28, 27, 25, 25, 25, 25, 24,…\n"
     ]
    }
   ],
   "source": [
    "three_numbers <- c(1, 2, 3)\n",
    "str_c(\"3 numbers: \", str_c(three_numbers, collapse = \", \"), \"\\n\") %>% cat()\n",
    "\n",
    "four_numbers <- c(10, 20, 30, 40)\n",
    "str_c(\"4 numbers: \", str_c(four_numbers, collapse = \", \"), \"\\n\") %>% cat()\n",
    "\n",
    "five_numbers <- c(6, 7, 8, 12, 8)\n",
    "str_c(\"5 numbers: \", str_c(five_numbers, collapse = \", \"), \"\\n\") %>% cat()\n",
    "\n",
    "na_numbers  <- c(NA, 7, NA, 100, 8)\n",
    "cat(\"na_numbers:\")\n",
    "print(na_numbers)\n",
    "\n",
    "outlier_numbers  <- c(9, 10, 11, 12, 1000)\n",
    "str_c(\"outlier numbers: \", str_c(outlier_numbers, collapse = \", \"), \"\\n\") %>% cat()\n",
    "\n",
    "df <- mpg %>% select(cyl, displ, hwy)\n",
    "df %>% glimpse()"
   ]
  },
  {
   "cell_type": "markdown",
   "metadata": {},
   "source": [
    "# mean()"
   ]
  },
  {
   "cell_type": "code",
   "execution_count": 20,
   "metadata": {},
   "outputs": [
    {
     "ename": "ERROR",
     "evalue": "Error in .helpForCall(topicExpr, parent.frame()): no methods for ‘meand’ and no documentation for it as a function\n",
     "output_type": "error",
     "traceback": [
      "Error in .helpForCall(topicExpr, parent.frame()): no methods for ‘meand’ and no documentation for it as a function\nTraceback:\n",
      "1. `?`(meand())",
      "2. .helpForCall(topicExpr, parent.frame())",
      "3. stop(gettextf(\"no methods for %s and no documentation for it as a function\", \n .     sQuote(f)), domain = NA)"
     ]
    }
   ],
   "source": [
    "# Display help on mean()\n",
    "?mean()"
   ]
  },
  {
   "cell_type": "markdown",
   "metadata": {},
   "source": [
    "# mean {base}\tR Documentation\n",
    "Arithmetic Mean\n",
    "\n",
    "## Description\n",
    "\n",
    "Generic function for the (trimmed) arithmetic mean.\n",
    "\n",
    "## Usage\n",
    "\n",
    "mean(x, ...)\n",
    "\n",
    "## Arguments\n",
    "\n",
    "* x\tAn R object. Currently there are methods for numeric/logical vectors and date, date-time and time interval objects. Complex vectors are allowed for trim = 0, only.   \n",
    "* trim\tthe fraction (0 to 0.5) of observations to be trimmed from each end of x before the mean is computed. Values of trim outside that range are taken as the nearest endpoint.   \n",
    "* na.rm\ta logical value indicating whether NA values should be stripped before the computation proceeds.   \n",
    "* ...\tfurther arguments passed to or from other methods. "
   ]
  },
  {
   "cell_type": "markdown",
   "metadata": {},
   "source": [
    "# Calcluate mean of each sample"
   ]
  },
  {
   "cell_type": "code",
   "execution_count": 21,
   "metadata": {},
   "outputs": [
    {
     "name": "stdout",
     "output_type": "stream",
     "text": [
      "[1] \"literal vector\"\n"
     ]
    },
    {
     "data": {
      "text/html": [
       "2"
      ],
      "text/latex": [
       "2"
      ],
      "text/markdown": [
       "2"
      ],
      "text/plain": [
       "[1] 2"
      ]
     },
     "metadata": {},
     "output_type": "display_data"
    },
    {
     "name": "stdout",
     "output_type": "stream",
     "text": [
      "[1] \"piped version\"\n"
     ]
    },
    {
     "data": {
      "text/html": [
       "2"
      ],
      "text/latex": [
       "2"
      ],
      "text/markdown": [
       "2"
      ],
      "text/plain": [
       "[1] 2"
      ]
     },
     "metadata": {},
     "output_type": "display_data"
    },
    {
     "name": "stdout",
     "output_type": "stream",
     "text": [
      "[1] \"three_numbers\"\n"
     ]
    },
    {
     "data": {
      "text/html": [
       "2"
      ],
      "text/latex": [
       "2"
      ],
      "text/markdown": [
       "2"
      ],
      "text/plain": [
       "[1] 2"
      ]
     },
     "metadata": {},
     "output_type": "display_data"
    },
    {
     "name": "stdout",
     "output_type": "stream",
     "text": [
      "[1] \"four_numbers\"\n"
     ]
    },
    {
     "data": {
      "text/html": [
       "25"
      ],
      "text/latex": [
       "25"
      ],
      "text/markdown": [
       "25"
      ],
      "text/plain": [
       "[1] 25"
      ]
     },
     "metadata": {},
     "output_type": "display_data"
    },
    {
     "name": "stdout",
     "output_type": "stream",
     "text": [
      "[1] \"five_numbers\"\n"
     ]
    },
    {
     "data": {
      "text/html": [
       "8.2"
      ],
      "text/latex": [
       "8.2"
      ],
      "text/markdown": [
       "8.2"
      ],
      "text/plain": [
       "[1] 8.2"
      ]
     },
     "metadata": {},
     "output_type": "display_data"
    },
    {
     "name": "stdout",
     "output_type": "stream",
     "text": [
      "[1] \"na_numbers\"\n"
     ]
    },
    {
     "data": {
      "text/html": [
       "&lt;NA&gt;"
      ],
      "text/latex": [
       "<NA>"
      ],
      "text/markdown": [
       "&lt;NA&gt;"
      ],
      "text/plain": [
       "[1] NA"
      ]
     },
     "metadata": {},
     "output_type": "display_data"
    },
    {
     "name": "stdout",
     "output_type": "stream",
     "text": [
      "[1] \"outlier_numbers\"\n"
     ]
    },
    {
     "data": {
      "text/html": [
       "208.4"
      ],
      "text/latex": [
       "208.4"
      ],
      "text/markdown": [
       "208.4"
      ],
      "text/plain": [
       "[1] 208.4"
      ]
     },
     "metadata": {},
     "output_type": "display_data"
    },
    {
     "name": "stdout",
     "output_type": "stream",
     "text": [
      "[1] \"df$cyl\"\n"
     ]
    },
    {
     "data": {
      "text/html": [
       "5.88888888888889"
      ],
      "text/latex": [
       "5.88888888888889"
      ],
      "text/markdown": [
       "5.88888888888889"
      ],
      "text/plain": [
       "[1] 5.888889"
      ]
     },
     "metadata": {},
     "output_type": "display_data"
    },
    {
     "name": "stdout",
     "output_type": "stream",
     "text": [
      "[1] \"df$displ\"\n"
     ]
    },
    {
     "data": {
      "text/html": [
       "3.47179487179487"
      ],
      "text/latex": [
       "3.47179487179487"
      ],
      "text/markdown": [
       "3.47179487179487"
      ],
      "text/plain": [
       "[1] 3.471795"
      ]
     },
     "metadata": {},
     "output_type": "display_data"
    },
    {
     "name": "stdout",
     "output_type": "stream",
     "text": [
      "[1] \"df$hwy\"\n"
     ]
    },
    {
     "data": {
      "text/html": [
       "23.4401709401709"
      ],
      "text/latex": [
       "23.4401709401709"
      ],
      "text/markdown": [
       "23.4401709401709"
      ],
      "text/plain": [
       "[1] 23.44017"
      ]
     },
     "metadata": {},
     "output_type": "display_data"
    }
   ],
   "source": [
    "# Hint: mean()\n",
    "\n",
    "# literal vector\n",
    "print(\"literal vector\")\n",
    "mean(c(1, 2, 3))\n",
    "\n",
    "# Piped version\n",
    "print(\"piped version\")\n",
    "c(1, 2, 3) %>% mean()\n",
    "\n",
    "print(\"three_numbers\")\n",
    "three_numbers %>% mean()\n",
    "\n",
    "print(\"four_numbers\")\n",
    "four_numbers %>% mean()\n",
    "\n",
    "print(\"five_numbers\")\n",
    "five_numbers %>% mean()\n",
    "\n",
    "print(\"na_numbers\")\n",
    "na_numbers  %>% mean()\n",
    "\n",
    "print(\"outlier_numbers\")\n",
    "outlier_numbers  %>% mean()\n",
    "\n",
    "print(\"df$cyl\")\n",
    "df$cyl %>% mean()\n",
    "\n",
    "print(\"df$displ\")\n",
    "df$displ %>% mean()\n",
    "\n",
    "print(\"df$hwy\")\n",
    "df$hwy %>% mean()"
   ]
  },
  {
   "cell_type": "markdown",
   "metadata": {},
   "source": [
    "Notice how the na_numbers just returned an NA. "
   ]
  },
  {
   "cell_type": "markdown",
   "metadata": {},
   "source": [
    "# Handling NA with na.rm = TRUE\n",
    "We can instead skip over the NA values and calculate the mean from the remaining non-na values by setting the na.rm parameter to TRUE."
   ]
  },
  {
   "cell_type": "code",
   "execution_count": 22,
   "metadata": {},
   "outputs": [
    {
     "name": "stdout",
     "output_type": "stream",
     "text": [
      "[1] \"na_numbers\"\n"
     ]
    },
    {
     "data": {
      "text/html": [
       "&lt;NA&gt;"
      ],
      "text/latex": [
       "<NA>"
      ],
      "text/markdown": [
       "&lt;NA&gt;"
      ],
      "text/plain": [
       "[1] NA"
      ]
     },
     "metadata": {},
     "output_type": "display_data"
    },
    {
     "name": "stdout",
     "output_type": "stream",
     "text": [
      "[1] \"Using na.rm: na_numbers\"\n"
     ]
    },
    {
     "data": {
      "text/html": [
       "38.3333333333333"
      ],
      "text/latex": [
       "38.3333333333333"
      ],
      "text/markdown": [
       "38.3333333333333"
      ],
      "text/plain": [
       "[1] 38.33333"
      ]
     },
     "metadata": {},
     "output_type": "display_data"
    }
   ],
   "source": [
    "# Hint: mean()\n",
    "print(\"na_numbers\")\n",
    "na_numbers  %>% mean()\n",
    "\n",
    "# Hint: mean() with na.rm\n",
    "print(\"Using na.rm: na_numbers\")\n",
    "na_numbers  %>% mean(,na.rm = TRUE)"
   ]
  },
  {
   "cell_type": "markdown",
   "metadata": {
    "collapsed": true
   },
   "source": [
    "# Handling outliers using trim\n",
    "Use trim parameter to remove the highest and lowest values. The parameter takes a percent of the data."
   ]
  },
  {
   "cell_type": "code",
   "execution_count": null,
   "metadata": {},
   "outputs": [],
   "source": [
    "# print mean of outlier_numbers\n",
    "# Hint: mean()\n",
    "print(\"outlier_numbers\")\n",
    "outlier_numbers  %>% mean()\n",
    "\n",
    "# print mean of outlier_numbers trimming 10%\n",
    "# Hint: mean() with trim\n",
    "print(\"Using 10% trim: outlier_numbers\")\n",
    "outlier_numbers  %>% mean( ,trim = .10 )\n",
    "\n",
    "# print mean of outlier_numbers trimming 30%\n",
    "# Hint: mean() with trim\n",
    "print(\"Using 30% trim: outlier_numbers\")\n",
    "outlier_numbers  %>% mean(,trim =  .30)"
   ]
  },
  {
   "cell_type": "markdown",
   "metadata": {},
   "source": [
    "Notice that with small samples, 10% trim didn't trim anything. "
   ]
  },
  {
   "cell_type": "markdown",
   "metadata": {},
   "source": [
    "# median()\n"
   ]
  },
  {
   "cell_type": "code",
   "execution_count": 23,
   "metadata": {
    "collapsed": true,
    "scrolled": true
   },
   "outputs": [],
   "source": [
    "# Display help on median()\n",
    "?median()"
   ]
  },
  {
   "cell_type": "markdown",
   "metadata": {},
   "source": [
    "# median {stats}\tR Documentation\n",
    "Median Value\n",
    "\n",
    "## Description\n",
    "\n",
    "Compute the sample median.\n",
    "\n",
    "## Usage\n",
    "\n",
    "median(x, na.rm = FALSE, ...)\n",
    "## Arguments\n",
    "\n",
    "* x\tan object for which a method has been defined, or a numeric vector containing the values whose median is to be computed.   \n",
    "* na.rm\ta logical value indicating whether NA values should be stripped before the computation proceeds.   \n",
    "* ...\tpotentially further arguments for methods; not used in the default method.   "
   ]
  },
  {
   "cell_type": "markdown",
   "metadata": {},
   "source": [
    "# Calcluate median of each sample"
   ]
  },
  {
   "cell_type": "code",
   "execution_count": 24,
   "metadata": {},
   "outputs": [
    {
     "name": "stdout",
     "output_type": "stream",
     "text": [
      "[1] \"literal vector\"\n"
     ]
    },
    {
     "data": {
      "text/html": [
       "2"
      ],
      "text/latex": [
       "2"
      ],
      "text/markdown": [
       "2"
      ],
      "text/plain": [
       "[1] 2"
      ]
     },
     "metadata": {},
     "output_type": "display_data"
    },
    {
     "name": "stdout",
     "output_type": "stream",
     "text": [
      "[1] \"piped version\"\n"
     ]
    },
    {
     "data": {
      "text/html": [
       "2"
      ],
      "text/latex": [
       "2"
      ],
      "text/markdown": [
       "2"
      ],
      "text/plain": [
       "[1] 2"
      ]
     },
     "metadata": {},
     "output_type": "display_data"
    },
    {
     "name": "stdout",
     "output_type": "stream",
     "text": [
      "[1] \"three_numbers\"\n"
     ]
    },
    {
     "data": {
      "text/html": [
       "2"
      ],
      "text/latex": [
       "2"
      ],
      "text/markdown": [
       "2"
      ],
      "text/plain": [
       "[1] 2"
      ]
     },
     "metadata": {},
     "output_type": "display_data"
    },
    {
     "name": "stdout",
     "output_type": "stream",
     "text": [
      "[1] \"four_numbers\"\n"
     ]
    },
    {
     "data": {
      "text/html": [
       "25"
      ],
      "text/latex": [
       "25"
      ],
      "text/markdown": [
       "25"
      ],
      "text/plain": [
       "[1] 25"
      ]
     },
     "metadata": {},
     "output_type": "display_data"
    },
    {
     "name": "stdout",
     "output_type": "stream",
     "text": [
      "[1] \"five_numbers\"\n"
     ]
    },
    {
     "data": {
      "text/html": [
       "8"
      ],
      "text/latex": [
       "8"
      ],
      "text/markdown": [
       "8"
      ],
      "text/plain": [
       "[1] 8"
      ]
     },
     "metadata": {},
     "output_type": "display_data"
    },
    {
     "name": "stdout",
     "output_type": "stream",
     "text": [
      "[1] \"na_numbers\"\n"
     ]
    },
    {
     "data": {
      "text/html": [
       "&lt;NA&gt;"
      ],
      "text/latex": [
       "<NA>"
      ],
      "text/markdown": [
       "&lt;NA&gt;"
      ],
      "text/plain": [
       "[1] NA"
      ]
     },
     "metadata": {},
     "output_type": "display_data"
    },
    {
     "name": "stdout",
     "output_type": "stream",
     "text": [
      "[1] \"outlier_numbers\"\n"
     ]
    },
    {
     "data": {
      "text/html": [
       "11"
      ],
      "text/latex": [
       "11"
      ],
      "text/markdown": [
       "11"
      ],
      "text/plain": [
       "[1] 11"
      ]
     },
     "metadata": {},
     "output_type": "display_data"
    },
    {
     "name": "stdout",
     "output_type": "stream",
     "text": [
      "[1] \"df$cyl\"\n"
     ]
    },
    {
     "data": {
      "text/html": [
       "6"
      ],
      "text/latex": [
       "6"
      ],
      "text/markdown": [
       "6"
      ],
      "text/plain": [
       "[1] 6"
      ]
     },
     "metadata": {},
     "output_type": "display_data"
    },
    {
     "name": "stdout",
     "output_type": "stream",
     "text": [
      "[1] \"df$displ\"\n"
     ]
    },
    {
     "data": {
      "text/html": [
       "3.3"
      ],
      "text/latex": [
       "3.3"
      ],
      "text/markdown": [
       "3.3"
      ],
      "text/plain": [
       "[1] 3.3"
      ]
     },
     "metadata": {},
     "output_type": "display_data"
    },
    {
     "name": "stdout",
     "output_type": "stream",
     "text": [
      "[1] \"df$hwy\"\n"
     ]
    },
    {
     "data": {
      "text/html": [
       "24"
      ],
      "text/latex": [
       "24"
      ],
      "text/markdown": [
       "24"
      ],
      "text/plain": [
       "[1] 24"
      ]
     },
     "metadata": {},
     "output_type": "display_data"
    }
   ],
   "source": [
    "# Hint: median()\n",
    "\n",
    "# literal vector\n",
    "print(\"literal vector\")\n",
    "median(c(1, 2, 3))\n",
    "\n",
    "# Piped version\n",
    "print(\"piped version\")\n",
    "c(1, 2, 3) %>% median ()\n",
    "\n",
    "print(\"three_numbers\")\n",
    "three_numbers %>% median()\n",
    "\n",
    "print(\"four_numbers\")\n",
    "four_numbers %>% median()\n",
    "\n",
    "print(\"five_numbers\")\n",
    "five_numbers %>% median()\n",
    "\n",
    "print(\"na_numbers\")\n",
    "na_numbers  %>% median()\n",
    "\n",
    "print(\"outlier_numbers\")\n",
    "outlier_numbers  %>% median()\n",
    "\n",
    "print(\"df$cyl\")\n",
    "df$cyl %>% median()\n",
    "\n",
    "print(\"df$displ\")\n",
    "df$displ %>% median()\n",
    "\n",
    "print(\"df$hwy\")\n",
    "df$hwy %>% median()"
   ]
  },
  {
   "cell_type": "markdown",
   "metadata": {},
   "source": [
    "Notice how the na_numbers just returned an NA. "
   ]
  },
  {
   "cell_type": "markdown",
   "metadata": {},
   "source": [
    "# Handling NA with na.rm = TRUE\n",
    "We can instead skip over the NA values and calculate the median from the remaining non-na values by setting the na.rm parameter to TRUE."
   ]
  },
  {
   "cell_type": "code",
   "execution_count": 25,
   "metadata": {},
   "outputs": [
    {
     "name": "stdout",
     "output_type": "stream",
     "text": [
      "[1] \"na_numbers\"\n"
     ]
    },
    {
     "data": {
      "text/html": [
       "&lt;NA&gt;"
      ],
      "text/latex": [
       "<NA>"
      ],
      "text/markdown": [
       "&lt;NA&gt;"
      ],
      "text/plain": [
       "[1] NA"
      ]
     },
     "metadata": {},
     "output_type": "display_data"
    },
    {
     "name": "stdout",
     "output_type": "stream",
     "text": [
      "[1] \"Using na.rm: na_numbers\"\n"
     ]
    },
    {
     "data": {
      "text/html": [
       "8"
      ],
      "text/latex": [
       "8"
      ],
      "text/markdown": [
       "8"
      ],
      "text/plain": [
       "[1] 8"
      ]
     },
     "metadata": {},
     "output_type": "display_data"
    }
   ],
   "source": [
    "# Print median of na_numbers\n",
    "# Hint: median()\n",
    "print(\"na_numbers\")\n",
    "na_numbers  %>% median()\n",
    "\n",
    "# Print median of na_numbers ignoring NA values\n",
    "# Hint: median() with na.rm\n",
    "print(\"Using na.rm: na_numbers\")\n",
    "na_numbers  %>% median(, na.rm = TRUE)"
   ]
  },
  {
   "cell_type": "markdown",
   "metadata": {},
   "source": [
    "# Handling outliers with median\n",
    "Median is robust against outliers."
   ]
  },
  {
   "cell_type": "code",
   "execution_count": 26,
   "metadata": {},
   "outputs": [
    {
     "name": "stdout",
     "output_type": "stream",
     "text": [
      "[1] \"outlier_numbers\"\n",
      "[1]    9   10   11   12 1000\n"
     ]
    },
    {
     "data": {
      "text/html": [
       "11"
      ],
      "text/latex": [
       "11"
      ],
      "text/markdown": [
       "11"
      ],
      "text/plain": [
       "[1] 11"
      ]
     },
     "metadata": {},
     "output_type": "display_data"
    },
    {
     "name": "stdout",
     "output_type": "stream",
     "text": [
      "[1] \"Extreme outlier\"\n",
      "[1]       9      10      11      12 1048576\n"
     ]
    },
    {
     "data": {
      "text/html": [
       "11"
      ],
      "text/latex": [
       "11"
      ],
      "text/markdown": [
       "11"
      ],
      "text/plain": [
       "[1] 11"
      ]
     },
     "metadata": {},
     "output_type": "display_data"
    },
    {
     "name": "stdout",
     "output_type": "stream",
     "text": [
      "[1] \"mean:\"\n"
     ]
    },
    {
     "data": {
      "text/html": [
       "209723.6"
      ],
      "text/latex": [
       "209723.6"
      ],
      "text/markdown": [
       "209723.6"
      ],
      "text/plain": [
       "[1] 209723.6"
      ]
     },
     "metadata": {},
     "output_type": "display_data"
    },
    {
     "name": "stdout",
     "output_type": "stream",
     "text": [
      "[1] \"trim mean:\"\n"
     ]
    },
    {
     "data": {
      "text/html": [
       "11"
      ],
      "text/latex": [
       "11"
      ],
      "text/markdown": [
       "11"
      ],
      "text/plain": [
       "[1] 11"
      ]
     },
     "metadata": {},
     "output_type": "display_data"
    }
   ],
   "source": [
    "# Print outlier_numbers and its median\n",
    "# Hint: median()\n",
    "print(\"outlier_numbers\")\n",
    "print(outlier_numbers)\n",
    "outlier_numbers %>% median()\n",
    "\n",
    "# Replace the last value with something even larger\n",
    "# Print outlier_numbers and its median\n",
    "# Hint: slice index of 5\n",
    "print(\"Extreme outlier\")\n",
    "outlier_numbers[[5]] <- 2^20\n",
    "print(outlier_numbers)\n",
    "outlier_numbers  %>% median()\n",
    "\n",
    "# Compare median result to the mean\n",
    "# Print mean of outlier_numbers\n",
    "# Hint: mean()\n",
    "print(\"mean:\")\n",
    "outlier_numbers  %>% mean()\n",
    "\n",
    "# Compare median result to the mean with 30% trim\n",
    "# Print mean of outlier_numbers\n",
    "# Hint: mean() with trim\n",
    "print(\"trim mean:\")\n",
    "outlier_numbers  %>% mean( ,trim = .30)"
   ]
  },
  {
   "cell_type": "markdown",
   "metadata": {},
   "source": [
    "Notice that the median didn't change when changing to extreme outlier."
   ]
  },
  {
   "cell_type": "markdown",
   "metadata": {},
   "source": [
    "# mfv()v a.k.a the mode\n",
    "Most frequent value, typically called the mode. The base r mode() function is something different, so we will use mfv() from the modeest package. Feel free to see all the functions in this package by usin help(package=\"modeest\")."
   ]
  },
  {
   "cell_type": "code",
   "execution_count": 16,
   "metadata": {
    "collapsed": true
   },
   "outputs": [],
   "source": [
    "# Display help on mfv()\n",
    "?mfv()"
   ]
  },
  {
   "cell_type": "markdown",
   "metadata": {},
   "source": [
    "# mfv {modeest}\tR Documentation\n",
    "Estimate of the Mode of a Discrete Distribution (Most Frequent Value)\n",
    "\n",
    "## Description\n",
    "\n",
    "This function returns the most frequent value(s) in a given numerical vector.\n",
    "\n",
    "## Usage\n",
    "\n",
    "*   mfv(x, ...)   "
   ]
  },
  {
   "cell_type": "markdown",
   "metadata": {},
   "source": [
    "# Calcluate mode of each sample"
   ]
  },
  {
   "cell_type": "code",
   "execution_count": 17,
   "metadata": {
    "scrolled": false
   },
   "outputs": [
    {
     "name": "stdout",
     "output_type": "stream",
     "text": [
      "[1] \"literal vector\"\n"
     ]
    },
    {
     "data": {
      "text/html": [
       "<ol class=list-inline>\n",
       "\t<li>1</li>\n",
       "\t<li>2</li>\n",
       "\t<li>3</li>\n",
       "</ol>\n"
      ],
      "text/latex": [
       "\\begin{enumerate*}\n",
       "\\item 1\n",
       "\\item 2\n",
       "\\item 3\n",
       "\\end{enumerate*}\n"
      ],
      "text/markdown": [
       "1. 1\n",
       "2. 2\n",
       "3. 3\n",
       "\n",
       "\n"
      ],
      "text/plain": [
       "[1] 1 2 3"
      ]
     },
     "metadata": {},
     "output_type": "display_data"
    },
    {
     "name": "stdout",
     "output_type": "stream",
     "text": [
      "[1] \"piped version\"\n"
     ]
    },
    {
     "data": {
      "text/html": [
       "<ol class=list-inline>\n",
       "\t<li>1</li>\n",
       "\t<li>2</li>\n",
       "\t<li>3</li>\n",
       "</ol>\n"
      ],
      "text/latex": [
       "\\begin{enumerate*}\n",
       "\\item 1\n",
       "\\item 2\n",
       "\\item 3\n",
       "\\end{enumerate*}\n"
      ],
      "text/markdown": [
       "1. 1\n",
       "2. 2\n",
       "3. 3\n",
       "\n",
       "\n"
      ],
      "text/plain": [
       "[1] 1 2 3"
      ]
     },
     "metadata": {},
     "output_type": "display_data"
    },
    {
     "name": "stdout",
     "output_type": "stream",
     "text": [
      "[1] \"three_numbers\"\n"
     ]
    },
    {
     "data": {
      "text/html": [
       "<ol class=list-inline>\n",
       "\t<li>1</li>\n",
       "\t<li>2</li>\n",
       "\t<li>3</li>\n",
       "</ol>\n"
      ],
      "text/latex": [
       "\\begin{enumerate*}\n",
       "\\item 1\n",
       "\\item 2\n",
       "\\item 3\n",
       "\\end{enumerate*}\n"
      ],
      "text/markdown": [
       "1. 1\n",
       "2. 2\n",
       "3. 3\n",
       "\n",
       "\n"
      ],
      "text/plain": [
       "[1] 1 2 3"
      ]
     },
     "metadata": {},
     "output_type": "display_data"
    },
    {
     "name": "stdout",
     "output_type": "stream",
     "text": [
      "[1] \"four_numbers\"\n"
     ]
    },
    {
     "data": {
      "text/html": [
       "<ol class=list-inline>\n",
       "\t<li>10</li>\n",
       "\t<li>20</li>\n",
       "\t<li>30</li>\n",
       "\t<li>40</li>\n",
       "</ol>\n"
      ],
      "text/latex": [
       "\\begin{enumerate*}\n",
       "\\item 10\n",
       "\\item 20\n",
       "\\item 30\n",
       "\\item 40\n",
       "\\end{enumerate*}\n"
      ],
      "text/markdown": [
       "1. 10\n",
       "2. 20\n",
       "3. 30\n",
       "4. 40\n",
       "\n",
       "\n"
      ],
      "text/plain": [
       "[1] 10 20 30 40"
      ]
     },
     "metadata": {},
     "output_type": "display_data"
    },
    {
     "name": "stdout",
     "output_type": "stream",
     "text": [
      "[1] \"five_numbers\"\n"
     ]
    },
    {
     "data": {
      "text/html": [
       "8"
      ],
      "text/latex": [
       "8"
      ],
      "text/markdown": [
       "8"
      ],
      "text/plain": [
       "[1] 8"
      ]
     },
     "metadata": {},
     "output_type": "display_data"
    },
    {
     "name": "stdout",
     "output_type": "stream",
     "text": [
      "[1] \"na_numbers\"\n"
     ]
    },
    {
     "data": {
      "text/html": [
       "<ol class=list-inline>\n",
       "\t<li>7</li>\n",
       "\t<li>8</li>\n",
       "\t<li>100</li>\n",
       "</ol>\n"
      ],
      "text/latex": [
       "\\begin{enumerate*}\n",
       "\\item 7\n",
       "\\item 8\n",
       "\\item 100\n",
       "\\end{enumerate*}\n"
      ],
      "text/markdown": [
       "1. 7\n",
       "2. 8\n",
       "3. 100\n",
       "\n",
       "\n"
      ],
      "text/plain": [
       "[1]   7   8 100"
      ]
     },
     "metadata": {},
     "output_type": "display_data"
    },
    {
     "name": "stdout",
     "output_type": "stream",
     "text": [
      "[1] \"outlier_numbers\"\n"
     ]
    },
    {
     "data": {
      "text/html": [
       "1048576"
      ],
      "text/latex": [
       "1048576"
      ],
      "text/markdown": [
       "1048576"
      ],
      "text/plain": [
       "[1] 1048576"
      ]
     },
     "metadata": {},
     "output_type": "display_data"
    },
    {
     "name": "stdout",
     "output_type": "stream",
     "text": [
      "[1] \"df$cyl\"\n"
     ]
    },
    {
     "data": {
      "text/html": [
       "4"
      ],
      "text/latex": [
       "4"
      ],
      "text/markdown": [
       "4"
      ],
      "text/plain": [
       "[1] 4"
      ]
     },
     "metadata": {},
     "output_type": "display_data"
    },
    {
     "name": "stdout",
     "output_type": "stream",
     "text": [
      "[1] \"df$displ\"\n"
     ]
    },
    {
     "data": {
      "text/html": [
       "2"
      ],
      "text/latex": [
       "2"
      ],
      "text/markdown": [
       "2"
      ],
      "text/plain": [
       "[1] 2"
      ]
     },
     "metadata": {},
     "output_type": "display_data"
    },
    {
     "name": "stdout",
     "output_type": "stream",
     "text": [
      "[1] \"df$hwy\"\n"
     ]
    },
    {
     "data": {
      "text/html": [
       "26"
      ],
      "text/latex": [
       "26"
      ],
      "text/markdown": [
       "26"
      ],
      "text/plain": [
       "[1] 26"
      ]
     },
     "metadata": {},
     "output_type": "display_data"
    }
   ],
   "source": [
    "# Hint: mfv()\n",
    "\n",
    "# literal vector\n",
    "print(\"literal vector\")\n",
    "mfv(c(1, 2, 3))\n",
    "\n",
    "# Piped version\n",
    "print(\"piped version\")\n",
    "c(1, 2, 3) %>% mfv ()\n",
    "\n",
    "print(\"three_numbers\")\n",
    "three_numbers %>% mfv()\n",
    "\n",
    "print(\"four_numbers\")\n",
    "four_numbers %>% mfv()\n",
    "\n",
    "print(\"five_numbers\")\n",
    "five_numbers %>% mfv()\n",
    "\n",
    "print(\"na_numbers\")\n",
    "na_numbers  %>% mfv()\n",
    "\n",
    "print(\"outlier_numbers\")\n",
    "outlier_numbers %>% mfv()\n",
    "\n",
    "print(\"df$cyl\")\n",
    "df$cyl %>% mfv()\n",
    "\n",
    "print(\"df$displ\")\n",
    "df$displ %>% mfv()\n",
    "\n",
    "print(\"df$hwy\")\n",
    "df$hwy %>% mfv()"
   ]
  },
  {
   "cell_type": "markdown",
   "metadata": {},
   "source": [
    "Notice that when there isn't any repeated number, that it returned all of them. For five_numbers, it did return 8 as expected. NAs are ignored in this function. "
   ]
  },
  {
   "cell_type": "markdown",
   "metadata": {},
   "source": [
    "# quantile()"
   ]
  },
  {
   "cell_type": "code",
   "execution_count": null,
   "metadata": {
    "collapsed": true
   },
   "outputs": [],
   "source": [
    "# Display help on quantile()\n",
    "?quantile()"
   ]
  },
  {
   "cell_type": "markdown",
   "metadata": {},
   "source": [
    "# quantile {stats}\tR Documentation\n",
    "Sample Quantiles\n",
    "\n",
    "##  Description\n",
    "\n",
    "The generic function quantile produces sample quantiles corresponding to the given probabilities. The smallest observation corresponds to a probability of 0 and the largest to a probability of 1.\n",
    "\n",
    "## Usage\n",
    "\n",
    "* quantile(x, probs = seq(0, 1, 0.25), na.rm = FALSE, names = TRUE, type = 7, ...) "
   ]
  },
  {
   "cell_type": "markdown",
   "metadata": {},
   "source": [
    "# Calcluate the Quantile of each sample"
   ]
  },
  {
   "cell_type": "code",
   "execution_count": 29,
   "metadata": {
    "scrolled": true
   },
   "outputs": [
    {
     "name": "stdout",
     "output_type": "stream",
     "text": [
      "[1] \"literal vector\"\n"
     ]
    },
    {
     "data": {
      "text/html": [
       "<dl class=dl-horizontal>\n",
       "\t<dt>0%</dt>\n",
       "\t\t<dd>1</dd>\n",
       "\t<dt>25%</dt>\n",
       "\t\t<dd>1.5</dd>\n",
       "\t<dt>50%</dt>\n",
       "\t\t<dd>2</dd>\n",
       "\t<dt>75%</dt>\n",
       "\t\t<dd>2.5</dd>\n",
       "\t<dt>100%</dt>\n",
       "\t\t<dd>3</dd>\n",
       "</dl>\n"
      ],
      "text/latex": [
       "\\begin{description*}\n",
       "\\item[0\\textbackslash{}\\%] 1\n",
       "\\item[25\\textbackslash{}\\%] 1.5\n",
       "\\item[50\\textbackslash{}\\%] 2\n",
       "\\item[75\\textbackslash{}\\%] 2.5\n",
       "\\item[100\\textbackslash{}\\%] 3\n",
       "\\end{description*}\n"
      ],
      "text/markdown": [
       "0%\n",
       ":   125%\n",
       ":   1.550%\n",
       ":   275%\n",
       ":   2.5100%\n",
       ":   3\n",
       "\n"
      ],
      "text/plain": [
       "  0%  25%  50%  75% 100% \n",
       " 1.0  1.5  2.0  2.5  3.0 "
      ]
     },
     "metadata": {},
     "output_type": "display_data"
    },
    {
     "name": "stdout",
     "output_type": "stream",
     "text": [
      "[1] \"piped version\"\n"
     ]
    },
    {
     "data": {
      "text/html": [
       "<dl class=dl-horizontal>\n",
       "\t<dt>0%</dt>\n",
       "\t\t<dd>1</dd>\n",
       "\t<dt>25%</dt>\n",
       "\t\t<dd>1.5</dd>\n",
       "\t<dt>50%</dt>\n",
       "\t\t<dd>2</dd>\n",
       "\t<dt>75%</dt>\n",
       "\t\t<dd>2.5</dd>\n",
       "\t<dt>100%</dt>\n",
       "\t\t<dd>3</dd>\n",
       "</dl>\n"
      ],
      "text/latex": [
       "\\begin{description*}\n",
       "\\item[0\\textbackslash{}\\%] 1\n",
       "\\item[25\\textbackslash{}\\%] 1.5\n",
       "\\item[50\\textbackslash{}\\%] 2\n",
       "\\item[75\\textbackslash{}\\%] 2.5\n",
       "\\item[100\\textbackslash{}\\%] 3\n",
       "\\end{description*}\n"
      ],
      "text/markdown": [
       "0%\n",
       ":   125%\n",
       ":   1.550%\n",
       ":   275%\n",
       ":   2.5100%\n",
       ":   3\n",
       "\n"
      ],
      "text/plain": [
       "  0%  25%  50%  75% 100% \n",
       " 1.0  1.5  2.0  2.5  3.0 "
      ]
     },
     "metadata": {},
     "output_type": "display_data"
    },
    {
     "name": "stdout",
     "output_type": "stream",
     "text": [
      "[1] \"three_numbers\"\n"
     ]
    },
    {
     "data": {
      "text/html": [
       "<dl class=dl-horizontal>\n",
       "\t<dt>0%</dt>\n",
       "\t\t<dd>1</dd>\n",
       "\t<dt>25%</dt>\n",
       "\t\t<dd>1.5</dd>\n",
       "\t<dt>50%</dt>\n",
       "\t\t<dd>2</dd>\n",
       "\t<dt>75%</dt>\n",
       "\t\t<dd>2.5</dd>\n",
       "\t<dt>100%</dt>\n",
       "\t\t<dd>3</dd>\n",
       "</dl>\n"
      ],
      "text/latex": [
       "\\begin{description*}\n",
       "\\item[0\\textbackslash{}\\%] 1\n",
       "\\item[25\\textbackslash{}\\%] 1.5\n",
       "\\item[50\\textbackslash{}\\%] 2\n",
       "\\item[75\\textbackslash{}\\%] 2.5\n",
       "\\item[100\\textbackslash{}\\%] 3\n",
       "\\end{description*}\n"
      ],
      "text/markdown": [
       "0%\n",
       ":   125%\n",
       ":   1.550%\n",
       ":   275%\n",
       ":   2.5100%\n",
       ":   3\n",
       "\n"
      ],
      "text/plain": [
       "  0%  25%  50%  75% 100% \n",
       " 1.0  1.5  2.0  2.5  3.0 "
      ]
     },
     "metadata": {},
     "output_type": "display_data"
    },
    {
     "name": "stdout",
     "output_type": "stream",
     "text": [
      "[1] \"four_numbers\"\n"
     ]
    },
    {
     "data": {
      "text/html": [
       "<dl class=dl-horizontal>\n",
       "\t<dt>0%</dt>\n",
       "\t\t<dd>10</dd>\n",
       "\t<dt>25%</dt>\n",
       "\t\t<dd>17.5</dd>\n",
       "\t<dt>50%</dt>\n",
       "\t\t<dd>25</dd>\n",
       "\t<dt>75%</dt>\n",
       "\t\t<dd>32.5</dd>\n",
       "\t<dt>100%</dt>\n",
       "\t\t<dd>40</dd>\n",
       "</dl>\n"
      ],
      "text/latex": [
       "\\begin{description*}\n",
       "\\item[0\\textbackslash{}\\%] 10\n",
       "\\item[25\\textbackslash{}\\%] 17.5\n",
       "\\item[50\\textbackslash{}\\%] 25\n",
       "\\item[75\\textbackslash{}\\%] 32.5\n",
       "\\item[100\\textbackslash{}\\%] 40\n",
       "\\end{description*}\n"
      ],
      "text/markdown": [
       "0%\n",
       ":   1025%\n",
       ":   17.550%\n",
       ":   2575%\n",
       ":   32.5100%\n",
       ":   40\n",
       "\n"
      ],
      "text/plain": [
       "  0%  25%  50%  75% 100% \n",
       "10.0 17.5 25.0 32.5 40.0 "
      ]
     },
     "metadata": {},
     "output_type": "display_data"
    },
    {
     "name": "stdout",
     "output_type": "stream",
     "text": [
      "[1] \"five_numbers\"\n"
     ]
    },
    {
     "data": {
      "text/html": [
       "<dl class=dl-horizontal>\n",
       "\t<dt>0%</dt>\n",
       "\t\t<dd>6</dd>\n",
       "\t<dt>25%</dt>\n",
       "\t\t<dd>7</dd>\n",
       "\t<dt>50%</dt>\n",
       "\t\t<dd>8</dd>\n",
       "\t<dt>75%</dt>\n",
       "\t\t<dd>8</dd>\n",
       "\t<dt>100%</dt>\n",
       "\t\t<dd>12</dd>\n",
       "</dl>\n"
      ],
      "text/latex": [
       "\\begin{description*}\n",
       "\\item[0\\textbackslash{}\\%] 6\n",
       "\\item[25\\textbackslash{}\\%] 7\n",
       "\\item[50\\textbackslash{}\\%] 8\n",
       "\\item[75\\textbackslash{}\\%] 8\n",
       "\\item[100\\textbackslash{}\\%] 12\n",
       "\\end{description*}\n"
      ],
      "text/markdown": [
       "0%\n",
       ":   625%\n",
       ":   750%\n",
       ":   875%\n",
       ":   8100%\n",
       ":   12\n",
       "\n"
      ],
      "text/plain": [
       "  0%  25%  50%  75% 100% \n",
       "   6    7    8    8   12 "
      ]
     },
     "metadata": {},
     "output_type": "display_data"
    },
    {
     "name": "stdout",
     "output_type": "stream",
     "text": [
      "[1] \"na_numbers\"\n"
     ]
    },
    {
     "data": {
      "text/html": [
       "<dl class=dl-horizontal>\n",
       "\t<dt>0%</dt>\n",
       "\t\t<dd>7</dd>\n",
       "\t<dt>25%</dt>\n",
       "\t\t<dd>7.5</dd>\n",
       "\t<dt>50%</dt>\n",
       "\t\t<dd>8</dd>\n",
       "\t<dt>75%</dt>\n",
       "\t\t<dd>54</dd>\n",
       "\t<dt>100%</dt>\n",
       "\t\t<dd>100</dd>\n",
       "</dl>\n"
      ],
      "text/latex": [
       "\\begin{description*}\n",
       "\\item[0\\textbackslash{}\\%] 7\n",
       "\\item[25\\textbackslash{}\\%] 7.5\n",
       "\\item[50\\textbackslash{}\\%] 8\n",
       "\\item[75\\textbackslash{}\\%] 54\n",
       "\\item[100\\textbackslash{}\\%] 100\n",
       "\\end{description*}\n"
      ],
      "text/markdown": [
       "0%\n",
       ":   725%\n",
       ":   7.550%\n",
       ":   875%\n",
       ":   54100%\n",
       ":   100\n",
       "\n"
      ],
      "text/plain": [
       "   0%   25%   50%   75%  100% \n",
       "  7.0   7.5   8.0  54.0 100.0 "
      ]
     },
     "metadata": {},
     "output_type": "display_data"
    },
    {
     "name": "stdout",
     "output_type": "stream",
     "text": [
      "[1] \"outlier_numbers\"\n"
     ]
    },
    {
     "data": {
      "text/html": [
       "<dl class=dl-horizontal>\n",
       "\t<dt>0%</dt>\n",
       "\t\t<dd>9</dd>\n",
       "\t<dt>25%</dt>\n",
       "\t\t<dd>10</dd>\n",
       "\t<dt>50%</dt>\n",
       "\t\t<dd>11</dd>\n",
       "\t<dt>75%</dt>\n",
       "\t\t<dd>12</dd>\n",
       "\t<dt>100%</dt>\n",
       "\t\t<dd>1048576</dd>\n",
       "</dl>\n"
      ],
      "text/latex": [
       "\\begin{description*}\n",
       "\\item[0\\textbackslash{}\\%] 9\n",
       "\\item[25\\textbackslash{}\\%] 10\n",
       "\\item[50\\textbackslash{}\\%] 11\n",
       "\\item[75\\textbackslash{}\\%] 12\n",
       "\\item[100\\textbackslash{}\\%] 1048576\n",
       "\\end{description*}\n"
      ],
      "text/markdown": [
       "0%\n",
       ":   925%\n",
       ":   1050%\n",
       ":   1175%\n",
       ":   12100%\n",
       ":   1048576\n",
       "\n"
      ],
      "text/plain": [
       "     0%     25%     50%     75%    100% \n",
       "      9      10      11      12 1048576 "
      ]
     },
     "metadata": {},
     "output_type": "display_data"
    },
    {
     "name": "stdout",
     "output_type": "stream",
     "text": [
      "[1] \"df$cyl\"\n"
     ]
    },
    {
     "data": {
      "text/html": [
       "<dl class=dl-horizontal>\n",
       "\t<dt>0%</dt>\n",
       "\t\t<dd>4</dd>\n",
       "\t<dt>25%</dt>\n",
       "\t\t<dd>4</dd>\n",
       "\t<dt>50%</dt>\n",
       "\t\t<dd>6</dd>\n",
       "\t<dt>75%</dt>\n",
       "\t\t<dd>8</dd>\n",
       "\t<dt>100%</dt>\n",
       "\t\t<dd>8</dd>\n",
       "</dl>\n"
      ],
      "text/latex": [
       "\\begin{description*}\n",
       "\\item[0\\textbackslash{}\\%] 4\n",
       "\\item[25\\textbackslash{}\\%] 4\n",
       "\\item[50\\textbackslash{}\\%] 6\n",
       "\\item[75\\textbackslash{}\\%] 8\n",
       "\\item[100\\textbackslash{}\\%] 8\n",
       "\\end{description*}\n"
      ],
      "text/markdown": [
       "0%\n",
       ":   425%\n",
       ":   450%\n",
       ":   675%\n",
       ":   8100%\n",
       ":   8\n",
       "\n"
      ],
      "text/plain": [
       "  0%  25%  50%  75% 100% \n",
       "   4    4    6    8    8 "
      ]
     },
     "metadata": {},
     "output_type": "display_data"
    },
    {
     "name": "stdout",
     "output_type": "stream",
     "text": [
      "[1] \"df$displ\"\n"
     ]
    },
    {
     "data": {
      "text/html": [
       "<dl class=dl-horizontal>\n",
       "\t<dt>0%</dt>\n",
       "\t\t<dd>1.6</dd>\n",
       "\t<dt>25%</dt>\n",
       "\t\t<dd>2.4</dd>\n",
       "\t<dt>50%</dt>\n",
       "\t\t<dd>3.3</dd>\n",
       "\t<dt>75%</dt>\n",
       "\t\t<dd>4.6</dd>\n",
       "\t<dt>100%</dt>\n",
       "\t\t<dd>7</dd>\n",
       "</dl>\n"
      ],
      "text/latex": [
       "\\begin{description*}\n",
       "\\item[0\\textbackslash{}\\%] 1.6\n",
       "\\item[25\\textbackslash{}\\%] 2.4\n",
       "\\item[50\\textbackslash{}\\%] 3.3\n",
       "\\item[75\\textbackslash{}\\%] 4.6\n",
       "\\item[100\\textbackslash{}\\%] 7\n",
       "\\end{description*}\n"
      ],
      "text/markdown": [
       "0%\n",
       ":   1.625%\n",
       ":   2.450%\n",
       ":   3.375%\n",
       ":   4.6100%\n",
       ":   7\n",
       "\n"
      ],
      "text/plain": [
       "  0%  25%  50%  75% 100% \n",
       " 1.6  2.4  3.3  4.6  7.0 "
      ]
     },
     "metadata": {},
     "output_type": "display_data"
    },
    {
     "name": "stdout",
     "output_type": "stream",
     "text": [
      "[1] \"df$hwy\"\n"
     ]
    },
    {
     "data": {
      "text/html": [
       "<dl class=dl-horizontal>\n",
       "\t<dt>0%</dt>\n",
       "\t\t<dd>12</dd>\n",
       "\t<dt>25%</dt>\n",
       "\t\t<dd>18</dd>\n",
       "\t<dt>50%</dt>\n",
       "\t\t<dd>24</dd>\n",
       "\t<dt>75%</dt>\n",
       "\t\t<dd>27</dd>\n",
       "\t<dt>100%</dt>\n",
       "\t\t<dd>44</dd>\n",
       "</dl>\n"
      ],
      "text/latex": [
       "\\begin{description*}\n",
       "\\item[0\\textbackslash{}\\%] 12\n",
       "\\item[25\\textbackslash{}\\%] 18\n",
       "\\item[50\\textbackslash{}\\%] 24\n",
       "\\item[75\\textbackslash{}\\%] 27\n",
       "\\item[100\\textbackslash{}\\%] 44\n",
       "\\end{description*}\n"
      ],
      "text/markdown": [
       "0%\n",
       ":   1225%\n",
       ":   1850%\n",
       ":   2475%\n",
       ":   27100%\n",
       ":   44\n",
       "\n"
      ],
      "text/plain": [
       "  0%  25%  50%  75% 100% \n",
       "  12   18   24   27   44 "
      ]
     },
     "metadata": {},
     "output_type": "display_data"
    }
   ],
   "source": [
    "# Hint: quantile()\n",
    "\n",
    "# literal vector\n",
    "print(\"literal vector\")\n",
    "quantile(c(1, 2, 3))\n",
    "\n",
    "# Piped version\n",
    "print(\"piped version\")\n",
    "c(1, 2, 3) %>% quantile()\n",
    "\n",
    "print(\"three_numbers\")\n",
    "three_numbers %>% quantile()\n",
    "\n",
    "print(\"four_numbers\")\n",
    "four_numbers %>% quantile()\n",
    "\n",
    "print(\"five_numbers\")\n",
    "five_numbers %>% quantile()\n",
    "\n",
    "print(\"na_numbers\")\n",
    "# quantile throws an error if encountering an NA value\n",
    "# Error: missing values and NaN's not allowed if 'na.rm' is FALSE\n",
    "# unless na.rm=TRUE is used\n",
    "# Set na.rm=TRUE\n",
    "# Hint: quantile() with na.rm\n",
    "na_numbers  %>% quantile(, na.rm = TRUE)\n",
    "\n",
    "print(\"outlier_numbers\")\n",
    "outlier_numbers %>% quantile()\n",
    "\n",
    "print(\"df$cyl\")\n",
    "df$cyl %>% quantile()\n",
    "\n",
    "print(\"df$displ\")\n",
    "df$displ %>% quantile()\n",
    "\n",
    "print(\"df$hwy\")\n",
    "df$hwy %>% quantile()"
   ]
  },
  {
   "cell_type": "markdown",
   "metadata": {},
   "source": [
    "Notice that quantile defaults to quartiles. Pass in different probs parameter values to get different quantiles. Note that it throws an error for NA values unless explictly ignored."
   ]
  },
  {
   "cell_type": "markdown",
   "metadata": {},
   "source": [
    "# Min, Max, Mean, Median, Quartiles and Summary\n",
    "Let's calculate the min, max, mean, median, and quartiles and compare to the summary"
   ]
  },
  {
   "cell_type": "code",
   "execution_count": 30,
   "metadata": {},
   "outputs": [
    {
     "name": "stdout",
     "output_type": "stream",
     "text": [
      "[1] \"min()\"\n"
     ]
    },
    {
     "data": {
      "text/html": [
       "1.6"
      ],
      "text/latex": [
       "1.6"
      ],
      "text/markdown": [
       "1.6"
      ],
      "text/plain": [
       "[1] 1.6"
      ]
     },
     "metadata": {},
     "output_type": "display_data"
    },
    {
     "name": "stdout",
     "output_type": "stream",
     "text": [
      "[1] \"median()\"\n"
     ]
    },
    {
     "data": {
      "text/html": [
       "3.3"
      ],
      "text/latex": [
       "3.3"
      ],
      "text/markdown": [
       "3.3"
      ],
      "text/plain": [
       "[1] 3.3"
      ]
     },
     "metadata": {},
     "output_type": "display_data"
    },
    {
     "name": "stdout",
     "output_type": "stream",
     "text": [
      "[1] \"mean()\"\n"
     ]
    },
    {
     "data": {
      "text/html": [
       "3.47179487179487"
      ],
      "text/latex": [
       "3.47179487179487"
      ],
      "text/markdown": [
       "3.47179487179487"
      ],
      "text/plain": [
       "[1] 3.471795"
      ]
     },
     "metadata": {},
     "output_type": "display_data"
    },
    {
     "name": "stdout",
     "output_type": "stream",
     "text": [
      "[1] \"max()\"\n"
     ]
    },
    {
     "data": {
      "text/html": [
       "7"
      ],
      "text/latex": [
       "7"
      ],
      "text/markdown": [
       "7"
      ],
      "text/plain": [
       "[1] 7"
      ]
     },
     "metadata": {},
     "output_type": "display_data"
    },
    {
     "name": "stdout",
     "output_type": "stream",
     "text": [
      "[1] \"quantile()\"\n"
     ]
    },
    {
     "data": {
      "text/html": [
       "<dl class=dl-horizontal>\n",
       "\t<dt>0%</dt>\n",
       "\t\t<dd>1.6</dd>\n",
       "\t<dt>25%</dt>\n",
       "\t\t<dd>2.4</dd>\n",
       "\t<dt>50%</dt>\n",
       "\t\t<dd>3.3</dd>\n",
       "\t<dt>75%</dt>\n",
       "\t\t<dd>4.6</dd>\n",
       "\t<dt>100%</dt>\n",
       "\t\t<dd>7</dd>\n",
       "</dl>\n"
      ],
      "text/latex": [
       "\\begin{description*}\n",
       "\\item[0\\textbackslash{}\\%] 1.6\n",
       "\\item[25\\textbackslash{}\\%] 2.4\n",
       "\\item[50\\textbackslash{}\\%] 3.3\n",
       "\\item[75\\textbackslash{}\\%] 4.6\n",
       "\\item[100\\textbackslash{}\\%] 7\n",
       "\\end{description*}\n"
      ],
      "text/markdown": [
       "0%\n",
       ":   1.625%\n",
       ":   2.450%\n",
       ":   3.375%\n",
       ":   4.6100%\n",
       ":   7\n",
       "\n"
      ],
      "text/plain": [
       "  0%  25%  50%  75% 100% \n",
       " 1.6  2.4  3.3  4.6  7.0 "
      ]
     },
     "metadata": {},
     "output_type": "display_data"
    },
    {
     "name": "stdout",
     "output_type": "stream",
     "text": [
      "[1] \"summary()\"\n"
     ]
    },
    {
     "data": {
      "text/plain": [
       "   Min. 1st Qu.  Median    Mean 3rd Qu.    Max. \n",
       "  1.600   2.400   3.300   3.472   4.600   7.000 "
      ]
     },
     "metadata": {},
     "output_type": "display_data"
    }
   ],
   "source": [
    "# Calculate min, median, mean, max, quartiles and summary\n",
    "# on df$displ\n",
    "\n",
    "# Hint: min()\n",
    "print(\"min()\")\n",
    "df$displ %>% min()\n",
    "\n",
    "# Hint: median()\n",
    "print(\"median()\")\n",
    "df$displ %>% median()\n",
    "\n",
    "# Hint: mean()\n",
    "print(\"mean()\")\n",
    "df$displ %>% mean()\n",
    "\n",
    "# Hint: max()\n",
    "print(\"max()\")\n",
    "df$displ %>% max()\n",
    "\n",
    "# Hint: quantile()\n",
    "print(\"quantile()\")\n",
    "df$displ %>% quantile()\n",
    "\n",
    "# Hint: summary()\n",
    "print(\"summary()\")\n",
    "df$displ %>% summary()"
   ]
  },
  {
   "cell_type": "markdown",
   "metadata": {},
   "source": [
    "Notice how convenient summary() is."
   ]
  },
  {
   "cell_type": "markdown",
   "metadata": {},
   "source": [
    "# Calculate summary on entire data frame"
   ]
  },
  {
   "cell_type": "code",
   "execution_count": 31,
   "metadata": {
    "scrolled": false
   },
   "outputs": [
    {
     "data": {
      "text/plain": [
       " manufacturer          model               displ            year     \n",
       " Length:234         Length:234         Min.   :1.600   Min.   :1999  \n",
       " Class :character   Class :character   1st Qu.:2.400   1st Qu.:1999  \n",
       " Mode  :character   Mode  :character   Median :3.300   Median :2004  \n",
       "                                       Mean   :3.472   Mean   :2004  \n",
       "                                       3rd Qu.:4.600   3rd Qu.:2008  \n",
       "                                       Max.   :7.000   Max.   :2008  \n",
       "      cyl           trans               drv                 cty       \n",
       " Min.   :4.000   Length:234         Length:234         Min.   : 9.00  \n",
       " 1st Qu.:4.000   Class :character   Class :character   1st Qu.:14.00  \n",
       " Median :6.000   Mode  :character   Mode  :character   Median :17.00  \n",
       " Mean   :5.889                                         Mean   :16.86  \n",
       " 3rd Qu.:8.000                                         3rd Qu.:19.00  \n",
       " Max.   :8.000                                         Max.   :35.00  \n",
       "      hwy             fl               class          \n",
       " Min.   :12.00   Length:234         Length:234        \n",
       " 1st Qu.:18.00   Class :character   Class :character  \n",
       " Median :24.00   Mode  :character   Mode  :character  \n",
       " Mean   :23.44                                        \n",
       " 3rd Qu.:27.00                                        \n",
       " Max.   :44.00                                        "
      ]
     },
     "metadata": {},
     "output_type": "display_data"
    }
   ],
   "source": [
    "# Calculate summary on mpg\n",
    "# Hint: summary()\n",
    "mpg %>% summary()"
   ]
  },
  {
   "cell_type": "markdown",
   "metadata": {},
   "source": [
    "This is why I often use df %>% glimpse() %>% summary() to easily get sample data and summary statistics."
   ]
  },
  {
   "cell_type": "markdown",
   "metadata": {},
   "source": [
    "# rank()"
   ]
  },
  {
   "cell_type": "code",
   "execution_count": null,
   "metadata": {
    "collapsed": true
   },
   "outputs": [],
   "source": [
    "# Display help on rank()\n",
    "?rank()"
   ]
  },
  {
   "cell_type": "markdown",
   "metadata": {},
   "source": [
    "# rank {base}\tR Documentation\n",
    "Sample Ranks\n",
    "\n",
    "## Description\n",
    "\n",
    "Returns the sample ranks of the values in a vector. Ties (i.e., equal values) and missing values can be handled in several ways.\n",
    "\n",
    "## Usage\n",
    "\n",
    "* rank(x, na.last = TRUE, ties.method = c(\"average\", \"first\", \"last\", \"random\", \"max\", \"min\"))  "
   ]
  },
  {
   "cell_type": "code",
   "execution_count": 32,
   "metadata": {},
   "outputs": [
    {
     "name": "stdout",
     "output_type": "stream",
     "text": [
      "[1] \"literal vector\"\n"
     ]
    },
    {
     "data": {
      "text/html": [
       "<ol class=list-inline>\n",
       "\t<li>1</li>\n",
       "\t<li>2</li>\n",
       "\t<li>3</li>\n",
       "</ol>\n"
      ],
      "text/latex": [
       "\\begin{enumerate*}\n",
       "\\item 1\n",
       "\\item 2\n",
       "\\item 3\n",
       "\\end{enumerate*}\n"
      ],
      "text/markdown": [
       "1. 1\n",
       "2. 2\n",
       "3. 3\n",
       "\n",
       "\n"
      ],
      "text/plain": [
       "[1] 1 2 3"
      ]
     },
     "metadata": {},
     "output_type": "display_data"
    },
    {
     "name": "stdout",
     "output_type": "stream",
     "text": [
      "[1] \"piped version\"\n"
     ]
    },
    {
     "data": {
      "text/html": [
       "<ol class=list-inline>\n",
       "\t<li>1</li>\n",
       "\t<li>2</li>\n",
       "\t<li>3</li>\n",
       "</ol>\n"
      ],
      "text/latex": [
       "\\begin{enumerate*}\n",
       "\\item 1\n",
       "\\item 2\n",
       "\\item 3\n",
       "\\end{enumerate*}\n"
      ],
      "text/markdown": [
       "1. 1\n",
       "2. 2\n",
       "3. 3\n",
       "\n",
       "\n"
      ],
      "text/plain": [
       "[1] 1 2 3"
      ]
     },
     "metadata": {},
     "output_type": "display_data"
    },
    {
     "name": "stdout",
     "output_type": "stream",
     "text": [
      "[1] \"three_numbers\"\n"
     ]
    },
    {
     "data": {
      "text/html": [
       "<ol class=list-inline>\n",
       "\t<li>1</li>\n",
       "\t<li>2</li>\n",
       "\t<li>3</li>\n",
       "</ol>\n"
      ],
      "text/latex": [
       "\\begin{enumerate*}\n",
       "\\item 1\n",
       "\\item 2\n",
       "\\item 3\n",
       "\\end{enumerate*}\n"
      ],
      "text/markdown": [
       "1. 1\n",
       "2. 2\n",
       "3. 3\n",
       "\n",
       "\n"
      ],
      "text/plain": [
       "[1] 1 2 3"
      ]
     },
     "metadata": {},
     "output_type": "display_data"
    },
    {
     "name": "stdout",
     "output_type": "stream",
     "text": [
      "[1] \"four_numbers\"\n"
     ]
    },
    {
     "data": {
      "text/html": [
       "<ol class=list-inline>\n",
       "\t<li>1</li>\n",
       "\t<li>2</li>\n",
       "\t<li>3</li>\n",
       "\t<li>4</li>\n",
       "</ol>\n"
      ],
      "text/latex": [
       "\\begin{enumerate*}\n",
       "\\item 1\n",
       "\\item 2\n",
       "\\item 3\n",
       "\\item 4\n",
       "\\end{enumerate*}\n"
      ],
      "text/markdown": [
       "1. 1\n",
       "2. 2\n",
       "3. 3\n",
       "4. 4\n",
       "\n",
       "\n"
      ],
      "text/plain": [
       "[1] 1 2 3 4"
      ]
     },
     "metadata": {},
     "output_type": "display_data"
    },
    {
     "name": "stdout",
     "output_type": "stream",
     "text": [
      "[1] \"five_numbers\"\n"
     ]
    },
    {
     "data": {
      "text/html": [
       "<ol class=list-inline>\n",
       "\t<li>1</li>\n",
       "\t<li>2</li>\n",
       "\t<li>3.5</li>\n",
       "\t<li>5</li>\n",
       "\t<li>3.5</li>\n",
       "</ol>\n"
      ],
      "text/latex": [
       "\\begin{enumerate*}\n",
       "\\item 1\n",
       "\\item 2\n",
       "\\item 3.5\n",
       "\\item 5\n",
       "\\item 3.5\n",
       "\\end{enumerate*}\n"
      ],
      "text/markdown": [
       "1. 1\n",
       "2. 2\n",
       "3. 3.5\n",
       "4. 5\n",
       "5. 3.5\n",
       "\n",
       "\n"
      ],
      "text/plain": [
       "[1] 1.0 2.0 3.5 5.0 3.5"
      ]
     },
     "metadata": {},
     "output_type": "display_data"
    },
    {
     "name": "stdout",
     "output_type": "stream",
     "text": [
      "[1] \"na_numbers\"\n"
     ]
    },
    {
     "data": {
      "text/html": [
       "<ol class=list-inline>\n",
       "\t<li>4</li>\n",
       "\t<li>1</li>\n",
       "\t<li>5</li>\n",
       "\t<li>3</li>\n",
       "\t<li>2</li>\n",
       "</ol>\n"
      ],
      "text/latex": [
       "\\begin{enumerate*}\n",
       "\\item 4\n",
       "\\item 1\n",
       "\\item 5\n",
       "\\item 3\n",
       "\\item 2\n",
       "\\end{enumerate*}\n"
      ],
      "text/markdown": [
       "1. 4\n",
       "2. 1\n",
       "3. 5\n",
       "4. 3\n",
       "5. 2\n",
       "\n",
       "\n"
      ],
      "text/plain": [
       "[1] 4 1 5 3 2"
      ]
     },
     "metadata": {},
     "output_type": "display_data"
    },
    {
     "name": "stdout",
     "output_type": "stream",
     "text": [
      "[1] \"outlier_numbers\"\n"
     ]
    },
    {
     "data": {
      "text/html": [
       "<ol class=list-inline>\n",
       "\t<li>1</li>\n",
       "\t<li>2</li>\n",
       "\t<li>3</li>\n",
       "\t<li>4</li>\n",
       "\t<li>5</li>\n",
       "</ol>\n"
      ],
      "text/latex": [
       "\\begin{enumerate*}\n",
       "\\item 1\n",
       "\\item 2\n",
       "\\item 3\n",
       "\\item 4\n",
       "\\item 5\n",
       "\\end{enumerate*}\n"
      ],
      "text/markdown": [
       "1. 1\n",
       "2. 2\n",
       "3. 3\n",
       "4. 4\n",
       "5. 5\n",
       "\n",
       "\n"
      ],
      "text/plain": [
       "[1] 1 2 3 4 5"
      ]
     },
     "metadata": {},
     "output_type": "display_data"
    },
    {
     "name": "stdout",
     "output_type": "stream",
     "text": [
      "[1] \"df$cyl\"\n"
     ]
    },
    {
     "data": {
      "text/html": [
       "<ol class=list-inline>\n",
       "\t<li>41</li>\n",
       "\t<li>41</li>\n",
       "\t<li>41</li>\n",
       "\t<li>41</li>\n",
       "\t<li>125</li>\n",
       "\t<li>125</li>\n",
       "</ol>\n"
      ],
      "text/latex": [
       "\\begin{enumerate*}\n",
       "\\item 41\n",
       "\\item 41\n",
       "\\item 41\n",
       "\\item 41\n",
       "\\item 125\n",
       "\\item 125\n",
       "\\end{enumerate*}\n"
      ],
      "text/markdown": [
       "1. 41\n",
       "2. 41\n",
       "3. 41\n",
       "4. 41\n",
       "5. 125\n",
       "6. 125\n",
       "\n",
       "\n"
      ],
      "text/plain": [
       "[1]  41  41  41  41 125 125"
      ]
     },
     "metadata": {},
     "output_type": "display_data"
    },
    {
     "name": "stdout",
     "output_type": "stream",
     "text": [
      "[1] \"df$displ\"\n"
     ]
    },
    {
     "data": {
      "text/html": [
       "<ol class=list-inline>\n",
       "\t<li>12.5</li>\n",
       "\t<li>12.5</li>\n",
       "\t<li>33</li>\n",
       "\t<li>33</li>\n",
       "\t<li>95.5</li>\n",
       "\t<li>95.5</li>\n",
       "</ol>\n"
      ],
      "text/latex": [
       "\\begin{enumerate*}\n",
       "\\item 12.5\n",
       "\\item 12.5\n",
       "\\item 33\n",
       "\\item 33\n",
       "\\item 95.5\n",
       "\\item 95.5\n",
       "\\end{enumerate*}\n"
      ],
      "text/markdown": [
       "1. 12.5\n",
       "2. 12.5\n",
       "3. 33\n",
       "4. 33\n",
       "5. 95.5\n",
       "6. 95.5\n",
       "\n",
       "\n"
      ],
      "text/plain": [
       "[1] 12.5 12.5 33.0 33.0 95.5 95.5"
      ]
     },
     "metadata": {},
     "output_type": "display_data"
    },
    {
     "name": "stdout",
     "output_type": "stream",
     "text": [
      "[1] \"df$hwy\"\n"
     ]
    },
    {
     "data": {
      "text/html": [
       "<ol class=list-inline>\n",
       "\t<li>197.5</li>\n",
       "\t<li>197.5</li>\n",
       "\t<li>216</li>\n",
       "\t<li>210.5</li>\n",
       "\t<li>149.5</li>\n",
       "\t<li>149.5</li>\n",
       "</ol>\n"
      ],
      "text/latex": [
       "\\begin{enumerate*}\n",
       "\\item 197.5\n",
       "\\item 197.5\n",
       "\\item 216\n",
       "\\item 210.5\n",
       "\\item 149.5\n",
       "\\item 149.5\n",
       "\\end{enumerate*}\n"
      ],
      "text/markdown": [
       "1. 197.5\n",
       "2. 197.5\n",
       "3. 216\n",
       "4. 210.5\n",
       "5. 149.5\n",
       "6. 149.5\n",
       "\n",
       "\n"
      ],
      "text/plain": [
       "[1] 197.5 197.5 216.0 210.5 149.5 149.5"
      ]
     },
     "metadata": {},
     "output_type": "display_data"
    }
   ],
   "source": [
    "# Calculate rank for each of our datasets\n",
    "# Hint: rank()\n",
    "\n",
    "# literal vector\n",
    "print(\"literal vector\")\n",
    "rank(c(1, 2, 3))\n",
    "\n",
    "# Piped version\n",
    "print(\"piped version\")\n",
    "c(1, 2, 3) %>% rank()\n",
    "\n",
    "print(\"three_numbers\")\n",
    "three_numbers %>% rank()\n",
    "\n",
    "print(\"four_numbers\")\n",
    "four_numbers %>% rank()\n",
    "\n",
    "print(\"five_numbers\")\n",
    "five_numbers %>% rank()\n",
    "\n",
    "print(\"na_numbers\")\n",
    "na_numbers  %>% rank()\n",
    "\n",
    "print(\"outlier_numbers\")\n",
    "outlier_numbers %>% rank()\n",
    "\n",
    "print(\"df$cyl\")\n",
    "df$cyl %>% rank() %>% head()\n",
    "\n",
    "print(\"df$displ\")\n",
    "df$displ %>% rank() %>% head()\n",
    "\n",
    "print(\"df$hwy\")\n",
    "df$hwy %>% rank() %>% head()"
   ]
  },
  {
   "cell_type": "markdown",
   "metadata": {},
   "source": [
    "Notice the following:\n",
    "\n",
    "* five_numbers had a tie and used 3.5 rank for both positions\n",
    "* NAs are ranked last\n",
    "* When there are many of the same value, rank can skip many numbers to account for this "
   ]
  },
  {
   "cell_type": "markdown",
   "metadata": {},
   "source": [
    "# dense_rank() - tidyverse solution\n",
    "There is a more complete solution using the tidyverse rank functions"
   ]
  },
  {
   "cell_type": "code",
   "execution_count": 34,
   "metadata": {
    "collapsed": true
   },
   "outputs": [],
   "source": [
    "# Display help on dense_rank()\n",
    "?dense_rank()"
   ]
  },
  {
   "cell_type": "markdown",
   "metadata": {},
   "source": [
    "# ranking {dplyr}\tR Documentation\n",
    "Windowed rank functions.\n",
    "\n",
    "## Description\n",
    "\n",
    "Six variations on ranking functions, mimicking the ranking functions described in SQL2003. They are currently implemented using the built in rank function, and are provided mainly as a convenience when converting between R and SQL. All ranking functions map smallest inputs to smallest outputs. Use desc() to reverse the direction.\n",
    "\n",
    "## Usage\n",
    "\n",
    "row_number(x)\n",
    "\n",
    "ntile(x, n)\n",
    "\n",
    "min_rank(x)\n",
    "\n",
    "dense_rank(x)\n",
    "\n",
    "percent_rank(x)\n",
    "\n",
    "cume_dist(x)\n"
   ]
  },
  {
   "cell_type": "code",
   "execution_count": 33,
   "metadata": {},
   "outputs": [
    {
     "name": "stdout",
     "output_type": "stream",
     "text": [
      "[1] \"cyl_10\"\n",
      " [1] 4 4 4 4 6 6 6 4 4 4\n",
      "[1] \"rank()\"\n"
     ]
    },
    {
     "data": {
      "text/html": [
       "<ol class=list-inline>\n",
       "\t<li>4</li>\n",
       "\t<li>4</li>\n",
       "\t<li>4</li>\n",
       "\t<li>4</li>\n",
       "\t<li>9</li>\n",
       "\t<li>9</li>\n",
       "\t<li>9</li>\n",
       "\t<li>4</li>\n",
       "\t<li>4</li>\n",
       "\t<li>4</li>\n",
       "</ol>\n"
      ],
      "text/latex": [
       "\\begin{enumerate*}\n",
       "\\item 4\n",
       "\\item 4\n",
       "\\item 4\n",
       "\\item 4\n",
       "\\item 9\n",
       "\\item 9\n",
       "\\item 9\n",
       "\\item 4\n",
       "\\item 4\n",
       "\\item 4\n",
       "\\end{enumerate*}\n"
      ],
      "text/markdown": [
       "1. 4\n",
       "2. 4\n",
       "3. 4\n",
       "4. 4\n",
       "5. 9\n",
       "6. 9\n",
       "7. 9\n",
       "8. 4\n",
       "9. 4\n",
       "10. 4\n",
       "\n",
       "\n"
      ],
      "text/plain": [
       " [1] 4 4 4 4 9 9 9 4 4 4"
      ]
     },
     "metadata": {},
     "output_type": "display_data"
    },
    {
     "name": "stdout",
     "output_type": "stream",
     "text": [
      "[1] \"row_number()\"\n"
     ]
    },
    {
     "data": {
      "text/html": [
       "<ol class=list-inline>\n",
       "\t<li>1</li>\n",
       "\t<li>2</li>\n",
       "\t<li>3</li>\n",
       "\t<li>4</li>\n",
       "\t<li>8</li>\n",
       "\t<li>9</li>\n",
       "\t<li>10</li>\n",
       "\t<li>5</li>\n",
       "\t<li>6</li>\n",
       "\t<li>7</li>\n",
       "</ol>\n"
      ],
      "text/latex": [
       "\\begin{enumerate*}\n",
       "\\item 1\n",
       "\\item 2\n",
       "\\item 3\n",
       "\\item 4\n",
       "\\item 8\n",
       "\\item 9\n",
       "\\item 10\n",
       "\\item 5\n",
       "\\item 6\n",
       "\\item 7\n",
       "\\end{enumerate*}\n"
      ],
      "text/markdown": [
       "1. 1\n",
       "2. 2\n",
       "3. 3\n",
       "4. 4\n",
       "5. 8\n",
       "6. 9\n",
       "7. 10\n",
       "8. 5\n",
       "9. 6\n",
       "10. 7\n",
       "\n",
       "\n"
      ],
      "text/plain": [
       " [1]  1  2  3  4  8  9 10  5  6  7"
      ]
     },
     "metadata": {},
     "output_type": "display_data"
    },
    {
     "name": "stdout",
     "output_type": "stream",
     "text": [
      "[1] \"min_rank()\"\n"
     ]
    },
    {
     "data": {
      "text/html": [
       "<ol class=list-inline>\n",
       "\t<li>1</li>\n",
       "\t<li>1</li>\n",
       "\t<li>1</li>\n",
       "\t<li>1</li>\n",
       "\t<li>8</li>\n",
       "\t<li>8</li>\n",
       "\t<li>8</li>\n",
       "\t<li>1</li>\n",
       "\t<li>1</li>\n",
       "\t<li>1</li>\n",
       "</ol>\n"
      ],
      "text/latex": [
       "\\begin{enumerate*}\n",
       "\\item 1\n",
       "\\item 1\n",
       "\\item 1\n",
       "\\item 1\n",
       "\\item 8\n",
       "\\item 8\n",
       "\\item 8\n",
       "\\item 1\n",
       "\\item 1\n",
       "\\item 1\n",
       "\\end{enumerate*}\n"
      ],
      "text/markdown": [
       "1. 1\n",
       "2. 1\n",
       "3. 1\n",
       "4. 1\n",
       "5. 8\n",
       "6. 8\n",
       "7. 8\n",
       "8. 1\n",
       "9. 1\n",
       "10. 1\n",
       "\n",
       "\n"
      ],
      "text/plain": [
       " [1] 1 1 1 1 8 8 8 1 1 1"
      ]
     },
     "metadata": {},
     "output_type": "display_data"
    },
    {
     "name": "stdout",
     "output_type": "stream",
     "text": [
      "[1] \"dense_rank()\"\n"
     ]
    },
    {
     "data": {
      "text/html": [
       "<ol class=list-inline>\n",
       "\t<li>1</li>\n",
       "\t<li>1</li>\n",
       "\t<li>1</li>\n",
       "\t<li>1</li>\n",
       "\t<li>2</li>\n",
       "\t<li>2</li>\n",
       "\t<li>2</li>\n",
       "\t<li>1</li>\n",
       "\t<li>1</li>\n",
       "\t<li>1</li>\n",
       "</ol>\n"
      ],
      "text/latex": [
       "\\begin{enumerate*}\n",
       "\\item 1\n",
       "\\item 1\n",
       "\\item 1\n",
       "\\item 1\n",
       "\\item 2\n",
       "\\item 2\n",
       "\\item 2\n",
       "\\item 1\n",
       "\\item 1\n",
       "\\item 1\n",
       "\\end{enumerate*}\n"
      ],
      "text/markdown": [
       "1. 1\n",
       "2. 1\n",
       "3. 1\n",
       "4. 1\n",
       "5. 2\n",
       "6. 2\n",
       "7. 2\n",
       "8. 1\n",
       "9. 1\n",
       "10. 1\n",
       "\n",
       "\n"
      ],
      "text/plain": [
       " [1] 1 1 1 1 2 2 2 1 1 1"
      ]
     },
     "metadata": {},
     "output_type": "display_data"
    },
    {
     "name": "stdout",
     "output_type": "stream",
     "text": [
      "[1] \"percent_rank()\"\n"
     ]
    },
    {
     "data": {
      "text/html": [
       "<ol class=list-inline>\n",
       "\t<li>0</li>\n",
       "\t<li>0</li>\n",
       "\t<li>0</li>\n",
       "\t<li>0</li>\n",
       "\t<li>0.777777777777778</li>\n",
       "\t<li>0.777777777777778</li>\n",
       "\t<li>0.777777777777778</li>\n",
       "\t<li>0</li>\n",
       "\t<li>0</li>\n",
       "\t<li>0</li>\n",
       "</ol>\n"
      ],
      "text/latex": [
       "\\begin{enumerate*}\n",
       "\\item 0\n",
       "\\item 0\n",
       "\\item 0\n",
       "\\item 0\n",
       "\\item 0.777777777777778\n",
       "\\item 0.777777777777778\n",
       "\\item 0.777777777777778\n",
       "\\item 0\n",
       "\\item 0\n",
       "\\item 0\n",
       "\\end{enumerate*}\n"
      ],
      "text/markdown": [
       "1. 0\n",
       "2. 0\n",
       "3. 0\n",
       "4. 0\n",
       "5. 0.777777777777778\n",
       "6. 0.777777777777778\n",
       "7. 0.777777777777778\n",
       "8. 0\n",
       "9. 0\n",
       "10. 0\n",
       "\n",
       "\n"
      ],
      "text/plain": [
       " [1] 0.0000000 0.0000000 0.0000000 0.0000000 0.7777778 0.7777778 0.7777778\n",
       " [8] 0.0000000 0.0000000 0.0000000"
      ]
     },
     "metadata": {},
     "output_type": "display_data"
    }
   ],
   "source": [
    "# Compare rank, row_number, min_rank, dense_rank, and percent_rank \n",
    "# for the first 10 rows of df$cyl\n",
    "cyl_10 <- df$cyl %>% head(10)\n",
    "\n",
    "print(\"cyl_10\")\n",
    "print(cyl_10)\n",
    "\n",
    "# Hint: rank()\n",
    "print(\"rank()\")\n",
    "cyl_10 %>% rank()\n",
    "\n",
    "# Hint: row_number()\n",
    "print(\"row_number()\")\n",
    "cyl_10 %>% row_number()\n",
    "\n",
    "# Hint: min_rank()\n",
    "print(\"min_rank()\")\n",
    "cyl_10 %>% min_rank()\n",
    "\n",
    "# Hint: dense_rank()\n",
    "print(\"dense_rank()\")\n",
    "cyl_10 %>% dense_rank()\n",
    "\n",
    "# Hint: percent_rank()\n",
    "print(\"percent_rank()\")\n",
    "cyl_10 %>% percent_rank()"
   ]
  },
  {
   "cell_type": "markdown",
   "metadata": {},
   "source": [
    "Notice how different each rank function is when it comes to handling ties."
   ]
  },
  {
   "cell_type": "markdown",
   "metadata": {},
   "source": [
    "# Visualizing Central Tendency\n",
    "Let's see how to visualize central tendency or more generally how to plot summarizing measures alongside the data. "
   ]
  },
  {
   "cell_type": "markdown",
   "metadata": {},
   "source": [
    "## Create vector data from dataframe\n",
    "Create a vector from a dataframe column. This allows the use of that vector outside of the dataframe."
   ]
  },
  {
   "cell_type": "code",
   "execution_count": 35,
   "metadata": {},
   "outputs": [
    {
     "data": {
      "text/html": [
       "<ol class=list-inline>\n",
       "\t<li>29</li>\n",
       "\t<li>29</li>\n",
       "\t<li>31</li>\n",
       "\t<li>30</li>\n",
       "\t<li>26</li>\n",
       "\t<li>26</li>\n",
       "</ol>\n"
      ],
      "text/latex": [
       "\\begin{enumerate*}\n",
       "\\item 29\n",
       "\\item 29\n",
       "\\item 31\n",
       "\\item 30\n",
       "\\item 26\n",
       "\\item 26\n",
       "\\end{enumerate*}\n"
      ],
      "text/markdown": [
       "1. 29\n",
       "2. 29\n",
       "3. 31\n",
       "4. 30\n",
       "5. 26\n",
       "6. 26\n",
       "\n",
       "\n"
      ],
      "text/plain": [
       "[1] 29 29 31 30 26 26"
      ]
     },
     "metadata": {},
     "output_type": "display_data"
    },
    {
     "data": {
      "text/html": [
       "234"
      ],
      "text/latex": [
       "234"
      ],
      "text/markdown": [
       "234"
      ],
      "text/plain": [
       "[1] 234"
      ]
     },
     "metadata": {},
     "output_type": "display_data"
    }
   ],
   "source": [
    "# Get some non-dataframe data\n",
    "# Save mpg$hwy as a vector\n",
    "# Hint: Use assignment operator\n",
    "v <- mpg$hwy\n",
    "\n",
    "# Explore top results\n",
    "v %>% head()\n",
    "\n",
    "# Count the numbers\n",
    "# Hint: length()\n",
    "length(v)"
   ]
  },
  {
   "cell_type": "markdown",
   "metadata": {},
   "source": [
    "Sometimes it may be more convenient to work with data outside of a dataframe. It is easy to take a dataframe column and save it as a vector."
   ]
  },
  {
   "cell_type": "markdown",
   "metadata": {},
   "source": [
    "## Create central tendency statistics on a vector\n",
    "Most statistic functions are designed to easily work with vectors."
   ]
  },
  {
   "cell_type": "code",
   "execution_count": 37,
   "metadata": {},
   "outputs": [
    {
     "name": "stdout",
     "output_type": "stream",
     "text": [
      "[1] \"mean:23.4401709401709\"\n",
      "[1] \"median:24\"\n",
      "[1] \"mode:26\"\n"
     ]
    }
   ],
   "source": [
    "# Calculate mean\n",
    "# Hint: mean()\n",
    "v_mean <- mean(v)\n",
    "str_c(\"mean:\", v_mean) %>% print()\n",
    "\n",
    "# Calculate median\n",
    "# Hint: median()\n",
    "v_median <- median (v)\n",
    "str_c(\"median:\", v_median) %>% print()\n",
    "\n",
    "# Calculate mode\n",
    "# Hint: mfv()\n",
    "v_mode <- mfv(v)\n",
    "str_c(\"mode:\", v_mode) %>% print()"
   ]
  },
  {
   "cell_type": "markdown",
   "metadata": {},
   "source": [
    "With over 200 samples it isn't unexpected to find the mean, median, and mode so close to each other. "
   ]
  },
  {
   "cell_type": "markdown",
   "metadata": {},
   "source": [
    "## Plot a vector of numbers in ggplot\n",
    "It is useful to plot a vector in ggplot. Since ggplot expects a dataframe, we will need to create one."
   ]
  },
  {
   "cell_type": "code",
   "execution_count": 41,
   "metadata": {},
   "outputs": [],
   "source": [
    "# Get help on data_frame() from the dplyr package\n",
    "? dplyr::data_frame()"
   ]
  },
  {
   "cell_type": "markdown",
   "metadata": {},
   "source": [
    "\n",
    "# reexports {dplyr}\tR Documentation\n",
    "Objects exported from other packages\n",
    "\n",
    "## Description\n",
    "\n",
    "These objects are imported from other packages. Follow the links below to see their documentation.\n",
    "\n",
    "magrittr\n",
    "%>%\n",
    "\n",
    "tibble\n",
    "data_frame, data_frame_, as_data_frame, lst, lst_, add_row, type_sum, glimpse, frame_data, tribble, tibble, as_tibble, trunc_mat, tbl_sum\n",
    "\n",
    "tidyselect\n",
    "contains, ends_with, everything, matches, num_range, one_of, starts_with"
   ]
  },
  {
   "cell_type": "markdown",
   "metadata": {},
   "source": [
    "The above data_frame() is the tidyverse version of data.frame(). It is implemented as a tibble. So we need to check help on tibble()"
   ]
  },
  {
   "cell_type": "code",
   "execution_count": 42,
   "metadata": {
    "collapsed": true
   },
   "outputs": [],
   "source": [
    "# Get help on tibble::tibble\n",
    "? tibble::tibble()"
   ]
  },
  {
   "cell_type": "markdown",
   "metadata": {},
   "source": [
    "# tibble {tibble}\tR Documentation\n",
    "Build a data frame or list\n",
    "\n",
    "## Description\n",
    "\n",
    "tibble() is a trimmed down version of data.frame() that:\n",
    "\n",
    "* Never coerces inputs (i.e. strings stay as strings!).\n",
    "\n",
    "* Never adds row.names.\n",
    "\n",
    "* Never munges column names.\n",
    "\n",
    "* Only recycles length 1 inputs.\n",
    "\n",
    "* Evaluates its arguments lazily and in order.\n",
    "\n",
    "* Adds tbl_df class to output.\n",
    "\n",
    "* Automatically adds column names.\n",
    "\n",
    "data_frame() is an alias to tibble().\n",
    "\n",
    "tibble_() and its alias data_frame_() use lazy evaluation and are deprecated. New code should use tibble() or data_frame() with quasiquotation.\n",
    "\n",
    "lst() is similar to list(), but like tibble(), it evaluates its arguments lazily and in order, and automatically adds names.\n",
    "\n",
    "lst_() uses lazy evaluation and is deprecated. New code should use lst() with quasiquotation.\n",
    "\n",
    "## Usage\n",
    "\n",
    "tibble(...)\n",
    "\n",
    "data_frame(...)\n",
    "\n",
    "lst(...)"
   ]
  },
  {
   "cell_type": "markdown",
   "metadata": {},
   "source": [
    "tibble() and data_frame() are the tidyverse version of base R data.frame() function. The above description bullets indicate how it differs from base R. In practice, these difference are rarely noticeable. \n",
    "\n",
    "The tidyverse version of base R functions are often more deterministic, a bit less forgiving with unexpected corner case data (throws an error), has better performance, and favors piping. As a result, I tend to use tidyverse functions when I can."
   ]
  },
  {
   "cell_type": "code",
   "execution_count": 43,
   "metadata": {},
   "outputs": [
    {
     "name": "stderr",
     "output_type": "stream",
     "text": [
      "Warning message:\n",
      "“`data_frame()` is deprecated, use `tibble()`.\n",
      "\u001b[90mThis warning is displayed once per session.\u001b[39m”"
     ]
    },
    {
     "name": "stdout",
     "output_type": "stream",
     "text": [
      "Observations: 234\n",
      "Variables: 1\n",
      "$ hwy \u001b[3m\u001b[90m<int>\u001b[39m\u001b[23m 29, 29, 31, 30, 26, 26, 27, 26, 25, 28, 27, 25, 25, 25, 25, 24, 2…\n"
     ]
    }
   ],
   "source": [
    "# Create a dataframe for v\n",
    "# Column name hwy in dataframe df\n",
    "# Hint: data_frame(), data.frame() will work too\n",
    "df_v <-data_frame(hwy=v)\n",
    "\n",
    "# Glimpse result\n",
    "df_v %>% glimpse()"
   ]
  },
  {
   "cell_type": "markdown",
   "metadata": {},
   "source": [
    "# seq_along()\n",
    "To plot a single column of data points as using geom_point() requires a dataframe and two aesthetics, x and y. This makes sense because geom_point needs to know where on the x-y plane to plot each point. \n",
    "\n",
    "The problem we have is that we have only one set of numbers that we can think of as the y axis. For the x axis, we could just have a counter. So the order of the vector of data will be plots in order on the x axis from 1, 2, 3, etc. This is where seq_along() function comes in handy. It creates a sequence of numbers just like this."
   ]
  },
  {
   "cell_type": "code",
   "execution_count": 44,
   "metadata": {
    "collapsed": true
   },
   "outputs": [],
   "source": [
    "# Display help on seq_along()\n",
    "?seq_along()"
   ]
  },
  {
   "cell_type": "markdown",
   "metadata": {},
   "source": [
    "# seq {base}\tR Documentation\n",
    "Sequence Generation\n",
    "\n",
    "## Description\n",
    "\n",
    "Generate regular sequences. seq is a standard generic with a default method. seq.int is a primitive which can be much faster but has a few restrictions. seq_along and seq_len are very fast primitives for two common cases.\n",
    "\n",
    "## Usage\n",
    "\n",
    "seq(...)\n",
    "\n",
    "seq(from = 1, to = 1, by = ((to - from)/(length.out - 1)),\n",
    "    length.out = NULL, along.with = NULL, ...)\n",
    "\n",
    "seq.int(from, to, by, length.out, along.with, ...)\n",
    "\n",
    "seq_along(along.with)\n",
    "\n",
    "seq_len(length.out)\n",
    "\n",
    "## Arguments\n",
    "\n",
    "* ...\t- arguments passed to or from methods.\n",
    "* from, to\t- the starting and (maximal) end values of the sequence. Of length 1 unless just from is supplied as an unnamed argument.\n",
    "* by\t- number: increment of the sequence.\n",
    "* length.out\t- desired length of the sequence. A non-negative number, which for seq and seq.int will be rounded up if fractional.\n",
    "* along.with\t- take the length from the length of this argument."
   ]
  },
  {
   "cell_type": "markdown",
   "metadata": {},
   "source": [
    "As is typical with R, there are many variants and options to create any sequence of numbers you can imagine. All we need is the basics for our plotting purposes. "
   ]
  },
  {
   "cell_type": "code",
   "execution_count": 45,
   "metadata": {},
   "outputs": [
    {
     "data": {
      "image/png": "[encoded data removed]",
      "text/plain": [
       "plot without title"
      ]
     },
     "metadata": {},
     "output_type": "display_data"
    }
   ],
   "source": [
    "# Plot df_v$hwy as a scatterplot\n",
    "# Use hwy for the y axis\n",
    "# Jitter the points because the hwy values are rounded\n",
    "# Use a sequence 1, 2, 3, ... for the x axis\n",
    "# Add a loess trend line for reference\n",
    "# Use a classic theme\n",
    "# Hint: seq_along(), geom_jitter()\n",
    "df_v %>% ggplot(aes(x=hwy %>% seq_along(), y=hwy)) + \n",
    "   geom_jitter() + \n",
    "   geom_smooth(method=\"loess\") +\n",
    "   theme_classic() +\n",
    "   labs(title=\"Natural sequence of hwy data\",\n",
    "       subtitle=\"Using seq_along()\")"
   ]
  },
  {
   "cell_type": "markdown",
   "metadata": {},
   "source": [
    "It may be interesting to see the natural order of the data. Sometimes this can help understand data quality issues or how random the data was collected. In the above case it seems that there is some order to the data. It doesn't appear random. "
   ]
  },
  {
   "cell_type": "markdown",
   "metadata": {},
   "source": [
    "# Sample()\n",
    "One way to shuffle the data is to take a random sample without replacement. Replacement is when, after you draw a value from the data, you record that value and put the data 'back' making it possible to randomly choose that value again. Without replacement, the default option for sample(), will not select that data point again. This works well for shuffling the data without creating duplicate values.\n",
    "\n",
    "This is the base R version of sample. There are tidyverse versions, sample_n() and sample_frac() but those only work with dataframes. The base R version also works with vectors. "
   ]
  },
  {
   "cell_type": "code",
   "execution_count": 50,
   "metadata": {
    "collapsed": true
   },
   "outputs": [],
   "source": [
    "# Display help on sample()\n",
    "? base::sample()"
   ]
  },
  {
   "cell_type": "markdown",
   "metadata": {},
   "source": [
    "# Sample {base}\tR Documentation\n",
    "Random Samples and Permutations\n",
    "\n",
    "## Description\n",
    "\n",
    "sample takes a sample of the specified size from the elements of x using either with or without replacement.\n",
    "\n",
    "## Usage\n",
    "\n",
    "sample(x, size, replace = FALSE, prob = NULL)\n",
    "\n",
    "sample.int(n, size = n, replace = FALSE, prob = NULL,\n",
    "           useHash = (!replace && is.null(prob) && size <= n/2 && n > 1e7))\n",
    "## Arguments\n",
    "\n",
    "* x\t- either a vector of one or more elements from which to choose, or a positive integer. See ‘Details.’\n",
    "* n\t- a positive number, the number of items to choose from. See ‘Details.’\n",
    "* size\t- a non-negative integer giving the number of items to choose.\n",
    "* replace\t- should sampling be with replacement?\n",
    "* prob\t- a vector of probability weights for obtaining the elements of the vector being sampled.\n",
    "* useHash\t- logical indicating if the hash-version of the algorithm should be used. Can only be used for replace = FALSE, prob = NULL, and size <= n/2, and really should be used for large n, as useHash=FALSE will use memory proportional to n."
   ]
  },
  {
   "cell_type": "markdown",
   "metadata": {},
   "source": [
    "As usual, many options. If you are using them for data within a dataframe then consider the tidyverse versions which are a bit simpler in terms of options. In our case we want to get some more experience with vectors right now."
   ]
  },
  {
   "cell_type": "code",
   "execution_count": 47,
   "metadata": {},
   "outputs": [
    {
     "data": {
      "text/html": [
       "<ol class=list-inline>\n",
       "\t<li>29</li>\n",
       "\t<li>29</li>\n",
       "\t<li>31</li>\n",
       "\t<li>30</li>\n",
       "\t<li>26</li>\n",
       "\t<li>26</li>\n",
       "</ol>\n"
      ],
      "text/latex": [
       "\\begin{enumerate*}\n",
       "\\item 29\n",
       "\\item 29\n",
       "\\item 31\n",
       "\\item 30\n",
       "\\item 26\n",
       "\\item 26\n",
       "\\end{enumerate*}\n"
      ],
      "text/markdown": [
       "1. 29\n",
       "2. 29\n",
       "3. 31\n",
       "4. 30\n",
       "5. 26\n",
       "6. 26\n",
       "\n",
       "\n"
      ],
      "text/plain": [
       "[1] 29 29 31 30 26 26"
      ]
     },
     "metadata": {},
     "output_type": "display_data"
    },
    {
     "data": {
      "text/html": [
       "<ol class=list-inline>\n",
       "\t<li>26</li>\n",
       "\t<li>27</li>\n",
       "\t<li>17</li>\n",
       "\t<li>26</li>\n",
       "\t<li>28</li>\n",
       "\t<li>18</li>\n",
       "</ol>\n"
      ],
      "text/latex": [
       "\\begin{enumerate*}\n",
       "\\item 26\n",
       "\\item 27\n",
       "\\item 17\n",
       "\\item 26\n",
       "\\item 28\n",
       "\\item 18\n",
       "\\end{enumerate*}\n"
      ],
      "text/markdown": [
       "1. 26\n",
       "2. 27\n",
       "3. 17\n",
       "4. 26\n",
       "5. 28\n",
       "6. 18\n",
       "\n",
       "\n"
      ],
      "text/plain": [
       "[1] 26 27 17 26 28 18"
      ]
     },
     "metadata": {},
     "output_type": "display_data"
    }
   ],
   "source": [
    "# Compare first several numbers of\n",
    "# sample of v to v\n",
    "# Hint: sample(), head()\n",
    "v %>% head()\n",
    "v %>% sample() %>% head()"
   ]
  },
  {
   "cell_type": "markdown",
   "metadata": {},
   "source": [
    "Since this random, you will get different values each time you run it. You will get different values than what is in this notebook. If you want to be both random and deterministic, check out set.seed()"
   ]
  },
  {
   "cell_type": "code",
   "execution_count": 48,
   "metadata": {},
   "outputs": [
    {
     "data": {
      "text/html": [
       "234"
      ],
      "text/latex": [
       "234"
      ],
      "text/markdown": [
       "234"
      ],
      "text/plain": [
       "[1] 234"
      ]
     },
     "metadata": {},
     "output_type": "display_data"
    },
    {
     "data": {
      "text/html": [
       "234"
      ],
      "text/latex": [
       "234"
      ],
      "text/markdown": [
       "234"
      ],
      "text/plain": [
       "[1] 234"
      ]
     },
     "metadata": {},
     "output_type": "display_data"
    }
   ],
   "source": [
    "# Compare the length of v to sample of v\n",
    "# Hint: sample(), length()\n",
    "v %>% length()\n",
    "v %>% sample() %>% length ()"
   ]
  },
  {
   "cell_type": "markdown",
   "metadata": {},
   "source": [
    "Notice that sample defaults to the same number of values as the original. Now, let's be sure it is sampling without replacement, meaning that it has the exact same numbers, just out of order. We can do this a couple of ways."
   ]
  },
  {
   "cell_type": "code",
   "execution_count": null,
   "metadata": {
    "collapsed": true
   },
   "outputs": [],
   "source": [
    "# Compare the summary of v and sample v\n",
    "# Hint: summary(), sample()\n",
    "v %>% summary()\n",
    "v %>% ??? () %>% ??? ()"
   ]
  },
  {
   "cell_type": "markdown",
   "metadata": {},
   "source": [
    "Notice that the summaries are identical as they should be. Out of curiosity, if we did sample with replacement, would the summary stats change? Let's find out. "
   ]
  },
  {
   "cell_type": "code",
   "execution_count": 52,
   "metadata": {},
   "outputs": [
    {
     "data": {
      "text/plain": [
       "   Min. 1st Qu.  Median    Mean 3rd Qu.    Max. \n",
       "  12.00   18.00   24.00   23.44   27.00   44.00 "
      ]
     },
     "metadata": {},
     "output_type": "display_data"
    },
    {
     "data": {
      "text/plain": [
       "   Min. 1st Qu.  Median    Mean 3rd Qu.    Max. \n",
       "  12.00   18.00   25.00   23.94   28.75   44.00 "
      ]
     },
     "metadata": {},
     "output_type": "display_data"
    }
   ],
   "source": [
    "# Compare the summary of v and sample v\n",
    "# Sample v uses with replacement\n",
    "# Hint: summary(), sample() and replace option\n",
    "v %>% summary()\n",
    "v %>% sample(, replace = TRUE) %>% summary()"
   ]
  },
  {
   "cell_type": "markdown",
   "metadata": {},
   "source": [
    "Notice that they should be similar, but not exact like before. Again, your numbers will be different than mine since it is random. Why are they different? Because the same number can be drawn more than once, changing the results slightly. Why are the changes minimal? Because, by definition, they are drawing from the same distribution, the same pool of numbers. "
   ]
  },
  {
   "cell_type": "markdown",
   "metadata": {},
   "source": [
    "# Plot vector in random order\n",
    "In comparison to the natural order in the a prior plot, use sample() to shuffle the seq_along() points and see what a random order looks like. Also make note of  the trend curve."
   ]
  },
  {
   "cell_type": "code",
   "execution_count": 56,
   "metadata": {},
   "outputs": [
    {
     "data": {
      "image/png": "[encoded data removed]",
      "text/plain": [
       "plot without title"
      ]
     },
     "metadata": {},
     "output_type": "display_data"
    }
   ],
   "source": [
    "# Plot df_v$hwy as a scatterplot\n",
    "# Use hwy for the y axis\n",
    "# Jitter the points because the hwy values are rounded\n",
    "# Use a random sequence for the x axis\n",
    "# Add a loess trend line for reference\n",
    "# Use a classic theme\n",
    "# Hint: seq_along(), geom_jitter(), sample()\n",
    "df_v %>% ggplot(aes(x=hwy %>% seq_along() %>% sample(replace = TRUE), y=hwy)) + \n",
    "   geom_jitter() + \n",
    "   geom_smooth(method=\"loess\") +\n",
    "   theme_classic() +\n",
    "   labs(title=\"Random sequence of hwy data\",\n",
    "       subtitle=\"Using seq_along() and sample()\")"
   ]
  },
  {
   "cell_type": "markdown",
   "metadata": {},
   "source": [
    "Compare this random plot to the prior natural order plot. From this can you convince yourself whether the natural order is random or not? How do the trend curves compare? "
   ]
  },
  {
   "cell_type": "markdown",
   "metadata": {},
   "source": [
    "# Add central tendency numbers to a plot\n",
    "Now that we have a number series plotted in random order, let's overlay our central tendency numbers on the plot."
   ]
  },
  {
   "cell_type": "markdown",
   "metadata": {},
   "source": [
    "# geom_hline()\n",
    "The horizontal geometry can create horizonal lines. You specify the yintercept value. You can provide a vector of values to draw multiple lines in a single geom_hline() layer. You can also have multiple layers which allows for different aesthetic properties for each layer such as the color and width."
   ]
  },
  {
   "cell_type": "code",
   "execution_count": 55,
   "metadata": {
    "collapsed": true
   },
   "outputs": [],
   "source": [
    "# Display help on geom_hline()\n",
    "?geom_hline"
   ]
  },
  {
   "cell_type": "markdown",
   "metadata": {},
   "source": [
    "# geom_abline {ggplot2}\tR Documentation\n",
    "Reference lines: horizontal, vertical, and diagonal\n",
    "\n",
    "## Description\n",
    "\n",
    "These geoms add reference lines (sometimes called rules) to a plot, either horizontal, vertical, or diagonal (specified by slope and intercept). These are useful for annotating plots.\n",
    "\n",
    "## Usage\n",
    "\n",
    "geom_abline(mapping = NULL, data = NULL, ..., slope, intercept,\n",
    "  na.rm = FALSE, show.legend = NA)\n",
    "\n",
    "geom_hline(mapping = NULL, data = NULL, ..., yintercept, na.rm = FALSE,\n",
    "  show.legend = NA)\n",
    "\n",
    "geom_vline(mapping = NULL, data = NULL, ..., xintercept, na.rm = FALSE,\n",
    "  show.legend = NA)\n"
   ]
  },
  {
   "cell_type": "markdown",
   "metadata": {},
   "source": [
    "Notice that just like hline, there is vline for vertical lines and abline for lines with any slope you like.\n",
    "\n",
    "When you are adding data that is NOT part of the dataframe passed into ggplot, you can "
   ]
  },
  {
   "cell_type": "code",
   "execution_count": 57,
   "metadata": {},
   "outputs": [
    {
     "data": {
      "image/png": "[encoded data removed]",
      "text/plain": [
       "plot without title"
      ]
     },
     "metadata": {},
     "output_type": "display_data"
    }
   ],
   "source": [
    "# Plot jittered df_v$hwy on y axis in random order \n",
    "# Include mean as a red line\n",
    "# Hint: geom_hline() and color\n",
    "df_v %>% ggplot(aes(x=hwy %>% seq_along() %>% sample(), y=hwy)) + \n",
    "   geom_jitter() + \n",
    "   geom_hline(yintercept=v_mean, color=\"red\") +\n",
    "   theme_classic() +\n",
    "   labs(title=\"Random sequence of hwy data\",\n",
    "       subtitle=\"Showing mean(red)\")"
   ]
  },
  {
   "cell_type": "markdown",
   "metadata": {},
   "source": [
    "Now add median to the above plot. Check the line to a dashed lined using the linetype attribute."
   ]
  },
  {
   "cell_type": "code",
   "execution_count": 61,
   "metadata": {},
   "outputs": [
    {
     "data": {
      "image/png": "[encoded data removed]",
      "text/plain": [
       "plot without title"
      ]
     },
     "metadata": {},
     "output_type": "display_data"
    }
   ],
   "source": [
    "# Plot jittered df_v$hwy on y axis in random order \n",
    "# Include mean as a red line\n",
    "# Include median as a blue dashed line\n",
    "# Hint: geom_hline() and color and linetype=\"dashed\"\n",
    "df_v %>% ggplot(aes(x=hwy %>% seq_along() %>% sample(), y=hwy)) + \n",
    "   geom_jitter() + \n",
    "   geom_hline(yintercept=v_mean, color=\"red\") +\n",
    "   geom_hline(yintercept=v_median, color= \"blue\"  , linetype= \"dashed\") +\n",
    "   theme_classic() +\n",
    "   labs(title=\"Random sequence of hwy data\",\n",
    "       subtitle=\"Showing mean(red), median(blue)\")"
   ]
  },
  {
   "cell_type": "markdown",
   "metadata": {},
   "source": [
    "Now let's add the mode. Also make the mean and median lines a bit thicker so they are more noticable. This is size attribute."
   ]
  },
  {
   "cell_type": "code",
   "execution_count": 62,
   "metadata": {},
   "outputs": [
    {
     "data": {
      "image/png": "[encoded data removed]",
      "text/plain": [
       "plot without title"
      ]
     },
     "metadata": {},
     "output_type": "display_data"
    }
   ],
   "source": [
    "# Plot jittered df_v$hwy on y axis in random order \n",
    "# Include mean as a red line and width of 1.5\n",
    "# Include median as a blue dashed line and width of 1.5\n",
    "# Include mode as a translucent solid orange line with a width of 5\n",
    "# Hint: geom_hline() and color and size and alpha\n",
    "df_v %>% ggplot(aes(x=hwy %>% seq_along() %>% sample(), y=hwy)) + \n",
    "   geom_jitter() + \n",
    "   geom_hline(yintercept=v_mean, color=\"red\", size=1.5) +\n",
    "   geom_hline(yintercept=v_median, color=\"blue\", linetype=\"dashed\", size=1.5) +\n",
    "   geom_hline(yintercept=v_mode, color= \"orange\" , size= 5 , alpha= 0.7) +\n",
    "   theme_classic() +\n",
    "   labs(title=\"Random sequence of hwy data\",\n",
    "       subtitle=\"Showing mean(red), median(blue) and mode(orange)\")"
   ]
  },
  {
   "cell_type": "markdown",
   "metadata": {},
   "source": [
    "# Conveying quantiles and rank in plots\n",
    "A random order can visually help support the central tendency statistics like mean, median, and mode. Another useful visualization is to rank order the the values and see what patterns are revealed. Rank order and quartiles work well, so let's use them together. We'll use row_number() so to reduce the visual effects of ties. You are encouraged to try out the other rank functions."
   ]
  },
  {
   "cell_type": "code",
   "execution_count": 63,
   "metadata": {},
   "outputs": [
    {
     "data": {
      "image/png": "[encoded data removed]",
      "text/plain": [
       "plot without title"
      ]
     },
     "metadata": {},
     "output_type": "display_data"
    }
   ],
   "source": [
    "# Jittered plot of df$hwy ordered by row number rank\n",
    "# Hint: row_number()\n",
    "df_v %>% ggplot(aes(x = hwy %>% row_number(), y = hwy)) +\n",
    "   geom_jitter() +\n",
    "   theme_classic() +\n",
    "   labs(title=\"hwy data\",\n",
    "       subtitle=\"Ordered by row_number()\")"
   ]
  },
  {
   "cell_type": "code",
   "execution_count": 64,
   "metadata": {},
   "outputs": [
    {
     "data": {
      "text/html": [
       "<dl class=dl-horizontal>\n",
       "\t<dt>0%</dt>\n",
       "\t\t<dd>12</dd>\n",
       "\t<dt>25%</dt>\n",
       "\t\t<dd>18</dd>\n",
       "\t<dt>50%</dt>\n",
       "\t\t<dd>24</dd>\n",
       "\t<dt>75%</dt>\n",
       "\t\t<dd>27</dd>\n",
       "\t<dt>100%</dt>\n",
       "\t\t<dd>44</dd>\n",
       "</dl>\n"
      ],
      "text/latex": [
       "\\begin{description*}\n",
       "\\item[0\\textbackslash{}\\%] 12\n",
       "\\item[25\\textbackslash{}\\%] 18\n",
       "\\item[50\\textbackslash{}\\%] 24\n",
       "\\item[75\\textbackslash{}\\%] 27\n",
       "\\item[100\\textbackslash{}\\%] 44\n",
       "\\end{description*}\n"
      ],
      "text/markdown": [
       "0%\n",
       ":   1225%\n",
       ":   1850%\n",
       ":   2475%\n",
       ":   27100%\n",
       ":   44\n",
       "\n"
      ],
      "text/plain": [
       "  0%  25%  50%  75% 100% \n",
       "  12   18   24   27   44 "
      ]
     },
     "metadata": {},
     "output_type": "display_data"
    }
   ],
   "source": [
    "# Calculate quartiles\n",
    "# Hint: quantile()\n",
    "v_quartiles <- v %>% quantile()\n",
    "\n",
    "# Explore results\n",
    "v_quartiles"
   ]
  },
  {
   "cell_type": "markdown",
   "metadata": {},
   "source": [
    "# Slicing a vector using [ : ]\n",
    "We are ready to add quartiles to the plot. Notice than there are 5 values which include 0% (min value) and 100% (max value). We can remove these when plotting using slicing. Let's try slicing first, then well use it in the ggplot.\n",
    "\n",
    "You can slice a vector by the form vector_variable[starting_row : ending_row]. The rows are numbered starting with 1. By slicing, we are filtering, or keeping these rows and discarding all other rows. "
   ]
  },
  {
   "cell_type": "code",
   "execution_count": 65,
   "metadata": {},
   "outputs": [
    {
     "data": {
      "text/html": [
       "<dl class=dl-horizontal>\n",
       "\t<dt>25%</dt>\n",
       "\t\t<dd>18</dd>\n",
       "\t<dt>50%</dt>\n",
       "\t\t<dd>24</dd>\n",
       "\t<dt>75%</dt>\n",
       "\t\t<dd>27</dd>\n",
       "</dl>\n"
      ],
      "text/latex": [
       "\\begin{description*}\n",
       "\\item[25\\textbackslash{}\\%] 18\n",
       "\\item[50\\textbackslash{}\\%] 24\n",
       "\\item[75\\textbackslash{}\\%] 27\n",
       "\\end{description*}\n"
      ],
      "text/markdown": [
       "25%\n",
       ":   1850%\n",
       ":   2475%\n",
       ":   27\n",
       "\n"
      ],
      "text/plain": [
       "25% 50% 75% \n",
       " 18  24  27 "
      ]
     },
     "metadata": {},
     "output_type": "display_data"
    }
   ],
   "source": [
    "# Display only the 25%, 50% (median) and 75% quartiles\n",
    "# Hint: slice 2 through 4\n",
    "v_quartiles[ 2:4 ]"
   ]
  },
  {
   "cell_type": "markdown",
   "metadata": {},
   "source": [
    "Notice that 0% and 100% are not displayed. Let's add quartiles to our plot. Let's also connect the points with a line."
   ]
  },
  {
   "cell_type": "code",
   "execution_count": 66,
   "metadata": {},
   "outputs": [
    {
     "data": {
      "image/png": "[encoded data removed]",
      "text/plain": [
       "plot without title"
      ]
     },
     "metadata": {},
     "output_type": "display_data"
    }
   ],
   "source": [
    "# Jittered plot of df_v$hwy ordered by row number rank\n",
    "# Add blue thick(3) tranlucent (0.3) horizonal lines for the quartiles\n",
    "# Add a line connecting the points\n",
    "# Don't plot the 0% and 100% quartiles\n",
    "# Hint: slicing [starting row : ending_row], geom_line()\n",
    "df_v %>% ggplot(aes(x = hwy %>% row_number(), y = hwy)) +\n",
    "   geom_line() +\n",
    "   geom_jitter() +\n",
    "   geom_hline(yintercept=v_quartiles[2:4], alpha=0.3, size=3, color=\"blue\") +\n",
    "   theme_classic() +\n",
    "   labs(title=\"hwy data\",\n",
    "       subtitle=\"Ordered by row_number() with quartiles(blue)\")"
   ]
  },
  {
   "cell_type": "markdown",
   "metadata": {},
   "source": [
    "# geom_boxplot\n",
    "Another way of plotting the above is by using the box plot. It creates a box around the quartiles with the 50% percentile (the median) as the line in the middle. It also gives an indication of how long the tails are (which are called whiskers) and any outliers outside the whiskers are plotted as points. \n",
    "\n",
    "geom_boxplot is expecting an x axis, typically a categorical variable. In the absense of this, we can indicate that we are only plotting a single series and no x axis is needed. This is done with x=0 which will center the plot at 0."
   ]
  },
  {
   "cell_type": "code",
   "execution_count": null,
   "metadata": {
    "collapsed": true
   },
   "outputs": [],
   "source": [
    "# Display help on geom_boxplot\n",
    "?geom_boxplot()"
   ]
  },
  {
   "cell_type": "markdown",
   "metadata": {},
   "source": [
    "# geom_boxplot {ggplot2}\tR Documentation\n",
    "A box and whiskers plot (in the style of Tukey)\n",
    "\n",
    "## Description\n",
    "\n",
    "The boxplot compactly displays the distribution of a continuous variable. It visualises five summary statistics (the median, two hinges and two whiskers), and all \"outlying\" points individually.\n",
    "\n",
    "## Usage\n",
    "\n",
    "geom_boxplot(mapping = NULL, data = NULL, stat = \"boxplot\",\n",
    "  position = \"dodge2\", ..., outlier.colour = NULL, outlier.color = NULL,\n",
    "  outlier.fill = NULL, outlier.shape = 19, outlier.size = 1.5,\n",
    "  outlier.stroke = 0.5, outlier.alpha = NULL, notch = FALSE,\n",
    "  notchwidth = 0.5, varwidth = FALSE, na.rm = FALSE, show.legend = NA,\n",
    "  inherit.aes = TRUE)"
   ]
  },
  {
   "cell_type": "code",
   "execution_count": 67,
   "metadata": {},
   "outputs": [
    {
     "data": {
      "image/png": "[encoded data removed]",
      "text/plain": [
       "plot without title"
      ]
     },
     "metadata": {},
     "output_type": "display_data"
    }
   ],
   "source": [
    "# Create a boxplot of df_v$hwy\n",
    "# Hint: geom_boxplot() and x=0\n",
    "df_v %>% ggplot(aes(x= 0 , y=hwy)) +\n",
    "   geom_boxplot () +\n",
    "   labs(title=\"hwy data\",\n",
    "       subtitle=\"Boxplot showing quartiles and outliers\")"
   ]
  },
  {
   "cell_type": "markdown",
   "metadata": {},
   "source": [
    "Compare this to our quartiles plot. Is the box in the boxplot a similar shape to the quartile lines on the prior plot? Does the line inside the box match the median of the prior plots?"
   ]
  },
  {
   "cell_type": "markdown",
   "metadata": {},
   "source": [
    "# Overlaying data points on boxplot\n",
    "Add geom_point() or geom_jitter() to add the points onto the boxplot. geom_jitter with a narrower range looks better so the points are spread out over the box."
   ]
  },
  {
   "cell_type": "code",
   "execution_count": 70,
   "metadata": {},
   "outputs": [
    {
     "name": "stderr",
     "output_type": "stream",
     "text": [
      "Warning message:\n",
      "“Ignoring unknown parameters: height”"
     ]
    },
    {
     "data": {
      "image/png": "[encoded data removed]",
      "text/plain": [
       "plot without title"
      ]
     },
     "metadata": {},
     "output_type": "display_data"
    }
   ],
   "source": [
    "# Create a boxplot of df_v$hwy\n",
    "# Jitter orange translucent(0.3) points about the box(width=0.35) with no height jitter\n",
    "# Since the x axis is not relevant, remove the x axis label\n",
    "# Hint: geom_boxplot() and x=0, with the x=NULL inside labs(), geom_jitter()\n",
    "df_v %>% ggplot(aes(x=0, y=hwy)) +\n",
    "   geom_jitter() +\n",
    "   geom_boxplot(alpha= 0.3 , color= \"orange\" , width=0.35, height=0) +\n",
    "   labs(title=\"hwy data\",\n",
    "       subtitle=\"Boxplot with overlayed data points\",\n",
    "       x= NULL )"
   ]
  },
  {
   "cell_type": "markdown",
   "metadata": {},
   "source": [
    "# Boxplots with a continuous variable and categorical variable\n",
    "Let's use the x axis to provide categorical information, creating multiple boxplots side by side."
   ]
  },
  {
   "cell_type": "code",
   "execution_count": 73,
   "metadata": {},
   "outputs": [
    {
     "data": {
      "image/png": "[encoded data removed]",
      "text/plain": [
       "plot without title"
      ]
     },
     "metadata": {},
     "output_type": "display_data"
    }
   ],
   "source": [
    "# Boxplot mpg y=hwy, x=cyl as a categorical variable\n",
    "# Only include 4, 6, and 8 cylinder engines\n",
    "# Hint: filter(), %in%, as.factor(), mutate()\n",
    "mpg %>% filter(cyl %in% c(4, 6, 8)) %>% \n",
    "   mutate(cyl = as.factor(cyl)) %>% \n",
    "   ggplot(aes(x=cyl, y=hwy)) +\n",
    "      geom_boxplot() +\n",
    "      labs(title=\"Highway Gas Mileage\",\n",
    "          subtitle=\"Boxplot with cyl\")"
   ]
  },
  {
   "cell_type": "markdown",
   "metadata": {},
   "source": [
    "It does a great job of showing the central tendency for vehicles of different cylinder types. "
   ]
  },
  {
   "cell_type": "markdown",
   "metadata": {},
   "source": [
    "# Dodged, horizontal boxplot\n",
    "Recalling that class was also an interesting categorical variable, let's see if we can fit class in here too. Let's show of a bit more of the extensible capabilities of ggplot while we are at it. \n",
    "\n",
    "We will built a dodged, horizontal boxplot. There will be a group of 3 boxplots for each cylinder value for each class like Subcompact class. Dodged is the term used by ggplot to refer to the side-by-side grouped plots...Hadley is British afterall. Yes you can use British keywords like colour instead of color if you like. \n",
    "\n",
    "We want to end up with class along the y axis with three colored horizontal boxplots by cylinder. Since boxplots need the x axis to be the categorical variable, we will use class for the x axis then apply coord_flip() to flip the axis when the plot is rendered. All the x axis coding references will still be to class. \n",
    "\n",
    "We can use either color or fill for cylinders. I chose fill. Also, let's order the class by hwy to convey some meaningful order of the data. We can use class %>% reorder(hwy) for this. If we want decending, we would add a minus sign before hwy. If we are already using mutate(), let's rename the column names to have a capital letter, which will show up better in the plot labels. Lastly, let's make the class factor levels to use title capitalization with str_to_title(). Lastly, let's apply theme_light(). It has major gridlines that theme_classic() doesn't show. Give it a try!!"
   ]
  },
  {
   "cell_type": "code",
   "execution_count": 75,
   "metadata": {},
   "outputs": [
    {
     "data": {
      "image/png": "[encoded data removed]",
      "text/plain": [
       "plot without title"
      ]
     },
     "metadata": {},
     "output_type": "display_data"
    }
   ],
   "source": [
    "# Boxplot mpg y=hwy, x=cyl as a categorical variable\n",
    "# Only include 4, 6, and 8 cylinder engines\n",
    "# Hint: filter(), %in%, as.factor(), mutate(), str_to_title(), reorder(), coord_flip(), theme_light()\n",
    "mpg %>% filter(cyl %in% c(4, 6, 8)) %>% \n",
    "   mutate(Cylinders = as.factor(cyl), \n",
    "         Class=class %>% as.factor() %>% reorder(hwy)) %>% \n",
    "   ggplot(aes(x=Class, y=hwy, fill=Cylinders)) +\n",
    "      geom_boxplot() +\n",
    "      theme_light() +\n",
    "      coord_flip() +\n",
    "      labs(title=\"Highway Gas Mileage\",\n",
    "          subtitle=\"Boxplot of class and engine cylinders\",\n",
    "          x=NULL, y=\"Highway MPG\")"
   ]
  },
  {
   "cell_type": "markdown",
   "metadata": {},
   "source": [
    "Quite an accomplishment!!"
   ]
  },
  {
   "cell_type": "markdown",
   "metadata": {},
   "source": [
    "# Summary\n",
    "\n",
    "In this lesson we covered central tendency functions along with quantiles and ranking. There was a focus on working with vectors instead of dataframes. We finished up by plotting a vector of numbers in a scatterplot overlaying statistics as lines as well as explored the boxplot geometry. We had fun showing of some of the depth of ggplot with an ordered, dodged, horizonal boxplot."
   ]
  }
 ],
 "metadata": {
  "kernelspec": {
   "display_name": "R 3.5.1",
   "language": "R",
   "name": "ir"
  },
  "language_info": {
   "codemirror_mode": "r",
   "file_extension": ".r",
   "mimetype": "text/x-r-source",
   "name": "R",
   "pygments_lexer": "r",
   "version": "3.5.1"
  }
 },
 "nbformat": 4,
 "nbformat_minor": 1
}
