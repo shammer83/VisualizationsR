{
 "cells": [
  {
   "cell_type": "markdown",
   "metadata": {},
   "source": [
    "# Manipulating Strings\n",
    "These are the solutions to selected code blocks. You will have to run the code blocks to see what they do."
   ]
  },
  {
   "cell_type": "code",
   "execution_count": 1,
   "metadata": {
    "scrolled": false
   },
   "outputs": [
    {
     "name": "stderr",
     "output_type": "stream",
     "text": [
      "── \u001b[1mAttaching packages\u001b[22m ─────────────────────────────────────── tidyverse 1.2.1 ──\n",
      "\u001b[32m✔\u001b[39m \u001b[34mggplot2\u001b[39m 3.2.0     \u001b[32m✔\u001b[39m \u001b[34mreadr  \u001b[39m 1.1.1\n",
      "\u001b[32m✔\u001b[39m \u001b[34mtibble \u001b[39m 2.1.3     \u001b[32m✔\u001b[39m \u001b[34mpurrr  \u001b[39m 0.2.5\n",
      "\u001b[32m✔\u001b[39m \u001b[34mtidyr  \u001b[39m 0.8.1     \u001b[32m✔\u001b[39m \u001b[34mdplyr  \u001b[39m 0.8.3\n",
      "\u001b[32m✔\u001b[39m \u001b[34mggplot2\u001b[39m 3.2.0     \u001b[32m✔\u001b[39m \u001b[34mforcats\u001b[39m 0.3.0\n",
      "── \u001b[1mConflicts\u001b[22m ────────────────────────────────────────── tidyverse_conflicts() ──\n",
      "\u001b[31m✖\u001b[39m \u001b[34mdplyr\u001b[39m::\u001b[32mfilter()\u001b[39m masks \u001b[34mstats\u001b[39m::filter()\n",
      "\u001b[31m✖\u001b[39m \u001b[34mdplyr\u001b[39m::\u001b[32mlag()\u001b[39m    masks \u001b[34mstats\u001b[39m::lag()\n"
     ]
    }
   ],
   "source": [
    "# Load libraries\n",
    "library(stringr)    # stringr\n",
    "library(tidyverse)  # tidyverse\n"
   ]
  },
  {
   "cell_type": "markdown",
   "metadata": {},
   "source": [
    "## String literals and variables\n",
    "When you use string functions you can pass in a string literal (a stand alone string) or a variable that contains the string data. Let's get familiar with how to create string literals and save them in variables. \n",
    "\n",
    "For diagnostic purposes, you can enclose a line of code in parenthesis '(< code >)' and it will display the result.\n",
    "\n",
    "The below information is for your reference as it is too confusing to provide text instructions of how to do this."
   ]
  },
  {
   "cell_type": "code",
   "execution_count": 2,
   "metadata": {},
   "outputs": [
    {
     "data": {
      "text/html": [
       "'This is a string literal'"
      ],
      "text/latex": [
       "'This is a string literal'"
      ],
      "text/markdown": [
       "'This is a string literal'"
      ],
      "text/plain": [
       "[1] \"This is a string literal\""
      ]
     },
     "metadata": {},
     "output_type": "display_data"
    }
   ],
   "source": [
    "# String literal\n",
    "\"This is a string literal\""
   ]
  },
  {
   "cell_type": "code",
   "execution_count": 3,
   "metadata": {},
   "outputs": [
    {
     "name": "stdout",
     "output_type": "stream",
     "text": [
      "[1] \"This is a string using single quotes\"\n",
      "[1] \"This is a string using double quotes\"\n",
      "[1] \"This is a string using single quotes with \\\"embedded\\\" double quotes\"\n",
      "[1] \"This is a string using double quotes with 'embedded' single quotes\"\n",
      "[1] \"This is a string using double quotes with \\\"embedded\\\" single quotes using escape\"\n"
     ]
    }
   ],
   "source": [
    "# A three letter string\n",
    "str_three <- \"abc\"\n",
    "\n",
    "# Strings can use single or double quotes\n",
    "str_single <- 'This is a string using single quotes'\n",
    "str_double <- \"This is a string using double quotes\"\n",
    "\n",
    "# Choose single or double quotes with embedded quote characters\n",
    "str_single_embedded <- 'This is a string using single quotes with \"embedded\" double quotes'\n",
    "str_double_embedded <- \"This is a string using double quotes with 'embedded' single quotes\"\n",
    "\n",
    "# Escaping a quote character using a backslash\n",
    "str_double_embedded_escaped <- \"This is a string using double quotes with \\\"embedded\\\" single quotes using escape\"\n",
    "\n",
    "# Use print to print these\n",
    "print(str_single)\n",
    "print(str_double)\n",
    "print(str_single_embedded)\n",
    "print(str_double_embedded)\n",
    "print(str_double_embedded_escaped)"
   ]
  },
  {
   "cell_type": "code",
   "execution_count": 4,
   "metadata": {},
   "outputs": [
    {
     "data": {
      "text/html": [
       "'Assigning string and printing using parenthesis'"
      ],
      "text/latex": [
       "'Assigning string and printing using parenthesis'"
      ],
      "text/markdown": [
       "'Assigning string and printing using parenthesis'"
      ],
      "text/plain": [
       "[1] \"Assigning string and printing using parenthesis\""
      ]
     },
     "metadata": {},
     "output_type": "display_data"
    }
   ],
   "source": [
    "# Assign to variable and print using parenthesis\n",
    "(str_assign_print <- \"Assigning string and printing using parenthesis\")"
   ]
  },
  {
   "cell_type": "code",
   "execution_count": 5,
   "metadata": {},
   "outputs": [
    {
     "name": "stdout",
     "output_type": "stream",
     "text": [
      "[1] \"Line 1\\nLine 2\\nLine 3\"\n"
     ]
    }
   ],
   "source": [
    "# multi-line string\n",
    "str_multi_line <- \"Line 1\n",
    "Line 2\n",
    "Line 3\"\n",
    "\n",
    "# Print displays newline as \\n\n",
    "print(str_multi_line)\n"
   ]
  },
  {
   "cell_type": "code",
   "execution_count": 6,
   "metadata": {},
   "outputs": [
    {
     "name": "stdout",
     "output_type": "stream",
     "text": [
      "Line 1\n",
      "Line 2\n",
      "Line 3\n"
     ]
    }
   ],
   "source": [
    "# cat displays actual newline\n",
    "cat(str_multi_line)\n",
    "cat(\"\\n\") # Needed to reset to new line for next output"
   ]
  },
  {
   "cell_type": "code",
   "execution_count": 7,
   "metadata": {},
   "outputs": [
    {
     "name": "stdout",
     "output_type": "stream",
     "text": [
      "string 1 This is a string using single quotes with \"embedded\" double quotes NA Line 1\n",
      "Line 2\n",
      "Line 3\n"
     ]
    }
   ],
   "source": [
    "# Storing multiple strings in one variable\n",
    "# known as a character vector\n",
    "# Can store literals, variables, and NA\n",
    "str_vector <- c(\"string 1\", str_single_embedded, NA, str_multi_line)\n",
    "\n",
    "# cat output\n",
    "cat(str_vector)\n",
    "cat(\"\\n\") # Needed to reset to new line for next output"
   ]
  },
  {
   "cell_type": "code",
   "execution_count": 8,
   "metadata": {},
   "outputs": [
    {
     "name": "stdout",
     "output_type": "stream",
     "text": [
      "[1] \"string 1\"                                                            \n",
      "[2] \"This is a string using single quotes with \\\"embedded\\\" double quotes\"\n",
      "[3] NA                                                                    \n",
      "[4] \"Line 1\\nLine 2\\nLine 3\"                                              \n"
     ]
    }
   ],
   "source": [
    "# print output easier to see the vector\n",
    "print(str_vector)"
   ]
  },
  {
   "cell_type": "markdown",
   "metadata": {},
   "source": [
    "## Stringr package\n",
    "\n",
    "There are 25 string function categories in the stringr package. \n",
    "\n",
    "* case                    Convert case of a string.\n",
    "\n",
    "* invert_match            Switch location of matches to location of non-matches.\n",
    "                        \n",
    "* modifiers               Control matching behaviour with modifier functions.\n",
    "                        \n",
    "* str_c                   Join multiple strings into a single string.\n",
    "\n",
    "* str_conv                Specify the encoding of a string.\n",
    "\n",
    "* str_count               Count the number of matches in a string.\n",
    "\n",
    "* str_detect              Detect the presence or absence of a pattern in a string.\n",
    "                        \n",
    "* str_dup                 Duplicate and concatenate strings within a character vector.\n",
    "                        \n",
    "* str_extract             Extract matching patterns from a string.\n",
    "\n",
    "* str_interp              String interpolation.\n",
    "\n",
    "* str_length              The length of a string.\n",
    "\n",
    "* str_locate              Locate the position of patterns in a string.\n",
    "\n",
    "* str_match               Extract matched groups from a string.\n",
    "\n",
    "* str_order               Order or sort a character vector.\n",
    "\n",
    "* str_pad                 Pad a string.\n",
    "\n",
    "* str_replace             Replace matched patterns in a string.\n",
    "\n",
    "* str_replace_na          Turn NA into \"NA\"\n",
    "\n",
    "* str_split               Split up a string into pieces.\n",
    "\n",
    "* str_sub                 Extract and replace substrings from a character vector.\n",
    "                        \n",
    "* str_subset              Keep strings matching a pattern.\n",
    "\n",
    "* str_trim                Trim whitespace from start and end of string.\n",
    "\n",
    "* str_trunc               Truncate a character string.\n",
    "\n",
    "* str_view                View HTML rendering of regular expression match.\n",
    "                        \n",
    "* str_wrap                Wrap strings into nicely formatted paragraphs.\n",
    "\n",
    "* stringr-data            Sample character vectors for practicing string manipulations.\n",
    "                        \n",
    "* word                    Extract words from a sentence.\n"
   ]
  },
  {
   "cell_type": "code",
   "execution_count": 9,
   "metadata": {},
   "outputs": [],
   "source": [
    "# Use library(help = \"package\")\n",
    "# to see the functions\n",
    "library(help = \"stringr\")"
   ]
  },
  {
   "cell_type": "markdown",
   "metadata": {},
   "source": [
    "## str_length()\n"
   ]
  },
  {
   "cell_type": "code",
   "execution_count": 10,
   "metadata": {},
   "outputs": [
    {
     "name": "stdout",
     "output_type": "stream",
     "text": [
      "[1] \"abc\"\n"
     ]
    },
    {
     "data": {
      "text/html": [
       "3"
      ],
      "text/latex": [
       "3"
      ],
      "text/markdown": [
       "3"
      ],
      "text/plain": [
       "[1] 3"
      ]
     },
     "metadata": {},
     "output_type": "display_data"
    }
   ],
   "source": [
    "# What is the string length of \n",
    "# str_three\n",
    "print(str_three)\n",
    "str_length(str_three)"
   ]
  },
  {
   "cell_type": "code",
   "execution_count": 11,
   "metadata": {},
   "outputs": [
    {
     "name": "stdout",
     "output_type": "stream",
     "text": [
      "[1] \"Line 1\\nLine 2\\nLine 3\"\n"
     ]
    },
    {
     "data": {
      "text/html": [
       "20"
      ],
      "text/latex": [
       "20"
      ],
      "text/markdown": [
       "20"
      ],
      "text/plain": [
       "[1] 20"
      ]
     },
     "metadata": {},
     "output_type": "display_data"
    }
   ],
   "source": [
    "# What is the string length of \n",
    "# str_multi_line\n",
    "print(str_multi_line)\n",
    "str_length(str_multi_line)"
   ]
  },
  {
   "cell_type": "code",
   "execution_count": 12,
   "metadata": {},
   "outputs": [
    {
     "name": "stdout",
     "output_type": "stream",
     "text": [
      "[1] \"string 1\"                                                            \n",
      "[2] \"This is a string using single quotes with \\\"embedded\\\" double quotes\"\n",
      "[3] NA                                                                    \n",
      "[4] \"Line 1\\nLine 2\\nLine 3\"                                              \n"
     ]
    },
    {
     "data": {
      "text/html": [
       "<ol class=list-inline>\n",
       "\t<li>8</li>\n",
       "\t<li>66</li>\n",
       "\t<li>&lt;NA&gt;</li>\n",
       "\t<li>20</li>\n",
       "</ol>\n"
      ],
      "text/latex": [
       "\\begin{enumerate*}\n",
       "\\item 8\n",
       "\\item 66\n",
       "\\item <NA>\n",
       "\\item 20\n",
       "\\end{enumerate*}\n"
      ],
      "text/markdown": [
       "1. 8\n",
       "2. 66\n",
       "3. &lt;NA&gt;\n",
       "4. 20\n",
       "\n",
       "\n"
      ],
      "text/plain": [
       "[1]  8 66 NA 20"
      ]
     },
     "metadata": {},
     "output_type": "display_data"
    }
   ],
   "source": [
    "# What is the string length of \n",
    "# str_vector\n",
    "print(str_vector)\n",
    "str_length(str_vector)"
   ]
  },
  {
   "cell_type": "code",
   "execution_count": 13,
   "metadata": {},
   "outputs": [
    {
     "name": "stdout",
     "output_type": "stream",
     "text": [
      " [1] \"a\" \"b\" \"c\" \"d\" \"e\" \"f\" \"g\" \"h\" \"i\" \"j\" \"k\" \"l\" \"m\" \"n\" \"o\" \"p\" \"q\" \"r\" \"s\"\n",
      "[20] \"t\" \"u\" \"v\" \"w\" \"x\" \"y\" \"z\"\n"
     ]
    },
    {
     "data": {
      "text/html": [
       "<ol class=list-inline>\n",
       "\t<li>1</li>\n",
       "\t<li>1</li>\n",
       "\t<li>1</li>\n",
       "\t<li>1</li>\n",
       "\t<li>1</li>\n",
       "\t<li>1</li>\n",
       "\t<li>1</li>\n",
       "\t<li>1</li>\n",
       "\t<li>1</li>\n",
       "\t<li>1</li>\n",
       "\t<li>1</li>\n",
       "\t<li>1</li>\n",
       "\t<li>1</li>\n",
       "\t<li>1</li>\n",
       "\t<li>1</li>\n",
       "\t<li>1</li>\n",
       "\t<li>1</li>\n",
       "\t<li>1</li>\n",
       "\t<li>1</li>\n",
       "\t<li>1</li>\n",
       "\t<li>1</li>\n",
       "\t<li>1</li>\n",
       "\t<li>1</li>\n",
       "\t<li>1</li>\n",
       "\t<li>1</li>\n",
       "\t<li>1</li>\n",
       "</ol>\n"
      ],
      "text/latex": [
       "\\begin{enumerate*}\n",
       "\\item 1\n",
       "\\item 1\n",
       "\\item 1\n",
       "\\item 1\n",
       "\\item 1\n",
       "\\item 1\n",
       "\\item 1\n",
       "\\item 1\n",
       "\\item 1\n",
       "\\item 1\n",
       "\\item 1\n",
       "\\item 1\n",
       "\\item 1\n",
       "\\item 1\n",
       "\\item 1\n",
       "\\item 1\n",
       "\\item 1\n",
       "\\item 1\n",
       "\\item 1\n",
       "\\item 1\n",
       "\\item 1\n",
       "\\item 1\n",
       "\\item 1\n",
       "\\item 1\n",
       "\\item 1\n",
       "\\item 1\n",
       "\\end{enumerate*}\n"
      ],
      "text/markdown": [
       "1. 1\n",
       "2. 1\n",
       "3. 1\n",
       "4. 1\n",
       "5. 1\n",
       "6. 1\n",
       "7. 1\n",
       "8. 1\n",
       "9. 1\n",
       "10. 1\n",
       "11. 1\n",
       "12. 1\n",
       "13. 1\n",
       "14. 1\n",
       "15. 1\n",
       "16. 1\n",
       "17. 1\n",
       "18. 1\n",
       "19. 1\n",
       "20. 1\n",
       "21. 1\n",
       "22. 1\n",
       "23. 1\n",
       "24. 1\n",
       "25. 1\n",
       "26. 1\n",
       "\n",
       "\n"
      ],
      "text/plain": [
       " [1] 1 1 1 1 1 1 1 1 1 1 1 1 1 1 1 1 1 1 1 1 1 1 1 1 1 1"
      ]
     },
     "metadata": {},
     "output_type": "display_data"
    }
   ],
   "source": [
    "# What is the string length of \n",
    "# letters\n",
    "print(letters)\n",
    "str_length(letters)"
   ]
  },
  {
   "cell_type": "markdown",
   "metadata": {},
   "source": [
    "Are the string lengths what you expected? \n",
    "\n",
    "For the most part, str_length is counting characters. Be careful that this function is vectorized and when you pass it a character vector, which is what letters was, it will count each of them separately.\n",
    "\n",
    "Notice that new lines although printed as \\n are counted as a single character."
   ]
  },
  {
   "cell_type": "markdown",
   "metadata": {},
   "source": [
    "## str_c()\n",
    "Join multiple strings into a single string. To understand how str_c works, you need to imagine that you are building up a matrix of strings. Each input argument forms a column, and is expanded to the length of the longest argument, using the usual recyling rules. The sep string is inserted between each column. If collapse is NULL each row is collapsed into a single string. If non-NULL that string is inserted at the end of each row, and the entire matrix collapsed to a single string. \n",
    "### Usage\n",
    "str_c(..., sep = \"\", collapse = NULL)"
   ]
  },
  {
   "cell_type": "code",
   "execution_count": 14,
   "metadata": {},
   "outputs": [
    {
     "name": "stdout",
     "output_type": "stream",
     "text": [
      "[1] \"firstsecond\"\n"
     ]
    },
    {
     "data": {
      "text/html": [
       "11"
      ],
      "text/latex": [
       "11"
      ],
      "text/markdown": [
       "11"
      ],
      "text/plain": [
       "[1] 11"
      ]
     },
     "metadata": {},
     "output_type": "display_data"
    }
   ],
   "source": [
    "# Combine two string literals\n",
    "# print result and length\n",
    "str_combine_literals <- str_c(\"first\", \"second\")\n",
    "print(str_combine_literals)\n",
    "str_length(str_combine_literals)"
   ]
  },
  {
   "cell_type": "code",
   "execution_count": 15,
   "metadata": {},
   "outputs": [
    {
     "name": "stdout",
     "output_type": "stream",
     "text": [
      "[1] \"string 1\"                                                            \n",
      "[2] \"This is a string using single quotes with \\\"embedded\\\" double quotes\"\n",
      "[3] NA                                                                    \n",
      "[4] \"Line 1\\nLine 2\\nLine 3\"                                              \n"
     ]
    }
   ],
   "source": [
    "# reminder of str_vector\n",
    "print(str_vector)"
   ]
  },
  {
   "cell_type": "code",
   "execution_count": 16,
   "metadata": {},
   "outputs": [
    {
     "name": "stdout",
     "output_type": "stream",
     "text": [
      "[1] \"literalabcstring 1\"                                                            \n",
      "[2] \"literalabcThis is a string using single quotes with \\\"embedded\\\" double quotes\"\n",
      "[3] NA                                                                              \n",
      "[4] \"literalabcLine 1\\nLine 2\\nLine 3\"                                              \n"
     ]
    },
    {
     "data": {
      "text/html": [
       "<ol class=list-inline>\n",
       "\t<li>18</li>\n",
       "\t<li>76</li>\n",
       "\t<li>&lt;NA&gt;</li>\n",
       "\t<li>30</li>\n",
       "</ol>\n"
      ],
      "text/latex": [
       "\\begin{enumerate*}\n",
       "\\item 18\n",
       "\\item 76\n",
       "\\item <NA>\n",
       "\\item 30\n",
       "\\end{enumerate*}\n"
      ],
      "text/markdown": [
       "1. 18\n",
       "2. 76\n",
       "3. &lt;NA&gt;\n",
       "4. 30\n",
       "\n",
       "\n"
      ],
      "text/plain": [
       "[1] 18 76 NA 30"
      ]
     },
     "metadata": {},
     "output_type": "display_data"
    }
   ],
   "source": [
    "# Combine literals and single string variables\n",
    "# print result and length\n",
    "str_combine_alltypes <- str_c(\"literal\", str_three, str_vector)\n",
    "print(str_combine_alltypes)\n",
    "str_length(str_combine_alltypes)"
   ]
  },
  {
   "cell_type": "code",
   "execution_count": 17,
   "metadata": {},
   "outputs": [
    {
     "name": "stdout",
     "output_type": "stream",
     "text": [
      "[1] \"literal2string 1\"                                                            \n",
      "[2] \"literal2This is a string using single quotes with \\\"embedded\\\" double quotes\"\n",
      "[3] NA                                                                            \n",
      "[4] \"literal2Line 1\\nLine 2\\nLine 3\"                                              \n"
     ]
    },
    {
     "data": {
      "text/html": [
       "<ol class=list-inline>\n",
       "\t<li>16</li>\n",
       "\t<li>74</li>\n",
       "\t<li>&lt;NA&gt;</li>\n",
       "\t<li>28</li>\n",
       "</ol>\n"
      ],
      "text/latex": [
       "\\begin{enumerate*}\n",
       "\\item 16\n",
       "\\item 74\n",
       "\\item <NA>\n",
       "\\item 28\n",
       "\\end{enumerate*}\n"
      ],
      "text/markdown": [
       "1. 16\n",
       "2. 74\n",
       "3. &lt;NA&gt;\n",
       "4. 28\n",
       "\n",
       "\n"
      ],
      "text/plain": [
       "[1] 16 74 NA 28"
      ]
     },
     "metadata": {},
     "output_type": "display_data"
    }
   ],
   "source": [
    "# Combine literals and character vector str_vector\n",
    "# print result and length\n",
    "str_combine_alltypes <- str_c(\"literal2\", str_vector)\n",
    "print(str_combine_alltypes)\n",
    "str_length(str_combine_alltypes)"
   ]
  },
  {
   "cell_type": "code",
   "execution_count": 18,
   "metadata": {},
   "outputs": [
    {
     "name": "stdout",
     "output_type": "stream",
     "text": [
      " [1] \"Letter: a\" \"Letter: b\" \"Letter: c\" \"Letter: d\" \"Letter: e\" \"Letter: f\"\n",
      " [7] \"Letter: g\" \"Letter: h\" \"Letter: i\" \"Letter: j\" \"Letter: k\" \"Letter: l\"\n",
      "[13] \"Letter: m\" \"Letter: n\" \"Letter: o\" \"Letter: p\" \"Letter: q\" \"Letter: r\"\n",
      "[19] \"Letter: s\" \"Letter: t\" \"Letter: u\" \"Letter: v\" \"Letter: w\" \"Letter: x\"\n",
      "[25] \"Letter: y\" \"Letter: z\"\n"
     ]
    },
    {
     "data": {
      "text/html": [
       "<ol class=list-inline>\n",
       "\t<li>9</li>\n",
       "\t<li>9</li>\n",
       "\t<li>9</li>\n",
       "\t<li>9</li>\n",
       "\t<li>9</li>\n",
       "\t<li>9</li>\n",
       "\t<li>9</li>\n",
       "\t<li>9</li>\n",
       "\t<li>9</li>\n",
       "\t<li>9</li>\n",
       "\t<li>9</li>\n",
       "\t<li>9</li>\n",
       "\t<li>9</li>\n",
       "\t<li>9</li>\n",
       "\t<li>9</li>\n",
       "\t<li>9</li>\n",
       "\t<li>9</li>\n",
       "\t<li>9</li>\n",
       "\t<li>9</li>\n",
       "\t<li>9</li>\n",
       "\t<li>9</li>\n",
       "\t<li>9</li>\n",
       "\t<li>9</li>\n",
       "\t<li>9</li>\n",
       "\t<li>9</li>\n",
       "\t<li>9</li>\n",
       "</ol>\n"
      ],
      "text/latex": [
       "\\begin{enumerate*}\n",
       "\\item 9\n",
       "\\item 9\n",
       "\\item 9\n",
       "\\item 9\n",
       "\\item 9\n",
       "\\item 9\n",
       "\\item 9\n",
       "\\item 9\n",
       "\\item 9\n",
       "\\item 9\n",
       "\\item 9\n",
       "\\item 9\n",
       "\\item 9\n",
       "\\item 9\n",
       "\\item 9\n",
       "\\item 9\n",
       "\\item 9\n",
       "\\item 9\n",
       "\\item 9\n",
       "\\item 9\n",
       "\\item 9\n",
       "\\item 9\n",
       "\\item 9\n",
       "\\item 9\n",
       "\\item 9\n",
       "\\item 9\n",
       "\\end{enumerate*}\n"
      ],
      "text/markdown": [
       "1. 9\n",
       "2. 9\n",
       "3. 9\n",
       "4. 9\n",
       "5. 9\n",
       "6. 9\n",
       "7. 9\n",
       "8. 9\n",
       "9. 9\n",
       "10. 9\n",
       "11. 9\n",
       "12. 9\n",
       "13. 9\n",
       "14. 9\n",
       "15. 9\n",
       "16. 9\n",
       "17. 9\n",
       "18. 9\n",
       "19. 9\n",
       "20. 9\n",
       "21. 9\n",
       "22. 9\n",
       "23. 9\n",
       "24. 9\n",
       "25. 9\n",
       "26. 9\n",
       "\n",
       "\n"
      ],
      "text/plain": [
       " [1] 9 9 9 9 9 9 9 9 9 9 9 9 9 9 9 9 9 9 9 9 9 9 9 9 9 9"
      ]
     },
     "metadata": {},
     "output_type": "display_data"
    }
   ],
   "source": [
    "# Combine literals and character vector letters\n",
    "# print result and length\n",
    "str_combine_letters <- str_c(\"Letter: \", letters)\n",
    "print(str_combine_letters)\n",
    "str_length(str_combine_letters)\n"
   ]
  },
  {
   "cell_type": "markdown",
   "metadata": {},
   "source": [
    "## Recycling\n",
    "Combining strings reveals an interesting property of R called recycling. This isn't referring to memory garbage collection. It is the replication of data in one vector to match the length of data in another vector. This part of the vectorization built into R. \n",
    "\n",
    "When combining the string literal \"Letter: \" with the letters character vector of length 26, the str_c() function made 25 copies of the string literal \"Letter: \" so it could be matched up which each entry of the 26 letters character vector."
   ]
  },
  {
   "cell_type": "code",
   "execution_count": 19,
   "metadata": {},
   "outputs": [
    {
     "data": {
      "text/html": [
       "<ol class=list-inline>\n",
       "\t<li>'1a'</li>\n",
       "\t<li>'2b'</li>\n",
       "</ol>\n"
      ],
      "text/latex": [
       "\\begin{enumerate*}\n",
       "\\item '1a'\n",
       "\\item '2b'\n",
       "\\end{enumerate*}\n"
      ],
      "text/markdown": [
       "1. '1a'\n",
       "2. '2b'\n",
       "\n",
       "\n"
      ],
      "text/plain": [
       "[1] \"1a\" \"2b\""
      ]
     },
     "metadata": {},
     "output_type": "display_data"
    }
   ],
   "source": [
    "# Combine two character vectors of same size\n",
    "str_1_2 <- c(\"1\", \"2\")\n",
    "str_a_b <- c(\"a\", \"b\")\n",
    "str_c(str_1_2, str_a_b)"
   ]
  },
  {
   "cell_type": "code",
   "execution_count": 20,
   "metadata": {},
   "outputs": [
    {
     "data": {
      "text/html": [
       "<ol class=list-inline>\n",
       "\t<li>'1a'</li>\n",
       "\t<li>'2b'</li>\n",
       "\t<li>'1c'</li>\n",
       "\t<li>'2d'</li>\n",
       "\t<li>'1e'</li>\n",
       "\t<li>'2f'</li>\n",
       "\t<li>'1g'</li>\n",
       "\t<li>'2h'</li>\n",
       "\t<li>'1i'</li>\n",
       "\t<li>'2j'</li>\n",
       "\t<li>'1k'</li>\n",
       "\t<li>'2l'</li>\n",
       "\t<li>'1m'</li>\n",
       "\t<li>'2n'</li>\n",
       "\t<li>'1o'</li>\n",
       "\t<li>'2p'</li>\n",
       "\t<li>'1q'</li>\n",
       "\t<li>'2r'</li>\n",
       "\t<li>'1s'</li>\n",
       "\t<li>'2t'</li>\n",
       "\t<li>'1u'</li>\n",
       "\t<li>'2v'</li>\n",
       "\t<li>'1w'</li>\n",
       "\t<li>'2x'</li>\n",
       "\t<li>'1y'</li>\n",
       "\t<li>'2z'</li>\n",
       "</ol>\n"
      ],
      "text/latex": [
       "\\begin{enumerate*}\n",
       "\\item '1a'\n",
       "\\item '2b'\n",
       "\\item '1c'\n",
       "\\item '2d'\n",
       "\\item '1e'\n",
       "\\item '2f'\n",
       "\\item '1g'\n",
       "\\item '2h'\n",
       "\\item '1i'\n",
       "\\item '2j'\n",
       "\\item '1k'\n",
       "\\item '2l'\n",
       "\\item '1m'\n",
       "\\item '2n'\n",
       "\\item '1o'\n",
       "\\item '2p'\n",
       "\\item '1q'\n",
       "\\item '2r'\n",
       "\\item '1s'\n",
       "\\item '2t'\n",
       "\\item '1u'\n",
       "\\item '2v'\n",
       "\\item '1w'\n",
       "\\item '2x'\n",
       "\\item '1y'\n",
       "\\item '2z'\n",
       "\\end{enumerate*}\n"
      ],
      "text/markdown": [
       "1. '1a'\n",
       "2. '2b'\n",
       "3. '1c'\n",
       "4. '2d'\n",
       "5. '1e'\n",
       "6. '2f'\n",
       "7. '1g'\n",
       "8. '2h'\n",
       "9. '1i'\n",
       "10. '2j'\n",
       "11. '1k'\n",
       "12. '2l'\n",
       "13. '1m'\n",
       "14. '2n'\n",
       "15. '1o'\n",
       "16. '2p'\n",
       "17. '1q'\n",
       "18. '2r'\n",
       "19. '1s'\n",
       "20. '2t'\n",
       "21. '1u'\n",
       "22. '2v'\n",
       "23. '1w'\n",
       "24. '2x'\n",
       "25. '1y'\n",
       "26. '2z'\n",
       "\n",
       "\n"
      ],
      "text/plain": [
       " [1] \"1a\" \"2b\" \"1c\" \"2d\" \"1e\" \"2f\" \"1g\" \"2h\" \"1i\" \"2j\" \"1k\" \"2l\" \"1m\" \"2n\" \"1o\"\n",
       "[16] \"2p\" \"1q\" \"2r\" \"1s\" \"2t\" \"1u\" \"2v\" \"1w\" \"2x\" \"1y\" \"2z\""
      ]
     },
     "metadata": {},
     "output_type": "display_data"
    }
   ],
   "source": [
    "# Combine two character vectors of multiples of longest one\n",
    "str_c(str_1_2, letters)"
   ]
  },
  {
   "cell_type": "code",
   "execution_count": 21,
   "metadata": {},
   "outputs": [
    {
     "name": "stderr",
     "output_type": "stream",
     "text": [
      "Warning message in stri_c(..., sep = sep, collapse = collapse, ignore_null = TRUE):\n",
      "“longer object length is not a multiple of shorter object length”"
     ]
    },
    {
     "data": {
      "text/html": [
       "<ol class=list-inline>\n",
       "\t<li>'1a'</li>\n",
       "\t<li>'2b'</li>\n",
       "\t<li>'3c'</li>\n",
       "\t<li>'1d'</li>\n",
       "\t<li>'2e'</li>\n",
       "\t<li>'3f'</li>\n",
       "\t<li>'1g'</li>\n",
       "\t<li>'2h'</li>\n",
       "\t<li>'3i'</li>\n",
       "\t<li>'1j'</li>\n",
       "\t<li>'2k'</li>\n",
       "\t<li>'3l'</li>\n",
       "\t<li>'1m'</li>\n",
       "\t<li>'2n'</li>\n",
       "\t<li>'3o'</li>\n",
       "\t<li>'1p'</li>\n",
       "\t<li>'2q'</li>\n",
       "\t<li>'3r'</li>\n",
       "\t<li>'1s'</li>\n",
       "\t<li>'2t'</li>\n",
       "\t<li>'3u'</li>\n",
       "\t<li>'1v'</li>\n",
       "\t<li>'2w'</li>\n",
       "\t<li>'3x'</li>\n",
       "\t<li>'1y'</li>\n",
       "\t<li>'2z'</li>\n",
       "</ol>\n"
      ],
      "text/latex": [
       "\\begin{enumerate*}\n",
       "\\item '1a'\n",
       "\\item '2b'\n",
       "\\item '3c'\n",
       "\\item '1d'\n",
       "\\item '2e'\n",
       "\\item '3f'\n",
       "\\item '1g'\n",
       "\\item '2h'\n",
       "\\item '3i'\n",
       "\\item '1j'\n",
       "\\item '2k'\n",
       "\\item '3l'\n",
       "\\item '1m'\n",
       "\\item '2n'\n",
       "\\item '3o'\n",
       "\\item '1p'\n",
       "\\item '2q'\n",
       "\\item '3r'\n",
       "\\item '1s'\n",
       "\\item '2t'\n",
       "\\item '3u'\n",
       "\\item '1v'\n",
       "\\item '2w'\n",
       "\\item '3x'\n",
       "\\item '1y'\n",
       "\\item '2z'\n",
       "\\end{enumerate*}\n"
      ],
      "text/markdown": [
       "1. '1a'\n",
       "2. '2b'\n",
       "3. '3c'\n",
       "4. '1d'\n",
       "5. '2e'\n",
       "6. '3f'\n",
       "7. '1g'\n",
       "8. '2h'\n",
       "9. '3i'\n",
       "10. '1j'\n",
       "11. '2k'\n",
       "12. '3l'\n",
       "13. '1m'\n",
       "14. '2n'\n",
       "15. '3o'\n",
       "16. '1p'\n",
       "17. '2q'\n",
       "18. '3r'\n",
       "19. '1s'\n",
       "20. '2t'\n",
       "21. '3u'\n",
       "22. '1v'\n",
       "23. '2w'\n",
       "24. '3x'\n",
       "25. '1y'\n",
       "26. '2z'\n",
       "\n",
       "\n"
      ],
      "text/plain": [
       " [1] \"1a\" \"2b\" \"3c\" \"1d\" \"2e\" \"3f\" \"1g\" \"2h\" \"3i\" \"1j\" \"2k\" \"3l\" \"1m\" \"2n\" \"3o\"\n",
       "[16] \"1p\" \"2q\" \"3r\" \"1s\" \"2t\" \"3u\" \"1v\" \"2w\" \"3x\" \"1y\" \"2z\""
      ]
     },
     "metadata": {},
     "output_type": "display_data"
    }
   ],
   "source": [
    "# Combine two character vectors not multiple of longest one\n",
    "str_1_2_3 <- c(\"1\", \"2\", \"3\")\n",
    "str_c(str_1_2_3, letters)"
   ]
  },
  {
   "cell_type": "markdown",
   "metadata": {},
   "source": [
    "* When the length of both character vectors are the same, they just match up. \n",
    "* When one character vector is smaller than the other but a whole multiple of each other, then it recycles or replicates the smaller vector to match the larger one. \n",
    "* When the larger character vector isn't a whole multiple of the smaller one, it still recycles, but also issues a warning message \"longer object length is not a multiple of shorter object length\""
   ]
  },
  {
   "cell_type": "markdown",
   "metadata": {},
   "source": [
    "## Collapsing and separating strings\n",
    "str_c() can also take multiple strings and character vectors and collapse them into a single string.\n",
    "* sep value is put between each of the string vectors\n",
    "* collapse value is put between each set of string vectors and collapses the result into a single string"
   ]
  },
  {
   "cell_type": "code",
   "execution_count": 22,
   "metadata": {},
   "outputs": [
    {
     "data": {
      "text/html": [
       "'abcdefghijklmnopqrstuvwxyz'"
      ],
      "text/latex": [
       "'abcdefghijklmnopqrstuvwxyz'"
      ],
      "text/markdown": [
       "'abcdefghijklmnopqrstuvwxyz'"
      ],
      "text/plain": [
       "[1] \"abcdefghijklmnopqrstuvwxyz\""
      ]
     },
     "metadata": {},
     "output_type": "display_data"
    }
   ],
   "source": [
    "# Collapse letters character vector into a single string\n",
    "# No separator between strings\n",
    "# Hint: collape=\"\"\n",
    "str_c(letters, collapse=\"\")"
   ]
  },
  {
   "cell_type": "code",
   "execution_count": 23,
   "metadata": {},
   "outputs": [
    {
     "data": {
      "text/html": [
       "'a, b, c, d, e, f, g, h, i, j, k, l, m, n, o, p, q, r, s, t, u, v, w, x, y, z'"
      ],
      "text/latex": [
       "'a, b, c, d, e, f, g, h, i, j, k, l, m, n, o, p, q, r, s, t, u, v, w, x, y, z'"
      ],
      "text/markdown": [
       "'a, b, c, d, e, f, g, h, i, j, k, l, m, n, o, p, q, r, s, t, u, v, w, x, y, z'"
      ],
      "text/plain": [
       "[1] \"a, b, c, d, e, f, g, h, i, j, k, l, m, n, o, p, q, r, s, t, u, v, w, x, y, z\""
      ]
     },
     "metadata": {},
     "output_type": "display_data"
    }
   ],
   "source": [
    "# Collapse letters character vector into a single string\n",
    "# Separate using a comma and a space\n",
    "# Hint: collape=\", \"\n",
    "str_c(letters, collapse=\", \")"
   ]
  },
  {
   "cell_type": "code",
   "execution_count": 24,
   "metadata": {},
   "outputs": [
    {
     "data": {
      "text/html": [
       "'1:a:a, 2:b:b, 1:c:a, 2:d:b, 1:e:a, 2:f:b, 1:g:a, 2:h:b, 1:i:a, 2:j:b, 1:k:a, 2:l:b, 1:m:a, 2:n:b, 1:o:a, 2:p:b, 1:q:a, 2:r:b, 1:s:a, 2:t:b, 1:u:a, 2:v:b, 1:w:a, 2:x:b, 1:y:a, 2:z:b'"
      ],
      "text/latex": [
       "'1:a:a, 2:b:b, 1:c:a, 2:d:b, 1:e:a, 2:f:b, 1:g:a, 2:h:b, 1:i:a, 2:j:b, 1:k:a, 2:l:b, 1:m:a, 2:n:b, 1:o:a, 2:p:b, 1:q:a, 2:r:b, 1:s:a, 2:t:b, 1:u:a, 2:v:b, 1:w:a, 2:x:b, 1:y:a, 2:z:b'"
      ],
      "text/markdown": [
       "'1:a:a, 2:b:b, 1:c:a, 2:d:b, 1:e:a, 2:f:b, 1:g:a, 2:h:b, 1:i:a, 2:j:b, 1:k:a, 2:l:b, 1:m:a, 2:n:b, 1:o:a, 2:p:b, 1:q:a, 2:r:b, 1:s:a, 2:t:b, 1:u:a, 2:v:b, 1:w:a, 2:x:b, 1:y:a, 2:z:b'"
      ],
      "text/plain": [
       "[1] \"1:a:a, 2:b:b, 1:c:a, 2:d:b, 1:e:a, 2:f:b, 1:g:a, 2:h:b, 1:i:a, 2:j:b, 1:k:a, 2:l:b, 1:m:a, 2:n:b, 1:o:a, 2:p:b, 1:q:a, 2:r:b, 1:s:a, 2:t:b, 1:u:a, 2:v:b, 1:w:a, 2:x:b, 1:y:a, 2:z:b\""
      ]
     },
     "metadata": {},
     "output_type": "display_data"
    }
   ],
   "source": [
    "# Combine str_1_2 and letters and str_a_b character vectors into a single string\n",
    "# separating each combined string by a colon \n",
    "# separating each collapsed string by a comma and space\n",
    "# Result: '1:a:a, 2:b:b, 1:c:a, ...'\n",
    "# Hint: sep=\":\", collapse=\", \"\n",
    "str_c(str_1_2, letters, str_a_b, sep=\":\", collapse=\", \")"
   ]
  },
  {
   "cell_type": "markdown",
   "metadata": {},
   "source": [
    "There is a lot of flexibility in how to combine, separate, and collapse strings."
   ]
  },
  {
   "cell_type": "markdown",
   "metadata": {},
   "source": [
    "## str_replace_na()\n",
    "Turn NA into \"NA\". \n",
    "### Usage\n",
    "str_replace_na(string, replacement = \"NA\")"
   ]
  },
  {
   "cell_type": "code",
   "execution_count": 25,
   "metadata": {},
   "outputs": [
    {
     "data": {
      "text/html": [
       "NA"
      ],
      "text/latex": [
       "NA"
      ],
      "text/markdown": [
       "NA"
      ],
      "text/plain": [
       "[1] NA"
      ]
     },
     "metadata": {},
     "output_type": "display_data"
    }
   ],
   "source": [
    "# Missing inputs give missing outputs\n",
    "str_c(\"something\", NA)"
   ]
  },
  {
   "cell_type": "code",
   "execution_count": 26,
   "metadata": {},
   "outputs": [
    {
     "data": {
      "text/html": [
       "<ol class=list-inline>\n",
       "\t<li>'-a'</li>\n",
       "\t<li>NA</li>\n",
       "\t<li>'-c'</li>\n",
       "\t<li>NA</li>\n",
       "\t<li>'-e'</li>\n",
       "\t<li>NA</li>\n",
       "\t<li>'-g'</li>\n",
       "\t<li>NA</li>\n",
       "\t<li>'-i'</li>\n",
       "\t<li>NA</li>\n",
       "\t<li>'-k'</li>\n",
       "\t<li>NA</li>\n",
       "\t<li>'-m'</li>\n",
       "\t<li>NA</li>\n",
       "\t<li>'-o'</li>\n",
       "\t<li>NA</li>\n",
       "\t<li>'-q'</li>\n",
       "\t<li>NA</li>\n",
       "\t<li>'-s'</li>\n",
       "\t<li>NA</li>\n",
       "\t<li>'-u'</li>\n",
       "\t<li>NA</li>\n",
       "\t<li>'-w'</li>\n",
       "\t<li>NA</li>\n",
       "\t<li>'-y'</li>\n",
       "\t<li>NA</li>\n",
       "</ol>\n"
      ],
      "text/latex": [
       "\\begin{enumerate*}\n",
       "\\item '-a'\n",
       "\\item NA\n",
       "\\item '-c'\n",
       "\\item NA\n",
       "\\item '-e'\n",
       "\\item NA\n",
       "\\item '-g'\n",
       "\\item NA\n",
       "\\item '-i'\n",
       "\\item NA\n",
       "\\item '-k'\n",
       "\\item NA\n",
       "\\item '-m'\n",
       "\\item NA\n",
       "\\item '-o'\n",
       "\\item NA\n",
       "\\item '-q'\n",
       "\\item NA\n",
       "\\item '-s'\n",
       "\\item NA\n",
       "\\item '-u'\n",
       "\\item NA\n",
       "\\item '-w'\n",
       "\\item NA\n",
       "\\item '-y'\n",
       "\\item NA\n",
       "\\end{enumerate*}\n"
      ],
      "text/markdown": [
       "1. '-a'\n",
       "2. NA\n",
       "3. '-c'\n",
       "4. NA\n",
       "5. '-e'\n",
       "6. NA\n",
       "7. '-g'\n",
       "8. NA\n",
       "9. '-i'\n",
       "10. NA\n",
       "11. '-k'\n",
       "12. NA\n",
       "13. '-m'\n",
       "14. NA\n",
       "15. '-o'\n",
       "16. NA\n",
       "17. '-q'\n",
       "18. NA\n",
       "19. '-s'\n",
       "20. NA\n",
       "21. '-u'\n",
       "22. NA\n",
       "23. '-w'\n",
       "24. NA\n",
       "25. '-y'\n",
       "26. NA\n",
       "\n",
       "\n"
      ],
      "text/plain": [
       " [1] \"-a\" NA   \"-c\" NA   \"-e\" NA   \"-g\" NA   \"-i\" NA   \"-k\" NA   \"-m\" NA   \"-o\"\n",
       "[16] NA   \"-q\" NA   \"-s\" NA   \"-u\" NA   \"-w\" NA   \"-y\" NA  "
      ]
     },
     "metadata": {},
     "output_type": "display_data"
    }
   ],
   "source": [
    "# Combining character vectors containing NA\n",
    "# Combine str_contains_na with letters\n",
    "str_contains_na <- c(\"-\", NA)\n",
    "str_c(str_contains_na, letters)"
   ]
  },
  {
   "cell_type": "code",
   "execution_count": 27,
   "metadata": {},
   "outputs": [
    {
     "data": {
      "text/html": [
       "<ol class=list-inline>\n",
       "\t<li>'-a'</li>\n",
       "\t<li>'NAb'</li>\n",
       "\t<li>'-c'</li>\n",
       "\t<li>'NAd'</li>\n",
       "\t<li>'-e'</li>\n",
       "\t<li>'NAf'</li>\n",
       "\t<li>'-g'</li>\n",
       "\t<li>'NAh'</li>\n",
       "\t<li>'-i'</li>\n",
       "\t<li>'NAj'</li>\n",
       "\t<li>'-k'</li>\n",
       "\t<li>'NAl'</li>\n",
       "\t<li>'-m'</li>\n",
       "\t<li>'NAn'</li>\n",
       "\t<li>'-o'</li>\n",
       "\t<li>'NAp'</li>\n",
       "\t<li>'-q'</li>\n",
       "\t<li>'NAr'</li>\n",
       "\t<li>'-s'</li>\n",
       "\t<li>'NAt'</li>\n",
       "\t<li>'-u'</li>\n",
       "\t<li>'NAv'</li>\n",
       "\t<li>'-w'</li>\n",
       "\t<li>'NAx'</li>\n",
       "\t<li>'-y'</li>\n",
       "\t<li>'NAz'</li>\n",
       "</ol>\n"
      ],
      "text/latex": [
       "\\begin{enumerate*}\n",
       "\\item '-a'\n",
       "\\item 'NAb'\n",
       "\\item '-c'\n",
       "\\item 'NAd'\n",
       "\\item '-e'\n",
       "\\item 'NAf'\n",
       "\\item '-g'\n",
       "\\item 'NAh'\n",
       "\\item '-i'\n",
       "\\item 'NAj'\n",
       "\\item '-k'\n",
       "\\item 'NAl'\n",
       "\\item '-m'\n",
       "\\item 'NAn'\n",
       "\\item '-o'\n",
       "\\item 'NAp'\n",
       "\\item '-q'\n",
       "\\item 'NAr'\n",
       "\\item '-s'\n",
       "\\item 'NAt'\n",
       "\\item '-u'\n",
       "\\item 'NAv'\n",
       "\\item '-w'\n",
       "\\item 'NAx'\n",
       "\\item '-y'\n",
       "\\item 'NAz'\n",
       "\\end{enumerate*}\n"
      ],
      "text/markdown": [
       "1. '-a'\n",
       "2. 'NAb'\n",
       "3. '-c'\n",
       "4. 'NAd'\n",
       "5. '-e'\n",
       "6. 'NAf'\n",
       "7. '-g'\n",
       "8. 'NAh'\n",
       "9. '-i'\n",
       "10. 'NAj'\n",
       "11. '-k'\n",
       "12. 'NAl'\n",
       "13. '-m'\n",
       "14. 'NAn'\n",
       "15. '-o'\n",
       "16. 'NAp'\n",
       "17. '-q'\n",
       "18. 'NAr'\n",
       "19. '-s'\n",
       "20. 'NAt'\n",
       "21. '-u'\n",
       "22. 'NAv'\n",
       "23. '-w'\n",
       "24. 'NAx'\n",
       "25. '-y'\n",
       "26. 'NAz'\n",
       "\n",
       "\n"
      ],
      "text/plain": [
       " [1] \"-a\"  \"NAb\" \"-c\"  \"NAd\" \"-e\"  \"NAf\" \"-g\"  \"NAh\" \"-i\"  \"NAj\" \"-k\"  \"NAl\"\n",
       "[13] \"-m\"  \"NAn\" \"-o\"  \"NAp\" \"-q\"  \"NAr\" \"-s\"  \"NAt\" \"-u\"  \"NAv\" \"-w\"  \"NAx\"\n",
       "[25] \"-y\"  \"NAz\""
      ]
     },
     "metadata": {},
     "output_type": "display_data"
    }
   ],
   "source": [
    "# Use str_replace_na before str_c to display NA\n",
    "# Convert NA in str_contains_na to \"NA\"\n",
    "# Combine above with letters\n",
    "str_c(str_replace_na(str_contains_na), letters)"
   ]
  },
  {
   "cell_type": "markdown",
   "metadata": {},
   "source": [
    "## str_sub()\n",
    "Extract and replace substrings from a character vector. str_sub will recycle all arguments to be the same length as the longest argument. If any arguments are of length 0, the output will be a zero length character vector.\n",
    "### Usage\n",
    "str_sub(string, start = 1L, end = -1L)\n",
    "str_sub(string, start = 1L, end = -1L) <- value"
   ]
  },
  {
   "cell_type": "code",
   "execution_count": 28,
   "metadata": {},
   "outputs": [
    {
     "data": {
      "text/html": [
       "'The crazy'"
      ],
      "text/latex": [
       "'The crazy'"
      ],
      "text/markdown": [
       "'The crazy'"
      ],
      "text/plain": [
       "[1] \"The crazy\""
      ]
     },
     "metadata": {},
     "output_type": "display_data"
    }
   ],
   "source": [
    "# Define a string to work with\n",
    "str_fox_dog <- \"The crazy brown fox jumped over the lazy dog.\"\n",
    "\n",
    "# Display the first 9 letters\n",
    "# of str_fox_dog\n",
    "# use all positional arguments\n",
    "# no named parameters\n",
    "str_sub(str_fox_dog, 1, 9)"
   ]
  },
  {
   "cell_type": "code",
   "execution_count": 29,
   "metadata": {},
   "outputs": [
    {
     "data": {
      "text/html": [
       "'The crazy'"
      ],
      "text/latex": [
       "'The crazy'"
      ],
      "text/markdown": [
       "'The crazy'"
      ],
      "text/plain": [
       "[1] \"The crazy\""
      ]
     },
     "metadata": {},
     "output_type": "display_data"
    }
   ],
   "source": [
    "# Pipe in string using %>% \n",
    "# use named parameter 'end'\n",
    "str_fox_dog %>% str_sub(end = 9)"
   ]
  },
  {
   "cell_type": "code",
   "execution_count": 30,
   "metadata": {},
   "outputs": [
    {
     "data": {
      "text/html": [
       "'lazy dog.'"
      ],
      "text/latex": [
       "'lazy dog.'"
      ],
      "text/markdown": [
       "'lazy dog.'"
      ],
      "text/plain": [
       "[1] \"lazy dog.\""
      ]
     },
     "metadata": {},
     "output_type": "display_data"
    }
   ],
   "source": [
    "# Display the last 9 letters\n",
    "# of str_fox_dog\n",
    "str_fox_dog %>% str_sub(start = -9)"
   ]
  },
  {
   "cell_type": "code",
   "execution_count": 31,
   "metadata": {},
   "outputs": [
    {
     "data": {
      "text/html": [
       "'dog'"
      ],
      "text/latex": [
       "'dog'"
      ],
      "text/markdown": [
       "'dog'"
      ],
      "text/plain": [
       "[1] \"dog\""
      ]
     },
     "metadata": {},
     "output_type": "display_data"
    }
   ],
   "source": [
    "# Display just dog using str_sub\n",
    "# of str_fox_dog\n",
    "str_fox_dog %>% str_sub(start = -4, end = -2)"
   ]
  },
  {
   "cell_type": "code",
   "execution_count": 32,
   "metadata": {},
   "outputs": [
    {
     "name": "stdout",
     "output_type": "stream",
     "text": [
      "[1] \"The crazy brown fox jumped over the lazy cats.\"\n"
     ]
    }
   ],
   "source": [
    "# In str_fox_dog replace dog with cats\n",
    "# Hint: Pipe doesn't work in this case\n",
    "str_sub(str_fox_dog, start = -4, end = -2) <- \"cats\"\n",
    "\n",
    "# Print str_fox_dog\n",
    "print(str_fox_dog)"
   ]
  },
  {
   "cell_type": "markdown",
   "metadata": {},
   "source": [
    "If you know the starting and ending locations in a string relative to either the start or the end of the string, you can extract the substring and even replace it."
   ]
  },
  {
   "cell_type": "markdown",
   "metadata": {},
   "source": [
    "## substring using character vectors\n",
    "When applying str_sub() to a character vector (containing multiple strings) the function is applied element-wise in typical vectorized fashion including vector recycling as necessary. "
   ]
  },
  {
   "cell_type": "code",
   "execution_count": 33,
   "metadata": {},
   "outputs": [
    {
     "name": "stdout",
     "output_type": "stream",
     "text": [
      "[1] \"This is a string using single quotes\"\n",
      "[2] \"This is a string using double quotes\"\n"
     ]
    }
   ],
   "source": [
    "# Define some strings\n",
    "str_single <- 'This is a string using single quotes'\n",
    "str_double <- \"This is a string using double quotes\"\n",
    "str_combined <- c(str_single, str_double)\n",
    "print(str_combined)"
   ]
  },
  {
   "cell_type": "code",
   "execution_count": 34,
   "metadata": {},
   "outputs": [
    {
     "data": {
      "text/html": [
       "<ol class=list-inline>\n",
       "\t<li>'This'</li>\n",
       "\t<li>'This'</li>\n",
       "</ol>\n"
      ],
      "text/latex": [
       "\\begin{enumerate*}\n",
       "\\item 'This'\n",
       "\\item 'This'\n",
       "\\end{enumerate*}\n"
      ],
      "text/markdown": [
       "1. 'This'\n",
       "2. 'This'\n",
       "\n",
       "\n"
      ],
      "text/plain": [
       "[1] \"This\" \"This\""
      ]
     },
     "metadata": {},
     "output_type": "display_data"
    },
    {
     "data": {
      "text/html": [
       "<ol class=list-inline>\n",
       "\t<li>'quotes'</li>\n",
       "\t<li>'quotes'</li>\n",
       "</ol>\n"
      ],
      "text/latex": [
       "\\begin{enumerate*}\n",
       "\\item 'quotes'\n",
       "\\item 'quotes'\n",
       "\\end{enumerate*}\n"
      ],
      "text/markdown": [
       "1. 'quotes'\n",
       "2. 'quotes'\n",
       "\n",
       "\n"
      ],
      "text/plain": [
       "[1] \"quotes\" \"quotes\""
      ]
     },
     "metadata": {},
     "output_type": "display_data"
    }
   ],
   "source": [
    "# Return 'This' from str_combined\n",
    "str_combined %>% str_sub(end = 4)\n",
    "\n",
    "# Return 'quotes' from str_combined\n",
    "str_combined %>% str_sub(start = -6)"
   ]
  },
  {
   "cell_type": "code",
   "execution_count": 35,
   "metadata": {},
   "outputs": [
    {
     "data": {
      "text/html": [
       "'quotes, quotes'"
      ],
      "text/latex": [
       "'quotes, quotes'"
      ],
      "text/markdown": [
       "'quotes, quotes'"
      ],
      "text/plain": [
       "[1] \"quotes, quotes\""
      ]
     },
     "metadata": {},
     "output_type": "display_data"
    }
   ],
   "source": [
    "# Return 'quotes' from str_combined\n",
    "# Return a *single* comma separated string\n",
    "# Hint: str_c with collapse\n",
    "str_combined %>% \n",
    "   str_sub(start = -6) %>% \n",
    "   str_c(collapse = \", \")"
   ]
  },
  {
   "cell_type": "code",
   "execution_count": 36,
   "metadata": {},
   "outputs": [
    {
     "data": {
      "text/html": [
       "' b, c, d'"
      ],
      "text/latex": [
       "' b, c, d'"
      ],
      "text/markdown": [
       "' b, c, d'"
      ],
      "text/plain": [
       "[1] \" b, c, d\""
      ]
     },
     "metadata": {},
     "output_type": "display_data"
    }
   ],
   "source": [
    "# Return single string 'b, c, d' \n",
    "# using letters vector\n",
    "# Hint: str_c collapse the str_sub\n",
    "letters %>% \n",
    "   str_c(collapse = \", \") %>% \n",
    "   str_sub(start = 3, end = 10)"
   ]
  },
  {
   "cell_type": "markdown",
   "metadata": {},
   "source": [
    "You can combine multiple string functions together which enables additional flexibility. This also provides many ways to accomplish the same task. Always look for the most closely matching function for your desired result."
   ]
  },
  {
   "cell_type": "markdown",
   "metadata": {},
   "source": [
    "## Upper case, Lower case and Sentence case\n",
    "Convert case of a string.\n",
    "### Usage\n",
    "str_to_upper(string, locale = \"\")\n",
    "\n",
    "str_to_lower(string, locale = \"\")\n",
    "\n",
    "str_to_title(string, locale = \"\")"
   ]
  },
  {
   "cell_type": "code",
   "execution_count": 37,
   "metadata": {},
   "outputs": [
    {
     "data": {
      "text/html": [
       "'the crazy brown fox jumped over the lazy dog.'"
      ],
      "text/latex": [
       "'the crazy brown fox jumped over the lazy dog.'"
      ],
      "text/markdown": [
       "'the crazy brown fox jumped over the lazy dog.'"
      ],
      "text/plain": [
       "[1] \"the crazy brown fox jumped over the lazy dog.\""
      ]
     },
     "metadata": {},
     "output_type": "display_data"
    },
    {
     "data": {
      "text/html": [
       "'THE CRAZY BROWN FOX JUMPED OVER THE LAZY DOG.'"
      ],
      "text/latex": [
       "'THE CRAZY BROWN FOX JUMPED OVER THE LAZY DOG.'"
      ],
      "text/markdown": [
       "'THE CRAZY BROWN FOX JUMPED OVER THE LAZY DOG.'"
      ],
      "text/plain": [
       "[1] \"THE CRAZY BROWN FOX JUMPED OVER THE LAZY DOG.\""
      ]
     },
     "metadata": {},
     "output_type": "display_data"
    },
    {
     "data": {
      "text/html": [
       "'The Crazy Brown Fox Jumped Over The Lazy Dog.'"
      ],
      "text/latex": [
       "'The Crazy Brown Fox Jumped Over The Lazy Dog.'"
      ],
      "text/markdown": [
       "'The Crazy Brown Fox Jumped Over The Lazy Dog.'"
      ],
      "text/plain": [
       "[1] \"The Crazy Brown Fox Jumped Over The Lazy Dog.\""
      ]
     },
     "metadata": {},
     "output_type": "display_data"
    }
   ],
   "source": [
    "# Define a string to work with\n",
    "str_fox_dog <- \"The crazy brown fox jumped over the lazy dog.\"\n",
    "\n",
    "# Return the above string in\n",
    "# lowercase\n",
    "# uppercase\n",
    "# First character of each word capitalized\n",
    "str_to_lower(str_fox_dog)\n",
    "str_to_upper(str_fox_dog)\n",
    "str_to_title(str_fox_dog)"
   ]
  },
  {
   "cell_type": "markdown",
   "metadata": {},
   "source": [
    "## str_trim()\n",
    "Trim whitespace from start and end of string. \n",
    "### Usage\n",
    "str_trim(string, side = c(\"both\", \"left\", \"right\"))"
   ]
  },
  {
   "cell_type": "code",
   "execution_count": 38,
   "metadata": {},
   "outputs": [
    {
     "name": "stdout",
     "output_type": "stream",
     "text": [
      "[1] \"   Whitespace    on left\"     \"Whitespace   on right   \"    \n",
      "[3] \"   Whitespace    on both    \" \"\\nline2\\n\"                   \n"
     ]
    }
   ],
   "source": [
    "# Define strings\n",
    "str_left_whitespace <- \"   Whitespace    on left\"\n",
    "str_right_whitespace <- \"Whitespace   on right   \"\n",
    "str_both_whitespace <- \"   Whitespace    on both    \"\n",
    "str_newline <- \"\n",
    "line2\n",
    "\"\n",
    "str_combined <- c(str_left_whitespace, str_right_whitespace, \n",
    "                  str_both_whitespace, str_newline)\n",
    "print(str_combined)"
   ]
  },
  {
   "cell_type": "code",
   "execution_count": 39,
   "metadata": {},
   "outputs": [
    {
     "name": "stdout",
     "output_type": "stream",
     "text": [
      "[1] \"Trim left\"\n"
     ]
    },
    {
     "data": {
      "text/html": [
       "<ol class=list-inline>\n",
       "\t<li><span style=white-space:pre-wrap>'Whitespace    on left'</span></li>\n",
       "\t<li><span style=white-space:pre-wrap>'Whitespace   on right   '</span></li>\n",
       "\t<li><span style=white-space:pre-wrap>'Whitespace    on both    '</span></li>\n",
       "\t<li>'line2\\n'</li>\n",
       "</ol>\n"
      ],
      "text/latex": [
       "\\begin{enumerate*}\n",
       "\\item 'Whitespace    on left'\n",
       "\\item 'Whitespace   on right   '\n",
       "\\item 'Whitespace    on both    '\n",
       "\\item 'line2\\textbackslash{}n'\n",
       "\\end{enumerate*}\n"
      ],
      "text/markdown": [
       "1. <span style=white-space:pre-wrap>'Whitespace    on left'</span>\n",
       "2. <span style=white-space:pre-wrap>'Whitespace   on right   '</span>\n",
       "3. <span style=white-space:pre-wrap>'Whitespace    on both    '</span>\n",
       "4. 'line2\\n'\n",
       "\n",
       "\n"
      ],
      "text/plain": [
       "[1] \"Whitespace    on left\"     \"Whitespace   on right   \" \n",
       "[3] \"Whitespace    on both    \" \"line2\\n\"                  "
      ]
     },
     "metadata": {},
     "output_type": "display_data"
    },
    {
     "name": "stdout",
     "output_type": "stream",
     "text": [
      "[1] \"Trim right\"\n"
     ]
    },
    {
     "data": {
      "text/html": [
       "<ol class=list-inline>\n",
       "\t<li><span style=white-space:pre-wrap>'   Whitespace    on left'</span></li>\n",
       "\t<li><span style=white-space:pre-wrap>'Whitespace   on right'</span></li>\n",
       "\t<li><span style=white-space:pre-wrap>'   Whitespace    on both'</span></li>\n",
       "\t<li>'\\nline2'</li>\n",
       "</ol>\n"
      ],
      "text/latex": [
       "\\begin{enumerate*}\n",
       "\\item '   Whitespace    on left'\n",
       "\\item 'Whitespace   on right'\n",
       "\\item '   Whitespace    on both'\n",
       "\\item '\\textbackslash{}nline2'\n",
       "\\end{enumerate*}\n"
      ],
      "text/markdown": [
       "1. <span style=white-space:pre-wrap>'   Whitespace    on left'</span>\n",
       "2. <span style=white-space:pre-wrap>'Whitespace   on right'</span>\n",
       "3. <span style=white-space:pre-wrap>'   Whitespace    on both'</span>\n",
       "4. '\\nline2'\n",
       "\n",
       "\n"
      ],
      "text/plain": [
       "[1] \"   Whitespace    on left\" \"Whitespace   on right\"   \n",
       "[3] \"   Whitespace    on both\" \"\\nline2\"                 "
      ]
     },
     "metadata": {},
     "output_type": "display_data"
    },
    {
     "name": "stdout",
     "output_type": "stream",
     "text": [
      "[1] \"Trim both\"\n"
     ]
    },
    {
     "data": {
      "text/html": [
       "<ol class=list-inline>\n",
       "\t<li><span style=white-space:pre-wrap>'Whitespace    on left'</span></li>\n",
       "\t<li><span style=white-space:pre-wrap>'Whitespace   on right'</span></li>\n",
       "\t<li><span style=white-space:pre-wrap>'Whitespace    on both'</span></li>\n",
       "\t<li>'line2'</li>\n",
       "</ol>\n"
      ],
      "text/latex": [
       "\\begin{enumerate*}\n",
       "\\item 'Whitespace    on left'\n",
       "\\item 'Whitespace   on right'\n",
       "\\item 'Whitespace    on both'\n",
       "\\item 'line2'\n",
       "\\end{enumerate*}\n"
      ],
      "text/markdown": [
       "1. <span style=white-space:pre-wrap>'Whitespace    on left'</span>\n",
       "2. <span style=white-space:pre-wrap>'Whitespace   on right'</span>\n",
       "3. <span style=white-space:pre-wrap>'Whitespace    on both'</span>\n",
       "4. 'line2'\n",
       "\n",
       "\n"
      ],
      "text/plain": [
       "[1] \"Whitespace    on left\" \"Whitespace   on right\" \"Whitespace    on both\"\n",
       "[4] \"line2\"                "
      ]
     },
     "metadata": {},
     "output_type": "display_data"
    }
   ],
   "source": [
    "# Trim whitespace from str_combined\n",
    "# left only\n",
    "# right only\n",
    "# both\n",
    "print(\"Trim left\")\n",
    "str_combined %>% str_trim(\"left\")\n",
    "\n",
    "print(\"Trim right\")\n",
    "str_combined %>% str_trim(\"right\")\n",
    "\n",
    "print(\"Trim both\")\n",
    "str_combined %>% str_trim(\"both\")"
   ]
  },
  {
   "cell_type": "code",
   "execution_count": 40,
   "metadata": {},
   "outputs": [
    {
     "name": "stdout",
     "output_type": "stream",
     "text": [
      "[1] \"Trim <none>\"\n"
     ]
    },
    {
     "data": {
      "text/html": [
       "<ol class=list-inline>\n",
       "\t<li><span style=white-space:pre-wrap>'Whitespace    on left'</span></li>\n",
       "\t<li><span style=white-space:pre-wrap>'Whitespace   on right'</span></li>\n",
       "\t<li><span style=white-space:pre-wrap>'Whitespace    on both'</span></li>\n",
       "\t<li>'line2'</li>\n",
       "</ol>\n"
      ],
      "text/latex": [
       "\\begin{enumerate*}\n",
       "\\item 'Whitespace    on left'\n",
       "\\item 'Whitespace   on right'\n",
       "\\item 'Whitespace    on both'\n",
       "\\item 'line2'\n",
       "\\end{enumerate*}\n"
      ],
      "text/markdown": [
       "1. <span style=white-space:pre-wrap>'Whitespace    on left'</span>\n",
       "2. <span style=white-space:pre-wrap>'Whitespace   on right'</span>\n",
       "3. <span style=white-space:pre-wrap>'Whitespace    on both'</span>\n",
       "4. 'line2'\n",
       "\n",
       "\n"
      ],
      "text/plain": [
       "[1] \"Whitespace    on left\" \"Whitespace   on right\" \"Whitespace    on both\"\n",
       "[4] \"line2\"                "
      ]
     },
     "metadata": {},
     "output_type": "display_data"
    }
   ],
   "source": [
    "# str_trim without specifying a side does what?\n",
    "print(\"Trim <none>\")\n",
    "str_combined %>% str_trim()"
   ]
  },
  {
   "cell_type": "markdown",
   "metadata": {},
   "source": [
    "* It did trims all sorts of whitespace characters including spaces and newline characters. \n",
    "* It did not trim whitespace in the middle of the string.\n",
    "* <span style=\"background-color: yellow;\">Default option is to trim both left and right sides</span>"
   ]
  },
  {
   "cell_type": "markdown",
   "metadata": {},
   "source": [
    "## Regular Expressions\n",
    "Regular expressions are strings that can be passed to string functions to aid in matching and replacing characters. It defines many of the symbols to have special meaning for wildcard pattern matching. \n",
    "\n",
    "To use a symbol as a text literal, you will need to prefix the symbol with two backslash characters to \"escape\" it. It is needed twice, since both R and regular expression use the same character to mean escape. \n",
    "\n",
    "* \\s matches whitespace\n",
    "* * means zero or more occurrences of previous character\n",
    "* . means any character\n",
    "* ^ means start of string\n",
    "* $ means end of string\n",
    "* [abc] means one of these characters"
   ]
  },
  {
   "cell_type": "markdown",
   "metadata": {},
   "source": [
    "## str_detect()\n",
    "Detect the presence or absence of a pattern in a string. Vectorised over string and pattern. \n",
    "### Usage\n",
    "str_detect(string, pattern)"
   ]
  },
  {
   "cell_type": "code",
   "execution_count": 41,
   "metadata": {},
   "outputs": [
    {
     "name": "stdout",
     "output_type": "stream",
     "text": [
      "[1] \"strings containing 'apple'\"\n",
      "[1]  TRUE  TRUE FALSE  TRUE FALSE  TRUE  TRUE\n"
     ]
    }
   ],
   "source": [
    "# Define strings\n",
    "str_apple <- c(\" apple pie\", \"apple\", \"Apple pie cake\", \n",
    "               \"banana apple pie\", \"blueberry pie\", \"apple apple\", \"apricot applesause cake\")\n",
    "\n",
    "# Return true false vector for strings containing 'apple'\n",
    "# Assign to match_index\n",
    "print(\"strings containing 'apple'\")\n",
    "match_index <- str_detect(str_apple, \"apple\")\n",
    "\n",
    "# print match_index\n",
    "print(match_index)"
   ]
  },
  {
   "cell_type": "code",
   "execution_count": 42,
   "metadata": {},
   "outputs": [
    {
     "name": "stdout",
     "output_type": "stream",
     "text": [
      "[1] \" apple pie\"              \"apple\"                  \n",
      "[3] \"banana apple pie\"        \"apple apple\"            \n",
      "[5] \"apricot applesause cake\"\n"
     ]
    }
   ],
   "source": [
    "# Print strings associated with\n",
    "# TRUE in match_index\n",
    "# Hint: Use the index inside [] for the string variable\n",
    "str_apple[match_index] %>% \n",
    "   print()"
   ]
  },
  {
   "cell_type": "code",
   "execution_count": 43,
   "metadata": {},
   "outputs": [
    {
     "name": "stdout",
     "output_type": "stream",
     "text": [
      "[1] \"strings containing 'pie'\"\n",
      "[1] \" apple pie\"       \"Apple pie cake\"   \"banana apple pie\" \"blueberry pie\"   \n"
     ]
    }
   ],
   "source": [
    "# Print strings containing 'pie'\n",
    "print(\"strings containing 'pie'\")\n",
    "match_index <- str_detect(str_apple, \"pie\")\n",
    "str_apple[match_index] %>% \n",
    "   print()"
   ]
  },
  {
   "cell_type": "code",
   "execution_count": 44,
   "metadata": {},
   "outputs": [
    {
     "name": "stdout",
     "output_type": "stream",
     "text": [
      "[1] \"strings ending in 'pie'\"\n",
      "[1] \" apple pie\"       \"banana apple pie\" \"blueberry pie\"   \n"
     ]
    }
   ],
   "source": [
    "# Print strings ending in 'pie'\n",
    "# Hint: use $\n",
    "print(\"strings ending in 'pie'\")\n",
    "match_index <- str_detect(str_apple, \"pie$\")\n",
    "str_apple[match_index] %>% \n",
    "   print()"
   ]
  },
  {
   "cell_type": "code",
   "execution_count": 46,
   "metadata": {},
   "outputs": [
    {
     "name": "stdout",
     "output_type": "stream",
     "text": [
      "[1] \"strings starts with 'apple'\"\n",
      "[1] \"apple\"       \"apple apple\"\n"
     ]
    }
   ],
   "source": [
    "# Print strings starting with apple\n",
    "# Hint: use ^ for starting\n",
    "print(\"strings starts with 'apple'\")\n",
    "match_index <- str_detect(str_apple, \"^apple\")\n",
    "str_apple[match_index] %>% \n",
    "   print()"
   ]
  },
  {
   "cell_type": "code",
   "execution_count": 48,
   "metadata": {
    "scrolled": true
   },
   "outputs": [
    {
     "name": "stdout",
     "output_type": "stream",
     "text": [
      "[1] \" apple pie\"              \"apple\"                  \n",
      "[3] \"Apple pie cake\"          \"banana apple pie\"       \n",
      "[5] \"blueberry pie\"           \"apple apple\"            \n",
      "[7] \"apricot applesause cake\"\n",
      "[1] \"strings starts with 'apple' enhanced\"\n",
      "[1] \" apple pie\"     \"apple\"          \"Apple pie cake\" \"apple apple\"   \n"
     ]
    }
   ],
   "source": [
    "# Print strings starting with apple\n",
    "# Ignore whitespace and match both 'apple' and 'Apple'\n",
    "# Hint: use ^ for starting\n",
    "# Hint: use \\s for space and * for zero or more\n",
    "# Hint: use [Aa] for upper and lower case A\n",
    "print(str_apple)\n",
    "print(\"strings starts with 'apple' enhanced\")\n",
    "match_index <- str_detect(str_apple, \"^\\\\s*[Aa]pple\")\n",
    "str_apple[match_index] %>% \n",
    "   print()"
   ]
  },
  {
   "cell_type": "markdown",
   "metadata": {},
   "source": [
    "str_detect is useful to find the rows of data that has a given pattern match. "
   ]
  },
  {
   "cell_type": "markdown",
   "metadata": {},
   "source": [
    "## str_extract()\n",
    "Extract matching patterns from a string. Vectorised over string and pattern. \n",
    "### Usage\n",
    "str_extract(string, pattern)"
   ]
  },
  {
   "cell_type": "code",
   "execution_count": 47,
   "metadata": {},
   "outputs": [
    {
     "name": "stdout",
     "output_type": "stream",
     "text": [
      "[1] \"strings starts with 'apple'\"\n"
     ]
    },
    {
     "data": {
      "text/html": [
       "<ol class=list-inline>\n",
       "\t<li>NA</li>\n",
       "\t<li>'apple'</li>\n",
       "\t<li>NA</li>\n",
       "\t<li>NA</li>\n",
       "\t<li>NA</li>\n",
       "\t<li>'apple'</li>\n",
       "\t<li>NA</li>\n",
       "</ol>\n"
      ],
      "text/latex": [
       "\\begin{enumerate*}\n",
       "\\item NA\n",
       "\\item 'apple'\n",
       "\\item NA\n",
       "\\item NA\n",
       "\\item NA\n",
       "\\item 'apple'\n",
       "\\item NA\n",
       "\\end{enumerate*}\n"
      ],
      "text/markdown": [
       "1. NA\n",
       "2. 'apple'\n",
       "3. NA\n",
       "4. NA\n",
       "5. NA\n",
       "6. 'apple'\n",
       "7. NA\n",
       "\n",
       "\n"
      ],
      "text/plain": [
       "[1] NA      \"apple\" NA      NA      NA      \"apple\" NA     "
      ]
     },
     "metadata": {},
     "output_type": "display_data"
    }
   ],
   "source": [
    "# Define strings\n",
    "str_apple <- c(\" apple pie\", \"apple\", \"Apple pie cake\", \n",
    "               \"banana apple pie\", \"blueberry pie\", \"apple apple\", \"apricot applesause cake\")\n",
    "\n",
    "# Print strings starting with apple\n",
    "# Hint: use ^ for starting\n",
    "print(\"strings starts with 'apple'\")\n",
    "str_extract(str_apple, \"^apple\")"
   ]
  },
  {
   "cell_type": "code",
   "execution_count": 48,
   "metadata": {},
   "outputs": [
    {
     "name": "stdout",
     "output_type": "stream",
     "text": [
      "[1] \"strings starts with 'apple' enhanced\"\n"
     ]
    },
    {
     "data": {
      "text/html": [
       "<ol class=list-inline>\n",
       "\t<li>' apple'</li>\n",
       "\t<li>'apple'</li>\n",
       "\t<li>'Apple'</li>\n",
       "\t<li>NA</li>\n",
       "\t<li>NA</li>\n",
       "\t<li>'apple'</li>\n",
       "\t<li>NA</li>\n",
       "</ol>\n"
      ],
      "text/latex": [
       "\\begin{enumerate*}\n",
       "\\item ' apple'\n",
       "\\item 'apple'\n",
       "\\item 'Apple'\n",
       "\\item NA\n",
       "\\item NA\n",
       "\\item 'apple'\n",
       "\\item NA\n",
       "\\end{enumerate*}\n"
      ],
      "text/markdown": [
       "1. ' apple'\n",
       "2. 'apple'\n",
       "3. 'Apple'\n",
       "4. NA\n",
       "5. NA\n",
       "6. 'apple'\n",
       "7. NA\n",
       "\n",
       "\n"
      ],
      "text/plain": [
       "[1] \" apple\" \"apple\"  \"Apple\"  NA       NA       \"apple\"  NA      "
      ]
     },
     "metadata": {},
     "output_type": "display_data"
    }
   ],
   "source": [
    "# Print strings starting with apple\n",
    "# Ignore whitespace and match both 'apple' and 'Apple'\n",
    "# Hint: use ^ for starting\n",
    "# Hint: use \\s for space and * for zero or more\n",
    "# Hint: use [Aa] for upper and lower case A\n",
    "print(\"strings starts with 'apple' enhanced\")\n",
    "str_extract(str_apple, \"^\\\\s*[Aa]pple\")"
   ]
  },
  {
   "cell_type": "code",
   "execution_count": 49,
   "metadata": {},
   "outputs": [
    {
     "name": "stdout",
     "output_type": "stream",
     "text": [
      "[1] \"Find 'apple' _middle_text_ then 'cake'\"\n"
     ]
    },
    {
     "data": {
      "text/html": [
       "<ol class=list-inline>\n",
       "\t<li>NA</li>\n",
       "\t<li>NA</li>\n",
       "\t<li>'Apple pie cake'</li>\n",
       "\t<li>NA</li>\n",
       "\t<li>NA</li>\n",
       "\t<li>NA</li>\n",
       "\t<li>'applesause cake'</li>\n",
       "</ol>\n"
      ],
      "text/latex": [
       "\\begin{enumerate*}\n",
       "\\item NA\n",
       "\\item NA\n",
       "\\item 'Apple pie cake'\n",
       "\\item NA\n",
       "\\item NA\n",
       "\\item NA\n",
       "\\item 'applesause cake'\n",
       "\\end{enumerate*}\n"
      ],
      "text/markdown": [
       "1. NA\n",
       "2. NA\n",
       "3. 'Apple pie cake'\n",
       "4. NA\n",
       "5. NA\n",
       "6. NA\n",
       "7. 'applesause cake'\n",
       "\n",
       "\n"
      ],
      "text/plain": [
       "[1] NA                NA                \"Apple pie cake\"  NA               \n",
       "[5] NA                NA                \"applesause cake\""
      ]
     },
     "metadata": {},
     "output_type": "display_data"
    }
   ],
   "source": [
    "# Find 'apple'or 'Apple' _middle_text_ then 'cake'\n",
    "# Hint: use [Aa] and .*\n",
    "print(\"Find 'apple' _middle_text_ then 'cake'\")\n",
    "str_extract(str_apple, \"[Aa]pple.*cake\")"
   ]
  },
  {
   "cell_type": "markdown",
   "metadata": {},
   "source": [
    "str_detect is useful for extracting the matching text"
   ]
  },
  {
   "cell_type": "markdown",
   "metadata": {},
   "source": [
    "## str_replace()\n",
    "Replace matched patterns in a string. Vectorised over string, pattern and replacement. \n",
    "### Usage\n",
    "str_replace(string, pattern, replacement)"
   ]
  },
  {
   "cell_type": "code",
   "execution_count": 49,
   "metadata": {},
   "outputs": [
    {
     "data": {
      "text/html": [
       "<ol class=list-inline>\n",
       "\t<li>' cherry pie'</li>\n",
       "\t<li>'cherry'</li>\n",
       "\t<li>'Apple pie cake'</li>\n",
       "\t<li>'banana cherry pie'</li>\n",
       "\t<li>'blueberry pie'</li>\n",
       "\t<li>'cherry apple'</li>\n",
       "\t<li>'apricot cherrysause cake'</li>\n",
       "</ol>\n"
      ],
      "text/latex": [
       "\\begin{enumerate*}\n",
       "\\item ' cherry pie'\n",
       "\\item 'cherry'\n",
       "\\item 'Apple pie cake'\n",
       "\\item 'banana cherry pie'\n",
       "\\item 'blueberry pie'\n",
       "\\item 'cherry apple'\n",
       "\\item 'apricot cherrysause cake'\n",
       "\\end{enumerate*}\n"
      ],
      "text/markdown": [
       "1. ' cherry pie'\n",
       "2. 'cherry'\n",
       "3. 'Apple pie cake'\n",
       "4. 'banana cherry pie'\n",
       "5. 'blueberry pie'\n",
       "6. 'cherry apple'\n",
       "7. 'apricot cherrysause cake'\n",
       "\n",
       "\n"
      ],
      "text/plain": [
       "[1] \" cherry pie\"              \"cherry\"                  \n",
       "[3] \"Apple pie cake\"           \"banana cherry pie\"       \n",
       "[5] \"blueberry pie\"            \"cherry apple\"            \n",
       "[7] \"apricot cherrysause cake\""
      ]
     },
     "metadata": {},
     "output_type": "display_data"
    }
   ],
   "source": [
    "# Define strings\n",
    "str_apple <- c(\" apple pie\", \"apple\", \"Apple pie cake\", \n",
    "               \"banana apple pie\", \"blueberry pie\", \"apple apple\", \"apricot applesause cake\")\n",
    "\n",
    "# Replace apple with cherry for str_apple\n",
    "str_replace(str_apple, \"apple\", \"cherry\")"
   ]
  },
  {
   "cell_type": "markdown",
   "metadata": {},
   "source": [
    "## str_detect with factors"
   ]
  },
  {
   "cell_type": "code",
   "execution_count": 51,
   "metadata": {},
   "outputs": [
    {
     "name": "stdout",
     "output_type": "stream",
     "text": [
      "Observations: 234\n",
      "Variables: 11\n",
      "$ manufacturer <chr> \"audi\", \"audi\", \"audi\", \"audi\", \"audi\", \"audi\", \"audi\"...\n",
      "$ model        <chr> \"a4\", \"a4\", \"a4\", \"a4\", \"a4\", \"a4\", \"a4\", \"a4 quattro\"...\n",
      "$ displ        <dbl> 1.8, 1.8, 2.0, 2.0, 2.8, 2.8, 3.1, 1.8, 1.8, 2.0, 2.0,...\n",
      "$ year         <int> 1999, 1999, 2008, 2008, 1999, 1999, 2008, 1999, 1999, ...\n",
      "$ cyl          <int> 4, 4, 4, 4, 6, 6, 6, 4, 4, 4, 4, 6, 6, 6, 6, 6, 6, 8, ...\n",
      "$ trans        <chr> \"auto(l5)\", \"manual(m5)\", \"manual(m6)\", \"auto(av)\", \"a...\n",
      "$ drv          <chr> \"f\", \"f\", \"f\", \"f\", \"f\", \"f\", \"f\", \"4\", \"4\", \"4\", \"4\",...\n",
      "$ cty          <int> 18, 21, 20, 21, 16, 18, 18, 18, 16, 20, 19, 15, 17, 17...\n",
      "$ hwy          <int> 29, 29, 31, 30, 26, 26, 27, 26, 25, 28, 27, 25, 25, 25...\n",
      "$ fl           <chr> \"p\", \"p\", \"p\", \"p\", \"p\", \"p\", \"p\", \"p\", \"p\", \"p\", \"p\",...\n",
      "$ class        <chr> \"compact\", \"compact\", \"compact\", \"compact\", \"compact\",...\n"
     ]
    }
   ],
   "source": [
    "# Work with mpg dataset model column\n",
    "# Glimpse mpg\n",
    "glimpse(mpg)"
   ]
  },
  {
   "cell_type": "code",
   "execution_count": 52,
   "metadata": {},
   "outputs": [
    {
     "data": {
      "text/html": [
       "<ol class=list-inline>\n",
       "\t<li>'4runner 4wd'</li>\n",
       "\t<li>'a4'</li>\n",
       "\t<li>'a4 quattro'</li>\n",
       "\t<li>'a6 quattro'</li>\n",
       "\t<li>'altima'</li>\n",
       "\t<li>'c1500 suburban 2wd'</li>\n",
       "\t<li>'camry'</li>\n",
       "\t<li>'camry solara'</li>\n",
       "\t<li>'caravan 2wd'</li>\n",
       "\t<li>'civic'</li>\n",
       "\t<li>'corolla'</li>\n",
       "\t<li>'corvette'</li>\n",
       "\t<li>'dakota pickup 4wd'</li>\n",
       "\t<li>'durango 4wd'</li>\n",
       "\t<li>'expedition 2wd'</li>\n",
       "\t<li>'explorer 4wd'</li>\n",
       "\t<li>'f150 pickup 4wd'</li>\n",
       "\t<li>'forester awd'</li>\n",
       "\t<li>'grand cherokee 4wd'</li>\n",
       "\t<li>'grand prix'</li>\n",
       "\t<li>'gti'</li>\n",
       "\t<li>'impreza awd'</li>\n",
       "\t<li>'jetta'</li>\n",
       "\t<li>'k1500 tahoe 4wd'</li>\n",
       "\t<li>'land cruiser wagon 4wd'</li>\n",
       "\t<li>'malibu'</li>\n",
       "\t<li>'maxima'</li>\n",
       "\t<li>'mountaineer 4wd'</li>\n",
       "\t<li>'mustang'</li>\n",
       "\t<li>'navigator 2wd'</li>\n",
       "\t<li>'new beetle'</li>\n",
       "\t<li>'passat'</li>\n",
       "\t<li>'pathfinder 4wd'</li>\n",
       "\t<li>'ram 1500 pickup 4wd'</li>\n",
       "\t<li>'range rover'</li>\n",
       "\t<li>'sonata'</li>\n",
       "\t<li>'tiburon'</li>\n",
       "\t<li>'toyota tacoma 4wd'</li>\n",
       "</ol>\n"
      ],
      "text/latex": [
       "\\begin{enumerate*}\n",
       "\\item '4runner 4wd'\n",
       "\\item 'a4'\n",
       "\\item 'a4 quattro'\n",
       "\\item 'a6 quattro'\n",
       "\\item 'altima'\n",
       "\\item 'c1500 suburban 2wd'\n",
       "\\item 'camry'\n",
       "\\item 'camry solara'\n",
       "\\item 'caravan 2wd'\n",
       "\\item 'civic'\n",
       "\\item 'corolla'\n",
       "\\item 'corvette'\n",
       "\\item 'dakota pickup 4wd'\n",
       "\\item 'durango 4wd'\n",
       "\\item 'expedition 2wd'\n",
       "\\item 'explorer 4wd'\n",
       "\\item 'f150 pickup 4wd'\n",
       "\\item 'forester awd'\n",
       "\\item 'grand cherokee 4wd'\n",
       "\\item 'grand prix'\n",
       "\\item 'gti'\n",
       "\\item 'impreza awd'\n",
       "\\item 'jetta'\n",
       "\\item 'k1500 tahoe 4wd'\n",
       "\\item 'land cruiser wagon 4wd'\n",
       "\\item 'malibu'\n",
       "\\item 'maxima'\n",
       "\\item 'mountaineer 4wd'\n",
       "\\item 'mustang'\n",
       "\\item 'navigator 2wd'\n",
       "\\item 'new beetle'\n",
       "\\item 'passat'\n",
       "\\item 'pathfinder 4wd'\n",
       "\\item 'ram 1500 pickup 4wd'\n",
       "\\item 'range rover'\n",
       "\\item 'sonata'\n",
       "\\item 'tiburon'\n",
       "\\item 'toyota tacoma 4wd'\n",
       "\\end{enumerate*}\n"
      ],
      "text/markdown": [
       "1. '4runner 4wd'\n",
       "2. 'a4'\n",
       "3. 'a4 quattro'\n",
       "4. 'a6 quattro'\n",
       "5. 'altima'\n",
       "6. 'c1500 suburban 2wd'\n",
       "7. 'camry'\n",
       "8. 'camry solara'\n",
       "9. 'caravan 2wd'\n",
       "10. 'civic'\n",
       "11. 'corolla'\n",
       "12. 'corvette'\n",
       "13. 'dakota pickup 4wd'\n",
       "14. 'durango 4wd'\n",
       "15. 'expedition 2wd'\n",
       "16. 'explorer 4wd'\n",
       "17. 'f150 pickup 4wd'\n",
       "18. 'forester awd'\n",
       "19. 'grand cherokee 4wd'\n",
       "20. 'grand prix'\n",
       "21. 'gti'\n",
       "22. 'impreza awd'\n",
       "23. 'jetta'\n",
       "24. 'k1500 tahoe 4wd'\n",
       "25. 'land cruiser wagon 4wd'\n",
       "26. 'malibu'\n",
       "27. 'maxima'\n",
       "28. 'mountaineer 4wd'\n",
       "29. 'mustang'\n",
       "30. 'navigator 2wd'\n",
       "31. 'new beetle'\n",
       "32. 'passat'\n",
       "33. 'pathfinder 4wd'\n",
       "34. 'ram 1500 pickup 4wd'\n",
       "35. 'range rover'\n",
       "36. 'sonata'\n",
       "37. 'tiburon'\n",
       "38. 'toyota tacoma 4wd'\n",
       "\n",
       "\n"
      ],
      "text/plain": [
       " [1] \"4runner 4wd\"            \"a4\"                     \"a4 quattro\"            \n",
       " [4] \"a6 quattro\"             \"altima\"                 \"c1500 suburban 2wd\"    \n",
       " [7] \"camry\"                  \"camry solara\"           \"caravan 2wd\"           \n",
       "[10] \"civic\"                  \"corolla\"                \"corvette\"              \n",
       "[13] \"dakota pickup 4wd\"      \"durango 4wd\"            \"expedition 2wd\"        \n",
       "[16] \"explorer 4wd\"           \"f150 pickup 4wd\"        \"forester awd\"          \n",
       "[19] \"grand cherokee 4wd\"     \"grand prix\"             \"gti\"                   \n",
       "[22] \"impreza awd\"            \"jetta\"                  \"k1500 tahoe 4wd\"       \n",
       "[25] \"land cruiser wagon 4wd\" \"malibu\"                 \"maxima\"                \n",
       "[28] \"mountaineer 4wd\"        \"mustang\"                \"navigator 2wd\"         \n",
       "[31] \"new beetle\"             \"passat\"                 \"pathfinder 4wd\"        \n",
       "[34] \"ram 1500 pickup 4wd\"    \"range rover\"            \"sonata\"                \n",
       "[37] \"tiburon\"                \"toyota tacoma 4wd\"     "
      ]
     },
     "metadata": {},
     "output_type": "display_data"
    }
   ],
   "source": [
    "# Make a copy of mpg as df\n",
    "df <- mpg\n",
    "\n",
    "# Convert df$model to a factor\n",
    "# Hint: as.factor()\n",
    "df <- df %>% mutate(model = as.factor(model))\n",
    "\n",
    "# Display model factor levels\n",
    "# Hint: levels()\n",
    "df$model %>% levels()"
   ]
  },
  {
   "cell_type": "code",
   "execution_count": 53,
   "metadata": {},
   "outputs": [
    {
     "data": {
      "text/html": [
       "<table>\n",
       "<thead><tr><th scope=col>model</th></tr></thead>\n",
       "<tbody>\n",
       "\t<tr><td>a4                </td></tr>\n",
       "\t<tr><td>a4 quattro        </td></tr>\n",
       "\t<tr><td>a6 quattro        </td></tr>\n",
       "\t<tr><td>c1500 suburban 2wd</td></tr>\n",
       "\t<tr><td>corvette          </td></tr>\n",
       "</tbody>\n",
       "</table>\n"
      ],
      "text/latex": [
       "\\begin{tabular}{r|l}\n",
       " model\\\\\n",
       "\\hline\n",
       "\t a4                \\\\\n",
       "\t a4 quattro        \\\\\n",
       "\t a6 quattro        \\\\\n",
       "\t c1500 suburban 2wd\\\\\n",
       "\t corvette          \\\\\n",
       "\\end{tabular}\n"
      ],
      "text/markdown": [
       "\n",
       "model | \n",
       "|---|---|---|---|---|\n",
       "| a4                 | \n",
       "| a4 quattro         | \n",
       "| a6 quattro         | \n",
       "| c1500 suburban 2wd | \n",
       "| corvette           | \n",
       "\n",
       "\n"
      ],
      "text/plain": [
       "  model             \n",
       "1 a4                \n",
       "2 a4 quattro        \n",
       "3 a6 quattro        \n",
       "4 c1500 suburban 2wd\n",
       "5 corvette          "
      ]
     },
     "metadata": {},
     "output_type": "display_data"
    }
   ],
   "source": [
    "# Select only model column\n",
    "# Provide distinct data only\n",
    "# Sort alphabetically\n",
    "# Display first 5\n",
    "df %>% select(model) %>% \n",
    "   distinct() %>%\n",
    "   arrange() %>%\n",
    "   head(5)"
   ]
  },
  {
   "cell_type": "code",
   "execution_count": 54,
   "metadata": {},
   "outputs": [
    {
     "data": {
      "text/html": [
       "<table>\n",
       "<thead><tr><th scope=col>model</th></tr></thead>\n",
       "<tbody>\n",
       "\t<tr><td>c1500 suburban 2wd</td></tr>\n",
       "\t<tr><td>k1500 tahoe 4wd   </td></tr>\n",
       "\t<tr><td>caravan 2wd       </td></tr>\n",
       "\t<tr><td>dakota pickup 4wd </td></tr>\n",
       "\t<tr><td>durango 4wd       </td></tr>\n",
       "</tbody>\n",
       "</table>\n"
      ],
      "text/latex": [
       "\\begin{tabular}{r|l}\n",
       " model\\\\\n",
       "\\hline\n",
       "\t c1500 suburban 2wd\\\\\n",
       "\t k1500 tahoe 4wd   \\\\\n",
       "\t caravan 2wd       \\\\\n",
       "\t dakota pickup 4wd \\\\\n",
       "\t durango 4wd       \\\\\n",
       "\\end{tabular}\n"
      ],
      "text/markdown": [
       "\n",
       "model | \n",
       "|---|---|---|---|---|\n",
       "| c1500 suburban 2wd | \n",
       "| k1500 tahoe 4wd    | \n",
       "| caravan 2wd        | \n",
       "| dakota pickup 4wd  | \n",
       "| durango 4wd        | \n",
       "\n",
       "\n"
      ],
      "text/plain": [
       "  model             \n",
       "1 c1500 suburban 2wd\n",
       "2 k1500 tahoe 4wd   \n",
       "3 caravan 2wd       \n",
       "4 dakota pickup 4wd \n",
       "5 durango 4wd       "
      ]
     },
     "metadata": {},
     "output_type": "display_data"
    }
   ],
   "source": [
    "# Detect 2, 4 and all wheel drive in mpg$model directly\n",
    "# Display unique values of model containing 2 or 4 or all wheel drive\n",
    "# Sort alphabetically\n",
    "# Display first 5\n",
    "# Hint: use filter() and str_detect()\n",
    "df %>% filter(str_detect(model, \"[24a]wd\")) %>%\n",
    "   select(model) %>% \n",
    "   distinct() %>%\n",
    "   arrange() %>%\n",
    "   head(5)"
   ]
  },
  {
   "cell_type": "code",
   "execution_count": 55,
   "metadata": {
    "scrolled": false
   },
   "outputs": [
    {
     "data": {
      "text/html": [
       "<ol class=list-inline>\n",
       "\t<li>'4runner'</li>\n",
       "\t<li>'a4'</li>\n",
       "\t<li>'a4 quattro'</li>\n",
       "\t<li>'a6 quattro'</li>\n",
       "\t<li>'altima'</li>\n",
       "\t<li>'c1500 suburban'</li>\n",
       "\t<li>'camry'</li>\n",
       "\t<li>'camry solara'</li>\n",
       "\t<li>'caravan'</li>\n",
       "\t<li>'civic'</li>\n",
       "\t<li>'corolla'</li>\n",
       "\t<li>'corvette'</li>\n",
       "\t<li>'dakota pickup'</li>\n",
       "\t<li>'durango'</li>\n",
       "\t<li>'expedition'</li>\n",
       "\t<li>'explorer'</li>\n",
       "\t<li>'f150 pickup'</li>\n",
       "\t<li>'forester'</li>\n",
       "\t<li>'grand cherokee'</li>\n",
       "\t<li>'grand prix'</li>\n",
       "\t<li>'gti'</li>\n",
       "\t<li>'impreza'</li>\n",
       "\t<li>'jetta'</li>\n",
       "\t<li>'k1500 tahoe'</li>\n",
       "\t<li>'land cruiser wagon'</li>\n",
       "\t<li>'malibu'</li>\n",
       "\t<li>'maxima'</li>\n",
       "\t<li>'mountaineer'</li>\n",
       "\t<li>'mustang'</li>\n",
       "\t<li>'navigator'</li>\n",
       "\t<li>'new beetle'</li>\n",
       "\t<li>'passat'</li>\n",
       "\t<li>'pathfinder'</li>\n",
       "\t<li>'ram 1500 pickup'</li>\n",
       "\t<li>'range rover'</li>\n",
       "\t<li>'sonata'</li>\n",
       "\t<li>'tiburon'</li>\n",
       "\t<li>'toyota tacoma'</li>\n",
       "</ol>\n"
      ],
      "text/latex": [
       "\\begin{enumerate*}\n",
       "\\item '4runner'\n",
       "\\item 'a4'\n",
       "\\item 'a4 quattro'\n",
       "\\item 'a6 quattro'\n",
       "\\item 'altima'\n",
       "\\item 'c1500 suburban'\n",
       "\\item 'camry'\n",
       "\\item 'camry solara'\n",
       "\\item 'caravan'\n",
       "\\item 'civic'\n",
       "\\item 'corolla'\n",
       "\\item 'corvette'\n",
       "\\item 'dakota pickup'\n",
       "\\item 'durango'\n",
       "\\item 'expedition'\n",
       "\\item 'explorer'\n",
       "\\item 'f150 pickup'\n",
       "\\item 'forester'\n",
       "\\item 'grand cherokee'\n",
       "\\item 'grand prix'\n",
       "\\item 'gti'\n",
       "\\item 'impreza'\n",
       "\\item 'jetta'\n",
       "\\item 'k1500 tahoe'\n",
       "\\item 'land cruiser wagon'\n",
       "\\item 'malibu'\n",
       "\\item 'maxima'\n",
       "\\item 'mountaineer'\n",
       "\\item 'mustang'\n",
       "\\item 'navigator'\n",
       "\\item 'new beetle'\n",
       "\\item 'passat'\n",
       "\\item 'pathfinder'\n",
       "\\item 'ram 1500 pickup'\n",
       "\\item 'range rover'\n",
       "\\item 'sonata'\n",
       "\\item 'tiburon'\n",
       "\\item 'toyota tacoma'\n",
       "\\end{enumerate*}\n"
      ],
      "text/markdown": [
       "1. '4runner'\n",
       "2. 'a4'\n",
       "3. 'a4 quattro'\n",
       "4. 'a6 quattro'\n",
       "5. 'altima'\n",
       "6. 'c1500 suburban'\n",
       "7. 'camry'\n",
       "8. 'camry solara'\n",
       "9. 'caravan'\n",
       "10. 'civic'\n",
       "11. 'corolla'\n",
       "12. 'corvette'\n",
       "13. 'dakota pickup'\n",
       "14. 'durango'\n",
       "15. 'expedition'\n",
       "16. 'explorer'\n",
       "17. 'f150 pickup'\n",
       "18. 'forester'\n",
       "19. 'grand cherokee'\n",
       "20. 'grand prix'\n",
       "21. 'gti'\n",
       "22. 'impreza'\n",
       "23. 'jetta'\n",
       "24. 'k1500 tahoe'\n",
       "25. 'land cruiser wagon'\n",
       "26. 'malibu'\n",
       "27. 'maxima'\n",
       "28. 'mountaineer'\n",
       "29. 'mustang'\n",
       "30. 'navigator'\n",
       "31. 'new beetle'\n",
       "32. 'passat'\n",
       "33. 'pathfinder'\n",
       "34. 'ram 1500 pickup'\n",
       "35. 'range rover'\n",
       "36. 'sonata'\n",
       "37. 'tiburon'\n",
       "38. 'toyota tacoma'\n",
       "\n",
       "\n"
      ],
      "text/plain": [
       " [1] \"4runner\"            \"a4\"                 \"a4 quattro\"        \n",
       " [4] \"a6 quattro\"         \"altima\"             \"c1500 suburban\"    \n",
       " [7] \"camry\"              \"camry solara\"       \"caravan\"           \n",
       "[10] \"civic\"              \"corolla\"            \"corvette\"          \n",
       "[13] \"dakota pickup\"      \"durango\"            \"expedition\"        \n",
       "[16] \"explorer\"           \"f150 pickup\"        \"forester\"          \n",
       "[19] \"grand cherokee\"     \"grand prix\"         \"gti\"               \n",
       "[22] \"impreza\"            \"jetta\"              \"k1500 tahoe\"       \n",
       "[25] \"land cruiser wagon\" \"malibu\"             \"maxima\"            \n",
       "[28] \"mountaineer\"        \"mustang\"            \"navigator\"         \n",
       "[31] \"new beetle\"         \"passat\"             \"pathfinder\"        \n",
       "[34] \"ram 1500 pickup\"    \"range rover\"        \"sonata\"            \n",
       "[37] \"tiburon\"            \"toyota tacoma\"     "
      ]
     },
     "metadata": {},
     "output_type": "display_data"
    }
   ],
   "source": [
    "# Update df$model to remove 2wd, 4wd, and awd\n",
    "# Also remove any surrounding whitespace\n",
    "# Hint: mutate(model), convert to char and back to factor as.character() and as.factor()\n",
    "# Hint: str_replace() \\s for whitespace * for zero or more occurrances, [] for character groups\n",
    "df <- df %>% mutate(model = str_replace(model %>% as.character(), \"\\\\s*[24a]wd\\\\s*\", \"\") %>% as.factor())\n",
    "\n",
    "# Display model factor levels\n",
    "# Hint: levels()\n",
    "df$model %>% levels()"
   ]
  },
  {
   "cell_type": "markdown",
   "metadata": {},
   "source": [
    "* Notice the removal of 2wd and 4wd and awd from model column\n",
    "* Factors need to be converted to character vectors before replacement"
   ]
  },
  {
   "cell_type": "markdown",
   "metadata": {},
   "source": [
    "# Summary\n",
    "There are many string functions to help you wrangle data in the stringr package. You can combine them together to solve all your string manipulation needs."
   ]
  }
 ],
 "metadata": {
  "kernelspec": {
   "display_name": "R 3.5.1",
   "language": "R",
   "name": "ir"
  },
  "language_info": {
   "codemirror_mode": "r",
   "file_extension": ".r",
   "mimetype": "text/x-r-source",
   "name": "R",
   "pygments_lexer": "r",
   "version": "3.5.1"
  }
 },
 "nbformat": 4,
 "nbformat_minor": 1
}
