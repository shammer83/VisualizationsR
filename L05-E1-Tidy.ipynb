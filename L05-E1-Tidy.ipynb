{
 "cells": [
  {
   "cell_type": "markdown",
   "metadata": {},
   "source": [
    "# L05-1-Tidy\n",
    "## Assignment Instructions\n",
    "Rename with your name in place of Studentname and make your edits and updates here.\n"
   ]
  },
  {
   "cell_type": "markdown",
   "metadata": {},
   "source": [
    "# Tidy Data\n",
    "Source data is often organized in many different ways. If you could 'standardize' on a canonical way of organizing the data that works well for analysis and for the tidyverse tools, that would make you a more agile analyst. When Hadley Wickham created the tidyverse, he based it on some data organization principles that are consistent with database and data warehouse principles.\n",
    "\n",
    "## Tidy data principles\n",
    "The tidy data principles are:\n",
    "1. Each variable forms a column.\n",
    "2. Each observation forms a row.\n",
    "3. Each observational unit forms a table.\n",
    "\n",
    "## R Features\n",
    "* library()\n",
    "* read_csv()\n",
    "* glimpse()\n",
    "* head()\n",
    "* gather()\n",
    "* mutate()\n",
    "* parse_number()\n",
    "* as.integer()\n",
    "* everything()\n",
    "* make_date()\n",
    "* spread()\n",
    "* separate()\n",
    "* ggplot()\n",
    "* aes()\n",
    "* geom_point()\n",
    "* geom_line()\n",
    "\n",
    "## Datasets\n",
    "* weather.csv\n"
   ]
  },
  {
   "cell_type": "code",
   "execution_count": 1,
   "metadata": {
    "scrolled": false
   },
   "outputs": [
    {
     "name": "stderr",
     "output_type": "stream",
     "text": [
      "\n",
      "Attaching package: ‘lubridate’\n",
      "\n",
      "The following object is masked from ‘package:base’:\n",
      "\n",
      "    date\n",
      "\n",
      "── \u001b[1mAttaching packages\u001b[22m ─────────────────────────────────────── tidyverse 1.2.1 ──\n",
      "\u001b[32m✔\u001b[39m \u001b[34mggplot2\u001b[39m 3.2.0     \u001b[32m✔\u001b[39m \u001b[34mreadr  \u001b[39m 1.1.1\n",
      "\u001b[32m✔\u001b[39m \u001b[34mtibble \u001b[39m 2.1.3     \u001b[32m✔\u001b[39m \u001b[34mpurrr  \u001b[39m 0.2.5\n",
      "\u001b[32m✔\u001b[39m \u001b[34mtidyr  \u001b[39m 0.8.1     \u001b[32m✔\u001b[39m \u001b[34mdplyr  \u001b[39m 0.8.3\n",
      "\u001b[32m✔\u001b[39m \u001b[34mggplot2\u001b[39m 3.2.0     \u001b[32m✔\u001b[39m \u001b[34mforcats\u001b[39m 0.3.0\n",
      "── \u001b[1mConflicts\u001b[22m ────────────────────────────────────────── tidyverse_conflicts() ──\n",
      "\u001b[31m✖\u001b[39m \u001b[34mlubridate\u001b[39m::\u001b[32mas.difftime()\u001b[39m masks \u001b[34mbase\u001b[39m::as.difftime()\n",
      "\u001b[31m✖\u001b[39m \u001b[34mlubridate\u001b[39m::\u001b[32mdate()\u001b[39m        masks \u001b[34mbase\u001b[39m::date()\n",
      "\u001b[31m✖\u001b[39m \u001b[34mdplyr\u001b[39m::\u001b[32mfilter()\u001b[39m          masks \u001b[34mstats\u001b[39m::filter()\n",
      "\u001b[31m✖\u001b[39m \u001b[34mlubridate\u001b[39m::\u001b[32mintersect()\u001b[39m   masks \u001b[34mbase\u001b[39m::intersect()\n",
      "\u001b[31m✖\u001b[39m \u001b[34mdplyr\u001b[39m::\u001b[32mlag()\u001b[39m             masks \u001b[34mstats\u001b[39m::lag()\n",
      "\u001b[31m✖\u001b[39m \u001b[34mlubridate\u001b[39m::\u001b[32msetdiff()\u001b[39m     masks \u001b[34mbase\u001b[39m::setdiff()\n",
      "\u001b[31m✖\u001b[39m \u001b[34mlubridate\u001b[39m::\u001b[32munion()\u001b[39m       masks \u001b[34mbase\u001b[39m::union()\n"
     ]
    }
   ],
   "source": [
    "# Load libraries\n",
    "library(\"stringr\")    # stringr\n",
    "library(\"lubridate\")  # lubridate\n",
    "library(\"tidyverse\")  # tidyverse\n"
   ]
  },
  {
   "cell_type": "markdown",
   "metadata": {},
   "source": [
    "## tidyr package\n",
    "* complete                Complete a data frame with missing combinations of data.\n",
    "* drop_na                 Drop rows containing missing values\n",
    "* expand                  Expand data frame to include all combinations of values\n",
    "* extract                 Extract one column into multiple columns.\n",
    "* extract_numeric         Extract numeric component of variable.\n",
    "* fill                    Fill in missing values.\n",
    "* full_seq                Create the full sequence of values in a vector.\n",
    "* gather                  Gather columns into key-value pairs.\n",
    "* nest                    Nest repeated values in a list-variable.\n",
    "* replace_na              Replace missing values\n",
    "* separate                Separate one column into multiple columns.\n",
    "* separate_rows           Separate a collapsed column into multiple rows.\n",
    "* separate\\_rows_          Standard-evaluation version of 'separate_rows'.\n",
    "* smiths                  Some data about the Smith family.\n",
    "* spread                  Spread a key-value pair across multiple columns.\n",
    "* table1                  Example tabular representations\n",
    "* unite                   Unite multiple columns into one.\n",
    "* unnest                  Unnest a list column.\n",
    "* who                     World Health Organization TB data\n"
   ]
  },
  {
   "cell_type": "code",
   "execution_count": 3,
   "metadata": {},
   "outputs": [],
   "source": [
    "# Use library(help = \"package\")\n",
    "# to see the functions\n",
    "library(help = \"tidyr\")\n"
   ]
  },
  {
   "cell_type": "markdown",
   "metadata": {},
   "source": [
    "## read_csv()\n",
    "Read a delimited file into a data frame. read_csv and read_tsv are special cases of the general read_delim. They're useful for reading the most common types of flat file data, comma separated values and tab separated values, respectively. read_csv2 uses ; for separators, instead of ,. This is common in European countries which use , as the decimal separator. \n",
    "### Usage\n",
    "read_csv(file, col_names = TRUE, col_types = NULL,\n",
    "  locale = default_locale(), na = c(\"\", \"NA\"), quoted_na = TRUE,\n",
    "  comment = \"\", trim_ws = TRUE, skip = 0, n_max = Inf,\n",
    "  guess_max = min(1000, n_max), progress = interactive())"
   ]
  },
  {
   "cell_type": "code",
   "execution_count": 4,
   "metadata": {
    "collapsed": true
   },
   "outputs": [],
   "source": [
    "# View help on read_csv()\n",
    "?read_csv()\n"
   ]
  },
  {
   "cell_type": "code",
   "execution_count": 5,
   "metadata": {},
   "outputs": [
    {
     "name": "stderr",
     "output_type": "stream",
     "text": [
      "Parsed with column specification:\n",
      "cols(\n",
      "  id = col_character(),\n",
      "  year = col_integer(),\n",
      "  month = col_integer(),\n",
      "  element = col_character(),\n",
      "  d1 = col_integer(),\n",
      "  d2 = col_integer(),\n",
      "  d3 = col_integer(),\n",
      "  d4 = col_integer(),\n",
      "  d5 = col_integer(),\n",
      "  d6 = col_integer(),\n",
      "  d7 = col_integer(),\n",
      "  d8 = col_integer(),\n",
      "  d9 = col_integer(),\n",
      "  d10 = col_integer()\n",
      ")\n"
     ]
    },
    {
     "name": "stdout",
     "output_type": "stream",
     "text": [
      "Observations: 6\n",
      "Variables: 14\n",
      "$ id      \u001b[3m\u001b[90m<chr>\u001b[39m\u001b[23m \"seattle_wa\", \"seattle_wa\", \"seattle_wa\", \"seattle_wa\", \"seat…\n",
      "$ year    \u001b[3m\u001b[90m<int>\u001b[39m\u001b[23m 2016, 2016, 2016, 2016, 2016, 2016\n",
      "$ month   \u001b[3m\u001b[90m<int>\u001b[39m\u001b[23m 10, 10, 10, 11, 11, 11\n",
      "$ element \u001b[3m\u001b[90m<chr>\u001b[39m\u001b[23m \"tmax\", \"tavg\", \"tmin\", \"tmax\", \"tavg\", \"tmin\"\n",
      "$ d1      \u001b[3m\u001b[90m<int>\u001b[39m\u001b[23m 63, 56, 50, 57, 54, 50\n",
      "$ d2      \u001b[3m\u001b[90m<int>\u001b[39m\u001b[23m 64, 57, 50, 57, 54, 51\n",
      "$ d3      \u001b[3m\u001b[90m<int>\u001b[39m\u001b[23m 61, 56, 51, 64, 56, 46\n",
      "$ d4      \u001b[3m\u001b[90m<int>\u001b[39m\u001b[23m 63, 57, 53, 64, 53, 42\n",
      "$ d5      \u001b[3m\u001b[90m<int>\u001b[39m\u001b[23m 66, 58, 53, 57, 55, 52\n",
      "$ d6      \u001b[3m\u001b[90m<int>\u001b[39m\u001b[23m 63, 59, 55, 61, 54, 48\n",
      "$ d7      \u001b[3m\u001b[90m<int>\u001b[39m\u001b[23m 64, 59, 55, 62, 57, 52\n",
      "$ d8      \u001b[3m\u001b[90m<int>\u001b[39m\u001b[23m 68, 60, 53, 71, 60, 48\n",
      "$ d9      \u001b[3m\u001b[90m<int>\u001b[39m\u001b[23m 57, 54, 50, 64, 58, 53\n",
      "$ d10     \u001b[3m\u001b[90m<int>\u001b[39m\u001b[23m 60, 53, 46, 63, 56, 48\n"
     ]
    },
    {
     "data": {
      "text/html": [
       "<table>\n",
       "<caption>A tibble: 6 × 14</caption>\n",
       "<thead>\n",
       "\t<tr><th scope=col>id</th><th scope=col>year</th><th scope=col>month</th><th scope=col>element</th><th scope=col>d1</th><th scope=col>d2</th><th scope=col>d3</th><th scope=col>d4</th><th scope=col>d5</th><th scope=col>d6</th><th scope=col>d7</th><th scope=col>d8</th><th scope=col>d9</th><th scope=col>d10</th></tr>\n",
       "\t<tr><th scope=col>&lt;chr&gt;</th><th scope=col>&lt;int&gt;</th><th scope=col>&lt;int&gt;</th><th scope=col>&lt;chr&gt;</th><th scope=col>&lt;int&gt;</th><th scope=col>&lt;int&gt;</th><th scope=col>&lt;int&gt;</th><th scope=col>&lt;int&gt;</th><th scope=col>&lt;int&gt;</th><th scope=col>&lt;int&gt;</th><th scope=col>&lt;int&gt;</th><th scope=col>&lt;int&gt;</th><th scope=col>&lt;int&gt;</th><th scope=col>&lt;int&gt;</th></tr>\n",
       "</thead>\n",
       "<tbody>\n",
       "\t<tr><td>seattle_wa</td><td>2016</td><td>10</td><td>tmax</td><td>63</td><td>64</td><td>61</td><td>63</td><td>66</td><td>63</td><td>64</td><td>68</td><td>57</td><td>60</td></tr>\n",
       "\t<tr><td>seattle_wa</td><td>2016</td><td>10</td><td>tavg</td><td>56</td><td>57</td><td>56</td><td>57</td><td>58</td><td>59</td><td>59</td><td>60</td><td>54</td><td>53</td></tr>\n",
       "\t<tr><td>seattle_wa</td><td>2016</td><td>10</td><td>tmin</td><td>50</td><td>50</td><td>51</td><td>53</td><td>53</td><td>55</td><td>55</td><td>53</td><td>50</td><td>46</td></tr>\n",
       "\t<tr><td>seattle_wa</td><td>2016</td><td>11</td><td>tmax</td><td>57</td><td>57</td><td>64</td><td>64</td><td>57</td><td>61</td><td>62</td><td>71</td><td>64</td><td>63</td></tr>\n",
       "\t<tr><td>seattle_wa</td><td>2016</td><td>11</td><td>tavg</td><td>54</td><td>54</td><td>56</td><td>53</td><td>55</td><td>54</td><td>57</td><td>60</td><td>58</td><td>56</td></tr>\n",
       "\t<tr><td>seattle_wa</td><td>2016</td><td>11</td><td>tmin</td><td>50</td><td>51</td><td>46</td><td>42</td><td>52</td><td>48</td><td>52</td><td>48</td><td>53</td><td>48</td></tr>\n",
       "</tbody>\n",
       "</table>\n"
      ],
      "text/latex": [
       "A tibble: 6 × 14\n",
       "\\begin{tabular}{r|llllllllllllll}\n",
       " id & year & month & element & d1 & d2 & d3 & d4 & d5 & d6 & d7 & d8 & d9 & d10\\\\\n",
       " <chr> & <int> & <int> & <chr> & <int> & <int> & <int> & <int> & <int> & <int> & <int> & <int> & <int> & <int>\\\\\n",
       "\\hline\n",
       "\t seattle\\_wa & 2016 & 10 & tmax & 63 & 64 & 61 & 63 & 66 & 63 & 64 & 68 & 57 & 60\\\\\n",
       "\t seattle\\_wa & 2016 & 10 & tavg & 56 & 57 & 56 & 57 & 58 & 59 & 59 & 60 & 54 & 53\\\\\n",
       "\t seattle\\_wa & 2016 & 10 & tmin & 50 & 50 & 51 & 53 & 53 & 55 & 55 & 53 & 50 & 46\\\\\n",
       "\t seattle\\_wa & 2016 & 11 & tmax & 57 & 57 & 64 & 64 & 57 & 61 & 62 & 71 & 64 & 63\\\\\n",
       "\t seattle\\_wa & 2016 & 11 & tavg & 54 & 54 & 56 & 53 & 55 & 54 & 57 & 60 & 58 & 56\\\\\n",
       "\t seattle\\_wa & 2016 & 11 & tmin & 50 & 51 & 46 & 42 & 52 & 48 & 52 & 48 & 53 & 48\\\\\n",
       "\\end{tabular}\n"
      ],
      "text/markdown": [
       "\n",
       "A tibble: 6 × 14\n",
       "\n",
       "| id &lt;chr&gt; | year &lt;int&gt; | month &lt;int&gt; | element &lt;chr&gt; | d1 &lt;int&gt; | d2 &lt;int&gt; | d3 &lt;int&gt; | d4 &lt;int&gt; | d5 &lt;int&gt; | d6 &lt;int&gt; | d7 &lt;int&gt; | d8 &lt;int&gt; | d9 &lt;int&gt; | d10 &lt;int&gt; |\n",
       "|---|---|---|---|---|---|---|---|---|---|---|---|---|---|\n",
       "| seattle_wa | 2016 | 10 | tmax | 63 | 64 | 61 | 63 | 66 | 63 | 64 | 68 | 57 | 60 |\n",
       "| seattle_wa | 2016 | 10 | tavg | 56 | 57 | 56 | 57 | 58 | 59 | 59 | 60 | 54 | 53 |\n",
       "| seattle_wa | 2016 | 10 | tmin | 50 | 50 | 51 | 53 | 53 | 55 | 55 | 53 | 50 | 46 |\n",
       "| seattle_wa | 2016 | 11 | tmax | 57 | 57 | 64 | 64 | 57 | 61 | 62 | 71 | 64 | 63 |\n",
       "| seattle_wa | 2016 | 11 | tavg | 54 | 54 | 56 | 53 | 55 | 54 | 57 | 60 | 58 | 56 |\n",
       "| seattle_wa | 2016 | 11 | tmin | 50 | 51 | 46 | 42 | 52 | 48 | 52 | 48 | 53 | 48 |\n",
       "\n"
      ],
      "text/plain": [
       "  id         year month element d1 d2 d3 d4 d5 d6 d7 d8 d9 d10\n",
       "1 seattle_wa 2016 10    tmax    63 64 61 63 66 63 64 68 57 60 \n",
       "2 seattle_wa 2016 10    tavg    56 57 56 57 58 59 59 60 54 53 \n",
       "3 seattle_wa 2016 10    tmin    50 50 51 53 53 55 55 53 50 46 \n",
       "4 seattle_wa 2016 11    tmax    57 57 64 64 57 61 62 71 64 63 \n",
       "5 seattle_wa 2016 11    tavg    54 54 56 53 55 54 57 60 58 56 \n",
       "6 seattle_wa 2016 11    tmin    50 51 46 42 52 48 52 48 53 48 "
      ]
     },
     "metadata": {},
     "output_type": "display_data"
    }
   ],
   "source": [
    "# Import sample data\n",
    "# file: weather.csv \n",
    "# Store in df\n",
    "# Hint: read_csv()\n",
    "df <- \"weather.csv\" %>% read_csv()\n",
    "\n",
    "# glimpse result\n",
    "df %>% glimpse()\n",
    "\n",
    "# display result\n",
    "df\n"
   ]
  },
  {
   "cell_type": "markdown",
   "metadata": {},
   "source": [
    "Notice columns d1 - d10 represent the first day of the month to the tenth day of the month\n",
    "\n",
    "Next: Given the grain of this table is daily, there should be one row per day. Currently there are 3 rows per month."
   ]
  },
  {
   "cell_type": "markdown",
   "metadata": {},
   "source": [
    "## Gather()\n",
    "Gather columns into key-value pairs.\n",
    "### Usage\n",
    "gather(data, key, value, ..., na.rm = FALSE, convert = FALSE,\n",
    "  factor_key = FALSE)"
   ]
  },
  {
   "cell_type": "code",
   "execution_count": 7,
   "metadata": {},
   "outputs": [],
   "source": [
    "# View help on gather()\n",
    "?gather()\n"
   ]
  },
  {
   "cell_type": "code",
   "execution_count": 21,
   "metadata": {},
   "outputs": [
    {
     "name": "stdout",
     "output_type": "stream",
     "text": [
      "Observations: 60\n",
      "Variables: 6\n",
      "$ id      \u001b[3m\u001b[90m<chr>\u001b[39m\u001b[23m \"seattle_wa\", \"seattle_wa\", \"seattle_wa\", \"seattle_wa\", \"seat…\n",
      "$ year    \u001b[3m\u001b[90m<int>\u001b[39m\u001b[23m 2016, 2016, 2016, 2016, 2016, 2016, 2016, 2016, 2016, 2016, 2…\n",
      "$ month   \u001b[3m\u001b[90m<int>\u001b[39m\u001b[23m 10, 10, 10, 11, 11, 11, 10, 10, 10, 11, 11, 11, 10, 10, 10, 1…\n",
      "$ element \u001b[3m\u001b[90m<chr>\u001b[39m\u001b[23m \"tmax\", \"tavg\", \"tmin\", \"tmax\", \"tavg\", \"tmin\", \"tmax\", \"tavg…\n",
      "$ day     \u001b[3m\u001b[90m<chr>\u001b[39m\u001b[23m \"d1\", \"d1\", \"d1\", \"d1\", \"d1\", \"d1\", \"d2\", \"d2\", \"d2\", \"d2\", \"…\n",
      "$ value   \u001b[3m\u001b[90m<int>\u001b[39m\u001b[23m 63, 56, 50, 57, 54, 50, 64, 57, 50, 57, 54, 51, 61, 56, 51, 6…\n"
     ]
    },
    {
     "data": {
      "text/html": [
       "<table>\n",
       "<caption>A tibble: 12 × 6</caption>\n",
       "<thead>\n",
       "\t<tr><th scope=col>id</th><th scope=col>year</th><th scope=col>month</th><th scope=col>element</th><th scope=col>day</th><th scope=col>value</th></tr>\n",
       "\t<tr><th scope=col>&lt;chr&gt;</th><th scope=col>&lt;int&gt;</th><th scope=col>&lt;int&gt;</th><th scope=col>&lt;chr&gt;</th><th scope=col>&lt;chr&gt;</th><th scope=col>&lt;int&gt;</th></tr>\n",
       "</thead>\n",
       "<tbody>\n",
       "\t<tr><td>seattle_wa</td><td>2016</td><td>10</td><td>tmax</td><td>d1</td><td>63</td></tr>\n",
       "\t<tr><td>seattle_wa</td><td>2016</td><td>10</td><td>tavg</td><td>d1</td><td>56</td></tr>\n",
       "\t<tr><td>seattle_wa</td><td>2016</td><td>10</td><td>tmin</td><td>d1</td><td>50</td></tr>\n",
       "\t<tr><td>seattle_wa</td><td>2016</td><td>11</td><td>tmax</td><td>d1</td><td>57</td></tr>\n",
       "\t<tr><td>seattle_wa</td><td>2016</td><td>11</td><td>tavg</td><td>d1</td><td>54</td></tr>\n",
       "\t<tr><td>seattle_wa</td><td>2016</td><td>11</td><td>tmin</td><td>d1</td><td>50</td></tr>\n",
       "\t<tr><td>seattle_wa</td><td>2016</td><td>10</td><td>tmax</td><td>d2</td><td>64</td></tr>\n",
       "\t<tr><td>seattle_wa</td><td>2016</td><td>10</td><td>tavg</td><td>d2</td><td>57</td></tr>\n",
       "\t<tr><td>seattle_wa</td><td>2016</td><td>10</td><td>tmin</td><td>d2</td><td>50</td></tr>\n",
       "\t<tr><td>seattle_wa</td><td>2016</td><td>11</td><td>tmax</td><td>d2</td><td>57</td></tr>\n",
       "\t<tr><td>seattle_wa</td><td>2016</td><td>11</td><td>tavg</td><td>d2</td><td>54</td></tr>\n",
       "\t<tr><td>seattle_wa</td><td>2016</td><td>11</td><td>tmin</td><td>d2</td><td>51</td></tr>\n",
       "</tbody>\n",
       "</table>\n"
      ],
      "text/latex": [
       "A tibble: 12 × 6\n",
       "\\begin{tabular}{r|llllll}\n",
       " id & year & month & element & day & value\\\\\n",
       " <chr> & <int> & <int> & <chr> & <chr> & <int>\\\\\n",
       "\\hline\n",
       "\t seattle\\_wa & 2016 & 10 & tmax & d1 & 63\\\\\n",
       "\t seattle\\_wa & 2016 & 10 & tavg & d1 & 56\\\\\n",
       "\t seattle\\_wa & 2016 & 10 & tmin & d1 & 50\\\\\n",
       "\t seattle\\_wa & 2016 & 11 & tmax & d1 & 57\\\\\n",
       "\t seattle\\_wa & 2016 & 11 & tavg & d1 & 54\\\\\n",
       "\t seattle\\_wa & 2016 & 11 & tmin & d1 & 50\\\\\n",
       "\t seattle\\_wa & 2016 & 10 & tmax & d2 & 64\\\\\n",
       "\t seattle\\_wa & 2016 & 10 & tavg & d2 & 57\\\\\n",
       "\t seattle\\_wa & 2016 & 10 & tmin & d2 & 50\\\\\n",
       "\t seattle\\_wa & 2016 & 11 & tmax & d2 & 57\\\\\n",
       "\t seattle\\_wa & 2016 & 11 & tavg & d2 & 54\\\\\n",
       "\t seattle\\_wa & 2016 & 11 & tmin & d2 & 51\\\\\n",
       "\\end{tabular}\n"
      ],
      "text/markdown": [
       "\n",
       "A tibble: 12 × 6\n",
       "\n",
       "| id &lt;chr&gt; | year &lt;int&gt; | month &lt;int&gt; | element &lt;chr&gt; | day &lt;chr&gt; | value &lt;int&gt; |\n",
       "|---|---|---|---|---|---|\n",
       "| seattle_wa | 2016 | 10 | tmax | d1 | 63 |\n",
       "| seattle_wa | 2016 | 10 | tavg | d1 | 56 |\n",
       "| seattle_wa | 2016 | 10 | tmin | d1 | 50 |\n",
       "| seattle_wa | 2016 | 11 | tmax | d1 | 57 |\n",
       "| seattle_wa | 2016 | 11 | tavg | d1 | 54 |\n",
       "| seattle_wa | 2016 | 11 | tmin | d1 | 50 |\n",
       "| seattle_wa | 2016 | 10 | tmax | d2 | 64 |\n",
       "| seattle_wa | 2016 | 10 | tavg | d2 | 57 |\n",
       "| seattle_wa | 2016 | 10 | tmin | d2 | 50 |\n",
       "| seattle_wa | 2016 | 11 | tmax | d2 | 57 |\n",
       "| seattle_wa | 2016 | 11 | tavg | d2 | 54 |\n",
       "| seattle_wa | 2016 | 11 | tmin | d2 | 51 |\n",
       "\n"
      ],
      "text/plain": [
       "   id         year month element day value\n",
       "1  seattle_wa 2016 10    tmax    d1  63   \n",
       "2  seattle_wa 2016 10    tavg    d1  56   \n",
       "3  seattle_wa 2016 10    tmin    d1  50   \n",
       "4  seattle_wa 2016 11    tmax    d1  57   \n",
       "5  seattle_wa 2016 11    tavg    d1  54   \n",
       "6  seattle_wa 2016 11    tmin    d1  50   \n",
       "7  seattle_wa 2016 10    tmax    d2  64   \n",
       "8  seattle_wa 2016 10    tavg    d2  57   \n",
       "9  seattle_wa 2016 10    tmin    d2  50   \n",
       "10 seattle_wa 2016 11    tmax    d2  57   \n",
       "11 seattle_wa 2016 11    tavg    d2  54   \n",
       "12 seattle_wa 2016 11    tmin    d2  51   "
      ]
     },
     "metadata": {},
     "output_type": "display_data"
    }
   ],
   "source": [
    "# Turn the columns d1 - d10 into two columns\n",
    "# day column to represent the day\n",
    "# value column to represent the value at that day\n",
    "# Hint: gather() key = day, value = value\n",
    "# Hint: columns can be selected using col1:coln\n",
    "df2 <- df%>% \n",
    "   gather(5:14, key = day, value = value )\n",
    "\n",
    "# glimpse result\n",
    "df2 %>% glimpse()\n",
    "\n",
    "# display result, first 12 rows\n",
    "# Hint: head()\n",
    "df2 %>% head(12)\n"
   ]
  },
  {
   "cell_type": "markdown",
   "metadata": {},
   "source": [
    "Notice there are two columns, day and value and there are more rows than before.\n",
    "\n",
    "Next: Convert day values from character to integers"
   ]
  },
  {
   "cell_type": "markdown",
   "metadata": {},
   "source": [
    "## parse_number()\n",
    "Extract numbers out of an atomic vector. This drops any non-numeric characters before or after the first number. The grouping mark specified by the locale is ignored inside the number. \n",
    "\n",
    "### Usage\n",
    "parse_number(x, na = c(\"\", \"NA\"), locale = default_locale())"
   ]
  },
  {
   "cell_type": "code",
   "execution_count": 22,
   "metadata": {
    "collapsed": true
   },
   "outputs": [],
   "source": [
    "# View help on parse_number()\n",
    "?parse_number()\n"
   ]
  },
  {
   "cell_type": "code",
   "execution_count": 24,
   "metadata": {},
   "outputs": [
    {
     "name": "stdout",
     "output_type": "stream",
     "text": [
      "Observations: 60\n",
      "Variables: 6\n",
      "$ id      \u001b[3m\u001b[90m<chr>\u001b[39m\u001b[23m \"seattle_wa\", \"seattle_wa\", \"seattle_wa\", \"seattle_wa\", \"seat…\n",
      "$ year    \u001b[3m\u001b[90m<int>\u001b[39m\u001b[23m 2016, 2016, 2016, 2016, 2016, 2016, 2016, 2016, 2016, 2016, 2…\n",
      "$ month   \u001b[3m\u001b[90m<int>\u001b[39m\u001b[23m 10, 10, 10, 11, 11, 11, 10, 10, 10, 11, 11, 11, 10, 10, 10, 1…\n",
      "$ day     \u001b[3m\u001b[90m<int>\u001b[39m\u001b[23m 1, 1, 1, 1, 1, 1, 2, 2, 2, 2, 2, 2, 3, 3, 3, 3, 3, 3, 4, 4, 4…\n",
      "$ element \u001b[3m\u001b[90m<chr>\u001b[39m\u001b[23m \"tmax\", \"tavg\", \"tmin\", \"tmax\", \"tavg\", \"tmin\", \"tmax\", \"tavg…\n",
      "$ value   \u001b[3m\u001b[90m<int>\u001b[39m\u001b[23m 63, 56, 50, 57, 54, 50, 64, 57, 50, 57, 54, 51, 61, 56, 51, 6…\n"
     ]
    },
    {
     "data": {
      "text/html": [
       "<table>\n",
       "<caption>A tibble: 12 × 6</caption>\n",
       "<thead>\n",
       "\t<tr><th scope=col>id</th><th scope=col>year</th><th scope=col>month</th><th scope=col>day</th><th scope=col>element</th><th scope=col>value</th></tr>\n",
       "\t<tr><th scope=col>&lt;chr&gt;</th><th scope=col>&lt;int&gt;</th><th scope=col>&lt;int&gt;</th><th scope=col>&lt;int&gt;</th><th scope=col>&lt;chr&gt;</th><th scope=col>&lt;int&gt;</th></tr>\n",
       "</thead>\n",
       "<tbody>\n",
       "\t<tr><td>seattle_wa</td><td>2016</td><td>10</td><td>1</td><td>tmax</td><td>63</td></tr>\n",
       "\t<tr><td>seattle_wa</td><td>2016</td><td>10</td><td>1</td><td>tavg</td><td>56</td></tr>\n",
       "\t<tr><td>seattle_wa</td><td>2016</td><td>10</td><td>1</td><td>tmin</td><td>50</td></tr>\n",
       "\t<tr><td>seattle_wa</td><td>2016</td><td>11</td><td>1</td><td>tmax</td><td>57</td></tr>\n",
       "\t<tr><td>seattle_wa</td><td>2016</td><td>11</td><td>1</td><td>tavg</td><td>54</td></tr>\n",
       "\t<tr><td>seattle_wa</td><td>2016</td><td>11</td><td>1</td><td>tmin</td><td>50</td></tr>\n",
       "\t<tr><td>seattle_wa</td><td>2016</td><td>10</td><td>2</td><td>tmax</td><td>64</td></tr>\n",
       "\t<tr><td>seattle_wa</td><td>2016</td><td>10</td><td>2</td><td>tavg</td><td>57</td></tr>\n",
       "\t<tr><td>seattle_wa</td><td>2016</td><td>10</td><td>2</td><td>tmin</td><td>50</td></tr>\n",
       "\t<tr><td>seattle_wa</td><td>2016</td><td>11</td><td>2</td><td>tmax</td><td>57</td></tr>\n",
       "\t<tr><td>seattle_wa</td><td>2016</td><td>11</td><td>2</td><td>tavg</td><td>54</td></tr>\n",
       "\t<tr><td>seattle_wa</td><td>2016</td><td>11</td><td>2</td><td>tmin</td><td>51</td></tr>\n",
       "</tbody>\n",
       "</table>\n"
      ],
      "text/latex": [
       "A tibble: 12 × 6\n",
       "\\begin{tabular}{r|llllll}\n",
       " id & year & month & day & element & value\\\\\n",
       " <chr> & <int> & <int> & <int> & <chr> & <int>\\\\\n",
       "\\hline\n",
       "\t seattle\\_wa & 2016 & 10 & 1 & tmax & 63\\\\\n",
       "\t seattle\\_wa & 2016 & 10 & 1 & tavg & 56\\\\\n",
       "\t seattle\\_wa & 2016 & 10 & 1 & tmin & 50\\\\\n",
       "\t seattle\\_wa & 2016 & 11 & 1 & tmax & 57\\\\\n",
       "\t seattle\\_wa & 2016 & 11 & 1 & tavg & 54\\\\\n",
       "\t seattle\\_wa & 2016 & 11 & 1 & tmin & 50\\\\\n",
       "\t seattle\\_wa & 2016 & 10 & 2 & tmax & 64\\\\\n",
       "\t seattle\\_wa & 2016 & 10 & 2 & tavg & 57\\\\\n",
       "\t seattle\\_wa & 2016 & 10 & 2 & tmin & 50\\\\\n",
       "\t seattle\\_wa & 2016 & 11 & 2 & tmax & 57\\\\\n",
       "\t seattle\\_wa & 2016 & 11 & 2 & tavg & 54\\\\\n",
       "\t seattle\\_wa & 2016 & 11 & 2 & tmin & 51\\\\\n",
       "\\end{tabular}\n"
      ],
      "text/markdown": [
       "\n",
       "A tibble: 12 × 6\n",
       "\n",
       "| id &lt;chr&gt; | year &lt;int&gt; | month &lt;int&gt; | day &lt;int&gt; | element &lt;chr&gt; | value &lt;int&gt; |\n",
       "|---|---|---|---|---|---|\n",
       "| seattle_wa | 2016 | 10 | 1 | tmax | 63 |\n",
       "| seattle_wa | 2016 | 10 | 1 | tavg | 56 |\n",
       "| seattle_wa | 2016 | 10 | 1 | tmin | 50 |\n",
       "| seattle_wa | 2016 | 11 | 1 | tmax | 57 |\n",
       "| seattle_wa | 2016 | 11 | 1 | tavg | 54 |\n",
       "| seattle_wa | 2016 | 11 | 1 | tmin | 50 |\n",
       "| seattle_wa | 2016 | 10 | 2 | tmax | 64 |\n",
       "| seattle_wa | 2016 | 10 | 2 | tavg | 57 |\n",
       "| seattle_wa | 2016 | 10 | 2 | tmin | 50 |\n",
       "| seattle_wa | 2016 | 11 | 2 | tmax | 57 |\n",
       "| seattle_wa | 2016 | 11 | 2 | tavg | 54 |\n",
       "| seattle_wa | 2016 | 11 | 2 | tmin | 51 |\n",
       "\n"
      ],
      "text/plain": [
       "   id         year month day element value\n",
       "1  seattle_wa 2016 10    1   tmax    63   \n",
       "2  seattle_wa 2016 10    1   tavg    56   \n",
       "3  seattle_wa 2016 10    1   tmin    50   \n",
       "4  seattle_wa 2016 11    1   tmax    57   \n",
       "5  seattle_wa 2016 11    1   tavg    54   \n",
       "6  seattle_wa 2016 11    1   tmin    50   \n",
       "7  seattle_wa 2016 10    2   tmax    64   \n",
       "8  seattle_wa 2016 10    2   tavg    57   \n",
       "9  seattle_wa 2016 10    2   tmin    50   \n",
       "10 seattle_wa 2016 11    2   tmax    57   \n",
       "11 seattle_wa 2016 11    2   tavg    54   \n",
       "12 seattle_wa 2016 11    2   tmin    51   "
      ]
     },
     "metadata": {},
     "output_type": "display_data"
    }
   ],
   "source": [
    "# Convert day column to integer\n",
    "# reorder columns so day is just to the right of month\n",
    "# store in df3\n",
    "# Hint: Use, parse_number() and as.integer()\n",
    "df3 <- df2 %>% mutate(day = parse_number(day) %>% as.integer()) %>% \n",
    "   select(id, year, month, day, element, value)\n",
    "\n",
    "# glimpse result\n",
    "df3 %>% glimpse()\n",
    "\n",
    "# display result, first 12 rows\n",
    "# Hint: head()\n",
    "df3 %>% head(12)\n"
   ]
  },
  {
   "cell_type": "markdown",
   "metadata": {},
   "source": [
    "Notice year, month, and day columns are all integers and next to each other. \n",
    "\n",
    "Next: Combine year, month, and day to a single date field"
   ]
  },
  {
   "cell_type": "markdown",
   "metadata": {},
   "source": [
    "## make_date()\n",
    "Efficient creation of date-times from numeric representations. make_datetime is a very fast drop-in replacement for base::ISOdate and base::ISOdatetime. make_date produces objects of class Date. \n",
    "#### Usage\n",
    "make_date(year = 1970L, month = 1L, day = 1L)"
   ]
  },
  {
   "cell_type": "code",
   "execution_count": 25,
   "metadata": {
    "collapsed": true
   },
   "outputs": [],
   "source": [
    "# View help on make_date()\n",
    "?make_date()\n"
   ]
  },
  {
   "cell_type": "code",
   "execution_count": 26,
   "metadata": {},
   "outputs": [
    {
     "name": "stdout",
     "output_type": "stream",
     "text": [
      "Observations: 60\n",
      "Variables: 4\n",
      "$ id      \u001b[3m\u001b[90m<chr>\u001b[39m\u001b[23m \"seattle_wa\", \"seattle_wa\", \"seattle_wa\", \"seattle_wa\", \"seat…\n",
      "$ date    \u001b[3m\u001b[90m<date>\u001b[39m\u001b[23m 2016-10-01, 2016-10-01, 2016-10-01, 2016-11-01, 2016-11-01, …\n",
      "$ element \u001b[3m\u001b[90m<chr>\u001b[39m\u001b[23m \"tmax\", \"tavg\", \"tmin\", \"tmax\", \"tavg\", \"tmin\", \"tmax\", \"tavg…\n",
      "$ value   \u001b[3m\u001b[90m<int>\u001b[39m\u001b[23m 63, 56, 50, 57, 54, 50, 64, 57, 50, 57, 54, 51, 61, 56, 51, 6…\n"
     ]
    },
    {
     "data": {
      "text/html": [
       "<table>\n",
       "<caption>A tibble: 12 × 4</caption>\n",
       "<thead>\n",
       "\t<tr><th scope=col>id</th><th scope=col>date</th><th scope=col>element</th><th scope=col>value</th></tr>\n",
       "\t<tr><th scope=col>&lt;chr&gt;</th><th scope=col>&lt;date&gt;</th><th scope=col>&lt;chr&gt;</th><th scope=col>&lt;int&gt;</th></tr>\n",
       "</thead>\n",
       "<tbody>\n",
       "\t<tr><td>seattle_wa</td><td>2016-10-01</td><td>tmax</td><td>63</td></tr>\n",
       "\t<tr><td>seattle_wa</td><td>2016-10-01</td><td>tavg</td><td>56</td></tr>\n",
       "\t<tr><td>seattle_wa</td><td>2016-10-01</td><td>tmin</td><td>50</td></tr>\n",
       "\t<tr><td>seattle_wa</td><td>2016-11-01</td><td>tmax</td><td>57</td></tr>\n",
       "\t<tr><td>seattle_wa</td><td>2016-11-01</td><td>tavg</td><td>54</td></tr>\n",
       "\t<tr><td>seattle_wa</td><td>2016-11-01</td><td>tmin</td><td>50</td></tr>\n",
       "\t<tr><td>seattle_wa</td><td>2016-10-02</td><td>tmax</td><td>64</td></tr>\n",
       "\t<tr><td>seattle_wa</td><td>2016-10-02</td><td>tavg</td><td>57</td></tr>\n",
       "\t<tr><td>seattle_wa</td><td>2016-10-02</td><td>tmin</td><td>50</td></tr>\n",
       "\t<tr><td>seattle_wa</td><td>2016-11-02</td><td>tmax</td><td>57</td></tr>\n",
       "\t<tr><td>seattle_wa</td><td>2016-11-02</td><td>tavg</td><td>54</td></tr>\n",
       "\t<tr><td>seattle_wa</td><td>2016-11-02</td><td>tmin</td><td>51</td></tr>\n",
       "</tbody>\n",
       "</table>\n"
      ],
      "text/latex": [
       "A tibble: 12 × 4\n",
       "\\begin{tabular}{r|llll}\n",
       " id & date & element & value\\\\\n",
       " <chr> & <date> & <chr> & <int>\\\\\n",
       "\\hline\n",
       "\t seattle\\_wa & 2016-10-01 & tmax & 63\\\\\n",
       "\t seattle\\_wa & 2016-10-01 & tavg & 56\\\\\n",
       "\t seattle\\_wa & 2016-10-01 & tmin & 50\\\\\n",
       "\t seattle\\_wa & 2016-11-01 & tmax & 57\\\\\n",
       "\t seattle\\_wa & 2016-11-01 & tavg & 54\\\\\n",
       "\t seattle\\_wa & 2016-11-01 & tmin & 50\\\\\n",
       "\t seattle\\_wa & 2016-10-02 & tmax & 64\\\\\n",
       "\t seattle\\_wa & 2016-10-02 & tavg & 57\\\\\n",
       "\t seattle\\_wa & 2016-10-02 & tmin & 50\\\\\n",
       "\t seattle\\_wa & 2016-11-02 & tmax & 57\\\\\n",
       "\t seattle\\_wa & 2016-11-02 & tavg & 54\\\\\n",
       "\t seattle\\_wa & 2016-11-02 & tmin & 51\\\\\n",
       "\\end{tabular}\n"
      ],
      "text/markdown": [
       "\n",
       "A tibble: 12 × 4\n",
       "\n",
       "| id &lt;chr&gt; | date &lt;date&gt; | element &lt;chr&gt; | value &lt;int&gt; |\n",
       "|---|---|---|---|\n",
       "| seattle_wa | 2016-10-01 | tmax | 63 |\n",
       "| seattle_wa | 2016-10-01 | tavg | 56 |\n",
       "| seattle_wa | 2016-10-01 | tmin | 50 |\n",
       "| seattle_wa | 2016-11-01 | tmax | 57 |\n",
       "| seattle_wa | 2016-11-01 | tavg | 54 |\n",
       "| seattle_wa | 2016-11-01 | tmin | 50 |\n",
       "| seattle_wa | 2016-10-02 | tmax | 64 |\n",
       "| seattle_wa | 2016-10-02 | tavg | 57 |\n",
       "| seattle_wa | 2016-10-02 | tmin | 50 |\n",
       "| seattle_wa | 2016-11-02 | tmax | 57 |\n",
       "| seattle_wa | 2016-11-02 | tavg | 54 |\n",
       "| seattle_wa | 2016-11-02 | tmin | 51 |\n",
       "\n"
      ],
      "text/plain": [
       "   id         date       element value\n",
       "1  seattle_wa 2016-10-01 tmax    63   \n",
       "2  seattle_wa 2016-10-01 tavg    56   \n",
       "3  seattle_wa 2016-10-01 tmin    50   \n",
       "4  seattle_wa 2016-11-01 tmax    57   \n",
       "5  seattle_wa 2016-11-01 tavg    54   \n",
       "6  seattle_wa 2016-11-01 tmin    50   \n",
       "7  seattle_wa 2016-10-02 tmax    64   \n",
       "8  seattle_wa 2016-10-02 tavg    57   \n",
       "9  seattle_wa 2016-10-02 tmin    50   \n",
       "10 seattle_wa 2016-11-02 tmax    57   \n",
       "11 seattle_wa 2016-11-02 tavg    54   \n",
       "12 seattle_wa 2016-11-02 tmin    51   "
      ]
     },
     "metadata": {},
     "output_type": "display_data"
    }
   ],
   "source": [
    "# Combine year, month, and day into \n",
    "# a single column, date with datatype date\n",
    "# Order columns so date is to the right of id\n",
    "# Remove year, month, and day columns\n",
    "# Store result in df4\n",
    "# Hint: make_date()\n",
    "df4 <- df3 %>% mutate(date = make_date(year, month, day)) %>% \n",
    "   select(id, date, element, value)\n",
    "\n",
    "# glimpse result\n",
    "df4 %>% glimpse()\n",
    "\n",
    "# display result, first 12 rows\n",
    "df4 %>% head(12)\n"
   ]
  },
  {
   "cell_type": "markdown",
   "metadata": {},
   "source": [
    "Notice there is a single date column representing the date. \n",
    "\n",
    "There are still three rows per date. We want one row per date. \n",
    "\n",
    "Next: Change the element measurements from a single row to multiple columns"
   ]
  },
  {
   "cell_type": "markdown",
   "metadata": {},
   "source": [
    "## spread()\n",
    "Spread a key-value pair across multiple columns.\n",
    "### Usage\n",
    "spread(data, key, value, fill = NA, convert = FALSE, drop = TRUE, sep = NULL)"
   ]
  },
  {
   "cell_type": "code",
   "execution_count": 28,
   "metadata": {
    "collapsed": true
   },
   "outputs": [],
   "source": [
    "# View help on spread()\n",
    "?spread()\n"
   ]
  },
  {
   "cell_type": "code",
   "execution_count": 30,
   "metadata": {},
   "outputs": [
    {
     "name": "stdout",
     "output_type": "stream",
     "text": [
      "Observations: 20\n",
      "Variables: 5\n",
      "$ id   \u001b[3m\u001b[90m<chr>\u001b[39m\u001b[23m \"seattle_wa\", \"seattle_wa\", \"seattle_wa\", \"seattle_wa\", \"seattle…\n",
      "$ date \u001b[3m\u001b[90m<date>\u001b[39m\u001b[23m 2016-10-01, 2016-10-02, 2016-10-03, 2016-10-04, 2016-10-05, 201…\n",
      "$ tmax \u001b[3m\u001b[90m<int>\u001b[39m\u001b[23m 63, 64, 61, 63, 66, 63, 64, 68, 57, 60, 57, 57, 64, 64, 57, 61, …\n",
      "$ tavg \u001b[3m\u001b[90m<int>\u001b[39m\u001b[23m 56, 57, 56, 57, 58, 59, 59, 60, 54, 53, 54, 54, 56, 53, 55, 54, …\n",
      "$ tmin \u001b[3m\u001b[90m<int>\u001b[39m\u001b[23m 50, 50, 51, 53, 53, 55, 55, 53, 50, 46, 50, 51, 46, 42, 52, 48, …\n"
     ]
    },
    {
     "data": {
      "text/html": [
       "<table>\n",
       "<caption>A tibble: 12 × 5</caption>\n",
       "<thead>\n",
       "\t<tr><th scope=col>id</th><th scope=col>date</th><th scope=col>tmax</th><th scope=col>tavg</th><th scope=col>tmin</th></tr>\n",
       "\t<tr><th scope=col>&lt;chr&gt;</th><th scope=col>&lt;date&gt;</th><th scope=col>&lt;int&gt;</th><th scope=col>&lt;int&gt;</th><th scope=col>&lt;int&gt;</th></tr>\n",
       "</thead>\n",
       "<tbody>\n",
       "\t<tr><td>seattle_wa</td><td>2016-10-01</td><td>63</td><td>56</td><td>50</td></tr>\n",
       "\t<tr><td>seattle_wa</td><td>2016-10-02</td><td>64</td><td>57</td><td>50</td></tr>\n",
       "\t<tr><td>seattle_wa</td><td>2016-10-03</td><td>61</td><td>56</td><td>51</td></tr>\n",
       "\t<tr><td>seattle_wa</td><td>2016-10-04</td><td>63</td><td>57</td><td>53</td></tr>\n",
       "\t<tr><td>seattle_wa</td><td>2016-10-05</td><td>66</td><td>58</td><td>53</td></tr>\n",
       "\t<tr><td>seattle_wa</td><td>2016-10-06</td><td>63</td><td>59</td><td>55</td></tr>\n",
       "\t<tr><td>seattle_wa</td><td>2016-10-07</td><td>64</td><td>59</td><td>55</td></tr>\n",
       "\t<tr><td>seattle_wa</td><td>2016-10-08</td><td>68</td><td>60</td><td>53</td></tr>\n",
       "\t<tr><td>seattle_wa</td><td>2016-10-09</td><td>57</td><td>54</td><td>50</td></tr>\n",
       "\t<tr><td>seattle_wa</td><td>2016-10-10</td><td>60</td><td>53</td><td>46</td></tr>\n",
       "\t<tr><td>seattle_wa</td><td>2016-11-01</td><td>57</td><td>54</td><td>50</td></tr>\n",
       "\t<tr><td>seattle_wa</td><td>2016-11-02</td><td>57</td><td>54</td><td>51</td></tr>\n",
       "</tbody>\n",
       "</table>\n"
      ],
      "text/latex": [
       "A tibble: 12 × 5\n",
       "\\begin{tabular}{r|lllll}\n",
       " id & date & tmax & tavg & tmin\\\\\n",
       " <chr> & <date> & <int> & <int> & <int>\\\\\n",
       "\\hline\n",
       "\t seattle\\_wa & 2016-10-01 & 63 & 56 & 50\\\\\n",
       "\t seattle\\_wa & 2016-10-02 & 64 & 57 & 50\\\\\n",
       "\t seattle\\_wa & 2016-10-03 & 61 & 56 & 51\\\\\n",
       "\t seattle\\_wa & 2016-10-04 & 63 & 57 & 53\\\\\n",
       "\t seattle\\_wa & 2016-10-05 & 66 & 58 & 53\\\\\n",
       "\t seattle\\_wa & 2016-10-06 & 63 & 59 & 55\\\\\n",
       "\t seattle\\_wa & 2016-10-07 & 64 & 59 & 55\\\\\n",
       "\t seattle\\_wa & 2016-10-08 & 68 & 60 & 53\\\\\n",
       "\t seattle\\_wa & 2016-10-09 & 57 & 54 & 50\\\\\n",
       "\t seattle\\_wa & 2016-10-10 & 60 & 53 & 46\\\\\n",
       "\t seattle\\_wa & 2016-11-01 & 57 & 54 & 50\\\\\n",
       "\t seattle\\_wa & 2016-11-02 & 57 & 54 & 51\\\\\n",
       "\\end{tabular}\n"
      ],
      "text/markdown": [
       "\n",
       "A tibble: 12 × 5\n",
       "\n",
       "| id &lt;chr&gt; | date &lt;date&gt; | tmax &lt;int&gt; | tavg &lt;int&gt; | tmin &lt;int&gt; |\n",
       "|---|---|---|---|---|\n",
       "| seattle_wa | 2016-10-01 | 63 | 56 | 50 |\n",
       "| seattle_wa | 2016-10-02 | 64 | 57 | 50 |\n",
       "| seattle_wa | 2016-10-03 | 61 | 56 | 51 |\n",
       "| seattle_wa | 2016-10-04 | 63 | 57 | 53 |\n",
       "| seattle_wa | 2016-10-05 | 66 | 58 | 53 |\n",
       "| seattle_wa | 2016-10-06 | 63 | 59 | 55 |\n",
       "| seattle_wa | 2016-10-07 | 64 | 59 | 55 |\n",
       "| seattle_wa | 2016-10-08 | 68 | 60 | 53 |\n",
       "| seattle_wa | 2016-10-09 | 57 | 54 | 50 |\n",
       "| seattle_wa | 2016-10-10 | 60 | 53 | 46 |\n",
       "| seattle_wa | 2016-11-01 | 57 | 54 | 50 |\n",
       "| seattle_wa | 2016-11-02 | 57 | 54 | 51 |\n",
       "\n"
      ],
      "text/plain": [
       "   id         date       tmax tavg tmin\n",
       "1  seattle_wa 2016-10-01 63   56   50  \n",
       "2  seattle_wa 2016-10-02 64   57   50  \n",
       "3  seattle_wa 2016-10-03 61   56   51  \n",
       "4  seattle_wa 2016-10-04 63   57   53  \n",
       "5  seattle_wa 2016-10-05 66   58   53  \n",
       "6  seattle_wa 2016-10-06 63   59   55  \n",
       "7  seattle_wa 2016-10-07 64   59   55  \n",
       "8  seattle_wa 2016-10-08 68   60   53  \n",
       "9  seattle_wa 2016-10-09 57   54   50  \n",
       "10 seattle_wa 2016-10-10 60   53   46  \n",
       "11 seattle_wa 2016-11-01 57   54   50  \n",
       "12 seattle_wa 2016-11-02 57   54   51  "
      ]
     },
     "metadata": {},
     "output_type": "display_data"
    }
   ],
   "source": [
    "# Change the element column to a column for every\n",
    "# unique value of this column\n",
    "# Move the associated value in the value column \n",
    "# to the newly created column\n",
    "# Column order should be tmax, tavg, tmin\n",
    "# store the result in df5\n",
    "# Hint: element and value columns are replaced by tmax, tavg, tmin\n",
    "# Hint: spread() key = element\n",
    "df5 <- df4 %>% spread(key = element, value = value) %>% \n",
    "   select(id, date, tmax, tavg, tmin)\n",
    "\n",
    "# glimpse result\n",
    "df5 %>% glimpse()\n",
    "\n",
    "# display result, top 12 rows\n",
    "df5 %>% head(12)\n"
   ]
  },
  {
   "cell_type": "markdown",
   "metadata": {},
   "source": [
    "Notice there is one row per day and three variables tmax, tavg, and tmin. \n",
    "\n",
    "Next: The id combines both city and state. Split these out into two columns."
   ]
  },
  {
   "cell_type": "markdown",
   "metadata": {},
   "source": [
    "## separate()\n",
    "Separate one column into multiple columns. Given either regular expression or a vector of character positions, separate() turns a single character column into multiple columns.\n",
    "### Usage\n",
    "separate(data, col, into, sep = \"[^[:alnum:]]+\", remove = TRUE, convert = FALSE, extra = \"warn\", fill = \"warn\", ...)"
   ]
  },
  {
   "cell_type": "code",
   "execution_count": 32,
   "metadata": {},
   "outputs": [
    {
     "data": {
      "text/html": [
       "<table>\n",
       "<caption>A data.frame: 4 × 2</caption>\n",
       "<thead>\n",
       "\t<tr><th scope=col>A</th><th scope=col>B</th></tr>\n",
       "\t<tr><th scope=col>&lt;chr&gt;</th><th scope=col>&lt;chr&gt;</th></tr>\n",
       "</thead>\n",
       "<tbody>\n",
       "\t<tr><td>NA</td><td>NA</td></tr>\n",
       "\t<tr><td>a </td><td>b </td></tr>\n",
       "\t<tr><td>a </td><td>d </td></tr>\n",
       "\t<tr><td>b </td><td>c </td></tr>\n",
       "</tbody>\n",
       "</table>\n"
      ],
      "text/latex": [
       "A data.frame: 4 × 2\n",
       "\\begin{tabular}{r|ll}\n",
       " A & B\\\\\n",
       " <chr> & <chr>\\\\\n",
       "\\hline\n",
       "\t NA & NA\\\\\n",
       "\t a  & b \\\\\n",
       "\t a  & d \\\\\n",
       "\t b  & c \\\\\n",
       "\\end{tabular}\n"
      ],
      "text/markdown": [
       "\n",
       "A data.frame: 4 × 2\n",
       "\n",
       "| A &lt;chr&gt; | B &lt;chr&gt; |\n",
       "|---|---|\n",
       "| NA | NA |\n",
       "| a  | b  |\n",
       "| a  | d  |\n",
       "| b  | c  |\n",
       "\n"
      ],
      "text/plain": [
       "  A  B \n",
       "1 NA NA\n",
       "2 a  b \n",
       "3 a  d \n",
       "4 b  c "
      ]
     },
     "metadata": {},
     "output_type": "display_data"
    },
    {
     "name": "stderr",
     "output_type": "stream",
     "text": [
      "Warning message:\n",
      "“Expected 2 pieces. Additional pieces discarded in 1 rows [3].”Warning message:\n",
      "“Expected 2 pieces. Missing pieces filled with `NA` in 1 rows [1].”"
     ]
    },
    {
     "data": {
      "text/html": [
       "<table>\n",
       "<caption>A data.frame: 4 × 2</caption>\n",
       "<thead>\n",
       "\t<tr><th scope=col>a</th><th scope=col>b</th></tr>\n",
       "\t<tr><th scope=col>&lt;chr&gt;</th><th scope=col>&lt;chr&gt;</th></tr>\n",
       "</thead>\n",
       "<tbody>\n",
       "\t<tr><td>a </td><td>NA</td></tr>\n",
       "\t<tr><td>a </td><td>b </td></tr>\n",
       "\t<tr><td>a </td><td>b </td></tr>\n",
       "\t<tr><td>NA</td><td>NA</td></tr>\n",
       "</tbody>\n",
       "</table>\n"
      ],
      "text/latex": [
       "A data.frame: 4 × 2\n",
       "\\begin{tabular}{r|ll}\n",
       " a & b\\\\\n",
       " <chr> & <chr>\\\\\n",
       "\\hline\n",
       "\t a  & NA\\\\\n",
       "\t a  & b \\\\\n",
       "\t a  & b \\\\\n",
       "\t NA & NA\\\\\n",
       "\\end{tabular}\n"
      ],
      "text/markdown": [
       "\n",
       "A data.frame: 4 × 2\n",
       "\n",
       "| a &lt;chr&gt; | b &lt;chr&gt; |\n",
       "|---|---|\n",
       "| a  | NA |\n",
       "| a  | b  |\n",
       "| a  | b  |\n",
       "| NA | NA |\n",
       "\n"
      ],
      "text/plain": [
       "  a  b \n",
       "1 a  NA\n",
       "2 a  b \n",
       "3 a  b \n",
       "4 NA NA"
      ]
     },
     "metadata": {},
     "output_type": "display_data"
    },
    {
     "data": {
      "text/html": [
       "<table>\n",
       "<caption>A data.frame: 4 × 2</caption>\n",
       "<thead>\n",
       "\t<tr><th scope=col>a</th><th scope=col>b</th></tr>\n",
       "\t<tr><th scope=col>&lt;chr&gt;</th><th scope=col>&lt;chr&gt;</th></tr>\n",
       "</thead>\n",
       "<tbody>\n",
       "\t<tr><td>a </td><td>NA</td></tr>\n",
       "\t<tr><td>a </td><td>b </td></tr>\n",
       "\t<tr><td>a </td><td>b </td></tr>\n",
       "\t<tr><td>NA</td><td>NA</td></tr>\n",
       "</tbody>\n",
       "</table>\n"
      ],
      "text/latex": [
       "A data.frame: 4 × 2\n",
       "\\begin{tabular}{r|ll}\n",
       " a & b\\\\\n",
       " <chr> & <chr>\\\\\n",
       "\\hline\n",
       "\t a  & NA\\\\\n",
       "\t a  & b \\\\\n",
       "\t a  & b \\\\\n",
       "\t NA & NA\\\\\n",
       "\\end{tabular}\n"
      ],
      "text/markdown": [
       "\n",
       "A data.frame: 4 × 2\n",
       "\n",
       "| a &lt;chr&gt; | b &lt;chr&gt; |\n",
       "|---|---|\n",
       "| a  | NA |\n",
       "| a  | b  |\n",
       "| a  | b  |\n",
       "| NA | NA |\n",
       "\n"
      ],
      "text/plain": [
       "  a  b \n",
       "1 a  NA\n",
       "2 a  b \n",
       "3 a  b \n",
       "4 NA NA"
      ]
     },
     "metadata": {},
     "output_type": "display_data"
    },
    {
     "data": {
      "text/html": [
       "<table>\n",
       "<caption>A data.frame: 4 × 2</caption>\n",
       "<thead>\n",
       "\t<tr><th scope=col>a</th><th scope=col>b</th></tr>\n",
       "\t<tr><th scope=col>&lt;chr&gt;</th><th scope=col>&lt;chr&gt;</th></tr>\n",
       "</thead>\n",
       "<tbody>\n",
       "\t<tr><td>NA</td><td>a  </td></tr>\n",
       "\t<tr><td>a </td><td>b  </td></tr>\n",
       "\t<tr><td>a </td><td>b c</td></tr>\n",
       "\t<tr><td>NA</td><td>NA </td></tr>\n",
       "</tbody>\n",
       "</table>\n"
      ],
      "text/latex": [
       "A data.frame: 4 × 2\n",
       "\\begin{tabular}{r|ll}\n",
       " a & b\\\\\n",
       " <chr> & <chr>\\\\\n",
       "\\hline\n",
       "\t NA & a  \\\\\n",
       "\t a  & b  \\\\\n",
       "\t a  & b c\\\\\n",
       "\t NA & NA \\\\\n",
       "\\end{tabular}\n"
      ],
      "text/markdown": [
       "\n",
       "A data.frame: 4 × 2\n",
       "\n",
       "| a &lt;chr&gt; | b &lt;chr&gt; |\n",
       "|---|---|\n",
       "| NA | a   |\n",
       "| a  | b   |\n",
       "| a  | b c |\n",
       "| NA | NA  |\n",
       "\n"
      ],
      "text/plain": [
       "  a  b  \n",
       "1 NA a  \n",
       "2 a  b  \n",
       "3 a  b c\n",
       "4 NA NA "
      ]
     },
     "metadata": {},
     "output_type": "display_data"
    },
    {
     "data": {
      "text/html": [
       "<table>\n",
       "<caption>A data.frame: 2 × 2</caption>\n",
       "<thead>\n",
       "\t<tr><th scope=col>key</th><th scope=col>value</th></tr>\n",
       "\t<tr><th scope=col>&lt;chr&gt;</th><th scope=col>&lt;chr&gt;</th></tr>\n",
       "</thead>\n",
       "<tbody>\n",
       "\t<tr><td>x</td><td>123     </td></tr>\n",
       "\t<tr><td>y</td><td>error: 7</td></tr>\n",
       "</tbody>\n",
       "</table>\n"
      ],
      "text/latex": [
       "A data.frame: 2 × 2\n",
       "\\begin{tabular}{r|ll}\n",
       " key & value\\\\\n",
       " <chr> & <chr>\\\\\n",
       "\\hline\n",
       "\t x & 123     \\\\\n",
       "\t y & error: 7\\\\\n",
       "\\end{tabular}\n"
      ],
      "text/markdown": [
       "\n",
       "A data.frame: 2 × 2\n",
       "\n",
       "| key &lt;chr&gt; | value &lt;chr&gt; |\n",
       "|---|---|\n",
       "| x | 123      |\n",
       "| y | error: 7 |\n",
       "\n"
      ],
      "text/plain": [
       "  key value   \n",
       "1 x   123     \n",
       "2 y   error: 7"
      ]
     },
     "metadata": {},
     "output_type": "display_data"
    }
   ],
   "source": [
    "# View help on separate()\n",
    "df <- data.frame(x = c(NA, \"a.b\", \"a.d\", \"b.c\"))\n",
    "df %>% separate(x, c(\"A\", \"B\"))\n",
    "\n",
    "# If every row doesn't split into the same number of pieces, use\n",
    "# the extra and fill arguments to control what happens\n",
    "df <- data.frame(x = c(\"a\", \"a b\", \"a b c\", NA))\n",
    "df %>% separate(x, c(\"a\", \"b\"))\n",
    "# The same behaviour but no warnings\n",
    "df %>% separate(x, c(\"a\", \"b\"), extra = \"drop\", fill = \"right\")\n",
    "# Another option:\n",
    "df %>% separate(x, c(\"a\", \"b\"), extra = \"merge\", fill = \"left\")\n",
    "\n",
    "# If only want to split specified number of times use extra = \"merge\"\n",
    "df <- data.frame(x = c(\"x: 123\", \"y: error: 7\"))\n",
    "df %>% separate(x, c(\"key\", \"value\"), \": \", extra = \"merge\")\n"
   ]
  },
  {
   "cell_type": "code",
   "execution_count": 37,
   "metadata": {},
   "outputs": [
    {
     "name": "stdout",
     "output_type": "stream",
     "text": [
      "Observations: 20\n",
      "Variables: 6\n",
      "$ state \u001b[3m\u001b[90m<chr>\u001b[39m\u001b[23m \"wa\", \"wa\", \"wa\", \"wa\", \"wa\", \"wa\", \"wa\", \"wa\", \"wa\", \"wa\", \"wa…\n",
      "$ city  \u001b[3m\u001b[90m<chr>\u001b[39m\u001b[23m \"seattle\", \"seattle\", \"seattle\", \"seattle\", \"seattle\", \"seattle…\n",
      "$ date  \u001b[3m\u001b[90m<date>\u001b[39m\u001b[23m 2016-10-01, 2016-10-02, 2016-10-03, 2016-10-04, 2016-10-05, 20…\n",
      "$ tmax  \u001b[3m\u001b[90m<int>\u001b[39m\u001b[23m 63, 64, 61, 63, 66, 63, 64, 68, 57, 60, 57, 57, 64, 64, 57, 61,…\n",
      "$ tavg  \u001b[3m\u001b[90m<int>\u001b[39m\u001b[23m 56, 57, 56, 57, 58, 59, 59, 60, 54, 53, 54, 54, 56, 53, 55, 54,…\n",
      "$ tmin  \u001b[3m\u001b[90m<int>\u001b[39m\u001b[23m 50, 50, 51, 53, 53, 55, 55, 53, 50, 46, 50, 51, 46, 42, 52, 48,…\n"
     ]
    },
    {
     "data": {
      "text/html": [
       "<table>\n",
       "<caption>A tibble: 6 × 6</caption>\n",
       "<thead>\n",
       "\t<tr><th scope=col>state</th><th scope=col>city</th><th scope=col>date</th><th scope=col>tmax</th><th scope=col>tavg</th><th scope=col>tmin</th></tr>\n",
       "\t<tr><th scope=col>&lt;chr&gt;</th><th scope=col>&lt;chr&gt;</th><th scope=col>&lt;date&gt;</th><th scope=col>&lt;int&gt;</th><th scope=col>&lt;int&gt;</th><th scope=col>&lt;int&gt;</th></tr>\n",
       "</thead>\n",
       "<tbody>\n",
       "\t<tr><td>wa</td><td>seattle</td><td>2016-10-01</td><td>63</td><td>56</td><td>50</td></tr>\n",
       "\t<tr><td>wa</td><td>seattle</td><td>2016-10-02</td><td>64</td><td>57</td><td>50</td></tr>\n",
       "\t<tr><td>wa</td><td>seattle</td><td>2016-10-03</td><td>61</td><td>56</td><td>51</td></tr>\n",
       "\t<tr><td>wa</td><td>seattle</td><td>2016-10-04</td><td>63</td><td>57</td><td>53</td></tr>\n",
       "\t<tr><td>wa</td><td>seattle</td><td>2016-10-05</td><td>66</td><td>58</td><td>53</td></tr>\n",
       "\t<tr><td>wa</td><td>seattle</td><td>2016-10-06</td><td>63</td><td>59</td><td>55</td></tr>\n",
       "</tbody>\n",
       "</table>\n"
      ],
      "text/latex": [
       "A tibble: 6 × 6\n",
       "\\begin{tabular}{r|llllll}\n",
       " state & city & date & tmax & tavg & tmin\\\\\n",
       " <chr> & <chr> & <date> & <int> & <int> & <int>\\\\\n",
       "\\hline\n",
       "\t wa & seattle & 2016-10-01 & 63 & 56 & 50\\\\\n",
       "\t wa & seattle & 2016-10-02 & 64 & 57 & 50\\\\\n",
       "\t wa & seattle & 2016-10-03 & 61 & 56 & 51\\\\\n",
       "\t wa & seattle & 2016-10-04 & 63 & 57 & 53\\\\\n",
       "\t wa & seattle & 2016-10-05 & 66 & 58 & 53\\\\\n",
       "\t wa & seattle & 2016-10-06 & 63 & 59 & 55\\\\\n",
       "\\end{tabular}\n"
      ],
      "text/markdown": [
       "\n",
       "A tibble: 6 × 6\n",
       "\n",
       "| state &lt;chr&gt; | city &lt;chr&gt; | date &lt;date&gt; | tmax &lt;int&gt; | tavg &lt;int&gt; | tmin &lt;int&gt; |\n",
       "|---|---|---|---|---|---|\n",
       "| wa | seattle | 2016-10-01 | 63 | 56 | 50 |\n",
       "| wa | seattle | 2016-10-02 | 64 | 57 | 50 |\n",
       "| wa | seattle | 2016-10-03 | 61 | 56 | 51 |\n",
       "| wa | seattle | 2016-10-04 | 63 | 57 | 53 |\n",
       "| wa | seattle | 2016-10-05 | 66 | 58 | 53 |\n",
       "| wa | seattle | 2016-10-06 | 63 | 59 | 55 |\n",
       "\n"
      ],
      "text/plain": [
       "  state city    date       tmax tavg tmin\n",
       "1 wa    seattle 2016-10-01 63   56   50  \n",
       "2 wa    seattle 2016-10-02 64   57   50  \n",
       "3 wa    seattle 2016-10-03 61   56   51  \n",
       "4 wa    seattle 2016-10-04 63   57   53  \n",
       "5 wa    seattle 2016-10-05 66   58   53  \n",
       "6 wa    seattle 2016-10-06 63   59   55  "
      ]
     },
     "metadata": {},
     "output_type": "display_data"
    }
   ],
   "source": [
    "# Split id into city and state columns\n",
    "# city and state columns should be ordered first\n",
    "# Store result in df6\n",
    "# remove id column\n",
    "# Hint: separate() col = id\n",
    "df6 <- df5 %>% separate(id, c('city', 'state')) %>%\n",
    "   select(state, city, date, tmax, tavg, tmin)\n",
    "\n",
    "# glimpse result\n",
    "df6 %>% glimpse()\n",
    "\n",
    "# display result, first 6 rows\n",
    "df6 %>% head()\n"
   ]
  },
  {
   "cell_type": "markdown",
   "metadata": {},
   "source": [
    "Notice the data now adheres to the tidy data principles:\n",
    "1. Each variable forms a column.\n",
    "2. Each observation forms a row.\n",
    "3. Each observational unit forms a table.\n",
    "\n",
    "If this were in a data warehouse using star schema, then this table would be considered a fact table since it contains the observations, tmax, tavg, and tmin. state, city, and date would be moved to dimension tables and referenced with surrogate key ID values.\n",
    "\n",
    "Next: Plot result"
   ]
  },
  {
   "cell_type": "code",
   "execution_count": 39,
   "metadata": {},
   "outputs": [
    {
     "data": {
      "image/png": "[encoded data removed]",
      "text/plain": [
       "plot without title"
      ]
     },
     "metadata": {},
     "output_type": "display_data"
    }
   ],
   "source": [
    "# Create a point and line plot\n",
    "# x-axis is date, y axis is tavg\n",
    "# data: df6\n",
    "df5 %>% ggplot(aes(date, tavg)) + \n",
    "   geom_point() + \n",
    "   geom_line()\n"
   ]
  },
  {
   "cell_type": "code",
   "execution_count": 41,
   "metadata": {},
   "outputs": [
    {
     "data": {
      "image/png": "[encoded data removed]",
      "text/plain": [
       "plot without title"
      ]
     },
     "metadata": {},
     "output_type": "display_data"
    }
   ],
   "source": [
    "# Plot all tmax, tavg, and tmin as y axis\n",
    "# x axis is date\n",
    "# data: df6\n",
    "# point and line geometries plus color\n",
    "# Hint: use gather() key = element\n",
    "df6 %>% \n",
    "   gather(4:6, key = element, value = temps) %>% \n",
    "   ggplot(aes(x = date, y = temps, color = city)) +\n",
    "      geom_point() +\n",
    "      geom_line()\n"
   ]
  },
  {
   "cell_type": "markdown",
   "metadata": {},
   "source": [
    "Notice the peak max temperature. \n",
    "\n",
    "## Code Recap"
   ]
  },
  {
   "cell_type": "code",
   "execution_count": 46,
   "metadata": {},
   "outputs": [
    {
     "name": "stderr",
     "output_type": "stream",
     "text": [
      "Parsed with column specification:\n",
      "cols(\n",
      "  id = col_character(),\n",
      "  year = col_integer(),\n",
      "  month = col_integer(),\n",
      "  element = col_character(),\n",
      "  d1 = col_integer(),\n",
      "  d2 = col_integer(),\n",
      "  d3 = col_integer(),\n",
      "  d4 = col_integer(),\n",
      "  d5 = col_integer(),\n",
      "  d6 = col_integer(),\n",
      "  d7 = col_integer(),\n",
      "  d8 = col_integer(),\n",
      "  d9 = col_integer(),\n",
      "  d10 = col_integer()\n",
      ")\n"
     ]
    }
   ],
   "source": [
    "# Load libraries\n",
    "library(\"stringr\")    # stringr\n",
    "library(\"lubridate\")  # lubridate\n",
    "library(\"tidyverse\")  # tidyverse\n",
    "\n",
    "\n",
    "# Import sample data\n",
    "# file: weather.csv \n",
    "# Store in df\n",
    "# Hint: read_csv()\n",
    "df <- read_csv(\"weather.csv\")\n",
    "\n",
    "# Turn the columns d1 - d10 into two columns\n",
    "# day column to represent the day\n",
    "# value column to represent the value at that day\n",
    "# Hint: gather() key = day, value = value\n",
    "# Hint: columns can be selected using col1:coln\n",
    "df2 <- df %>% \n",
    "   gather(5:14, key = day, value = value)"
   ]
  },
  {
   "cell_type": "code",
   "execution_count": 47,
   "metadata": {
    "collapsed": true
   },
   "outputs": [],
   "source": [
    "# Convert day column to integer\n",
    "# reorder columns so day is just to the right of month\n",
    "# store in df3\n",
    "# Hint: Use, parse_number() and as.integer()\n",
    "df3 <- df2 %>% mutate(day = parse_number(day) %>% as.integer()) %>% \n",
    "   select(id, year, month, day, element, value)"
   ]
  },
  {
   "cell_type": "code",
   "execution_count": 49,
   "metadata": {},
   "outputs": [
    {
     "name": "stdout",
     "output_type": "stream",
     "text": [
      "Observations: 60\n",
      "Variables: 4\n",
      "$ id      \u001b[3m\u001b[90m<chr>\u001b[39m\u001b[23m \"seattle_wa\", \"seattle_wa\", \"seattle_wa\", \"seattle_wa\", \"seat…\n",
      "$ date    \u001b[3m\u001b[90m<date>\u001b[39m\u001b[23m 2016-10-01, 2016-10-01, 2016-10-01, 2016-11-01, 2016-11-01, …\n",
      "$ element \u001b[3m\u001b[90m<chr>\u001b[39m\u001b[23m \"tmax\", \"tavg\", \"tmin\", \"tmax\", \"tavg\", \"tmin\", \"tmax\", \"tavg…\n",
      "$ value   \u001b[3m\u001b[90m<int>\u001b[39m\u001b[23m 63, 56, 50, 57, 54, 50, 64, 57, 50, 57, 54, 51, 61, 56, 51, 6…\n"
     ]
    }
   ],
   "source": [
    "# Combine year, month, and day into \n",
    "# a single column, date with datatype date\n",
    "# Order columns so date is to the right of id\n",
    "# Remove year, month, and day columns\n",
    "# Store result in df4\n",
    "# Hint: make_date()\n",
    "df4 <- df3 %>% mutate(date = make_date(year, month, day)) %>% \n",
    "   select(id, date, element,value)\n",
    "\n",
    "df4 %>% glimpse()"
   ]
  },
  {
   "cell_type": "code",
   "execution_count": 52,
   "metadata": {
    "scrolled": false
   },
   "outputs": [
    {
     "name": "stdout",
     "output_type": "stream",
     "text": [
      "Observations: 20\n",
      "Variables: 6\n",
      "$ state \u001b[3m\u001b[90m<chr>\u001b[39m\u001b[23m \"wa\", \"wa\", \"wa\", \"wa\", \"wa\", \"wa\", \"wa\", \"wa\", \"wa\", \"wa\", \"wa…\n",
      "$ city  \u001b[3m\u001b[90m<chr>\u001b[39m\u001b[23m \"seattle\", \"seattle\", \"seattle\", \"seattle\", \"seattle\", \"seattle…\n",
      "$ date  \u001b[3m\u001b[90m<date>\u001b[39m\u001b[23m 2016-10-01, 2016-10-02, 2016-10-03, 2016-10-04, 2016-10-05, 20…\n",
      "$ tmax  \u001b[3m\u001b[90m<int>\u001b[39m\u001b[23m 63, 64, 61, 63, 66, 63, 64, 68, 57, 60, 57, 57, 64, 64, 57, 61,…\n",
      "$ tavg  \u001b[3m\u001b[90m<int>\u001b[39m\u001b[23m 56, 57, 56, 57, 58, 59, 59, 60, 54, 53, 54, 54, 56, 53, 55, 54,…\n",
      "$ tmin  \u001b[3m\u001b[90m<int>\u001b[39m\u001b[23m 50, 50, 51, 53, 53, 55, 55, 53, 50, 46, 50, 51, 46, 42, 52, 48,…\n"
     ]
    },
    {
     "data": {
      "text/html": [
       "<table>\n",
       "<caption>A tibble: 6 × 6</caption>\n",
       "<thead>\n",
       "\t<tr><th scope=col>state</th><th scope=col>city</th><th scope=col>date</th><th scope=col>tmax</th><th scope=col>tavg</th><th scope=col>tmin</th></tr>\n",
       "\t<tr><th scope=col>&lt;chr&gt;</th><th scope=col>&lt;chr&gt;</th><th scope=col>&lt;date&gt;</th><th scope=col>&lt;int&gt;</th><th scope=col>&lt;int&gt;</th><th scope=col>&lt;int&gt;</th></tr>\n",
       "</thead>\n",
       "<tbody>\n",
       "\t<tr><td>wa</td><td>seattle</td><td>2016-10-01</td><td>63</td><td>56</td><td>50</td></tr>\n",
       "\t<tr><td>wa</td><td>seattle</td><td>2016-10-02</td><td>64</td><td>57</td><td>50</td></tr>\n",
       "\t<tr><td>wa</td><td>seattle</td><td>2016-10-03</td><td>61</td><td>56</td><td>51</td></tr>\n",
       "\t<tr><td>wa</td><td>seattle</td><td>2016-10-04</td><td>63</td><td>57</td><td>53</td></tr>\n",
       "\t<tr><td>wa</td><td>seattle</td><td>2016-10-05</td><td>66</td><td>58</td><td>53</td></tr>\n",
       "\t<tr><td>wa</td><td>seattle</td><td>2016-10-06</td><td>63</td><td>59</td><td>55</td></tr>\n",
       "</tbody>\n",
       "</table>\n"
      ],
      "text/latex": [
       "A tibble: 6 × 6\n",
       "\\begin{tabular}{r|llllll}\n",
       " state & city & date & tmax & tavg & tmin\\\\\n",
       " <chr> & <chr> & <date> & <int> & <int> & <int>\\\\\n",
       "\\hline\n",
       "\t wa & seattle & 2016-10-01 & 63 & 56 & 50\\\\\n",
       "\t wa & seattle & 2016-10-02 & 64 & 57 & 50\\\\\n",
       "\t wa & seattle & 2016-10-03 & 61 & 56 & 51\\\\\n",
       "\t wa & seattle & 2016-10-04 & 63 & 57 & 53\\\\\n",
       "\t wa & seattle & 2016-10-05 & 66 & 58 & 53\\\\\n",
       "\t wa & seattle & 2016-10-06 & 63 & 59 & 55\\\\\n",
       "\\end{tabular}\n"
      ],
      "text/markdown": [
       "\n",
       "A tibble: 6 × 6\n",
       "\n",
       "| state &lt;chr&gt; | city &lt;chr&gt; | date &lt;date&gt; | tmax &lt;int&gt; | tavg &lt;int&gt; | tmin &lt;int&gt; |\n",
       "|---|---|---|---|---|---|\n",
       "| wa | seattle | 2016-10-01 | 63 | 56 | 50 |\n",
       "| wa | seattle | 2016-10-02 | 64 | 57 | 50 |\n",
       "| wa | seattle | 2016-10-03 | 61 | 56 | 51 |\n",
       "| wa | seattle | 2016-10-04 | 63 | 57 | 53 |\n",
       "| wa | seattle | 2016-10-05 | 66 | 58 | 53 |\n",
       "| wa | seattle | 2016-10-06 | 63 | 59 | 55 |\n",
       "\n"
      ],
      "text/plain": [
       "  state city    date       tmax tavg tmin\n",
       "1 wa    seattle 2016-10-01 63   56   50  \n",
       "2 wa    seattle 2016-10-02 64   57   50  \n",
       "3 wa    seattle 2016-10-03 61   56   51  \n",
       "4 wa    seattle 2016-10-04 63   57   53  \n",
       "5 wa    seattle 2016-10-05 66   58   53  \n",
       "6 wa    seattle 2016-10-06 63   59   55  "
      ]
     },
     "metadata": {},
     "output_type": "display_data"
    },
    {
     "data": {
      "image/png": "[encoded data removed]",
      "text/plain": [
       "plot without title"
      ]
     },
     "metadata": {},
     "output_type": "display_data"
    }
   ],
   "source": [
    "# Change the element column to a column for every\n",
    "# unique value of this column\n",
    "# Move the associated value in the value column \n",
    "# to the newly created column\n",
    "# Column order should be tmax, tavg, tmin\n",
    "# store the result in df5\n",
    "# Hint: element and value columns are replaced by tmax, tavg, tmin\n",
    "# Hint: spread() key = element\n",
    "df5 <- df4 %>%  spread(key = element, value = value ) %>% \n",
    "   select(id, date, tmax, tavg, tmin)\n",
    "\n",
    "# Split id into city and state columns\n",
    "# city and state columns should be ordered first\n",
    "# Store result in df6\n",
    "# remove id column\n",
    "# Hint: separate() col = id\n",
    "df6 <- df5 %>% separate(id, c('city', 'state')) %>%\n",
    "   select(state, city, date, tmax, tavg, tmin)\n",
    "\n",
    "# glimpse result\n",
    "df6 %>% glimpse()\n",
    "\n",
    "# display first 6 rows of result\n",
    "df6 %>% head(6)\n",
    "\n",
    "# Plot all tmax, tavg, and tmin as y axis\n",
    "# x axis is date\n",
    "# data: df6\n",
    "# point and line geometries plus color\n",
    "# Hint: use gather() key = element\n",
    "df6 %>% \n",
    "   gather(4:6, key = element, value = temps) %>% \n",
    "   ggplot(aes(date, temps , color = state)) +\n",
    "      geom_point() +\n",
    "      geom_line()"
   ]
  },
  {
   "cell_type": "markdown",
   "metadata": {},
   "source": [
    "# Summary\n",
    "The tidyverse contains a number of packages and functions that, when combined together, enable you to organize your data into tidy data. "
   ]
  }
 ],
 "metadata": {
  "kernelspec": {
   "display_name": "R 3.5.1",
   "language": "R",
   "name": "ir"
  },
  "language_info": {
   "codemirror_mode": "r",
   "file_extension": ".r",
   "mimetype": "text/x-r-source",
   "name": "R",
   "pygments_lexer": "r",
   "version": "3.5.1"
  }
 },
 "nbformat": 4,
 "nbformat_minor": 1
}
