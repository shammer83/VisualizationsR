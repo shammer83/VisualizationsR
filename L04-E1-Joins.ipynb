{
 "cells": [
  {
   "cell_type": "markdown",
   "metadata": {},
   "source": [
    "# L04-1-Joins\n",
    "## Assignment Instructions\n",
    "Rename with your name in place of Studentname and make your edits and updates here.\n"
   ]
  },
  {
   "cell_type": "markdown",
   "metadata": {},
   "source": [
    "# Joining Data\n",
    "In this exercise, you join data from multiple data frames together. It is common to import data from multiple SQL tables which are related to each other. Given multiple data frames with one or more related column, you use various join functions from the dplyr tidyverse package to combine them together. \n",
    "\n",
    "\n",
    "## R Features\n",
    "* library()\n",
    "* dbConnect()\n",
    "* print()\n",
    "* dbGetQuery()\n",
    "* glimpse()\n",
    "* nrow() \n",
    "* distinct()\n",
    "* inner_join()\n",
    "* left_join()\n",
    "* right_join()\n",
    "* full_join()\n",
    "* rename()\n",
    "* select()\n",
    "* semi_join()\n",
    "* anti_join()\n",
    "* filter()\n",
    "* dbDisconnect()\n",
    "\n",
    "## Datasets\n",
    "* AdventureWorks"
   ]
  },
  {
   "cell_type": "code",
   "execution_count": 4,
   "metadata": {
    "scrolled": false
   },
   "outputs": [
    {
     "name": "stderr",
     "output_type": "stream",
     "text": [
      "── \u001b[1mAttaching packages\u001b[22m ─────────────────────────────────────── tidyverse 1.2.1 ──\n",
      "\u001b[32m✔\u001b[39m \u001b[34mggplot2\u001b[39m 3.2.0     \u001b[32m✔\u001b[39m \u001b[34mpurrr  \u001b[39m 0.2.5\n",
      "\u001b[32m✔\u001b[39m \u001b[34mtibble \u001b[39m 2.1.3     \u001b[32m✔\u001b[39m \u001b[34mdplyr  \u001b[39m 0.8.3\n",
      "\u001b[32m✔\u001b[39m \u001b[34mtidyr  \u001b[39m 0.8.1     \u001b[32m✔\u001b[39m \u001b[34mstringr\u001b[39m 1.3.1\n",
      "\u001b[32m✔\u001b[39m \u001b[34mreadr  \u001b[39m 1.1.1     \u001b[32m✔\u001b[39m \u001b[34mforcats\u001b[39m 0.3.0\n",
      "── \u001b[1mConflicts\u001b[22m ────────────────────────────────────────── tidyverse_conflicts() ──\n",
      "\u001b[31m✖\u001b[39m \u001b[34mdplyr\u001b[39m::\u001b[32mfilter()\u001b[39m masks \u001b[34mstats\u001b[39m::filter()\n",
      "\u001b[31m✖\u001b[39m \u001b[34mdplyr\u001b[39m::\u001b[32mlag()\u001b[39m    masks \u001b[34mstats\u001b[39m::lag()\n"
     ]
    }
   ],
   "source": [
    "# Load libraries\n",
    "library(odbc) # odbc\n",
    "library(DBI) # DBI\n",
    "library(tidyverse) # tidyverse"
   ]
  },
  {
   "cell_type": "markdown",
   "metadata": {},
   "source": [
    "## Import several related SQL tables\n",
    "Connect to the AdventureWorks SQL database and download some tables"
   ]
  },
  {
   "cell_type": "code",
   "execution_count": 5,
   "metadata": {},
   "outputs": [
    {
     "name": "stdout",
     "output_type": "stream",
     "text": [
      "<OdbcConnection> sqlstudentreader@UWC-SQLSERVER\n",
      "  Database: AdventureWorks2016CTP3\n",
      "  Microsoft SQL Server Version: 13.00.4259\n"
     ]
    }
   ],
   "source": [
    "# Connection string info\n",
    "# Already completed, just run the code block\n",
    "# Everyone uses the same SQL credentials\n",
    "driver_name <- \"ODBC Driver 13 for SQL Server\"\n",
    "server_name <- \"uwc-sqlserver.clients.uw.edu\"\n",
    "database_name <- \"AdventureWorks2016CTP3\" \n",
    "user_id <- \"sqlstudentreader\"\n",
    "password <- \"PA6aX2gAhe4hE!ru$6atru\"\n",
    "\n",
    "# Connect to the database\n",
    "# Store connection in conn variable\n",
    "conn <- dbConnect(odbc::odbc(), \n",
    "                  driver = driver_name, \n",
    "                  server = server_name, \n",
    "                  database = database_name,\n",
    "                  uid = user_id,\n",
    "                  pwd = password)\n",
    "\n",
    "# Print the connection object\n",
    "print(conn)"
   ]
  },
  {
   "cell_type": "markdown",
   "metadata": {},
   "source": [
    "## Sales Order Tables\n",
    "Table: Sales.SalesOrderHeader\n",
    "* Primary Key: SalesOrderID (PK)\n",
    "* Foreign Keys: CustomerID, SalesPersonID, TerritoryID, BillToAddressID, ShipToAddressID, ShipMethodID, CurrencyRateID\n",
    "\n",
    "Table: Sales.SalesOrderDetail\n",
    "* Primary Key: SalesOrderDetail\n",
    "* Foreign Keys: SalesOrderID, ProductID, SpecialOfferID"
   ]
  },
  {
   "cell_type": "code",
   "execution_count": 6,
   "metadata": {},
   "outputs": [
    {
     "name": "stdout",
     "output_type": "stream",
     "text": [
      "Observations: 31,465\n",
      "Variables: 26\n",
      "$ SalesOrderID           \u001b[3m\u001b[90m<int>\u001b[39m\u001b[23m 43659, 43660, 43661, 43662, 43663, 43664, 4366…\n",
      "$ RevisionNumber         \u001b[3m\u001b[90m<int>\u001b[39m\u001b[23m 8, 8, 8, 8, 8, 8, 8, 8, 8, 8, 8, 8, 8, 8, 8, 8…\n",
      "$ OrderDate              \u001b[3m\u001b[90m<dttm>\u001b[39m\u001b[23m 2011-05-31, 2011-05-31, 2011-05-31, 2011-05-3…\n",
      "$ DueDate                \u001b[3m\u001b[90m<dttm>\u001b[39m\u001b[23m 2011-06-12, 2011-06-12, 2011-06-12, 2011-06-1…\n",
      "$ ShipDate               \u001b[3m\u001b[90m<dttm>\u001b[39m\u001b[23m 2011-06-07, 2011-06-07, 2011-06-07, 2011-06-0…\n",
      "$ Status                 \u001b[3m\u001b[90m<int>\u001b[39m\u001b[23m 5, 5, 5, 5, 5, 5, 5, 5, 5, 5, 5, 5, 5, 5, 5, 5…\n",
      "$ OnlineOrderFlag        \u001b[3m\u001b[90m<lgl>\u001b[39m\u001b[23m FALSE, FALSE, FALSE, FALSE, FALSE, FALSE, FALS…\n",
      "$ SalesOrderNumber       \u001b[3m\u001b[90m<chr>\u001b[39m\u001b[23m \"SO43659\", \"SO43660\", \"SO43661\", \"SO43662\", \"S…\n",
      "$ PurchaseOrderNumber    \u001b[3m\u001b[90m<chr>\u001b[39m\u001b[23m \"PO522145787\", \"PO18850127500\", \"PO18473189620…\n",
      "$ AccountNumber          \u001b[3m\u001b[90m<chr>\u001b[39m\u001b[23m \"10-4020-000676\", \"10-4020-000117\", \"10-4020-0…\n",
      "$ CustomerID             \u001b[3m\u001b[90m<int>\u001b[39m\u001b[23m 29825, 29672, 29734, 29994, 29565, 29898, 2958…\n",
      "$ SalesPersonID          \u001b[3m\u001b[90m<int>\u001b[39m\u001b[23m 279, 279, 282, 282, 276, 280, 283, 276, 277, 2…\n",
      "$ TerritoryID            \u001b[3m\u001b[90m<int>\u001b[39m\u001b[23m 5, 5, 6, 6, 4, 1, 1, 4, 3, 6, 1, 3, 1, 6, 2, 6…\n",
      "$ BillToAddressID        \u001b[3m\u001b[90m<int>\u001b[39m\u001b[23m 985, 921, 517, 482, 1073, 876, 849, 1074, 629,…\n",
      "$ ShipToAddressID        \u001b[3m\u001b[90m<int>\u001b[39m\u001b[23m 985, 921, 517, 482, 1073, 876, 849, 1074, 629,…\n",
      "$ ShipMethodID           \u001b[3m\u001b[90m<int>\u001b[39m\u001b[23m 5, 5, 5, 5, 5, 5, 5, 5, 5, 5, 5, 5, 5, 5, 5, 5…\n",
      "$ CreditCardID           \u001b[3m\u001b[90m<int>\u001b[39m\u001b[23m 16281, 5618, 1346, 10456, 4322, 806, 15232, 13…\n",
      "$ CreditCardApprovalCode \u001b[3m\u001b[90m<chr>\u001b[39m\u001b[23m \"105041Vi84182\", \"115213Vi29411\", \"85274Vi6854…\n",
      "$ CurrencyRateID         \u001b[3m\u001b[90m<int>\u001b[39m\u001b[23m NA, NA, 4, 4, NA, NA, NA, NA, NA, 4, NA, NA, N…\n",
      "$ SubTotal               \u001b[3m\u001b[90m<dbl>\u001b[39m\u001b[23m 20565.6206, 1294.2529, 32726.4786, 28832.5289,…\n",
      "$ TaxAmt                 \u001b[3m\u001b[90m<dbl>\u001b[39m\u001b[23m 1971.5149, 124.2483, 3153.7696, 2775.1646, 40.…\n",
      "$ Freight                \u001b[3m\u001b[90m<dbl>\u001b[39m\u001b[23m 616.0984, 38.8276, 985.5530, 867.2389, 12.5838…\n",
      "$ TotalDue               \u001b[3m\u001b[90m<dbl>\u001b[39m\u001b[23m 23153.2339, 1457.3288, 36865.8012, 32474.9324,…\n",
      "$ Comment                \u001b[3m\u001b[90m<chr>\u001b[39m\u001b[23m NA, NA, NA, NA, NA, NA, NA, NA, NA, NA, NA, NA…\n",
      "$ rowguid                \u001b[3m\u001b[90m<chr>\u001b[39m\u001b[23m \"79B65321-39CA-4115-9CBA-8FE0903E12E6\", \"738DC…\n",
      "$ ModifiedDate           \u001b[3m\u001b[90m<dttm>\u001b[39m\u001b[23m 2011-06-07, 2011-06-07, 2011-06-07, 2011-06-0…\n",
      "Observations: 121,317\n",
      "Variables: 11\n",
      "$ SalesOrderID          \u001b[3m\u001b[90m<int>\u001b[39m\u001b[23m 43659, 43659, 43659, 43659, 43659, 43659, 43659…\n",
      "$ SalesOrderDetailID    \u001b[3m\u001b[90m<int>\u001b[39m\u001b[23m 1, 2, 3, 4, 5, 6, 7, 8, 9, 10, 11, 12, 13, 14, …\n",
      "$ CarrierTrackingNumber \u001b[3m\u001b[90m<chr>\u001b[39m\u001b[23m \"4911-403C-98\", \"4911-403C-98\", \"4911-403C-98\",…\n",
      "$ OrderQty              \u001b[3m\u001b[90m<int>\u001b[39m\u001b[23m 1, 3, 1, 1, 1, 2, 1, 3, 1, 6, 2, 4, 1, 1, 1, 1,…\n",
      "$ ProductID             \u001b[3m\u001b[90m<int>\u001b[39m\u001b[23m 776, 777, 778, 771, 772, 773, 774, 714, 716, 70…\n",
      "$ SpecialOfferID        \u001b[3m\u001b[90m<int>\u001b[39m\u001b[23m 1, 1, 1, 1, 1, 1, 1, 1, 1, 1, 1, 1, 1, 1, 1, 1,…\n",
      "$ UnitPrice             \u001b[3m\u001b[90m<dbl>\u001b[39m\u001b[23m 2024.9940, 2024.9940, 2024.9940, 2039.9940, 203…\n",
      "$ UnitPriceDiscount     \u001b[3m\u001b[90m<dbl>\u001b[39m\u001b[23m 0, 0, 0, 0, 0, 0, 0, 0, 0, 0, 0, 0, 0, 0, 0, 0,…\n",
      "$ LineTotal             \u001b[3m\u001b[90m<dbl>\u001b[39m\u001b[23m 2024.9940, 6074.9820, 2024.9940, 2039.9940, 203…\n",
      "$ rowguid               \u001b[3m\u001b[90m<chr>\u001b[39m\u001b[23m \"B207C96D-D9E6-402B-8470-2CC176C42283\", \"7ABB60…\n",
      "$ ModifiedDate          \u001b[3m\u001b[90m<dttm>\u001b[39m\u001b[23m 2011-05-31, 2011-05-31, 2011-05-31, 2011-05-31…\n"
     ]
    }
   ],
   "source": [
    "# Get Sales.SalesOrderHeader\n",
    "sql_select <- \"SELECT * FROM Sales.SalesOrderHeader\"\n",
    "df_sales_order_header <- conn %>% \n",
    "   dbGetQuery(sql_select)\n",
    "\n",
    "# Get Sales.SalesOrderDetail\n",
    "sql_select <- \"SELECT * FROM Sales.SalesOrderDetail\"\n",
    "df_sales_order_detail <- conn %>% \n",
    "   dbGetQuery(sql_select)\n",
    "\n",
    "# Glimpse results\n",
    "glimpse(df_sales_order_header)\n",
    "glimpse(df_sales_order_detail)"
   ]
  },
  {
   "cell_type": "markdown",
   "metadata": {},
   "source": [
    "Notice the number of rows for the two tables. Which table has the larger number of rows? Why? \n",
    "\n",
    "Notice that the SalesOrderID column is present in both tables. In SalesOrderHeader it is the primary key meaning that there is only one row for each unique value. In SalesOrderDetail it is a foreign key and multiple rows may have the same value."
   ]
  },
  {
   "cell_type": "markdown",
   "metadata": {},
   "source": [
    "## Distinct()\n",
    "\n",
    "Select distinct/unique rows. Retain only unique/distinct rows from an input tbl. This is similar to unique.data.frame, but considerably faster. \n",
    "\n",
    "distinct(.data, ..., .keep_all = FALSE)"
   ]
  },
  {
   "cell_type": "code",
   "execution_count": 7,
   "metadata": {
    "collapsed": true
   },
   "outputs": [],
   "source": [
    "# View help on distinct()\n",
    "?distinct()"
   ]
  },
  {
   "cell_type": "code",
   "execution_count": 8,
   "metadata": {},
   "outputs": [
    {
     "data": {
      "text/html": [
       "31465"
      ],
      "text/latex": [
       "31465"
      ],
      "text/markdown": [
       "31465"
      ],
      "text/plain": [
       "[1] 31465"
      ]
     },
     "metadata": {},
     "output_type": "display_data"
    },
    {
     "data": {
      "text/html": [
       "31465"
      ],
      "text/latex": [
       "31465"
      ],
      "text/markdown": [
       "31465"
      ],
      "text/plain": [
       "[1] 31465"
      ]
     },
     "metadata": {},
     "output_type": "display_data"
    }
   ],
   "source": [
    "# Get the row count for \n",
    "# Sales.SalesOrderHeader\n",
    "# Hint: nrow()\n",
    "df_sales_order_header %>% \n",
    "    nrow()\n",
    "\n",
    "# Get the distinct row count for \n",
    "# Sales.SalesOrderHeader/SalesOrderID\n",
    "# Hint: distinct() and nrow()\n",
    "df_sales_order_header %>% \n",
    "   distinct(SalesOrderID) %>% \n",
    "   nrow()"
   ]
  },
  {
   "cell_type": "markdown",
   "metadata": {},
   "source": [
    "Notice that the overall row count and the distinct row count for SalesOrderID is the same. This is required for the primary key."
   ]
  },
  {
   "cell_type": "code",
   "execution_count": 9,
   "metadata": {},
   "outputs": [
    {
     "data": {
      "text/html": [
       "121317"
      ],
      "text/latex": [
       "121317"
      ],
      "text/markdown": [
       "121317"
      ],
      "text/plain": [
       "[1] 121317"
      ]
     },
     "metadata": {},
     "output_type": "display_data"
    },
    {
     "data": {
      "text/html": [
       "31465"
      ],
      "text/latex": [
       "31465"
      ],
      "text/markdown": [
       "31465"
      ],
      "text/plain": [
       "[1] 31465"
      ]
     },
     "metadata": {},
     "output_type": "display_data"
    }
   ],
   "source": [
    "# Get the row count for \n",
    "# Sales.SalesOrderDetail\n",
    "# Hint: nrow()\n",
    "df_sales_order_detail %>% \n",
    "   nrow()\n",
    "\n",
    "# Get the distinct row count for \n",
    "# Sales.SalesOrderDetail/SalesOrderID\n",
    "# Hint: distinct() and nrow()\n",
    "df_sales_order_detail %>% \n",
    "   distinct(SalesOrderID) %>% \n",
    "   nrow()"
   ]
  },
  {
   "cell_type": "markdown",
   "metadata": {},
   "source": [
    "Notice that the overall row count is much larger than the distinct values of SalesOrderID. This is because SalesOrderID is a foreign key with values used more than once. The grain of the sales order *detail* table is one row per sales transaction AND product ID. This allows storing of quantity of each product purchased. In contrast, the sales order *header* does not contain product ID or its quantity purchased. \n",
    "\n",
    "Also notice that the unique values matched the number of rows for the sales order header table. This is a sign of clean data with SQL referrential integrity enabled to ensure that they match. There can be no header row without a detail row. There can be no detail row without a header row."
   ]
  },
  {
   "cell_type": "markdown",
   "metadata": {},
   "source": [
    "## Joins\n",
    "Join two tables together. \n",
    "\n",
    "### Usage\n",
    "inner_join(x, y, by = NULL, copy = FALSE, suffix = c(\".x\", \".y\"), ...)\n",
    "\n",
    "left_join(x, y, by = NULL, copy = FALSE, suffix = c(\".x\", \".y\"), ...)\n",
    "\n",
    "right_join(x, y, by = NULL, copy = FALSE, suffix = c(\".x\", \".y\"), ...)\n",
    "\n",
    "full_join(x, y, by = NULL, copy = FALSE, suffix = c(\".x\", \".y\"), ...)\n",
    "\n",
    "semi_join(x, y, by = NULL, copy = FALSE, ...)\n",
    "\n",
    "anti_join(x, y, by = NULL, copy = FALSE, ...)\n",
    "\n",
    "### Arguments\n",
    "* x, y tbls to join\n",
    "* by a character vector of variables to join by. If NULL, the default, join will do a natural join, using all variables with common names across the two tables. A message lists the variables so that you can check they're right (to suppress the message, simply explicitly list the variables that you want to join). To join by different variables on x and y use a named vector. For example, by = c(\"a\" = \"b\") will match x.a to y.b.\n",
    "\n",
    "### Join types\n",
    "Currently dplyr supports four join types: \n",
    "* inner_join return all rows from x where there are matching values in y, and all columns from x and y. If there are multiple matches between x and y, all combination of the matches are returned.\n",
    "* left_join return all rows from x, and all columns from x and y. Rows in x with no match in y will have NA values in the new columns. If there are multiple matches between x and y, all combinations of the matches are returned.\n",
    "* right_join return all rows from y, and all columns from x and y. Rows in y with no match in x will have NA values in the new columns. If there are multiple matches between x and y, all combinations of the matches are returned.\n",
    "* semi_join return all rows from x where there are matching values in y, keeping just columns from x. A semi join differs from an inner join because an inner join will return one row of x for each matching row of y, where a semi join will never duplicate rows of x.\n",
    "* anti_join return all rows from x where there are not matching values in y, keeping just columns from x.\n",
    "* full_join return all rows and all columns from both x and y. Where there are not matching values, returns NA for the one missing."
   ]
  },
  {
   "cell_type": "code",
   "execution_count": 10,
   "metadata": {
    "collapsed": true
   },
   "outputs": [],
   "source": [
    "# View help on inner join\n",
    "?inner_join()"
   ]
  },
  {
   "cell_type": "code",
   "execution_count": 11,
   "metadata": {},
   "outputs": [
    {
     "name": "stderr",
     "output_type": "stream",
     "text": [
      "Joining, by = c(\"SalesOrderID\", \"rowguid\", \"ModifiedDate\")\n"
     ]
    },
    {
     "name": "stdout",
     "output_type": "stream",
     "text": [
      "Observations: 0\n",
      "Variables: 34\n",
      "$ SalesOrderID           \u001b[3m\u001b[90m<int>\u001b[39m\u001b[23m \n",
      "$ RevisionNumber         \u001b[3m\u001b[90m<int>\u001b[39m\u001b[23m \n",
      "$ OrderDate              \u001b[3m\u001b[90m<dttm>\u001b[39m\u001b[23m \n",
      "$ DueDate                \u001b[3m\u001b[90m<dttm>\u001b[39m\u001b[23m \n",
      "$ ShipDate               \u001b[3m\u001b[90m<dttm>\u001b[39m\u001b[23m \n",
      "$ Status                 \u001b[3m\u001b[90m<int>\u001b[39m\u001b[23m \n",
      "$ OnlineOrderFlag        \u001b[3m\u001b[90m<lgl>\u001b[39m\u001b[23m \n",
      "$ SalesOrderNumber       \u001b[3m\u001b[90m<chr>\u001b[39m\u001b[23m \n",
      "$ PurchaseOrderNumber    \u001b[3m\u001b[90m<chr>\u001b[39m\u001b[23m \n",
      "$ AccountNumber          \u001b[3m\u001b[90m<chr>\u001b[39m\u001b[23m \n",
      "$ CustomerID             \u001b[3m\u001b[90m<int>\u001b[39m\u001b[23m \n",
      "$ SalesPersonID          \u001b[3m\u001b[90m<int>\u001b[39m\u001b[23m \n",
      "$ TerritoryID            \u001b[3m\u001b[90m<int>\u001b[39m\u001b[23m \n",
      "$ BillToAddressID        \u001b[3m\u001b[90m<int>\u001b[39m\u001b[23m \n",
      "$ ShipToAddressID        \u001b[3m\u001b[90m<int>\u001b[39m\u001b[23m \n",
      "$ ShipMethodID           \u001b[3m\u001b[90m<int>\u001b[39m\u001b[23m \n",
      "$ CreditCardID           \u001b[3m\u001b[90m<int>\u001b[39m\u001b[23m \n",
      "$ CreditCardApprovalCode \u001b[3m\u001b[90m<chr>\u001b[39m\u001b[23m \n",
      "$ CurrencyRateID         \u001b[3m\u001b[90m<int>\u001b[39m\u001b[23m \n",
      "$ SubTotal               \u001b[3m\u001b[90m<dbl>\u001b[39m\u001b[23m \n",
      "$ TaxAmt                 \u001b[3m\u001b[90m<dbl>\u001b[39m\u001b[23m \n",
      "$ Freight                \u001b[3m\u001b[90m<dbl>\u001b[39m\u001b[23m \n",
      "$ TotalDue               \u001b[3m\u001b[90m<dbl>\u001b[39m\u001b[23m \n",
      "$ Comment                \u001b[3m\u001b[90m<chr>\u001b[39m\u001b[23m \n",
      "$ rowguid                \u001b[3m\u001b[90m<chr>\u001b[39m\u001b[23m \n",
      "$ ModifiedDate           \u001b[3m\u001b[90m<dttm>\u001b[39m\u001b[23m \n",
      "$ SalesOrderDetailID     \u001b[3m\u001b[90m<int>\u001b[39m\u001b[23m \n",
      "$ CarrierTrackingNumber  \u001b[3m\u001b[90m<chr>\u001b[39m\u001b[23m \n",
      "$ OrderQty               \u001b[3m\u001b[90m<int>\u001b[39m\u001b[23m \n",
      "$ ProductID              \u001b[3m\u001b[90m<int>\u001b[39m\u001b[23m \n",
      "$ SpecialOfferID         \u001b[3m\u001b[90m<int>\u001b[39m\u001b[23m \n",
      "$ UnitPrice              \u001b[3m\u001b[90m<dbl>\u001b[39m\u001b[23m \n",
      "$ UnitPriceDiscount      \u001b[3m\u001b[90m<dbl>\u001b[39m\u001b[23m \n",
      "$ LineTotal              \u001b[3m\u001b[90m<dbl>\u001b[39m\u001b[23m \n"
     ]
    }
   ],
   "source": [
    "# Join Sales.SalesOrderHeader and Sales.SalesOrderDetails\n",
    "# using inner_join() \n",
    "# using automatic join column (omit the 'by' parameter)\n",
    "# store as df_sales_order_inner\n",
    "df_sales_order_inner <- df_sales_order_header %>%\n",
    "   inner_join(df_sales_order_detail)\n",
    "\n",
    "# Glimpse result\n",
    "glimpse(df_sales_order_inner)"
   ]
  },
  {
   "cell_type": "markdown",
   "metadata": {},
   "source": [
    "Notice the error message in red and the number of rows returned. inner_join() selected all the columns that had matching names between the two dataframes as its best guess for which columns to join on. Although we wanted to join on the primary key which was just SalesOrderID, there were two more columns in common between the two tables, rowguid and ModifiedDate. The values of all three columns needed to match exactly in order to return any rows. Thus no rows were returned because there were no exact matches. \n",
    "\n",
    "Notice the columns are all the columns from the left table plus all the columns from the right table...except there is only one set of join columns. There is only one instance of SalesOrderID and the other two join columns. This makes sense because the join is looking for matching values from the two tables. If there was a SalesOrderID from the left table and a different SalesOrderID from the right table, they would always contain the same value so there is no need to include the join columns more than once."
   ]
  },
  {
   "cell_type": "markdown",
   "metadata": {},
   "source": [
    "## Inner join vs left join vs right join vs full join\n",
    "In the above example, no rows were returned because of two reasons. The first is that it used three columns to join with, called a composite key which is a primary key that contains multiple columns. The second is that inner join was used which requires exact matches from the left and the right tables. \n",
    "\n",
    "We will fix the join criteria issue in a moment, but first let's illustrate the difference among the different join types for the same join columns for these two tables."
   ]
  },
  {
   "cell_type": "code",
   "execution_count": 12,
   "metadata": {},
   "outputs": [
    {
     "name": "stderr",
     "output_type": "stream",
     "text": [
      "Joining, by = c(\"SalesOrderID\", \"rowguid\", \"ModifiedDate\")\n"
     ]
    },
    {
     "name": "stdout",
     "output_type": "stream",
     "text": [
      "Observations: 31,465\n",
      "Variables: 34\n",
      "$ SalesOrderID           \u001b[3m\u001b[90m<int>\u001b[39m\u001b[23m 43659, 43660, 43661, 43662, 43663, 43664, 4366…\n",
      "$ RevisionNumber         \u001b[3m\u001b[90m<int>\u001b[39m\u001b[23m 8, 8, 8, 8, 8, 8, 8, 8, 8, 8, 8, 8, 8, 8, 8, 8…\n",
      "$ OrderDate              \u001b[3m\u001b[90m<dttm>\u001b[39m\u001b[23m 2011-05-31, 2011-05-31, 2011-05-31, 2011-05-3…\n",
      "$ DueDate                \u001b[3m\u001b[90m<dttm>\u001b[39m\u001b[23m 2011-06-12, 2011-06-12, 2011-06-12, 2011-06-1…\n",
      "$ ShipDate               \u001b[3m\u001b[90m<dttm>\u001b[39m\u001b[23m 2011-06-07, 2011-06-07, 2011-06-07, 2011-06-0…\n",
      "$ Status                 \u001b[3m\u001b[90m<int>\u001b[39m\u001b[23m 5, 5, 5, 5, 5, 5, 5, 5, 5, 5, 5, 5, 5, 5, 5, 5…\n",
      "$ OnlineOrderFlag        \u001b[3m\u001b[90m<lgl>\u001b[39m\u001b[23m FALSE, FALSE, FALSE, FALSE, FALSE, FALSE, FALS…\n",
      "$ SalesOrderNumber       \u001b[3m\u001b[90m<chr>\u001b[39m\u001b[23m \"SO43659\", \"SO43660\", \"SO43661\", \"SO43662\", \"S…\n",
      "$ PurchaseOrderNumber    \u001b[3m\u001b[90m<chr>\u001b[39m\u001b[23m \"PO522145787\", \"PO18850127500\", \"PO18473189620…\n",
      "$ AccountNumber          \u001b[3m\u001b[90m<chr>\u001b[39m\u001b[23m \"10-4020-000676\", \"10-4020-000117\", \"10-4020-0…\n",
      "$ CustomerID             \u001b[3m\u001b[90m<int>\u001b[39m\u001b[23m 29825, 29672, 29734, 29994, 29565, 29898, 2958…\n",
      "$ SalesPersonID          \u001b[3m\u001b[90m<int>\u001b[39m\u001b[23m 279, 279, 282, 282, 276, 280, 283, 276, 277, 2…\n",
      "$ TerritoryID            \u001b[3m\u001b[90m<int>\u001b[39m\u001b[23m 5, 5, 6, 6, 4, 1, 1, 4, 3, 6, 1, 3, 1, 6, 2, 6…\n",
      "$ BillToAddressID        \u001b[3m\u001b[90m<int>\u001b[39m\u001b[23m 985, 921, 517, 482, 1073, 876, 849, 1074, 629,…\n",
      "$ ShipToAddressID        \u001b[3m\u001b[90m<int>\u001b[39m\u001b[23m 985, 921, 517, 482, 1073, 876, 849, 1074, 629,…\n",
      "$ ShipMethodID           \u001b[3m\u001b[90m<int>\u001b[39m\u001b[23m 5, 5, 5, 5, 5, 5, 5, 5, 5, 5, 5, 5, 5, 5, 5, 5…\n",
      "$ CreditCardID           \u001b[3m\u001b[90m<int>\u001b[39m\u001b[23m 16281, 5618, 1346, 10456, 4322, 806, 15232, 13…\n",
      "$ CreditCardApprovalCode \u001b[3m\u001b[90m<chr>\u001b[39m\u001b[23m \"105041Vi84182\", \"115213Vi29411\", \"85274Vi6854…\n",
      "$ CurrencyRateID         \u001b[3m\u001b[90m<int>\u001b[39m\u001b[23m NA, NA, 4, 4, NA, NA, NA, NA, NA, 4, NA, NA, N…\n",
      "$ SubTotal               \u001b[3m\u001b[90m<dbl>\u001b[39m\u001b[23m 20565.6206, 1294.2529, 32726.4786, 28832.5289,…\n",
      "$ TaxAmt                 \u001b[3m\u001b[90m<dbl>\u001b[39m\u001b[23m 1971.5149, 124.2483, 3153.7696, 2775.1646, 40.…\n",
      "$ Freight                \u001b[3m\u001b[90m<dbl>\u001b[39m\u001b[23m 616.0984, 38.8276, 985.5530, 867.2389, 12.5838…\n",
      "$ TotalDue               \u001b[3m\u001b[90m<dbl>\u001b[39m\u001b[23m 23153.2339, 1457.3288, 36865.8012, 32474.9324,…\n",
      "$ Comment                \u001b[3m\u001b[90m<chr>\u001b[39m\u001b[23m NA, NA, NA, NA, NA, NA, NA, NA, NA, NA, NA, NA…\n",
      "$ rowguid                \u001b[3m\u001b[90m<chr>\u001b[39m\u001b[23m \"79B65321-39CA-4115-9CBA-8FE0903E12E6\", \"738DC…\n",
      "$ ModifiedDate           \u001b[3m\u001b[90m<dttm>\u001b[39m\u001b[23m 2011-06-07, 2011-06-07, 2011-06-07, 2011-06-0…\n",
      "$ SalesOrderDetailID     \u001b[3m\u001b[90m<int>\u001b[39m\u001b[23m NA, NA, NA, NA, NA, NA, NA, NA, NA, NA, NA, NA…\n",
      "$ CarrierTrackingNumber  \u001b[3m\u001b[90m<chr>\u001b[39m\u001b[23m NA, NA, NA, NA, NA, NA, NA, NA, NA, NA, NA, NA…\n",
      "$ OrderQty               \u001b[3m\u001b[90m<int>\u001b[39m\u001b[23m NA, NA, NA, NA, NA, NA, NA, NA, NA, NA, NA, NA…\n",
      "$ ProductID              \u001b[3m\u001b[90m<int>\u001b[39m\u001b[23m NA, NA, NA, NA, NA, NA, NA, NA, NA, NA, NA, NA…\n",
      "$ SpecialOfferID         \u001b[3m\u001b[90m<int>\u001b[39m\u001b[23m NA, NA, NA, NA, NA, NA, NA, NA, NA, NA, NA, NA…\n",
      "$ UnitPrice              \u001b[3m\u001b[90m<dbl>\u001b[39m\u001b[23m NA, NA, NA, NA, NA, NA, NA, NA, NA, NA, NA, NA…\n",
      "$ UnitPriceDiscount      \u001b[3m\u001b[90m<dbl>\u001b[39m\u001b[23m NA, NA, NA, NA, NA, NA, NA, NA, NA, NA, NA, NA…\n",
      "$ LineTotal              \u001b[3m\u001b[90m<dbl>\u001b[39m\u001b[23m NA, NA, NA, NA, NA, NA, NA, NA, NA, NA, NA, NA…\n"
     ]
    }
   ],
   "source": [
    "# Join Sales.SalesOrderHeader and Sales.SalesOrderDetails\n",
    "# using left_join() \n",
    "# using automatic join column (omit the 'by' parameter)\n",
    "# store as df_sales_order_left\n",
    "df_sales_order_left <- df_sales_order_header %>%\n",
    "   left_join(df_sales_order_detail)\n",
    "\n",
    "# Glimpse result\n",
    "glimpse(df_sales_order_left)"
   ]
  },
  {
   "cell_type": "markdown",
   "metadata": {},
   "source": [
    "Notice the number of rows returned from the left join. Does this match one of the source tables, SalesOrderHeader or SalesOrderDetail?\n",
    "\n",
    "It should match SalesOrderHeader because it was the *left* table in the join AND there were no matches to the right table. Left joins preserve all the rows in the left table. \n",
    "\n",
    "Also notice the values of the columns from SalesOrderDetail. They are all NA. This is also common because if there isn't a match between the left and right tables, the row from the left table is inserted and NA values are used as placeholders for the right table."
   ]
  },
  {
   "cell_type": "code",
   "execution_count": 13,
   "metadata": {},
   "outputs": [
    {
     "name": "stderr",
     "output_type": "stream",
     "text": [
      "Joining, by = c(\"SalesOrderID\", \"rowguid\", \"ModifiedDate\")\n"
     ]
    },
    {
     "name": "stdout",
     "output_type": "stream",
     "text": [
      "Observations: 121,317\n",
      "Variables: 34\n",
      "$ SalesOrderID           \u001b[3m\u001b[90m<int>\u001b[39m\u001b[23m 43659, 43659, 43659, 43659, 43659, 43659, 4365…\n",
      "$ RevisionNumber         \u001b[3m\u001b[90m<int>\u001b[39m\u001b[23m NA, NA, NA, NA, NA, NA, NA, NA, NA, NA, NA, NA…\n",
      "$ OrderDate              \u001b[3m\u001b[90m<dttm>\u001b[39m\u001b[23m NA, NA, NA, NA, NA, NA, NA, NA, NA, NA, NA, N…\n",
      "$ DueDate                \u001b[3m\u001b[90m<dttm>\u001b[39m\u001b[23m NA, NA, NA, NA, NA, NA, NA, NA, NA, NA, NA, N…\n",
      "$ ShipDate               \u001b[3m\u001b[90m<dttm>\u001b[39m\u001b[23m NA, NA, NA, NA, NA, NA, NA, NA, NA, NA, NA, N…\n",
      "$ Status                 \u001b[3m\u001b[90m<int>\u001b[39m\u001b[23m NA, NA, NA, NA, NA, NA, NA, NA, NA, NA, NA, NA…\n",
      "$ OnlineOrderFlag        \u001b[3m\u001b[90m<lgl>\u001b[39m\u001b[23m NA, NA, NA, NA, NA, NA, NA, NA, NA, NA, NA, NA…\n",
      "$ SalesOrderNumber       \u001b[3m\u001b[90m<chr>\u001b[39m\u001b[23m NA, NA, NA, NA, NA, NA, NA, NA, NA, NA, NA, NA…\n",
      "$ PurchaseOrderNumber    \u001b[3m\u001b[90m<chr>\u001b[39m\u001b[23m NA, NA, NA, NA, NA, NA, NA, NA, NA, NA, NA, NA…\n",
      "$ AccountNumber          \u001b[3m\u001b[90m<chr>\u001b[39m\u001b[23m NA, NA, NA, NA, NA, NA, NA, NA, NA, NA, NA, NA…\n",
      "$ CustomerID             \u001b[3m\u001b[90m<int>\u001b[39m\u001b[23m NA, NA, NA, NA, NA, NA, NA, NA, NA, NA, NA, NA…\n",
      "$ SalesPersonID          \u001b[3m\u001b[90m<int>\u001b[39m\u001b[23m NA, NA, NA, NA, NA, NA, NA, NA, NA, NA, NA, NA…\n",
      "$ TerritoryID            \u001b[3m\u001b[90m<int>\u001b[39m\u001b[23m NA, NA, NA, NA, NA, NA, NA, NA, NA, NA, NA, NA…\n",
      "$ BillToAddressID        \u001b[3m\u001b[90m<int>\u001b[39m\u001b[23m NA, NA, NA, NA, NA, NA, NA, NA, NA, NA, NA, NA…\n",
      "$ ShipToAddressID        \u001b[3m\u001b[90m<int>\u001b[39m\u001b[23m NA, NA, NA, NA, NA, NA, NA, NA, NA, NA, NA, NA…\n",
      "$ ShipMethodID           \u001b[3m\u001b[90m<int>\u001b[39m\u001b[23m NA, NA, NA, NA, NA, NA, NA, NA, NA, NA, NA, NA…\n",
      "$ CreditCardID           \u001b[3m\u001b[90m<int>\u001b[39m\u001b[23m NA, NA, NA, NA, NA, NA, NA, NA, NA, NA, NA, NA…\n",
      "$ CreditCardApprovalCode \u001b[3m\u001b[90m<chr>\u001b[39m\u001b[23m NA, NA, NA, NA, NA, NA, NA, NA, NA, NA, NA, NA…\n",
      "$ CurrencyRateID         \u001b[3m\u001b[90m<int>\u001b[39m\u001b[23m NA, NA, NA, NA, NA, NA, NA, NA, NA, NA, NA, NA…\n",
      "$ SubTotal               \u001b[3m\u001b[90m<dbl>\u001b[39m\u001b[23m NA, NA, NA, NA, NA, NA, NA, NA, NA, NA, NA, NA…\n",
      "$ TaxAmt                 \u001b[3m\u001b[90m<dbl>\u001b[39m\u001b[23m NA, NA, NA, NA, NA, NA, NA, NA, NA, NA, NA, NA…\n",
      "$ Freight                \u001b[3m\u001b[90m<dbl>\u001b[39m\u001b[23m NA, NA, NA, NA, NA, NA, NA, NA, NA, NA, NA, NA…\n",
      "$ TotalDue               \u001b[3m\u001b[90m<dbl>\u001b[39m\u001b[23m NA, NA, NA, NA, NA, NA, NA, NA, NA, NA, NA, NA…\n",
      "$ Comment                \u001b[3m\u001b[90m<chr>\u001b[39m\u001b[23m NA, NA, NA, NA, NA, NA, NA, NA, NA, NA, NA, NA…\n",
      "$ rowguid                \u001b[3m\u001b[90m<chr>\u001b[39m\u001b[23m \"B207C96D-D9E6-402B-8470-2CC176C42283\", \"7ABB6…\n",
      "$ ModifiedDate           \u001b[3m\u001b[90m<dttm>\u001b[39m\u001b[23m 2011-05-31, 2011-05-31, 2011-05-31, 2011-05-3…\n",
      "$ SalesOrderDetailID     \u001b[3m\u001b[90m<int>\u001b[39m\u001b[23m 1, 2, 3, 4, 5, 6, 7, 8, 9, 10, 11, 12, 13, 14,…\n",
      "$ CarrierTrackingNumber  \u001b[3m\u001b[90m<chr>\u001b[39m\u001b[23m \"4911-403C-98\", \"4911-403C-98\", \"4911-403C-98\"…\n",
      "$ OrderQty               \u001b[3m\u001b[90m<int>\u001b[39m\u001b[23m 1, 3, 1, 1, 1, 2, 1, 3, 1, 6, 2, 4, 1, 1, 1, 1…\n",
      "$ ProductID              \u001b[3m\u001b[90m<int>\u001b[39m\u001b[23m 776, 777, 778, 771, 772, 773, 774, 714, 716, 7…\n",
      "$ SpecialOfferID         \u001b[3m\u001b[90m<int>\u001b[39m\u001b[23m 1, 1, 1, 1, 1, 1, 1, 1, 1, 1, 1, 1, 1, 1, 1, 1…\n",
      "$ UnitPrice              \u001b[3m\u001b[90m<dbl>\u001b[39m\u001b[23m 2024.9940, 2024.9940, 2024.9940, 2039.9940, 20…\n",
      "$ UnitPriceDiscount      \u001b[3m\u001b[90m<dbl>\u001b[39m\u001b[23m 0, 0, 0, 0, 0, 0, 0, 0, 0, 0, 0, 0, 0, 0, 0, 0…\n",
      "$ LineTotal              \u001b[3m\u001b[90m<dbl>\u001b[39m\u001b[23m 2024.9940, 6074.9820, 2024.9940, 2039.9940, 20…\n"
     ]
    }
   ],
   "source": [
    "# Join Sales.SalesOrderHeader and Sales.SalesOrderDetails\n",
    "# using right_join() \n",
    "# using automatic join column (omit the 'by' parameter)\n",
    "# store as df_sales_order_right\n",
    "df_sales_order_right <- df_sales_order_header %>%\n",
    "   right_join(df_sales_order_detail)\n",
    "\n",
    "# Glimpse result\n",
    "glimpse(df_sales_order_right)"
   ]
  },
  {
   "cell_type": "markdown",
   "metadata": {},
   "source": [
    "How many rows were returned? Which table does it match, SalesOrderHeader or SalesOrderDetail? \n",
    "\n",
    "Similar to left join, right join retained all the rows from the right table and filled in NA values for the left table when there are no matches. "
   ]
  },
  {
   "cell_type": "code",
   "execution_count": 14,
   "metadata": {},
   "outputs": [
    {
     "name": "stderr",
     "output_type": "stream",
     "text": [
      "Joining, by = c(\"SalesOrderID\", \"rowguid\", \"ModifiedDate\")\n"
     ]
    },
    {
     "name": "stdout",
     "output_type": "stream",
     "text": [
      "Observations: 152,782\n",
      "Variables: 34\n",
      "$ SalesOrderID           \u001b[3m\u001b[90m<int>\u001b[39m\u001b[23m 43659, 43660, 43661, 43662, 43663, 43664, 4366…\n",
      "$ RevisionNumber         \u001b[3m\u001b[90m<int>\u001b[39m\u001b[23m 8, 8, 8, 8, 8, 8, 8, 8, 8, 8, 8, 8, 8, 8, 8, 8…\n",
      "$ OrderDate              \u001b[3m\u001b[90m<dttm>\u001b[39m\u001b[23m 2011-05-31, 2011-05-31, 2011-05-31, 2011-05-3…\n",
      "$ DueDate                \u001b[3m\u001b[90m<dttm>\u001b[39m\u001b[23m 2011-06-12, 2011-06-12, 2011-06-12, 2011-06-1…\n",
      "$ ShipDate               \u001b[3m\u001b[90m<dttm>\u001b[39m\u001b[23m 2011-06-07, 2011-06-07, 2011-06-07, 2011-06-0…\n",
      "$ Status                 \u001b[3m\u001b[90m<int>\u001b[39m\u001b[23m 5, 5, 5, 5, 5, 5, 5, 5, 5, 5, 5, 5, 5, 5, 5, 5…\n",
      "$ OnlineOrderFlag        \u001b[3m\u001b[90m<lgl>\u001b[39m\u001b[23m FALSE, FALSE, FALSE, FALSE, FALSE, FALSE, FALS…\n",
      "$ SalesOrderNumber       \u001b[3m\u001b[90m<chr>\u001b[39m\u001b[23m \"SO43659\", \"SO43660\", \"SO43661\", \"SO43662\", \"S…\n",
      "$ PurchaseOrderNumber    \u001b[3m\u001b[90m<chr>\u001b[39m\u001b[23m \"PO522145787\", \"PO18850127500\", \"PO18473189620…\n",
      "$ AccountNumber          \u001b[3m\u001b[90m<chr>\u001b[39m\u001b[23m \"10-4020-000676\", \"10-4020-000117\", \"10-4020-0…\n",
      "$ CustomerID             \u001b[3m\u001b[90m<int>\u001b[39m\u001b[23m 29825, 29672, 29734, 29994, 29565, 29898, 2958…\n",
      "$ SalesPersonID          \u001b[3m\u001b[90m<int>\u001b[39m\u001b[23m 279, 279, 282, 282, 276, 280, 283, 276, 277, 2…\n",
      "$ TerritoryID            \u001b[3m\u001b[90m<int>\u001b[39m\u001b[23m 5, 5, 6, 6, 4, 1, 1, 4, 3, 6, 1, 3, 1, 6, 2, 6…\n",
      "$ BillToAddressID        \u001b[3m\u001b[90m<int>\u001b[39m\u001b[23m 985, 921, 517, 482, 1073, 876, 849, 1074, 629,…\n",
      "$ ShipToAddressID        \u001b[3m\u001b[90m<int>\u001b[39m\u001b[23m 985, 921, 517, 482, 1073, 876, 849, 1074, 629,…\n",
      "$ ShipMethodID           \u001b[3m\u001b[90m<int>\u001b[39m\u001b[23m 5, 5, 5, 5, 5, 5, 5, 5, 5, 5, 5, 5, 5, 5, 5, 5…\n",
      "$ CreditCardID           \u001b[3m\u001b[90m<int>\u001b[39m\u001b[23m 16281, 5618, 1346, 10456, 4322, 806, 15232, 13…\n",
      "$ CreditCardApprovalCode \u001b[3m\u001b[90m<chr>\u001b[39m\u001b[23m \"105041Vi84182\", \"115213Vi29411\", \"85274Vi6854…\n",
      "$ CurrencyRateID         \u001b[3m\u001b[90m<int>\u001b[39m\u001b[23m NA, NA, 4, 4, NA, NA, NA, NA, NA, 4, NA, NA, N…\n",
      "$ SubTotal               \u001b[3m\u001b[90m<dbl>\u001b[39m\u001b[23m 20565.6206, 1294.2529, 32726.4786, 28832.5289,…\n",
      "$ TaxAmt                 \u001b[3m\u001b[90m<dbl>\u001b[39m\u001b[23m 1971.5149, 124.2483, 3153.7696, 2775.1646, 40.…\n",
      "$ Freight                \u001b[3m\u001b[90m<dbl>\u001b[39m\u001b[23m 616.0984, 38.8276, 985.5530, 867.2389, 12.5838…\n",
      "$ TotalDue               \u001b[3m\u001b[90m<dbl>\u001b[39m\u001b[23m 23153.2339, 1457.3288, 36865.8012, 32474.9324,…\n",
      "$ Comment                \u001b[3m\u001b[90m<chr>\u001b[39m\u001b[23m NA, NA, NA, NA, NA, NA, NA, NA, NA, NA, NA, NA…\n",
      "$ rowguid                \u001b[3m\u001b[90m<chr>\u001b[39m\u001b[23m \"79B65321-39CA-4115-9CBA-8FE0903E12E6\", \"738DC…\n",
      "$ ModifiedDate           \u001b[3m\u001b[90m<dttm>\u001b[39m\u001b[23m 2011-06-07, 2011-06-07, 2011-06-07, 2011-06-0…\n",
      "$ SalesOrderDetailID     \u001b[3m\u001b[90m<int>\u001b[39m\u001b[23m NA, NA, NA, NA, NA, NA, NA, NA, NA, NA, NA, NA…\n",
      "$ CarrierTrackingNumber  \u001b[3m\u001b[90m<chr>\u001b[39m\u001b[23m NA, NA, NA, NA, NA, NA, NA, NA, NA, NA, NA, NA…\n",
      "$ OrderQty               \u001b[3m\u001b[90m<int>\u001b[39m\u001b[23m NA, NA, NA, NA, NA, NA, NA, NA, NA, NA, NA, NA…\n",
      "$ ProductID              \u001b[3m\u001b[90m<int>\u001b[39m\u001b[23m NA, NA, NA, NA, NA, NA, NA, NA, NA, NA, NA, NA…\n",
      "$ SpecialOfferID         \u001b[3m\u001b[90m<int>\u001b[39m\u001b[23m NA, NA, NA, NA, NA, NA, NA, NA, NA, NA, NA, NA…\n",
      "$ UnitPrice              \u001b[3m\u001b[90m<dbl>\u001b[39m\u001b[23m NA, NA, NA, NA, NA, NA, NA, NA, NA, NA, NA, NA…\n",
      "$ UnitPriceDiscount      \u001b[3m\u001b[90m<dbl>\u001b[39m\u001b[23m NA, NA, NA, NA, NA, NA, NA, NA, NA, NA, NA, NA…\n",
      "$ LineTotal              \u001b[3m\u001b[90m<dbl>\u001b[39m\u001b[23m NA, NA, NA, NA, NA, NA, NA, NA, NA, NA, NA, NA…\n"
     ]
    }
   ],
   "source": [
    "# Join Sales.SalesOrderHeader and Sales.SalesOrderDetails\n",
    "# using full_join() \n",
    "# using automatic join column (omit the 'by' parameter)\n",
    "# store as df_sales_order_full\n",
    "df_sales_order_full <- df_sales_order_header %>%\n",
    "   full_join(df_sales_order_detail)\n",
    "\n",
    "# Glimpse result\n",
    "glimpse(df_sales_order_full)"
   ]
  },
  {
   "cell_type": "markdown",
   "metadata": {},
   "source": [
    "How many rows were returned? Which table does it match, SalesOrderHeader or SalesOrderDetail? \n",
    "\n",
    "The row count is larger than either table. Why? Because full join has characteristics of both left and right joins in that all the rows from the left table and all the rows from the right table are present in the result. Since there were no matches at all between the two table it returned all the rows from SalesOrderHeader plus all the rows from SalesOrderDetail. It filled in NA values as appropriate."
   ]
  },
  {
   "cell_type": "markdown",
   "metadata": {},
   "source": [
    "## Using by\n",
    "The reason there were no matches were because by default, the join functions look for the same column names between the two tables and use that. We can specify the by parameter to override this default behavior. \n",
    "\n",
    "There are three different syntax for by:\n",
    "1. by = \"column name\" - use this for the same single column name in both tables\n",
    "2. by = c(\"col_1\", \"col_2\") - use this for the same multiple column names (composite primary keys)\n",
    "3. by = c(\"col_1_left\" = \"col_1_right\", \"col_2_left\" = \"col_2_right\") - use this when the names don't match between the two tables. It also supports composite primary keys."
   ]
  },
  {
   "cell_type": "code",
   "execution_count": 15,
   "metadata": {},
   "outputs": [
    {
     "name": "stdout",
     "output_type": "stream",
     "text": [
      "Observations: 121,317\n",
      "Variables: 36\n",
      "$ SalesOrderID           \u001b[3m\u001b[90m<int>\u001b[39m\u001b[23m 43659, 43659, 43659, 43659, 43659, 43659, 4365…\n",
      "$ RevisionNumber         \u001b[3m\u001b[90m<int>\u001b[39m\u001b[23m 8, 8, 8, 8, 8, 8, 8, 8, 8, 8, 8, 8, 8, 8, 8, 8…\n",
      "$ OrderDate              \u001b[3m\u001b[90m<dttm>\u001b[39m\u001b[23m 2011-05-31, 2011-05-31, 2011-05-31, 2011-05-3…\n",
      "$ DueDate                \u001b[3m\u001b[90m<dttm>\u001b[39m\u001b[23m 2011-06-12, 2011-06-12, 2011-06-12, 2011-06-1…\n",
      "$ ShipDate               \u001b[3m\u001b[90m<dttm>\u001b[39m\u001b[23m 2011-06-07, 2011-06-07, 2011-06-07, 2011-06-0…\n",
      "$ Status                 \u001b[3m\u001b[90m<int>\u001b[39m\u001b[23m 5, 5, 5, 5, 5, 5, 5, 5, 5, 5, 5, 5, 5, 5, 5, 5…\n",
      "$ OnlineOrderFlag        \u001b[3m\u001b[90m<lgl>\u001b[39m\u001b[23m FALSE, FALSE, FALSE, FALSE, FALSE, FALSE, FALS…\n",
      "$ SalesOrderNumber       \u001b[3m\u001b[90m<chr>\u001b[39m\u001b[23m \"SO43659\", \"SO43659\", \"SO43659\", \"SO43659\", \"S…\n",
      "$ PurchaseOrderNumber    \u001b[3m\u001b[90m<chr>\u001b[39m\u001b[23m \"PO522145787\", \"PO522145787\", \"PO522145787\", \"…\n",
      "$ AccountNumber          \u001b[3m\u001b[90m<chr>\u001b[39m\u001b[23m \"10-4020-000676\", \"10-4020-000676\", \"10-4020-0…\n",
      "$ CustomerID             \u001b[3m\u001b[90m<int>\u001b[39m\u001b[23m 29825, 29825, 29825, 29825, 29825, 29825, 2982…\n",
      "$ SalesPersonID          \u001b[3m\u001b[90m<int>\u001b[39m\u001b[23m 279, 279, 279, 279, 279, 279, 279, 279, 279, 2…\n",
      "$ TerritoryID            \u001b[3m\u001b[90m<int>\u001b[39m\u001b[23m 5, 5, 5, 5, 5, 5, 5, 5, 5, 5, 5, 5, 5, 5, 6, 6…\n",
      "$ BillToAddressID        \u001b[3m\u001b[90m<int>\u001b[39m\u001b[23m 985, 985, 985, 985, 985, 985, 985, 985, 985, 9…\n",
      "$ ShipToAddressID        \u001b[3m\u001b[90m<int>\u001b[39m\u001b[23m 985, 985, 985, 985, 985, 985, 985, 985, 985, 9…\n",
      "$ ShipMethodID           \u001b[3m\u001b[90m<int>\u001b[39m\u001b[23m 5, 5, 5, 5, 5, 5, 5, 5, 5, 5, 5, 5, 5, 5, 5, 5…\n",
      "$ CreditCardID           \u001b[3m\u001b[90m<int>\u001b[39m\u001b[23m 16281, 16281, 16281, 16281, 16281, 16281, 1628…\n",
      "$ CreditCardApprovalCode \u001b[3m\u001b[90m<chr>\u001b[39m\u001b[23m \"105041Vi84182\", \"105041Vi84182\", \"105041Vi841…\n",
      "$ CurrencyRateID         \u001b[3m\u001b[90m<int>\u001b[39m\u001b[23m NA, NA, NA, NA, NA, NA, NA, NA, NA, NA, NA, NA…\n",
      "$ SubTotal               \u001b[3m\u001b[90m<dbl>\u001b[39m\u001b[23m 20565.621, 20565.621, 20565.621, 20565.621, 20…\n",
      "$ TaxAmt                 \u001b[3m\u001b[90m<dbl>\u001b[39m\u001b[23m 1971.5149, 1971.5149, 1971.5149, 1971.5149, 19…\n",
      "$ Freight                \u001b[3m\u001b[90m<dbl>\u001b[39m\u001b[23m 616.0984, 616.0984, 616.0984, 616.0984, 616.09…\n",
      "$ TotalDue               \u001b[3m\u001b[90m<dbl>\u001b[39m\u001b[23m 23153.234, 23153.234, 23153.234, 23153.234, 23…\n",
      "$ Comment                \u001b[3m\u001b[90m<chr>\u001b[39m\u001b[23m NA, NA, NA, NA, NA, NA, NA, NA, NA, NA, NA, NA…\n",
      "$ rowguid.x              \u001b[3m\u001b[90m<chr>\u001b[39m\u001b[23m \"79B65321-39CA-4115-9CBA-8FE0903E12E6\", \"79B65…\n",
      "$ ModifiedDate.x         \u001b[3m\u001b[90m<dttm>\u001b[39m\u001b[23m 2011-06-07, 2011-06-07, 2011-06-07, 2011-06-0…\n",
      "$ SalesOrderDetailID     \u001b[3m\u001b[90m<int>\u001b[39m\u001b[23m 1, 2, 3, 4, 5, 6, 7, 8, 9, 10, 11, 12, 13, 14,…\n",
      "$ CarrierTrackingNumber  \u001b[3m\u001b[90m<chr>\u001b[39m\u001b[23m \"4911-403C-98\", \"4911-403C-98\", \"4911-403C-98\"…\n",
      "$ OrderQty               \u001b[3m\u001b[90m<int>\u001b[39m\u001b[23m 1, 3, 1, 1, 1, 2, 1, 3, 1, 6, 2, 4, 1, 1, 1, 1…\n",
      "$ ProductID              \u001b[3m\u001b[90m<int>\u001b[39m\u001b[23m 776, 777, 778, 771, 772, 773, 774, 714, 716, 7…\n",
      "$ SpecialOfferID         \u001b[3m\u001b[90m<int>\u001b[39m\u001b[23m 1, 1, 1, 1, 1, 1, 1, 1, 1, 1, 1, 1, 1, 1, 1, 1…\n",
      "$ UnitPrice              \u001b[3m\u001b[90m<dbl>\u001b[39m\u001b[23m 2024.9940, 2024.9940, 2024.9940, 2039.9940, 20…\n",
      "$ UnitPriceDiscount      \u001b[3m\u001b[90m<dbl>\u001b[39m\u001b[23m 0, 0, 0, 0, 0, 0, 0, 0, 0, 0, 0, 0, 0, 0, 0, 0…\n",
      "$ LineTotal              \u001b[3m\u001b[90m<dbl>\u001b[39m\u001b[23m 2024.9940, 6074.9820, 2024.9940, 2039.9940, 20…\n",
      "$ rowguid.y              \u001b[3m\u001b[90m<chr>\u001b[39m\u001b[23m \"B207C96D-D9E6-402B-8470-2CC176C42283\", \"7ABB6…\n",
      "$ ModifiedDate.y         \u001b[3m\u001b[90m<dttm>\u001b[39m\u001b[23m 2011-05-31, 2011-05-31, 2011-05-31, 2011-05-3…\n"
     ]
    }
   ],
   "source": [
    "# Join Sales.SalesOrderHeader and Sales.SalesOrderDetails\n",
    "# using inner_join() \n",
    "# using by = \"SalesOrderID\"\n",
    "# store as df_sales_order\n",
    "df_sales_order <- df_sales_order_header %>%\n",
    "   inner_join(df_sales_order_detail, by = \"SalesOrderID\")\n",
    "\n",
    "# Glimpse result\n",
    "glimpse(df_sales_order)"
   ]
  },
  {
   "cell_type": "markdown",
   "metadata": {},
   "source": [
    "How many rows of data were returned? Does it match SalesOrderHeader or SalesOrderDetail? \n",
    "\n",
    "Since there were matches for each and every row of SalesOrderDetail, then the row count matches the number of rows for SalesOrderDetail. \n",
    "\n",
    "Look at the columns closely and compare the number of columns to the previous joins. Do you see any additional columns?\n",
    "\n",
    "Recall that rowguid and ModifiedDate had the same name in both tables and that the auto join feature used these columns in its join earlier. Since we manually specified the join column using the 'by' parameter and didn't include these two columns, it created a naming conflict when combining the two tables together. In order to include the conflicting columns from the left table and the right table, it renamed the columns appending a suffix. A suffix of '.x' means it came from the left table. A suffix of '.y' means it came from the right table."
   ]
  },
  {
   "cell_type": "code",
   "execution_count": 16,
   "metadata": {
    "collapsed": true
   },
   "outputs": [],
   "source": [
    "#?rename()"
   ]
  },
  {
   "cell_type": "code",
   "execution_count": 17,
   "metadata": {},
   "outputs": [
    {
     "name": "stdout",
     "output_type": "stream",
     "text": [
      "Observations: 121,317\n",
      "Variables: 36\n",
      "$ SalesOrderID                  \u001b[3m\u001b[90m<int>\u001b[39m\u001b[23m 43659, 43659, 43659, 43659, 43659, 4365…\n",
      "$ RevisionNumber                \u001b[3m\u001b[90m<int>\u001b[39m\u001b[23m 8, 8, 8, 8, 8, 8, 8, 8, 8, 8, 8, 8, 8, …\n",
      "$ OrderDate                     \u001b[3m\u001b[90m<dttm>\u001b[39m\u001b[23m 2011-05-31, 2011-05-31, 2011-05-31, 20…\n",
      "$ DueDate                       \u001b[3m\u001b[90m<dttm>\u001b[39m\u001b[23m 2011-06-12, 2011-06-12, 2011-06-12, 20…\n",
      "$ ShipDate                      \u001b[3m\u001b[90m<dttm>\u001b[39m\u001b[23m 2011-06-07, 2011-06-07, 2011-06-07, 20…\n",
      "$ Status                        \u001b[3m\u001b[90m<int>\u001b[39m\u001b[23m 5, 5, 5, 5, 5, 5, 5, 5, 5, 5, 5, 5, 5, …\n",
      "$ OnlineOrderFlag               \u001b[3m\u001b[90m<lgl>\u001b[39m\u001b[23m FALSE, FALSE, FALSE, FALSE, FALSE, FALS…\n",
      "$ SalesOrderNumber              \u001b[3m\u001b[90m<chr>\u001b[39m\u001b[23m \"SO43659\", \"SO43659\", \"SO43659\", \"SO436…\n",
      "$ PurchaseOrderNumber           \u001b[3m\u001b[90m<chr>\u001b[39m\u001b[23m \"PO522145787\", \"PO522145787\", \"PO522145…\n",
      "$ AccountNumber                 \u001b[3m\u001b[90m<chr>\u001b[39m\u001b[23m \"10-4020-000676\", \"10-4020-000676\", \"10…\n",
      "$ CustomerID                    \u001b[3m\u001b[90m<int>\u001b[39m\u001b[23m 29825, 29825, 29825, 29825, 29825, 2982…\n",
      "$ SalesPersonID                 \u001b[3m\u001b[90m<int>\u001b[39m\u001b[23m 279, 279, 279, 279, 279, 279, 279, 279,…\n",
      "$ TerritoryID                   \u001b[3m\u001b[90m<int>\u001b[39m\u001b[23m 5, 5, 5, 5, 5, 5, 5, 5, 5, 5, 5, 5, 5, …\n",
      "$ BillToAddressID               \u001b[3m\u001b[90m<int>\u001b[39m\u001b[23m 985, 985, 985, 985, 985, 985, 985, 985,…\n",
      "$ ShipToAddressID               \u001b[3m\u001b[90m<int>\u001b[39m\u001b[23m 985, 985, 985, 985, 985, 985, 985, 985,…\n",
      "$ ShipMethodID                  \u001b[3m\u001b[90m<int>\u001b[39m\u001b[23m 5, 5, 5, 5, 5, 5, 5, 5, 5, 5, 5, 5, 5, …\n",
      "$ CreditCardID                  \u001b[3m\u001b[90m<int>\u001b[39m\u001b[23m 16281, 16281, 16281, 16281, 16281, 1628…\n",
      "$ CreditCardApprovalCode        \u001b[3m\u001b[90m<chr>\u001b[39m\u001b[23m \"105041Vi84182\", \"105041Vi84182\", \"1050…\n",
      "$ CurrencyRateID                \u001b[3m\u001b[90m<int>\u001b[39m\u001b[23m NA, NA, NA, NA, NA, NA, NA, NA, NA, NA,…\n",
      "$ SubTotal                      \u001b[3m\u001b[90m<dbl>\u001b[39m\u001b[23m 20565.621, 20565.621, 20565.621, 20565.…\n",
      "$ TaxAmt                        \u001b[3m\u001b[90m<dbl>\u001b[39m\u001b[23m 1971.5149, 1971.5149, 1971.5149, 1971.5…\n",
      "$ Freight                       \u001b[3m\u001b[90m<dbl>\u001b[39m\u001b[23m 616.0984, 616.0984, 616.0984, 616.0984,…\n",
      "$ TotalDue                      \u001b[3m\u001b[90m<dbl>\u001b[39m\u001b[23m 23153.234, 23153.234, 23153.234, 23153.…\n",
      "$ Comment                       \u001b[3m\u001b[90m<chr>\u001b[39m\u001b[23m NA, NA, NA, NA, NA, NA, NA, NA, NA, NA,…\n",
      "$ SalesOrderHeader_rowguide     \u001b[3m\u001b[90m<chr>\u001b[39m\u001b[23m \"79B65321-39CA-4115-9CBA-8FE0903E12E6\",…\n",
      "$ SalesOrderHeader_ModifiedDate \u001b[3m\u001b[90m<dttm>\u001b[39m\u001b[23m 2011-06-07, 2011-06-07, 2011-06-07, 20…\n",
      "$ SalesOrderDetailID            \u001b[3m\u001b[90m<int>\u001b[39m\u001b[23m 1, 2, 3, 4, 5, 6, 7, 8, 9, 10, 11, 12, …\n",
      "$ CarrierTrackingNumber         \u001b[3m\u001b[90m<chr>\u001b[39m\u001b[23m \"4911-403C-98\", \"4911-403C-98\", \"4911-4…\n",
      "$ OrderQty                      \u001b[3m\u001b[90m<int>\u001b[39m\u001b[23m 1, 3, 1, 1, 1, 2, 1, 3, 1, 6, 2, 4, 1, …\n",
      "$ ProductID                     \u001b[3m\u001b[90m<int>\u001b[39m\u001b[23m 776, 777, 778, 771, 772, 773, 774, 714,…\n",
      "$ SpecialOfferID                \u001b[3m\u001b[90m<int>\u001b[39m\u001b[23m 1, 1, 1, 1, 1, 1, 1, 1, 1, 1, 1, 1, 1, …\n",
      "$ UnitPrice                     \u001b[3m\u001b[90m<dbl>\u001b[39m\u001b[23m 2024.9940, 2024.9940, 2024.9940, 2039.9…\n",
      "$ UnitPriceDiscount             \u001b[3m\u001b[90m<dbl>\u001b[39m\u001b[23m 0, 0, 0, 0, 0, 0, 0, 0, 0, 0, 0, 0, 0, …\n",
      "$ LineTotal                     \u001b[3m\u001b[90m<dbl>\u001b[39m\u001b[23m 2024.9940, 6074.9820, 2024.9940, 2039.9…\n",
      "$ SalesOrderDetail_rowguide     \u001b[3m\u001b[90m<chr>\u001b[39m\u001b[23m \"B207C96D-D9E6-402B-8470-2CC176C42283\",…\n",
      "$ SalesOrderDetail_ModifiedDate \u001b[3m\u001b[90m<dttm>\u001b[39m\u001b[23m 2011-05-31, 2011-05-31, 2011-05-31, 20…\n"
     ]
    }
   ],
   "source": [
    "# Rename the conflicting .x and .y columns\n",
    "# using the naming convention <table>_<column>\n",
    "# update df_sales_order\n",
    "df_sales_order <- df_sales_order %>%\n",
    "   rename(SalesOrderHeader_rowguide = rowguid.x, \n",
    "          SalesOrderHeader_ModifiedDate = ModifiedDate.x,\n",
    "         SalesOrderDetail_rowguide = rowguid.y,\n",
    "          SalesOrderDetail_ModifiedDate = ModifiedDate.y\n",
    "          )\n",
    "\n",
    "# Glimpse result\n",
    "glimpse(df_sales_order)"
   ]
  },
  {
   "cell_type": "markdown",
   "metadata": {},
   "source": [
    "Notice the renamed columns and the '.x' and '.y' are gone. Renaming columns with the table name helps data traceability and troubleshooting. Alternatively, if these fields were not needed for the analysis, then consider\n",
    "not importing these columns from SQL in the first place. This saves computer resources and avoids unnecessary clean-up work later."
   ]
  },
  {
   "cell_type": "markdown",
   "metadata": {},
   "source": [
    "## Single vs Multiple Dataframes\n",
    "You can continue to join tables and create a single table at the lowest data grain with a large number of columns. This is useful for machine learning algorithms where all the data it processes must be in a single table. \n",
    "\n",
    "For human analysis, however, it might be more effective to have several data frames you can easily join together as required. Consider a data warehouse star schema as a guideline for how to design your dataframes."
   ]
  },
  {
   "cell_type": "code",
   "execution_count": 18,
   "metadata": {},
   "outputs": [
    {
     "name": "stdout",
     "output_type": "stream",
     "text": [
      "Observations: 504\n",
      "Variables: 23\n",
      "$ ProductID             \u001b[3m\u001b[90m<int>\u001b[39m\u001b[23m 1, 2, 3, 4, 316, 317, 318, 319, 320, 321, 322, …\n",
      "$ Name                  \u001b[3m\u001b[90m<chr>\u001b[39m\u001b[23m \"Adjustable Race\", \"Bearing Ball\", \"BB Ball Bea…\n",
      "$ ProductNumber         \u001b[3m\u001b[90m<chr>\u001b[39m\u001b[23m \"AR-5381\", \"BA-8327\", \"BE-2349\", \"BE-2908\", \"BL…\n",
      "$ MakeFlag              \u001b[3m\u001b[90m<lgl>\u001b[39m\u001b[23m FALSE, FALSE, TRUE, FALSE, TRUE, FALSE, FALSE, …\n",
      "$ FinishedGoodsFlag     \u001b[3m\u001b[90m<lgl>\u001b[39m\u001b[23m FALSE, FALSE, FALSE, FALSE, FALSE, FALSE, FALSE…\n",
      "$ Color                 \u001b[3m\u001b[90m<chr>\u001b[39m\u001b[23m NA, NA, NA, NA, NA, \"Black\", \"Black\", \"Black\", …\n",
      "$ SafetyStockLevel      \u001b[3m\u001b[90m<int>\u001b[39m\u001b[23m 1000, 1000, 800, 800, 800, 500, 500, 500, 1000,…\n",
      "$ ReorderPoint          \u001b[3m\u001b[90m<int>\u001b[39m\u001b[23m 750, 750, 600, 600, 600, 375, 375, 375, 750, 75…\n",
      "$ StandardCost          \u001b[3m\u001b[90m<dbl>\u001b[39m\u001b[23m 0, 0, 0, 0, 0, 0, 0, 0, 0, 0, 0, 0, 0, 0, 0, 0,…\n",
      "$ ListPrice             \u001b[3m\u001b[90m<dbl>\u001b[39m\u001b[23m 0, 0, 0, 0, 0, 0, 0, 0, 0, 0, 0, 0, 0, 0, 0, 0,…\n",
      "$ Size                  \u001b[3m\u001b[90m<chr>\u001b[39m\u001b[23m NA, NA, NA, NA, NA, NA, NA, NA, NA, NA, NA, NA,…\n",
      "$ SizeUnitMeasureCode   \u001b[3m\u001b[90m<chr>\u001b[39m\u001b[23m NA, NA, NA, NA, NA, NA, NA, NA, NA, NA, NA, NA,…\n",
      "$ WeightUnitMeasureCode \u001b[3m\u001b[90m<chr>\u001b[39m\u001b[23m NA, NA, NA, NA, NA, NA, NA, NA, NA, NA, NA, NA,…\n",
      "$ Weight                \u001b[3m\u001b[90m<dbl>\u001b[39m\u001b[23m NA, NA, NA, NA, NA, NA, NA, NA, NA, NA, NA, NA,…\n",
      "$ DaysToManufacture     \u001b[3m\u001b[90m<int>\u001b[39m\u001b[23m 0, 0, 1, 0, 1, 0, 0, 0, 0, 0, 0, 0, 1, 0, 0, 1,…\n",
      "$ ProductLine           \u001b[3m\u001b[90m<chr>\u001b[39m\u001b[23m NA, NA, NA, NA, NA, NA, NA, NA, NA, NA, NA, NA,…\n",
      "$ Class                 \u001b[3m\u001b[90m<chr>\u001b[39m\u001b[23m NA, NA, NA, NA, NA, \"L \", \"M \", NA, NA, NA, NA,…\n",
      "$ Style                 \u001b[3m\u001b[90m<chr>\u001b[39m\u001b[23m NA, NA, NA, NA, NA, NA, NA, NA, NA, NA, NA, NA,…\n",
      "$ ProductSubcategoryID  \u001b[3m\u001b[90m<int>\u001b[39m\u001b[23m NA, NA, NA, NA, NA, NA, NA, NA, NA, NA, NA, NA,…\n",
      "$ ProductModelID        \u001b[3m\u001b[90m<int>\u001b[39m\u001b[23m NA, NA, NA, NA, NA, NA, NA, NA, NA, NA, NA, NA,…\n",
      "$ SellStartDate         \u001b[3m\u001b[90m<dttm>\u001b[39m\u001b[23m 2008-04-30, 2008-04-30, 2008-04-30, 2008-04-30…\n",
      "$ SellEndDate           \u001b[3m\u001b[90m<dttm>\u001b[39m\u001b[23m NA, NA, NA, NA, NA, NA, NA, NA, NA, NA, NA, NA…\n",
      "$ DiscontinuedDate      \u001b[3m\u001b[90m<dttm>\u001b[39m\u001b[23m NA, NA, NA, NA, NA, NA, NA, NA, NA, NA, NA, NA…\n",
      "Observations: 10\n",
      "Variables: 8\n",
      "$ TerritoryID       \u001b[3m\u001b[90m<int>\u001b[39m\u001b[23m 1, 2, 3, 4, 5, 6, 7, 8, 9, 10\n",
      "$ Name              \u001b[3m\u001b[90m<chr>\u001b[39m\u001b[23m \"Northwest\", \"Northeast\", \"Central\", \"Southwest\", \"…\n",
      "$ CountryRegionCode \u001b[3m\u001b[90m<chr>\u001b[39m\u001b[23m \"US\", \"US\", \"US\", \"US\", \"US\", \"CA\", \"FR\", \"DE\", \"AU…\n",
      "$ Group             \u001b[3m\u001b[90m<chr>\u001b[39m\u001b[23m \"North America\", \"North America\", \"North America\", …\n",
      "$ SalesYTD          \u001b[3m\u001b[90m<dbl>\u001b[39m\u001b[23m 7887187, 2402177, 3072175, 10510854, 2538667, 67718…\n",
      "$ SalesLastYear     \u001b[3m\u001b[90m<dbl>\u001b[39m\u001b[23m 3298694, 3607149, 3205014, 5366576, 3925071, 569398…\n",
      "$ CostYTD           \u001b[3m\u001b[90m<dbl>\u001b[39m\u001b[23m 0, 0, 0, 0, 0, 0, 0, 0, 0, 0\n",
      "$ CostLastYear      \u001b[3m\u001b[90m<dbl>\u001b[39m\u001b[23m 0, 0, 0, 0, 0, 0, 0, 0, 0, 0\n"
     ]
    }
   ],
   "source": [
    "# Get Production.Product\n",
    "# exclude metadata columns: rowguid, ModifiedDate\n",
    "sql_select <- \"SELECT * FROM Production.Product\"\n",
    "df_product <- conn %>% \n",
    "   dbGetQuery(sql_select) %>% \n",
    "   select(-rowguid, -ModifiedDate)\n",
    "\n",
    "# Get Sales.SalesTerritory\n",
    "# exclude metadata columns: rowguid, ModifiedDate\n",
    "sql_select <- \"SELECT * FROM sales.SalesTerritory\"\n",
    "df_sales_territory <- conn %>% \n",
    "   dbGetQuery(sql_select) %>% \n",
    "   select(-rowguid, -ModifiedDate)\n",
    "\n",
    "# Glimpse results\n",
    "glimpse(df_product)\n",
    "glimpse(df_sales_territory)"
   ]
  },
  {
   "cell_type": "code",
   "execution_count": 19,
   "metadata": {},
   "outputs": [
    {
     "name": "stderr",
     "output_type": "stream",
     "text": [
      "Joining, by = \"ProductID\"\n",
      "Joining, by = c(\"TerritoryID\", \"Name\")\n"
     ]
    },
    {
     "name": "stdout",
     "output_type": "stream",
     "text": [
      "Observations: 121,317\n",
      "Variables: 64\n",
      "$ SalesOrderID                  \u001b[3m\u001b[90m<int>\u001b[39m\u001b[23m 43659, 43659, 43659, 43659, 43659, 4365…\n",
      "$ RevisionNumber                \u001b[3m\u001b[90m<int>\u001b[39m\u001b[23m 8, 8, 8, 8, 8, 8, 8, 8, 8, 8, 8, 8, 8, …\n",
      "$ OrderDate                     \u001b[3m\u001b[90m<dttm>\u001b[39m\u001b[23m 2011-05-31, 2011-05-31, 2011-05-31, 20…\n",
      "$ DueDate                       \u001b[3m\u001b[90m<dttm>\u001b[39m\u001b[23m 2011-06-12, 2011-06-12, 2011-06-12, 20…\n",
      "$ ShipDate                      \u001b[3m\u001b[90m<dttm>\u001b[39m\u001b[23m 2011-06-07, 2011-06-07, 2011-06-07, 20…\n",
      "$ Status                        \u001b[3m\u001b[90m<int>\u001b[39m\u001b[23m 5, 5, 5, 5, 5, 5, 5, 5, 5, 5, 5, 5, 5, …\n",
      "$ OnlineOrderFlag               \u001b[3m\u001b[90m<lgl>\u001b[39m\u001b[23m FALSE, FALSE, FALSE, FALSE, FALSE, FALS…\n",
      "$ SalesOrderNumber              \u001b[3m\u001b[90m<chr>\u001b[39m\u001b[23m \"SO43659\", \"SO43659\", \"SO43659\", \"SO436…\n",
      "$ PurchaseOrderNumber           \u001b[3m\u001b[90m<chr>\u001b[39m\u001b[23m \"PO522145787\", \"PO522145787\", \"PO522145…\n",
      "$ AccountNumber                 \u001b[3m\u001b[90m<chr>\u001b[39m\u001b[23m \"10-4020-000676\", \"10-4020-000676\", \"10…\n",
      "$ CustomerID                    \u001b[3m\u001b[90m<int>\u001b[39m\u001b[23m 29825, 29825, 29825, 29825, 29825, 2982…\n",
      "$ SalesPersonID                 \u001b[3m\u001b[90m<int>\u001b[39m\u001b[23m 279, 279, 279, 279, 279, 279, 279, 279,…\n",
      "$ TerritoryID                   \u001b[3m\u001b[90m<int>\u001b[39m\u001b[23m 5, 5, 5, 5, 5, 5, 5, 5, 5, 5, 5, 5, 5, …\n",
      "$ BillToAddressID               \u001b[3m\u001b[90m<int>\u001b[39m\u001b[23m 985, 985, 985, 985, 985, 985, 985, 985,…\n",
      "$ ShipToAddressID               \u001b[3m\u001b[90m<int>\u001b[39m\u001b[23m 985, 985, 985, 985, 985, 985, 985, 985,…\n",
      "$ ShipMethodID                  \u001b[3m\u001b[90m<int>\u001b[39m\u001b[23m 5, 5, 5, 5, 5, 5, 5, 5, 5, 5, 5, 5, 5, …\n",
      "$ CreditCardID                  \u001b[3m\u001b[90m<int>\u001b[39m\u001b[23m 16281, 16281, 16281, 16281, 16281, 1628…\n",
      "$ CreditCardApprovalCode        \u001b[3m\u001b[90m<chr>\u001b[39m\u001b[23m \"105041Vi84182\", \"105041Vi84182\", \"1050…\n",
      "$ CurrencyRateID                \u001b[3m\u001b[90m<int>\u001b[39m\u001b[23m NA, NA, NA, NA, NA, NA, NA, NA, NA, NA,…\n",
      "$ SubTotal                      \u001b[3m\u001b[90m<dbl>\u001b[39m\u001b[23m 20565.621, 20565.621, 20565.621, 20565.…\n",
      "$ TaxAmt                        \u001b[3m\u001b[90m<dbl>\u001b[39m\u001b[23m 1971.5149, 1971.5149, 1971.5149, 1971.5…\n",
      "$ Freight                       \u001b[3m\u001b[90m<dbl>\u001b[39m\u001b[23m 616.0984, 616.0984, 616.0984, 616.0984,…\n",
      "$ TotalDue                      \u001b[3m\u001b[90m<dbl>\u001b[39m\u001b[23m 23153.234, 23153.234, 23153.234, 23153.…\n",
      "$ Comment                       \u001b[3m\u001b[90m<chr>\u001b[39m\u001b[23m NA, NA, NA, NA, NA, NA, NA, NA, NA, NA,…\n",
      "$ SalesOrderHeader_rowguide     \u001b[3m\u001b[90m<chr>\u001b[39m\u001b[23m \"79B65321-39CA-4115-9CBA-8FE0903E12E6\",…\n",
      "$ SalesOrderHeader_ModifiedDate \u001b[3m\u001b[90m<dttm>\u001b[39m\u001b[23m 2011-06-07, 2011-06-07, 2011-06-07, 20…\n",
      "$ SalesOrderDetailID            \u001b[3m\u001b[90m<int>\u001b[39m\u001b[23m 1, 2, 3, 4, 5, 6, 7, 8, 9, 10, 11, 12, …\n",
      "$ CarrierTrackingNumber         \u001b[3m\u001b[90m<chr>\u001b[39m\u001b[23m \"4911-403C-98\", \"4911-403C-98\", \"4911-4…\n",
      "$ OrderQty                      \u001b[3m\u001b[90m<int>\u001b[39m\u001b[23m 1, 3, 1, 1, 1, 2, 1, 3, 1, 6, 2, 4, 1, …\n",
      "$ ProductID                     \u001b[3m\u001b[90m<int>\u001b[39m\u001b[23m 776, 777, 778, 771, 772, 773, 774, 714,…\n",
      "$ SpecialOfferID                \u001b[3m\u001b[90m<int>\u001b[39m\u001b[23m 1, 1, 1, 1, 1, 1, 1, 1, 1, 1, 1, 1, 1, …\n",
      "$ UnitPrice                     \u001b[3m\u001b[90m<dbl>\u001b[39m\u001b[23m 2024.9940, 2024.9940, 2024.9940, 2039.9…\n",
      "$ UnitPriceDiscount             \u001b[3m\u001b[90m<dbl>\u001b[39m\u001b[23m 0, 0, 0, 0, 0, 0, 0, 0, 0, 0, 0, 0, 0, …\n",
      "$ LineTotal                     \u001b[3m\u001b[90m<dbl>\u001b[39m\u001b[23m 2024.9940, 6074.9820, 2024.9940, 2039.9…\n",
      "$ SalesOrderDetail_rowguide     \u001b[3m\u001b[90m<chr>\u001b[39m\u001b[23m \"B207C96D-D9E6-402B-8470-2CC176C42283\",…\n",
      "$ SalesOrderDetail_ModifiedDate \u001b[3m\u001b[90m<dttm>\u001b[39m\u001b[23m 2011-05-31, 2011-05-31, 2011-05-31, 20…\n",
      "$ Name                          \u001b[3m\u001b[90m<chr>\u001b[39m\u001b[23m \"Mountain-100 Black, 42\", \"Mountain-100…\n",
      "$ ProductNumber                 \u001b[3m\u001b[90m<chr>\u001b[39m\u001b[23m \"BK-M82B-42\", \"BK-M82B-44\", \"BK-M82B-48…\n",
      "$ MakeFlag                      \u001b[3m\u001b[90m<lgl>\u001b[39m\u001b[23m TRUE, TRUE, TRUE, TRUE, TRUE, TRUE, TRU…\n",
      "$ FinishedGoodsFlag             \u001b[3m\u001b[90m<lgl>\u001b[39m\u001b[23m TRUE, TRUE, TRUE, TRUE, TRUE, TRUE, TRU…\n",
      "$ Color                         \u001b[3m\u001b[90m<chr>\u001b[39m\u001b[23m \"Black\", \"Black\", \"Black\", \"Silver\", \"S…\n",
      "$ SafetyStockLevel              \u001b[3m\u001b[90m<int>\u001b[39m\u001b[23m 100, 100, 100, 100, 100, 100, 100, 4, 4…\n",
      "$ ReorderPoint                  \u001b[3m\u001b[90m<int>\u001b[39m\u001b[23m 75, 75, 75, 75, 75, 75, 75, 3, 3, 3, 3,…\n",
      "$ StandardCost                  \u001b[3m\u001b[90m<dbl>\u001b[39m\u001b[23m 1898.0944, 1898.0944, 1898.0944, 1912.1…\n",
      "$ ListPrice                     \u001b[3m\u001b[90m<dbl>\u001b[39m\u001b[23m 3374.99, 3374.99, 3374.99, 3399.99, 339…\n",
      "$ Size                          \u001b[3m\u001b[90m<chr>\u001b[39m\u001b[23m \"42\", \"44\", \"48\", \"38\", \"42\", \"44\", \"48…\n",
      "$ SizeUnitMeasureCode           \u001b[3m\u001b[90m<chr>\u001b[39m\u001b[23m \"CM \", \"CM \", \"CM \", \"CM \", \"CM \", \"CM …\n",
      "$ WeightUnitMeasureCode         \u001b[3m\u001b[90m<chr>\u001b[39m\u001b[23m \"LB \", \"LB \", \"LB \", \"LB \", \"LB \", \"LB …\n",
      "$ Weight                        \u001b[3m\u001b[90m<dbl>\u001b[39m\u001b[23m 20.77, 21.13, 21.42, 20.35, 20.77, 21.1…\n",
      "$ DaysToManufacture             \u001b[3m\u001b[90m<int>\u001b[39m\u001b[23m 4, 4, 4, 4, 4, 4, 4, 0, 0, 0, 0, 0, 4, …\n",
      "$ ProductLine                   \u001b[3m\u001b[90m<chr>\u001b[39m\u001b[23m \"M \", \"M \", \"M \", \"M \", \"M \", \"M \", \"M …\n",
      "$ Class                         \u001b[3m\u001b[90m<chr>\u001b[39m\u001b[23m \"H \", \"H \", \"H \", \"H \", \"H \", \"H \", \"H …\n",
      "$ Style                         \u001b[3m\u001b[90m<chr>\u001b[39m\u001b[23m \"U \", \"U \", \"U \", \"U \", \"U \", \"U \", \"U …\n",
      "$ ProductSubcategoryID          \u001b[3m\u001b[90m<int>\u001b[39m\u001b[23m 1, 1, 1, 1, 1, 1, 1, 21, 21, 23, 19, 31…\n",
      "$ ProductModelID                \u001b[3m\u001b[90m<int>\u001b[39m\u001b[23m 19, 19, 19, 19, 19, 19, 19, 11, 11, 18,…\n",
      "$ SellStartDate                 \u001b[3m\u001b[90m<dttm>\u001b[39m\u001b[23m 2011-05-31, 2011-05-31, 2011-05-31, 20…\n",
      "$ SellEndDate                   \u001b[3m\u001b[90m<dttm>\u001b[39m\u001b[23m 2012-05-29, 2012-05-29, 2012-05-29, 20…\n",
      "$ DiscontinuedDate              \u001b[3m\u001b[90m<dttm>\u001b[39m\u001b[23m NA, NA, NA, NA, NA, NA, NA, NA, NA, NA…\n",
      "$ CountryRegionCode             \u001b[3m\u001b[90m<chr>\u001b[39m\u001b[23m NA, NA, NA, NA, NA, NA, NA, NA, NA, NA,…\n",
      "$ Group                         \u001b[3m\u001b[90m<chr>\u001b[39m\u001b[23m NA, NA, NA, NA, NA, NA, NA, NA, NA, NA,…\n",
      "$ SalesYTD                      \u001b[3m\u001b[90m<dbl>\u001b[39m\u001b[23m NA, NA, NA, NA, NA, NA, NA, NA, NA, NA,…\n",
      "$ SalesLastYear                 \u001b[3m\u001b[90m<dbl>\u001b[39m\u001b[23m NA, NA, NA, NA, NA, NA, NA, NA, NA, NA,…\n",
      "$ CostYTD                       \u001b[3m\u001b[90m<dbl>\u001b[39m\u001b[23m NA, NA, NA, NA, NA, NA, NA, NA, NA, NA,…\n",
      "$ CostLastYear                  \u001b[3m\u001b[90m<dbl>\u001b[39m\u001b[23m NA, NA, NA, NA, NA, NA, NA, NA, NA, NA,…\n"
     ]
    }
   ],
   "source": [
    "# left join df_sales_order with\n",
    "# df_product and df_sales_territory\n",
    "# store df_sales_order_complete\n",
    "# do not specify the by parameter\n",
    "df_sales_order_complete <- df_sales_order %>% \n",
    "   left_join(df_product) %>% \n",
    "   left_join(df_sales_territory)\n",
    "\n",
    "# Glimpse result\n",
    "glimpse(df_sales_order_complete)"
   ]
  },
  {
   "cell_type": "markdown",
   "metadata": {},
   "source": [
    "Notice the warning message from the automatic by parameter. Were these the join columns you expected? \n",
    "\n",
    "This is a convenient way to help determine the by parameter and alert you to any potential issues. "
   ]
  },
  {
   "cell_type": "code",
   "execution_count": 21,
   "metadata": {},
   "outputs": [
    {
     "name": "stderr",
     "output_type": "stream",
     "text": [
      "Joining, by = \"ProductID\"\n",
      "Joining, by = \"TerritoryID\"\n"
     ]
    },
    {
     "name": "stdout",
     "output_type": "stream",
     "text": [
      "Observations: 121,317\n",
      "Variables: 65\n",
      "$ SalesOrderID                  \u001b[3m\u001b[90m<int>\u001b[39m\u001b[23m 43659, 43659, 43659, 43659, 43659, 4365…\n",
      "$ RevisionNumber                \u001b[3m\u001b[90m<int>\u001b[39m\u001b[23m 8, 8, 8, 8, 8, 8, 8, 8, 8, 8, 8, 8, 8, …\n",
      "$ OrderDate                     \u001b[3m\u001b[90m<dttm>\u001b[39m\u001b[23m 2011-05-31, 2011-05-31, 2011-05-31, 20…\n",
      "$ DueDate                       \u001b[3m\u001b[90m<dttm>\u001b[39m\u001b[23m 2011-06-12, 2011-06-12, 2011-06-12, 20…\n",
      "$ ShipDate                      \u001b[3m\u001b[90m<dttm>\u001b[39m\u001b[23m 2011-06-07, 2011-06-07, 2011-06-07, 20…\n",
      "$ Status                        \u001b[3m\u001b[90m<int>\u001b[39m\u001b[23m 5, 5, 5, 5, 5, 5, 5, 5, 5, 5, 5, 5, 5, …\n",
      "$ OnlineOrderFlag               \u001b[3m\u001b[90m<lgl>\u001b[39m\u001b[23m FALSE, FALSE, FALSE, FALSE, FALSE, FALS…\n",
      "$ SalesOrderNumber              \u001b[3m\u001b[90m<chr>\u001b[39m\u001b[23m \"SO43659\", \"SO43659\", \"SO43659\", \"SO436…\n",
      "$ PurchaseOrderNumber           \u001b[3m\u001b[90m<chr>\u001b[39m\u001b[23m \"PO522145787\", \"PO522145787\", \"PO522145…\n",
      "$ AccountNumber                 \u001b[3m\u001b[90m<chr>\u001b[39m\u001b[23m \"10-4020-000676\", \"10-4020-000676\", \"10…\n",
      "$ CustomerID                    \u001b[3m\u001b[90m<int>\u001b[39m\u001b[23m 29825, 29825, 29825, 29825, 29825, 2982…\n",
      "$ SalesPersonID                 \u001b[3m\u001b[90m<int>\u001b[39m\u001b[23m 279, 279, 279, 279, 279, 279, 279, 279,…\n",
      "$ TerritoryID                   \u001b[3m\u001b[90m<int>\u001b[39m\u001b[23m 5, 5, 5, 5, 5, 5, 5, 5, 5, 5, 5, 5, 5, …\n",
      "$ BillToAddressID               \u001b[3m\u001b[90m<int>\u001b[39m\u001b[23m 985, 985, 985, 985, 985, 985, 985, 985,…\n",
      "$ ShipToAddressID               \u001b[3m\u001b[90m<int>\u001b[39m\u001b[23m 985, 985, 985, 985, 985, 985, 985, 985,…\n",
      "$ ShipMethodID                  \u001b[3m\u001b[90m<int>\u001b[39m\u001b[23m 5, 5, 5, 5, 5, 5, 5, 5, 5, 5, 5, 5, 5, …\n",
      "$ CreditCardID                  \u001b[3m\u001b[90m<int>\u001b[39m\u001b[23m 16281, 16281, 16281, 16281, 16281, 1628…\n",
      "$ CreditCardApprovalCode        \u001b[3m\u001b[90m<chr>\u001b[39m\u001b[23m \"105041Vi84182\", \"105041Vi84182\", \"1050…\n",
      "$ CurrencyRateID                \u001b[3m\u001b[90m<int>\u001b[39m\u001b[23m NA, NA, NA, NA, NA, NA, NA, NA, NA, NA,…\n",
      "$ SubTotal                      \u001b[3m\u001b[90m<dbl>\u001b[39m\u001b[23m 20565.621, 20565.621, 20565.621, 20565.…\n",
      "$ TaxAmt                        \u001b[3m\u001b[90m<dbl>\u001b[39m\u001b[23m 1971.5149, 1971.5149, 1971.5149, 1971.5…\n",
      "$ Freight                       \u001b[3m\u001b[90m<dbl>\u001b[39m\u001b[23m 616.0984, 616.0984, 616.0984, 616.0984,…\n",
      "$ TotalDue                      \u001b[3m\u001b[90m<dbl>\u001b[39m\u001b[23m 23153.234, 23153.234, 23153.234, 23153.…\n",
      "$ Comment                       \u001b[3m\u001b[90m<chr>\u001b[39m\u001b[23m NA, NA, NA, NA, NA, NA, NA, NA, NA, NA,…\n",
      "$ SalesOrderHeader_rowguide     \u001b[3m\u001b[90m<chr>\u001b[39m\u001b[23m \"79B65321-39CA-4115-9CBA-8FE0903E12E6\",…\n",
      "$ SalesOrderHeader_ModifiedDate \u001b[3m\u001b[90m<dttm>\u001b[39m\u001b[23m 2011-06-07, 2011-06-07, 2011-06-07, 20…\n",
      "$ SalesOrderDetailID            \u001b[3m\u001b[90m<int>\u001b[39m\u001b[23m 1, 2, 3, 4, 5, 6, 7, 8, 9, 10, 11, 12, …\n",
      "$ CarrierTrackingNumber         \u001b[3m\u001b[90m<chr>\u001b[39m\u001b[23m \"4911-403C-98\", \"4911-403C-98\", \"4911-4…\n",
      "$ OrderQty                      \u001b[3m\u001b[90m<int>\u001b[39m\u001b[23m 1, 3, 1, 1, 1, 2, 1, 3, 1, 6, 2, 4, 1, …\n",
      "$ ProductID                     \u001b[3m\u001b[90m<int>\u001b[39m\u001b[23m 776, 777, 778, 771, 772, 773, 774, 714,…\n",
      "$ SpecialOfferID                \u001b[3m\u001b[90m<int>\u001b[39m\u001b[23m 1, 1, 1, 1, 1, 1, 1, 1, 1, 1, 1, 1, 1, …\n",
      "$ UnitPrice                     \u001b[3m\u001b[90m<dbl>\u001b[39m\u001b[23m 2024.9940, 2024.9940, 2024.9940, 2039.9…\n",
      "$ UnitPriceDiscount             \u001b[3m\u001b[90m<dbl>\u001b[39m\u001b[23m 0, 0, 0, 0, 0, 0, 0, 0, 0, 0, 0, 0, 0, …\n",
      "$ LineTotal                     \u001b[3m\u001b[90m<dbl>\u001b[39m\u001b[23m 2024.9940, 6074.9820, 2024.9940, 2039.9…\n",
      "$ SalesOrderDetail_rowguide     \u001b[3m\u001b[90m<chr>\u001b[39m\u001b[23m \"B207C96D-D9E6-402B-8470-2CC176C42283\",…\n",
      "$ SalesOrderDetail_ModifiedDate \u001b[3m\u001b[90m<dttm>\u001b[39m\u001b[23m 2011-05-31, 2011-05-31, 2011-05-31, 20…\n",
      "$ product_Name                  \u001b[3m\u001b[90m<chr>\u001b[39m\u001b[23m \"Mountain-100 Black, 42\", \"Mountain-100…\n",
      "$ ProductNumber                 \u001b[3m\u001b[90m<chr>\u001b[39m\u001b[23m \"BK-M82B-42\", \"BK-M82B-44\", \"BK-M82B-48…\n",
      "$ MakeFlag                      \u001b[3m\u001b[90m<lgl>\u001b[39m\u001b[23m TRUE, TRUE, TRUE, TRUE, TRUE, TRUE, TRU…\n",
      "$ FinishedGoodsFlag             \u001b[3m\u001b[90m<lgl>\u001b[39m\u001b[23m TRUE, TRUE, TRUE, TRUE, TRUE, TRUE, TRU…\n",
      "$ Color                         \u001b[3m\u001b[90m<chr>\u001b[39m\u001b[23m \"Black\", \"Black\", \"Black\", \"Silver\", \"S…\n",
      "$ SafetyStockLevel              \u001b[3m\u001b[90m<int>\u001b[39m\u001b[23m 100, 100, 100, 100, 100, 100, 100, 4, 4…\n",
      "$ ReorderPoint                  \u001b[3m\u001b[90m<int>\u001b[39m\u001b[23m 75, 75, 75, 75, 75, 75, 75, 3, 3, 3, 3,…\n",
      "$ StandardCost                  \u001b[3m\u001b[90m<dbl>\u001b[39m\u001b[23m 1898.0944, 1898.0944, 1898.0944, 1912.1…\n",
      "$ ListPrice                     \u001b[3m\u001b[90m<dbl>\u001b[39m\u001b[23m 3374.99, 3374.99, 3374.99, 3399.99, 339…\n",
      "$ Size                          \u001b[3m\u001b[90m<chr>\u001b[39m\u001b[23m \"42\", \"44\", \"48\", \"38\", \"42\", \"44\", \"48…\n",
      "$ SizeUnitMeasureCode           \u001b[3m\u001b[90m<chr>\u001b[39m\u001b[23m \"CM \", \"CM \", \"CM \", \"CM \", \"CM \", \"CM …\n",
      "$ WeightUnitMeasureCode         \u001b[3m\u001b[90m<chr>\u001b[39m\u001b[23m \"LB \", \"LB \", \"LB \", \"LB \", \"LB \", \"LB …\n",
      "$ Weight                        \u001b[3m\u001b[90m<dbl>\u001b[39m\u001b[23m 20.77, 21.13, 21.42, 20.35, 20.77, 21.1…\n",
      "$ DaysToManufacture             \u001b[3m\u001b[90m<int>\u001b[39m\u001b[23m 4, 4, 4, 4, 4, 4, 4, 0, 0, 0, 0, 0, 4, …\n",
      "$ ProductLine                   \u001b[3m\u001b[90m<chr>\u001b[39m\u001b[23m \"M \", \"M \", \"M \", \"M \", \"M \", \"M \", \"M …\n",
      "$ Class                         \u001b[3m\u001b[90m<chr>\u001b[39m\u001b[23m \"H \", \"H \", \"H \", \"H \", \"H \", \"H \", \"H …\n",
      "$ Style                         \u001b[3m\u001b[90m<chr>\u001b[39m\u001b[23m \"U \", \"U \", \"U \", \"U \", \"U \", \"U \", \"U …\n",
      "$ ProductSubcategoryID          \u001b[3m\u001b[90m<int>\u001b[39m\u001b[23m 1, 1, 1, 1, 1, 1, 1, 21, 21, 23, 19, 31…\n",
      "$ ProductModelID                \u001b[3m\u001b[90m<int>\u001b[39m\u001b[23m 19, 19, 19, 19, 19, 19, 19, 11, 11, 18,…\n",
      "$ SellStartDate                 \u001b[3m\u001b[90m<dttm>\u001b[39m\u001b[23m 2011-05-31, 2011-05-31, 2011-05-31, 20…\n",
      "$ SellEndDate                   \u001b[3m\u001b[90m<dttm>\u001b[39m\u001b[23m 2012-05-29, 2012-05-29, 2012-05-29, 20…\n",
      "$ DiscontinuedDate              \u001b[3m\u001b[90m<dttm>\u001b[39m\u001b[23m NA, NA, NA, NA, NA, NA, NA, NA, NA, NA…\n",
      "$ salesterritory_name           \u001b[3m\u001b[90m<chr>\u001b[39m\u001b[23m \"Southeast\", \"Southeast\", \"Southeast\", …\n",
      "$ CountryRegionCode             \u001b[3m\u001b[90m<chr>\u001b[39m\u001b[23m \"US\", \"US\", \"US\", \"US\", \"US\", \"US\", \"US…\n",
      "$ Group                         \u001b[3m\u001b[90m<chr>\u001b[39m\u001b[23m \"North America\", \"North America\", \"Nort…\n",
      "$ SalesYTD                      \u001b[3m\u001b[90m<dbl>\u001b[39m\u001b[23m 2538667, 2538667, 2538667, 2538667, 253…\n",
      "$ SalesLastYear                 \u001b[3m\u001b[90m<dbl>\u001b[39m\u001b[23m 3925071, 3925071, 3925071, 3925071, 392…\n",
      "$ CostYTD                       \u001b[3m\u001b[90m<dbl>\u001b[39m\u001b[23m 0, 0, 0, 0, 0, 0, 0, 0, 0, 0, 0, 0, 0, …\n",
      "$ CostLastYear                  \u001b[3m\u001b[90m<dbl>\u001b[39m\u001b[23m 0, 0, 0, 0, 0, 0, 0, 0, 0, 0, 0, 0, 0, …\n"
     ]
    }
   ],
   "source": [
    "# left join df_sales_order with\n",
    "# df_product and df_sales_territory\n",
    "# rename the Name columns to <table>_Name before joining\n",
    "# store df_sales_order_complete\n",
    "# do not specify the by parameter\n",
    "df_sales_order_complete <- df_sales_order %>% \n",
    "   left_join(df_product %>% rename(product_Name = Name)) %>% \n",
    "   left_join(df_sales_territory %>% rename(salesterritory_name = Name))\n",
    "\n",
    "# Glimpse result\n",
    "glimpse(df_sales_order_complete)"
   ]
  },
  {
   "cell_type": "markdown",
   "metadata": {},
   "source": [
    "Are the rows of data what you expected? \n",
    "\n",
    "Adding in lookup or dimension tables shouldn't increase the row count from the underlying transaction or fact table. Always look at the row count from joins. The row count may alert you to when data is messy or the grain of the table is not what you expected. Using a left join instead of an inner join ensure that no transaction rows get removed. \n",
    "\n",
    "Notice that you can alter the left and right join tables inline in the code. Once the Name columns were renamed before joining, the auto join feature worked as expected. If the warning message bothers you, you can always specify the join criteria explicitly. If you practice defensive programming, you would be explicit whenever possible as opposed to relying on automatic behavior which could have unexpected results if the input data changes."
   ]
  },
  {
   "cell_type": "markdown",
   "metadata": {},
   "source": [
    "## Semi_join() and Anti_join()\n",
    "If you don't want to join all the data into a single table, you will have some sort of related dataframes that you may need to join together for analysis purposes. semi_join() and anti_join() are useful in situations where you want to filter one dataframe by some criteria in another dataframe but do *not* need the data from the other dataframe. \n",
    "\n",
    "semi and anti joins perform the join but don't add any of the rows from the right table. They simply filter the left table. A semi join retains rows when there is a match with the right table. anti join has the opposite behavior, retains only the rows *not* in the right table."
   ]
  },
  {
   "cell_type": "code",
   "execution_count": 23,
   "metadata": {},
   "outputs": [
    {
     "name": "stderr",
     "output_type": "stream",
     "text": [
      "Joining, by = \"TerritoryID\"\n"
     ]
    },
    {
     "name": "stdout",
     "output_type": "stream",
     "text": [
      "Observations: 121,317\n",
      "Variables: 36\n",
      "$ SalesOrderID                  \u001b[3m\u001b[90m<int>\u001b[39m\u001b[23m 43659, 43659, 43659, 43659, 43659, 4365…\n",
      "$ RevisionNumber                \u001b[3m\u001b[90m<int>\u001b[39m\u001b[23m 8, 8, 8, 8, 8, 8, 8, 8, 8, 8, 8, 8, 8, …\n",
      "$ OrderDate                     \u001b[3m\u001b[90m<dttm>\u001b[39m\u001b[23m 2011-05-31, 2011-05-31, 2011-05-31, 20…\n",
      "$ DueDate                       \u001b[3m\u001b[90m<dttm>\u001b[39m\u001b[23m 2011-06-12, 2011-06-12, 2011-06-12, 20…\n",
      "$ ShipDate                      \u001b[3m\u001b[90m<dttm>\u001b[39m\u001b[23m 2011-06-07, 2011-06-07, 2011-06-07, 20…\n",
      "$ Status                        \u001b[3m\u001b[90m<int>\u001b[39m\u001b[23m 5, 5, 5, 5, 5, 5, 5, 5, 5, 5, 5, 5, 5, …\n",
      "$ OnlineOrderFlag               \u001b[3m\u001b[90m<lgl>\u001b[39m\u001b[23m FALSE, FALSE, FALSE, FALSE, FALSE, FALS…\n",
      "$ SalesOrderNumber              \u001b[3m\u001b[90m<chr>\u001b[39m\u001b[23m \"SO43659\", \"SO43659\", \"SO43659\", \"SO436…\n",
      "$ PurchaseOrderNumber           \u001b[3m\u001b[90m<chr>\u001b[39m\u001b[23m \"PO522145787\", \"PO522145787\", \"PO522145…\n",
      "$ AccountNumber                 \u001b[3m\u001b[90m<chr>\u001b[39m\u001b[23m \"10-4020-000676\", \"10-4020-000676\", \"10…\n",
      "$ CustomerID                    \u001b[3m\u001b[90m<int>\u001b[39m\u001b[23m 29825, 29825, 29825, 29825, 29825, 2982…\n",
      "$ SalesPersonID                 \u001b[3m\u001b[90m<int>\u001b[39m\u001b[23m 279, 279, 279, 279, 279, 279, 279, 279,…\n",
      "$ TerritoryID                   \u001b[3m\u001b[90m<int>\u001b[39m\u001b[23m 5, 5, 5, 5, 5, 5, 5, 5, 5, 5, 5, 5, 5, …\n",
      "$ BillToAddressID               \u001b[3m\u001b[90m<int>\u001b[39m\u001b[23m 985, 985, 985, 985, 985, 985, 985, 985,…\n",
      "$ ShipToAddressID               \u001b[3m\u001b[90m<int>\u001b[39m\u001b[23m 985, 985, 985, 985, 985, 985, 985, 985,…\n",
      "$ ShipMethodID                  \u001b[3m\u001b[90m<int>\u001b[39m\u001b[23m 5, 5, 5, 5, 5, 5, 5, 5, 5, 5, 5, 5, 5, …\n",
      "$ CreditCardID                  \u001b[3m\u001b[90m<int>\u001b[39m\u001b[23m 16281, 16281, 16281, 16281, 16281, 1628…\n",
      "$ CreditCardApprovalCode        \u001b[3m\u001b[90m<chr>\u001b[39m\u001b[23m \"105041Vi84182\", \"105041Vi84182\", \"1050…\n",
      "$ CurrencyRateID                \u001b[3m\u001b[90m<int>\u001b[39m\u001b[23m NA, NA, NA, NA, NA, NA, NA, NA, NA, NA,…\n",
      "$ SubTotal                      \u001b[3m\u001b[90m<dbl>\u001b[39m\u001b[23m 20565.621, 20565.621, 20565.621, 20565.…\n",
      "$ TaxAmt                        \u001b[3m\u001b[90m<dbl>\u001b[39m\u001b[23m 1971.5149, 1971.5149, 1971.5149, 1971.5…\n",
      "$ Freight                       \u001b[3m\u001b[90m<dbl>\u001b[39m\u001b[23m 616.0984, 616.0984, 616.0984, 616.0984,…\n",
      "$ TotalDue                      \u001b[3m\u001b[90m<dbl>\u001b[39m\u001b[23m 23153.234, 23153.234, 23153.234, 23153.…\n",
      "$ Comment                       \u001b[3m\u001b[90m<chr>\u001b[39m\u001b[23m NA, NA, NA, NA, NA, NA, NA, NA, NA, NA,…\n",
      "$ SalesOrderHeader_rowguide     \u001b[3m\u001b[90m<chr>\u001b[39m\u001b[23m \"79B65321-39CA-4115-9CBA-8FE0903E12E6\",…\n",
      "$ SalesOrderHeader_ModifiedDate \u001b[3m\u001b[90m<dttm>\u001b[39m\u001b[23m 2011-06-07, 2011-06-07, 2011-06-07, 20…\n",
      "$ SalesOrderDetailID            \u001b[3m\u001b[90m<int>\u001b[39m\u001b[23m 1, 2, 3, 4, 5, 6, 7, 8, 9, 10, 11, 12, …\n",
      "$ CarrierTrackingNumber         \u001b[3m\u001b[90m<chr>\u001b[39m\u001b[23m \"4911-403C-98\", \"4911-403C-98\", \"4911-4…\n",
      "$ OrderQty                      \u001b[3m\u001b[90m<int>\u001b[39m\u001b[23m 1, 3, 1, 1, 1, 2, 1, 3, 1, 6, 2, 4, 1, …\n",
      "$ ProductID                     \u001b[3m\u001b[90m<int>\u001b[39m\u001b[23m 776, 777, 778, 771, 772, 773, 774, 714,…\n",
      "$ SpecialOfferID                \u001b[3m\u001b[90m<int>\u001b[39m\u001b[23m 1, 1, 1, 1, 1, 1, 1, 1, 1, 1, 1, 1, 1, …\n",
      "$ UnitPrice                     \u001b[3m\u001b[90m<dbl>\u001b[39m\u001b[23m 2024.9940, 2024.9940, 2024.9940, 2039.9…\n",
      "$ UnitPriceDiscount             \u001b[3m\u001b[90m<dbl>\u001b[39m\u001b[23m 0, 0, 0, 0, 0, 0, 0, 0, 0, 0, 0, 0, 0, …\n",
      "$ LineTotal                     \u001b[3m\u001b[90m<dbl>\u001b[39m\u001b[23m 2024.9940, 6074.9820, 2024.9940, 2039.9…\n",
      "$ SalesOrderDetail_rowguide     \u001b[3m\u001b[90m<chr>\u001b[39m\u001b[23m \"B207C96D-D9E6-402B-8470-2CC176C42283\",…\n",
      "$ SalesOrderDetail_ModifiedDate \u001b[3m\u001b[90m<dttm>\u001b[39m\u001b[23m 2011-05-31, 2011-05-31, 2011-05-31, 20…\n"
     ]
    }
   ],
   "source": [
    "# semi join df_sales_order\n",
    "# with df_sales_territory\n",
    "# glimpse result, do not store in variable\n",
    "df_sales_order %>% semi_join(df_sales_territory) %>% \n",
    "   glimpse()"
   ]
  },
  {
   "cell_type": "markdown",
   "metadata": {},
   "source": [
    "Is the row count what you expected? Are there any SalesTerritory columns part of the result? \n",
    "\n",
    "Semi join matched on TerritoryID for each and every row. This is an indication of clean source data. "
   ]
  },
  {
   "cell_type": "code",
   "execution_count": 24,
   "metadata": {},
   "outputs": [
    {
     "name": "stderr",
     "output_type": "stream",
     "text": [
      "Joining, by = \"TerritoryID\"\n"
     ]
    },
    {
     "name": "stdout",
     "output_type": "stream",
     "text": [
      "Observations: 0\n",
      "Variables: 36\n",
      "$ SalesOrderID                  \u001b[3m\u001b[90m<int>\u001b[39m\u001b[23m \n",
      "$ RevisionNumber                \u001b[3m\u001b[90m<int>\u001b[39m\u001b[23m \n",
      "$ OrderDate                     \u001b[3m\u001b[90m<dttm>\u001b[39m\u001b[23m \n",
      "$ DueDate                       \u001b[3m\u001b[90m<dttm>\u001b[39m\u001b[23m \n",
      "$ ShipDate                      \u001b[3m\u001b[90m<dttm>\u001b[39m\u001b[23m \n",
      "$ Status                        \u001b[3m\u001b[90m<int>\u001b[39m\u001b[23m \n",
      "$ OnlineOrderFlag               \u001b[3m\u001b[90m<lgl>\u001b[39m\u001b[23m \n",
      "$ SalesOrderNumber              \u001b[3m\u001b[90m<chr>\u001b[39m\u001b[23m \n",
      "$ PurchaseOrderNumber           \u001b[3m\u001b[90m<chr>\u001b[39m\u001b[23m \n",
      "$ AccountNumber                 \u001b[3m\u001b[90m<chr>\u001b[39m\u001b[23m \n",
      "$ CustomerID                    \u001b[3m\u001b[90m<int>\u001b[39m\u001b[23m \n",
      "$ SalesPersonID                 \u001b[3m\u001b[90m<int>\u001b[39m\u001b[23m \n",
      "$ TerritoryID                   \u001b[3m\u001b[90m<int>\u001b[39m\u001b[23m \n",
      "$ BillToAddressID               \u001b[3m\u001b[90m<int>\u001b[39m\u001b[23m \n",
      "$ ShipToAddressID               \u001b[3m\u001b[90m<int>\u001b[39m\u001b[23m \n",
      "$ ShipMethodID                  \u001b[3m\u001b[90m<int>\u001b[39m\u001b[23m \n",
      "$ CreditCardID                  \u001b[3m\u001b[90m<int>\u001b[39m\u001b[23m \n",
      "$ CreditCardApprovalCode        \u001b[3m\u001b[90m<chr>\u001b[39m\u001b[23m \n",
      "$ CurrencyRateID                \u001b[3m\u001b[90m<int>\u001b[39m\u001b[23m \n",
      "$ SubTotal                      \u001b[3m\u001b[90m<dbl>\u001b[39m\u001b[23m \n",
      "$ TaxAmt                        \u001b[3m\u001b[90m<dbl>\u001b[39m\u001b[23m \n",
      "$ Freight                       \u001b[3m\u001b[90m<dbl>\u001b[39m\u001b[23m \n",
      "$ TotalDue                      \u001b[3m\u001b[90m<dbl>\u001b[39m\u001b[23m \n",
      "$ Comment                       \u001b[3m\u001b[90m<chr>\u001b[39m\u001b[23m \n",
      "$ SalesOrderHeader_rowguide     \u001b[3m\u001b[90m<chr>\u001b[39m\u001b[23m \n",
      "$ SalesOrderHeader_ModifiedDate \u001b[3m\u001b[90m<dttm>\u001b[39m\u001b[23m \n",
      "$ SalesOrderDetailID            \u001b[3m\u001b[90m<int>\u001b[39m\u001b[23m \n",
      "$ CarrierTrackingNumber         \u001b[3m\u001b[90m<chr>\u001b[39m\u001b[23m \n",
      "$ OrderQty                      \u001b[3m\u001b[90m<int>\u001b[39m\u001b[23m \n",
      "$ ProductID                     \u001b[3m\u001b[90m<int>\u001b[39m\u001b[23m \n",
      "$ SpecialOfferID                \u001b[3m\u001b[90m<int>\u001b[39m\u001b[23m \n",
      "$ UnitPrice                     \u001b[3m\u001b[90m<dbl>\u001b[39m\u001b[23m \n",
      "$ UnitPriceDiscount             \u001b[3m\u001b[90m<dbl>\u001b[39m\u001b[23m \n",
      "$ LineTotal                     \u001b[3m\u001b[90m<dbl>\u001b[39m\u001b[23m \n",
      "$ SalesOrderDetail_rowguide     \u001b[3m\u001b[90m<chr>\u001b[39m\u001b[23m \n",
      "$ SalesOrderDetail_ModifiedDate \u001b[3m\u001b[90m<dttm>\u001b[39m\u001b[23m \n"
     ]
    }
   ],
   "source": [
    "# anti join df_sales_order\n",
    "# with df_sales_territory\n",
    "# glimpse result, do not store in variable\n",
    "df_sales_order %>% anti_join(df_sales_territory) %>% \n",
    "   glimpse()"
   ]
  },
  {
   "cell_type": "markdown",
   "metadata": {},
   "source": [
    "Are the rows returned what you expected? \n",
    "\n",
    "Since anti_join is the opposite from semi_join, if semi_join matched all the rows then anti_join matched 0 rows. "
   ]
  },
  {
   "cell_type": "code",
   "execution_count": 25,
   "metadata": {},
   "outputs": [
    {
     "name": "stderr",
     "output_type": "stream",
     "text": [
      "Joining, by = \"TerritoryID\"\n"
     ]
    },
    {
     "name": "stdout",
     "output_type": "stream",
     "text": [
      "Observations: 60,153\n",
      "Variables: 36\n",
      "$ SalesOrderID                  \u001b[3m\u001b[90m<int>\u001b[39m\u001b[23m 43659, 43659, 43659, 43659, 43659, 4365…\n",
      "$ RevisionNumber                \u001b[3m\u001b[90m<int>\u001b[39m\u001b[23m 8, 8, 8, 8, 8, 8, 8, 8, 8, 8, 8, 8, 8, …\n",
      "$ OrderDate                     \u001b[3m\u001b[90m<dttm>\u001b[39m\u001b[23m 2011-05-31, 2011-05-31, 2011-05-31, 20…\n",
      "$ DueDate                       \u001b[3m\u001b[90m<dttm>\u001b[39m\u001b[23m 2011-06-12, 2011-06-12, 2011-06-12, 20…\n",
      "$ ShipDate                      \u001b[3m\u001b[90m<dttm>\u001b[39m\u001b[23m 2011-06-07, 2011-06-07, 2011-06-07, 20…\n",
      "$ Status                        \u001b[3m\u001b[90m<int>\u001b[39m\u001b[23m 5, 5, 5, 5, 5, 5, 5, 5, 5, 5, 5, 5, 5, …\n",
      "$ OnlineOrderFlag               \u001b[3m\u001b[90m<lgl>\u001b[39m\u001b[23m FALSE, FALSE, FALSE, FALSE, FALSE, FALS…\n",
      "$ SalesOrderNumber              \u001b[3m\u001b[90m<chr>\u001b[39m\u001b[23m \"SO43659\", \"SO43659\", \"SO43659\", \"SO436…\n",
      "$ PurchaseOrderNumber           \u001b[3m\u001b[90m<chr>\u001b[39m\u001b[23m \"PO522145787\", \"PO522145787\", \"PO522145…\n",
      "$ AccountNumber                 \u001b[3m\u001b[90m<chr>\u001b[39m\u001b[23m \"10-4020-000676\", \"10-4020-000676\", \"10…\n",
      "$ CustomerID                    \u001b[3m\u001b[90m<int>\u001b[39m\u001b[23m 29825, 29825, 29825, 29825, 29825, 2982…\n",
      "$ SalesPersonID                 \u001b[3m\u001b[90m<int>\u001b[39m\u001b[23m 279, 279, 279, 279, 279, 279, 279, 279,…\n",
      "$ TerritoryID                   \u001b[3m\u001b[90m<int>\u001b[39m\u001b[23m 5, 5, 5, 5, 5, 5, 5, 5, 5, 5, 5, 5, 5, …\n",
      "$ BillToAddressID               \u001b[3m\u001b[90m<int>\u001b[39m\u001b[23m 985, 985, 985, 985, 985, 985, 985, 985,…\n",
      "$ ShipToAddressID               \u001b[3m\u001b[90m<int>\u001b[39m\u001b[23m 985, 985, 985, 985, 985, 985, 985, 985,…\n",
      "$ ShipMethodID                  \u001b[3m\u001b[90m<int>\u001b[39m\u001b[23m 5, 5, 5, 5, 5, 5, 5, 5, 5, 5, 5, 5, 5, …\n",
      "$ CreditCardID                  \u001b[3m\u001b[90m<int>\u001b[39m\u001b[23m 16281, 16281, 16281, 16281, 16281, 1628…\n",
      "$ CreditCardApprovalCode        \u001b[3m\u001b[90m<chr>\u001b[39m\u001b[23m \"105041Vi84182\", \"105041Vi84182\", \"1050…\n",
      "$ CurrencyRateID                \u001b[3m\u001b[90m<int>\u001b[39m\u001b[23m NA, NA, NA, NA, NA, NA, NA, NA, NA, NA,…\n",
      "$ SubTotal                      \u001b[3m\u001b[90m<dbl>\u001b[39m\u001b[23m 20565.6206, 20565.6206, 20565.6206, 205…\n",
      "$ TaxAmt                        \u001b[3m\u001b[90m<dbl>\u001b[39m\u001b[23m 1971.5149, 1971.5149, 1971.5149, 1971.5…\n",
      "$ Freight                       \u001b[3m\u001b[90m<dbl>\u001b[39m\u001b[23m 616.0984, 616.0984, 616.0984, 616.0984,…\n",
      "$ TotalDue                      \u001b[3m\u001b[90m<dbl>\u001b[39m\u001b[23m 23153.2339, 23153.2339, 23153.2339, 231…\n",
      "$ Comment                       \u001b[3m\u001b[90m<chr>\u001b[39m\u001b[23m NA, NA, NA, NA, NA, NA, NA, NA, NA, NA,…\n",
      "$ SalesOrderHeader_rowguide     \u001b[3m\u001b[90m<chr>\u001b[39m\u001b[23m \"79B65321-39CA-4115-9CBA-8FE0903E12E6\",…\n",
      "$ SalesOrderHeader_ModifiedDate \u001b[3m\u001b[90m<dttm>\u001b[39m\u001b[23m 2011-06-07, 2011-06-07, 2011-06-07, 20…\n",
      "$ SalesOrderDetailID            \u001b[3m\u001b[90m<int>\u001b[39m\u001b[23m 1, 2, 3, 4, 5, 6, 7, 8, 9, 10, 11, 12, …\n",
      "$ CarrierTrackingNumber         \u001b[3m\u001b[90m<chr>\u001b[39m\u001b[23m \"4911-403C-98\", \"4911-403C-98\", \"4911-4…\n",
      "$ OrderQty                      \u001b[3m\u001b[90m<int>\u001b[39m\u001b[23m 1, 3, 1, 1, 1, 2, 1, 3, 1, 6, 2, 4, 1, …\n",
      "$ ProductID                     \u001b[3m\u001b[90m<int>\u001b[39m\u001b[23m 776, 777, 778, 771, 772, 773, 774, 714,…\n",
      "$ SpecialOfferID                \u001b[3m\u001b[90m<int>\u001b[39m\u001b[23m 1, 1, 1, 1, 1, 1, 1, 1, 1, 1, 1, 1, 1, …\n",
      "$ UnitPrice                     \u001b[3m\u001b[90m<dbl>\u001b[39m\u001b[23m 2024.9940, 2024.9940, 2024.9940, 2039.9…\n",
      "$ UnitPriceDiscount             \u001b[3m\u001b[90m<dbl>\u001b[39m\u001b[23m 0, 0, 0, 0, 0, 0, 0, 0, 0, 0, 0, 0, 0, …\n",
      "$ LineTotal                     \u001b[3m\u001b[90m<dbl>\u001b[39m\u001b[23m 2024.9940, 6074.9820, 2024.9940, 2039.9…\n",
      "$ SalesOrderDetail_rowguide     \u001b[3m\u001b[90m<chr>\u001b[39m\u001b[23m \"B207C96D-D9E6-402B-8470-2CC176C42283\",…\n",
      "$ SalesOrderDetail_ModifiedDate \u001b[3m\u001b[90m<dttm>\u001b[39m\u001b[23m 2011-05-31, 2011-05-31, 2011-05-31, 20…\n"
     ]
    }
   ],
   "source": [
    "# semi join df_sales_order\n",
    "# with df_sales_territory\n",
    "# inline filtered on CountryRegionCode == \"US\"\n",
    "# glimpse result, do not store in variable\n",
    "df_sales_order %>% semi_join(df_sales_territory %>% filter(CountryRegionCode == \"US\")) %>% \n",
    "   glimpse()"
   ]
  },
  {
   "cell_type": "markdown",
   "metadata": {},
   "source": [
    "Is the row count what you expected? \n",
    "\n",
    "There are fewer rows in the result reflecting the filtering of only US sales. "
   ]
  },
  {
   "cell_type": "code",
   "execution_count": 26,
   "metadata": {},
   "outputs": [
    {
     "name": "stderr",
     "output_type": "stream",
     "text": [
      "Joining, by = \"TerritoryID\"\n"
     ]
    },
    {
     "name": "stdout",
     "output_type": "stream",
     "text": [
      "Observations: 42,100\n",
      "Variables: 36\n",
      "$ SalesOrderID                  \u001b[3m\u001b[90m<int>\u001b[39m\u001b[23m 43698, 43701, 43703, 43704, 43705, 4370…\n",
      "$ RevisionNumber                \u001b[3m\u001b[90m<int>\u001b[39m\u001b[23m 8, 8, 8, 8, 8, 8, 8, 8, 8, 8, 8, 8, 8, …\n",
      "$ OrderDate                     \u001b[3m\u001b[90m<dttm>\u001b[39m\u001b[23m 2011-05-31, 2011-05-31, 2011-06-01, 20…\n",
      "$ DueDate                       \u001b[3m\u001b[90m<dttm>\u001b[39m\u001b[23m 2011-06-12, 2011-06-12, 2011-06-13, 20…\n",
      "$ ShipDate                      \u001b[3m\u001b[90m<dttm>\u001b[39m\u001b[23m 2011-06-07, 2011-06-07, 2011-06-08, 20…\n",
      "$ Status                        \u001b[3m\u001b[90m<int>\u001b[39m\u001b[23m 5, 5, 5, 5, 5, 5, 5, 5, 5, 5, 5, 5, 5, …\n",
      "$ OnlineOrderFlag               \u001b[3m\u001b[90m<lgl>\u001b[39m\u001b[23m TRUE, TRUE, TRUE, TRUE, TRUE, TRUE, TRU…\n",
      "$ SalesOrderNumber              \u001b[3m\u001b[90m<chr>\u001b[39m\u001b[23m \"SO43698\", \"SO43701\", \"SO43703\", \"SO437…\n",
      "$ PurchaseOrderNumber           \u001b[3m\u001b[90m<chr>\u001b[39m\u001b[23m NA, NA, NA, NA, NA, NA, NA, NA, NA, NA,…\n",
      "$ AccountNumber                 \u001b[3m\u001b[90m<chr>\u001b[39m\u001b[23m \"10-4030-028389\", \"10-4030-011003\", \"10…\n",
      "$ CustomerID                    \u001b[3m\u001b[90m<int>\u001b[39m\u001b[23m 28389, 11003, 16624, 11005, 11011, 2004…\n",
      "$ SalesPersonID                 \u001b[3m\u001b[90m<int>\u001b[39m\u001b[23m NA, NA, NA, NA, NA, NA, NA, NA, NA, NA,…\n",
      "$ TerritoryID                   \u001b[3m\u001b[90m<int>\u001b[39m\u001b[23m 7, 9, 9, 9, 9, 10, 9, 9, 8, 10, 9, 9, 9…\n",
      "$ BillToAddressID               \u001b[3m\u001b[90m<int>\u001b[39m\u001b[23m 24593, 20425, 23967, 16025, 27345, 1842…\n",
      "$ ShipToAddressID               \u001b[3m\u001b[90m<int>\u001b[39m\u001b[23m 24593, 20425, 23967, 16025, 27345, 1842…\n",
      "$ ShipMethodID                  \u001b[3m\u001b[90m<int>\u001b[39m\u001b[23m 1, 1, 1, 1, 1, 1, 1, 1, 1, 1, 1, 1, 1, …\n",
      "$ CreditCardID                  \u001b[3m\u001b[90m<int>\u001b[39m\u001b[23m 16625, 11150, 9497, 1988, 7205, 4369, 1…\n",
      "$ CreditCardApprovalCode        \u001b[3m\u001b[90m<chr>\u001b[39m\u001b[23m \"1231736Vi86048\", \"335093Vi57504\", \"123…\n",
      "$ CurrencyRateID                \u001b[3m\u001b[90m<int>\u001b[39m\u001b[23m 8, 2, 15, 15, 15, 35, 28, 28, 45, 61, 5…\n",
      "$ SubTotal                      \u001b[3m\u001b[90m<dbl>\u001b[39m\u001b[23m 3399.9900, 3399.9900, 3578.2700, 3374.9…\n",
      "$ TaxAmt                        \u001b[3m\u001b[90m<dbl>\u001b[39m\u001b[23m 271.9992, 271.9992, 286.2616, 269.9992,…\n",
      "$ Freight                       \u001b[3m\u001b[90m<dbl>\u001b[39m\u001b[23m 84.9998, 84.9998, 89.4568, 84.3748, 84.…\n",
      "$ TotalDue                      \u001b[3m\u001b[90m<dbl>\u001b[39m\u001b[23m 3756.9890, 3756.9890, 3953.9884, 3729.3…\n",
      "$ Comment                       \u001b[3m\u001b[90m<chr>\u001b[39m\u001b[23m NA, NA, NA, NA, NA, NA, NA, NA, NA, NA,…\n",
      "$ SalesOrderHeader_rowguide     \u001b[3m\u001b[90m<chr>\u001b[39m\u001b[23m \"0AE8A848-41D9-4E5E-8FE8-5CD23F14421E\",…\n",
      "$ SalesOrderHeader_ModifiedDate \u001b[3m\u001b[90m<dttm>\u001b[39m\u001b[23m 2011-06-07, 2011-06-07, 2011-06-08, 20…\n",
      "$ SalesOrderDetailID            \u001b[3m\u001b[90m<int>\u001b[39m\u001b[23m 354, 357, 359, 360, 361, 364, 365, 366,…\n",
      "$ CarrierTrackingNumber         \u001b[3m\u001b[90m<chr>\u001b[39m\u001b[23m NA, NA, NA, NA, NA, NA, NA, NA, NA, NA,…\n",
      "$ OrderQty                      \u001b[3m\u001b[90m<int>\u001b[39m\u001b[23m 1, 1, 1, 1, 1, 1, 1, 1, 1, 1, 1, 1, 1, …\n",
      "$ ProductID                     \u001b[3m\u001b[90m<int>\u001b[39m\u001b[23m 773, 773, 749, 778, 771, 764, 752, 753,…\n",
      "$ SpecialOfferID                \u001b[3m\u001b[90m<int>\u001b[39m\u001b[23m 1, 1, 1, 1, 1, 1, 1, 1, 1, 1, 1, 1, 1, …\n",
      "$ UnitPrice                     \u001b[3m\u001b[90m<dbl>\u001b[39m\u001b[23m 3399.9900, 3399.9900, 3578.2700, 3374.9…\n",
      "$ UnitPriceDiscount             \u001b[3m\u001b[90m<dbl>\u001b[39m\u001b[23m 0, 0, 0, 0, 0, 0, 0, 0, 0, 0, 0, 0, 0, …\n",
      "$ LineTotal                     \u001b[3m\u001b[90m<dbl>\u001b[39m\u001b[23m 3399.9900, 3399.9900, 3578.2700, 3374.9…\n",
      "$ SalesOrderDetail_rowguide     \u001b[3m\u001b[90m<chr>\u001b[39m\u001b[23m \"A2D7730F-D2D0-4C47-8F36-FBD316680CEF\",…\n",
      "$ SalesOrderDetail_ModifiedDate \u001b[3m\u001b[90m<dttm>\u001b[39m\u001b[23m 2011-05-31, 2011-05-31, 2011-06-01, 20…\n"
     ]
    }
   ],
   "source": [
    "# anti join df_sales_order\n",
    "# with df_sales_territory\n",
    "# inline filtered on Group == \"North America\"\n",
    "# glimpse result, do not store in variable\n",
    "df_sales_order %>% anti_join(df_sales_territory %>% filter(Group == \"North America\")) %>% \n",
    "   glimpse()"
   ]
  },
  {
   "cell_type": "markdown",
   "metadata": {},
   "source": [
    "Is the row count what you expected? \n",
    "\n",
    "These results are the sales from all territory groups except for North America."
   ]
  },
  {
   "cell_type": "code",
   "execution_count": 27,
   "metadata": {
    "collapsed": true
   },
   "outputs": [],
   "source": [
    "# Close SQL connection\n",
    "conn %>% dbDisconnect()"
   ]
  },
  {
   "cell_type": "markdown",
   "metadata": {},
   "source": [
    "It is good practice to close the connection when done to conserve resources. Often the connection will automatically close after a timeout duration. If it closes before you wanted it to, just run your dbConnect code again."
   ]
  },
  {
   "cell_type": "markdown",
   "metadata": {},
   "source": [
    "## Summary\n",
    "Joining is a common data wrangling task as you accumulate more and more dataframes of data. You use joining to organize the data into a design that makes your analysis more agile. You also use joining as a way to explore and filter the data as part of data exploration."
   ]
  },
  {
   "cell_type": "code",
   "execution_count": null,
   "metadata": {
    "collapsed": true
   },
   "outputs": [],
   "source": []
  }
 ],
 "metadata": {
  "kernelspec": {
   "display_name": "R 3.5.1",
   "language": "R",
   "name": "ir"
  },
  "language_info": {
   "codemirror_mode": "r",
   "file_extension": ".r",
   "mimetype": "text/x-r-source",
   "name": "R",
   "pygments_lexer": "r",
   "version": "3.5.1"
  }
 },
 "nbformat": 4,
 "nbformat_minor": 1
}
