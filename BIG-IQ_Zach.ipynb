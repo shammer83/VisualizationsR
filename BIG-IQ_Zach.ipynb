{
 "cells": [
  {
   "cell_type": "markdown",
   "metadata": {},
   "source": [
    "# BIG IQ Inferential Stats\n",
    "\n",
    "## 1. Hypothesis(s) - confirmation hypothesis\n",
    "    \n",
    "    a. Do opportunties for BIG-IP, that include a BIG-IQ on the offer, close faster than deals without BIG-IQ?\n",
    "    b. Do accounts with BIG-IP, have a shorter time between purchases than accounts without BIG-IQ?\n",
    "    "
   ]
  },
  {
   "cell_type": "code",
   "execution_count": 1,
   "metadata": {},
   "outputs": [
    {
     "name": "stderr",
     "output_type": "stream",
     "text": [
      "── \u001b[1mAttaching packages\u001b[22m ─────────────────────────────────────── tidyverse 1.2.1 ──\n",
      "\u001b[32m✔\u001b[39m \u001b[34mggplot2\u001b[39m 3.2.1     \u001b[32m✔\u001b[39m \u001b[34mpurrr  \u001b[39m 0.3.2\n",
      "\u001b[32m✔\u001b[39m \u001b[34mtibble \u001b[39m 2.1.3     \u001b[32m✔\u001b[39m \u001b[34mdplyr  \u001b[39m 0.8.3\n",
      "\u001b[32m✔\u001b[39m \u001b[34mtidyr  \u001b[39m 1.0.0     \u001b[32m✔\u001b[39m \u001b[34mstringr\u001b[39m 1.4.0\n",
      "\u001b[32m✔\u001b[39m \u001b[34mreadr  \u001b[39m 1.3.1     \u001b[32m✔\u001b[39m \u001b[34mforcats\u001b[39m 0.4.0\n",
      "── \u001b[1mConflicts\u001b[22m ────────────────────────────────────────── tidyverse_conflicts() ──\n",
      "\u001b[31m✖\u001b[39m \u001b[34mdplyr\u001b[39m::\u001b[32mfilter()\u001b[39m masks \u001b[34mstats\u001b[39m::filter()\n",
      "\u001b[31m✖\u001b[39m \u001b[34mdplyr\u001b[39m::\u001b[32mlag()\u001b[39m    masks \u001b[34mstats\u001b[39m::lag()\n"
     ]
    }
   ],
   "source": [
    "# Load libraries\n",
    "library('odbc') # odbc\n",
    "library('DBI') # DBI\n",
    "library('tidyverse') # tidyverse"
   ]
  },
  {
   "cell_type": "code",
   "execution_count": 3,
   "metadata": {},
   "outputs": [],
   "source": [
    "#?dbConnect"
   ]
  },
  {
   "cell_type": "code",
   "execution_count": 4,
   "metadata": {},
   "outputs": [],
   "source": [
    "# Already completed, just run the code block\n",
    "driver_name <- \"freetds\" \n",
    "server_name <- \"172.21.9.13\"\n",
    "database_name <- \"ENT_DSS_DW\" \n",
    "user_id <- \"olympus\\\\dhaynes\"  #have to escape the \\d\n",
    "password <- \"&UJM*IK<7ujm8ik,\""
   ]
  },
  {
   "cell_type": "code",
   "execution_count": 5,
   "metadata": {},
   "outputs": [
    {
     "name": "stdout",
     "output_type": "stream",
     "text": [
      "<OdbcConnection> WU2AZPEDWSQLC01\n",
      "  Database: ENT_DSS_DW\n",
      "  Microsoft SQL Server Version: 13.00.5233\n"
     ]
    }
   ],
   "source": [
    "# Connect to the database\n",
    "# Store connection in conn variable\n",
    "conn <- dbConnect(odbc::odbc(), \n",
    "                  driver = driver_name, \n",
    "                  server = server_name, \n",
    "                  database = database_name,\n",
    "                  uid = user_id,\n",
    "                  pwd = password,\n",
    "                  Port = 1433)\n",
    "\n",
    "# Print the connection object\n",
    "print(conn)"
   ]
  },
  {
   "cell_type": "code",
   "execution_count": 53,
   "metadata": {},
   "outputs": [
    {
     "name": "stdout",
     "output_type": "stream",
     "text": [
      "Formal class 'Microsoft SQL Server' [package \".GlobalEnv\"] with 4 slots\n",
      "  ..@ ptr     :<externalptr> \n",
      "  ..@ quote   : chr \"\\\"\"\n",
      "  ..@ info    :List of 13\n",
      "  .. ..$ dbname               : chr \"ENT_DSS_DW\"\n",
      "  .. ..$ dbms.name            : chr \"Microsoft SQL Server\"\n",
      "  .. ..$ db.version           : chr \"13.00.5233\"\n",
      "  .. ..$ username             : chr \"\"\n",
      "  .. ..$ host                 : chr \"\"\n",
      "  .. ..$ port                 : chr \"\"\n",
      "  .. ..$ sourcename           : chr \"\"\n",
      "  .. ..$ servername           : chr \"WU2AZPEDWSQLC01\"\n",
      "  .. ..$ drivername           : chr \"libtdsodbc.so\"\n",
      "  .. ..$ odbc.version         : chr \"03.52\"\n",
      "  .. ..$ driver.version       : chr \"01.01.0015\"\n",
      "  .. ..$ odbcdriver.version   : chr \"03.50\"\n",
      "  .. ..$ supports.transactions: logi TRUE\n",
      "  .. ..- attr(*, \"class\")= chr [1:3] \"Microsoft SQL Server\" \"driver_info\" \"list\"\n",
      "  ..@ encoding: chr \"\"\n"
     ]
    }
   ],
   "source": [
    "str(conn)"
   ]
  },
  {
   "cell_type": "code",
   "execution_count": 52,
   "metadata": {},
   "outputs": [
    {
     "data": {
      "text/html": [
       "<ol class=list-inline>\n",
       "\t<li>'_eso'</li>\n",
       "\t<li>'_ie'</li>\n",
       "\t<li>'_sr'</li>\n",
       "\t<li>'_sr_'</li>\n",
       "\t<li>'_tprqet_e'</li>\n",
       "\t<li>'aalblt_aaae_lse'</li>\n",
       "\t<li>'aalblt_edol_otn_it'</li>\n",
       "\t<li>'aalblt_elc'</li>\n",
       "\t<li>'aalblt_ru'</li>\n",
       "\t<li>'aalblt_ru_itnr'</li>\n",
       "\t<li>'aalblt_ru_itnri_drse'</li>\n",
       "\t<li>'aalblt_ruscut'</li>\n",
       "\t<li>'alclm'</li>\n",
       "\t<li>'alcto_nt'</li>\n",
       "\t<li>'alojc'</li>\n",
       "\t<li>'alprmtr'</li>\n",
       "\t<li>'alslmdl'</li>\n",
       "\t<li>'alve'</li>\n",
       "\t<li>'asml_eeec'</li>\n",
       "\t<li>'asml_ie'</li>\n",
       "\t<li>'asml_oue'</li>\n",
       "\t<li>'asml_ye'</li>\n",
       "\t<li>'asmle'</li>\n",
       "\t<li>'aymti_e'</li>\n",
       "\t<li>'bcu_eie'</li>\n",
       "\t<li>'cag_rcigdtbs'</li>\n",
       "\t<li>'cag_rcigtbe'</li>\n",
       "\t<li>'ceeta'</li>\n",
       "\t<li>'cekcntan'</li>\n",
       "\t<li>'CEKCNTAN'</li>\n",
       "\t<li>'clm'</li>\n",
       "\t<li>'CLM'</li>\n",
       "\t<li>'clm_atrky'</li>\n",
       "\t<li>'clm_m_ceacleto_sg'</li>\n",
       "\t<li>'clm_nrpinky'</li>\n",
       "\t<li>'clm_nrpinkyvle'</li>\n",
       "\t<li>'CLM_OANUA'</li>\n",
       "\t<li>'CLM_RVLG'</li>\n",
       "\t<li>'clm_tr_emn'</li>\n",
       "\t<li>'clm_tr_itoai'</li>\n",
       "\t<li>'clm_tr_o_ru'</li>\n",
       "\t<li>'clm_yeuae'</li>\n",
       "\t<li>'cmue_oun'</li>\n",
       "\t<li>'cnesto_npit'</li>\n",
       "\t<li>'cnesto_roii'</li>\n",
       "\t<li>'cnesto_ru'</li>\n",
       "\t<li>'cniuain'</li>\n",
       "\t<li>'CNTAN_AL_SG'</li>\n",
       "\t<li>'CNTAN_OUNUA'</li>\n",
       "\t<li>'criiae'</li>\n",
       "</ol>\n"
      ],
      "text/latex": [
       "\\begin{enumerate*}\n",
       "\\item '\\_eso'\n",
       "\\item '\\_ie'\n",
       "\\item '\\_sr'\n",
       "\\item '\\_sr\\_'\n",
       "\\item '\\_tprqet\\_e'\n",
       "\\item 'aalblt\\_aaae\\_lse'\n",
       "\\item 'aalblt\\_edol\\_otn\\_it'\n",
       "\\item 'aalblt\\_elc'\n",
       "\\item 'aalblt\\_ru'\n",
       "\\item 'aalblt\\_ru\\_itnr'\n",
       "\\item 'aalblt\\_ru\\_itnri\\_drse'\n",
       "\\item 'aalblt\\_ruscut'\n",
       "\\item 'alclm'\n",
       "\\item 'alcto\\_nt'\n",
       "\\item 'alojc'\n",
       "\\item 'alprmtr'\n",
       "\\item 'alslmdl'\n",
       "\\item 'alve'\n",
       "\\item 'asml\\_eeec'\n",
       "\\item 'asml\\_ie'\n",
       "\\item 'asml\\_oue'\n",
       "\\item 'asml\\_ye'\n",
       "\\item 'asmle'\n",
       "\\item 'aymti\\_e'\n",
       "\\item 'bcu\\_eie'\n",
       "\\item 'cag\\_rcigdtbs'\n",
       "\\item 'cag\\_rcigtbe'\n",
       "\\item 'ceeta'\n",
       "\\item 'cekcntan'\n",
       "\\item 'CEKCNTAN'\n",
       "\\item 'clm'\n",
       "\\item 'CLM'\n",
       "\\item 'clm\\_atrky'\n",
       "\\item 'clm\\_m\\_ceacleto\\_sg'\n",
       "\\item 'clm\\_nrpinky'\n",
       "\\item 'clm\\_nrpinkyvle'\n",
       "\\item 'CLM\\_OANUA'\n",
       "\\item 'CLM\\_RVLG'\n",
       "\\item 'clm\\_tr\\_emn'\n",
       "\\item 'clm\\_tr\\_itoai'\n",
       "\\item 'clm\\_tr\\_o\\_ru'\n",
       "\\item 'clm\\_yeuae'\n",
       "\\item 'cmue\\_oun'\n",
       "\\item 'cnesto\\_npit'\n",
       "\\item 'cnesto\\_roii'\n",
       "\\item 'cnesto\\_ru'\n",
       "\\item 'cniuain'\n",
       "\\item 'CNTAN\\_AL\\_SG'\n",
       "\\item 'CNTAN\\_OUNUA'\n",
       "\\item 'criiae'\n",
       "\\end{enumerate*}\n"
      ],
      "text/markdown": [
       "1. '_eso'\n",
       "2. '_ie'\n",
       "3. '_sr'\n",
       "4. '_sr_'\n",
       "5. '_tprqet_e'\n",
       "6. 'aalblt_aaae_lse'\n",
       "7. 'aalblt_edol_otn_it'\n",
       "8. 'aalblt_elc'\n",
       "9. 'aalblt_ru'\n",
       "10. 'aalblt_ru_itnr'\n",
       "11. 'aalblt_ru_itnri_drse'\n",
       "12. 'aalblt_ruscut'\n",
       "13. 'alclm'\n",
       "14. 'alcto_nt'\n",
       "15. 'alojc'\n",
       "16. 'alprmtr'\n",
       "17. 'alslmdl'\n",
       "18. 'alve'\n",
       "19. 'asml_eeec'\n",
       "20. 'asml_ie'\n",
       "21. 'asml_oue'\n",
       "22. 'asml_ye'\n",
       "23. 'asmle'\n",
       "24. 'aymti_e'\n",
       "25. 'bcu_eie'\n",
       "26. 'cag_rcigdtbs'\n",
       "27. 'cag_rcigtbe'\n",
       "28. 'ceeta'\n",
       "29. 'cekcntan'\n",
       "30. 'CEKCNTAN'\n",
       "31. 'clm'\n",
       "32. 'CLM'\n",
       "33. 'clm_atrky'\n",
       "34. 'clm_m_ceacleto_sg'\n",
       "35. 'clm_nrpinky'\n",
       "36. 'clm_nrpinkyvle'\n",
       "37. 'CLM_OANUA'\n",
       "38. 'CLM_RVLG'\n",
       "39. 'clm_tr_emn'\n",
       "40. 'clm_tr_itoai'\n",
       "41. 'clm_tr_o_ru'\n",
       "42. 'clm_yeuae'\n",
       "43. 'cmue_oun'\n",
       "44. 'cnesto_npit'\n",
       "45. 'cnesto_roii'\n",
       "46. 'cnesto_ru'\n",
       "47. 'cniuain'\n",
       "48. 'CNTAN_AL_SG'\n",
       "49. 'CNTAN_OUNUA'\n",
       "50. 'criiae'\n",
       "\n",
       "\n"
      ],
      "text/plain": [
       " [1] \"_eso\"                 \"_ie\"                  \"_sr\"                 \n",
       " [4] \"_sr_\"                 \"_tprqet_e\"            \"aalblt_aaae_lse\"     \n",
       " [7] \"aalblt_edol_otn_it\"   \"aalblt_elc\"           \"aalblt_ru\"           \n",
       "[10] \"aalblt_ru_itnr\"       \"aalblt_ru_itnri_drse\" \"aalblt_ruscut\"       \n",
       "[13] \"alclm\"                \"alcto_nt\"             \"alojc\"               \n",
       "[16] \"alprmtr\"              \"alslmdl\"              \"alve\"                \n",
       "[19] \"asml_eeec\"            \"asml_ie\"              \"asml_oue\"            \n",
       "[22] \"asml_ye\"              \"asmle\"                \"aymti_e\"             \n",
       "[25] \"bcu_eie\"              \"cag_rcigdtbs\"         \"cag_rcigtbe\"         \n",
       "[28] \"ceeta\"                \"cekcntan\"             \"CEKCNTAN\"            \n",
       "[31] \"clm\"                  \"CLM\"                  \"clm_atrky\"           \n",
       "[34] \"clm_m_ceacleto_sg\"    \"clm_nrpinky\"          \"clm_nrpinkyvle\"      \n",
       "[37] \"CLM_OANUA\"            \"CLM_RVLG\"             \"clm_tr_emn\"          \n",
       "[40] \"clm_tr_itoai\"         \"clm_tr_o_ru\"          \"clm_yeuae\"           \n",
       "[43] \"cmue_oun\"             \"cnesto_npit\"          \"cnesto_roii\"         \n",
       "[46] \"cnesto_ru\"            \"cniuain\"              \"CNTAN_AL_SG\"         \n",
       "[49] \"CNTAN_OUNUA\"          \"criiae\"              "
      ]
     },
     "metadata": {},
     "output_type": "display_data"
    }
   ],
   "source": [
    "conn %>% \n",
    "    dbListTables %>%\n",
    "    sort() %>% \n",
    "    head(50)"
   ]
  },
  {
   "cell_type": "code",
   "execution_count": 54,
   "metadata": {},
   "outputs": [
    {
     "ename": "ERROR",
     "evalue": "Error in view_rpt_sales_opportunitylines_terrSecurity(.): could not find function \"view_rpt_sales_opportunitylines_terrSecurity\"\n",
     "output_type": "error",
     "traceback": [
      "Error in view_rpt_sales_opportunitylines_terrSecurity(.): could not find function \"view_rpt_sales_opportunitylines_terrSecurity\"\nTraceback:\n",
      "1. conn %>% view_rpt_sales_opportunitylines_terrSecurity()",
      "2. withVisible(eval(quote(`_fseq`(`_lhs`)), env, env))",
      "3. eval(quote(`_fseq`(`_lhs`)), env, env)",
      "4. eval(quote(`_fseq`(`_lhs`)), env, env)",
      "5. `_fseq`(`_lhs`)",
      "6. freduce(value, `_function_list`)",
      "7. withVisible(function_list[[k]](value))",
      "8. function_list[[k]](value)"
     ]
    }
   ],
   "source": [
    "conn %>% view_rpt_sales_opportunitylines_terrSecurity()"
   ]
  },
  {
   "cell_type": "code",
   "execution_count": null,
   "metadata": {},
   "outputs": [],
   "source": []
  }
 ],
 "metadata": {
  "kernelspec": {
   "display_name": "R",
   "language": "R",
   "name": "ir"
  },
  "language_info": {
   "codemirror_mode": "r",
   "file_extension": ".r",
   "mimetype": "text/x-r-source",
   "name": "R",
   "pygments_lexer": "r",
   "version": "3.6.1"
  }
 },
 "nbformat": 4,
 "nbformat_minor": 2
}
