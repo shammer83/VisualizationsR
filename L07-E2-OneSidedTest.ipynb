{
 "cells": [
  {
   "cell_type": "markdown",
   "metadata": {},
   "source": [
    "# One-Sided T.Test\n",
    "## Exercise Instructions\n",
    "\n",
    "* Complete all cells as instructed, replacing any ??? with the appropriate code\n",
    "\n",
    "* Execute Jupyter **Kernel** > **Restart & Run All** and ensure that all code blocks run without error"
   ]
  },
  {
   "cell_type": "markdown",
   "metadata": {},
   "source": [
    "## Two sample hypothesis testing for comparing two means\n",
    "\n",
    "### One-sided tests\n",
    "\n",
    "In the last exercise we performed a two-sample, two-sided t-test. Now suppose that your hypothesis specifies which mean you expect to be larger. For example, suppose you want to test whether the mean price in Somerst is **larger** than the mean price in Old Town.\n",
    "\n",
    "Null hypothesis:  \n",
    "$H_0: \\mu(Somerst) = \\mu(OldTown)$\n",
    "\n",
    "*Note: Some statisticians write this hypothesis as*\n",
    "$H_0: \\mu(Somerst) \\le \\mu(OldTown)$\n",
    "\n",
    "Alternative hypothesis (one-sided):  \n",
    "$H_A: \\mu(Somerst) \\gt \\mu(OldTown)$\n",
    "\n",
    "This **one-sided** test has only one rejection region, in the the upper tail of the distribution of the difference in group means. The probability in this tail is .05.\n",
    "\n",
    "For one-sided tests, *the order of the vectors in t.test() is important,* because R interprets the alternative \"greater\" as (first group listed) > (second group listed). See \"A note on formulas\" at the end of this notebook."
   ]
  },
  {
   "cell_type": "code",
   "execution_count": 2,
   "metadata": {},
   "outputs": [
    {
     "name": "stderr",
     "output_type": "stream",
     "text": [
      "── \u001b[1mAttaching packages\u001b[22m ─────────────────────────────────────── tidyverse 1.2.1 ──\n",
      "\u001b[32m✔\u001b[39m \u001b[34mggplot2\u001b[39m 3.2.0     \u001b[32m✔\u001b[39m \u001b[34mpurrr  \u001b[39m 0.2.5\n",
      "\u001b[32m✔\u001b[39m \u001b[34mtibble \u001b[39m 2.1.3     \u001b[32m✔\u001b[39m \u001b[34mdplyr  \u001b[39m 0.8.3\n",
      "\u001b[32m✔\u001b[39m \u001b[34mtidyr  \u001b[39m 0.8.1     \u001b[32m✔\u001b[39m \u001b[34mstringr\u001b[39m 1.3.1\n",
      "\u001b[32m✔\u001b[39m \u001b[34mreadr  \u001b[39m 1.1.1     \u001b[32m✔\u001b[39m \u001b[34mforcats\u001b[39m 0.3.0\n",
      "── \u001b[1mConflicts\u001b[22m ────────────────────────────────────────── tidyverse_conflicts() ──\n",
      "\u001b[31m✖\u001b[39m \u001b[34mdplyr\u001b[39m::\u001b[32mfilter()\u001b[39m masks \u001b[34mstats\u001b[39m::filter()\n",
      "\u001b[31m✖\u001b[39m \u001b[34mdplyr\u001b[39m::\u001b[32mlag()\u001b[39m    masks \u001b[34mstats\u001b[39m::lag()\n"
     ]
    }
   ],
   "source": [
    "# Load libraries\n",
    "library(tidyverse)"
   ]
  },
  {
   "cell_type": "code",
   "execution_count": 3,
   "metadata": {},
   "outputs": [
    {
     "name": "stderr",
     "output_type": "stream",
     "text": [
      "Parsed with column specification:\n",
      "cols(\n",
      "  .default = col_character(),\n",
      "  Order = col_double(),\n",
      "  Lot_Frontage = col_integer(),\n",
      "  Lot_Area = col_double(),\n",
      "  Overall_Qual = col_integer(),\n",
      "  Overall_Cond = col_integer(),\n",
      "  Year_Built = col_double(),\n",
      "  Year_Remod_Add = col_double(),\n",
      "  Mas_Vnr_Area = col_integer(),\n",
      "  BsmtFin_SF_1 = col_double(),\n",
      "  BsmtFin_SF_2 = col_integer(),\n",
      "  Bsmt_Unf_SF = col_integer(),\n",
      "  Total_Bsmt_SF = col_integer(),\n",
      "  Z_1st_Flr_SF = col_double(),\n",
      "  Z_2nd_Flr_SF = col_double(),\n",
      "  Low_Qual_Fin_SF = col_integer(),\n",
      "  Gr_Liv_Area = col_integer(),\n",
      "  Bsmt_Full_Bath = col_integer(),\n",
      "  Bsmt_Half_Bath = col_integer(),\n",
      "  Full_Bath = col_integer(),\n",
      "  Half_Bath = col_integer()\n",
      "  # ... with 17 more columns\n",
      ")\n",
      "See spec(...) for full column specifications.\n"
     ]
    }
   ],
   "source": [
    "# Load data: ames_housing.csv\n",
    "# Convert character columns to factor\n",
    "# Select columns of interest: Neighborhood, SalePrice\n",
    "# Store in df_ames_housing\n",
    "# Hint: read_csv(), mutate_if(), select(), is.character(), as.factor()\n",
    "df_ames_housing <- \"ames_housing.csv\" %>% \n",
    "   read_csv () %>% \n",
    "   mutate_if(is.character, as.factor ) %>% \n",
    "   select(Neighborhood, SalePrice )"
   ]
  },
  {
   "cell_type": "code",
   "execution_count": 4,
   "metadata": {},
   "outputs": [
    {
     "name": "stdout",
     "output_type": "stream",
     "text": [
      "Observations: 2,930\n",
      "Variables: 2\n",
      "$ Neighborhood \u001b[3m\u001b[90m<fct>\u001b[39m\u001b[23m NAmes, NAmes, NAmes, NAmes, Gilbert, Gilbert, StoneBr, S…\n",
      "$ SalePrice    \u001b[3m\u001b[90m<dbl>\u001b[39m\u001b[23m 215000, 105000, 172000, 244000, 189900, 195500, 213500, …\n"
     ]
    },
    {
     "data": {
      "text/plain": [
       "  Neighborhood    SalePrice     \n",
       " NAmes  : 443   Min.   : 12789  \n",
       " CollgCr: 267   1st Qu.:129500  \n",
       " OldTown: 239   Median :160000  \n",
       " Edwards: 194   Mean   :180796  \n",
       " Somerst: 182   3rd Qu.:213500  \n",
       " NridgHt: 166   Max.   :755000  \n",
       " (Other):1439                   "
      ]
     },
     "metadata": {},
     "output_type": "display_data"
    }
   ],
   "source": [
    "# Explore data structure\n",
    "# Data: AmesHousing\n",
    "df_ames_housing %>% glimpse() %>% summary()"
   ]
  },
  {
   "cell_type": "markdown",
   "metadata": {},
   "source": [
    "# Create subsets for two neighborhoods\n",
    "We are creating two samples which we will perform a hypothesis test that these two neighborhoods do not affect the sales price. We will perform a two-sample one-sided hypothesis test."
   ]
  },
  {
   "cell_type": "code",
   "execution_count": 5,
   "metadata": {},
   "outputs": [
    {
     "name": "stdout",
     "output_type": "stream",
     "text": [
      "Observations: 182\n",
      "Variables: 2\n",
      "$ Neighborhood \u001b[3m\u001b[90m<fct>\u001b[39m\u001b[23m Somerst, Somerst, Somerst, Somerst, Somerst, Somerst, So…\n",
      "$ SalePrice    \u001b[3m\u001b[90m<dbl>\u001b[39m\u001b[23m 216000, 221500, 204500, 215200, 262500, 254900, 271500, …\n"
     ]
    }
   ],
   "source": [
    "# Filter data for Neighborhood equal Somerst\n",
    "# Store in dataframe df_somerst\n",
    "df_somerst <- df_ames_housing %>% filter( Neighborhood == 'Somerst')\n",
    "\n",
    "# Explore results\n",
    "df_somerst %>% glimpse()"
   ]
  },
  {
   "cell_type": "markdown",
   "metadata": {},
   "source": [
    "Notice the number of rows is reduced and the Neighborhood is as expected."
   ]
  },
  {
   "cell_type": "code",
   "execution_count": 6,
   "metadata": {},
   "outputs": [
    {
     "name": "stdout",
     "output_type": "stream",
     "text": [
      "Observations: 239\n",
      "Variables: 2\n",
      "$ Neighborhood \u001b[3m\u001b[90m<fct>\u001b[39m\u001b[23m OldTown, OldTown, OldTown, OldTown, OldTown, OldTown, Ol…\n",
      "$ SalePrice    \u001b[3m\u001b[90m<dbl>\u001b[39m\u001b[23m 144000, 80400, 96500, 109500, 115000, 143000, 107400, 80…\n"
     ]
    }
   ],
   "source": [
    "# Filter data for Neighborhood equal OldTown\n",
    "# Store in dataframe df_old_town\n",
    "df_old_town <- df_ames_housing %>% filter( Neighborhood == \"OldTown\" )\n",
    "\n",
    "# Explore results\n",
    "df_old_town %>% glimpse()"
   ]
  },
  {
   "cell_type": "markdown",
   "metadata": {},
   "source": [
    "Notice the number of rows is reduced and the Neighborhood is as expected."
   ]
  },
  {
   "cell_type": "markdown",
   "metadata": {},
   "source": [
    "# Mean and standard deviation of each series\n",
    "Look at the mean and standard deviation of each series to see how close they are to each other."
   ]
  },
  {
   "cell_type": "code",
   "execution_count": 7,
   "metadata": {},
   "outputs": [
    {
     "name": "stdout",
     "output_type": "stream",
     "text": [
      "Somerst: mean = 229707.3 and standard deviation = 57437.4"
     ]
    }
   ],
   "source": [
    "# Get the mean and standard deviation of Somerst\n",
    "# Round to 1 decimal places\n",
    "# Hint: mean(), sd(), round()\n",
    "somerst_mean <- df_somerst$SalePrice %>% mean() %>% round(1)\n",
    "somerst_sd <- df_somerst$SalePrice %>% sd() %>% round(1)\n",
    "\n",
    "# Print results\n",
    "cat(str_c(\"Somerst: mean = \", somerst_mean, \" and standard deviation = \", somerst_sd))"
   ]
  },
  {
   "cell_type": "code",
   "execution_count": 8,
   "metadata": {},
   "outputs": [
    {
     "name": "stdout",
     "output_type": "stream",
     "text": [
      "OldTown: mean = 123991.9 and standard deviation = 44327.1"
     ]
    }
   ],
   "source": [
    "# Get the mean and standard deviation of OldTown\n",
    "# Round to 1 decimal places\n",
    "# Hint: mean(), sd(), round()\n",
    "old_town_mean <- df_old_town$SalePrice %>% mean() %>% round(1)\n",
    "old_town_sd <- df_old_town$SalePrice %>% sd() %>% round(1)\n",
    "\n",
    "# Print results\n",
    "cat(str_c(\"OldTown: mean = \", old_town_mean, \" and standard deviation = \", old_town_sd))"
   ]
  },
  {
   "cell_type": "markdown",
   "metadata": {},
   "source": [
    "Notice that the mean of Somerst is almost double the mean of OldTown with the standard deviation not that much different from each other. That is a good indicator that they will be statistically significant. "
   ]
  },
  {
   "cell_type": "markdown",
   "metadata": {},
   "source": [
    "# t.test {stats}\tR Documentation\n",
    "Student's t-Test\n",
    "## Description\n",
    "Performs one and two sample t-tests on vectors of data.\n",
    "\n",
    "## Usage\n",
    "t.test(x, y = NULL,\n",
    "       alternative = c(\"two.sided\", \"less\", \"greater\"),\n",
    "       mu = 0, paired = FALSE, var.equal = FALSE,\n",
    "       conf.level = 0.95, ...)\n",
    "\n"
   ]
  },
  {
   "cell_type": "markdown",
   "metadata": {},
   "source": [
    "# Perform a one-sided t-test\n",
    "Perform a one-sided t-test using two samples, Somerst and OldTown. The result of this test will indicate whether these two samples are statistically different from each other. Because it is one side, we create an alternate hypothesis that Somerst is a higher price than OldTown."
   ]
  },
  {
   "cell_type": "code",
   "execution_count": 9,
   "metadata": {},
   "outputs": [
    {
     "name": "stdout",
     "output_type": "stream",
     "text": [
      "\n",
      "**** Somerst > OldTown ****"
     ]
    },
    {
     "data": {
      "text/plain": [
       "\n",
       "\tWelch Two Sample t-test\n",
       "\n",
       "data:  df_somerst$SalePrice and df_old_town$SalePrice\n",
       "t = 20.595, df = 330.68, p-value < 2.2e-16\n",
       "alternative hypothesis: true difference in means is greater than 0\n",
       "95 percent confidence interval:\n",
       " 97248.63      Inf\n",
       "sample estimates:\n",
       "mean of x mean of y \n",
       " 229707.3  123991.9 \n"
      ]
     },
     "metadata": {},
     "output_type": "display_data"
    },
    {
     "name": "stdout",
     "output_type": "stream",
     "text": [
      "\n",
      "**** Somerst != OldTown ****"
     ]
    },
    {
     "data": {
      "text/plain": [
       "\n",
       "\tWelch Two Sample t-test\n",
       "\n",
       "data:  df_somerst$SalePrice and df_old_town$SalePrice\n",
       "t = 20.595, df = 330.68, p-value < 2.2e-16\n",
       "alternative hypothesis: true difference in means is not equal to 0\n",
       "95 percent confidence interval:\n",
       "  95617.93 115812.94\n",
       "sample estimates:\n",
       "mean of x mean of y \n",
       " 229707.3  123991.9 \n"
      ]
     },
     "metadata": {},
     "output_type": "display_data"
    }
   ],
   "source": [
    "# Perform a two-sample, one-sided t-test, on SalePrice for Somerst and OldTown\n",
    "# Alternate hypotheis: Somerst (first sample) is greater than OldTown (second sample)\n",
    "# Confidence level: 95%\n",
    "# Hint: t.test()\n",
    "cat(\"\\n**** Somerst > OldTown ****\")\n",
    "t.test( df_somerst$SalePrice , df_old_town$SalePrice, conf.level = 0.95 , alternative = \"greater\" )\n",
    "\n",
    "# Run the two-sided test for comparison\n",
    "cat(\"\\n**** Somerst != OldTown ****\")\n",
    "t.test(df_somerst$SalePrice, df_old_town$SalePrice , conf.level = 0.95 , alternative = \"two.sided\" )"
   ]
  },
  {
   "cell_type": "markdown",
   "metadata": {},
   "source": [
    "# Interpreting the results of the t.test output\n",
    "\n",
    "## t statistic, degrees of freedom, p-value\n",
    "Notice that the t-statistic, degrees of freedom and p-value are the same as for the two-sided test. The t-statistic is high and the p value is below 0.05 indicating that the null hypothesis test has been rejected.\n",
    "\n",
    "\n",
    "## p-value < 0.05 rejects the null hypothesis\n",
    "This 0.05 threshold is 1 - the confidence level which is 0.95 or 95%. Anything below this value means it is statistically significant for this confidence level. \n",
    "\n",
    "## Alternative hypothesis\n",
    "The output reminds us of our alternative hypothesis of the difference in sample means *greater* than 0. This is a one-sided test. \n",
    "\n",
    "## Confidence interval\n",
    "Then gives a confidence interval for the **difference** in population means. For a significant result (like this one), the confidence interval does not contain 0. Because it is only a single side, R only calculates one end of the CI. This is all we need to determine whether the interval contains zero. The other end is shown as positive or negative infinity. In this case, the lower end of the CI is 97249 and the upper end is infinity and thus does not contain 0. Again, we reject the null hypothesis.  \n",
    "\n",
    "## Mean of each sample\n",
    "The final line of the output just shows the means of the two samples. As expected, they are the same for both one-sided and two-sided tests."
   ]
  },
  {
   "cell_type": "markdown",
   "metadata": {},
   "source": [
    "# One-sided t.test from the other side\n",
    "It makes sense that the test of $\\mu(Somerst) \\gt \\mu(OldTown)$ was significant, because the sample mean for Somerst is so much larger than the sample mean for Old Town. What happens if we test the opposite alternative hypothesis?\n",
    "\n",
    "Null hypothesis:  \n",
    "$H_0: \\mu(Somerst) = \\mu(OldTown)$\n",
    "\n",
    "*Note: Some statisticians write this hypothesis as*\n",
    "$H_0: \\mu(Somerst) \\ge \\mu(OldTown)$\n",
    "\n",
    "Alternative hypothesis (one-sided):  \n",
    "$H_A: \\mu(Somerst) \\lt \\mu(OldTown)$"
   ]
  },
  {
   "cell_type": "code",
   "execution_count": 10,
   "metadata": {},
   "outputs": [
    {
     "name": "stdout",
     "output_type": "stream",
     "text": [
      "\n",
      "**** Somerst < OldTown ****"
     ]
    },
    {
     "data": {
      "text/plain": [
       "\n",
       "\tWelch Two Sample t-test\n",
       "\n",
       "data:  df_somerst$SalePrice and df_old_town$SalePrice\n",
       "t = 20.595, df = 330.68, p-value = 1\n",
       "alternative hypothesis: true difference in means is less than 0\n",
       "95 percent confidence interval:\n",
       "     -Inf 114182.2\n",
       "sample estimates:\n",
       "mean of x mean of y \n",
       " 229707.3  123991.9 \n"
      ]
     },
     "metadata": {},
     "output_type": "display_data"
    },
    {
     "name": "stdout",
     "output_type": "stream",
     "text": [
      "\n",
      "**** Somerst != OldTown ****"
     ]
    },
    {
     "data": {
      "text/plain": [
       "\n",
       "\tWelch Two Sample t-test\n",
       "\n",
       "data:  df_somerst$SalePrice and df_old_town$SalePrice\n",
       "t = 20.595, df = 330.68, p-value < 2.2e-16\n",
       "alternative hypothesis: true difference in means is not equal to 0\n",
       "95 percent confidence interval:\n",
       "  95617.93 115812.94\n",
       "sample estimates:\n",
       "mean of x mean of y \n",
       " 229707.3  123991.9 \n"
      ]
     },
     "metadata": {},
     "output_type": "display_data"
    },
    {
     "name": "stdout",
     "output_type": "stream",
     "text": [
      "\n",
      "**** Somerst > OldTown ****"
     ]
    },
    {
     "data": {
      "text/plain": [
       "\n",
       "\tWelch Two Sample t-test\n",
       "\n",
       "data:  df_somerst$SalePrice and df_old_town$SalePrice\n",
       "t = 20.595, df = 330.68, p-value < 2.2e-16\n",
       "alternative hypothesis: true difference in means is greater than 0\n",
       "95 percent confidence interval:\n",
       " 97248.63      Inf\n",
       "sample estimates:\n",
       "mean of x mean of y \n",
       " 229707.3  123991.9 \n"
      ]
     },
     "metadata": {},
     "output_type": "display_data"
    }
   ],
   "source": [
    "# Perform a two-sample, one-sided t-test, on SalePrice for Somerst and OldTown\n",
    "# Alternate hypotheis: Somerst (first sample) is LESS than OldTown (second sample)\n",
    "# Confidence level: 95%\n",
    "# Hint: t.test()\n",
    "cat(\"\\n**** Somerst < OldTown ****\")\n",
    "t.test(df_somerst$SalePrice, df_old_town$SalePrice, conf.level = 0.95, alternative = \"less\" )\n",
    "\n",
    "cat(\"\\n**** Somerst != OldTown ****\")\n",
    "# Run the two-sided test for comparison\n",
    "t.test(df_somerst$SalePrice, df_old_town$SalePrice, conf.level = 0.95, alternative = \"two.sided\" )\n",
    "\n",
    "cat(\"\\n**** Somerst > OldTown ****\")\n",
    "# Run the one-sided test where Somerst > OldTown for comparison\n",
    "t.test(df_somerst$SalePrice, df_old_town$SalePrice, conf.level = 0.95, alternative = \"greater\" )"
   ]
  },
  {
   "cell_type": "markdown",
   "metadata": {},
   "source": [
    "# Interpreting the results of the t.test output\n",
    "\n",
    "## t statistic, degrees of freedom, p-value\n",
    "Notice that the t-statistic, and degrees of freedom are the same as for all tests. The p-value is different for this one-sided test...as expected.\n",
    "\n",
    "\n",
    "## p-value < 0.05 rejects the null hypothesis\n",
    "This 0.05 threshold is 1 - the confidence level which is 0.95 or 95%. Anything below this value means it is statistically significant for this confidence level. Since the p-value is above 0.05, in fact it is 1, we *fail to reject* this null hypothesis. \n",
    "\n",
    "## Alternative hypothesis\n",
    "The output reminds us of our alternative hypothesis of the difference in sample means *greater* than 0. This is a one-sided test. \n",
    "\n",
    "## Confidence interval\n",
    "The lower end of the CI is negative infinity and the upper end is 114182, so the CI **does** contain zero. We fail to reject the null hypothesis; the evidence isn't consistent with the alternative hypothesis that the population mean price for Somerst is **less** than the population mean price for Old Town. \n",
    "\n",
    "## Mean of each sample\n",
    "The final line of the output just shows the means of the two samples. As expected, they are the same for all tests."
   ]
  },
  {
   "cell_type": "markdown",
   "metadata": {},
   "source": [
    "# Swapping the order of sample one and sample two\n",
    "For a two-sided test, it doesn't matter which order the samples are given to the t.test. However, when a one-sided test is preformed, the order of which sample is first and which is second, does make a difference. The hypothesis is from the perspective of the first sample, the first argument to the t.test() function.\n",
    "\n",
    "Let's try the same code as before, simply swapping the order provided to t.test."
   ]
  },
  {
   "cell_type": "code",
   "execution_count": 12,
   "metadata": {},
   "outputs": [
    {
     "name": "stdout",
     "output_type": "stream",
     "text": [
      "\n",
      "**** OldTown < Somerst ****"
     ]
    },
    {
     "data": {
      "text/plain": [
       "\n",
       "\tWelch Two Sample t-test\n",
       "\n",
       "data:  df_old_town$SalePrice and df_somerst$SalePrice\n",
       "t = -20.595, df = 330.68, p-value < 2.2e-16\n",
       "alternative hypothesis: true difference in means is less than 0\n",
       "95 percent confidence interval:\n",
       "      -Inf -97248.63\n",
       "sample estimates:\n",
       "mean of x mean of y \n",
       " 123991.9  229707.3 \n"
      ]
     },
     "metadata": {},
     "output_type": "display_data"
    },
    {
     "name": "stdout",
     "output_type": "stream",
     "text": [
      "\n",
      "**** OldTown != Somerst ****"
     ]
    },
    {
     "data": {
      "text/plain": [
       "\n",
       "\tWelch Two Sample t-test\n",
       "\n",
       "data:  df_somerst$SalePrice and df_old_town$SalePrice\n",
       "t = 20.595, df = 330.68, p-value < 2.2e-16\n",
       "alternative hypothesis: true difference in means is not equal to 0\n",
       "95 percent confidence interval:\n",
       "  95617.93 115812.94\n",
       "sample estimates:\n",
       "mean of x mean of y \n",
       " 229707.3  123991.9 \n"
      ]
     },
     "metadata": {},
     "output_type": "display_data"
    },
    {
     "name": "stdout",
     "output_type": "stream",
     "text": [
      "\n",
      "**** OldTown > Somerst ****"
     ]
    },
    {
     "data": {
      "text/plain": [
       "\n",
       "\tWelch Two Sample t-test\n",
       "\n",
       "data:  df_old_town$SalePrice and df_somerst$SalePrice\n",
       "t = -20.595, df = 330.68, p-value = 1\n",
       "alternative hypothesis: true difference in means is greater than 0\n",
       "95 percent confidence interval:\n",
       " -114182.2       Inf\n",
       "sample estimates:\n",
       "mean of x mean of y \n",
       " 123991.9  229707.3 \n"
      ]
     },
     "metadata": {},
     "output_type": "display_data"
    }
   ],
   "source": [
    "# Perform a two-sample, one-sided t-test, on SalePrice swapping the order of the samples\n",
    "# OldTown is first and Somerst is second. \n",
    "# Alternate hypotheis: OldTown (first sample) is LESS than Somerst (second sample)\n",
    "# Confidence level: 95%\n",
    "# Hint: t.test()\n",
    "cat(\"\\n**** OldTown < Somerst ****\")\n",
    "t.test(df_old_town$SalePrice, df_somerst$SalePrice , conf.level = 0.95, alternative = \"less\")\n",
    "\n",
    "cat(\"\\n**** OldTown != Somerst ****\")\n",
    "# Run the two-sided test for comparison\n",
    "t.test( df_somerst$SalePrice , df_old_town$SalePrice, conf.level = 0.95, alternative = \"two.sided\")\n",
    "\n",
    "cat(\"\\n**** OldTown > Somerst ****\")\n",
    "# Run the one-sided test where OldTown > Somerst for comparison\n",
    "t.test(df_old_town$SalePrice, df_somerst$SalePrice ,  conf.level = 0.95, alternative = \"greater\")"
   ]
  },
  {
   "cell_type": "markdown",
   "metadata": {},
   "source": [
    "# Results of swapping order of samples\n",
    "\n",
    "* OldTown <  Somerst is true with a p-value near 0 and a confidence interval NOT containing 0\n",
    "* OldTown != Somerst is true with a p-value near 0 and a confidence interval NOT containing 0\n",
    "* OldTown >  Somerst is false with a p-value near 1 and a confidence interval containing 0"
   ]
  },
  {
   "cell_type": "markdown",
   "metadata": {},
   "source": [
    "# Code Summary\n",
    "Let's summarize the code for a two-sample, one-sided t.test for both greater and less. Let's add the two-sided test as well for completeness sake."
   ]
  },
  {
   "cell_type": "code",
   "execution_count": 19,
   "metadata": {},
   "outputs": [
    {
     "name": "stderr",
     "output_type": "stream",
     "text": [
      "Parsed with column specification:\n",
      "cols(\n",
      "  .default = col_character(),\n",
      "  Order = col_double(),\n",
      "  Lot_Frontage = col_integer(),\n",
      "  Lot_Area = col_double(),\n",
      "  Overall_Qual = col_integer(),\n",
      "  Overall_Cond = col_integer(),\n",
      "  Year_Built = col_double(),\n",
      "  Year_Remod_Add = col_double(),\n",
      "  Mas_Vnr_Area = col_integer(),\n",
      "  BsmtFin_SF_1 = col_double(),\n",
      "  BsmtFin_SF_2 = col_integer(),\n",
      "  Bsmt_Unf_SF = col_integer(),\n",
      "  Total_Bsmt_SF = col_integer(),\n",
      "  Z_1st_Flr_SF = col_double(),\n",
      "  Z_2nd_Flr_SF = col_double(),\n",
      "  Low_Qual_Fin_SF = col_integer(),\n",
      "  Gr_Liv_Area = col_integer(),\n",
      "  Bsmt_Full_Bath = col_integer(),\n",
      "  Bsmt_Half_Bath = col_integer(),\n",
      "  Full_Bath = col_integer(),\n",
      "  Half_Bath = col_integer()\n",
      "  # ... with 17 more columns\n",
      ")\n",
      "See spec(...) for full column specifications.\n"
     ]
    },
    {
     "name": "stdout",
     "output_type": "stream",
     "text": [
      "Observations: 2,930\n",
      "Variables: 2\n",
      "$ Neighborhood \u001b[3m\u001b[90m<fct>\u001b[39m\u001b[23m NAmes, NAmes, NAmes, NAmes, Gilbert, Gilbert, StoneBr, S…\n",
      "$ SalePrice    \u001b[3m\u001b[90m<dbl>\u001b[39m\u001b[23m 215000, 105000, 172000, 244000, 189900, 195500, 213500, …\n"
     ]
    },
    {
     "data": {
      "text/plain": [
       "\n",
       "\tWelch Two Sample t-test\n",
       "\n",
       "data:  df_somerst$SalePrice and df_old_town$SalePrice\n",
       "t = 20.595, df = 330.68, p-value < 2.2e-16\n",
       "alternative hypothesis: true difference in means is greater than 0\n",
       "95 percent confidence interval:\n",
       " 97248.63      Inf\n",
       "sample estimates:\n",
       "mean of x mean of y \n",
       " 229707.3  123991.9 \n"
      ]
     },
     "metadata": {},
     "output_type": "display_data"
    },
    {
     "data": {
      "text/plain": [
       "\n",
       "\tWelch Two Sample t-test\n",
       "\n",
       "data:  df_somerst$SalePrice and df_old_town$SalePrice\n",
       "t = 20.595, df = 330.68, p-value = 1\n",
       "alternative hypothesis: true difference in means is less than 0\n",
       "95 percent confidence interval:\n",
       "     -Inf 114182.2\n",
       "sample estimates:\n",
       "mean of x mean of y \n",
       " 229707.3  123991.9 \n"
      ]
     },
     "metadata": {},
     "output_type": "display_data"
    },
    {
     "data": {
      "text/plain": [
       "\n",
       "\tWelch Two Sample t-test\n",
       "\n",
       "data:  df_somerst$SalePrice and df_old_town$SalePrice\n",
       "t = 20.595, df = 330.68, p-value < 2.2e-16\n",
       "alternative hypothesis: true difference in means is not equal to 0\n",
       "95 percent confidence interval:\n",
       "  95617.93 115812.94\n",
       "sample estimates:\n",
       "mean of x mean of y \n",
       " 229707.3  123991.9 \n"
      ]
     },
     "metadata": {},
     "output_type": "display_data"
    }
   ],
   "source": [
    "# Load libraries\n",
    "library( tidyverse )\n",
    "\n",
    "# Load data: ames_housing.csv\n",
    "df_ames_housing <- \"ames_housing.csv\" %>% \n",
    "   read_csv(progress=FALSE) %>% \n",
    "   mutate_if(is.character, as.factor ) %>% \n",
    "   select(Neighborhood, SalePrice )\n",
    "\n",
    "df_ames_housing %>% glimpse()\n",
    "\n",
    "# Get two samples\n",
    "df_old_town <- df_ames_housing %>% filter( Neighborhood == \"OldTown\" )\n",
    "df_somerst <- df_ames_housing %>% filter (Neighborhood == \"Somerst\")\n",
    "\n",
    "# Perform t.test\n",
    "t.test(df_somerst$SalePrice, df_old_town$SalePrice, alternative=\"greater\") # Greater\n",
    "t.test(df_somerst$SalePrice, df_old_town$SalePrice, alternative=\"less\") # Less\n",
    "t.test(df_somerst$SalePrice, df_old_town$SalePrice, alternative=\"two.sided\") # Two sided"
   ]
  },
  {
   "cell_type": "code",
   "execution_count": null,
   "metadata": {
    "collapsed": true
   },
   "outputs": [],
   "source": []
  }
 ],
 "metadata": {
  "kernelspec": {
   "display_name": "R 3.5.1",
   "language": "R",
   "name": "ir"
  },
  "language_info": {
   "codemirror_mode": "r",
   "file_extension": ".r",
   "mimetype": "text/x-r-source",
   "name": "R",
   "pygments_lexer": "r",
   "version": "3.5.1"
  }
 },
 "nbformat": 4,
 "nbformat_minor": 2
}
