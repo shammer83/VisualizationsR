{
 "cells": [
  {
   "cell_type": "markdown",
   "metadata": {},
   "source": [
    "# L07-Assignment\n",
    "## Assignment Instructions\n",
    "\n",
    "* Complete all cells as instructed, replacing any ??? with the appropriate code\n",
    "\n",
    "* Execute Jupyter **Kernel** > **Restart & Run All** and ensure that all code blocks run without error\n",
    "\n",
    "* Do not load any additional libraries. You must use the libraries in the Load Libraries cell provided.\n",
    "\n",
    "* Meet all of the assignment objectives described below\n",
    "\n",
    "* Jupyter Notebook cells can be added and inserted as desired"
   ]
  },
  {
   "cell_type": "markdown",
   "metadata": {
    "collapsed": true
   },
   "source": [
    "# Assignment objectives\n",
    "\n",
    "Analyze diamonds. This includes:\n",
    "\n",
    "* 1 point - All code blocks run without error. Jupyter **Kernel** > **Restart & Run All**\n",
    "* 1 point - Complete the template cells\n",
    "* 1 point - Include the following R Features at least once. You are not limited to these, only by the libraries loaded.\n",
    "* 1 point - Include a written analysis of statistically significant features around the diamonds's price referencing the t-tests as evidence of your conclusions.\n",
    "\n",
    "The above is what is required to achieve full credit for the assignment. You are welcome and encouraged to go above and beyond these requirements, just be sure these requirements are fully met first. \n",
    "\n",
    "\n",
    "## R Features\n",
    "* t.test()\n",
    "* one-sided test\n",
    "* two-sided test\n",
    "* test that includes a factor variable\n",
    "\n",
    "\n",
    "## Datasets\n",
    "* diamonds"
   ]
  },
  {
   "cell_type": "code",
   "execution_count": 11,
   "metadata": {},
   "outputs": [],
   "source": [
    "# Load libraries\n",
    "# Do not load any additional libraries other than what is provided in this template\n",
    "library(tidyverse)"
   ]
  },
  {
   "cell_type": "code",
   "execution_count": 12,
   "metadata": {},
   "outputs": [
    {
     "name": "stdout",
     "output_type": "stream",
     "text": [
      "Observations: 53,940\n",
      "Variables: 10\n",
      "$ carat   \u001b[3m\u001b[90m<dbl>\u001b[39m\u001b[23m 0.23, 0.21, 0.23, 0.29, 0.31, 0.24, 0.24, 0.26, 0.22, 0.23, 0…\n",
      "$ cut     \u001b[3m\u001b[90m<ord>\u001b[39m\u001b[23m Ideal, Premium, Good, Premium, Good, Very Good, Very Good, Ve…\n",
      "$ color   \u001b[3m\u001b[90m<ord>\u001b[39m\u001b[23m E, E, E, I, J, J, I, H, E, H, J, J, F, J, E, E, I, J, J, J, I…\n",
      "$ clarity \u001b[3m\u001b[90m<ord>\u001b[39m\u001b[23m SI2, SI1, VS1, VS2, SI2, VVS2, VVS1, SI1, VS2, VS1, SI1, VS1,…\n",
      "$ depth   \u001b[3m\u001b[90m<dbl>\u001b[39m\u001b[23m 61.5, 59.8, 56.9, 62.4, 63.3, 62.8, 62.3, 61.9, 65.1, 59.4, 6…\n",
      "$ table   \u001b[3m\u001b[90m<dbl>\u001b[39m\u001b[23m 55, 61, 65, 58, 58, 57, 57, 55, 61, 61, 55, 56, 61, 54, 62, 5…\n",
      "$ price   \u001b[3m\u001b[90m<int>\u001b[39m\u001b[23m 326, 326, 327, 334, 335, 336, 336, 337, 337, 338, 339, 340, 3…\n",
      "$ x       \u001b[3m\u001b[90m<dbl>\u001b[39m\u001b[23m 3.95, 3.89, 4.05, 4.20, 4.34, 3.94, 3.95, 4.07, 3.87, 4.00, 4…\n",
      "$ y       \u001b[3m\u001b[90m<dbl>\u001b[39m\u001b[23m 3.98, 3.84, 4.07, 4.23, 4.35, 3.96, 3.98, 4.11, 3.78, 4.05, 4…\n",
      "$ z       \u001b[3m\u001b[90m<dbl>\u001b[39m\u001b[23m 2.43, 2.31, 2.31, 2.63, 2.75, 2.48, 2.47, 2.53, 2.49, 2.39, 2…\n"
     ]
    },
    {
     "data": {
      "text/plain": [
       "     carat               cut        color        clarity          depth      \n",
       " Min.   :0.2000   Fair     : 1610   D: 6775   SI1    :13065   Min.   :43.00  \n",
       " 1st Qu.:0.4000   Good     : 4906   E: 9797   VS2    :12258   1st Qu.:61.00  \n",
       " Median :0.7000   Very Good:12082   F: 9542   SI2    : 9194   Median :61.80  \n",
       " Mean   :0.7979   Premium  :13791   G:11292   VS1    : 8171   Mean   :61.75  \n",
       " 3rd Qu.:1.0400   Ideal    :21551   H: 8304   VVS2   : 5066   3rd Qu.:62.50  \n",
       " Max.   :5.0100                     I: 5422   VVS1   : 3655   Max.   :79.00  \n",
       "                                    J: 2808   (Other): 2531                  \n",
       "     table           price             x                y         \n",
       " Min.   :43.00   Min.   :  326   Min.   : 0.000   Min.   : 0.000  \n",
       " 1st Qu.:56.00   1st Qu.:  950   1st Qu.: 4.710   1st Qu.: 4.720  \n",
       " Median :57.00   Median : 2401   Median : 5.700   Median : 5.710  \n",
       " Mean   :57.46   Mean   : 3933   Mean   : 5.731   Mean   : 5.735  \n",
       " 3rd Qu.:59.00   3rd Qu.: 5324   3rd Qu.: 6.540   3rd Qu.: 6.540  \n",
       " Max.   :95.00   Max.   :18823   Max.   :10.740   Max.   :58.900  \n",
       "                                                                  \n",
       "       z         \n",
       " Min.   : 0.000  \n",
       " 1st Qu.: 2.910  \n",
       " Median : 3.530  \n",
       " Mean   : 3.539  \n",
       " 3rd Qu.: 4.040  \n",
       " Max.   :31.800  \n",
       "                 "
      ]
     },
     "metadata": {},
     "output_type": "display_data"
    }
   ],
   "source": [
    "# Explore data structure\n",
    "# Data: diamonds\n",
    "diamonds %>% glimpse() %>% summary()\n",
    "\n",
    "# Display help on data\n",
    "? diamonds"
   ]
  },
  {
   "cell_type": "markdown",
   "metadata": {},
   "source": [
    "# Data processing\n",
    "Create a new data frame(s) with appropriate data types and data cleaning for the data."
   ]
  },
  {
   "cell_type": "code",
   "execution_count": 13,
   "metadata": {},
   "outputs": [
    {
     "data": {
      "text/html": [
       "<table>\n",
       "<caption>A tibble: 5 × 10</caption>\n",
       "<thead>\n",
       "\t<tr><th scope=col>carat</th><th scope=col>cut</th><th scope=col>color</th><th scope=col>clarity</th><th scope=col>depth</th><th scope=col>table</th><th scope=col>price</th><th scope=col>x</th><th scope=col>y</th><th scope=col>z</th></tr>\n",
       "\t<tr><th scope=col>&lt;dbl&gt;</th><th scope=col>&lt;ord&gt;</th><th scope=col>&lt;ord&gt;</th><th scope=col>&lt;ord&gt;</th><th scope=col>&lt;dbl&gt;</th><th scope=col>&lt;dbl&gt;</th><th scope=col>&lt;int&gt;</th><th scope=col>&lt;dbl&gt;</th><th scope=col>&lt;dbl&gt;</th><th scope=col>&lt;dbl&gt;</th></tr>\n",
       "</thead>\n",
       "<tbody>\n",
       "\t<tr><td>0.23</td><td>Ideal  </td><td>E</td><td>SI2</td><td>61.5</td><td>55</td><td>326</td><td>3.95</td><td>3.98</td><td>2.43</td></tr>\n",
       "\t<tr><td>0.21</td><td>Premium</td><td>E</td><td>SI1</td><td>59.8</td><td>61</td><td>326</td><td>3.89</td><td>3.84</td><td>2.31</td></tr>\n",
       "\t<tr><td>0.23</td><td>Good   </td><td>E</td><td>VS1</td><td>56.9</td><td>65</td><td>327</td><td>4.05</td><td>4.07</td><td>2.31</td></tr>\n",
       "\t<tr><td>0.29</td><td>Premium</td><td>I</td><td>VS2</td><td>62.4</td><td>58</td><td>334</td><td>4.20</td><td>4.23</td><td>2.63</td></tr>\n",
       "\t<tr><td>0.31</td><td>Good   </td><td>J</td><td>SI2</td><td>63.3</td><td>58</td><td>335</td><td>4.34</td><td>4.35</td><td>2.75</td></tr>\n",
       "</tbody>\n",
       "</table>\n"
      ],
      "text/latex": [
       "A tibble: 5 × 10\n",
       "\\begin{tabular}{r|llllllllll}\n",
       " carat & cut & color & clarity & depth & table & price & x & y & z\\\\\n",
       " <dbl> & <ord> & <ord> & <ord> & <dbl> & <dbl> & <int> & <dbl> & <dbl> & <dbl>\\\\\n",
       "\\hline\n",
       "\t 0.23 & Ideal   & E & SI2 & 61.5 & 55 & 326 & 3.95 & 3.98 & 2.43\\\\\n",
       "\t 0.21 & Premium & E & SI1 & 59.8 & 61 & 326 & 3.89 & 3.84 & 2.31\\\\\n",
       "\t 0.23 & Good    & E & VS1 & 56.9 & 65 & 327 & 4.05 & 4.07 & 2.31\\\\\n",
       "\t 0.29 & Premium & I & VS2 & 62.4 & 58 & 334 & 4.20 & 4.23 & 2.63\\\\\n",
       "\t 0.31 & Good    & J & SI2 & 63.3 & 58 & 335 & 4.34 & 4.35 & 2.75\\\\\n",
       "\\end{tabular}\n"
      ],
      "text/markdown": [
       "\n",
       "A tibble: 5 × 10\n",
       "\n",
       "| carat &lt;dbl&gt; | cut &lt;ord&gt; | color &lt;ord&gt; | clarity &lt;ord&gt; | depth &lt;dbl&gt; | table &lt;dbl&gt; | price &lt;int&gt; | x &lt;dbl&gt; | y &lt;dbl&gt; | z &lt;dbl&gt; |\n",
       "|---|---|---|---|---|---|---|---|---|---|\n",
       "| 0.23 | Ideal   | E | SI2 | 61.5 | 55 | 326 | 3.95 | 3.98 | 2.43 |\n",
       "| 0.21 | Premium | E | SI1 | 59.8 | 61 | 326 | 3.89 | 3.84 | 2.31 |\n",
       "| 0.23 | Good    | E | VS1 | 56.9 | 65 | 327 | 4.05 | 4.07 | 2.31 |\n",
       "| 0.29 | Premium | I | VS2 | 62.4 | 58 | 334 | 4.20 | 4.23 | 2.63 |\n",
       "| 0.31 | Good    | J | SI2 | 63.3 | 58 | 335 | 4.34 | 4.35 | 2.75 |\n",
       "\n"
      ],
      "text/plain": [
       "  carat cut     color clarity depth table price x    y    z   \n",
       "1 0.23  Ideal   E     SI2     61.5  55    326   3.95 3.98 2.43\n",
       "2 0.21  Premium E     SI1     59.8  61    326   3.89 3.84 2.31\n",
       "3 0.23  Good    E     VS1     56.9  65    327   4.05 4.07 2.31\n",
       "4 0.29  Premium I     VS2     62.4  58    334   4.20 4.23 2.63\n",
       "5 0.31  Good    J     SI2     63.3  58    335   4.34 4.35 2.75"
      ]
     },
     "metadata": {},
     "output_type": "display_data"
    },
    {
     "name": "stdout",
     "output_type": "stream",
     "text": [
      "Classes ‘tbl_df’, ‘tbl’ and 'data.frame':\t53940 obs. of  10 variables:\n",
      " $ carat  : num  0.23 0.21 0.23 0.29 0.31 0.24 0.24 0.26 0.22 0.23 ...\n",
      " $ cut    : Ord.factor w/ 5 levels \"Fair\"<\"Good\"<..: 5 4 2 4 2 3 3 3 1 3 ...\n",
      " $ color  : Ord.factor w/ 7 levels \"D\"<\"E\"<\"F\"<\"G\"<..: 2 2 2 6 7 7 6 5 2 5 ...\n",
      " $ clarity: Ord.factor w/ 8 levels \"I1\"<\"SI2\"<\"SI1\"<..: 2 3 5 4 2 6 7 3 4 5 ...\n",
      " $ depth  : num  61.5 59.8 56.9 62.4 63.3 62.8 62.3 61.9 65.1 59.4 ...\n",
      " $ table  : num  55 61 65 58 58 57 57 55 61 61 ...\n",
      " $ price  : int  326 326 327 334 335 336 336 337 337 338 ...\n",
      " $ x      : num  3.95 3.89 4.05 4.2 4.34 3.94 3.95 4.07 3.87 4 ...\n",
      " $ y      : num  3.98 3.84 4.07 4.23 4.35 3.96 3.98 4.11 3.78 4.05 ...\n",
      " $ z      : num  2.43 2.31 2.31 2.63 2.75 2.48 2.47 2.53 2.49 2.39 ...\n"
     ]
    }
   ],
   "source": [
    "# Placeholder cell to create your own data frames from the source data\n",
    "diamonds_df <- diamonds\n",
    "\n",
    "diamond_df <- diamonds_df %>% \n",
    "    mutate_if(is.character, as.factor)%>% \n",
    "    arrange(price)\n",
    "\n",
    "diamonds_df %>% head(5)\n",
    "\n",
    "diamonds_df %>% str()"
   ]
  },
  {
   "cell_type": "code",
   "execution_count": 14,
   "metadata": {},
   "outputs": [
    {
     "data": {
      "text/html": [
       "<table>\n",
       "<caption>A tibble: 1 × 7</caption>\n",
       "<thead>\n",
       "\t<tr><th scope=col>carat</th><th scope=col>depth</th><th scope=col>table</th><th scope=col>price</th><th scope=col>x</th><th scope=col>y</th><th scope=col>z</th></tr>\n",
       "\t<tr><th scope=col>&lt;dbl&gt;</th><th scope=col>&lt;dbl&gt;</th><th scope=col>&lt;dbl&gt;</th><th scope=col>&lt;dbl&gt;</th><th scope=col>&lt;dbl&gt;</th><th scope=col>&lt;dbl&gt;</th><th scope=col>&lt;dbl&gt;</th></tr>\n",
       "</thead>\n",
       "<tbody>\n",
       "\t<tr><td>0.7979397</td><td>61.7494</td><td>57.45718</td><td>3932.8</td><td>5.731157</td><td>5.734526</td><td>3.538734</td></tr>\n",
       "</tbody>\n",
       "</table>\n"
      ],
      "text/latex": [
       "A tibble: 1 × 7\n",
       "\\begin{tabular}{r|lllllll}\n",
       " carat & depth & table & price & x & y & z\\\\\n",
       " <dbl> & <dbl> & <dbl> & <dbl> & <dbl> & <dbl> & <dbl>\\\\\n",
       "\\hline\n",
       "\t 0.7979397 & 61.7494 & 57.45718 & 3932.8 & 5.731157 & 5.734526 & 3.538734\\\\\n",
       "\\end{tabular}\n"
      ],
      "text/markdown": [
       "\n",
       "A tibble: 1 × 7\n",
       "\n",
       "| carat &lt;dbl&gt; | depth &lt;dbl&gt; | table &lt;dbl&gt; | price &lt;dbl&gt; | x &lt;dbl&gt; | y &lt;dbl&gt; | z &lt;dbl&gt; |\n",
       "|---|---|---|---|---|---|---|\n",
       "| 0.7979397 | 61.7494 | 57.45718 | 3932.8 | 5.731157 | 5.734526 | 3.538734 |\n",
       "\n"
      ],
      "text/plain": [
       "  carat     depth   table    price  x        y        z       \n",
       "1 0.7979397 61.7494 57.45718 3932.8 5.731157 5.734526 3.538734"
      ]
     },
     "metadata": {},
     "output_type": "display_data"
    },
    {
     "data": {
      "text/html": [
       "<table>\n",
       "<caption>A tibble: 1 × 7</caption>\n",
       "<thead>\n",
       "\t<tr><th scope=col>carat</th><th scope=col>depth</th><th scope=col>table</th><th scope=col>price</th><th scope=col>x</th><th scope=col>y</th><th scope=col>z</th></tr>\n",
       "\t<tr><th scope=col>&lt;dbl&gt;</th><th scope=col>&lt;dbl&gt;</th><th scope=col>&lt;dbl&gt;</th><th scope=col>&lt;dbl&gt;</th><th scope=col>&lt;dbl&gt;</th><th scope=col>&lt;dbl&gt;</th><th scope=col>&lt;dbl&gt;</th></tr>\n",
       "</thead>\n",
       "<tbody>\n",
       "\t<tr><td>0.4740112</td><td>1.432621</td><td>2.234491</td><td>3989.44</td><td>1.121761</td><td>1.142135</td><td>0.7056988</td></tr>\n",
       "</tbody>\n",
       "</table>\n"
      ],
      "text/latex": [
       "A tibble: 1 × 7\n",
       "\\begin{tabular}{r|lllllll}\n",
       " carat & depth & table & price & x & y & z\\\\\n",
       " <dbl> & <dbl> & <dbl> & <dbl> & <dbl> & <dbl> & <dbl>\\\\\n",
       "\\hline\n",
       "\t 0.4740112 & 1.432621 & 2.234491 & 3989.44 & 1.121761 & 1.142135 & 0.7056988\\\\\n",
       "\\end{tabular}\n"
      ],
      "text/markdown": [
       "\n",
       "A tibble: 1 × 7\n",
       "\n",
       "| carat &lt;dbl&gt; | depth &lt;dbl&gt; | table &lt;dbl&gt; | price &lt;dbl&gt; | x &lt;dbl&gt; | y &lt;dbl&gt; | z &lt;dbl&gt; |\n",
       "|---|---|---|---|---|---|---|\n",
       "| 0.4740112 | 1.432621 | 2.234491 | 3989.44 | 1.121761 | 1.142135 | 0.7056988 |\n",
       "\n"
      ],
      "text/plain": [
       "  carat     depth    table    price   x        y        z        \n",
       "1 0.4740112 1.432621 2.234491 3989.44 1.121761 1.142135 0.7056988"
      ]
     },
     "metadata": {},
     "output_type": "display_data"
    }
   ],
   "source": [
    "# determine summary stats for the entire sample \n",
    "\n",
    "mean_df <- diamonds_df %>% select_if(is.numeric)%>%summarize_all(mean)\n",
    "mean_df\n",
    "\n",
    "sd_df <- diamonds_df %>% select_if(is.numeric)%>%summarize_all(sd)\n",
    "sd_df"
   ]
  },
  {
   "cell_type": "code",
   "execution_count": 15,
   "metadata": {
    "scrolled": false
   },
   "outputs": [],
   "source": [
    "get_distplot <- function(data){\n",
    "    \n",
    "    numeric_df <- data %>% select_if(is.numeric)\n",
    "    \n",
    "    for (col in numeric_df %>% names()){\n",
    "        \n",
    "        plt <- numeric_df%>% ggplot(mapping = aes_string(x = col)) +\n",
    "                        geom_density(alpha = 0.7)+\n",
    "                        theme_classic()+\n",
    "                        labs(title = str_c(\"Distribution Plot of \", col))\n",
    "         plt %>% print()\n",
    "        }\n",
    "                              \n",
    "\n",
    "   \n",
    "}"
   ]
  },
  {
   "cell_type": "code",
   "execution_count": 16,
   "metadata": {},
   "outputs": [
    {
     "name": "stdout",
     "output_type": "stream",
     "text": [
      "'D' colored diamonds: mean = 3170 and standard deviation = 3356.6\n",
      "'J' colored diamonds: mean = 5323.8 and standard deviation = 4438.2"
     ]
    }
   ],
   "source": [
    "# Separate the diamonds data into two sets \n",
    "\n",
    "df_DiamondsD <- diamonds_df %>% filter(color == 'D')\n",
    "\n",
    "df_DiamondsJ <- diamonds_df %>% filter(color == 'J')\n",
    "\n",
    "# Get the mean and standard deviation\n",
    "# Round to 1 decimal places\n",
    "\n",
    "diamond_D_mean <- df_DiamondsD$price %>% mean () %>% round(1)\n",
    "diamond_D_sd <- df_DiamondsD$price %>% sd() %>% round(1)\n",
    "\n",
    "\n",
    "diamond_J_mean <- df_DiamondsJ$price %>% mean () %>% round(1)\n",
    "diamond_J_sd <- df_DiamondsJ$price %>% sd() %>% round(1)\n",
    "\n",
    "\n",
    "# Print results\n",
    "cat(str_c(\"\\'D\\' colored diamonds: mean = \", diamond_D_mean, \" and standard deviation = \", diamond_D_sd))\n",
    "\n",
    "cat('\\n')\n",
    "\n",
    "cat(str_c(\"\\'J\\' colored diamonds: mean = \", diamond_J_mean, \" and standard deviation = \", diamond_J_sd))"
   ]
  },
  {
   "cell_type": "markdown",
   "metadata": {},
   "source": [
    "# Two-Sided Test\n",
    "\n",
    "Question: Is there a statistically significant difference in mean sale prices between 'D' Color Diamonds & 'J' Color Diamonds?\n",
    "\n",
    "$H_0: \\mu{colorD} = \\mu{ColorJ}$\n",
    "\n",
    "$H_A: \\mu{colorD} \\ne \\mu{ColorJ}$\n",
    "\n",
    "\n",
    "(Note that this is the same as $\\mu_{colorJ} - \\mu_{colorJ} = 0$).\n",
    "\n",
    "\n",
    "Assumptions:\n",
    "\n",
    "    Two normally distributed independent populations\n",
    "    Population variances are unknown and not assumed to be equal\n",
    "\n"
   ]
  },
  {
   "cell_type": "code",
   "execution_count": 17,
   "metadata": {},
   "outputs": [
    {
     "name": "stdout",
     "output_type": "stream",
     "text": [
      "\n",
      "**** 'D Color Price' != 'J Color Price' ****"
     ]
    },
    {
     "data": {
      "text/plain": [
       "\n",
       "\tWelch Two Sample t-test\n",
       "\n",
       "data:  df_DiamondsD$price and df_DiamondsJ$price\n",
       "t = -23.121, df = 4197.9, p-value < 2.2e-16\n",
       "alternative hypothesis: true difference in means is not equal to 0\n",
       "95 percent confidence interval:\n",
       " -2336.496 -1971.232\n",
       "sample estimates:\n",
       "mean of x mean of y \n",
       " 3169.954  5323.818 \n"
      ]
     },
     "metadata": {},
     "output_type": "display_data"
    },
    {
     "name": "stdout",
     "output_type": "stream",
     "text": [
      "\n",
      "**** J > D ****"
     ]
    },
    {
     "data": {
      "text/plain": [
       "\n",
       "\tWelch Two Sample t-test\n",
       "\n",
       "data:  df_DiamondsJ$price and df_DiamondsD$price\n",
       "t = 23.121, df = 4197.9, p-value < 2.2e-16\n",
       "alternative hypothesis: true difference in means is greater than 0\n",
       "95 percent confidence interval:\n",
       " 2000.605      Inf\n",
       "sample estimates:\n",
       "mean of x mean of y \n",
       " 5323.818  3169.954 \n"
      ]
     },
     "metadata": {},
     "output_type": "display_data"
    }
   ],
   "source": [
    "# Perform a two sample, two-sided t-test, on Price for 'D' Colored Diamonds and 'E' Colored\n",
    "# Confidence level: 95%\n",
    "cat(\"\\n**** 'D Color Price' != 'J Color Price' ****\")\n",
    "t.test(df_DiamondsD$price, df_DiamondsJ$price, conf.level = 0.95 , alternative=\"two.sided\")\n",
    "\n",
    "\n",
    "cat(\"\\n**** J > D ****\")\n",
    "# Run the one-sided test where J > D for comparison\n",
    "t.test(df_DiamondsJ$price, df_DiamondsD$price, conf.level = 0.95, alternative = \"greater\" )"
   ]
  },
  {
   "cell_type": "markdown",
   "metadata": {},
   "source": [
    "`Result:`  We can reject the null hypothesis (difference of means are 0).  The mean price of a J diamond is greater than D.  "
   ]
  },
  {
   "cell_type": "markdown",
   "metadata": {},
   "source": [
    "# One-sided test\n",
    "\n",
    "In the last exercise we performed a two-sample, two-sided t-test. Now suppose that your hypothesis specifies which mean you expect to be larger. For example, suppose you want to test whether the mean price in Somerst is larger than the mean price in Old Town.\n",
    "\n",
    "Null hypothesis:\n",
    "$H_0: \\mu(Ideal) = \\mu(Premium)$\n",
    "\n",
    "Alternative hypothesis (one-sided):\n",
    "$H_A: \\mu(Premium) \\gt \\mu(Ideal)$\n",
    "\n",
    "This one-sided test has only one rejection region, in the the upper tail of the distribution of the difference in group means. The probability in this tail is .05."
   ]
  },
  {
   "cell_type": "code",
   "execution_count": 18,
   "metadata": {},
   "outputs": [
    {
     "name": "stdout",
     "output_type": "stream",
     "text": [
      "'D' Ideal diamonds: mean = 3457.5 and standard deviation = 3808.4\n",
      "'E' Premium diamonds: mean = 4584.3 and standard deviation = 4349.2"
     ]
    }
   ],
   "source": [
    "# Separate the diamonds data into two sets \n",
    "\n",
    "df_Ideal <- diamonds_df %>% filter(cut == 'Ideal')\n",
    "\n",
    "df_Premium <- diamonds_df %>% filter(cut == 'Premium')\n",
    "\n",
    "# Get the mean and standard deviation\n",
    "# Round to 1 decimal places\n",
    "\n",
    "diamond_ideal_mean <- df_Ideal$price %>% mean () %>% round(1)\n",
    "diamond_ideal_sd <- df_Ideal$price %>% sd() %>% round(1)\n",
    "\n",
    "\n",
    "diamond_premium_mean <- df_Premium$price %>% mean () %>% round(1)\n",
    "diamond_premium_sd <- df_Premium$price %>% sd() %>% round(1)\n",
    "\n",
    "\n",
    "# Print results\n",
    "cat(str_c(\"\\'D\\' Ideal diamonds: mean = \", diamond_ideal_mean, \" and standard deviation = \", diamond_ideal_sd))\n",
    "\n",
    "cat('\\n')\n",
    "\n",
    "cat(str_c(\"\\'E\\' Premium diamonds: mean = \", diamond_premium_mean, \" and standard deviation = \", diamond_premium_sd))"
   ]
  },
  {
   "cell_type": "markdown",
   "metadata": {
    "collapsed": true
   },
   "source": [
    "Note: since the standard deviations are far apart, it looks promising that Premium cut diamonds are going to have a higher mean price."
   ]
  },
  {
   "cell_type": "code",
   "execution_count": 19,
   "metadata": {},
   "outputs": [
    {
     "name": "stdout",
     "output_type": "stream",
     "text": [
      "\n",
      "**** Ideal < Premium ****"
     ]
    },
    {
     "data": {
      "text/plain": [
       "\n",
       "\tWelch Two Sample t-test\n",
       "\n",
       "data:  df_Ideal$price and df_Premium$price\n",
       "t = -24.918, df = 26552, p-value < 2.2e-16\n",
       "alternative hypothesis: true difference in means is less than 0\n",
       "95 percent confidence interval:\n",
       "      -Inf -1052.337\n",
       "sample estimates:\n",
       "mean of x mean of y \n",
       " 3457.542  4584.258 \n"
      ]
     },
     "metadata": {},
     "output_type": "display_data"
    },
    {
     "name": "stdout",
     "output_type": "stream",
     "text": [
      "\n",
      "**** Ideal != Premium ****"
     ]
    },
    {
     "data": {
      "text/plain": [
       "\n",
       "\tWelch Two Sample t-test\n",
       "\n",
       "data:  df_Ideal$price and df_Premium$price\n",
       "t = -24.918, df = 26552, p-value < 2.2e-16\n",
       "alternative hypothesis: true difference in means is not equal to 0\n",
       "95 percent confidence interval:\n",
       " -1215.344 -1038.088\n",
       "sample estimates:\n",
       "mean of x mean of y \n",
       " 3457.542  4584.258 \n"
      ]
     },
     "metadata": {},
     "output_type": "display_data"
    },
    {
     "name": "stdout",
     "output_type": "stream",
     "text": [
      "\n",
      "**** Ideal > Premium ****"
     ]
    },
    {
     "data": {
      "text/plain": [
       "\n",
       "\tWelch Two Sample t-test\n",
       "\n",
       "data:  df_Ideal$price and df_Premium$price\n",
       "t = -24.918, df = 26552, p-value = 1\n",
       "alternative hypothesis: true difference in means is greater than 0\n",
       "95 percent confidence interval:\n",
       " -1201.094       Inf\n",
       "sample estimates:\n",
       "mean of x mean of y \n",
       " 3457.542  4584.258 \n"
      ]
     },
     "metadata": {},
     "output_type": "display_data"
    }
   ],
   "source": [
    "# Perform a two-sample, one-sided t-test, on price for Ideal and Premium Diamonds\n",
    "# Alternate hypotheis: Ideal (first sample) is LESS than Premium (second sample)\n",
    "# Confidence level: 95%\n",
    "\n",
    "cat(\"\\n**** Ideal < Premium ****\")\n",
    "t.test(df_Ideal$price, df_Premium$price, conf.level = 0.95, alternative = \"less\" )\n",
    "\n",
    "cat(\"\\n**** Ideal != Premium ****\")\n",
    "# Run the two-sided test for comparison\n",
    "t.test(df_Ideal$price, df_Premium$price, conf.level = 0.95, alternative = \"two.sided\" )\n",
    "\n",
    "cat(\"\\n**** Ideal > Premium ****\")\n",
    "# Run the one-sided test where Ideal > Premium for comparison\n",
    "t.test(df_Ideal$price, df_Premium$price, conf.level = 0.95, alternative = \"greater\" )"
   ]
  },
  {
   "cell_type": "markdown",
   "metadata": {},
   "source": [
    "`Result:` Premium cut diamonds do carry an average sales price that is higher over ideal cut diamonds."
   ]
  },
  {
   "cell_type": "markdown",
   "metadata": {},
   "source": [
    "# t test using factors \n",
    "\n",
    "Question: Is clarity a significant factor in driving price?\n",
    "\n",
    "Notes:\n",
    "I chose SI1 because it had the highest count and VVS1 had the lowest, and there fore is more rare. "
   ]
  },
  {
   "cell_type": "code",
   "execution_count": 23,
   "metadata": {},
   "outputs": [
    {
     "name": "stdout",
     "output_type": "stream",
     "text": [
      "\n",
      "****SI1 != VS1****"
     ]
    },
    {
     "data": {
      "text/plain": [
       "\n",
       "\tWelch Two Sample t-test\n",
       "\n",
       "data:  price by clarity\n",
       "t = 22.87, df = 6548.2, p-value < 2.2e-16\n",
       "alternative hypothesis: true difference in means is not equal to 0\n",
       "95 percent confidence interval:\n",
       " 1346.637 1599.136\n",
       "sample estimates:\n",
       " mean in group SI1 mean in group VVS1 \n",
       "          3996.001           2523.115 \n"
      ]
     },
     "metadata": {},
     "output_type": "display_data"
    },
    {
     "name": "stdout",
     "output_type": "stream",
     "text": [
      "\n",
      "****SI1 > VS1****"
     ]
    },
    {
     "data": {
      "text/plain": [
       "\n",
       "\tWelch Two Sample t-test\n",
       "\n",
       "data:  df_SI1$price and df_VVS1$price\n",
       "t = 22.87, df = 6548.2, p-value < 2.2e-16\n",
       "alternative hypothesis: true difference in means is greater than 0\n",
       "95 percent confidence interval:\n",
       " 1366.939      Inf\n",
       "sample estimates:\n",
       "mean of x mean of y \n",
       " 3996.001  2523.115 \n"
      ]
     },
     "metadata": {},
     "output_type": "display_data"
    }
   ],
   "source": [
    "# Perform t.test using factors (note: can only have two levels)\n",
    "df_clarity <- diamonds_df %>% \n",
    "   filter(clarity %in% c(\"SI1\", \"VVS1\"))\n",
    "\n",
    "cat(\"\\n****SI1 != VS1****\")\n",
    "t.test(price ~ clarity, data = df_clarity)\n",
    "\n",
    "df_SI1 <- df_clarity %>% \n",
    "    filter(clarity == 'SI1')\n",
    "\n",
    "df_VVS1 <- df_clarity %>% \n",
    "    filter(clarity == 'VVS1')\n",
    "\n",
    "cat(\"\\n****SI1 > VS1****\")\n",
    "t.test(df_SI1$price, df_VVS1$price, conf.level = 0.95, 'greater')"
   ]
  },
  {
   "cell_type": "markdown",
   "metadata": {},
   "source": [
    "Result: We reject the null hypothesis and accept the alternative that the two population means are not the same."
   ]
  },
  {
   "cell_type": "markdown",
   "metadata": {
    "collapsed": true
   },
   "source": [
    "# Analysis and Conclusions\n",
    "\n",
    "Cut, clarity, and color were all significant in the price of diamonds. The less common the color, cut, and clarity  the greater the price.   J colored Diamonds carried a mean price greater than 'D' colored diamonds.  Likewise, the more scarce SI1 clarity had a greater mean price than the VS1 clarity diamonds. Premium cut diamonds had a higher mean price than the Ideal cut diamonds. \n"
   ]
  }
 ],
 "metadata": {
  "kernelspec": {
   "display_name": "R 3.5.1",
   "language": "R",
   "name": "ir"
  },
  "language_info": {
   "codemirror_mode": "r",
   "file_extension": ".r",
   "mimetype": "text/x-r-source",
   "name": "R",
   "pygments_lexer": "r",
   "version": "3.5.1"
  }
 },
 "nbformat": 4,
 "nbformat_minor": 1
}
