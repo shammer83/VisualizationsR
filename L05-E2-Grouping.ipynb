{
 "cells": [
  {
   "cell_type": "markdown",
   "metadata": {},
   "source": [
    "# L05-2-Grouping\n",
    "## Assignment Instructions\n",
    "Rename with your name in place of Studentname and make your edits and updates here.\n"
   ]
  },
  {
   "cell_type": "markdown",
   "metadata": {},
   "source": [
    "# Grouping Data\n",
    "Grouping and summarizing data is quite common. In this exercise, you explore the dplyr package from the tidyverse which makes grouping simple using group_by() and summarize(). You also use of the many convenience functions that combine various grouping, summarizing, and arranging steps together, reducing the amount of code and increasing readability. \n",
    "\n",
    "After you group and aggregate the mpg data by hand, you compare it to ggplot which also has some built-in statistics functions. If you are grouping to create summary statistics, you may be able to let ggplot do them for you.\n",
    "\n",
    "## R Features\n",
    "* library()\n",
    "* group_by()\n",
    "* summarize()\n",
    "* n()\n",
    "* arrange()\n",
    "* desc()\n",
    "* tally()\n",
    "* count()\n",
    "* max()\n",
    "* mean()\n",
    "* min()\n",
    "* gather()\n",
    "* str_replace()\n",
    "* geom_col()\n",
    "* mutate()\n",
    "* aes()\n",
    "* as.factor()\n",
    "* fct_relevel()\n",
    "* c()\n",
    "* facet_wrap()\n",
    "* geom_boxplot()\n",
    "\n",
    "\n",
    "## Datasets\n",
    "* mpg\n"
   ]
  },
  {
   "cell_type": "code",
   "execution_count": 1,
   "metadata": {
    "scrolled": false
   },
   "outputs": [
    {
     "name": "stderr",
     "output_type": "stream",
     "text": [
      "── \u001b[1mAttaching packages\u001b[22m ─────────────────────────────────────── tidyverse 1.2.1 ──\n",
      "\u001b[32m✔\u001b[39m \u001b[34mggplot2\u001b[39m 3.2.0     \u001b[32m✔\u001b[39m \u001b[34mreadr  \u001b[39m 1.1.1\n",
      "\u001b[32m✔\u001b[39m \u001b[34mtibble \u001b[39m 2.1.3     \u001b[32m✔\u001b[39m \u001b[34mpurrr  \u001b[39m 0.2.5\n",
      "\u001b[32m✔\u001b[39m \u001b[34mtidyr  \u001b[39m 0.8.1     \u001b[32m✔\u001b[39m \u001b[34mdplyr  \u001b[39m 0.8.3\n",
      "── \u001b[1mConflicts\u001b[22m ────────────────────────────────────────── tidyverse_conflicts() ──\n",
      "\u001b[31m✖\u001b[39m \u001b[34mdplyr\u001b[39m::\u001b[32mfilter()\u001b[39m masks \u001b[34mstats\u001b[39m::filter()\n",
      "\u001b[31m✖\u001b[39m \u001b[34mdplyr\u001b[39m::\u001b[32mlag()\u001b[39m    masks \u001b[34mstats\u001b[39m::lag()\n"
     ]
    }
   ],
   "source": [
    "# Load libraries\n",
    "library(forcats)    # forcats\n",
    "library(stringr)    # stringr\n",
    "library(tidyverse)  # tidyverse\n"
   ]
  },
  {
   "cell_type": "markdown",
   "metadata": {},
   "source": [
    "## dplyr package\n",
    "* add_rownames            Convert row names to an explicit variable.\n",
    "* all_equal               Flexible equality comparison for data frames.\n",
    "* arrange                 Arrange rows by variables.\n",
    "* as.table.tbl_cube       Coerce a 'tbl_cube' to other data structures\n",
    "* as.tbl_cube             Coerce an existing data structure into a 'tbl_cube'\n",
    "* auto_copy               Copy tables to same source, if necessary.\n",
    "* bench_compare           Evaluate, compare, benchmark operations of a set of srcs.\n",
    "* between                 Do values in a numeric vector fall in specified range?\n",
    "* bind                    Efficiently bind multiple data frames by row and column.\n",
    "* build_sql               Build a SQL string.\n",
    "* case_when               A general vectorized if.\n",
    "* coalesce                Find first non-missing element\n",
    "* compute                 Compute a lazy tbl.\n",
    "* copy_to                 Copy a local data frame to a remote src.\n",
    "* copy_to.src_sql         Copy a local data frame to a sqlite src.\n",
    "* cumall                  Cumulativate versions of any, all, and mean\n",
    "* desc                    Descending order.\n",
    "* distinct                Select distinct/unique rows.\n",
    "* do                      Do arbitrary operations on a tbl.\n",
    "* dplyr                   dplyr: a grammar of data manipulation\n",
    "* explain                 Explain details of a tbl.\n",
    "* failwith                Fail with specified value.\n",
    "* filter                  Return rows with matching conditions.\n",
    "* funs                    Create a list of functions calls.\n",
    "* group_by                Group a tbl by one or more variables.\n",
    "* group_indices           Group id.\n",
    "* group_size              Calculate group sizes.\n",
    "* groups                  Get/set the grouping variables for tbl.\n",
    "* if_else                 Vectorized if.\n",
    "* join                    Join two tbls together.\n",
    "* join.tbl_df             Join data frame tbls.\n",
    "* join.tbl_sql            Join sql tbls.\n",
    "* lead-lag                Lead and lag.\n",
    "* location                Print the location in memory of a data frame\n",
    "* mutate                  Add new variables.\n",
    "* n                       The number of observations in the current group.\n",
    "* n_distinct              Efficiently count the number of unique values in a set of vector\n",
    "* na_if                   Convert values to NA.\n",
    "* nasa                    NASA spatio-temporal data\n",
    "* near                    Compare two numeric vectors.\n",
    "* nth                     Extract the first, last or nth value from a vector.\n",
    "* order_by                A helper function for ordering window function output.\n",
    "* ranking                 Windowed rank functions.\n",
    "* recode                  Recode values\n",
    "* rowwise                 Group input by rows\n",
    "* sample                  Sample n rows from a table.\n",
    "* select                  Select/rename variables by name.\n",
    "* select_helpers          Select helpers\n",
    "* select_if               Select columns using a predicate\n",
    "* setops                  Set operations.\n",
    "* slice                   Select rows by position.\n",
    "* src-test                A set of DBI methods to ease unit testing dplyr with DBI\n",
    "* src_memdb               Per-session in-memory SQLite databases.\n",
    "* src_mysql               Connect to mysql/mariadb.\n",
    "* src_postgres            Connect to postgresql.\n",
    "* src_sqlite              Connect to a sqlite database.\n",
    "* src_tbls                List all tbls provided by a source.\n",
    "* summarise               Summarise multiple values to a single value.\n",
    "* summarise_all           Summarise and mutate multiple columns.\n",
    "* summarise_each          Summarise and mutate multiple columns.\n",
    "* tally                   Counts/tally observations by group.\n",
    "* tbl                     Create a table from a data source\n",
    "* tbl_cube                A data cube tbl.\n",
    "* tbl_df                  Create a data frame tbl.\n",
    "* tbl_vars                List variables provided by a tbl.\n",
    "* top_n                   Select top (or bottom) n rows (by value).\n",
    "* translate_sql           Translate an expression to sql.\n",
    "* vars                    Select columns"
   ]
  },
  {
   "cell_type": "code",
   "execution_count": null,
   "metadata": {
    "collapsed": true
   },
   "outputs": [],
   "source": [
    "# Use library(help = \"package\")\n",
    "# to see the functions\n",
    "library(help = \"dplyr\")\n"
   ]
  },
  {
   "cell_type": "code",
   "execution_count": 2,
   "metadata": {
    "scrolled": false
   },
   "outputs": [
    {
     "name": "stdout",
     "output_type": "stream",
     "text": [
      "Observations: 234\n",
      "Variables: 11\n",
      "$ manufacturer \u001b[3m\u001b[90m<chr>\u001b[39m\u001b[23m \"audi\", \"audi\", \"audi\", \"audi\", \"audi\", \"audi\", \"audi\", …\n",
      "$ model        \u001b[3m\u001b[90m<chr>\u001b[39m\u001b[23m \"a4\", \"a4\", \"a4\", \"a4\", \"a4\", \"a4\", \"a4\", \"a4 quattro\", …\n",
      "$ displ        \u001b[3m\u001b[90m<dbl>\u001b[39m\u001b[23m 1.8, 1.8, 2.0, 2.0, 2.8, 2.8, 3.1, 1.8, 1.8, 2.0, 2.0, 2…\n",
      "$ year         \u001b[3m\u001b[90m<int>\u001b[39m\u001b[23m 1999, 1999, 2008, 2008, 1999, 1999, 2008, 1999, 1999, 20…\n",
      "$ cyl          \u001b[3m\u001b[90m<int>\u001b[39m\u001b[23m 4, 4, 4, 4, 6, 6, 6, 4, 4, 4, 4, 6, 6, 6, 6, 6, 6, 8, 8,…\n",
      "$ trans        \u001b[3m\u001b[90m<chr>\u001b[39m\u001b[23m \"auto(l5)\", \"manual(m5)\", \"manual(m6)\", \"auto(av)\", \"aut…\n",
      "$ drv          \u001b[3m\u001b[90m<chr>\u001b[39m\u001b[23m \"f\", \"f\", \"f\", \"f\", \"f\", \"f\", \"f\", \"4\", \"4\", \"4\", \"4\", \"…\n",
      "$ cty          \u001b[3m\u001b[90m<int>\u001b[39m\u001b[23m 18, 21, 20, 21, 16, 18, 18, 18, 16, 20, 19, 15, 17, 17, …\n",
      "$ hwy          \u001b[3m\u001b[90m<int>\u001b[39m\u001b[23m 29, 29, 31, 30, 26, 26, 27, 26, 25, 28, 27, 25, 25, 25, …\n",
      "$ fl           \u001b[3m\u001b[90m<chr>\u001b[39m\u001b[23m \"p\", \"p\", \"p\", \"p\", \"p\", \"p\", \"p\", \"p\", \"p\", \"p\", \"p\", \"…\n",
      "$ class        \u001b[3m\u001b[90m<chr>\u001b[39m\u001b[23m \"compact\", \"compact\", \"compact\", \"compact\", \"compact\", \"…\n"
     ]
    },
    {
     "data": {
      "text/html": [
       "<table>\n",
       "<caption>A tibble: 6 × 11</caption>\n",
       "<thead>\n",
       "\t<tr><th scope=col>manufacturer</th><th scope=col>model</th><th scope=col>displ</th><th scope=col>year</th><th scope=col>cyl</th><th scope=col>trans</th><th scope=col>drv</th><th scope=col>cty</th><th scope=col>hwy</th><th scope=col>fl</th><th scope=col>class</th></tr>\n",
       "\t<tr><th scope=col>&lt;chr&gt;</th><th scope=col>&lt;chr&gt;</th><th scope=col>&lt;dbl&gt;</th><th scope=col>&lt;int&gt;</th><th scope=col>&lt;int&gt;</th><th scope=col>&lt;chr&gt;</th><th scope=col>&lt;chr&gt;</th><th scope=col>&lt;int&gt;</th><th scope=col>&lt;int&gt;</th><th scope=col>&lt;chr&gt;</th><th scope=col>&lt;chr&gt;</th></tr>\n",
       "</thead>\n",
       "<tbody>\n",
       "\t<tr><td>audi</td><td>a4</td><td>1.8</td><td>1999</td><td>4</td><td>auto(l5)  </td><td>f</td><td>18</td><td>29</td><td>p</td><td>compact</td></tr>\n",
       "\t<tr><td>audi</td><td>a4</td><td>1.8</td><td>1999</td><td>4</td><td>manual(m5)</td><td>f</td><td>21</td><td>29</td><td>p</td><td>compact</td></tr>\n",
       "\t<tr><td>audi</td><td>a4</td><td>2.0</td><td>2008</td><td>4</td><td>manual(m6)</td><td>f</td><td>20</td><td>31</td><td>p</td><td>compact</td></tr>\n",
       "\t<tr><td>audi</td><td>a4</td><td>2.0</td><td>2008</td><td>4</td><td>auto(av)  </td><td>f</td><td>21</td><td>30</td><td>p</td><td>compact</td></tr>\n",
       "\t<tr><td>audi</td><td>a4</td><td>2.8</td><td>1999</td><td>6</td><td>auto(l5)  </td><td>f</td><td>16</td><td>26</td><td>p</td><td>compact</td></tr>\n",
       "\t<tr><td>audi</td><td>a4</td><td>2.8</td><td>1999</td><td>6</td><td>manual(m5)</td><td>f</td><td>18</td><td>26</td><td>p</td><td>compact</td></tr>\n",
       "</tbody>\n",
       "</table>\n"
      ],
      "text/latex": [
       "A tibble: 6 × 11\n",
       "\\begin{tabular}{r|lllllllllll}\n",
       " manufacturer & model & displ & year & cyl & trans & drv & cty & hwy & fl & class\\\\\n",
       " <chr> & <chr> & <dbl> & <int> & <int> & <chr> & <chr> & <int> & <int> & <chr> & <chr>\\\\\n",
       "\\hline\n",
       "\t audi & a4 & 1.8 & 1999 & 4 & auto(l5)   & f & 18 & 29 & p & compact\\\\\n",
       "\t audi & a4 & 1.8 & 1999 & 4 & manual(m5) & f & 21 & 29 & p & compact\\\\\n",
       "\t audi & a4 & 2.0 & 2008 & 4 & manual(m6) & f & 20 & 31 & p & compact\\\\\n",
       "\t audi & a4 & 2.0 & 2008 & 4 & auto(av)   & f & 21 & 30 & p & compact\\\\\n",
       "\t audi & a4 & 2.8 & 1999 & 6 & auto(l5)   & f & 16 & 26 & p & compact\\\\\n",
       "\t audi & a4 & 2.8 & 1999 & 6 & manual(m5) & f & 18 & 26 & p & compact\\\\\n",
       "\\end{tabular}\n"
      ],
      "text/markdown": [
       "\n",
       "A tibble: 6 × 11\n",
       "\n",
       "| manufacturer &lt;chr&gt; | model &lt;chr&gt; | displ &lt;dbl&gt; | year &lt;int&gt; | cyl &lt;int&gt; | trans &lt;chr&gt; | drv &lt;chr&gt; | cty &lt;int&gt; | hwy &lt;int&gt; | fl &lt;chr&gt; | class &lt;chr&gt; |\n",
       "|---|---|---|---|---|---|---|---|---|---|---|\n",
       "| audi | a4 | 1.8 | 1999 | 4 | auto(l5)   | f | 18 | 29 | p | compact |\n",
       "| audi | a4 | 1.8 | 1999 | 4 | manual(m5) | f | 21 | 29 | p | compact |\n",
       "| audi | a4 | 2.0 | 2008 | 4 | manual(m6) | f | 20 | 31 | p | compact |\n",
       "| audi | a4 | 2.0 | 2008 | 4 | auto(av)   | f | 21 | 30 | p | compact |\n",
       "| audi | a4 | 2.8 | 1999 | 6 | auto(l5)   | f | 16 | 26 | p | compact |\n",
       "| audi | a4 | 2.8 | 1999 | 6 | manual(m5) | f | 18 | 26 | p | compact |\n",
       "\n"
      ],
      "text/plain": [
       "  manufacturer model displ year cyl trans      drv cty hwy fl class  \n",
       "1 audi         a4    1.8   1999 4   auto(l5)   f   18  29  p  compact\n",
       "2 audi         a4    1.8   1999 4   manual(m5) f   21  29  p  compact\n",
       "3 audi         a4    2.0   2008 4   manual(m6) f   20  31  p  compact\n",
       "4 audi         a4    2.0   2008 4   auto(av)   f   21  30  p  compact\n",
       "5 audi         a4    2.8   1999 6   auto(l5)   f   16  26  p  compact\n",
       "6 audi         a4    2.8   1999 6   manual(m5) f   18  26  p  compact"
      ]
     },
     "metadata": {},
     "output_type": "display_data"
    }
   ],
   "source": [
    "# glimpse mpg\n",
    "mpg %>% glimpse()\n",
    "\n",
    "# display result, top 6 rows\n",
    "# Hint: head()\n",
    "mpg %>% head()\n"
   ]
  },
  {
   "cell_type": "markdown",
   "metadata": {},
   "source": [
    "## distinct()\n",
    "Select distinct/unique rows. Retain only unique/distinct rows from an input tbl. This is similar to unique.data.frame, but considerably faster. \n",
    "### Usage\n",
    "distinct(.data, ..., .keep_all = FALSE)"
   ]
  },
  {
   "cell_type": "code",
   "execution_count": null,
   "metadata": {
    "collapsed": true
   },
   "outputs": [],
   "source": [
    "# View help on distinct()\n",
    "#?distinct()\n"
   ]
  },
  {
   "cell_type": "code",
   "execution_count": 3,
   "metadata": {},
   "outputs": [
    {
     "data": {
      "text/html": [
       "<table>\n",
       "<caption>A tibble: 7 × 1</caption>\n",
       "<thead>\n",
       "\t<tr><th scope=col>mpg$class</th></tr>\n",
       "\t<tr><th scope=col>&lt;chr&gt;</th></tr>\n",
       "</thead>\n",
       "<tbody>\n",
       "\t<tr><td>compact   </td></tr>\n",
       "\t<tr><td>midsize   </td></tr>\n",
       "\t<tr><td>suv       </td></tr>\n",
       "\t<tr><td>2seater   </td></tr>\n",
       "\t<tr><td>minivan   </td></tr>\n",
       "\t<tr><td>pickup    </td></tr>\n",
       "\t<tr><td>subcompact</td></tr>\n",
       "</tbody>\n",
       "</table>\n"
      ],
      "text/latex": [
       "A tibble: 7 × 1\n",
       "\\begin{tabular}{r|l}\n",
       " mpg\\$class\\\\\n",
       " <chr>\\\\\n",
       "\\hline\n",
       "\t compact   \\\\\n",
       "\t midsize   \\\\\n",
       "\t suv       \\\\\n",
       "\t 2seater   \\\\\n",
       "\t minivan   \\\\\n",
       "\t pickup    \\\\\n",
       "\t subcompact\\\\\n",
       "\\end{tabular}\n"
      ],
      "text/markdown": [
       "\n",
       "A tibble: 7 × 1\n",
       "\n",
       "| mpg$class &lt;chr&gt; |\n",
       "|---|\n",
       "| compact    |\n",
       "| midsize    |\n",
       "| suv        |\n",
       "| 2seater    |\n",
       "| minivan    |\n",
       "| pickup     |\n",
       "| subcompact |\n",
       "\n"
      ],
      "text/plain": [
       "  mpg$class \n",
       "1 compact   \n",
       "2 midsize   \n",
       "3 suv       \n",
       "4 2seater   \n",
       "5 minivan   \n",
       "6 pickup    \n",
       "7 subcompact"
      ]
     },
     "metadata": {},
     "output_type": "display_data"
    }
   ],
   "source": [
    "# Display the distinct rows of mpg$class\n",
    "mpg %>% distinct(mpg$class)\n"
   ]
  },
  {
   "cell_type": "markdown",
   "metadata": {},
   "source": [
    "## group_by()\n",
    "Group a tbl by one or more variables. Most data operations are useful done on groups defined by variables in the dataset. The group_by function takes an existing tbl and converts it into a grouped tbl where operations are performed \"by group\". \n",
    "### Usage\n",
    "group_by(.data, ..., add = FALSE)"
   ]
  },
  {
   "cell_type": "code",
   "execution_count": null,
   "metadata": {
    "collapsed": true
   },
   "outputs": [],
   "source": [
    "# View help on group_by()\n",
    "#?group_by()\n"
   ]
  },
  {
   "cell_type": "markdown",
   "metadata": {},
   "source": [
    "## summarize()\n",
    "Summarize multiple values to a single value.\n",
    "### Usage\n",
    "summarise(.data, ...)"
   ]
  },
  {
   "cell_type": "code",
   "execution_count": 4,
   "metadata": {
    "collapsed": true
   },
   "outputs": [],
   "source": [
    "# View help on summarize()\n",
    "#?summarize()\n"
   ]
  },
  {
   "cell_type": "markdown",
   "metadata": {},
   "source": [
    "## n()\n",
    "The number of observations in the current group. This function is implemented special for each data source and can only be used from within summarize, mutate and filter.\n",
    "### Usage\n",
    "n()"
   ]
  },
  {
   "cell_type": "code",
   "execution_count": 6,
   "metadata": {},
   "outputs": [
    {
     "name": "stderr",
     "output_type": "stream",
     "text": [
      "Loading required package: nycflights13\n"
     ]
    },
    {
     "data": {
      "text/html": [
       "<table>\n",
       "<caption>A grouped_df: 32 × 19</caption>\n",
       "<thead>\n",
       "\t<tr><th scope=col>year</th><th scope=col>month</th><th scope=col>day</th><th scope=col>dep_time</th><th scope=col>sched_dep_time</th><th scope=col>dep_delay</th><th scope=col>arr_time</th><th scope=col>sched_arr_time</th><th scope=col>arr_delay</th><th scope=col>carrier</th><th scope=col>flight</th><th scope=col>tailnum</th><th scope=col>origin</th><th scope=col>dest</th><th scope=col>air_time</th><th scope=col>distance</th><th scope=col>hour</th><th scope=col>minute</th><th scope=col>time_hour</th></tr>\n",
       "\t<tr><th scope=col>&lt;int&gt;</th><th scope=col>&lt;int&gt;</th><th scope=col>&lt;int&gt;</th><th scope=col>&lt;int&gt;</th><th scope=col>&lt;int&gt;</th><th scope=col>&lt;dbl&gt;</th><th scope=col>&lt;int&gt;</th><th scope=col>&lt;int&gt;</th><th scope=col>&lt;dbl&gt;</th><th scope=col>&lt;chr&gt;</th><th scope=col>&lt;int&gt;</th><th scope=col>&lt;chr&gt;</th><th scope=col>&lt;chr&gt;</th><th scope=col>&lt;chr&gt;</th><th scope=col>&lt;dbl&gt;</th><th scope=col>&lt;dbl&gt;</th><th scope=col>&lt;dbl&gt;</th><th scope=col>&lt;dbl&gt;</th><th scope=col>&lt;dttm&gt;</th></tr>\n",
       "</thead>\n",
       "<tbody>\n",
       "\t<tr><td>2013</td><td> 1</td><td>30</td><td>1222</td><td>1115</td><td> 67</td><td>1402</td><td>1215</td><td>107</td><td>OO</td><td>8500</td><td>N978SW</td><td>LGA</td><td>ORD</td><td>132</td><td> 733</td><td>11</td><td>15</td><td>2013-01-30 11:00:00</td></tr>\n",
       "\t<tr><td>2013</td><td>11</td><td> 3</td><td>1424</td><td>1430</td><td> -6</td><td>1629</td><td>1634</td><td> -5</td><td>OO</td><td>4483</td><td>N813SK</td><td>EWR</td><td>MSP</td><td>166</td><td>1008</td><td>14</td><td>30</td><td>2013-11-03 14:00:00</td></tr>\n",
       "\t<tr><td>2013</td><td>11</td><td>10</td><td>1443</td><td>1430</td><td> 13</td><td>1701</td><td>1634</td><td> 27</td><td>OO</td><td>4483</td><td>N813SK</td><td>EWR</td><td>MSP</td><td>177</td><td>1008</td><td>14</td><td>30</td><td>2013-11-10 14:00:00</td></tr>\n",
       "\t<tr><td>2013</td><td>11</td><td>17</td><td>1422</td><td>1430</td><td> -8</td><td>1610</td><td>1634</td><td>-24</td><td>OO</td><td>4483</td><td>N693CA</td><td>EWR</td><td>MSP</td><td>152</td><td>1008</td><td>14</td><td>30</td><td>2013-11-17 14:00:00</td></tr>\n",
       "\t<tr><td>2013</td><td>11</td><td>25</td><td>1803</td><td>1759</td><td>  4</td><td>2011</td><td>2017</td><td> -6</td><td>OO</td><td>4659</td><td>N803SK</td><td>EWR</td><td>MSP</td><td>157</td><td>1008</td><td>17</td><td>59</td><td>2013-11-25 17:00:00</td></tr>\n",
       "\t<tr><td>2013</td><td>11</td><td>30</td><td>1648</td><td>1647</td><td>  1</td><td>1814</td><td>1811</td><td>  3</td><td>OO</td><td>4967</td><td>N746SK</td><td>LGA</td><td>IAD</td><td> 50</td><td> 229</td><td>16</td><td>47</td><td>2013-11-30 16:00:00</td></tr>\n",
       "\t<tr><td>2013</td><td> 6</td><td>15</td><td>1626</td><td>1635</td><td> -9</td><td>1810</td><td>1830</td><td>-20</td><td>OO</td><td>4528</td><td>N913EV</td><td>EWR</td><td>DTW</td><td> 81</td><td> 488</td><td>16</td><td>35</td><td>2013-06-15 16:00:00</td></tr>\n",
       "\t<tr><td>2013</td><td> 6</td><td>22</td><td>1846</td><td>1635</td><td>131</td><td>2107</td><td>1830</td><td>157</td><td>OO</td><td>4528</td><td>N427SW</td><td>EWR</td><td>DTW</td><td> 88</td><td> 488</td><td>16</td><td>35</td><td>2013-06-22 16:00:00</td></tr>\n",
       "\t<tr><td>2013</td><td> 8</td><td>27</td><td>1755</td><td>1805</td><td>-10</td><td>1956</td><td>1953</td><td>  3</td><td>OO</td><td>5568</td><td>N789SK</td><td>LGA</td><td>CLE</td><td> 64</td><td> 419</td><td>18</td><td> 5</td><td>2013-08-27 18:00:00</td></tr>\n",
       "\t<tr><td>2013</td><td> 8</td><td>28</td><td>2039</td><td>1805</td><td>154</td><td>2213</td><td>1953</td><td>140</td><td>OO</td><td>5568</td><td>N790SK</td><td>LGA</td><td>CLE</td><td> 71</td><td> 419</td><td>18</td><td> 5</td><td>2013-08-28 18:00:00</td></tr>\n",
       "\t<tr><td>2013</td><td> 8</td><td>29</td><td>1832</td><td>1805</td><td> 27</td><td>2039</td><td>1953</td><td> 46</td><td>OO</td><td>5568</td><td>N797SK</td><td>LGA</td><td>CLE</td><td> 70</td><td> 419</td><td>18</td><td> 5</td><td>2013-08-29 18:00:00</td></tr>\n",
       "\t<tr><td>2013</td><td> 8</td><td>30</td><td>1930</td><td>1805</td><td> 85</td><td>2102</td><td>1953</td><td> 69</td><td>OO</td><td>5568</td><td>N762SK</td><td>LGA</td><td>CLE</td><td> 68</td><td> 419</td><td>18</td><td> 5</td><td>2013-08-30 18:00:00</td></tr>\n",
       "\t<tr><td>2013</td><td> 9</td><td> 2</td><td>  NA</td><td>1805</td><td> NA</td><td>  NA</td><td>1953</td><td> NA</td><td>OO</td><td>5568</td><td>N768SK</td><td>LGA</td><td>CLE</td><td> NA</td><td> 419</td><td>18</td><td> 5</td><td>2013-09-02 18:00:00</td></tr>\n",
       "\t<tr><td>2013</td><td> 9</td><td> 3</td><td>1759</td><td>1805</td><td> -6</td><td>1959</td><td>1953</td><td>  6</td><td>OO</td><td>5568</td><td>N795SK</td><td>LGA</td><td>CLE</td><td> 66</td><td> 419</td><td>18</td><td> 5</td><td>2013-09-03 18:00:00</td></tr>\n",
       "\t<tr><td>2013</td><td> 9</td><td> 4</td><td>1803</td><td>1805</td><td> -2</td><td>1941</td><td>1953</td><td>-12</td><td>OO</td><td>5568</td><td>N780SK</td><td>LGA</td><td>CLE</td><td> 67</td><td> 419</td><td>18</td><td> 5</td><td>2013-09-04 18:00:00</td></tr>\n",
       "\t<tr><td>2013</td><td> 9</td><td> 5</td><td>1758</td><td>1805</td><td> -7</td><td>1938</td><td>1953</td><td>-15</td><td>OO</td><td>5568</td><td>N789SK</td><td>LGA</td><td>CLE</td><td> 69</td><td> 419</td><td>18</td><td> 5</td><td>2013-09-05 18:00:00</td></tr>\n",
       "\t<tr><td>2013</td><td> 9</td><td> 6</td><td>1803</td><td>1805</td><td> -2</td><td>1945</td><td>1953</td><td> -8</td><td>OO</td><td>5568</td><td>N740SK</td><td>LGA</td><td>CLE</td><td> 70</td><td> 419</td><td>18</td><td> 5</td><td>2013-09-06 18:00:00</td></tr>\n",
       "\t<tr><td>2013</td><td> 9</td><td> 8</td><td>1754</td><td>1805</td><td>-11</td><td>1946</td><td>1953</td><td> -7</td><td>OO</td><td>5568</td><td>N726SK</td><td>LGA</td><td>CLE</td><td> 67</td><td> 419</td><td>18</td><td> 5</td><td>2013-09-08 18:00:00</td></tr>\n",
       "\t<tr><td>2013</td><td> 9</td><td> 9</td><td>1757</td><td>1805</td><td> -8</td><td>1951</td><td>1953</td><td> -2</td><td>OO</td><td>5568</td><td>N780SK</td><td>LGA</td><td>CLE</td><td> 72</td><td> 419</td><td>18</td><td> 5</td><td>2013-09-09 18:00:00</td></tr>\n",
       "\t<tr><td>2013</td><td> 9</td><td>10</td><td>1759</td><td>1805</td><td> -6</td><td>1945</td><td>1953</td><td> -8</td><td>OO</td><td>5568</td><td>N705SK</td><td>LGA</td><td>CLE</td><td> 68</td><td> 419</td><td>18</td><td> 5</td><td>2013-09-10 18:00:00</td></tr>\n",
       "\t<tr><td>2013</td><td> 9</td><td>11</td><td>  NA</td><td>1805</td><td> NA</td><td>  NA</td><td>1953</td><td> NA</td><td>OO</td><td>5568</td><td>N728SK</td><td>LGA</td><td>CLE</td><td> NA</td><td> 419</td><td>18</td><td> 5</td><td>2013-09-11 18:00:00</td></tr>\n",
       "\t<tr><td>2013</td><td> 9</td><td>12</td><td>  NA</td><td>1805</td><td> NA</td><td>  NA</td><td>1953</td><td> NA</td><td>OO</td><td>5568</td><td>N789SK</td><td>LGA</td><td>CLE</td><td> NA</td><td> 419</td><td>18</td><td> 5</td><td>2013-09-12 18:00:00</td></tr>\n",
       "\t<tr><td>2013</td><td> 9</td><td>13</td><td>1845</td><td>1805</td><td> 40</td><td>2041</td><td>1953</td><td> 48</td><td>OO</td><td>5568</td><td>N702SK</td><td>LGA</td><td>CLE</td><td> 68</td><td> 419</td><td>18</td><td> 5</td><td>2013-09-13 18:00:00</td></tr>\n",
       "\t<tr><td>2013</td><td> 9</td><td>15</td><td>1756</td><td>1805</td><td> -9</td><td>1929</td><td>1953</td><td>-24</td><td>OO</td><td>5568</td><td>N778SK</td><td>LGA</td><td>CLE</td><td> 70</td><td> 419</td><td>18</td><td> 5</td><td>2013-09-15 18:00:00</td></tr>\n",
       "\t<tr><td>2013</td><td> 9</td><td>16</td><td>1752</td><td>1805</td><td>-13</td><td>1939</td><td>1953</td><td>-14</td><td>OO</td><td>5568</td><td>N710SK</td><td>LGA</td><td>CLE</td><td> 70</td><td> 419</td><td>18</td><td> 5</td><td>2013-09-16 18:00:00</td></tr>\n",
       "\t<tr><td>2013</td><td> 9</td><td>17</td><td>1755</td><td>1805</td><td>-10</td><td>1937</td><td>1953</td><td>-16</td><td>OO</td><td>5568</td><td>N794SK</td><td>LGA</td><td>CLE</td><td> 68</td><td> 419</td><td>18</td><td> 5</td><td>2013-09-17 18:00:00</td></tr>\n",
       "\t<tr><td>2013</td><td> 9</td><td>18</td><td>1754</td><td>1805</td><td>-11</td><td>1927</td><td>1953</td><td>-26</td><td>OO</td><td>5568</td><td>N701SK</td><td>LGA</td><td>CLE</td><td> 64</td><td> 419</td><td>18</td><td> 5</td><td>2013-09-18 18:00:00</td></tr>\n",
       "\t<tr><td>2013</td><td> 9</td><td>19</td><td>1759</td><td>1805</td><td> -6</td><td>1946</td><td>1953</td><td> -7</td><td>OO</td><td>5568</td><td>N760SK</td><td>LGA</td><td>CLE</td><td> 64</td><td> 419</td><td>18</td><td> 5</td><td>2013-09-19 18:00:00</td></tr>\n",
       "\t<tr><td>2013</td><td> 9</td><td>20</td><td>1758</td><td>1805</td><td> -7</td><td>1929</td><td>1953</td><td>-24</td><td>OO</td><td>5568</td><td>N766SK</td><td>LGA</td><td>CLE</td><td> 60</td><td> 419</td><td>18</td><td> 5</td><td>2013-09-20 18:00:00</td></tr>\n",
       "\t<tr><td>2013</td><td> 9</td><td>22</td><td>1759</td><td>1805</td><td> -6</td><td>1945</td><td>1953</td><td> -8</td><td>OO</td><td>5568</td><td>N772SK</td><td>LGA</td><td>CLE</td><td> 67</td><td> 419</td><td>18</td><td> 5</td><td>2013-09-22 18:00:00</td></tr>\n",
       "\t<tr><td>2013</td><td> 9</td><td>23</td><td>1759</td><td>1805</td><td> -6</td><td>1935</td><td>1953</td><td>-18</td><td>OO</td><td>5568</td><td>N776SK</td><td>LGA</td><td>CLE</td><td> 68</td><td> 419</td><td>18</td><td> 5</td><td>2013-09-23 18:00:00</td></tr>\n",
       "\t<tr><td>2013</td><td> 9</td><td>24</td><td>1751</td><td>1805</td><td>-14</td><td>1937</td><td>1953</td><td>-16</td><td>OO</td><td>5568</td><td>N785SK</td><td>LGA</td><td>CLE</td><td> 67</td><td> 419</td><td>18</td><td> 5</td><td>2013-09-24 18:00:00</td></tr>\n",
       "</tbody>\n",
       "</table>\n"
      ],
      "text/latex": [
       "A grouped_df: 32 × 19\n",
       "\\begin{tabular}{r|lllllllllllllllllll}\n",
       " year & month & day & dep\\_time & sched\\_dep\\_time & dep\\_delay & arr\\_time & sched\\_arr\\_time & arr\\_delay & carrier & flight & tailnum & origin & dest & air\\_time & distance & hour & minute & time\\_hour\\\\\n",
       " <int> & <int> & <int> & <int> & <int> & <dbl> & <int> & <int> & <dbl> & <chr> & <int> & <chr> & <chr> & <chr> & <dbl> & <dbl> & <dbl> & <dbl> & <dttm>\\\\\n",
       "\\hline\n",
       "\t 2013 &  1 & 30 & 1222 & 1115 &  67 & 1402 & 1215 & 107 & OO & 8500 & N978SW & LGA & ORD & 132 &  733 & 11 & 15 & 2013-01-30 11:00:00\\\\\n",
       "\t 2013 & 11 &  3 & 1424 & 1430 &  -6 & 1629 & 1634 &  -5 & OO & 4483 & N813SK & EWR & MSP & 166 & 1008 & 14 & 30 & 2013-11-03 14:00:00\\\\\n",
       "\t 2013 & 11 & 10 & 1443 & 1430 &  13 & 1701 & 1634 &  27 & OO & 4483 & N813SK & EWR & MSP & 177 & 1008 & 14 & 30 & 2013-11-10 14:00:00\\\\\n",
       "\t 2013 & 11 & 17 & 1422 & 1430 &  -8 & 1610 & 1634 & -24 & OO & 4483 & N693CA & EWR & MSP & 152 & 1008 & 14 & 30 & 2013-11-17 14:00:00\\\\\n",
       "\t 2013 & 11 & 25 & 1803 & 1759 &   4 & 2011 & 2017 &  -6 & OO & 4659 & N803SK & EWR & MSP & 157 & 1008 & 17 & 59 & 2013-11-25 17:00:00\\\\\n",
       "\t 2013 & 11 & 30 & 1648 & 1647 &   1 & 1814 & 1811 &   3 & OO & 4967 & N746SK & LGA & IAD &  50 &  229 & 16 & 47 & 2013-11-30 16:00:00\\\\\n",
       "\t 2013 &  6 & 15 & 1626 & 1635 &  -9 & 1810 & 1830 & -20 & OO & 4528 & N913EV & EWR & DTW &  81 &  488 & 16 & 35 & 2013-06-15 16:00:00\\\\\n",
       "\t 2013 &  6 & 22 & 1846 & 1635 & 131 & 2107 & 1830 & 157 & OO & 4528 & N427SW & EWR & DTW &  88 &  488 & 16 & 35 & 2013-06-22 16:00:00\\\\\n",
       "\t 2013 &  8 & 27 & 1755 & 1805 & -10 & 1956 & 1953 &   3 & OO & 5568 & N789SK & LGA & CLE &  64 &  419 & 18 &  5 & 2013-08-27 18:00:00\\\\\n",
       "\t 2013 &  8 & 28 & 2039 & 1805 & 154 & 2213 & 1953 & 140 & OO & 5568 & N790SK & LGA & CLE &  71 &  419 & 18 &  5 & 2013-08-28 18:00:00\\\\\n",
       "\t 2013 &  8 & 29 & 1832 & 1805 &  27 & 2039 & 1953 &  46 & OO & 5568 & N797SK & LGA & CLE &  70 &  419 & 18 &  5 & 2013-08-29 18:00:00\\\\\n",
       "\t 2013 &  8 & 30 & 1930 & 1805 &  85 & 2102 & 1953 &  69 & OO & 5568 & N762SK & LGA & CLE &  68 &  419 & 18 &  5 & 2013-08-30 18:00:00\\\\\n",
       "\t 2013 &  9 &  2 &   NA & 1805 &  NA &   NA & 1953 &  NA & OO & 5568 & N768SK & LGA & CLE &  NA &  419 & 18 &  5 & 2013-09-02 18:00:00\\\\\n",
       "\t 2013 &  9 &  3 & 1759 & 1805 &  -6 & 1959 & 1953 &   6 & OO & 5568 & N795SK & LGA & CLE &  66 &  419 & 18 &  5 & 2013-09-03 18:00:00\\\\\n",
       "\t 2013 &  9 &  4 & 1803 & 1805 &  -2 & 1941 & 1953 & -12 & OO & 5568 & N780SK & LGA & CLE &  67 &  419 & 18 &  5 & 2013-09-04 18:00:00\\\\\n",
       "\t 2013 &  9 &  5 & 1758 & 1805 &  -7 & 1938 & 1953 & -15 & OO & 5568 & N789SK & LGA & CLE &  69 &  419 & 18 &  5 & 2013-09-05 18:00:00\\\\\n",
       "\t 2013 &  9 &  6 & 1803 & 1805 &  -2 & 1945 & 1953 &  -8 & OO & 5568 & N740SK & LGA & CLE &  70 &  419 & 18 &  5 & 2013-09-06 18:00:00\\\\\n",
       "\t 2013 &  9 &  8 & 1754 & 1805 & -11 & 1946 & 1953 &  -7 & OO & 5568 & N726SK & LGA & CLE &  67 &  419 & 18 &  5 & 2013-09-08 18:00:00\\\\\n",
       "\t 2013 &  9 &  9 & 1757 & 1805 &  -8 & 1951 & 1953 &  -2 & OO & 5568 & N780SK & LGA & CLE &  72 &  419 & 18 &  5 & 2013-09-09 18:00:00\\\\\n",
       "\t 2013 &  9 & 10 & 1759 & 1805 &  -6 & 1945 & 1953 &  -8 & OO & 5568 & N705SK & LGA & CLE &  68 &  419 & 18 &  5 & 2013-09-10 18:00:00\\\\\n",
       "\t 2013 &  9 & 11 &   NA & 1805 &  NA &   NA & 1953 &  NA & OO & 5568 & N728SK & LGA & CLE &  NA &  419 & 18 &  5 & 2013-09-11 18:00:00\\\\\n",
       "\t 2013 &  9 & 12 &   NA & 1805 &  NA &   NA & 1953 &  NA & OO & 5568 & N789SK & LGA & CLE &  NA &  419 & 18 &  5 & 2013-09-12 18:00:00\\\\\n",
       "\t 2013 &  9 & 13 & 1845 & 1805 &  40 & 2041 & 1953 &  48 & OO & 5568 & N702SK & LGA & CLE &  68 &  419 & 18 &  5 & 2013-09-13 18:00:00\\\\\n",
       "\t 2013 &  9 & 15 & 1756 & 1805 &  -9 & 1929 & 1953 & -24 & OO & 5568 & N778SK & LGA & CLE &  70 &  419 & 18 &  5 & 2013-09-15 18:00:00\\\\\n",
       "\t 2013 &  9 & 16 & 1752 & 1805 & -13 & 1939 & 1953 & -14 & OO & 5568 & N710SK & LGA & CLE &  70 &  419 & 18 &  5 & 2013-09-16 18:00:00\\\\\n",
       "\t 2013 &  9 & 17 & 1755 & 1805 & -10 & 1937 & 1953 & -16 & OO & 5568 & N794SK & LGA & CLE &  68 &  419 & 18 &  5 & 2013-09-17 18:00:00\\\\\n",
       "\t 2013 &  9 & 18 & 1754 & 1805 & -11 & 1927 & 1953 & -26 & OO & 5568 & N701SK & LGA & CLE &  64 &  419 & 18 &  5 & 2013-09-18 18:00:00\\\\\n",
       "\t 2013 &  9 & 19 & 1759 & 1805 &  -6 & 1946 & 1953 &  -7 & OO & 5568 & N760SK & LGA & CLE &  64 &  419 & 18 &  5 & 2013-09-19 18:00:00\\\\\n",
       "\t 2013 &  9 & 20 & 1758 & 1805 &  -7 & 1929 & 1953 & -24 & OO & 5568 & N766SK & LGA & CLE &  60 &  419 & 18 &  5 & 2013-09-20 18:00:00\\\\\n",
       "\t 2013 &  9 & 22 & 1759 & 1805 &  -6 & 1945 & 1953 &  -8 & OO & 5568 & N772SK & LGA & CLE &  67 &  419 & 18 &  5 & 2013-09-22 18:00:00\\\\\n",
       "\t 2013 &  9 & 23 & 1759 & 1805 &  -6 & 1935 & 1953 & -18 & OO & 5568 & N776SK & LGA & CLE &  68 &  419 & 18 &  5 & 2013-09-23 18:00:00\\\\\n",
       "\t 2013 &  9 & 24 & 1751 & 1805 & -14 & 1937 & 1953 & -16 & OO & 5568 & N785SK & LGA & CLE &  67 &  419 & 18 &  5 & 2013-09-24 18:00:00\\\\\n",
       "\\end{tabular}\n"
      ],
      "text/markdown": [
       "\n",
       "A grouped_df: 32 × 19\n",
       "\n",
       "| year &lt;int&gt; | month &lt;int&gt; | day &lt;int&gt; | dep_time &lt;int&gt; | sched_dep_time &lt;int&gt; | dep_delay &lt;dbl&gt; | arr_time &lt;int&gt; | sched_arr_time &lt;int&gt; | arr_delay &lt;dbl&gt; | carrier &lt;chr&gt; | flight &lt;int&gt; | tailnum &lt;chr&gt; | origin &lt;chr&gt; | dest &lt;chr&gt; | air_time &lt;dbl&gt; | distance &lt;dbl&gt; | hour &lt;dbl&gt; | minute &lt;dbl&gt; | time_hour &lt;dttm&gt; |\n",
       "|---|---|---|---|---|---|---|---|---|---|---|---|---|---|---|---|---|---|---|\n",
       "| 2013 |  1 | 30 | 1222 | 1115 |  67 | 1402 | 1215 | 107 | OO | 8500 | N978SW | LGA | ORD | 132 |  733 | 11 | 15 | 2013-01-30 11:00:00 |\n",
       "| 2013 | 11 |  3 | 1424 | 1430 |  -6 | 1629 | 1634 |  -5 | OO | 4483 | N813SK | EWR | MSP | 166 | 1008 | 14 | 30 | 2013-11-03 14:00:00 |\n",
       "| 2013 | 11 | 10 | 1443 | 1430 |  13 | 1701 | 1634 |  27 | OO | 4483 | N813SK | EWR | MSP | 177 | 1008 | 14 | 30 | 2013-11-10 14:00:00 |\n",
       "| 2013 | 11 | 17 | 1422 | 1430 |  -8 | 1610 | 1634 | -24 | OO | 4483 | N693CA | EWR | MSP | 152 | 1008 | 14 | 30 | 2013-11-17 14:00:00 |\n",
       "| 2013 | 11 | 25 | 1803 | 1759 |   4 | 2011 | 2017 |  -6 | OO | 4659 | N803SK | EWR | MSP | 157 | 1008 | 17 | 59 | 2013-11-25 17:00:00 |\n",
       "| 2013 | 11 | 30 | 1648 | 1647 |   1 | 1814 | 1811 |   3 | OO | 4967 | N746SK | LGA | IAD |  50 |  229 | 16 | 47 | 2013-11-30 16:00:00 |\n",
       "| 2013 |  6 | 15 | 1626 | 1635 |  -9 | 1810 | 1830 | -20 | OO | 4528 | N913EV | EWR | DTW |  81 |  488 | 16 | 35 | 2013-06-15 16:00:00 |\n",
       "| 2013 |  6 | 22 | 1846 | 1635 | 131 | 2107 | 1830 | 157 | OO | 4528 | N427SW | EWR | DTW |  88 |  488 | 16 | 35 | 2013-06-22 16:00:00 |\n",
       "| 2013 |  8 | 27 | 1755 | 1805 | -10 | 1956 | 1953 |   3 | OO | 5568 | N789SK | LGA | CLE |  64 |  419 | 18 |  5 | 2013-08-27 18:00:00 |\n",
       "| 2013 |  8 | 28 | 2039 | 1805 | 154 | 2213 | 1953 | 140 | OO | 5568 | N790SK | LGA | CLE |  71 |  419 | 18 |  5 | 2013-08-28 18:00:00 |\n",
       "| 2013 |  8 | 29 | 1832 | 1805 |  27 | 2039 | 1953 |  46 | OO | 5568 | N797SK | LGA | CLE |  70 |  419 | 18 |  5 | 2013-08-29 18:00:00 |\n",
       "| 2013 |  8 | 30 | 1930 | 1805 |  85 | 2102 | 1953 |  69 | OO | 5568 | N762SK | LGA | CLE |  68 |  419 | 18 |  5 | 2013-08-30 18:00:00 |\n",
       "| 2013 |  9 |  2 |   NA | 1805 |  NA |   NA | 1953 |  NA | OO | 5568 | N768SK | LGA | CLE |  NA |  419 | 18 |  5 | 2013-09-02 18:00:00 |\n",
       "| 2013 |  9 |  3 | 1759 | 1805 |  -6 | 1959 | 1953 |   6 | OO | 5568 | N795SK | LGA | CLE |  66 |  419 | 18 |  5 | 2013-09-03 18:00:00 |\n",
       "| 2013 |  9 |  4 | 1803 | 1805 |  -2 | 1941 | 1953 | -12 | OO | 5568 | N780SK | LGA | CLE |  67 |  419 | 18 |  5 | 2013-09-04 18:00:00 |\n",
       "| 2013 |  9 |  5 | 1758 | 1805 |  -7 | 1938 | 1953 | -15 | OO | 5568 | N789SK | LGA | CLE |  69 |  419 | 18 |  5 | 2013-09-05 18:00:00 |\n",
       "| 2013 |  9 |  6 | 1803 | 1805 |  -2 | 1945 | 1953 |  -8 | OO | 5568 | N740SK | LGA | CLE |  70 |  419 | 18 |  5 | 2013-09-06 18:00:00 |\n",
       "| 2013 |  9 |  8 | 1754 | 1805 | -11 | 1946 | 1953 |  -7 | OO | 5568 | N726SK | LGA | CLE |  67 |  419 | 18 |  5 | 2013-09-08 18:00:00 |\n",
       "| 2013 |  9 |  9 | 1757 | 1805 |  -8 | 1951 | 1953 |  -2 | OO | 5568 | N780SK | LGA | CLE |  72 |  419 | 18 |  5 | 2013-09-09 18:00:00 |\n",
       "| 2013 |  9 | 10 | 1759 | 1805 |  -6 | 1945 | 1953 |  -8 | OO | 5568 | N705SK | LGA | CLE |  68 |  419 | 18 |  5 | 2013-09-10 18:00:00 |\n",
       "| 2013 |  9 | 11 |   NA | 1805 |  NA |   NA | 1953 |  NA | OO | 5568 | N728SK | LGA | CLE |  NA |  419 | 18 |  5 | 2013-09-11 18:00:00 |\n",
       "| 2013 |  9 | 12 |   NA | 1805 |  NA |   NA | 1953 |  NA | OO | 5568 | N789SK | LGA | CLE |  NA |  419 | 18 |  5 | 2013-09-12 18:00:00 |\n",
       "| 2013 |  9 | 13 | 1845 | 1805 |  40 | 2041 | 1953 |  48 | OO | 5568 | N702SK | LGA | CLE |  68 |  419 | 18 |  5 | 2013-09-13 18:00:00 |\n",
       "| 2013 |  9 | 15 | 1756 | 1805 |  -9 | 1929 | 1953 | -24 | OO | 5568 | N778SK | LGA | CLE |  70 |  419 | 18 |  5 | 2013-09-15 18:00:00 |\n",
       "| 2013 |  9 | 16 | 1752 | 1805 | -13 | 1939 | 1953 | -14 | OO | 5568 | N710SK | LGA | CLE |  70 |  419 | 18 |  5 | 2013-09-16 18:00:00 |\n",
       "| 2013 |  9 | 17 | 1755 | 1805 | -10 | 1937 | 1953 | -16 | OO | 5568 | N794SK | LGA | CLE |  68 |  419 | 18 |  5 | 2013-09-17 18:00:00 |\n",
       "| 2013 |  9 | 18 | 1754 | 1805 | -11 | 1927 | 1953 | -26 | OO | 5568 | N701SK | LGA | CLE |  64 |  419 | 18 |  5 | 2013-09-18 18:00:00 |\n",
       "| 2013 |  9 | 19 | 1759 | 1805 |  -6 | 1946 | 1953 |  -7 | OO | 5568 | N760SK | LGA | CLE |  64 |  419 | 18 |  5 | 2013-09-19 18:00:00 |\n",
       "| 2013 |  9 | 20 | 1758 | 1805 |  -7 | 1929 | 1953 | -24 | OO | 5568 | N766SK | LGA | CLE |  60 |  419 | 18 |  5 | 2013-09-20 18:00:00 |\n",
       "| 2013 |  9 | 22 | 1759 | 1805 |  -6 | 1945 | 1953 |  -8 | OO | 5568 | N772SK | LGA | CLE |  67 |  419 | 18 |  5 | 2013-09-22 18:00:00 |\n",
       "| 2013 |  9 | 23 | 1759 | 1805 |  -6 | 1935 | 1953 | -18 | OO | 5568 | N776SK | LGA | CLE |  68 |  419 | 18 |  5 | 2013-09-23 18:00:00 |\n",
       "| 2013 |  9 | 24 | 1751 | 1805 | -14 | 1937 | 1953 | -16 | OO | 5568 | N785SK | LGA | CLE |  67 |  419 | 18 |  5 | 2013-09-24 18:00:00 |\n",
       "\n"
      ],
      "text/plain": [
       "   year month day dep_time sched_dep_time dep_delay arr_time sched_arr_time\n",
       "1  2013  1    30  1222     1115            67       1402     1215          \n",
       "2  2013 11     3  1424     1430            -6       1629     1634          \n",
       "3  2013 11    10  1443     1430            13       1701     1634          \n",
       "4  2013 11    17  1422     1430            -8       1610     1634          \n",
       "5  2013 11    25  1803     1759             4       2011     2017          \n",
       "6  2013 11    30  1648     1647             1       1814     1811          \n",
       "7  2013  6    15  1626     1635            -9       1810     1830          \n",
       "8  2013  6    22  1846     1635           131       2107     1830          \n",
       "9  2013  8    27  1755     1805           -10       1956     1953          \n",
       "10 2013  8    28  2039     1805           154       2213     1953          \n",
       "11 2013  8    29  1832     1805            27       2039     1953          \n",
       "12 2013  8    30  1930     1805            85       2102     1953          \n",
       "13 2013  9     2    NA     1805            NA         NA     1953          \n",
       "14 2013  9     3  1759     1805            -6       1959     1953          \n",
       "15 2013  9     4  1803     1805            -2       1941     1953          \n",
       "16 2013  9     5  1758     1805            -7       1938     1953          \n",
       "17 2013  9     6  1803     1805            -2       1945     1953          \n",
       "18 2013  9     8  1754     1805           -11       1946     1953          \n",
       "19 2013  9     9  1757     1805            -8       1951     1953          \n",
       "20 2013  9    10  1759     1805            -6       1945     1953          \n",
       "21 2013  9    11    NA     1805            NA         NA     1953          \n",
       "22 2013  9    12    NA     1805            NA         NA     1953          \n",
       "23 2013  9    13  1845     1805            40       2041     1953          \n",
       "24 2013  9    15  1756     1805            -9       1929     1953          \n",
       "25 2013  9    16  1752     1805           -13       1939     1953          \n",
       "26 2013  9    17  1755     1805           -10       1937     1953          \n",
       "27 2013  9    18  1754     1805           -11       1927     1953          \n",
       "28 2013  9    19  1759     1805            -6       1946     1953          \n",
       "29 2013  9    20  1758     1805            -7       1929     1953          \n",
       "30 2013  9    22  1759     1805            -6       1945     1953          \n",
       "31 2013  9    23  1759     1805            -6       1935     1953          \n",
       "32 2013  9    24  1751     1805           -14       1937     1953          \n",
       "   arr_delay carrier flight tailnum origin dest air_time distance hour minute\n",
       "1  107       OO      8500   N978SW  LGA    ORD  132       733     11   15    \n",
       "2   -5       OO      4483   N813SK  EWR    MSP  166      1008     14   30    \n",
       "3   27       OO      4483   N813SK  EWR    MSP  177      1008     14   30    \n",
       "4  -24       OO      4483   N693CA  EWR    MSP  152      1008     14   30    \n",
       "5   -6       OO      4659   N803SK  EWR    MSP  157      1008     17   59    \n",
       "6    3       OO      4967   N746SK  LGA    IAD   50       229     16   47    \n",
       "7  -20       OO      4528   N913EV  EWR    DTW   81       488     16   35    \n",
       "8  157       OO      4528   N427SW  EWR    DTW   88       488     16   35    \n",
       "9    3       OO      5568   N789SK  LGA    CLE   64       419     18    5    \n",
       "10 140       OO      5568   N790SK  LGA    CLE   71       419     18    5    \n",
       "11  46       OO      5568   N797SK  LGA    CLE   70       419     18    5    \n",
       "12  69       OO      5568   N762SK  LGA    CLE   68       419     18    5    \n",
       "13  NA       OO      5568   N768SK  LGA    CLE   NA       419     18    5    \n",
       "14   6       OO      5568   N795SK  LGA    CLE   66       419     18    5    \n",
       "15 -12       OO      5568   N780SK  LGA    CLE   67       419     18    5    \n",
       "16 -15       OO      5568   N789SK  LGA    CLE   69       419     18    5    \n",
       "17  -8       OO      5568   N740SK  LGA    CLE   70       419     18    5    \n",
       "18  -7       OO      5568   N726SK  LGA    CLE   67       419     18    5    \n",
       "19  -2       OO      5568   N780SK  LGA    CLE   72       419     18    5    \n",
       "20  -8       OO      5568   N705SK  LGA    CLE   68       419     18    5    \n",
       "21  NA       OO      5568   N728SK  LGA    CLE   NA       419     18    5    \n",
       "22  NA       OO      5568   N789SK  LGA    CLE   NA       419     18    5    \n",
       "23  48       OO      5568   N702SK  LGA    CLE   68       419     18    5    \n",
       "24 -24       OO      5568   N778SK  LGA    CLE   70       419     18    5    \n",
       "25 -14       OO      5568   N710SK  LGA    CLE   70       419     18    5    \n",
       "26 -16       OO      5568   N794SK  LGA    CLE   68       419     18    5    \n",
       "27 -26       OO      5568   N701SK  LGA    CLE   64       419     18    5    \n",
       "28  -7       OO      5568   N760SK  LGA    CLE   64       419     18    5    \n",
       "29 -24       OO      5568   N766SK  LGA    CLE   60       419     18    5    \n",
       "30  -8       OO      5568   N772SK  LGA    CLE   67       419     18    5    \n",
       "31 -18       OO      5568   N776SK  LGA    CLE   68       419     18    5    \n",
       "32 -16       OO      5568   N785SK  LGA    CLE   67       419     18    5    \n",
       "   time_hour          \n",
       "1  2013-01-30 11:00:00\n",
       "2  2013-11-03 14:00:00\n",
       "3  2013-11-10 14:00:00\n",
       "4  2013-11-17 14:00:00\n",
       "5  2013-11-25 17:00:00\n",
       "6  2013-11-30 16:00:00\n",
       "7  2013-06-15 16:00:00\n",
       "8  2013-06-22 16:00:00\n",
       "9  2013-08-27 18:00:00\n",
       "10 2013-08-28 18:00:00\n",
       "11 2013-08-29 18:00:00\n",
       "12 2013-08-30 18:00:00\n",
       "13 2013-09-02 18:00:00\n",
       "14 2013-09-03 18:00:00\n",
       "15 2013-09-04 18:00:00\n",
       "16 2013-09-05 18:00:00\n",
       "17 2013-09-06 18:00:00\n",
       "18 2013-09-08 18:00:00\n",
       "19 2013-09-09 18:00:00\n",
       "20 2013-09-10 18:00:00\n",
       "21 2013-09-11 18:00:00\n",
       "22 2013-09-12 18:00:00\n",
       "23 2013-09-13 18:00:00\n",
       "24 2013-09-15 18:00:00\n",
       "25 2013-09-16 18:00:00\n",
       "26 2013-09-17 18:00:00\n",
       "27 2013-09-18 18:00:00\n",
       "28 2013-09-19 18:00:00\n",
       "29 2013-09-20 18:00:00\n",
       "30 2013-09-22 18:00:00\n",
       "31 2013-09-23 18:00:00\n",
       "32 2013-09-24 18:00:00"
      ]
     },
     "metadata": {},
     "output_type": "display_data"
    }
   ],
   "source": [
    "# View help for n()\n",
    "?n()\n",
    "\n",
    "if (require(\"nycflights13\")) {\n",
    "carriers <- group_by(flights, carrier)\n",
    "summarise(carriers, n())\n",
    "mutate(carriers, n = n())\n",
    "filter(carriers, n() < 100)\n",
    "}"
   ]
  },
  {
   "cell_type": "markdown",
   "metadata": {},
   "source": [
    "## arrange()\n",
    "Arrange rows by variables. Use desc to sort a variable in descending order. Generally, this will not also automatically order by grouping variables.\n",
    "### Usage\n",
    "arrange(.data, ...)"
   ]
  },
  {
   "cell_type": "code",
   "execution_count": 7,
   "metadata": {
    "collapsed": true
   },
   "outputs": [],
   "source": [
    "# View help on arrange()\n",
    "#?arrange()\n"
   ]
  },
  {
   "cell_type": "markdown",
   "metadata": {},
   "source": [
    "## desc()\n",
    "Descending order. Transform a vector into a format that will be sorted in descending order. \n",
    "### Usage\n",
    "desc(x)"
   ]
  },
  {
   "cell_type": "code",
   "execution_count": 8,
   "metadata": {
    "collapsed": true
   },
   "outputs": [],
   "source": [
    "# View help on desc()\n",
    "#?desc()\n"
   ]
  },
  {
   "cell_type": "code",
   "execution_count": 10,
   "metadata": {},
   "outputs": [
    {
     "data": {
      "text/html": [
       "<table>\n",
       "<caption>A tibble: 7 × 2</caption>\n",
       "<thead>\n",
       "\t<tr><th scope=col>class</th><th scope=col>n</th></tr>\n",
       "\t<tr><th scope=col>&lt;chr&gt;</th><th scope=col>&lt;int&gt;</th></tr>\n",
       "</thead>\n",
       "<tbody>\n",
       "\t<tr><td>suv       </td><td>62</td></tr>\n",
       "\t<tr><td>compact   </td><td>47</td></tr>\n",
       "\t<tr><td>midsize   </td><td>41</td></tr>\n",
       "\t<tr><td>subcompact</td><td>35</td></tr>\n",
       "\t<tr><td>pickup    </td><td>33</td></tr>\n",
       "\t<tr><td>minivan   </td><td>11</td></tr>\n",
       "\t<tr><td>2seater   </td><td> 5</td></tr>\n",
       "</tbody>\n",
       "</table>\n"
      ],
      "text/latex": [
       "A tibble: 7 × 2\n",
       "\\begin{tabular}{r|ll}\n",
       " class & n\\\\\n",
       " <chr> & <int>\\\\\n",
       "\\hline\n",
       "\t suv        & 62\\\\\n",
       "\t compact    & 47\\\\\n",
       "\t midsize    & 41\\\\\n",
       "\t subcompact & 35\\\\\n",
       "\t pickup     & 33\\\\\n",
       "\t minivan    & 11\\\\\n",
       "\t 2seater    &  5\\\\\n",
       "\\end{tabular}\n"
      ],
      "text/markdown": [
       "\n",
       "A tibble: 7 × 2\n",
       "\n",
       "| class &lt;chr&gt; | n &lt;int&gt; |\n",
       "|---|---|\n",
       "| suv        | 62 |\n",
       "| compact    | 47 |\n",
       "| midsize    | 41 |\n",
       "| subcompact | 35 |\n",
       "| pickup     | 33 |\n",
       "| minivan    | 11 |\n",
       "| 2seater    |  5 |\n",
       "\n"
      ],
      "text/plain": [
       "  class      n \n",
       "1 suv        62\n",
       "2 compact    47\n",
       "3 midsize    41\n",
       "4 subcompact 35\n",
       "5 pickup     33\n",
       "6 minivan    11\n",
       "7 2seater     5"
      ]
     },
     "metadata": {},
     "output_type": "display_data"
    }
   ],
   "source": [
    "# Display the distinct values of mpg$class and row count\n",
    "# Sort by largest class first\n",
    "# Use group_by(), summarize(), n(), arrange()\n",
    "mpg %>% \n",
    "   group_by(class) %>% \n",
    "   summarize(n = n()) %>%\n",
    "   arrange(n %>% desc())\n"
   ]
  },
  {
   "cell_type": "markdown",
   "metadata": {},
   "source": [
    "## tally()\n",
    "Counts/tally observations by group. tally is a convenient wrapper for summarize that will either call n or sum(n) depending on whether you're tallying for the first time, or re-tallying. count() is similar, but also does the group_by for you. \n",
    "### Usage\n",
    "tally(x, wt, sort = FALSE)"
   ]
  },
  {
   "cell_type": "code",
   "execution_count": 11,
   "metadata": {
    "collapsed": true
   },
   "outputs": [],
   "source": [
    "# View help on tally()\n",
    "#tally()\n"
   ]
  },
  {
   "cell_type": "code",
   "execution_count": 12,
   "metadata": {},
   "outputs": [
    {
     "data": {
      "text/html": [
       "<table>\n",
       "<caption>A tibble: 7 × 2</caption>\n",
       "<thead>\n",
       "\t<tr><th scope=col>mpg$class</th><th scope=col>n</th></tr>\n",
       "\t<tr><th scope=col>&lt;chr&gt;</th><th scope=col>&lt;int&gt;</th></tr>\n",
       "</thead>\n",
       "<tbody>\n",
       "\t<tr><td>suv       </td><td>62</td></tr>\n",
       "\t<tr><td>compact   </td><td>47</td></tr>\n",
       "\t<tr><td>midsize   </td><td>41</td></tr>\n",
       "\t<tr><td>subcompact</td><td>35</td></tr>\n",
       "\t<tr><td>pickup    </td><td>33</td></tr>\n",
       "\t<tr><td>minivan   </td><td>11</td></tr>\n",
       "\t<tr><td>2seater   </td><td> 5</td></tr>\n",
       "</tbody>\n",
       "</table>\n"
      ],
      "text/latex": [
       "A tibble: 7 × 2\n",
       "\\begin{tabular}{r|ll}\n",
       " mpg\\$class & n\\\\\n",
       " <chr> & <int>\\\\\n",
       "\\hline\n",
       "\t suv        & 62\\\\\n",
       "\t compact    & 47\\\\\n",
       "\t midsize    & 41\\\\\n",
       "\t subcompact & 35\\\\\n",
       "\t pickup     & 33\\\\\n",
       "\t minivan    & 11\\\\\n",
       "\t 2seater    &  5\\\\\n",
       "\\end{tabular}\n"
      ],
      "text/markdown": [
       "\n",
       "A tibble: 7 × 2\n",
       "\n",
       "| mpg$class &lt;chr&gt; | n &lt;int&gt; |\n",
       "|---|---|\n",
       "| suv        | 62 |\n",
       "| compact    | 47 |\n",
       "| midsize    | 41 |\n",
       "| subcompact | 35 |\n",
       "| pickup     | 33 |\n",
       "| minivan    | 11 |\n",
       "| 2seater    |  5 |\n",
       "\n"
      ],
      "text/plain": [
       "  mpg$class  n \n",
       "1 suv        62\n",
       "2 compact    47\n",
       "3 midsize    41\n",
       "4 subcompact 35\n",
       "5 pickup     33\n",
       "6 minivan    11\n",
       "7 2seater     5"
      ]
     },
     "metadata": {},
     "output_type": "display_data"
    }
   ],
   "source": [
    "# Display the distinct values of mpg$class and row count\n",
    "# Use group_by(), tally()\n",
    "# Sort results, largest first\n",
    "mpg %>% \n",
    "   group_by(mpg$class) %>% \n",
    "   tally(sort = TRUE)\n"
   ]
  },
  {
   "cell_type": "markdown",
   "metadata": {},
   "source": [
    "## Count()\n",
    "Counts/tally observations by group. tally is a convenient wrapper for summarize that will either call n or sum(n) depending on whether you're tallying for the first time, or re-tallying. count() is similar, but also does the group_by for you.\n",
    "### Usage\n",
    "count(x, ..., wt = NULL, sort = FALSE)"
   ]
  },
  {
   "cell_type": "code",
   "execution_count": 14,
   "metadata": {
    "collapsed": true
   },
   "outputs": [],
   "source": [
    "# View help on count\n",
    "?count()\n"
   ]
  },
  {
   "cell_type": "code",
   "execution_count": 13,
   "metadata": {},
   "outputs": [
    {
     "data": {
      "text/html": [
       "<table>\n",
       "<caption>A tibble: 7 × 2</caption>\n",
       "<thead>\n",
       "\t<tr><th scope=col>mpg$class</th><th scope=col>n</th></tr>\n",
       "\t<tr><th scope=col>&lt;chr&gt;</th><th scope=col>&lt;int&gt;</th></tr>\n",
       "</thead>\n",
       "<tbody>\n",
       "\t<tr><td>suv       </td><td>62</td></tr>\n",
       "\t<tr><td>compact   </td><td>47</td></tr>\n",
       "\t<tr><td>midsize   </td><td>41</td></tr>\n",
       "\t<tr><td>subcompact</td><td>35</td></tr>\n",
       "\t<tr><td>pickup    </td><td>33</td></tr>\n",
       "\t<tr><td>minivan   </td><td>11</td></tr>\n",
       "\t<tr><td>2seater   </td><td> 5</td></tr>\n",
       "</tbody>\n",
       "</table>\n"
      ],
      "text/latex": [
       "A tibble: 7 × 2\n",
       "\\begin{tabular}{r|ll}\n",
       " mpg\\$class & n\\\\\n",
       " <chr> & <int>\\\\\n",
       "\\hline\n",
       "\t suv        & 62\\\\\n",
       "\t compact    & 47\\\\\n",
       "\t midsize    & 41\\\\\n",
       "\t subcompact & 35\\\\\n",
       "\t pickup     & 33\\\\\n",
       "\t minivan    & 11\\\\\n",
       "\t 2seater    &  5\\\\\n",
       "\\end{tabular}\n"
      ],
      "text/markdown": [
       "\n",
       "A tibble: 7 × 2\n",
       "\n",
       "| mpg$class &lt;chr&gt; | n &lt;int&gt; |\n",
       "|---|---|\n",
       "| suv        | 62 |\n",
       "| compact    | 47 |\n",
       "| midsize    | 41 |\n",
       "| subcompact | 35 |\n",
       "| pickup     | 33 |\n",
       "| minivan    | 11 |\n",
       "| 2seater    |  5 |\n",
       "\n"
      ],
      "text/plain": [
       "  mpg$class  n \n",
       "1 suv        62\n",
       "2 compact    47\n",
       "3 midsize    41\n",
       "4 subcompact 35\n",
       "5 pickup     33\n",
       "6 minivan    11\n",
       "7 2seater     5"
      ]
     },
     "metadata": {},
     "output_type": "display_data"
    }
   ],
   "source": [
    "# Display the distinct values of mpg$class and row count\n",
    "# Use count()\n",
    "# Sort results, largest first\n",
    "mpg %>% count(mpg$class, sort = TRUE)\n"
   ]
  },
  {
   "cell_type": "markdown",
   "metadata": {},
   "source": [
    "Summarize the mpg data to have min, max and mean highway miles per gallon by class"
   ]
  },
  {
   "cell_type": "code",
   "execution_count": 16,
   "metadata": {},
   "outputs": [
    {
     "name": "stdout",
     "output_type": "stream",
     "text": [
      "Observations: 7\n",
      "Variables: 4\n",
      "$ class   \u001b[3m\u001b[90m<chr>\u001b[39m\u001b[23m \"2seater\", \"compact\", \"midsize\", \"minivan\", \"pickup\", \"subcom…\n",
      "$ hwy_max \u001b[3m\u001b[90m<int>\u001b[39m\u001b[23m 26, 44, 32, 24, 22, 44, 27\n",
      "$ hwy_avg \u001b[3m\u001b[90m<dbl>\u001b[39m\u001b[23m 24.80000, 28.29787, 27.29268, 22.36364, 16.87879, 28.14286, 1…\n",
      "$ hwy_min \u001b[3m\u001b[90m<int>\u001b[39m\u001b[23m 23, 23, 23, 17, 12, 20, 12\n"
     ]
    },
    {
     "data": {
      "text/html": [
       "<table>\n",
       "<caption>A tibble: 7 × 4</caption>\n",
       "<thead>\n",
       "\t<tr><th scope=col>class</th><th scope=col>hwy_max</th><th scope=col>hwy_avg</th><th scope=col>hwy_min</th></tr>\n",
       "\t<tr><th scope=col>&lt;chr&gt;</th><th scope=col>&lt;int&gt;</th><th scope=col>&lt;dbl&gt;</th><th scope=col>&lt;int&gt;</th></tr>\n",
       "</thead>\n",
       "<tbody>\n",
       "\t<tr><td>2seater   </td><td>26</td><td>24.80000</td><td>23</td></tr>\n",
       "\t<tr><td>compact   </td><td>44</td><td>28.29787</td><td>23</td></tr>\n",
       "\t<tr><td>midsize   </td><td>32</td><td>27.29268</td><td>23</td></tr>\n",
       "\t<tr><td>minivan   </td><td>24</td><td>22.36364</td><td>17</td></tr>\n",
       "\t<tr><td>pickup    </td><td>22</td><td>16.87879</td><td>12</td></tr>\n",
       "\t<tr><td>subcompact</td><td>44</td><td>28.14286</td><td>20</td></tr>\n",
       "\t<tr><td>suv       </td><td>27</td><td>18.12903</td><td>12</td></tr>\n",
       "</tbody>\n",
       "</table>\n"
      ],
      "text/latex": [
       "A tibble: 7 × 4\n",
       "\\begin{tabular}{r|llll}\n",
       " class & hwy\\_max & hwy\\_avg & hwy\\_min\\\\\n",
       " <chr> & <int> & <dbl> & <int>\\\\\n",
       "\\hline\n",
       "\t 2seater    & 26 & 24.80000 & 23\\\\\n",
       "\t compact    & 44 & 28.29787 & 23\\\\\n",
       "\t midsize    & 32 & 27.29268 & 23\\\\\n",
       "\t minivan    & 24 & 22.36364 & 17\\\\\n",
       "\t pickup     & 22 & 16.87879 & 12\\\\\n",
       "\t subcompact & 44 & 28.14286 & 20\\\\\n",
       "\t suv        & 27 & 18.12903 & 12\\\\\n",
       "\\end{tabular}\n"
      ],
      "text/markdown": [
       "\n",
       "A tibble: 7 × 4\n",
       "\n",
       "| class &lt;chr&gt; | hwy_max &lt;int&gt; | hwy_avg &lt;dbl&gt; | hwy_min &lt;int&gt; |\n",
       "|---|---|---|---|\n",
       "| 2seater    | 26 | 24.80000 | 23 |\n",
       "| compact    | 44 | 28.29787 | 23 |\n",
       "| midsize    | 32 | 27.29268 | 23 |\n",
       "| minivan    | 24 | 22.36364 | 17 |\n",
       "| pickup     | 22 | 16.87879 | 12 |\n",
       "| subcompact | 44 | 28.14286 | 20 |\n",
       "| suv        | 27 | 18.12903 | 12 |\n",
       "\n"
      ],
      "text/plain": [
       "  class      hwy_max hwy_avg  hwy_min\n",
       "1 2seater    26      24.80000 23     \n",
       "2 compact    44      28.29787 23     \n",
       "3 midsize    32      27.29268 23     \n",
       "4 minivan    24      22.36364 17     \n",
       "5 pickup     22      16.87879 12     \n",
       "6 subcompact 44      28.14286 20     \n",
       "7 suv        27      18.12903 12     "
      ]
     },
     "metadata": {},
     "output_type": "display_data"
    }
   ],
   "source": [
    "# Transform mpg into \n",
    "# Columns: class, hwy_max, hwy_avg, hwy_min\n",
    "# where max, avg, and min are summaries of hwy \n",
    "# grouped by class\n",
    "# source: mpg\n",
    "# result: df\n",
    "df <- mpg %>% group_by(class) %>% \n",
    "   summarize(hwy_max = hwy %>% max(),\n",
    "            hwy_avg = hwy %>% mean(),\n",
    "            hwy_min = hwy %>% min())\n",
    "\n",
    "# glimpse result\n",
    "df %>% glimpse()\n",
    "\n",
    "# display result\n",
    "df"
   ]
  },
  {
   "cell_type": "markdown",
   "metadata": {},
   "source": [
    "Notice there is one row per unique class. Also notice hwy_min and hwy_max are integers while hwy_avg is a double.\n",
    "\n",
    "Next: Gather hwy_min, hwy_max, hwy_avg into name / value pair columns."
   ]
  },
  {
   "cell_type": "code",
   "execution_count": 17,
   "metadata": {},
   "outputs": [
    {
     "name": "stdout",
     "output_type": "stream",
     "text": [
      "Observations: 21\n",
      "Variables: 3\n",
      "$ class      \u001b[3m\u001b[90m<chr>\u001b[39m\u001b[23m \"2seater\", \"compact\", \"midsize\", \"minivan\", \"pickup\", \"sub…\n",
      "$ hwy_metric \u001b[3m\u001b[90m<chr>\u001b[39m\u001b[23m \"hwy_max\", \"hwy_max\", \"hwy_max\", \"hwy_max\", \"hwy_max\", \"hw…\n",
      "$ hwy_value  \u001b[3m\u001b[90m<dbl>\u001b[39m\u001b[23m 26.00000, 44.00000, 32.00000, 24.00000, 22.00000, 44.00000…\n"
     ]
    },
    {
     "data": {
      "text/html": [
       "<table>\n",
       "<caption>A tibble: 21 × 3</caption>\n",
       "<thead>\n",
       "\t<tr><th scope=col>class</th><th scope=col>hwy_metric</th><th scope=col>hwy_value</th></tr>\n",
       "\t<tr><th scope=col>&lt;chr&gt;</th><th scope=col>&lt;chr&gt;</th><th scope=col>&lt;dbl&gt;</th></tr>\n",
       "</thead>\n",
       "<tbody>\n",
       "\t<tr><td>2seater   </td><td>hwy_max</td><td>26.00000</td></tr>\n",
       "\t<tr><td>compact   </td><td>hwy_max</td><td>44.00000</td></tr>\n",
       "\t<tr><td>midsize   </td><td>hwy_max</td><td>32.00000</td></tr>\n",
       "\t<tr><td>minivan   </td><td>hwy_max</td><td>24.00000</td></tr>\n",
       "\t<tr><td>pickup    </td><td>hwy_max</td><td>22.00000</td></tr>\n",
       "\t<tr><td>subcompact</td><td>hwy_max</td><td>44.00000</td></tr>\n",
       "\t<tr><td>suv       </td><td>hwy_max</td><td>27.00000</td></tr>\n",
       "\t<tr><td>2seater   </td><td>hwy_avg</td><td>24.80000</td></tr>\n",
       "\t<tr><td>compact   </td><td>hwy_avg</td><td>28.29787</td></tr>\n",
       "\t<tr><td>midsize   </td><td>hwy_avg</td><td>27.29268</td></tr>\n",
       "\t<tr><td>minivan   </td><td>hwy_avg</td><td>22.36364</td></tr>\n",
       "\t<tr><td>pickup    </td><td>hwy_avg</td><td>16.87879</td></tr>\n",
       "\t<tr><td>subcompact</td><td>hwy_avg</td><td>28.14286</td></tr>\n",
       "\t<tr><td>suv       </td><td>hwy_avg</td><td>18.12903</td></tr>\n",
       "\t<tr><td>2seater   </td><td>hwy_min</td><td>23.00000</td></tr>\n",
       "\t<tr><td>compact   </td><td>hwy_min</td><td>23.00000</td></tr>\n",
       "\t<tr><td>midsize   </td><td>hwy_min</td><td>23.00000</td></tr>\n",
       "\t<tr><td>minivan   </td><td>hwy_min</td><td>17.00000</td></tr>\n",
       "\t<tr><td>pickup    </td><td>hwy_min</td><td>12.00000</td></tr>\n",
       "\t<tr><td>subcompact</td><td>hwy_min</td><td>20.00000</td></tr>\n",
       "\t<tr><td>suv       </td><td>hwy_min</td><td>12.00000</td></tr>\n",
       "</tbody>\n",
       "</table>\n"
      ],
      "text/latex": [
       "A tibble: 21 × 3\n",
       "\\begin{tabular}{r|lll}\n",
       " class & hwy\\_metric & hwy\\_value\\\\\n",
       " <chr> & <chr> & <dbl>\\\\\n",
       "\\hline\n",
       "\t 2seater    & hwy\\_max & 26.00000\\\\\n",
       "\t compact    & hwy\\_max & 44.00000\\\\\n",
       "\t midsize    & hwy\\_max & 32.00000\\\\\n",
       "\t minivan    & hwy\\_max & 24.00000\\\\\n",
       "\t pickup     & hwy\\_max & 22.00000\\\\\n",
       "\t subcompact & hwy\\_max & 44.00000\\\\\n",
       "\t suv        & hwy\\_max & 27.00000\\\\\n",
       "\t 2seater    & hwy\\_avg & 24.80000\\\\\n",
       "\t compact    & hwy\\_avg & 28.29787\\\\\n",
       "\t midsize    & hwy\\_avg & 27.29268\\\\\n",
       "\t minivan    & hwy\\_avg & 22.36364\\\\\n",
       "\t pickup     & hwy\\_avg & 16.87879\\\\\n",
       "\t subcompact & hwy\\_avg & 28.14286\\\\\n",
       "\t suv        & hwy\\_avg & 18.12903\\\\\n",
       "\t 2seater    & hwy\\_min & 23.00000\\\\\n",
       "\t compact    & hwy\\_min & 23.00000\\\\\n",
       "\t midsize    & hwy\\_min & 23.00000\\\\\n",
       "\t minivan    & hwy\\_min & 17.00000\\\\\n",
       "\t pickup     & hwy\\_min & 12.00000\\\\\n",
       "\t subcompact & hwy\\_min & 20.00000\\\\\n",
       "\t suv        & hwy\\_min & 12.00000\\\\\n",
       "\\end{tabular}\n"
      ],
      "text/markdown": [
       "\n",
       "A tibble: 21 × 3\n",
       "\n",
       "| class &lt;chr&gt; | hwy_metric &lt;chr&gt; | hwy_value &lt;dbl&gt; |\n",
       "|---|---|---|\n",
       "| 2seater    | hwy_max | 26.00000 |\n",
       "| compact    | hwy_max | 44.00000 |\n",
       "| midsize    | hwy_max | 32.00000 |\n",
       "| minivan    | hwy_max | 24.00000 |\n",
       "| pickup     | hwy_max | 22.00000 |\n",
       "| subcompact | hwy_max | 44.00000 |\n",
       "| suv        | hwy_max | 27.00000 |\n",
       "| 2seater    | hwy_avg | 24.80000 |\n",
       "| compact    | hwy_avg | 28.29787 |\n",
       "| midsize    | hwy_avg | 27.29268 |\n",
       "| minivan    | hwy_avg | 22.36364 |\n",
       "| pickup     | hwy_avg | 16.87879 |\n",
       "| subcompact | hwy_avg | 28.14286 |\n",
       "| suv        | hwy_avg | 18.12903 |\n",
       "| 2seater    | hwy_min | 23.00000 |\n",
       "| compact    | hwy_min | 23.00000 |\n",
       "| midsize    | hwy_min | 23.00000 |\n",
       "| minivan    | hwy_min | 17.00000 |\n",
       "| pickup     | hwy_min | 12.00000 |\n",
       "| subcompact | hwy_min | 20.00000 |\n",
       "| suv        | hwy_min | 12.00000 |\n",
       "\n"
      ],
      "text/plain": [
       "   class      hwy_metric hwy_value\n",
       "1  2seater    hwy_max    26.00000 \n",
       "2  compact    hwy_max    44.00000 \n",
       "3  midsize    hwy_max    32.00000 \n",
       "4  minivan    hwy_max    24.00000 \n",
       "5  pickup     hwy_max    22.00000 \n",
       "6  subcompact hwy_max    44.00000 \n",
       "7  suv        hwy_max    27.00000 \n",
       "8  2seater    hwy_avg    24.80000 \n",
       "9  compact    hwy_avg    28.29787 \n",
       "10 midsize    hwy_avg    27.29268 \n",
       "11 minivan    hwy_avg    22.36364 \n",
       "12 pickup     hwy_avg    16.87879 \n",
       "13 subcompact hwy_avg    28.14286 \n",
       "14 suv        hwy_avg    18.12903 \n",
       "15 2seater    hwy_min    23.00000 \n",
       "16 compact    hwy_min    23.00000 \n",
       "17 midsize    hwy_min    23.00000 \n",
       "18 minivan    hwy_min    17.00000 \n",
       "19 pickup     hwy_min    12.00000 \n",
       "20 subcompact hwy_min    20.00000 \n",
       "21 suv        hwy_min    12.00000 "
      ]
     },
     "metadata": {},
     "output_type": "display_data"
    }
   ],
   "source": [
    "# Gather hwy_min, hwy_max, hwy_avg into \n",
    "# hwy_metric and hwy_value columns\n",
    "# source: df\n",
    "# result: df2\n",
    "# Hint: gather()\n",
    "df2 <- df %>% \n",
    "   gather(2:4, key = hwy_metric , value = hwy_value)\n",
    "\n",
    "# glimpse result\n",
    "df2 %>% glimpse()\n",
    "\n",
    "# display result\n",
    "df2\n"
   ]
  },
  {
   "cell_type": "markdown",
   "metadata": {},
   "source": [
    "Notice the prior columns are gone and hwy_metric and hwy_value took their place. The number of rows increased as a result of the gather() operation.\n",
    "\n",
    "Next: Remove the hwy\\_ prefix from hwy_metric column"
   ]
  },
  {
   "cell_type": "code",
   "execution_count": 18,
   "metadata": {},
   "outputs": [
    {
     "name": "stdout",
     "output_type": "stream",
     "text": [
      "Observations: 21\n",
      "Variables: 3\n",
      "$ class      \u001b[3m\u001b[90m<chr>\u001b[39m\u001b[23m \"2seater\", \"compact\", \"midsize\", \"minivan\", \"pickup\", \"sub…\n",
      "$ hwy_metric \u001b[3m\u001b[90m<chr>\u001b[39m\u001b[23m \"max\", \"max\", \"max\", \"max\", \"max\", \"max\", \"max\", \"avg\", \"a…\n",
      "$ hwy_value  \u001b[3m\u001b[90m<dbl>\u001b[39m\u001b[23m 26.00000, 44.00000, 32.00000, 24.00000, 22.00000, 44.00000…\n"
     ]
    },
    {
     "data": {
      "text/html": [
       "<table>\n",
       "<caption>A tibble: 21 × 3</caption>\n",
       "<thead>\n",
       "\t<tr><th scope=col>class</th><th scope=col>hwy_metric</th><th scope=col>hwy_value</th></tr>\n",
       "\t<tr><th scope=col>&lt;chr&gt;</th><th scope=col>&lt;chr&gt;</th><th scope=col>&lt;dbl&gt;</th></tr>\n",
       "</thead>\n",
       "<tbody>\n",
       "\t<tr><td>2seater   </td><td>max</td><td>26.00000</td></tr>\n",
       "\t<tr><td>compact   </td><td>max</td><td>44.00000</td></tr>\n",
       "\t<tr><td>midsize   </td><td>max</td><td>32.00000</td></tr>\n",
       "\t<tr><td>minivan   </td><td>max</td><td>24.00000</td></tr>\n",
       "\t<tr><td>pickup    </td><td>max</td><td>22.00000</td></tr>\n",
       "\t<tr><td>subcompact</td><td>max</td><td>44.00000</td></tr>\n",
       "\t<tr><td>suv       </td><td>max</td><td>27.00000</td></tr>\n",
       "\t<tr><td>2seater   </td><td>avg</td><td>24.80000</td></tr>\n",
       "\t<tr><td>compact   </td><td>avg</td><td>28.29787</td></tr>\n",
       "\t<tr><td>midsize   </td><td>avg</td><td>27.29268</td></tr>\n",
       "\t<tr><td>minivan   </td><td>avg</td><td>22.36364</td></tr>\n",
       "\t<tr><td>pickup    </td><td>avg</td><td>16.87879</td></tr>\n",
       "\t<tr><td>subcompact</td><td>avg</td><td>28.14286</td></tr>\n",
       "\t<tr><td>suv       </td><td>avg</td><td>18.12903</td></tr>\n",
       "\t<tr><td>2seater   </td><td>min</td><td>23.00000</td></tr>\n",
       "\t<tr><td>compact   </td><td>min</td><td>23.00000</td></tr>\n",
       "\t<tr><td>midsize   </td><td>min</td><td>23.00000</td></tr>\n",
       "\t<tr><td>minivan   </td><td>min</td><td>17.00000</td></tr>\n",
       "\t<tr><td>pickup    </td><td>min</td><td>12.00000</td></tr>\n",
       "\t<tr><td>subcompact</td><td>min</td><td>20.00000</td></tr>\n",
       "\t<tr><td>suv       </td><td>min</td><td>12.00000</td></tr>\n",
       "</tbody>\n",
       "</table>\n"
      ],
      "text/latex": [
       "A tibble: 21 × 3\n",
       "\\begin{tabular}{r|lll}\n",
       " class & hwy\\_metric & hwy\\_value\\\\\n",
       " <chr> & <chr> & <dbl>\\\\\n",
       "\\hline\n",
       "\t 2seater    & max & 26.00000\\\\\n",
       "\t compact    & max & 44.00000\\\\\n",
       "\t midsize    & max & 32.00000\\\\\n",
       "\t minivan    & max & 24.00000\\\\\n",
       "\t pickup     & max & 22.00000\\\\\n",
       "\t subcompact & max & 44.00000\\\\\n",
       "\t suv        & max & 27.00000\\\\\n",
       "\t 2seater    & avg & 24.80000\\\\\n",
       "\t compact    & avg & 28.29787\\\\\n",
       "\t midsize    & avg & 27.29268\\\\\n",
       "\t minivan    & avg & 22.36364\\\\\n",
       "\t pickup     & avg & 16.87879\\\\\n",
       "\t subcompact & avg & 28.14286\\\\\n",
       "\t suv        & avg & 18.12903\\\\\n",
       "\t 2seater    & min & 23.00000\\\\\n",
       "\t compact    & min & 23.00000\\\\\n",
       "\t midsize    & min & 23.00000\\\\\n",
       "\t minivan    & min & 17.00000\\\\\n",
       "\t pickup     & min & 12.00000\\\\\n",
       "\t subcompact & min & 20.00000\\\\\n",
       "\t suv        & min & 12.00000\\\\\n",
       "\\end{tabular}\n"
      ],
      "text/markdown": [
       "\n",
       "A tibble: 21 × 3\n",
       "\n",
       "| class &lt;chr&gt; | hwy_metric &lt;chr&gt; | hwy_value &lt;dbl&gt; |\n",
       "|---|---|---|\n",
       "| 2seater    | max | 26.00000 |\n",
       "| compact    | max | 44.00000 |\n",
       "| midsize    | max | 32.00000 |\n",
       "| minivan    | max | 24.00000 |\n",
       "| pickup     | max | 22.00000 |\n",
       "| subcompact | max | 44.00000 |\n",
       "| suv        | max | 27.00000 |\n",
       "| 2seater    | avg | 24.80000 |\n",
       "| compact    | avg | 28.29787 |\n",
       "| midsize    | avg | 27.29268 |\n",
       "| minivan    | avg | 22.36364 |\n",
       "| pickup     | avg | 16.87879 |\n",
       "| subcompact | avg | 28.14286 |\n",
       "| suv        | avg | 18.12903 |\n",
       "| 2seater    | min | 23.00000 |\n",
       "| compact    | min | 23.00000 |\n",
       "| midsize    | min | 23.00000 |\n",
       "| minivan    | min | 17.00000 |\n",
       "| pickup     | min | 12.00000 |\n",
       "| subcompact | min | 20.00000 |\n",
       "| suv        | min | 12.00000 |\n",
       "\n"
      ],
      "text/plain": [
       "   class      hwy_metric hwy_value\n",
       "1  2seater    max        26.00000 \n",
       "2  compact    max        44.00000 \n",
       "3  midsize    max        32.00000 \n",
       "4  minivan    max        24.00000 \n",
       "5  pickup     max        22.00000 \n",
       "6  subcompact max        44.00000 \n",
       "7  suv        max        27.00000 \n",
       "8  2seater    avg        24.80000 \n",
       "9  compact    avg        28.29787 \n",
       "10 midsize    avg        27.29268 \n",
       "11 minivan    avg        22.36364 \n",
       "12 pickup     avg        16.87879 \n",
       "13 subcompact avg        28.14286 \n",
       "14 suv        avg        18.12903 \n",
       "15 2seater    min        23.00000 \n",
       "16 compact    min        23.00000 \n",
       "17 midsize    min        23.00000 \n",
       "18 minivan    min        17.00000 \n",
       "19 pickup     min        12.00000 \n",
       "20 subcompact min        20.00000 \n",
       "21 suv        min        12.00000 "
      ]
     },
     "metadata": {},
     "output_type": "display_data"
    }
   ],
   "source": [
    "# Remove the hwy_ prefix from hwy_metric column\n",
    "# Store result in df3\n",
    "# Hint: str_replace()\n",
    "df3 <- df2 %>% \n",
    "   mutate(hwy_metric = hwy_metric %>% str_replace(\"hwy_\", \"\"))\n",
    "\n",
    "# Glimpse result\n",
    "df3 %>% glimpse()\n",
    "\n",
    "# Display result\n",
    "df3\n"
   ]
  },
  {
   "cell_type": "markdown",
   "metadata": {},
   "source": [
    "Notice the values of hwy_metric do not contain 'hwy\\_' anymore.\n",
    "\n",
    "Next: Plot all metrics"
   ]
  },
  {
   "cell_type": "code",
   "execution_count": 19,
   "metadata": {},
   "outputs": [
    {
     "data": {
      "image/png": "[encoded data removed]",
      "text/plain": [
       "plot without title"
      ]
     },
     "metadata": {},
     "output_type": "display_data"
    }
   ],
   "source": [
    "# Plot min, max, and avg\n",
    "# Hint: geom_col()\n",
    "df3 %>% \n",
    "   ggplot(aes(x = hwy_metric, y = hwy_value)) + \n",
    "      geom_col()\n"
   ]
  },
  {
   "cell_type": "markdown",
   "metadata": {},
   "source": [
    "Notice the order is avg, max, and then min. It would make more sense to order them min, avg, then max. \n",
    "\n",
    "Next: Convert hwy_metric to a factor then order the levels."
   ]
  },
  {
   "cell_type": "code",
   "execution_count": 20,
   "metadata": {},
   "outputs": [
    {
     "data": {
      "text/html": [
       "<table>\n",
       "<caption>A tibble: 3 × 2</caption>\n",
       "<thead>\n",
       "\t<tr><th scope=col>f</th><th scope=col>n</th></tr>\n",
       "\t<tr><th scope=col>&lt;fct&gt;</th><th scope=col>&lt;int&gt;</th></tr>\n",
       "</thead>\n",
       "<tbody>\n",
       "\t<tr><td>avg</td><td>7</td></tr>\n",
       "\t<tr><td>max</td><td>7</td></tr>\n",
       "\t<tr><td>min</td><td>7</td></tr>\n",
       "</tbody>\n",
       "</table>\n"
      ],
      "text/latex": [
       "A tibble: 3 × 2\n",
       "\\begin{tabular}{r|ll}\n",
       " f & n\\\\\n",
       " <fct> & <int>\\\\\n",
       "\\hline\n",
       "\t avg & 7\\\\\n",
       "\t max & 7\\\\\n",
       "\t min & 7\\\\\n",
       "\\end{tabular}\n"
      ],
      "text/markdown": [
       "\n",
       "A tibble: 3 × 2\n",
       "\n",
       "| f &lt;fct&gt; | n &lt;int&gt; |\n",
       "|---|---|\n",
       "| avg | 7 |\n",
       "| max | 7 |\n",
       "| min | 7 |\n",
       "\n"
      ],
      "text/plain": [
       "  f   n\n",
       "1 avg 7\n",
       "2 max 7\n",
       "3 min 7"
      ]
     },
     "metadata": {},
     "output_type": "display_data"
    },
    {
     "data": {
      "text/html": [
       "<table>\n",
       "<caption>A tibble: 3 × 2</caption>\n",
       "<thead>\n",
       "\t<tr><th scope=col>f</th><th scope=col>n</th></tr>\n",
       "\t<tr><th scope=col>&lt;fct&gt;</th><th scope=col>&lt;int&gt;</th></tr>\n",
       "</thead>\n",
       "<tbody>\n",
       "\t<tr><td>min</td><td>7</td></tr>\n",
       "\t<tr><td>avg</td><td>7</td></tr>\n",
       "\t<tr><td>max</td><td>7</td></tr>\n",
       "</tbody>\n",
       "</table>\n"
      ],
      "text/latex": [
       "A tibble: 3 × 2\n",
       "\\begin{tabular}{r|ll}\n",
       " f & n\\\\\n",
       " <fct> & <int>\\\\\n",
       "\\hline\n",
       "\t min & 7\\\\\n",
       "\t avg & 7\\\\\n",
       "\t max & 7\\\\\n",
       "\\end{tabular}\n"
      ],
      "text/markdown": [
       "\n",
       "A tibble: 3 × 2\n",
       "\n",
       "| f &lt;fct&gt; | n &lt;int&gt; |\n",
       "|---|---|\n",
       "| min | 7 |\n",
       "| avg | 7 |\n",
       "| max | 7 |\n",
       "\n"
      ],
      "text/plain": [
       "  f   n\n",
       "1 min 7\n",
       "2 avg 7\n",
       "3 max 7"
      ]
     },
     "metadata": {},
     "output_type": "display_data"
    }
   ],
   "source": [
    "# Convert hwy_metric to a factor\n",
    "# Store result in df4\n",
    "# Hint: as.factor()\n",
    "df4 <- df3 %>% \n",
    "   mutate(hwy_metric = hwy_metric %>% as.factor())\n",
    "\n",
    "# Display the levels and row count\n",
    "# Hint: fct_count()\n",
    "df4$hwy_metric %>% fct_count()\n",
    "\n",
    "# Reorder the levels\n",
    "# min, avg, max\n",
    "# update df4\n",
    "# Hint: fct_relevel()\n",
    "df4 <- df4 %>% \n",
    "  mutate(hwy_metric = hwy_metric %>% fct_relevel(c(\"min\", \"avg\", \"max\")))\n",
    "\n",
    "# Display the levels and row count\n",
    "# Hint: fct_count()\n",
    "df4$hwy_metric %>% fct_count()\n"
   ]
  },
  {
   "cell_type": "code",
   "execution_count": 21,
   "metadata": {},
   "outputs": [
    {
     "data": {
      "image/png": "[encoded data removed]",
      "text/plain": [
       "plot without title"
      ]
     },
     "metadata": {},
     "output_type": "display_data"
    }
   ],
   "source": [
    "# Plot min, max, and avg\n",
    "# using geom_col()\n",
    "# fill by class\n",
    "# position = \"dodge\"\n",
    "df4 %>% \n",
    "   ggplot(aes(hwy_metric, hwy_value, fill = class)) + \n",
    "      geom_col(position = \"dodge\")\n"
   ]
  },
  {
   "cell_type": "markdown",
   "metadata": {},
   "source": [
    "Notice which class has the lowest average hwy mpg."
   ]
  },
  {
   "cell_type": "code",
   "execution_count": 22,
   "metadata": {},
   "outputs": [
    {
     "data": {
      "image/png": "[encoded data removed]",
      "text/plain": [
       "plot without title"
      ]
     },
     "metadata": {},
     "output_type": "display_data"
    }
   ],
   "source": [
    "# Plot min, max, and avg\n",
    "# using geom_col()\n",
    "# fill by class\n",
    "# position = \"dodge\"\n",
    "# facet by class\n",
    "df4 %>% \n",
    "   ggplot(aes(hwy_metric, hwy_value, fill = class)) + \n",
    "      geom_col(position = \"dodge\") +\n",
    "      facet_wrap( ~class)\n"
   ]
  },
  {
   "cell_type": "markdown",
   "metadata": {},
   "source": [
    "Notice how compact and sub compact have a larger delta from min to max. Also notice the 2seater, by contrast doesn't have much of a delta from min to max.\n",
    "\n",
    "## Boxplot\n",
    "Many common summaries such as min, mean, and max are built into ggplot and wouldn't require calculuating them in the data frame. A boxplot is a good visualization of the variance of a value. It is a bit more sophisticated than min, mean, and max, but conveys the information perhaps even better."
   ]
  },
  {
   "cell_type": "code",
   "execution_count": 23,
   "metadata": {},
   "outputs": [
    {
     "data": {
      "image/png": "[encoded data removed]",
      "text/plain": [
       "plot without title"
      ]
     },
     "metadata": {},
     "output_type": "display_data"
    }
   ],
   "source": [
    "# Create a box plot of\n",
    "# mpg class and hwy\n",
    "# fill by class\n",
    "# Hint: geom_boxplot()\n",
    "mpg %>% \n",
    "   ggplot(aes(class, hwy, fill =class)) + \n",
    "   geom_boxplot()\n"
   ]
  },
  {
   "cell_type": "code",
   "execution_count": 25,
   "metadata": {},
   "outputs": [
    {
     "data": {
      "image/png": "[encoded data removed]",
      "text/plain": [
       "plot without title"
      ]
     },
     "metadata": {},
     "output_type": "display_data"
    }
   ],
   "source": [
    "# Create a box plot of\n",
    "# mpg class and hwy\n",
    "# fill by class\n",
    "# varwidth = TRUE\n",
    "mpg %>% \n",
    "   ggplot(aes(class, hwy, fill = class)) + \n",
    "   geom_boxplot()\n"
   ]
  },
  {
   "cell_type": "markdown",
   "metadata": {},
   "source": [
    "Setting varwidth = TRUE for a boxplot changes the width of each box in proportion to the number of rows of that class. 2seater didn't have much variance in the data because there weren't that many 2seater vehicles in the data set. By contrast, there are a large number of suvs yet most have a hwy value in a similar range."
   ]
  },
  {
   "cell_type": "markdown",
   "metadata": {},
   "source": [
    "## Code Recap"
   ]
  },
  {
   "cell_type": "code",
   "execution_count": 40,
   "metadata": {
    "scrolled": false
   },
   "outputs": [
    {
     "data": {
      "text/html": [
       "<table>\n",
       "<caption>A tibble: 7 × 2</caption>\n",
       "<thead>\n",
       "\t<tr><th scope=col>mpg$class</th><th scope=col>n</th></tr>\n",
       "\t<tr><th scope=col>&lt;chr&gt;</th><th scope=col>&lt;int&gt;</th></tr>\n",
       "</thead>\n",
       "<tbody>\n",
       "\t<tr><td>suv       </td><td>62</td></tr>\n",
       "\t<tr><td>compact   </td><td>47</td></tr>\n",
       "\t<tr><td>midsize   </td><td>41</td></tr>\n",
       "\t<tr><td>subcompact</td><td>35</td></tr>\n",
       "\t<tr><td>pickup    </td><td>33</td></tr>\n",
       "\t<tr><td>minivan   </td><td>11</td></tr>\n",
       "\t<tr><td>2seater   </td><td> 5</td></tr>\n",
       "</tbody>\n",
       "</table>\n"
      ],
      "text/latex": [
       "A tibble: 7 × 2\n",
       "\\begin{tabular}{r|ll}\n",
       " mpg\\$class & n\\\\\n",
       " <chr> & <int>\\\\\n",
       "\\hline\n",
       "\t suv        & 62\\\\\n",
       "\t compact    & 47\\\\\n",
       "\t midsize    & 41\\\\\n",
       "\t subcompact & 35\\\\\n",
       "\t pickup     & 33\\\\\n",
       "\t minivan    & 11\\\\\n",
       "\t 2seater    &  5\\\\\n",
       "\\end{tabular}\n"
      ],
      "text/markdown": [
       "\n",
       "A tibble: 7 × 2\n",
       "\n",
       "| mpg$class &lt;chr&gt; | n &lt;int&gt; |\n",
       "|---|---|\n",
       "| suv        | 62 |\n",
       "| compact    | 47 |\n",
       "| midsize    | 41 |\n",
       "| subcompact | 35 |\n",
       "| pickup     | 33 |\n",
       "| minivan    | 11 |\n",
       "| 2seater    |  5 |\n",
       "\n"
      ],
      "text/plain": [
       "  mpg$class  n \n",
       "1 suv        62\n",
       "2 compact    47\n",
       "3 midsize    41\n",
       "4 subcompact 35\n",
       "5 pickup     33\n",
       "6 minivan    11\n",
       "7 2seater     5"
      ]
     },
     "metadata": {},
     "output_type": "display_data"
    },
    {
     "data": {
      "text/html": [
       "<table>\n",
       "<caption>A tibble: 7 × 2</caption>\n",
       "<thead>\n",
       "\t<tr><th scope=col>class</th><th scope=col>n</th></tr>\n",
       "\t<tr><th scope=col>&lt;chr&gt;</th><th scope=col>&lt;int&gt;</th></tr>\n",
       "</thead>\n",
       "<tbody>\n",
       "\t<tr><td>suv       </td><td>62</td></tr>\n",
       "\t<tr><td>compact   </td><td>47</td></tr>\n",
       "\t<tr><td>midsize   </td><td>41</td></tr>\n",
       "\t<tr><td>subcompact</td><td>35</td></tr>\n",
       "\t<tr><td>pickup    </td><td>33</td></tr>\n",
       "\t<tr><td>minivan   </td><td>11</td></tr>\n",
       "\t<tr><td>2seater   </td><td> 5</td></tr>\n",
       "</tbody>\n",
       "</table>\n"
      ],
      "text/latex": [
       "A tibble: 7 × 2\n",
       "\\begin{tabular}{r|ll}\n",
       " class & n\\\\\n",
       " <chr> & <int>\\\\\n",
       "\\hline\n",
       "\t suv        & 62\\\\\n",
       "\t compact    & 47\\\\\n",
       "\t midsize    & 41\\\\\n",
       "\t subcompact & 35\\\\\n",
       "\t pickup     & 33\\\\\n",
       "\t minivan    & 11\\\\\n",
       "\t 2seater    &  5\\\\\n",
       "\\end{tabular}\n"
      ],
      "text/markdown": [
       "\n",
       "A tibble: 7 × 2\n",
       "\n",
       "| class &lt;chr&gt; | n &lt;int&gt; |\n",
       "|---|---|\n",
       "| suv        | 62 |\n",
       "| compact    | 47 |\n",
       "| midsize    | 41 |\n",
       "| subcompact | 35 |\n",
       "| pickup     | 33 |\n",
       "| minivan    | 11 |\n",
       "| 2seater    |  5 |\n",
       "\n"
      ],
      "text/plain": [
       "  class      n \n",
       "1 suv        62\n",
       "2 compact    47\n",
       "3 midsize    41\n",
       "4 subcompact 35\n",
       "5 pickup     33\n",
       "6 minivan    11\n",
       "7 2seater     5"
      ]
     },
     "metadata": {},
     "output_type": "display_data"
    },
    {
     "data": {
      "text/html": [
       "<table>\n",
       "<caption>A tibble: 7 × 2</caption>\n",
       "<thead>\n",
       "\t<tr><th scope=col>mpg$class</th><th scope=col>n</th></tr>\n",
       "\t<tr><th scope=col>&lt;chr&gt;</th><th scope=col>&lt;int&gt;</th></tr>\n",
       "</thead>\n",
       "<tbody>\n",
       "\t<tr><td>suv       </td><td>62</td></tr>\n",
       "\t<tr><td>compact   </td><td>47</td></tr>\n",
       "\t<tr><td>midsize   </td><td>41</td></tr>\n",
       "\t<tr><td>subcompact</td><td>35</td></tr>\n",
       "\t<tr><td>pickup    </td><td>33</td></tr>\n",
       "\t<tr><td>minivan   </td><td>11</td></tr>\n",
       "\t<tr><td>2seater   </td><td> 5</td></tr>\n",
       "</tbody>\n",
       "</table>\n"
      ],
      "text/latex": [
       "A tibble: 7 × 2\n",
       "\\begin{tabular}{r|ll}\n",
       " mpg\\$class & n\\\\\n",
       " <chr> & <int>\\\\\n",
       "\\hline\n",
       "\t suv        & 62\\\\\n",
       "\t compact    & 47\\\\\n",
       "\t midsize    & 41\\\\\n",
       "\t subcompact & 35\\\\\n",
       "\t pickup     & 33\\\\\n",
       "\t minivan    & 11\\\\\n",
       "\t 2seater    &  5\\\\\n",
       "\\end{tabular}\n"
      ],
      "text/markdown": [
       "\n",
       "A tibble: 7 × 2\n",
       "\n",
       "| mpg$class &lt;chr&gt; | n &lt;int&gt; |\n",
       "|---|---|\n",
       "| suv        | 62 |\n",
       "| compact    | 47 |\n",
       "| midsize    | 41 |\n",
       "| subcompact | 35 |\n",
       "| pickup     | 33 |\n",
       "| minivan    | 11 |\n",
       "| 2seater    |  5 |\n",
       "\n"
      ],
      "text/plain": [
       "  mpg$class  n \n",
       "1 suv        62\n",
       "2 compact    47\n",
       "3 midsize    41\n",
       "4 subcompact 35\n",
       "5 pickup     33\n",
       "6 minivan    11\n",
       "7 2seater     5"
      ]
     },
     "metadata": {},
     "output_type": "display_data"
    },
    {
     "name": "stderr",
     "output_type": "stream",
     "text": [
      "Warning message:\n",
      "“Unknown levels in `f`: min, avg, max”"
     ]
    },
    {
     "data": {
      "image/png": "[encoded data removed]",
      "text/plain": [
       "plot without title"
      ]
     },
     "metadata": {},
     "output_type": "display_data"
    },
    {
     "name": "stderr",
     "output_type": "stream",
     "text": [
      "Warning message:\n",
      "“Ignoring unknown parameters: varwidth”"
     ]
    },
    {
     "data": {
      "image/png": "[encoded data removed]",
      "text/plain": [
       "plot without title"
      ]
     },
     "metadata": {},
     "output_type": "display_data"
    },
    {
     "data": {
      "image/png": "[encoded data removed]",
      "text/plain": [
       "plot without title"
      ]
     },
     "metadata": {},
     "output_type": "display_data"
    }
   ],
   "source": [
    "# Load libraries\n",
    "library(forcats)    # forcats\n",
    "library(stringr)    # stringr\n",
    "library(tidyverse)  # tidyverse\n",
    "\n",
    "# Display the distinct values of mpg$class and row count\n",
    "# Sort by largest class first\n",
    "# Use group_by(), summarize(), n(), arrange()\n",
    "mpg %>% \n",
    "   group_by(mpg$class) %>% \n",
    "   summarize(n = n()) %>%\n",
    "   arrange(n %>% desc())\n",
    "\n",
    "# Display the distinct values of mpg$class and row count\n",
    "# Use group_by(), tally()\n",
    "# Sort results, largest first\n",
    "mpg %>% group_by(class) %>% \n",
    "   tally(sort = TRUE)\n",
    "\n",
    "# Display the distinct values of mpg$class and row count\n",
    "# Use count()\n",
    "# Sort results, largest first\n",
    "mpg %>% count(mpg$class, sort = TRUE)\n",
    "\n",
    "# Transform mpg into \n",
    "# Columns: class, hwy_max, hwy_avg, hwy_min\n",
    "# where max, avg, and min are summaries of hwy \n",
    "# grouped by class\n",
    "# source: mpg\n",
    "# result: df\n",
    "df <- mpg %>% group_by(class) %>% \n",
    "   summarize(hwy_max = max(mpg$hwy),\n",
    "            hwy_avg = mean(mpg$hwy),\n",
    "            hwy_min = min(mpg$hwy))\n",
    "\n",
    "# Gather hwy_min, hwy_max, hwy_avg into \n",
    "# hwy_metric and hwy_value columns\n",
    "# source: df\n",
    "# result: df2\n",
    "# Hint: gather()\n",
    "df2 <- df %>% \n",
    "   gather(2:4, key = hwy_metric, value = hwy_values)\n",
    "\n",
    "# Remove the hwy_ prefix from hwy_metric column\n",
    "# Store result in df3\n",
    "# Hint: str_replace()\n",
    "df3 <- df2 %>% \n",
    "   mutate(hwy_metric = hwy_metric %>% str_replace(\"hwy\", \"\"))\n",
    "\n",
    "# Plot min, max, and avg\n",
    "# using geom_col()\n",
    "df3 %>% \n",
    "   ggplot(aes(hwy_metric, hwy_values)) + \n",
    "      geom_col()\n",
    "\n",
    "# Convert hwy_metric to a factor\n",
    "# Store result in df4\n",
    "# Hint: as.factor()\n",
    "df4 <- df3 %>% \n",
    "   mutate(hwy_metric = hwy_metric %>% as.factor())\n",
    "\n",
    "# Reorder the levels\n",
    "# min, avg, max\n",
    "# update df4\n",
    "# Hint: fct_relevel()\n",
    "df4 <- df4 %>% \n",
    "   mutate(hwy_metric = hwy_metric %>% fct_relevel(c(\"min\", \"avg\", \"max\")))\n",
    "\n",
    "# Plot min, max, and avg\n",
    "# using geom_col()\n",
    "# fill by class\n",
    "# position = \"dodge\"\n",
    "# facet by class\n",
    "df4 %>% \n",
    "   ggplot(aes(x = hwy_metric , y = hwy_values, fill = class)) + \n",
    "      geom_col(position = \"dodge\") +\n",
    "      facet_wrap( ~class)\n",
    "\n",
    "# Create a box plot of\n",
    "# mpg class and hwy\n",
    "# fill by class\n",
    "# varwidth = TRUE\n",
    "mpg %>% \n",
    "   ggplot(aes(x = class,y = hwy, fill = class)) + \n",
    "   geom_col(varwidth = TRUE)\n"
   ]
  },
  {
   "cell_type": "markdown",
   "metadata": {},
   "source": [
    "# Summary\n",
    "The dplyr package contains a number of functions to help manipulate and group data. You used the generic group_by() then summarize() functions counting rows with n() as well as calculating summary statistics of min, mean, and max. You found that there were many convenience functions in dplyr. You used tally() and count(). You plotted the summarized results after using gather to move the stats columns to rows. Finally, you discovered that common stat functions are built into various ggplot geoms and explored the box plot. There will be many occasions to group data. You now have the tools to perform this task with ease. "
   ]
  }
 ],
 "metadata": {
  "kernelspec": {
   "display_name": "R 3.5.1",
   "language": "R",
   "name": "ir"
  },
  "language_info": {
   "codemirror_mode": "r",
   "file_extension": ".r",
   "mimetype": "text/x-r-source",
   "name": "R",
   "pygments_lexer": "r",
   "version": "3.5.1"
  }
 },
 "nbformat": 4,
 "nbformat_minor": 1
}
