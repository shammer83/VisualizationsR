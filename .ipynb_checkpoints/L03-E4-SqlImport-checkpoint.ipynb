{
 "cells": [
  {
   "cell_type": "markdown",
   "metadata": {},
   "source": [
    "# L03-4-SQL Import\n",
    "## Assignment Instructions\n",
    "Rename with your name in place of Studentname and make your edits and updates here.\n",
    "\n"
   ]
  },
  {
   "cell_type": "markdown",
   "metadata": {},
   "source": [
    "# SQL Import\n",
    "In this exercise, we will connect to a SQL database, browse the data programmatically and then export the data into R data frames. We will use the odbc and DBI libraries to connect to SQL Server. These libraries work well with the tidyverse dplyr package.\n",
    "\n",
    "The database authorization level is read-only for the credentials used in this exercise. However, these packages provide the capability to alter the database data and the database itself.\n",
    "\n",
    "\n",
    "## R Features\n",
    "* library()\n",
    "* dbconnect()\n",
    "* print()\n",
    "* str()\n",
    "* dbListTables()\n",
    "* sort()\n",
    "* head()\n",
    "* dbListFields()\n",
    "* dbGetQuery()\n",
    "* select()\n",
    "* everything()\n",
    "* arrange()\n",
    "* desc()\n",
    "* dbDisconnect()\n",
    "* ggplot()\n",
    "* geom_bar()\n",
    "\n",
    "\n",
    "## Datasets\n",
    "* AdventureWorks\n"
   ]
  },
  {
   "cell_type": "code",
   "execution_count": 1,
   "metadata": {
    "scrolled": false
   },
   "outputs": [
    {
     "name": "stderr",
     "output_type": "stream",
     "text": [
      "── \u001b[1mAttaching packages\u001b[22m ─────────────────────────────────────── tidyverse 1.2.1 ──\n",
      "\u001b[32m✔\u001b[39m \u001b[34mggplot2\u001b[39m 3.2.1     \u001b[32m✔\u001b[39m \u001b[34mpurrr  \u001b[39m 0.3.2\n",
      "\u001b[32m✔\u001b[39m \u001b[34mtibble \u001b[39m 2.1.3     \u001b[32m✔\u001b[39m \u001b[34mdplyr  \u001b[39m 0.8.3\n",
      "\u001b[32m✔\u001b[39m \u001b[34mtidyr  \u001b[39m 1.0.0     \u001b[32m✔\u001b[39m \u001b[34mstringr\u001b[39m 1.4.0\n",
      "\u001b[32m✔\u001b[39m \u001b[34mreadr  \u001b[39m 1.3.1     \u001b[32m✔\u001b[39m \u001b[34mforcats\u001b[39m 0.4.0\n",
      "── \u001b[1mConflicts\u001b[22m ────────────────────────────────────────── tidyverse_conflicts() ──\n",
      "\u001b[31m✖\u001b[39m \u001b[34mdplyr\u001b[39m::\u001b[32mfilter()\u001b[39m masks \u001b[34mstats\u001b[39m::filter()\n",
      "\u001b[31m✖\u001b[39m \u001b[34mdplyr\u001b[39m::\u001b[32mlag()\u001b[39m    masks \u001b[34mstats\u001b[39m::lag()\n"
     ]
    }
   ],
   "source": [
    "# Load libraries\n",
    "library('odbc') # odbc\n",
    "library('DBI') # DBI\n",
    "library('tidyverse') # tidyverse"
   ]
  },
  {
   "cell_type": "markdown",
   "metadata": {},
   "source": [
    "## Database connection information\n",
    "There are a few bits of information you will want to have handy in order to import data from SQL. \n",
    "* Driver library: Driver library is the database driver that is compatible with your database. We will use 'odbc' in this exercise. You would change this to match your needs and perhaps have to load a different library than odbc for your connection.\n",
    "* Driver: Driver name is part of the connection string information. We will use 'SQL Server' in this exercise. You would change this to match your needs.\n",
    "* Server: Server name is the name of the database server or server instance\n",
    "* Database: Database name is the name of the database within the server you want to connect to\n",
    "* Authentication credentials: Authentication credentials is the username and password to allow access to the database. \n",
    "\n"
   ]
  },
  {
   "cell_type": "code",
   "execution_count": 2,
   "metadata": {},
   "outputs": [],
   "source": [
    "# Connection string info\n",
    "# Already completed, just run the code block\n",
    "driver_name <- \"ODBC Driver 13 for SQL Server\"\n",
    "server_name <- \"uwc-sqlserver.clients.uw.edu\"\n",
    "database_name <- \"AdventureWorks2016CTP3\" \n",
    "user_id <- \"sqlstudentreader\"\n",
    "password <- \"PA6aX2gAhe4hE!ru$6atru\""
   ]
  },
  {
   "cell_type": "markdown",
   "metadata": {},
   "source": [
    "## dbConnect()\n",
    "Connects to a ODBC compatible database. The required first parameter, drv is the driver library that you want to use. In our case it will be odbc::odbc() which means, call the odbc() function found in the odbc library.\n",
    "\n",
    "dbConnect(drv, dsn = NULL, ..., timezone = \"UTC\",\n",
    "  encoding = \"\", driver = NULL, server = NULL, database = NULL,\n",
    "  uid = NULL, pwd = NULL, .connection_string = NULL)"
   ]
  },
  {
   "cell_type": "code",
   "execution_count": 5,
   "metadata": {},
   "outputs": [],
   "source": [
    "# View help on dbConnect()\n",
    "? dbConnect"
   ]
  },
  {
   "cell_type": "code",
   "execution_count": 7,
   "metadata": {},
   "outputs": [
    {
     "ename": "ERROR",
     "evalue": "Error in OdbcConnection(dsn = dsn, ..., timezone = timezone, encoding = encoding, : object 'databse_name' not found\n",
     "output_type": "error",
     "traceback": [
      "Error in OdbcConnection(dsn = dsn, ..., timezone = timezone, encoding = encoding, : object 'databse_name' not found\nTraceback:\n",
      "1. dbConnect(odbc::odbc(), driver = driver_name, server = server_name, \n .     database = databse_name, uid = user_id, pwd = password)",
      "2. dbConnect(odbc::odbc(), driver = driver_name, server = server_name, \n .     database = databse_name, uid = user_id, pwd = password)",
      "3. .local(drv, ...)",
      "4. OdbcConnection(dsn = dsn, ..., timezone = timezone, encoding = encoding, \n .     bigint = bigint, timeout = timeout, driver = driver, server = server, \n .     database = database, uid = uid, pwd = pwd, dbms.name = dbms.name, \n .     .connection_string = .connection_string)"
     ]
    }
   ],
   "source": [
    "# Connect to the database\n",
    "# Store connection in conn variable\n",
    "conn <- dbConnect(odbc::odbc(), \n",
    "                  driver = driver_name, \n",
    "                  server = server_name, \n",
    "                  database = databse_name,\n",
    "                  uid = user_id,\n",
    "                  pwd = password)\n",
    "\n",
    "# Print the connection object\n",
    "print(conn)"
   ]
  },
  {
   "cell_type": "markdown",
   "metadata": {},
   "source": [
    "Notice in the above output that it returned similar information to what you passed into dbConnect, namely the driver, server, and database information. You can additionally see the driver version."
   ]
  },
  {
   "cell_type": "markdown",
   "metadata": {},
   "source": [
    "## str()\n",
    "Compactly displays the internal structure of an R object, a diagnostic function and an alternative to summary(). Ideally, only one line for each ‘basic’ structure is displayed. The idea is to give reasonable output for any R object. \n",
    "\n",
    "You can use str() on any R variable making it universally useful."
   ]
  },
  {
   "cell_type": "code",
   "execution_count": null,
   "metadata": {
    "collapsed": true
   },
   "outputs": [],
   "source": [
    "# View help on str()\n",
    "?str"
   ]
  },
  {
   "cell_type": "code",
   "execution_count": null,
   "metadata": {},
   "outputs": [],
   "source": [
    "# Print connection details\n",
    "# using str()\n",
    "str(___)"
   ]
  },
  {
   "cell_type": "markdown",
   "metadata": {},
   "source": [
    "Notice in the output above, that str() provides additional details including the DLL of the driver, and the versions of various components. This may be useful in troubleshooting connection issues."
   ]
  },
  {
   "cell_type": "markdown",
   "metadata": {},
   "source": [
    "## dbListTables()\n",
    "Lists remote tables found when using the established database connection.\n",
    "\n",
    "dbListTables(conn, ...)"
   ]
  },
  {
   "cell_type": "code",
   "execution_count": null,
   "metadata": {},
   "outputs": [],
   "source": [
    "# View help on dbListTables()\n",
    "?___"
   ]
  },
  {
   "cell_type": "code",
   "execution_count": null,
   "metadata": {},
   "outputs": [],
   "source": [
    "# List the alphabetically first 50 \n",
    "# table objects in the database\n",
    "# Sorted alphabetically\n",
    "# Hint: head(), sort()\n",
    "conn %>% \n",
    "   ___() %>% \n",
    "   ___() %>% \n",
    "   ___(50)"
   ]
  },
  {
   "cell_type": "markdown",
   "metadata": {},
   "source": [
    "Notice the output above lists tables along with other objects. This potentially could be a long list. Using another tool to explore the database as well as develop the SQL query might be useful. "
   ]
  },
  {
   "cell_type": "markdown",
   "metadata": {},
   "source": [
    "## dbListFields()\n",
    "Lists field names of a remote table. Field names is another term for column names.\n",
    "\n",
    "dbListFields(conn, name, ...)"
   ]
  },
  {
   "cell_type": "code",
   "execution_count": null,
   "metadata": {
    "collapsed": true
   },
   "outputs": [],
   "source": [
    "# View help on dbListFields()\n",
    "?___"
   ]
  },
  {
   "cell_type": "code",
   "execution_count": null,
   "metadata": {},
   "outputs": [],
   "source": [
    "# List the columns \n",
    "# for table: Customer\n",
    "conn %>% \n",
    "   ___(\"___\")"
   ]
  },
  {
   "cell_type": "markdown",
   "metadata": {},
   "source": [
    "The above is the equivalant to the names() function, providing the column names of the table. This is useful to determine what columns we might want to export using our SELECT statement, or of course we can use SELECT * and get them all and sort them out in R later if we choose."
   ]
  },
  {
   "cell_type": "markdown",
   "metadata": {},
   "source": [
    "## dbGetQuery()\n",
    "Send query, retrieve results and then clear result set. This function is for SELECT queries only. Some backends may support data manipulation statements through this function for compatibility reasons. However callers are strongly advised to use dbExecute for data manipulation statements.\n",
    "\n",
    "dbGetQuery(conn, statement, ...)"
   ]
  },
  {
   "cell_type": "code",
   "execution_count": null,
   "metadata": {
    "collapsed": true
   },
   "outputs": [],
   "source": [
    "# View help on dbGetQuery()\n",
    "?___"
   ]
  },
  {
   "cell_type": "code",
   "execution_count": null,
   "metadata": {},
   "outputs": [],
   "source": [
    "# Create a SQL SELECT statement\n",
    "# select the first 10 rows of data for all columns\n",
    "# Table: Sales.Customer\n",
    "# First store the query text in a variable sql_dim_date\n",
    "# Hint: SQL TOP N\n",
    "sql_customer <- \n",
    "\"SELECT ___ \n",
    "FROM ___\"\n",
    "\n",
    "# Second, execute the query\n",
    "# store result in df_customer\n",
    "df_customer <- conn %>% \n",
    "   ___(___) %>%\n",
    "   head(10)  # Optional if part of SQL query\n",
    "\n",
    "# Glimpse result\n",
    "glimpse(___)"
   ]
  },
  {
   "cell_type": "markdown",
   "metadata": {},
   "source": [
    "* Notice that it is simple to execute SQL SELECT statements and return the results as a data frame. \n",
    "* Notice that the data types map well from SQL to R since R is less restrictive than SQL.  \n",
    "* Notice that the SQL statement can be a variable and thus we can programmatically create and edit this code to create what is referred to as 'dynamic SQL'. This is where the power of programming comes in for automation as well as adjusting what is queried based upon other data or configurations."
   ]
  },
  {
   "cell_type": "markdown",
   "metadata": {},
   "source": [
    "## SQL SELECT \n",
    "There is full capabilities with the SQL SELECT statement. It doesn't have to be limited to simple queries. \n",
    "\n",
    "Let's try returning specific columns and filtering on some rows."
   ]
  },
  {
   "cell_type": "code",
   "execution_count": null,
   "metadata": {
    "scrolled": true
   },
   "outputs": [],
   "source": [
    "# Import Sales.SalesPerson\n",
    "# returning only the first 5 columns \n",
    "# and top 10 rows\n",
    "# with Bonus > 0\n",
    "# sorted by CommissionPct from high to low\n",
    "# Hint: select(1:5)\n",
    "sql_sales_person <- \n",
    "\"SELECT ___\n",
    "FROM ___\n",
    "WHERE ___\n",
    "ORDER BY ___\"\n",
    "\n",
    "df_sales_person <- conn %>% \n",
    "   dbGetQuery(___)\n",
    "\n",
    "# Glimpse result\n",
    "glimpse(___)"
   ]
  },
  {
   "cell_type": "markdown",
   "metadata": {},
   "source": [
    "Repeat the above task but instead bring in all the data from the SQL statement and perform the manipulation using R"
   ]
  },
  {
   "cell_type": "code",
   "execution_count": null,
   "metadata": {},
   "outputs": [],
   "source": [
    "# Import Sales.SalesPerson\n",
    "# returning only the first 5 columns \n",
    "# and top 10 rows\n",
    "# with Bonus > 0\n",
    "# sorted by CommissionPct from high to low\n",
    "# Hint: select(1:5), filter(), arrange(), desc(), head()\n",
    "sql_sales_person <- \n",
    "\"SELECT * \n",
    "FROM ___\"\n",
    "\n",
    "df_sales_person <- conn %>% \n",
    "   dbGetQuery(___) %>%\n",
    "   select(___) %>%  \n",
    "   filter(___) %>%  \n",
    "   arrange(___) %>% \n",
    "   head(___)  \n",
    "\n",
    "# Glimpse result\n",
    "glimpse(___)"
   ]
  },
  {
   "cell_type": "markdown",
   "metadata": {},
   "source": [
    "Are the results from using SQL SELECT and R identical? If not, why not?"
   ]
  },
  {
   "cell_type": "code",
   "execution_count": null,
   "metadata": {},
   "outputs": [],
   "source": [
    "# Create a SELECT statement \n",
    "# that returns all rows\n",
    "# for table Sales.SalesOrderDetail\n",
    "# Store as sql_sales_order_detail\n",
    "sql_sales_order_detail <- \n",
    "\"SELECT ___\n",
    "  FROM ___\"\n",
    "\n",
    "# Execute the query \n",
    "# Store the result in df_usa\n",
    "df_sales_order_detail <- conn %>%\n",
    "   ___(___)\n",
    "\n",
    "# Glimpse result\n",
    "glimpse(___)\n",
    "\n",
    "# Print top 5 results of the first 5 columns\n",
    "# with OrderQty being the first column\n",
    "# Hint: select(), everything(), arrange(), head()\n",
    "df_sales_order_detail %>% \n",
    "   ___  # May need to use several functions, see hint above"
   ]
  },
  {
   "cell_type": "markdown",
   "metadata": {},
   "source": [
    "## dbDisconnect()\n",
    "Disconnect (close) a connection. This closes the connection, discards all pending work, and frees resources (e.g., memory, sockets).\n",
    "\n",
    "dbDisconnect(conn, ...)"
   ]
  },
  {
   "cell_type": "code",
   "execution_count": null,
   "metadata": {
    "collapsed": true
   },
   "outputs": [],
   "source": [
    "# View help on dbDisconnect()\n",
    "?___"
   ]
  },
  {
   "cell_type": "code",
   "execution_count": null,
   "metadata": {},
   "outputs": [],
   "source": [
    "# Close the database connection\n",
    "___(conn)"
   ]
  },
  {
   "cell_type": "markdown",
   "metadata": {},
   "source": [
    "Notice it returned TRUE meaning the connection was successfully closed."
   ]
  },
  {
   "cell_type": "markdown",
   "metadata": {},
   "source": [
    "## Code Recap\n",
    "Let's put all the code in one block to better see the pattern."
   ]
  },
  {
   "cell_type": "code",
   "execution_count": null,
   "metadata": {},
   "outputs": [],
   "source": [
    "# Load libraries\n",
    "library(___) # odbc\n",
    "library(___) # DBI\n",
    "library(___) # tidyverse\n",
    "\n",
    "# Connection string info\n",
    "driver_name <- \"ODBC Driver 13 for SQL Server\"\n",
    "server_name <- \"69.91.210.142\" \n",
    "database_name <- \"AdventureWorks2016CTP3\" \n",
    "user_id <- \"sqlstudentreader\"\n",
    "password <- \"PA6aX2gAhe4hE!ru$6atru\"\n",
    "\n",
    "# Connect to the database\n",
    "conn <- dbConnect(odbc::odbc(), \n",
    "                  driver = ___, \n",
    "                  server = ___, \n",
    "                  database = ___,\n",
    "                  uid = ___,\n",
    "                  pwd = ___)\n",
    "\n",
    "# List the first 20 table objects in the database\n",
    "conn %>% \n",
    "   ___() %>% \n",
    "   ___(20)\n",
    "\n",
    "# List the columns \n",
    "# for table: Customer\n",
    "# limit to the first 10 columns\n",
    "conn %>% \n",
    "   ___(\"Customer\") %>% \n",
    "   ___(10)\n",
    "\n",
    "# Create a SELECT statement \n",
    "# that returns all rows\n",
    "# for table Sales.SalesOrderDetail\n",
    "# Store as sql_sales_order_detail\n",
    "sql_sales_order_detail <- \n",
    "\"SELECT ___\n",
    "  FROM ___\"\n",
    "\n",
    "# Execute the query \n",
    "# Store the result in df_top_orders\n",
    "df_sales_order_detail <- ___ %>%\n",
    "   ___(___)\n",
    "\n",
    "# Glimpse result\n",
    "glimpse(___)\n",
    "\n",
    "# Print top 5 highest quantity orders and the first 5 columns\n",
    "# with OrderQty being the first column\n",
    "# Hint: select(), everything(), arrange(), head()\n",
    "df_sales_order_detail %>% \n",
    "   ___  # See hint above\n",
    "\n",
    "# Close the database connection\n",
    "___(conn)"
   ]
  },
  {
   "cell_type": "markdown",
   "metadata": {
    "collapsed": true
   },
   "source": [
    "## Analyze Sales Orders\n",
    "Once you import a table of data, it may be helpful to get a sense of the data from a graphical perspective. \n",
    "\n",
    "Let's plot the frequency of the order quantities.  "
   ]
  },
  {
   "cell_type": "code",
   "execution_count": null,
   "metadata": {},
   "outputs": [],
   "source": [
    "# Create a bar plot of OrderQty\n",
    "df_sales_order_detail %>% \n",
    "   ggplot(aes(___)) + \n",
    "      geom____()"
   ]
  },
  {
   "cell_type": "markdown",
   "metadata": {},
   "source": [
    "## Summary\n",
    "odbc and DBI packages enable you to execute SQL SELECT statements with the results returned as data frames."
   ]
  }
 ],
 "metadata": {
  "kernelspec": {
   "display_name": "R",
   "language": "R",
   "name": "ir"
  },
  "language_info": {
   "codemirror_mode": "r",
   "file_extension": ".r",
   "mimetype": "text/x-r-source",
   "name": "R",
   "pygments_lexer": "r",
   "version": "3.6.1"
  }
 },
 "nbformat": 4,
 "nbformat_minor": 1
}
