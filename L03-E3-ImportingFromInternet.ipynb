{
 "cells": [
  {
   "cell_type": "markdown",
   "metadata": {},
   "source": [
    "# L03-3-Importing From Internet\n",
    "## Assignment Instructions\n",
    "Rename with your name in place of Studentname and make your edits and updates here.\n"
   ]
  },
  {
   "cell_type": "markdown",
   "metadata": {},
   "source": [
    "# Importing From Internet\n",
    "Now that we know how to import flat files locally, what about directly from the Internet? Although manually downloading a file to your local computer is not difficult, there are times when importing directly from the Internet would be helpful. To illustrate this, let me introduce the UCI machine learning repository. University of California Irvine hosts a machine learning repository containing many real-world data sets. As luck would have it, they have a fuel economy automotive dataset. \n",
    "\n",
    "The same tidyverse import function read_csv() can be used to import from a URL. We just replace the local filename with a URL string.\n",
    "\n",
    "In this exercise, we will import this UCI data and then do a bit of visual data analysis on it. I hope you haven’t forgotten your ggplot skills. This data is a bit messier, which makes for a great learning opportunity. First, the header data is stored separately. I created an Excel spreadsheet with this info, so we will have to import this and combine the headers from the spreadsheet to the UCI automotive data. \n",
    "\n",
    "After we have a data frame containing the data, we will analyze highway miles per gallon vs engine displacement. This is an opportunity to reinforce your filtering, piping, and plotting skills. See if you can do it without any hints by looking at the prior exercises and applying it to this new data set. If you need hints, they are also provided later in this notebook and of course the solution notebook is available.\n",
    "\n",
    "\n",
    "\n",
    "## R Features\n",
    "* library()\n",
    "* read_csv()\n",
    "* read_excel()\n",
    "* glimpse()\n",
    "* write_csv()\n",
    "* print()\n",
    "* c()\n",
    "* ggplot()\n",
    "* geom_point()\n",
    "* geom_jitter()\n",
    "* geom_smooth()\n",
    "* filter()\n",
    "* facet_grid()\n",
    "\n",
    "## Datasets\n",
    "* automotive from UCI\n"
   ]
  },
  {
   "cell_type": "code",
   "execution_count": null,
   "metadata": {
    "collapsed": true,
    "scrolled": false
   },
   "outputs": [],
   "source": [
    "# Load libraries\n",
    "library(___) # readxl\n",
    "library(___) # tidyverse"
   ]
  },
  {
   "cell_type": "markdown",
   "metadata": {},
   "source": [
    "## UCI Automobile Data Set\n",
    "\n",
    "Manually explore UCI and a description of the data in your web browser. \n",
    "\n",
    "https://archive.ics.uci.edu/ml/datasets/Automobile\n",
    "\n",
    "Did you notice where the column names were stored? "
   ]
  },
  {
   "cell_type": "code",
   "execution_count": null,
   "metadata": {
    "collapsed": true
   },
   "outputs": [],
   "source": [
    "# Let's start by assuming you have the \n",
    "# URL for the file you want to import\n",
    "# Store this text string in a variable named auto_url\n",
    "___ <- \"https://archive.ics.uci.edu/ml/machine-learning-databases/autos/imports-85.data\""
   ]
  },
  {
   "cell_type": "markdown",
   "metadata": {},
   "source": [
    "The column names are not in the first row of the data file, but rather in a second description file. I didn't want to force you to type all those columns names. I'm sure you have enough busy work like this already. I manually copied the data into Excel and with some manual work and Excel formulas I got the list of column names in an Excel sheet. \n",
    "\n",
    "Also, I changed the hyphen dashes in the columns names to underscores. This isn't just to be consistent with my snake_case naming convention, but also some R functions including ggplot interpret the dash as a subtraction operator. So, I avoid having to wrestle with R and just use underscores instead of dashes for column names."
   ]
  },
  {
   "cell_type": "code",
   "execution_count": null,
   "metadata": {
    "collapsed": true,
    "scrolled": true
   },
   "outputs": [],
   "source": [
    "# Import the column names\n",
    "# from Excel file: auto_column_names.xlsx\n",
    "# into df_auto_cols data frame\n",
    "___ <- read_excel(\"___\", col_names = ___)\n",
    "\n",
    "# Glimpse the results\n",
    "# there should be 26 rows\n",
    "# and one column\n",
    "___\n",
    "\n",
    "# Notice the name of the column"
   ]
  },
  {
   "cell_type": "markdown",
   "metadata": {},
   "source": [
    "We will now use the url + column names to import the data from UCI. Notice however that we have columns names stored in a data frame. That doesn't exactly the specification read_csv() is expecting if we want to provide the list of columns names. It is expecting a vector, really a single column in a data frame, not the whole data frame.\n",
    "\n",
    "Confusingly, our df_auto_cols data frame only has one column, but it is still of class data frame, nonetheless. So we need to reference the specific column in the data frame and that is what we pass as a parameter for col_names in read_csv.\n",
    "\n",
    "There are many ways to reference columns in a data frame. A common method is to use the '\\$' followed by the column name. In this case df_auto_cols$X__1"
   ]
  },
  {
   "cell_type": "code",
   "execution_count": null,
   "metadata": {
    "collapsed": true,
    "scrolled": false
   },
   "outputs": [],
   "source": [
    "# Import the UCI auto data using \n",
    "# auto_url for the url string\n",
    "# and df_auto_cols$X0 for the col_names\n",
    "# Store the result in df\n",
    "___ <- read_csv(auto_url, col_names = df_auto_cols$___)\n",
    "\n",
    "# Glimpse the result\n",
    "# There should be 205 rows\n",
    "# and 26 columns with appropriate column names\n",
    "___"
   ]
  },
  {
   "cell_type": "code",
   "execution_count": null,
   "metadata": {
    "collapsed": true
   },
   "outputs": [],
   "source": [
    "# Write a snapshot of the source data\n",
    "# to auto.csv\n",
    "___(df, \"___\")"
   ]
  },
  {
   "cell_type": "code",
   "execution_count": null,
   "metadata": {
    "collapsed": true
   },
   "outputs": [],
   "source": [
    "# If we wanted to specify the column \n",
    "# names directly in R, we can build up a \n",
    "# vector using the c() combine function\n",
    "col_names_r <- ___(\n",
    "\"symboling\",\n",
    "\"normalized_losses\",\n",
    "\"make\",\n",
    "\"fuel_type\",\n",
    "\"aspiration\",\n",
    "\"num_of_doors\",\n",
    "\"body_style\",\n",
    "\"drive_wheels\",\n",
    "\"engine_location\",\n",
    "\"wheel_base\",\n",
    "\"length\",\n",
    "\"width\",\n",
    "\"height\",\n",
    "\"curb_weight\",\n",
    "\"engine_type\",\n",
    "\"num_of_cylinders\",\n",
    "\"engine_size\",\n",
    "\"fuel_system\",\n",
    "\"bore\",\n",
    "\"stroke\",\n",
    "\"compression_ratio\",\n",
    "\"horsepower\",\n",
    "\"peak_rpm\",\n",
    "\"city_mpg\",\n",
    "\"highway_mpg\",\n",
    "\"price\"\n",
    ")\n",
    "\n",
    "# We can print the values of a vector using the \n",
    "# print command, or just having the variable on a line with nothing else\n",
    "# I like to be explicit and use print()\n",
    "print(___)\n"
   ]
  },
  {
   "cell_type": "markdown",
   "metadata": {
    "collapsed": true
   },
   "source": [
    "Notice above how it prints vector values. It moves left to right from top to bottom. The index numbers are the vector index position of the value just to the right of it. So index 25 is highway-mpg. Index 26 is price."
   ]
  },
  {
   "cell_type": "markdown",
   "metadata": {},
   "source": [
    "Although there is a bit of clean up work that should be done at some point around this data such as changing character strings to numbers, and handling missing values, I always want to visualize the data as soon as I can. There's always time later for data wrangling.\n",
    "\n",
    "Our goal is to see the highway miles per hour trend (y axis) compared to engine size (x axis). The trend should be based on the number of doors, two or four, the number of cylinders, 4, 6, or 8, and the number of drive wheels, 2 or 4. "
   ]
  },
  {
   "cell_type": "code",
   "execution_count": null,
   "metadata": {
    "collapsed": true
   },
   "outputs": [],
   "source": [
    "# Create the plot as described above\n",
    "# This is very challenging to do from scratch\n",
    "# At least start it and get at least a scatter plot\n",
    "# and if you need more guidance, look at the below cells\n",
    "# for hints\n",
    "\n",
    "# dataframe: df\n",
    "# plot type: scatter plot with jitter and alpha and linear trend lines\n",
    "# y axis: highway mpg\n",
    "# x axis: engine size\n",
    "# color by cylinder\n",
    "# facet by number of doors and drive wheels\n",
    "# filter out any categories that are outliers\n",
    "___"
   ]
  },
  {
   "cell_type": "markdown",
   "metadata": {},
   "source": [
    "Don't just skip over the above cell, give it a try. Look back a prior notebooks. I am sure you can at least get a start with a scatter plot. Build your way up one step at a time. I don't do this all at once. \n",
    "\n",
    "Below is a guided version of the above if you need more hints. There is also the solution file and the help ? if you need them. That is what they are there for. "
   ]
  },
  {
   "cell_type": "code",
   "execution_count": null,
   "metadata": {
    "collapsed": true,
    "scrolled": false
   },
   "outputs": [],
   "source": [
    "# I start with reminding myself \n",
    "# the columns of the data\n",
    "___"
   ]
  },
  {
   "cell_type": "code",
   "execution_count": null,
   "metadata": {
    "collapsed": true,
    "scrolled": false
   },
   "outputs": [],
   "source": [
    "# Then I get the initial plot working\n",
    "___ %>% \n",
    "  ___(aes(x = engine_size, y = ___)) + \n",
    "   geom_point()"
   ]
  },
  {
   "cell_type": "code",
   "execution_count": null,
   "metadata": {
    "collapsed": true
   },
   "outputs": [],
   "source": [
    "# I'll add jitter and alpha blend as a good practice\n",
    "___ %>% \n",
    "   ___(aes(x = engine_size, y = ___)) + \n",
    "   geom____(alpha = ___)"
   ]
  },
  {
   "cell_type": "code",
   "execution_count": null,
   "metadata": {
    "collapsed": true
   },
   "outputs": [],
   "source": [
    "# Next add the trend line\n",
    "___ %>% \n",
    "  ___(aes(x = engine_size, y = ___)) + \n",
    "   geom____(alpha = ___) + \n",
    "   geom____(se = ___, method = \"___\")"
   ]
  },
  {
   "cell_type": "code",
   "execution_count": null,
   "metadata": {
    "collapsed": true
   },
   "outputs": [],
   "source": [
    "# Then add more dimensions \n",
    "# such as color for number of cylinders\n",
    "___ %>% \n",
    "   ___(aes(x = engine_size, y = ___, color = ___)) + \n",
    "   geom____(alpha = ___) + \n",
    "   geom____(se = ___, method = \"___\")"
   ]
  },
  {
   "cell_type": "code",
   "execution_count": null,
   "metadata": {
    "collapsed": true,
    "scrolled": false
   },
   "outputs": [],
   "source": [
    "# Filter out the cylinders that I don't want\n",
    "# I only want 4, 6, and 8\n",
    "# Here is where there are strings rather than numbers\n",
    "# I'll use %in% and c() to group all three together\n",
    "# but an OR of each would work too.\n",
    "\n",
    "# Since I am piping, I'll just add the filter() to the pipeline\n",
    "___ %>% \n",
    "   ___(num_of_cylinders ___ ___(\"four\", \"six\", \"eight\")) %>%\n",
    "   ___(aes(x = engine_size, y = ___, color = ___)) + \n",
    "   geom____(alpha = ___) + \n",
    "   geom____(se = ___, method = \"___\")"
   ]
  },
  {
   "cell_type": "code",
   "execution_count": null,
   "metadata": {
    "collapsed": true,
    "scrolled": false
   },
   "outputs": [],
   "source": [
    "# Let me facet by number of doors and drive wheels\n",
    "___ %>% \n",
    "   ___(num_of_cylinders ___ ___(\"four\", \"six\", \"eight\")) %>%\n",
    "   ___(aes(x = engine_size, y = ___, color = ___)) + \n",
    "   geom____(alpha = ___) + \n",
    "   geom____(se = ___, method = \"___\") + \n",
    "   ___(___ ~ ___)"
   ]
  },
  {
   "cell_type": "code",
   "execution_count": null,
   "metadata": {
    "collapsed": true
   },
   "outputs": [],
   "source": [
    "# Let's filter out the ? for doors\n",
    "# using filter() and the != operator\n",
    "___ %>% \n",
    "   ___(num_of_cylinders ___ ___(\"four\", \"six\", \"eight\"), \n",
    "         num_of_doors ___ \"___\") %>%\n",
    "  ___(aes(x = engine_size, y = ___, color = ___)) + \n",
    "   geom____(alpha =___) + \n",
    "   geom____(se = ___, method = \"___\") + \n",
    "   ___(___ ~ ___)"
   ]
  },
  {
   "cell_type": "markdown",
   "metadata": {},
   "source": [
    "Nicely done! Check out the trend lines. Any stand out as being different than the others? "
   ]
  }
 ],
 "metadata": {
  "kernelspec": {
   "display_name": "R",
   "language": "R",
   "name": "ir"
  },
  "language_info": {
   "codemirror_mode": "r",
   "file_extension": ".r",
   "mimetype": "text/x-r-source",
   "name": "R",
   "pygments_lexer": "r",
   "version": "3.3.2"
  }
 },
 "nbformat": 4,
 "nbformat_minor": 1
}
