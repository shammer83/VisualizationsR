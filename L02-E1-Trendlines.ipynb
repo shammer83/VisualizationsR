{
 "cells": [
  {
   "cell_type": "markdown",
   "metadata": {},
   "source": [
    "# L02-E1-Trendlines\n",
    "## Exercise Instructions\n",
    "\n",
    "* Complete all cells as instructed, replacing any ??? with the appropriate code\n",
    "\n",
    "* Execute Jupyter **Kernel** > **Restart & Run All** and ensure that all code blocks run without error\n"
   ]
  },
  {
   "cell_type": "markdown",
   "metadata": {},
   "source": [
    "# Trendlines\n",
    "\n",
    "You will add trendlines to your scatterplots. ggplot can calculate trend lines automatically using geom_smooth(). We'll use this to add trend lines.\n",
    "\n",
    "## R Features\n",
    "* library()\n",
    "* glimpse()\n",
    "* ggplot()\n",
    "* geom_point()\n",
    "* geom_smooth()\n",
    "* labs()\n",
    "\n",
    "## Datasets\n",
    "* mtcars\n",
    "* mpg"
   ]
  },
  {
   "cell_type": "code",
   "execution_count": null,
   "metadata": {
    "collapsed": true,
    "scrolled": true
   },
   "outputs": [],
   "source": [
    "# Load the tidyverse library\n",
    "library( ??? )"
   ]
  },
  {
   "cell_type": "code",
   "execution_count": null,
   "metadata": {
    "collapsed": true,
    "scrolled": true
   },
   "outputs": [],
   "source": [
    "# Explore the data \n",
    "# Dataframe: mtcars\n",
    "# Hint: glimpse()\n",
    "??? (mtcars)"
   ]
  },
  {
   "cell_type": "markdown",
   "metadata": {},
   "source": [
    "# Adding a Trendline\n",
    "Create a trend line of mtcars "
   ]
  },
  {
   "cell_type": "code",
   "execution_count": null,
   "metadata": {
    "collapsed": true,
    "scrolled": false
   },
   "outputs": [],
   "source": [
    "# Miles per gallon vs. engine displacement\n",
    "# disp on the x-axis and mpg on the y-axis\n",
    "# Hint: geom_smooth\n",
    "ggplot(data = mtcars) + \n",
    "   ??? (mapping = aes(x = ??? , y = ??? )) "
   ]
  },
  {
   "cell_type": "markdown",
   "metadata": {},
   "source": [
    "After you run it, notice the informational message that is it using method = 'loess'. Also notice that it has a gray band around the line and that the points are gone.\n",
    "\n",
    "At this point we are looking for something a bit simpler than what geom_smooth provides by default. We will need to pass some parameters to it to change its behavior. "
   ]
  },
  {
   "cell_type": "markdown",
   "metadata": {},
   "source": [
    "## ? Help\n",
    "See what the parameters are and what they default to when we don't specific anything,  take a look at the help usage.\n",
    "\n",
    "Get help by executing ? followed by the name of the function. It works best if the functions are loaded by library before calling help on them. So all the base R functions and the tidyverse functions will be readily available. "
   ]
  },
  {
   "cell_type": "code",
   "execution_count": null,
   "metadata": {
    "collapsed": true
   },
   "outputs": [],
   "source": [
    "# Display help for geom_smooth by \n",
    "# typing a question mark and then the function\n",
    "# you want help on, in this case geom_smooth\n",
    "? geom_smooth"
   ]
  },
  {
   "cell_type": "markdown",
   "metadata": {},
   "source": [
    "In the usage screen, there is a lot of information. Notice geom_smooth(mapping = NULL, ...) that matches the mapping parameter we have been using.\n",
    "\n",
    "We first want to change the method from loess to a line This is the method parameter. In the Arguments section of the help it talks about method and that its default is set to \"auto\". If you read closely, it lists some more example values to use. \n",
    "\n",
    "## Trendline: Linear Model\n",
    "We want to use \"lm\" which stands for linear model so we can get a line.\n",
    "\n",
    "Let's try the plot again, this time we will add a parameter method = \"lm\" to geom_smooth.\n",
    "\n",
    "Create a trend line of mtcars."
   ]
  },
  {
   "cell_type": "code",
   "execution_count": null,
   "metadata": {
    "collapsed": true,
    "scrolled": false
   },
   "outputs": [],
   "source": [
    "# Miles per gallon vs. engine displacement\n",
    "# disp on the x-axis and mpg on the y-axis\n",
    "# Add a linear trend line\n",
    "ggplot(data = mtcars) + \n",
    "   geom_smooth(mapping = aes(x = ??? , y = ??? ), method = \"???\") "
   ]
  },
  {
   "cell_type": "markdown",
   "metadata": {},
   "source": [
    "After you run it, notice that there is no informational message about loess and the line is straight!\n",
    "\n",
    "## Trendline: Remove confidence interval\n",
    "We are not done yet, we need to remove that gray band. \n",
    "That band is due to a default parameter se = TRUE\n",
    "Can you find se in the Arguments list?\n",
    "\n",
    "\n",
    "se displays the confidence interval, \n",
    "something we'll discuss later in the course.\n",
    "\n",
    "\n",
    "For now, it is distracting and we want to remove it.\n",
    "It looks like we can set se = FALSE and that should do the trick.\n",
    "Although F can be a shorthand for FALSE, use FALSE as best practice\n",
    "Note it all needs to be in uppercase letters, R is case sensitive.\n",
    "Let's try it.\n",
    "\n",
    "Create a trend line of mtcars."
   ]
  },
  {
   "cell_type": "code",
   "execution_count": null,
   "metadata": {
    "collapsed": true,
    "scrolled": false
   },
   "outputs": [],
   "source": [
    "# Miles per gallon vs. engine displacement\n",
    "# disp on the x-axis and mpg on the y-axis \n",
    "# Add a linear trend line with no error band\n",
    "ggplot(data = mtcars) + \n",
    "   geom_smooth(mapping = aes(x = disp, y = mpg), method = \"lm\", se = ??? )  # Remember R is case sensitive"
   ]
  },
  {
   "cell_type": "markdown",
   "metadata": {},
   "source": [
    "After you run it, notice the gray confidence interval band is gone.\n",
    "\n",
    "\n",
    "By the way, we are done with help for a while, feel free to close it \n",
    "if it is taking up screen space. You can always use the ? to get it back\n",
    "Use help whenever you need it."
   ]
  },
  {
   "cell_type": "markdown",
   "metadata": {},
   "source": [
    "## Trendline + Scatterplot: mpg vs disp\n",
    "A line without the points can be good for some analysis but I really want to see how close the points are to the line.\n",
    "Let's get the points back on our graph. Recall that we can add more layers chaining them together with the + operator.\n",
    "\n",
    "Create a scatterplot and linear trend line of mtcars."
   ]
  },
  {
   "cell_type": "code",
   "execution_count": null,
   "metadata": {
    "collapsed": true
   },
   "outputs": [],
   "source": [
    "# Miles per gallon vs. engine displacement\n",
    "# disp on the x-axis and mpg on the y-axis \n",
    "ggplot(data = mtcars) + \n",
    "   ??? (mapping = aes(x = disp, y = mpg), method = \"lm\", se = FALSE) ???  # Remember the +\n",
    "   ??? (mapping = aes(x = disp, y = mpg))"
   ]
  },
  {
   "cell_type": "markdown",
   "metadata": {},
   "source": [
    "After you run this, notice that we get the points and the trend line, \n",
    "like we wanted."
   ]
  },
  {
   "cell_type": "markdown",
   "metadata": {},
   "source": [
    "## Scatterplot + Trendline: mpg vs hp\n",
    "Create a scatterplot and linear trendline of mtcars."
   ]
  },
  {
   "cell_type": "code",
   "execution_count": null,
   "metadata": {
    "collapsed": true,
    "scrolled": false
   },
   "outputs": [],
   "source": [
    "# Miles per gallon vs engine horsepower\n",
    "# hp on the x-axis and  mpg on the y-axis\n",
    "ggplot(data = mtcars) + \n",
    "   geom_point(mapping = aes(x = hp, y = ??? )) +\n",
    "   geom_smooth(mapping = aes(x = ??? , y = mpg), method = \"lm\", se = ??? )"
   ]
  },
  {
   "cell_type": "markdown",
   "metadata": {},
   "source": [
    "The order of geom_point and geom_smooth can make a difference in the visualization. \n",
    "The layers are plotted over one another.\n",
    "If geom_smooth is last then the trend line will be painted *over* the points.\n",
    "If geom_point is last then the points will be painted *over* the line.\n",
    "Can you spot where the line is going over a point?\n",
    "The order you choose is a matter of preference and a good discussion in a data visualization course. \n",
    "Do you want the user's focus to be on the trend or on the point?\n",
    "For data analysis my preference is for geom_smooth to come later,\n",
    "so points are not plotted over it. When there are *lots* of points,\n",
    "it may be hard to see the line."
   ]
  },
  {
   "cell_type": "markdown",
   "metadata": {},
   "source": [
    "## Scatterplot + Trendline: mpg vs cyl\n",
    "Create a scatterplot and linear trendline of mtcars."
   ]
  },
  {
   "cell_type": "code",
   "execution_count": null,
   "metadata": {
    "collapsed": true,
    "scrolled": false
   },
   "outputs": [],
   "source": [
    "# Miles per gallon vs engine cylinders\n",
    "# cyl on the x-axis and mpg on the y-axis\n",
    "ggplot(data = mtcars) + \n",
    "   geom_point(mapping = aes(x = ??? , y = mpg)) +\n",
    "   geom_smooth(mapping = aes(x = hp, y = ??? ), method = ??? , se = FALSE)"
   ]
  },
  {
   "cell_type": "markdown",
   "metadata": {},
   "source": [
    "# mpg dataset\n",
    "Let's switch from mtcars to mpg dataset and do some more practice. First, I want to introduce a feature that will save some typing when you have multiple layers in your plot. ggplot and many other functions have the notion of default values for paramaters. If you like the default values, then you don't need to do any more typing. Only if you want to change from the default value, do you need to type in the parameter and the new value you want to use.\n",
    "\n",
    "# Inherit data from ggplot()\n",
    "When the ggplot function is first called where we specify data = (data frame name), that is actually setting the default data paramater for every layer. This is why we didn't have to specify it in geom_point or geom_smooth. Notice that we are duplicating the mapping = aes(...) code in geom_point and geom_smooth. The code would be more readable and we would be less likely to make a mistake if we could specify this just once instead of for every layer. To do this we put it in the beginning ggplot function call and then all the layers will inherit it. Less typing!!"
   ]
  },
  {
   "cell_type": "code",
   "execution_count": null,
   "metadata": {
    "collapsed": true
   },
   "outputs": [],
   "source": [
    "# Explore the data\n",
    "# Dataframe: mpg\n",
    "??? (mpg)"
   ]
  },
  {
   "cell_type": "markdown",
   "metadata": {},
   "source": [
    "## Scatterplot + Trendline: hwy vs displ\n",
    "Create a scatterplot and linear trendline of mpg dataset."
   ]
  },
  {
   "cell_type": "code",
   "execution_count": null,
   "metadata": {
    "collapsed": true
   },
   "outputs": [],
   "source": [
    "# Highway miles per gallon vs engine displacement\n",
    "# hwy on the y-axis and displ on the x-axis\n",
    "# We move the mapping parameter to ggplot instead of in the geoms\n",
    "ggplot(data = ??? , mapping = aes(x = ??? , y = hwy)) + \n",
    "   geom_point() +\n",
    "   geom_smooth(method = \"lm\", se = FALSE)"
   ]
  },
  {
   "cell_type": "markdown",
   "metadata": {},
   "source": [
    "# Inherit mapping from ggplot()\n",
    "Aside from less typing, notice how much easier it \n",
    "is to read geom code when the mapping info moved to ggplot. We will do this from now on because as more geoms are added, we can take advantage of typing the mapping only once at the top. If we need to change the mapping, we only need to do it in one place."
   ]
  },
  {
   "cell_type": "markdown",
   "metadata": {},
   "source": [
    "## Scatterplot + Trendline: hwy vs cyl\n",
    "Create a scatterplot and linear trendline of mpg dataset."
   ]
  },
  {
   "cell_type": "code",
   "execution_count": null,
   "metadata": {
    "collapsed": true
   },
   "outputs": [],
   "source": [
    "# Highway miles per gallon vs engine cylinders\n",
    "# hwy on the y-axis and cyl on the x-axis\n",
    "ggplot(data = mpg, mapping = aes(x = ??? , y = hwy)) + \n",
    "   geom_point() + \n",
    "   geom_smooth( ??? = \"lm\", se = FALSE)"
   ]
  },
  {
   "cell_type": "markdown",
   "metadata": {},
   "source": [
    "# Summary \n",
    "Let's put all the lines of code together to see the bigger picture of what we did. I'll switch mtcars to inherit the mappings from ggplot to make that code look cleaner too. Also, let's add some chart titles using the labs() function."
   ]
  },
  {
   "cell_type": "code",
   "execution_count": null,
   "metadata": {
    "collapsed": true,
    "scrolled": false
   },
   "outputs": [],
   "source": [
    "# Load libraries\n",
    "library( ??? )\n",
    "\n",
    "# Explore mtcars dataset\n",
    "??? (mtcars)\n",
    "\n",
    "# Scatterplot and linear trend mtcars: y = mpg vs x = disp, hp, cyl\n",
    "ggplot(data = mtcars, mapping = aes( ??? )) + \n",
    "   geom_point() +\n",
    "   geom_smooth( ??? ) +\n",
    "   labs(title=\"mtcars trend: mpg vs disp\")\n",
    "\n",
    "ggplot(data = mtcars, mapping = aes( ??? )) + \n",
    "   geom_point() +\n",
    "   geom_smooth( ??? ) +\n",
    "   labs(title=\"mtcars trend: mpg vs hp\")\n",
    "\n",
    "ggplot(data = mtcars, mapping = aes( ??? )) + \n",
    "   geom_point() +\n",
    "   geom_smooth( ??? ) +\n",
    "   labs(title=\"mtcars trend: mpg vs cyl\")\n",
    "\n",
    "# Explore mpg dataset\n",
    "glimpse(mpg)\n",
    "\n",
    "# Scatterplot and linear trend mpg: y = hwy vs x = displ, cyl\n",
    "ggplot(data = mpg, mapping = aes( ??? )) + \n",
    "   geom_point() +\n",
    "   geom_smooth( ??? ) +\n",
    "   labs(title=\"mpg trend: hwy vs displ\")\n",
    "\n",
    "ggplot(data = mpg, mapping = aes( ??? )) + \n",
    "   geom_point() +\n",
    "   geom_smooth( ??? ) +\n",
    "   labs(title=\"mpg trend: hwy vs cyl\")"
   ]
  },
  {
   "cell_type": "markdown",
   "metadata": {},
   "source": [
    "By the way, is it just me, or are those highway mileage vs cylinder plots have something interesting going on with them?"
   ]
  }
 ],
 "metadata": {
  "kernelspec": {
   "display_name": "R 3.5.1",
   "language": "R",
   "name": "ir"
  },
  "language_info": {
   "codemirror_mode": "r",
   "file_extension": ".r",
   "mimetype": "text/x-r-source",
   "name": "R",
   "pygments_lexer": "r",
   "version": "3.5.1"
  }
 },
 "nbformat": 4,
 "nbformat_minor": 1
}
