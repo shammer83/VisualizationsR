{
 "cells": [
  {
   "cell_type": "markdown",
   "metadata": {},
   "source": [
    "# L02-E4-Filtering\n",
    "## Exercise Instructions\n",
    "\n",
    "* Complete all cells as instructed, replacing any ??? with the appropriate code\n",
    "\n",
    "* Execute Jupyter **Kernel** > **Restart & Run All** and ensure that all code blocks run without error\n"
   ]
  },
  {
   "cell_type": "markdown",
   "metadata": {
    "collapsed": true
   },
   "source": [
    "# Subsets\n",
    "\n",
    "Subsets are important to provide focus for our analysis, whether it be removing outliers or irrelevant data, or a drill down on a specific category. Being able to filter rows and columns becomes commonplace in data analysis. Fortunately, this is an area of strength for the tidyverse and a package is dedicated to this named, dplyr. \n",
    "\n",
    "We will start simple with select(), filter() and arrange(). \n",
    "•\tselect() chooses the columns you want to keep and optionally rename them. \n",
    "•\tfilter() uses logical expressions to determine what rows are kept and discarded.\n",
    "•\tarrange() sorts the rows based upon the columns you give it.\n",
    "\n",
    "Simply put, select() discards columns, filter() discards rows, and arrange sorts rows. For those that are familiar with SQL, these three functions are similar to SQL SELECT, WHERE, and ORDER BY.\n",
    "\n",
    "We will also include some base R functions, head(), and tail(). \n",
    "head() will return the first 6 rows of a data set and tail() the last 6. 6 is the default value. You can override that parameter with the value you want. Combining head() and tail() with arrange() can return the top important rows for your analsyis.\n",
    "\n",
    "We will look at top_n() and compare it to head() or tail() with arrange() as an alternative to subsetting the top or bottom portion of the data. \n",
    "\n",
    "\n",
    "## R Features\n",
    "* library()\n",
    "* glimpse()\n",
    "* select()\n",
    "* <- variable assignment operator\n",
    "* head()\n",
    "* tail()\n",
    "* arrange()\n",
    "* desc()\n",
    "* labs()\n",
    "* filter()\n",
    "* ggplot()\n",
    "* geom_jitter()\n",
    "* geom_smooth()\n",
    "* facet_wrap()\n",
    "* facet_grid()\n",
    "\n",
    "## Datasets\n",
    "* mpg"
   ]
  },
  {
   "cell_type": "markdown",
   "metadata": {},
   "source": [
    "# Load libraries"
   ]
  },
  {
   "cell_type": "code",
   "execution_count": null,
   "metadata": {
    "collapsed": true
   },
   "outputs": [],
   "source": [
    "??? (tidyverse)"
   ]
  },
  {
   "cell_type": "markdown",
   "metadata": {},
   "source": [
    "# Explore data's structure"
   ]
  },
  {
   "cell_type": "code",
   "execution_count": null,
   "metadata": {
    "collapsed": true,
    "scrolled": true
   },
   "outputs": [],
   "source": [
    "# Dataframe: mpg\n",
    "# Hint: glimpse()\n",
    "??? (mpg)"
   ]
  },
  {
   "cell_type": "markdown",
   "metadata": {},
   "source": [
    "# Help on select()\n",
    "Let's look at the usage info from help for select()"
   ]
  },
  {
   "cell_type": "code",
   "execution_count": null,
   "metadata": {
    "collapsed": true
   },
   "outputs": [],
   "source": [
    "? select"
   ]
  },
  {
   "cell_type": "markdown",
   "metadata": {},
   "source": [
    "# select {dplyr}\tR Documentation\n",
    "Select/rename variables by name\n",
    "## Description\n",
    "select() keeps only the variables you mention; rename() keeps all variables."
   ]
  },
  {
   "cell_type": "markdown",
   "metadata": {},
   "source": [
    "# Using select()\n",
    "Let's start by selecting only the variables we need for plotting.\n",
    "\n",
    "Use the form: \n",
    "\n",
    "select(dataframe_name, column1, column2, column3, column4)"
   ]
  },
  {
   "cell_type": "code",
   "execution_count": null,
   "metadata": {
    "collapsed": true
   },
   "outputs": [],
   "source": [
    "# Select columns: hwy, displ, cyl, and class\n",
    "select(mpg, ??? , ??? , ??? , ??? )"
   ]
  },
  {
   "cell_type": "markdown",
   "metadata": {},
   "source": [
    "After running this notice the columns in the output match the select list we really need to store this somewhere so we can use it later."
   ]
  },
  {
   "cell_type": "markdown",
   "metadata": {},
   "source": [
    "# Store result in a variable\n",
    "Store the result from select(). Let's use the generic df variable name. I use this a lot for temporary variables and inside function. df stands for data frame. We will use the two character assignment operator '<-'. "
   ]
  },
  {
   "cell_type": "code",
   "execution_count": null,
   "metadata": {
    "collapsed": true
   },
   "outputs": [],
   "source": [
    "# Select columns: hwy, displ, cyl, class\n",
    "# Store in variable: df\n",
    "??? <- select(mpg, ??? )"
   ]
  },
  {
   "cell_type": "markdown",
   "metadata": {},
   "source": [
    "What happens when you run this? Was there any output?"
   ]
  },
  {
   "cell_type": "markdown",
   "metadata": {},
   "source": [
    "# Explore the data's structure\n",
    "The above block didn't have any output so we didn't see anything. But we can look at what is in this data frame\n",
    "\n",
    "Do you recall the function?"
   ]
  },
  {
   "cell_type": "code",
   "execution_count": null,
   "metadata": {
    "collapsed": true,
    "scrolled": true
   },
   "outputs": [],
   "source": [
    "# Hint: glimpse()\n",
    "???"
   ]
  },
  {
   "cell_type": "markdown",
   "metadata": {},
   "source": [
    "Notice a familiar output, but of just 4 variables.\n",
    "\n",
    "Note that the number of rows / observations, 234, has not changed.\n",
    "\n",
    "Troubleshooting tip: If you get the following output 'function (x, df1, df2, ncp, log = FALSE)' then you haven't successfully saved the mpg selected colunmns into the df variable. df is also a function as described above that we likely won't use so we are going to repurpose df to be our working variable name for our data. "
   ]
  },
  {
   "cell_type": "markdown",
   "metadata": {},
   "source": [
    "# head() and tail() \n",
    "There are two other functions that are helpful for looking at the data, head() and tail()\n",
    "\n",
    "Let's review the help on these."
   ]
  },
  {
   "cell_type": "code",
   "execution_count": null,
   "metadata": {
    "collapsed": true
   },
   "outputs": [],
   "source": [
    "# Help on head\n",
    "? head"
   ]
  },
  {
   "cell_type": "code",
   "execution_count": null,
   "metadata": {
    "collapsed": true
   },
   "outputs": [],
   "source": [
    "# Help on tail\n",
    "? tail"
   ]
  },
  {
   "cell_type": "markdown",
   "metadata": {},
   "source": [
    "Notice that both head and tail point to the same help page where both are described. This is pretty common with related functions. Feel free to close the help window if desired. "
   ]
  },
  {
   "cell_type": "markdown",
   "metadata": {},
   "source": [
    "# head {utils}\tR Documentation\n",
    "Return the First or Last Part of an Object\n",
    "## Description\n",
    "Returns the first or last parts of a vector, matrix, table, data frame or function. Since head() and tail() are generic functions, they may also have been extended to other classes."
   ]
  },
  {
   "cell_type": "markdown",
   "metadata": {},
   "source": [
    "# Using head() and tail()\n",
    "There are two other functions for looking at the data, head() and tail(). Run both of those passing in our data frame variable."
   ]
  },
  {
   "cell_type": "code",
   "execution_count": null,
   "metadata": {
    "collapsed": true
   },
   "outputs": [],
   "source": [
    "# Use head()\n",
    "??? (df)\n",
    "\n",
    "# Use tail()\n",
    "??? (df)"
   ]
  },
  {
   "cell_type": "markdown",
   "metadata": {},
   "source": [
    "You can see two tables. The first is the top 6 rows aka head(). The second is the bottom 6 row aka tail()."
   ]
  },
  {
   "cell_type": "markdown",
   "metadata": {},
   "source": [
    "# Altering the number of rows in head() and tail()\n",
    "What if we wanted a different number of rows returned? We can pass a number to head() and tail() representing the number of rows we want them to return. This is the n parameter.\n",
    "\n",
    "How could you find the parameter name? It is described in the function's help documentation."
   ]
  },
  {
   "cell_type": "code",
   "execution_count": null,
   "metadata": {
    "collapsed": true
   },
   "outputs": [],
   "source": [
    "# Return the top 2 rows\n",
    "head(df, n = ??? )\n",
    "\n",
    "# Return the bottom 3 rows\n",
    "tail(df, n = ??? )"
   ]
  },
  {
   "cell_type": "markdown",
   "metadata": {},
   "source": [
    "# Using positional arguments with head()\n",
    "Would head(df, 2) work without the 'n = '?"
   ]
  },
  {
   "cell_type": "code",
   "execution_count": null,
   "metadata": {
    "collapsed": true
   },
   "outputs": [],
   "source": [
    "# Return the first 7 rows using parameter position instead of name\n",
    "??? (df, 7)"
   ]
  },
  {
   "cell_type": "markdown",
   "metadata": {},
   "source": [
    "head() and tail() of a data frame is helpful to understand the data. I prefer glimpse() for this though because it includes the data types as well. "
   ]
  },
  {
   "cell_type": "markdown",
   "metadata": {},
   "source": [
    "# Help on arrange()\n",
    "What would be nice is to sort it first and then see the top or bottom of that sorting uses arrange()\n",
    "\n",
    "Let's pull up the help on arrange(). Note that we need to preface it with dplyr:: so it will look like dplyr::arrange in order to get the dplyr help page and not the plyr help page. "
   ]
  },
  {
   "cell_type": "code",
   "execution_count": null,
   "metadata": {
    "collapsed": true
   },
   "outputs": [],
   "source": [
    "? dplyr::arrange"
   ]
  },
  {
   "cell_type": "markdown",
   "metadata": {},
   "source": [
    "# arrange {dplyr}\tR Documentation\n",
    "Arrange rows by variables\n",
    "## Description\n",
    "Use desc() to sort a variable in descending order."
   ]
  },
  {
   "cell_type": "markdown",
   "metadata": {},
   "source": [
    "As you may be able to tell, arrange is not expecting you to name the parameters, just a comma separated list of column names. Also note that you can use desc(column_name) to change from ascending to descending order. \n",
    "\n",
    "You can provide multiple column names like arrange(data_frame_name, column1, column2, desc(column3)) to order by multiple columns. "
   ]
  },
  {
   "cell_type": "markdown",
   "metadata": {},
   "source": [
    "# Using arrange()\n",
    "Let's take our smaller data frame and find the vehicles with the worst highway miles per gallon. "
   ]
  },
  {
   "cell_type": "code",
   "execution_count": null,
   "metadata": {
    "collapsed": true
   },
   "outputs": [],
   "source": [
    "# arrange df by lowest hwy\n",
    "??? (df, hwy)"
   ]
  },
  {
   "cell_type": "markdown",
   "metadata": {},
   "source": [
    "I would hate to own the 12 mpg pickup with today's gas prices!! Consider an electric vehicle!!"
   ]
  },
  {
   "cell_type": "markdown",
   "metadata": {},
   "source": [
    "# Combining head() and arrange()\n",
    "Let's combine head and arrange to get the top 6 worst gas guzzlers. \n",
    "\n",
    "To do this you will need to wrap the arrange function inside the head function. The innermost function is processed first and it works its way out.\n",
    "\n",
    "It takes the form:\n",
    "\n",
    "outer_function(inner_function (something))"
   ]
  },
  {
   "cell_type": "code",
   "execution_count": null,
   "metadata": {
    "collapsed": true
   },
   "outputs": [],
   "source": [
    "# Display the top 6 worst gas guzzlers\n",
    "# Hint: head(), arrange()\n",
    "??? ( ??? (df, hwy))"
   ]
  },
  {
   "cell_type": "markdown",
   "metadata": {},
   "source": [
    "# Combining functions with parameters\n",
    "What if you want to pass parameters to these functions such as changing the n value of the head parameter? \n",
    "\n",
    "Where does the n parameter go?\n",
    "\n",
    "Positional argument function nesting takes the form:\n",
    "\n",
    "outer_function(inner_function(inner_parameter1, inner_parameter2), outer_parameter2)\n",
    "\n",
    "Where is outer_parameter1? It is the return value of inner_function. This is the positional way to specify parameters. It is also possible to specify the parameter name. This is the recommended way to make the code more readable when there is a lot of function nesting. \n",
    "\n",
    "Named argument function nesting takes the form:\n",
    "\n",
    "outer_function(outer_arg1 = inner_function(inner_arg1 = inner_parameter1, inner_arg2 = inner_parameter2), outer_arg2 = outer_parameter2)"
   ]
  },
  {
   "cell_type": "code",
   "execution_count": null,
   "metadata": {
    "collapsed": true,
    "scrolled": true
   },
   "outputs": [],
   "source": [
    "# Display the top 2 worst hwy vehicles \n",
    "# Hint: head(), arrange()\n",
    "head(arrange(df, ??? ), n = ??? )"
   ]
  },
  {
   "cell_type": "code",
   "execution_count": null,
   "metadata": {
    "collapsed": true
   },
   "outputs": [],
   "source": [
    "# How about the highest hwy\n",
    "# Hint: tail()\n",
    "??? (arrange(df, hwy))"
   ]
  },
  {
   "cell_type": "markdown",
   "metadata": {},
   "source": [
    "It worked but the highest is not at the top but the bottom of the list. Let's fix this next."
   ]
  },
  {
   "cell_type": "code",
   "execution_count": null,
   "metadata": {
    "collapsed": true,
    "scrolled": false
   },
   "outputs": [],
   "source": [
    "# Get the top 10 highest hwy vehicles\n",
    "# Hint: head(), arrange(), desc()\n",
    "head(arrange(df, ??? (hwy)), n = ??? )"
   ]
  },
  {
   "cell_type": "markdown",
   "metadata": {},
   "source": [
    "Much better!"
   ]
  },
  {
   "cell_type": "code",
   "execution_count": null,
   "metadata": {
    "collapsed": true,
    "scrolled": true
   },
   "outputs": [],
   "source": [
    "# Let's order by more than one column\n",
    "# Order by by class, then by highest hwy\n",
    "# Return top 10\n",
    "head(arrange(df, ??? , desc(hwy)), n = 10)"
   ]
  },
  {
   "cell_type": "markdown",
   "metadata": {},
   "source": [
    "We can see the highest 2seater hwy."
   ]
  },
  {
   "cell_type": "markdown",
   "metadata": {},
   "source": [
    "# Help on filter()\n",
    "\n",
    "Moving to filter, let's check the help. I like to scroll down and look at the examples.\n",
    "\n",
    "Need to use dplyr::filter to get the one we want."
   ]
  },
  {
   "cell_type": "code",
   "execution_count": null,
   "metadata": {
    "collapsed": true
   },
   "outputs": [],
   "source": [
    "? dplyr::filter"
   ]
  },
  {
   "cell_type": "markdown",
   "metadata": {},
   "source": [
    "# filter {dplyr}\tR Documentation\n",
    "Return rows with matching conditions\n",
    "## Description\n",
    "Use filter() find rows/cases where conditions are true. Unlike base subsetting, rows where the condition evaluates to NA are dropped."
   ]
  },
  {
   "cell_type": "markdown",
   "metadata": {},
   "source": [
    "# Using filter()\n",
    "The filter function takes a comma seperated list of boolean expressions, meaning that each expression evaluates to true or false or NA. The list of expressions are implicitly ANDed together. The comparison operators are <, <=, ==, >=, >, <>, !=. The last two both mean 'not equal'. Note that for equality it uses two equal signs also called a double equal. \n",
    "\n",
    "Within each expression, there can be sub expressions using nested parenthesis and those can be ANDed using '&' or ORed using '|'.\n"
   ]
  },
  {
   "cell_type": "code",
   "execution_count": null,
   "metadata": {
    "collapsed": true,
    "scrolled": true
   },
   "outputs": [],
   "source": [
    "# Let's find those 5 cylinder vehicles\n",
    "# Use the double equal\n",
    "filter(df, cyl ??? 5)"
   ]
  },
  {
   "cell_type": "markdown",
   "metadata": {},
   "source": [
    "There is no question now that there are 4 vehicles with 5 cylinders in this dataset. Is this accurate or is this a data quality issue?"
   ]
  },
  {
   "cell_type": "markdown",
   "metadata": {},
   "source": [
    "# Create and plot a filtered dataframe\n",
    "Let's create a filtered data frame removing 5 cylinder and then plot it."
   ]
  },
  {
   "cell_type": "code",
   "execution_count": null,
   "metadata": {
    "collapsed": true,
    "scrolled": false
   },
   "outputs": [],
   "source": [
    "# Name: df_filtered\n",
    "# Filter: remove 5 cylinder rows\n",
    "df_filtered <- filter(df, cyl ??? 5)  # != or <> can be used for not equal\n",
    "\n",
    "# Plot: scatterplot x = displ, y = hwy; facet by cyl\n",
    "ggplot(df_filtered, mapping = aes( ??? )) +\n",
    "   geom_point() +\n",
    "   facet_wrap( ??? )"
   ]
  },
  {
   "cell_type": "markdown",
   "metadata": {},
   "source": [
    "It looks better without the 5 column. Were you spoiled with the +jitter, +alpha, and +smooth? I was!"
   ]
  },
  {
   "cell_type": "markdown",
   "metadata": {},
   "source": [
    "# Filtered plot with some polish\n",
    "You can use the variable from the cell above df_filtered in this cell. Everything is running in the same R kernel. So it remembers everything regardless of where the code it, you just need to run it for the R kernel to know about it.\n",
    "\n",
    "Using the existing df_filtered data frame and the previous plot paramaters, add +jitter, +alpha (0.5), and +smooth (linear) with no confidence interval bands. Facet by class and cyl. Connect class to color."
   ]
  },
  {
   "cell_type": "code",
   "execution_count": null,
   "metadata": {
    "collapsed": true,
    "scrolled": false
   },
   "outputs": [],
   "source": [
    "# Plot: scatterplot x = displ, y = hwy, color = class; \n",
    "# facet class (rows) by cyl (columns)\n",
    "# Add jitter, alpha, and linear trend line and title\n",
    "ggplot(df_filtered, mapping = aes(x = displ, y = hwy, color = class)) +\n",
    "   ??? (alpha = 0.5) +\n",
    "   ??? (method = \"lm\", se = FALSE) +\n",
    "   ??? ( class ~ cyl ) + \n",
    "   labs(title = \"mpg trend: displ vs hwy by class and cyl\",\n",
    "       subtitle = \"Points jittered, alpha blended, colored by class, and faceted by class and cyl\")"
   ]
  },
  {
   "cell_type": "markdown",
   "metadata": {},
   "source": [
    "That is what I am used to."
   ]
  },
  {
   "cell_type": "markdown",
   "metadata": {},
   "source": [
    "# Plotting a subset of the data\n",
    "What would happen if we only plotted the first 10 rows?"
   ]
  },
  {
   "cell_type": "code",
   "execution_count": null,
   "metadata": {
    "collapsed": true,
    "scrolled": false
   },
   "outputs": [],
   "source": [
    "# Plot the first 10 rows of the prior plot\n",
    "ggplot( ??? (df_filtered, n = ??? ), mapping = aes(x = displ, y = hwy, color = class)) +\n",
    "   geom_jitter(alpha = 0.5) +\n",
    "   geom_smooth(method = \"lm\", se = FALSE) +\n",
    "   facet_grid( class ~ cyl ) + \n",
    "   labs(title = \"mpg trend: displ vs hwy by class and cyl\",\n",
    "       subtitle = \"First 10 rows +jitter, +alpha , colored by class, facet class x cyl\")"
   ]
  },
  {
   "cell_type": "markdown",
   "metadata": {},
   "source": [
    "Was df_filtered even sorted??"
   ]
  },
  {
   "cell_type": "markdown",
   "metadata": {},
   "source": [
    "# Plot top 10 results\n",
    "Let's plot the top 10 highest hwy of the previous plot."
   ]
  },
  {
   "cell_type": "code",
   "execution_count": null,
   "metadata": {
    "collapsed": true,
    "scrolled": false
   },
   "outputs": [],
   "source": [
    "# Plot the top 10 highest hwy of the prior plot\n",
    "ggplot(head( ??? (df_filtered, ??? (hwy)), n = 10), mapping = aes(x = displ, y = hwy, color = class)) +\n",
    "   geom_jitter(alpha = 0.5) +\n",
    "   geom_smooth(method = \"lm\", se = FALSE) +\n",
    "   facet_grid( class ~ cyl ) + \n",
    "   labs(title = \"mpg trend: displ vs hwy by class and cyl\",\n",
    "       subtitle = \"Top 10 hwy vehicles, +jitter, +alpha , colored by class, facet class x cyl\")"
   ]
  },
  {
   "cell_type": "markdown",
   "metadata": {},
   "source": [
    "Where did the other cylinder columns go?\n",
    "\n",
    "The facet default is to drop categories with no data but, you can change that if you like.\n",
    "\n",
    "Notice how the nested functions are getting a bit hard to manage. Function nesting can get confusing. You will learn another method later in the course called pipelining that will convert the function nesting into a serial pipeline that can make the code more readable. Pipelining is my preferred method, but it only works in certain situations so there will still be a need for function nesting."
   ]
  },
  {
   "cell_type": "markdown",
   "metadata": {},
   "source": [
    "# Code Summary\n",
    "Let's summarize the code we just did."
   ]
  },
  {
   "cell_type": "code",
   "execution_count": null,
   "metadata": {
    "collapsed": true
   },
   "outputs": [],
   "source": [
    "# Load libraries\n",
    "???\n",
    "\n",
    "# Explore data structure\n",
    "# Data: mpg\n",
    "???\n",
    "\n",
    "# Select hwy, displ, cyl, class\n",
    "# Store in df\n",
    "df <- select(mpg, ???)\n",
    "\n",
    "# Last 5 rows of df\n",
    "tail(df, n = ??? )\n",
    "\n",
    "# Name: df_filtered\n",
    "# Filter: remove 5 cylinder rows\n",
    "df_filtered <- filter(df, ??? )  # != or <> can be used for not equal\n",
    "\n",
    "# Store top 10 hwy \n",
    "df_top_hwy <- head(arrange(df_filtered, ??? ), n = 10)\n",
    "\n",
    "# Plot using above variable\n",
    "# x = displ, y = hwy, color = class; \n",
    "# facet class (rows) by cyl (columns)\n",
    "# Add jitter, alpha, and linear trend line and title\n",
    "ggplot( ??? , mapping = aes( ??? )) +\n",
    "   geom_jitter(alpha = 0.5) +\n",
    "   geom_smooth( ??? ) +\n",
    "   facet_grid( ??? ) + \n",
    "   labs(title = \"mpg trend: displ vs hwy by class and cyl\",\n",
    "       subtitle = \"Top 10 hwy vehicles, +jitter, +alpha , colored by class, facet class x cyl\")"
   ]
  }
 ],
 "metadata": {
  "kernelspec": {
   "display_name": "R 3.5.1",
   "language": "R",
   "name": "ir"
  },
  "language_info": {
   "codemirror_mode": "r",
   "file_extension": ".r",
   "mimetype": "text/x-r-source",
   "name": "R",
   "pygments_lexer": "r",
   "version": "3.5.1"
  }
 },
 "nbformat": 4,
 "nbformat_minor": 1
}
