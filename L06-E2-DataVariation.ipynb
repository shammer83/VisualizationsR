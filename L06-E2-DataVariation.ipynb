{
 "cells": [
  {
   "cell_type": "markdown",
   "metadata": {},
   "source": [
    "# Data Variation\n",
    "## Exercise Instructions\n",
    "\n",
    "* Complete all cells as instructed, replacing any ??? with the appropriate code\n",
    "\n",
    "* Execute Jupyter **Kernel** > **Restart & Run All** and ensure that all code blocks run without error\n",
    "\n",
    "You will explore ways to describe and quantify the variation or how distant the data points are from each other. \n",
    "\n",
    "## R Features\n",
    "* var()\n",
    "* sd()\n",
    "* sample_n()\n",
    "* runif()\n",
    "* rnorm()\n",
    "* rt()\n",
    "* geom_histogram()\n",
    "* geom_density()\n",
    "* geom_violin()\n",
    "* geom_vline()\n",
    "* Others: \n",
    "   * library()\n",
    "   \n",
    "   * c()\n",
    "   * str_c()\n",
    "   * cat()\n",
    "   * select()\n",
    "   * glimpse()\n",
    "   * print()\n",
    "   * head()\n",
    "   * ggplot()\n",
    "   * geom_point()\n",
    "   * labs()\n",
    "\n",
    "## Datasets\n",
    "* mpg"
   ]
  },
  {
   "cell_type": "code",
   "execution_count": 2,
   "metadata": {},
   "outputs": [
    {
     "name": "stderr",
     "output_type": "stream",
     "text": [
      "── \u001b[1mAttaching packages\u001b[22m ─────────────────────────────────────── tidyverse 1.2.1 ──\n",
      "\u001b[32m✔\u001b[39m \u001b[34mggplot2\u001b[39m 3.2.0     \u001b[32m✔\u001b[39m \u001b[34mpurrr  \u001b[39m 0.2.5\n",
      "\u001b[32m✔\u001b[39m \u001b[34mtibble \u001b[39m 2.1.3     \u001b[32m✔\u001b[39m \u001b[34mdplyr  \u001b[39m 0.8.3\n",
      "\u001b[32m✔\u001b[39m \u001b[34mtidyr  \u001b[39m 0.8.1     \u001b[32m✔\u001b[39m \u001b[34mstringr\u001b[39m 1.3.1\n",
      "\u001b[32m✔\u001b[39m \u001b[34mreadr  \u001b[39m 1.1.1     \u001b[32m✔\u001b[39m \u001b[34mforcats\u001b[39m 0.3.0\n",
      "── \u001b[1mConflicts\u001b[22m ────────────────────────────────────────── tidyverse_conflicts() ──\n",
      "\u001b[31m✖\u001b[39m \u001b[34mdplyr\u001b[39m::\u001b[32mfilter()\u001b[39m masks \u001b[34mstats\u001b[39m::filter()\n",
      "\u001b[31m✖\u001b[39m \u001b[34mdplyr\u001b[39m::\u001b[32mlag()\u001b[39m    masks \u001b[34mstats\u001b[39m::lag()\n"
     ]
    }
   ],
   "source": [
    "# Load libraries\n",
    "library(tidyverse)"
   ]
  },
  {
   "cell_type": "markdown",
   "metadata": {},
   "source": [
    "# Create sample data"
   ]
  },
  {
   "cell_type": "code",
   "execution_count": 3,
   "metadata": {
    "scrolled": true
   },
   "outputs": [
    {
     "name": "stdout",
     "output_type": "stream",
     "text": [
      "Observations: 234\n",
      "Variables: 3\n",
      "$ cyl   \u001b[3m\u001b[90m<int>\u001b[39m\u001b[23m 4, 4, 4, 4, 6, 6, 6, 4, 4, 4, 4, 6, 6, 6, 6, 6, 6, 8, 8, 8, 8, …\n",
      "$ displ \u001b[3m\u001b[90m<dbl>\u001b[39m\u001b[23m 1.8, 1.8, 2.0, 2.0, 2.8, 2.8, 3.1, 1.8, 1.8, 2.0, 2.0, 2.8, 2.8…\n",
      "$ hwy   \u001b[3m\u001b[90m<int>\u001b[39m\u001b[23m 29, 29, 31, 30, 26, 26, 27, 26, 25, 28, 27, 25, 25, 25, 25, 24,…\n"
     ]
    }
   ],
   "source": [
    "df <- mpg %>% select(cyl, displ, hwy)\n",
    "df %>% glimpse()"
   ]
  },
  {
   "cell_type": "markdown",
   "metadata": {},
   "source": [
    "# nrow(), ncol(), length(), dim()\n",
    "Get the size or length of a vector or data frame"
   ]
  },
  {
   "cell_type": "code",
   "execution_count": 5,
   "metadata": {},
   "outputs": [
    {
     "name": "stdout",
     "output_type": "stream",
     "text": [
      "[1] \"nrow():\"\n"
     ]
    },
    {
     "data": {
      "text/html": [
       "234"
      ],
      "text/latex": [
       "234"
      ],
      "text/markdown": [
       "234"
      ],
      "text/plain": [
       "[1] 234"
      ]
     },
     "metadata": {},
     "output_type": "display_data"
    },
    {
     "name": "stdout",
     "output_type": "stream",
     "text": [
      "[1] \"ncol():\"\n"
     ]
    },
    {
     "data": {
      "text/html": [
       "3"
      ],
      "text/latex": [
       "3"
      ],
      "text/markdown": [
       "3"
      ],
      "text/plain": [
       "[1] 3"
      ]
     },
     "metadata": {},
     "output_type": "display_data"
    },
    {
     "name": "stdout",
     "output_type": "stream",
     "text": [
      "[1] \"dim():\"\n"
     ]
    },
    {
     "data": {
      "text/html": [
       "<ol class=list-inline>\n",
       "\t<li>234</li>\n",
       "\t<li>3</li>\n",
       "</ol>\n"
      ],
      "text/latex": [
       "\\begin{enumerate*}\n",
       "\\item 234\n",
       "\\item 3\n",
       "\\end{enumerate*}\n"
      ],
      "text/markdown": [
       "1. 234\n",
       "2. 3\n",
       "\n",
       "\n"
      ],
      "text/plain": [
       "[1] 234   3"
      ]
     },
     "metadata": {},
     "output_type": "display_data"
    },
    {
     "name": "stdout",
     "output_type": "stream",
     "text": [
      "[1] \"length(df):\"\n"
     ]
    },
    {
     "data": {
      "text/html": [
       "3"
      ],
      "text/latex": [
       "3"
      ],
      "text/markdown": [
       "3"
      ],
      "text/plain": [
       "[1] 3"
      ]
     },
     "metadata": {},
     "output_type": "display_data"
    },
    {
     "name": "stdout",
     "output_type": "stream",
     "text": [
      "[1] \"length(df$cyl)\"\n"
     ]
    },
    {
     "data": {
      "text/html": [
       "234"
      ],
      "text/latex": [
       "234"
      ],
      "text/markdown": [
       "234"
      ],
      "text/plain": [
       "[1] 234"
      ]
     },
     "metadata": {},
     "output_type": "display_data"
    },
    {
     "name": "stdout",
     "output_type": "stream",
     "text": [
      "[1] \"glimpse()\"\n",
      "Observations: 234\n",
      "Variables: 3\n",
      "$ cyl   \u001b[3m\u001b[90m<int>\u001b[39m\u001b[23m 4, 4, 4, 4, 6, 6, 6, 4, 4, 4, 4, 6, 6, 6, 6, 6, 6, 8, 8, 8, 8, …\n",
      "$ displ \u001b[3m\u001b[90m<dbl>\u001b[39m\u001b[23m 1.8, 1.8, 2.0, 2.0, 2.8, 2.8, 3.1, 1.8, 1.8, 2.0, 2.0, 2.8, 2.8…\n",
      "$ hwy   \u001b[3m\u001b[90m<int>\u001b[39m\u001b[23m 29, 29, 31, 30, 26, 26, 27, 26, 25, 28, 27, 25, 25, 25, 25, 24,…\n"
     ]
    }
   ],
   "source": [
    "# Get the row and column count of df\n",
    "# Hint: nrow(), ncol(), length(), dim(), glimpse()\n",
    "print(\"nrow():\")\n",
    "nrow(df)\n",
    "\n",
    "print(\"ncol():\")\n",
    "ncol(df)\n",
    "\n",
    "print(\"dim():\")\n",
    "dim(df)\n",
    "\n",
    "print(\"length(df):\")\n",
    "length(df)\n",
    "\n",
    "print(\"length(df$cyl)\")\n",
    "length(df$cyl)\n",
    "\n",
    "print(\"glimpse()\")\n",
    "glimpse(df)"
   ]
  },
  {
   "cell_type": "markdown",
   "metadata": {},
   "source": [
    "Notice that length of a data frame returns the number of columns. The length of a column returns the number of rows in the data frame. Dim returns a vector with rows and columns."
   ]
  },
  {
   "cell_type": "markdown",
   "metadata": {},
   "source": [
    "# min(), max(), range()"
   ]
  },
  {
   "cell_type": "code",
   "execution_count": 6,
   "metadata": {},
   "outputs": [
    {
     "name": "stdout",
     "output_type": "stream",
     "text": [
      "[1] \"min\"\n"
     ]
    },
    {
     "data": {
      "text/html": [
       "4"
      ],
      "text/latex": [
       "4"
      ],
      "text/markdown": [
       "4"
      ],
      "text/plain": [
       "[1] 4"
      ]
     },
     "metadata": {},
     "output_type": "display_data"
    },
    {
     "name": "stdout",
     "output_type": "stream",
     "text": [
      "[1] \"max\"\n"
     ]
    },
    {
     "data": {
      "text/html": [
       "8"
      ],
      "text/latex": [
       "8"
      ],
      "text/markdown": [
       "8"
      ],
      "text/plain": [
       "[1] 8"
      ]
     },
     "metadata": {},
     "output_type": "display_data"
    },
    {
     "name": "stdout",
     "output_type": "stream",
     "text": [
      "[1] \"range\"\n"
     ]
    },
    {
     "data": {
      "text/html": [
       "<ol class=list-inline>\n",
       "\t<li>4</li>\n",
       "\t<li>8</li>\n",
       "</ol>\n"
      ],
      "text/latex": [
       "\\begin{enumerate*}\n",
       "\\item 4\n",
       "\\item 8\n",
       "\\end{enumerate*}\n"
      ],
      "text/markdown": [
       "1. 4\n",
       "2. 8\n",
       "\n",
       "\n"
      ],
      "text/plain": [
       "[1] 4 8"
      ]
     },
     "metadata": {},
     "output_type": "display_data"
    }
   ],
   "source": [
    "# Get the min, max, and range of df$cyl\n",
    "# Hint: min(), max(), range()\n",
    "print(\"min\")\n",
    "min(df$cyl)\n",
    "\n",
    "print(\"max\")\n",
    "max(df$cyl)\n",
    "\n",
    "print(\"range\")\n",
    "range(df$cyl)"
   ]
  },
  {
   "cell_type": "markdown",
   "metadata": {},
   "source": [
    "Notice the range is min and max in a vector."
   ]
  },
  {
   "cell_type": "markdown",
   "metadata": {},
   "source": [
    "# Calculate sum() of vectors and dataframe columns\n",
    "The sum() as an example of many statistics functions. Let's get familiar with the different context that these vectorized functions can be used in. \n",
    "\n",
    "1. The first is when the data is a vector. It could be a varaible that contains a vector of data. A similar form is a dataframe column. These columns can be treated as vectors as if they were saved as a new variable. It used the form dataframe_name$column_name. This is the dollar sign '$' notation like sum(dataframe_name$column_name) or dataframe_name$column_name %>% sum() if you prefer the pipe version.\n",
    "\n",
    "1. A second context is using the function inside a dataframe pipeline context such as mutate(). mutate() will pass the data into the function for that column name. Due to the way the tidyverse works, you just specify the 'bare' column name. No double quotes. No dollar sign. The form for this is dataframe_name %>% mutate(new_column_name = sum(column_name)) and the pipe version works too dataframe_name %>% mutate(new_column_name = column_name %>% sum())\n",
    "\n",
    "1. A third context is a group of columns in a dataframe where the function is applied to many at once. This is passing a number of vectors one-by-one into the function. Or you can think of it as *applying* the function to several columns. This is what the apply() function does in base R with the equivlaent tidyverse functions being map() and walk(). These are generic functions that can apply to data other than dataframes. Since we try to stick to dataframes, there are tidyverse dplyr verbs that can be used for this. We'll focus on this context. The verbe are 'if' and 'at' and 'all'. For example to apply a fuction to all dataframe columns, add '\\_all' to the end of the dplyr function like dataframe_name %>% summarize_all(function_name_without_parenthesis)."
   ]
  },
  {
   "cell_type": "code",
   "execution_count": 10,
   "metadata": {},
   "outputs": [
    {
     "data": {
      "text/html": [
       "1378"
      ],
      "text/latex": [
       "1378"
      ],
      "text/markdown": [
       "1378"
      ],
      "text/plain": [
       "[1] 1378"
      ]
     },
     "metadata": {},
     "output_type": "display_data"
    },
    {
     "data": {
      "text/html": [
       "812.4"
      ],
      "text/latex": [
       "812.4"
      ],
      "text/markdown": [
       "812.4"
      ],
      "text/plain": [
       "[1] 812.4"
      ]
     },
     "metadata": {},
     "output_type": "display_data"
    },
    {
     "data": {
      "text/html": [
       "5485"
      ],
      "text/latex": [
       "5485"
      ],
      "text/markdown": [
       "5485"
      ],
      "text/plain": [
       "[1] 5485"
      ]
     },
     "metadata": {},
     "output_type": "display_data"
    }
   ],
   "source": [
    "# Calculate the sum of the columns\n",
    "# Hint: sum() with dataframe column reference of dataframe_name$column_name\n",
    "sum(df$cyl)  # df$cyl\n",
    "sum(df$displ ) # df$displ\n",
    "df$hwy %>% sum() # df$hwy"
   ]
  },
  {
   "cell_type": "code",
   "execution_count": 11,
   "metadata": {},
   "outputs": [
    {
     "data": {
      "text/html": [
       "<table>\n",
       "<caption>A tibble: 1 × 3</caption>\n",
       "<thead>\n",
       "\t<tr><th scope=col>cyl_sum</th><th scope=col>displ_sum</th><th scope=col>hwy_sum</th></tr>\n",
       "\t<tr><th scope=col>&lt;int&gt;</th><th scope=col>&lt;dbl&gt;</th><th scope=col>&lt;int&gt;</th></tr>\n",
       "</thead>\n",
       "<tbody>\n",
       "\t<tr><td>1378</td><td>812.4</td><td>5485</td></tr>\n",
       "</tbody>\n",
       "</table>\n"
      ],
      "text/latex": [
       "A tibble: 1 × 3\n",
       "\\begin{tabular}{r|lll}\n",
       " cyl\\_sum & displ\\_sum & hwy\\_sum\\\\\n",
       " <int> & <dbl> & <int>\\\\\n",
       "\\hline\n",
       "\t 1378 & 812.4 & 5485\\\\\n",
       "\\end{tabular}\n"
      ],
      "text/markdown": [
       "\n",
       "A tibble: 1 × 3\n",
       "\n",
       "| cyl_sum &lt;int&gt; | displ_sum &lt;dbl&gt; | hwy_sum &lt;int&gt; |\n",
       "|---|---|---|\n",
       "| 1378 | 812.4 | 5485 |\n",
       "\n"
      ],
      "text/plain": [
       "  cyl_sum displ_sum hwy_sum\n",
       "1 1378    812.4     5485   "
      ]
     },
     "metadata": {},
     "output_type": "display_data"
    }
   ],
   "source": [
    "# Calculate the sum of cyl, displ, and hwy columns in dataframe df\n",
    "# Hint: summarize(), sum()\n",
    "df %>% summarize(cyl_sum = sum(cyl),\n",
    "                displ_sum = sum(displ),\n",
    "                hwy_sum = sum(hwy))"
   ]
  },
  {
   "cell_type": "code",
   "execution_count": 18,
   "metadata": {},
   "outputs": [
    {
     "data": {
      "text/html": [
       "<table>\n",
       "<caption>A tibble: 1 × 3</caption>\n",
       "<thead>\n",
       "\t<tr><th scope=col>cyl</th><th scope=col>displ</th><th scope=col>hwy</th></tr>\n",
       "\t<tr><th scope=col>&lt;int&gt;</th><th scope=col>&lt;dbl&gt;</th><th scope=col>&lt;int&gt;</th></tr>\n",
       "</thead>\n",
       "<tbody>\n",
       "\t<tr><td>1378</td><td>812.4</td><td>5485</td></tr>\n",
       "</tbody>\n",
       "</table>\n"
      ],
      "text/latex": [
       "A tibble: 1 × 3\n",
       "\\begin{tabular}{r|lll}\n",
       " cyl & displ & hwy\\\\\n",
       " <int> & <dbl> & <int>\\\\\n",
       "\\hline\n",
       "\t 1378 & 812.4 & 5485\\\\\n",
       "\\end{tabular}\n"
      ],
      "text/markdown": [
       "\n",
       "A tibble: 1 × 3\n",
       "\n",
       "| cyl &lt;int&gt; | displ &lt;dbl&gt; | hwy &lt;int&gt; |\n",
       "|---|---|---|\n",
       "| 1378 | 812.4 | 5485 |\n",
       "\n"
      ],
      "text/plain": [
       "  cyl  displ hwy \n",
       "1 1378 812.4 5485"
      ]
     },
     "metadata": {},
     "output_type": "display_data"
    }
   ],
   "source": [
    "# Calculate the sum of all columns in dataframe df\n",
    "# Hint: summarize_all(), sum without the parenthesis\n",
    "df %>% summarize_all(sum)"
   ]
  },
  {
   "cell_type": "markdown",
   "metadata": {},
   "source": [
    "# variance \n",
    "The variance is a measure of how close together or how far apart each data point is relative to the other data points. Is is often referred to as the spread of the data. "
   ]
  },
  {
   "cell_type": "code",
   "execution_count": null,
   "metadata": {
    "collapsed": true
   },
   "outputs": [],
   "source": [
    "# Display help on var()\n",
    "?var()"
   ]
  },
  {
   "cell_type": "markdown",
   "metadata": {},
   "source": [
    "# cor {stats}\tR Documentation\n",
    "Correlation, Variance and Covariance (Matrices)\n",
    "\n",
    "## Description\n",
    "\n",
    "var, cov and cor compute the variance of x and the covariance or correlation of x and y if these are vectors. If x and y are matrices then the covariances (or correlations) between the columns of x and the columns of y are computed.\n",
    "\n",
    "## Usage\n",
    "\n",
    "* var(x, y = NULL, na.rm = FALSE, use)"
   ]
  },
  {
   "cell_type": "code",
   "execution_count": 20,
   "metadata": {},
   "outputs": [
    {
     "data": {
      "text/html": [
       "2.59704339532666"
      ],
      "text/latex": [
       "2.59704339532666"
      ],
      "text/markdown": [
       "2.59704339532666"
      ],
      "text/plain": [
       "[1] 2.597043"
      ]
     },
     "metadata": {},
     "output_type": "display_data"
    },
    {
     "data": {
      "text/html": [
       "1.66915813799934"
      ],
      "text/latex": [
       "1.66915813799934"
      ],
      "text/markdown": [
       "1.66915813799934"
      ],
      "text/plain": [
       "[1] 1.669158"
      ]
     },
     "metadata": {},
     "output_type": "display_data"
    },
    {
     "data": {
      "text/html": [
       "35.4577785114266"
      ],
      "text/latex": [
       "35.4577785114266"
      ],
      "text/markdown": [
       "35.4577785114266"
      ],
      "text/plain": [
       "[1] 35.45778"
      ]
     },
     "metadata": {},
     "output_type": "display_data"
    },
    {
     "data": {
      "text/html": [
       "<table>\n",
       "<caption>A tibble: 1 × 3</caption>\n",
       "<thead>\n",
       "\t<tr><th scope=col>cyl</th><th scope=col>displ</th><th scope=col>hwy</th></tr>\n",
       "\t<tr><th scope=col>&lt;dbl&gt;</th><th scope=col>&lt;dbl&gt;</th><th scope=col>&lt;dbl&gt;</th></tr>\n",
       "</thead>\n",
       "<tbody>\n",
       "\t<tr><td>2.597043</td><td>1.669158</td><td>35.45778</td></tr>\n",
       "</tbody>\n",
       "</table>\n"
      ],
      "text/latex": [
       "A tibble: 1 × 3\n",
       "\\begin{tabular}{r|lll}\n",
       " cyl & displ & hwy\\\\\n",
       " <dbl> & <dbl> & <dbl>\\\\\n",
       "\\hline\n",
       "\t 2.597043 & 1.669158 & 35.45778\\\\\n",
       "\\end{tabular}\n"
      ],
      "text/markdown": [
       "\n",
       "A tibble: 1 × 3\n",
       "\n",
       "| cyl &lt;dbl&gt; | displ &lt;dbl&gt; | hwy &lt;dbl&gt; |\n",
       "|---|---|---|\n",
       "| 2.597043 | 1.669158 | 35.45778 |\n",
       "\n"
      ],
      "text/plain": [
       "  cyl      displ    hwy     \n",
       "1 2.597043 1.669158 35.45778"
      ]
     },
     "metadata": {},
     "output_type": "display_data"
    }
   ],
   "source": [
    "# Calculate the variance of the columns\n",
    "# Hint: var()\n",
    "var(df$cyl)  # df$cyl\n",
    "var(df$displ) # df$displ\n",
    "df$hwy %>% var() # df$hwy\n",
    "\n",
    "# Calculate the variance of all columns\n",
    "# Hint: summarize_all(), var()\n",
    "df %>% summarize_all( var )"
   ]
  },
  {
   "cell_type": "markdown",
   "metadata": {},
   "source": [
    "# standard deviation \n",
    "Standard deviation is the square root of the variance. This makes the result more meaningful at it is in the same units as the underlying data column. Variance is in squared units."
   ]
  },
  {
   "cell_type": "code",
   "execution_count": 21,
   "metadata": {
    "collapsed": true
   },
   "outputs": [],
   "source": [
    "# Display help on sd()\n",
    "? sd()"
   ]
  },
  {
   "cell_type": "markdown",
   "metadata": {},
   "source": [
    "# sd {stats}\tR Documentation\n",
    "Standard Deviation\n",
    "\n",
    "## Description\n",
    "\n",
    "This function computes the standard deviation of the values in x. If na.rm is TRUE then missing values are removed before computation proceeds.\n",
    "\n",
    "## Usage\n",
    "\n",
    "sd(x, na.rm = FALSE)\n",
    "## Arguments\n",
    "\n",
    "* x\ta numeric vector or an R object which is coercible to one by as.double(x).\n",
    "* na.rm\tlogical. Should missing values be removed?\n",
    "## Details\n",
    "\n",
    "Like var this uses denominator n - 1."
   ]
  },
  {
   "cell_type": "code",
   "execution_count": 27,
   "metadata": {},
   "outputs": [
    {
     "data": {
      "text/html": [
       "1.61153448468429"
      ],
      "text/latex": [
       "1.61153448468429"
      ],
      "text/markdown": [
       "1.61153448468429"
      ],
      "text/plain": [
       "[1] 1.611534"
      ]
     },
     "metadata": {},
     "output_type": "display_data"
    },
    {
     "data": {
      "text/html": [
       "1.29195903108393"
      ],
      "text/latex": [
       "1.29195903108393"
      ],
      "text/markdown": [
       "1.29195903108393"
      ],
      "text/plain": [
       "[1] 1.291959"
      ]
     },
     "metadata": {},
     "output_type": "display_data"
    },
    {
     "data": {
      "text/html": [
       "5.95464344116645"
      ],
      "text/latex": [
       "5.95464344116645"
      ],
      "text/markdown": [
       "5.95464344116645"
      ],
      "text/plain": [
       "[1] 5.954643"
      ]
     },
     "metadata": {},
     "output_type": "display_data"
    },
    {
     "data": {
      "text/html": [
       "<table>\n",
       "<caption>A tibble: 1 × 3</caption>\n",
       "<thead>\n",
       "\t<tr><th scope=col>cyl</th><th scope=col>displ</th><th scope=col>hwy</th></tr>\n",
       "\t<tr><th scope=col>&lt;dbl&gt;</th><th scope=col>&lt;dbl&gt;</th><th scope=col>&lt;dbl&gt;</th></tr>\n",
       "</thead>\n",
       "<tbody>\n",
       "\t<tr><td>1.611534</td><td>1.291959</td><td>5.954643</td></tr>\n",
       "</tbody>\n",
       "</table>\n"
      ],
      "text/latex": [
       "A tibble: 1 × 3\n",
       "\\begin{tabular}{r|lll}\n",
       " cyl & displ & hwy\\\\\n",
       " <dbl> & <dbl> & <dbl>\\\\\n",
       "\\hline\n",
       "\t 1.611534 & 1.291959 & 5.954643\\\\\n",
       "\\end{tabular}\n"
      ],
      "text/markdown": [
       "\n",
       "A tibble: 1 × 3\n",
       "\n",
       "| cyl &lt;dbl&gt; | displ &lt;dbl&gt; | hwy &lt;dbl&gt; |\n",
       "|---|---|---|\n",
       "| 1.611534 | 1.291959 | 5.954643 |\n",
       "\n"
      ],
      "text/plain": [
       "  cyl      displ    hwy     \n",
       "1 1.611534 1.291959 5.954643"
      ]
     },
     "metadata": {},
     "output_type": "display_data"
    },
    {
     "data": {
      "text/html": [
       "<table>\n",
       "<caption>A tibble: 1 × 3</caption>\n",
       "<thead>\n",
       "\t<tr><th scope=col>cyl</th><th scope=col>displ</th><th scope=col>hwy</th></tr>\n",
       "\t<tr><th scope=col>&lt;dbl&gt;</th><th scope=col>&lt;dbl&gt;</th><th scope=col>&lt;dbl&gt;</th></tr>\n",
       "</thead>\n",
       "<tbody>\n",
       "\t<tr><td>1.611534</td><td>1.291959</td><td>5.954643</td></tr>\n",
       "</tbody>\n",
       "</table>\n"
      ],
      "text/latex": [
       "A tibble: 1 × 3\n",
       "\\begin{tabular}{r|lll}\n",
       " cyl & displ & hwy\\\\\n",
       " <dbl> & <dbl> & <dbl>\\\\\n",
       "\\hline\n",
       "\t 1.611534 & 1.291959 & 5.954643\\\\\n",
       "\\end{tabular}\n"
      ],
      "text/markdown": [
       "\n",
       "A tibble: 1 × 3\n",
       "\n",
       "| cyl &lt;dbl&gt; | displ &lt;dbl&gt; | hwy &lt;dbl&gt; |\n",
       "|---|---|---|\n",
       "| 1.611534 | 1.291959 | 5.954643 |\n",
       "\n"
      ],
      "text/plain": [
       "  cyl      displ    hwy     \n",
       "1 1.611534 1.291959 5.954643"
      ]
     },
     "metadata": {},
     "output_type": "display_data"
    }
   ],
   "source": [
    "# Calculate the standard deviation of the columns\n",
    "# Hint: sd()\n",
    "sd(df$cyl)  # df$cyl\n",
    "sd(df$displ) # df$displ\n",
    "sd(df$hwy) # df$hwy\n",
    "\n",
    "# Calculate the standard deviation of all columns\n",
    "# Hint: summarize_all(), sd()\n",
    "df %>% summarize_all(sd)\n",
    "\n",
    "# Compare to the square root of the variance\n",
    "# Calculate the square root of variance of all columns\n",
    "# Hint: summarize_all(), var(), mutate_all(), sqrt()\n",
    "df %>% summarize_all(var) %>%mutate_all(sqrt)"
   ]
  },
  {
   "cell_type": "markdown",
   "metadata": {},
   "source": [
    "Notice it is using the n - 1 sample definition, not the population. Confirm that the standard deviation is indeed the square root of the variance."
   ]
  },
  {
   "cell_type": "markdown",
   "metadata": {},
   "source": [
    "# Standard error\n",
    "The standard error is the standard deviation divided by the square root of the row count (n). This will be important later when performing hypothsis testing. It is related to standard deviation so it fits here nicely. It is the standard deviation divided by the square root of the sample size (n). "
   ]
  },
  {
   "cell_type": "code",
   "execution_count": 28,
   "metadata": {},
   "outputs": [
    {
     "data": {
      "text/html": [
       "0.105349304926063"
      ],
      "text/latex": [
       "0.105349304926063"
      ],
      "text/markdown": [
       "0.105349304926063"
      ],
      "text/plain": [
       "[1] 0.1053493"
      ]
     },
     "metadata": {},
     "output_type": "display_data"
    },
    {
     "data": {
      "text/html": [
       "0.0844580039776848"
      ],
      "text/latex": [
       "0.0844580039776848"
      ],
      "text/markdown": [
       "0.0844580039776848"
      ],
      "text/plain": [
       "[1] 0.084458"
      ]
     },
     "metadata": {},
     "output_type": "display_data"
    },
    {
     "data": {
      "text/html": [
       "0.389267219269167"
      ],
      "text/latex": [
       "0.389267219269167"
      ],
      "text/markdown": [
       "0.389267219269167"
      ],
      "text/plain": [
       "[1] 0.3892672"
      ]
     },
     "metadata": {},
     "output_type": "display_data"
    }
   ],
   "source": [
    "# Calculate the standard error of the columns\n",
    "# Hint: sd(column) / sqrt(length(column))\n",
    "sd(df$cyl) / sqrt(length(df$cyl)) # df$cyl\n",
    "sd(df$displ) / sqrt(length(df$displ)) # df$displ\n",
    "sd(df$hwy ) / sqrt( length(df$hwy)) # df$hwy"
   ]
  },
  {
   "cell_type": "markdown",
   "metadata": {},
   "source": [
    "# scale and z-score\n",
    "z-score is (value - mean()) / sd() which centers the mean at 0 and scales to standard deviations. The default scale function transforms values into z-scores"
   ]
  },
  {
   "cell_type": "code",
   "execution_count": null,
   "metadata": {
    "collapsed": true
   },
   "outputs": [],
   "source": [
    "# Display help on scale()\n",
    "?scale()"
   ]
  },
  {
   "cell_type": "markdown",
   "metadata": {},
   "source": [
    "# scale {base}\tR Documentation\n",
    "Scaling and Centering of Matrix-like Objects\n",
    "\n",
    "## Description\n",
    "\n",
    "scale is generic function whose default method centers and/or scales the columns of a numeric matrix.\n",
    "\n",
    "## Usage\n",
    "\n",
    "scale(x, center = TRUE, scale = TRUE)"
   ]
  },
  {
   "cell_type": "code",
   "execution_count": 29,
   "metadata": {},
   "outputs": [
    {
     "data": {
      "text/html": [
       "<ol class=list-inline>\n",
       "\t<li>-1.29399991143083</li>\n",
       "\t<li>-1.29399991143083</li>\n",
       "\t<li>-1.13919624104493</li>\n",
       "\t<li>-1.13919624104493</li>\n",
       "\t<li>-0.519981559501346</li>\n",
       "\t<li>-0.519981559501346</li>\n",
       "</ol>\n"
      ],
      "text/latex": [
       "\\begin{enumerate*}\n",
       "\\item -1.29399991143083\n",
       "\\item -1.29399991143083\n",
       "\\item -1.13919624104493\n",
       "\\item -1.13919624104493\n",
       "\\item -0.519981559501346\n",
       "\\item -0.519981559501346\n",
       "\\end{enumerate*}\n"
      ],
      "text/markdown": [
       "1. -1.29399991143083\n",
       "2. -1.29399991143083\n",
       "3. -1.13919624104493\n",
       "4. -1.13919624104493\n",
       "5. -0.519981559501346\n",
       "6. -0.519981559501346\n",
       "\n",
       "\n"
      ],
      "text/plain": [
       "[1] -1.2939999 -1.2939999 -1.1391962 -1.1391962 -0.5199816 -0.5199816"
      ]
     },
     "metadata": {},
     "output_type": "display_data"
    },
    {
     "data": {
      "text/html": [
       "<table>\n",
       "<caption>A matrix: 6 × 1 of type dbl</caption>\n",
       "<tbody>\n",
       "\t<tr><td>-1.2939999</td></tr>\n",
       "\t<tr><td>-1.2939999</td></tr>\n",
       "\t<tr><td>-1.1391962</td></tr>\n",
       "\t<tr><td>-1.1391962</td></tr>\n",
       "\t<tr><td>-0.5199816</td></tr>\n",
       "\t<tr><td>-0.5199816</td></tr>\n",
       "</tbody>\n",
       "</table>\n"
      ],
      "text/latex": [
       "A matrix: 6 × 1 of type dbl\n",
       "\\begin{tabular}{l}\n",
       "\t -1.2939999\\\\\n",
       "\t -1.2939999\\\\\n",
       "\t -1.1391962\\\\\n",
       "\t -1.1391962\\\\\n",
       "\t -0.5199816\\\\\n",
       "\t -0.5199816\\\\\n",
       "\\end{tabular}\n"
      ],
      "text/markdown": [
       "\n",
       "A matrix: 6 × 1 of type dbl\n",
       "\n",
       "| -1.2939999 |\n",
       "| -1.2939999 |\n",
       "| -1.1391962 |\n",
       "| -1.1391962 |\n",
       "| -0.5199816 |\n",
       "| -0.5199816 |\n",
       "\n"
      ],
      "text/plain": [
       "     [,1]      \n",
       "[1,] -1.2939999\n",
       "[2,] -1.2939999\n",
       "[3,] -1.1391962\n",
       "[4,] -1.1391962\n",
       "[5,] -0.5199816\n",
       "[6,] -0.5199816"
      ]
     },
     "metadata": {},
     "output_type": "display_data"
    }
   ],
   "source": [
    "# Calculate the z score of df$displ \n",
    "# using formula (value - mean()) / sd()\n",
    "# Display the first few rows\n",
    "# Hint: mean(), sd(), head()\n",
    "((df$displ - mean(df$displ)) / sd(df$displ)) %>% head()\n",
    "\n",
    "# Calculate the z score of df$displ \n",
    "# using scale() for comparison\n",
    "# Display the first few rows\n",
    "# Hint: scale()\n",
    "scale(df$displ) %>% head()  # df$displ"
   ]
  },
  {
   "cell_type": "markdown",
   "metadata": {},
   "source": [
    "Notice that they produce equivalent values. scale() returned a matrix object which made it print a bit differently."
   ]
  },
  {
   "cell_type": "markdown",
   "metadata": {},
   "source": [
    "# Scale all values in a data frame\n",
    "We can use the '\\_if' verb in the dplyr function to apply a function to just a subset of dataframe columns. Here we want to apply the scale function to only the numeric columns. dataframe_name %>% mutate_if(is.numeric, scale) is a quick way to do this. Notice it takes two functions. The first, is.numeric returns a boolean for each column in the dataframe. If the value is True, then that column gets passed to the second function, scale. This is done for all columns piped in from the dataframe. Note that when applying functions, you leave off the parenthesis for those functions."
   ]
  },
  {
   "cell_type": "code",
   "execution_count": 33,
   "metadata": {},
   "outputs": [
    {
     "name": "stdout",
     "output_type": "stream",
     "text": [
      "Observations: 234\n",
      "Variables: 11\n",
      "$ manufacturer \u001b[3m\u001b[90m<chr>\u001b[39m\u001b[23m \"audi\", \"audi\", \"audi\", \"audi\", \"audi\", \"audi\", \"audi\", …\n",
      "$ model        \u001b[3m\u001b[90m<chr>\u001b[39m\u001b[23m \"a4\", \"a4\", \"a4\", \"a4\", \"a4\", \"a4\", \"a4\", \"a4 quattro\", …\n",
      "$ displ        \u001b[3m\u001b[90m<dbl[,1]>\u001b[39m\u001b[23m <matrix[26 x 1]>\n",
      "$ year         \u001b[3m\u001b[90m<dbl[,1]>\u001b[39m\u001b[23m <matrix[26 x 1]>\n",
      "$ cyl          \u001b[3m\u001b[90m<dbl[,1]>\u001b[39m\u001b[23m <matrix[26 x 1]>\n",
      "$ trans        \u001b[3m\u001b[90m<chr>\u001b[39m\u001b[23m \"auto(l5)\", \"manual(m5)\", \"manual(m6)\", \"auto(av)\", \"aut…\n",
      "$ drv          \u001b[3m\u001b[90m<chr>\u001b[39m\u001b[23m \"f\", \"f\", \"f\", \"f\", \"f\", \"f\", \"f\", \"4\", \"4\", \"4\", \"4\", \"…\n",
      "$ cty          \u001b[3m\u001b[90m<dbl[,1]>\u001b[39m\u001b[23m <matrix[26 x 1]>\n",
      "$ hwy          \u001b[3m\u001b[90m<dbl[,1]>\u001b[39m\u001b[23m <matrix[26 x 1]>\n",
      "$ fl           \u001b[3m\u001b[90m<chr>\u001b[39m\u001b[23m \"p\", \"p\", \"p\", \"p\", \"p\", \"p\", \"p\", \"p\", \"p\", \"p\", \"p\", \"…\n",
      "$ class        \u001b[3m\u001b[90m<chr>\u001b[39m\u001b[23m \"compact\", \"compact\", \"compact\", \"compact\", \"compact\", \"…\n"
     ]
    },
    {
     "data": {
      "text/plain": [
       " manufacturer          model                 displ.V1             year.V1      \n",
       " Length:234         Length:234         Min.   :-1.4488036   Min.   :-0.997861  \n",
       " Class :character   Class :character   1st Qu.:-0.8295889   1st Qu.:-0.997861  \n",
       " Mode  :character   Mode  :character   Median :-0.1329724   Median : 0.000000  \n",
       "                                       Mean   : 0.0000000   Mean   : 0.000000  \n",
       "                                       3rd Qu.: 0.8732515   3rd Qu.: 0.997861  \n",
       "                                       Max.   : 2.7308955   Max.   : 0.997861  \n",
       "        cyl.V1           trans               drv                  cty.V1       \n",
       " Min.   :-1.1721058   Length:234         Length:234         Min.   :-1.846587  \n",
       " 1st Qu.:-1.1721058   Class :character   Class :character   1st Qu.:-0.671760  \n",
       " Median : 0.0689474   Mode  :character   Mode  :character   Median : 0.033136  \n",
       " Mean   : 0.0000000                                         Mean   : 0.000000  \n",
       " 3rd Qu.: 1.3100006                                         3rd Qu.: 0.503067  \n",
       " Max.   : 1.3100006                                         Max.   : 4.262513  \n",
       "       hwy.V1             fl               class          \n",
       " Min.   :-1.921218   Length:234         Length:234        \n",
       " 1st Qu.:-0.913601   Class :character   Class :character  \n",
       " Median : 0.094016   Mode  :character   Mode  :character  \n",
       " Mean   : 0.000000                                        \n",
       " 3rd Qu.: 0.597824                                        \n",
       " Max.   : 3.452739                                        "
      ]
     },
     "metadata": {},
     "output_type": "display_data"
    }
   ],
   "source": [
    "# Scale all numeric values of mpg\n",
    "# Store result in df_scaled\n",
    "# Hint: mutate_if(), is.numeric(), scale()\n",
    "df_scaled <- mpg %>% mutate_if(is.numeric,scale)\n",
    "\n",
    "# Explore result\n",
    "# Hint: glimpse(), summary()\n",
    "df_scaled %>% glimpse() %>% summary()"
   ]
  },
  {
   "cell_type": "markdown",
   "metadata": {},
   "source": [
    "Notice the summary has a mean of 0 for the numeric columns with a range in the + / - single digits."
   ]
  },
  {
   "cell_type": "markdown",
   "metadata": {},
   "source": [
    "# Visualizing data variation using histograms\n",
    "If we have a continuous variable and want to understand how spread out the values are from each other, the histogram is my first choice. A histogram counts the number of data points in equally spaced ranges called bins. \n",
    "\n",
    "Let's give it a try with geom_histogram()"
   ]
  },
  {
   "cell_type": "code",
   "execution_count": 34,
   "metadata": {},
   "outputs": [
    {
     "name": "stderr",
     "output_type": "stream",
     "text": [
      "`stat_bin()` using `bins = 30`. Pick better value with `binwidth`.\n"
     ]
    },
    {
     "data": {
      "image/png": "[encoded data removed]",
      "text/plain": [
       "plot without title"
      ]
     },
     "metadata": {},
     "output_type": "display_data"
    }
   ],
   "source": [
    "# Histogram of mpg x=hwy\n",
    "# Hint: geom_histogram()\n",
    "mpg %>% ggplot(aes(x=hwy )) + \n",
    "   geom_histogram() +\n",
    "   labs(title=\"Histogram of Highway MPG\")"
   ]
  },
  {
   "cell_type": "markdown",
   "metadata": {},
   "source": [
    "Notice the warning that 30 bins were used. In looking at the plot, it seems that there are too many bins. We can do better."
   ]
  },
  {
   "cell_type": "markdown",
   "metadata": {},
   "source": [
    "# Histogram with binwidth defined\n",
    "Let's specify a binwidth. This would be the width in highway miles per gallon. Let's try 5 mpg. I also want to see the bins a bit more clearly so let's adjust the color and fill and theme. Color is the outline. Fill is the inside. Theme makes it easy to change the background without having to find a detailed reference of how to change individual plot properties. \n",
    "\n",
    "My quick and dirty histogram formatting is color=\"black\", fill=\"gray\" and theme_classic(). Let's also define a variable for the binwidth so it is easy to change and try out different values. Since the shape can change drastically depending on the binwidth, it is important to convey the binwidth on the plot. I use the subtitle and str_c() with the binwidth variable to do this automatically."
   ]
  },
  {
   "cell_type": "code",
   "execution_count": 39,
   "metadata": {},
   "outputs": [
    {
     "data": {
      "image/png": "[encoded data removed]",
      "text/plain": [
       "plot without title"
      ]
     },
     "metadata": {},
     "output_type": "display_data"
    }
   ],
   "source": [
    "# Histogram of mpg x=hwy\n",
    "# Create a variable for binwidth and use it to adjust the binwidth\n",
    "# Display the binwidth in the subtitle\n",
    "# Change the bars to gray with black outline and white background\n",
    "bw <- 5\n",
    "mpg %>% ggplot(aes(x=hwy)) + \n",
    "   geom_histogram(binwidth= bw , color= 'black' , fill= 'gray' ) +\n",
    "   theme_classic() +\n",
    "   labs(title=\"Histogram of Highway MPG\",\n",
    "       subtitle=str_c(\"Binwidth:\", bw ),\n",
    "       x=\"Highway MPG\", y=\"Vehicle count\")"
   ]
  },
  {
   "cell_type": "markdown",
   "metadata": {},
   "source": [
    "That looks much better. "
   ]
  },
  {
   "cell_type": "markdown",
   "metadata": {},
   "source": [
    "# Frequency Plot\n",
    "If you are looking for the shape of a histogram, but without the bars, try the frequency plot, geom_freqpoly(). It take the same binwidth parameter. You an just replace geom_histogram() with geom_freqpoly() without the fill parameter."
   ]
  },
  {
   "cell_type": "code",
   "execution_count": 42,
   "metadata": {},
   "outputs": [
    {
     "data": {
      "image/png": "[encoded data removed]",
      "text/plain": [
       "plot without title"
      ]
     },
     "metadata": {},
     "output_type": "display_data"
    }
   ],
   "source": [
    "# Frequency plot of mpg x=hwy\n",
    "# Create a variable for binwidth and use it to adjust the binwidth\n",
    "# Display the binwidth in the subtitle\n",
    "# Hint: geom_freqpoly()\n",
    "bw <- 5\n",
    "mpg %>% ggplot(aes(x=hwy)) + \n",
    "   geom_freqpoly(binwidth=bw, color=\"black\") +\n",
    "   theme_classic() +\n",
    "   labs(title=\"Frequency of Highway MPG\",\n",
    "       subtitle=str_c(\"Binwidth:\", bw),\n",
    "       x=\"Highway MPG\", y=\"Vehicle count\")"
   ]
  },
  {
   "cell_type": "markdown",
   "metadata": {},
   "source": [
    "Does the frequency plot look like the shape of the histogram for a matching binwidth? I think it does."
   ]
  },
  {
   "cell_type": "markdown",
   "metadata": {},
   "source": [
    "# Probability Density\n",
    "If you are looking for a smoother, version of the frequency plot, look no further than geom_density(). It is the geom_smooth version of geom_freqpoly. Density plots are good at visualizing the spread of continuous data in terms of probability...which is an area plot with the total area summing to 1. This means that the y axis reflects the probability of that value occurring in the underlying data distribution.\n",
    "\n",
    "Let's give it a try."
   ]
  },
  {
   "cell_type": "code",
   "execution_count": 44,
   "metadata": {},
   "outputs": [
    {
     "data": {
      "image/png": "[encoded data removed]",
      "text/plain": [
       "plot without title"
      ]
     },
     "metadata": {},
     "output_type": "display_data"
    }
   ],
   "source": [
    "# Density of mpg x=hwy\n",
    "# Use fill=\"blue\" to show the area\n",
    "# Hint: geom_density() with fill\n",
    "mpg %>% ggplot(aes(x=hwy)) + \n",
    "   geom_density(fill= \"gray\" ) +\n",
    "   theme_classic() +\n",
    "   labs(title=\"Density of Highway MPG\",\n",
    "       subtitle=\"\",\n",
    "       x=\"Highway MPG\", y=\"Vehicle count\")"
   ]
  },
  {
   "cell_type": "markdown",
   "metadata": {},
   "source": [
    "How does this shape compare to the prior histogram? Does it capture the pattern?"
   ]
  },
  {
   "cell_type": "markdown",
   "metadata": {},
   "source": [
    "# geom_rug()\n",
    "I often find the density plot is missing the number of specific points. The problem is that it connects the dots in a line so there is 'area' that, in some cases doesn't include any data in that region. We can overlay a strip of tick marks to indicate a data point to the bottom of a density plot."
   ]
  },
  {
   "cell_type": "code",
   "execution_count": 45,
   "metadata": {},
   "outputs": [
    {
     "data": {
      "image/png": "[encoded data removed]",
      "text/plain": [
       "plot without title"
      ]
     },
     "metadata": {},
     "output_type": "display_data"
    }
   ],
   "source": [
    "# Density of mpg x=hwy\n",
    "# Add a translucent(0.2) rug plot, colored blue so you can spot it.\n",
    "# Hint: geom_rug() with alpha\n",
    "mpg %>% ggplot(aes(x=hwy)) + \n",
    "   geom_density(fill=\"blue\") +\n",
    "   geom_rug(alpha= 0.2 , color=\"blue\") +\n",
    "   theme_classic() +\n",
    "   labs(title=\"Density of Highway MPG\",\n",
    "       subtitle=\"With rug plot\",\n",
    "       x=\"Highway MPG\", y=\"Vehicle count\")"
   ]
  },
  {
   "cell_type": "markdown",
   "metadata": {},
   "source": [
    "It is subtle, but adds a bit of information."
   ]
  },
  {
   "cell_type": "markdown",
   "metadata": {},
   "source": [
    "# Histogram + Density + Rug\n",
    "Is it possible to have too much of a good thing? Let's find out. We'll combine a histogram, an density plot and a rug all together. Since both histogram and density share the same y axis, we need to use density as the y axis for the density plot to work. We then need to tell geom_histogram() to use the density calculation. \n",
    "\n",
    "To do this you add ..density.. like geom_histogram(mapping = aes(y=..density..))\n",
    "\n",
    "Yes the two preceding and trailing periods are necessary. It was Wickham's way to avoid column naming conflicts with the source dataframe."
   ]
  },
  {
   "cell_type": "code",
   "execution_count": null,
   "metadata": {
    "collapsed": true
   },
   "outputs": [],
   "source": [
    "# Histogram and Density of mpg x=hwy\n",
    "# A blue translucent(0.2) rug plot\n",
    "# A blue density fill with alpha= 0.2\n",
    "# Hint: geom_rug() with alpha, geom_density() with alpha\n",
    "# Hint: geom_histogram(mapping = aes(y=..density..), ...)\n",
    "bw <- 5\n",
    "mpg %>% ggplot(aes(x=hwy)) + \n",
    "   ??? (mapping = aes(y=..density..), binwidth=bw, color=\"black\", fill=\"gray\") +\n",
    "   ??? (fill=\"blue\", alpha=0.2) +\n",
    "   ??? (alpha=0.2, color=\"blue\") +\n",
    "   theme_classic() +\n",
    "   labs(title=\"Density of Highway MPG\",\n",
    "       subtitle=str_c(\"Binwidth:\", bw),\n",
    "       x=\"Highway MPG\", y=\"Vehicle count\")"
   ]
  },
  {
   "cell_type": "markdown",
   "metadata": {},
   "source": [
    "Waht do you think? I think I can manage understanding all three plots together. Presenting to the business, I would always use a histogram with counts. That is the easiest to understand among the three."
   ]
  },
  {
   "cell_type": "markdown",
   "metadata": {},
   "source": [
    "# Violin plot by categorical variable\n",
    "Another plot to show the distribution of the data is the violin plot, geom_violin(). It is a cross between a boxplot and a density plot. It works best with a categorical variable and a continuous variable like the boxplot. Let's give it a try."
   ]
  },
  {
   "cell_type": "code",
   "execution_count": 46,
   "metadata": {},
   "outputs": [
    {
     "data": {
      "image/png": "[encoded data removed]",
      "text/plain": [
       "plot without title"
      ]
     },
     "metadata": {},
     "output_type": "display_data"
    }
   ],
   "source": [
    "# Violin of mpg x=cyl, y=hwy, fill=cyl, \n",
    "# filter to 4, 6, 8 cylinders and convert to factor\n",
    "# Hint: geom_violin(), as.factor(), filter(), %in%, c()\n",
    "mpg %>% filter(cyl %in% c(4, 6, 8)) %>% \n",
    "   mutate(cyl=as.factor(cyl)) %>% \n",
    "   ggplot(aes(x=as.factor(cyl), y=hwy, fill=cyl)) + \n",
    "      geom_violin() +\n",
    "      theme_light() +\n",
    "      labs(title=\"Highway MPG by Cylinder\",\n",
    "          subtitle=\"Violin plot\",\n",
    "          y=\"Highway MPG\")"
   ]
  },
  {
   "cell_type": "markdown",
   "metadata": {},
   "source": [
    "# Summary\n",
    "\n",
    "We calculated the variance and standard deviation as a meausre of data spread. We confirmed that the standard deviation is the square root of the variance. We calculated standard error and the z-score using the formula and finished with the use of scale to get the z-score and was able to scale all of the numeric variables in a data frame. All the while, we got a bit more comfortable with applying statistical functions in different contexts. We then look at visualizing data variance with histograms, frequency plots, density plots, and violin plots. "
   ]
  }
 ],
 "metadata": {
  "kernelspec": {
   "display_name": "R 3.5.1",
   "language": "R",
   "name": "ir"
  },
  "language_info": {
   "codemirror_mode": "r",
   "file_extension": ".r",
   "mimetype": "text/x-r-source",
   "name": "R",
   "pygments_lexer": "r",
   "version": "3.5.1"
  }
 },
 "nbformat": 4,
 "nbformat_minor": 1
}
