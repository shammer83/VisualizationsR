{
 "cells": [
  {
   "cell_type": "markdown",
   "metadata": {},
   "source": [
    "# L02-E2-Overplotting\n",
    "## Exercise Instructions\n",
    "\n",
    "* Complete all cells as instructed, replacing any ??? with the appropriate code\n",
    "\n",
    "* Execute Jupyter **Kernel** > **Restart & Run All** and ensure that all code blocks run without error\n",
    "\n"
   ]
  },
  {
   "cell_type": "markdown",
   "metadata": {},
   "source": [
    "# Overplotting\n",
    "\n",
    "We may not have been seeing the most accurate picture of the data when we plot every observation because it is possible there could be two or more identical observations plotted on top of each other and we couldn’t see that. This is especially the case plotting discrete or categorical variables in a scatterplot. \n",
    "\n",
    "One way to see more of the points and avoid them being plotted on top of each other is to move them around a small random amount. ggplot calls this jitter. We will jitter the data a bit. Ironically, we are changing the data making it less accurate in order to more accurately analyze it visually. Many geoms have a jitter parameter, but since it is so common for scatterplots, it got its own geom for that, geom_jitter().  It is shorthand for geom_point() with the jitter parameter active. I find the code is easier to read when I use a specialized geom as compared to a parameter to a more generic geom.\n",
    "\n",
    "## R Features\n",
    "* library()\n",
    "* glimpse()\n",
    "* ggplot()\n",
    "* geom_point()\n",
    "* geom_smooth()\n",
    "* geom_jitter()\n",
    "* labs()\n",
    "\n",
    "## Datasets\n",
    "* mpg"
   ]
  },
  {
   "cell_type": "markdown",
   "metadata": {},
   "source": [
    "## Library and mpg dataset"
   ]
  },
  {
   "cell_type": "code",
   "execution_count": null,
   "metadata": {
    "collapsed": true
   },
   "outputs": [],
   "source": [
    "# Load the tidyverse library\n",
    "???"
   ]
  },
  {
   "cell_type": "code",
   "execution_count": null,
   "metadata": {
    "collapsed": true,
    "scrolled": false
   },
   "outputs": [],
   "source": [
    "# Explore the data\n",
    "# Dataframe: mpg\n",
    "# Hint: glimpse()\n",
    "???"
   ]
  },
  {
   "cell_type": "markdown",
   "metadata": {},
   "source": [
    "## Basic scatterplot + trendline"
   ]
  },
  {
   "cell_type": "code",
   "execution_count": null,
   "metadata": {
    "collapsed": true,
    "scrolled": false
   },
   "outputs": [],
   "source": [
    "# Create a scatterplot and linear trendline of mpg \n",
    "# Miles per gallon vs engine cylinders\n",
    "# cyl on the x-axis and hwy on the y-axis\n",
    "# This is without any jitter so it will be a baseline for comparison\n",
    "ggplot(data = ??? , mapping = aes(x = ??? , y = ??? )) + \n",
    "   geom_point() +\n",
    "   geom_smooth(method = \"lm\", se = FALSE) +\n",
    "   labs(title=\"mpg trend: hwy vs cyl\")"
   ]
  },
  {
   "cell_type": "markdown",
   "metadata": {},
   "source": [
    "### geom_jitter()"
   ]
  },
  {
   "cell_type": "code",
   "execution_count": null,
   "metadata": {
    "collapsed": true,
    "scrolled": false
   },
   "outputs": [],
   "source": [
    "# Create a scatterplot and linear trendline with jitter of mpg \n",
    "# Miles per gallon vs engine cylinders\n",
    "# cyl on the x-axis and hwy on the y-axis \n",
    "# Change this one to add the jitter by\n",
    "# changing geom_point to geom_jitter\n",
    "ggplot(data = mpg, mapping = aes(x = cyl, y = hwy)) + \n",
    "   ??? () + \n",
    "   geom_smooth(method = \"lm\", se = FALSE) +\n",
    "   labs(title=\"mpg trend: hwy vs cyl\", subtitle=\"Points jittered\")"
   ]
  },
  {
   "cell_type": "markdown",
   "metadata": {},
   "source": [
    "The chart looks quite a bit different and much more representative of the data. "
   ]
  },
  {
   "cell_type": "markdown",
   "metadata": {},
   "source": [
    "## Alpha Blending\n",
    "Another option we have is the transparency level of the point. This is called alpha and is an option on most geoms. All we need to do is turn it on. The range is a value from 0 to 1 where 0 is completely transparent and 1 is completely opaque. It defaults to 1 so that is why it is completely opaque. \n",
    "\n",
    "If you recall the conversation about whether to paint the trend line over the points or the points over the trend line. Well, I often use alpha on the second and more layers to help with this, so yes it can be used on trend lines (geom_smooth) too if you like. "
   ]
  },
  {
   "cell_type": "code",
   "execution_count": null,
   "metadata": {
    "collapsed": true,
    "scrolled": false
   },
   "outputs": [],
   "source": [
    "# Since we already have the baseline plot above, let's see what alpha blending looks like\n",
    "\n",
    "# Create a scatterplot and linear trendline with alpha blending of mpg \n",
    "# Miles per gallon vs engine cylinders\n",
    "# cyl on the x-axis and hwy on the y-axis\n",
    "# Change this one to add alpha blending to geom_point\n",
    "# Set the alpha value to 0.1\n",
    "ggplot(data = mpg, mapping = aes(x = cyl, y = hwy)) + \n",
    "   geom_point(alpha = ??? ) +\n",
    "   geom_smooth(method = \"lm\", se = FALSE) +\n",
    "   labs(title=\"mpg trend: hwy vs cyl\", subtitle=\"Point Alpha blended\")"
   ]
  },
  {
   "cell_type": "markdown",
   "metadata": {},
   "source": [
    "The chart looks quite a bit different and \n",
    "much more representative of the data. \n",
    "The darker dots represent more observations\n",
    "You can even start to see the distribution on 6 cylinders\n",
    "With a cluster at 18 and another at 25\n",
    "Note that the value for alpha is a bit of trial and error\n",
    "It depends on the amount of overlap and the amount of data\n",
    "Often try different numbers until you see the pattern clearly"
   ]
  },
  {
   "cell_type": "markdown",
   "metadata": {},
   "source": [
    "## Add jitter and alpha\n",
    "Let's add both jitter and alpha.\n",
    "\n",
    "Create a scatterplot and linear trendline with alpha blending and jitter of mpg."
   ]
  },
  {
   "cell_type": "code",
   "execution_count": null,
   "metadata": {
    "collapsed": true
   },
   "outputs": [],
   "source": [
    "# Miles per gallon vs engine cylinders\n",
    "# hwy on the y-axis and cyl on the x-axis\n",
    "# Change this one to add alpha blending to geom_point\n",
    "# Set the alpha value to 0.1\n",
    "ggplot(data = mpg, mapping = aes(x = cyl, y = hwy)) + \n",
    "   ??? (alpha = 0.1) +\n",
    "   geom_smooth(method = \"lm\", se = FALSE) +\n",
    "   labs(title=\"mpg trend: hwy vs cyl\", subtitle=\"Points Alpha blended + jitter\")"
   ]
  },
  {
   "cell_type": "markdown",
   "metadata": {},
   "source": [
    "Notice that the alpha looks a little too washed out\n",
    "due to the jitter not having as much overlapping of points."
   ]
  },
  {
   "cell_type": "code",
   "execution_count": null,
   "metadata": {
    "collapsed": true
   },
   "outputs": [],
   "source": [
    "# Experiment with alpha value\n",
    "\n",
    "# Create a scatterplot and linear trendline with alpha blending and jitter of mpg \n",
    "# Miles per gallon vs engine cylinders\n",
    "# hwy on the y-axis and cyl on the x-axis\n",
    "# Change this one to add alpha blending to geom_point\n",
    "# Set the alpha value what you think looks best\n",
    "# Just change the value to something between 0 and 1 and \n",
    "# rerun the block\n",
    "# Do this for a few different values.\n",
    "ggplot(data = mpg, mapping = aes(x = cyl, y = hwy)) + \n",
    "   geom_jitter(alpha = ??? ) +  # Change alpha value to your choice\n",
    "   geom_smooth(method=\"lm\", se=FALSE) +\n",
    "   labs(title=\"mpg trend: hwy vs cyl\", subtitle=\"Points Alpha blended + jitter\")"
   ]
  },
  {
   "cell_type": "markdown",
   "metadata": {},
   "source": [
    "It takes a bit of trial and error to get alpha to a good value. There may be too few overlapping values after the jitter to even need alpha blending. The jitter spreads out the values quite a bit in this case. If there were a large amount of data, then jitter + alpha would be more helpful."
   ]
  },
  {
   "cell_type": "code",
   "execution_count": null,
   "metadata": {
    "collapsed": true
   },
   "outputs": [],
   "source": [
    "# Open usage help on geom_jitter\n",
    "# We are looking for a way to control \n",
    "# the amount of jitter\n",
    "# the jitter seems to be a bit too much\n",
    "? geom_jitter"
   ]
  },
  {
   "cell_type": "code",
   "execution_count": null,
   "metadata": {
    "collapsed": true
   },
   "outputs": [],
   "source": [
    "# Experiment with jitter amount\n",
    "\n",
    "# Create a scatterplot and linear trendline with alpha blending and jitter of mpg \n",
    "# Miles per gallon vs engine cylinders\n",
    "# cyl on the x-axis and hwy on the y-axis\n",
    "# Change this one to add alpha blending to geom_point\n",
    "# Set the width and height of the jitter amount\n",
    "# between 0 and 1. \n",
    "# Experiment with different values for width and height\n",
    "# Feel free to also update alpha as necessary\n",
    "ggplot(data = mpg, mapping = aes(x = cyl, y = hwy)) + \n",
    "   geom_jitter(alpha = 0.5, , width = ??? , height = ??? ) +   \n",
    "   geom_smooth(method=\"lm\", se=FALSE) +\n",
    "   labs(title=\"mpg trend: hwy vs cyl\", subtitle=\"Points Alpha blended + custom jitter\")"
   ]
  },
  {
   "cell_type": "markdown",
   "metadata": {},
   "source": [
    "It is easy to add jitter and alpha. Without these features, scatterplots can hide popular values.\n",
    "\n",
    "Notice that it seemed to work better with jitter width being smaller than 0.5 but 0.5 still worked well for jitter height.\n",
    "\n",
    "Notice that the trend line didn't change\n",
    "It was based on the underlying data and nothing to do with how it is being plotted.\n",
    "Another good reason for a trendline.\n",
    "\n",
    "If you chose a small jitter width of around 0.1, the 5 cylinder count becomes more clear. How many vehicles has 5 cylinders?"
   ]
  },
  {
   "cell_type": "markdown",
   "metadata": {},
   "source": [
    "# Code Summary\n",
    "Let's put all the lines of code together to see the bigger picture of what we ended up with. Even though we did a good job of representing categorical data in a scatterplot, soon we will look to different ways of representing this information."
   ]
  },
  {
   "cell_type": "code",
   "execution_count": null,
   "metadata": {
    "collapsed": true,
    "scrolled": false
   },
   "outputs": [],
   "source": [
    "# Load libraries\n",
    "???\n",
    "\n",
    "# Explore mpg data\n",
    "???\n",
    "\n",
    "# Plot + trend mpg: hwy vs cyl\n",
    "# Use jitter and alpha as desired\n",
    "ggplot(data = ??? , mapping = aes(x = ??? , y = hwy)) + \n",
    "   ???(alpha = ??? , width = ??? , height = ??? ) + \n",
    "   geom_smooth(method=\"lm\", se=FALSE) +\n",
    "   labs(title=\"mpg trend: hwy vs cyl\", subtitle=\"Points Alpha blended + custom jitter\")"
   ]
  }
 ],
 "metadata": {
  "kernelspec": {
   "display_name": "R",
   "language": "R",
   "name": "ir"
  },
  "language_info": {
   "codemirror_mode": "r",
   "file_extension": ".r",
   "mimetype": "text/x-r-source",
   "name": "R",
   "pygments_lexer": "r",
   "version": "3.3.3"
  }
 },
 "nbformat": 4,
 "nbformat_minor": 1
}
