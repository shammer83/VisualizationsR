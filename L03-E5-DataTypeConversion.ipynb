{
 "cells": [
  {
   "cell_type": "markdown",
   "metadata": {},
   "source": [
    "# Data Type Conversion\n",
    "Data type conversion starts when you first import data and continues on with the data wrangling process. When adding categorical variables and your own derived columns, this becomes an ongoing iterative process. \n",
    "\n",
    "In this exercise, we will clean up the automotive data from UCI, exposing you to some new key functions such as mutate(), and as.factor(). We will walk through the process step-by-step looking at the data and determining what data is important and how it should be transformed. The end results in a data analysis of the newly cleaned data showing the relationship between diesel and gas engines and their highway gas mileage performance.\n",
    "\n",
    "\n",
    "\n",
    "## R Features\n",
    "* library()\n",
    "* read_csv()\n",
    "* glimpse()\n",
    "* summary()\n",
    "* mutate()\n",
    "* as.factor()\n",
    "* fct_drop()\n",
    "* drop_na()\n",
    "* as.integer()\n",
    "* ggplot()\n",
    "* geom_jitter()\n",
    "* geom_smooth()\n",
    "* filter()\n",
    "* facet_grid()\n",
    "\n",
    "## Datasets\n",
    "* automotive from UCI\n"
   ]
  },
  {
   "cell_type": "markdown",
   "metadata": {},
   "source": [
    "# L03-5-Data Type Conversion\n",
    "## Assignment Instructions\n",
    "Rename with your name in place of Studentname and make your edits and updates here.\n"
   ]
  },
  {
   "cell_type": "code",
   "execution_count": 18,
   "metadata": {
    "scrolled": false
   },
   "outputs": [],
   "source": [
    "# Load libraries\n",
    "library('forcats') # forcats\n",
    "library('tidyverse') # tidyverse"
   ]
  },
  {
   "cell_type": "markdown",
   "metadata": {},
   "source": [
    "## UCI Automobile Data Set\n",
    "\n",
    "Manually explore UCI and a description of the data in your web browser. \n",
    "\n",
    "https://archive.ics.uci.edu/ml/datasets/Automobile\n",
    "\n",
    "Did you notice where the column names were stored? "
   ]
  },
  {
   "cell_type": "code",
   "execution_count": 19,
   "metadata": {},
   "outputs": [
    {
     "name": "stderr",
     "output_type": "stream",
     "text": [
      "Parsed with column specification:\n",
      "cols(\n",
      "  .default = col_character(),\n",
      "  symboling = col_integer(),\n",
      "  wheel_base = col_double(),\n",
      "  length = col_double(),\n",
      "  width = col_double(),\n",
      "  height = col_double(),\n",
      "  curb_weight = col_integer(),\n",
      "  engine_size = col_integer(),\n",
      "  compression_ratio = col_double(),\n",
      "  city_mpg = col_integer(),\n",
      "  highway_mpg = col_integer()\n",
      ")\n",
      "See spec(...) for full column specifications.\n"
     ]
    }
   ],
   "source": [
    "# Load the UCI auto data\n",
    "# store auto.csv in df_auto\n",
    "df_auto <- read_csv(\"auto.csv\")"
   ]
  },
  {
   "cell_type": "code",
   "execution_count": 20,
   "metadata": {},
   "outputs": [
    {
     "name": "stdout",
     "output_type": "stream",
     "text": [
      "Observations: 205\n",
      "Variables: 26\n",
      "$ symboling         \u001b[3m\u001b[90m<int>\u001b[39m\u001b[23m 3, 3, 1, 2, 2, 2, 1, 1, 1, 0, 2, 0, 0, 0, 1, 0, 0, …\n",
      "$ normalized_losses \u001b[3m\u001b[90m<chr>\u001b[39m\u001b[23m \"?\", \"?\", \"?\", \"164\", \"164\", \"?\", \"158\", \"?\", \"158\"…\n",
      "$ make              \u001b[3m\u001b[90m<chr>\u001b[39m\u001b[23m \"alfa-romero\", \"alfa-romero\", \"alfa-romero\", \"audi\"…\n",
      "$ fuel_type         \u001b[3m\u001b[90m<chr>\u001b[39m\u001b[23m \"gas\", \"gas\", \"gas\", \"gas\", \"gas\", \"gas\", \"gas\", \"g…\n",
      "$ aspiration        \u001b[3m\u001b[90m<chr>\u001b[39m\u001b[23m \"std\", \"std\", \"std\", \"std\", \"std\", \"std\", \"std\", \"s…\n",
      "$ num_of_doors      \u001b[3m\u001b[90m<chr>\u001b[39m\u001b[23m \"two\", \"two\", \"two\", \"four\", \"four\", \"two\", \"four\",…\n",
      "$ body_style        \u001b[3m\u001b[90m<chr>\u001b[39m\u001b[23m \"convertible\", \"convertible\", \"hatchback\", \"sedan\",…\n",
      "$ drive_wheels      \u001b[3m\u001b[90m<chr>\u001b[39m\u001b[23m \"rwd\", \"rwd\", \"rwd\", \"fwd\", \"4wd\", \"fwd\", \"fwd\", \"f…\n",
      "$ engine_location   \u001b[3m\u001b[90m<chr>\u001b[39m\u001b[23m \"front\", \"front\", \"front\", \"front\", \"front\", \"front…\n",
      "$ wheel_base        \u001b[3m\u001b[90m<dbl>\u001b[39m\u001b[23m 88.6, 88.6, 94.5, 99.8, 99.4, 99.8, 105.8, 105.8, 1…\n",
      "$ length            \u001b[3m\u001b[90m<dbl>\u001b[39m\u001b[23m 168.8, 168.8, 171.2, 176.6, 176.6, 177.3, 192.7, 19…\n",
      "$ width             \u001b[3m\u001b[90m<dbl>\u001b[39m\u001b[23m 64.1, 64.1, 65.5, 66.2, 66.4, 66.3, 71.4, 71.4, 71.…\n",
      "$ height            \u001b[3m\u001b[90m<dbl>\u001b[39m\u001b[23m 48.8, 48.8, 52.4, 54.3, 54.3, 53.1, 55.7, 55.7, 55.…\n",
      "$ curb_weight       \u001b[3m\u001b[90m<int>\u001b[39m\u001b[23m 2548, 2548, 2823, 2337, 2824, 2507, 2844, 2954, 308…\n",
      "$ engine_type       \u001b[3m\u001b[90m<chr>\u001b[39m\u001b[23m \"dohc\", \"dohc\", \"ohcv\", \"ohc\", \"ohc\", \"ohc\", \"ohc\",…\n",
      "$ num_of_cylinders  \u001b[3m\u001b[90m<chr>\u001b[39m\u001b[23m \"four\", \"four\", \"six\", \"four\", \"five\", \"five\", \"fiv…\n",
      "$ engine_size       \u001b[3m\u001b[90m<int>\u001b[39m\u001b[23m 130, 130, 152, 109, 136, 136, 136, 136, 131, 131, 1…\n",
      "$ fuel_system       \u001b[3m\u001b[90m<chr>\u001b[39m\u001b[23m \"mpfi\", \"mpfi\", \"mpfi\", \"mpfi\", \"mpfi\", \"mpfi\", \"mp…\n",
      "$ bore              \u001b[3m\u001b[90m<chr>\u001b[39m\u001b[23m \"3.47\", \"3.47\", \"2.68\", \"3.19\", \"3.19\", \"3.19\", \"3.…\n",
      "$ stroke            \u001b[3m\u001b[90m<chr>\u001b[39m\u001b[23m \"2.68\", \"2.68\", \"3.47\", \"3.40\", \"3.40\", \"3.40\", \"3.…\n",
      "$ compression_ratio \u001b[3m\u001b[90m<dbl>\u001b[39m\u001b[23m 9.00, 9.00, 9.00, 10.00, 8.00, 8.50, 8.50, 8.50, 8.…\n",
      "$ horsepower        \u001b[3m\u001b[90m<chr>\u001b[39m\u001b[23m \"111\", \"111\", \"154\", \"102\", \"115\", \"110\", \"110\", \"1…\n",
      "$ peak_rpm          \u001b[3m\u001b[90m<chr>\u001b[39m\u001b[23m \"5000\", \"5000\", \"5000\", \"5500\", \"5500\", \"5500\", \"55…\n",
      "$ city_mpg          \u001b[3m\u001b[90m<int>\u001b[39m\u001b[23m 21, 21, 19, 24, 18, 19, 19, 19, 17, 16, 23, 23, 21,…\n",
      "$ highway_mpg       \u001b[3m\u001b[90m<int>\u001b[39m\u001b[23m 27, 27, 26, 30, 22, 25, 25, 25, 20, 22, 29, 29, 28,…\n",
      "$ price             \u001b[3m\u001b[90m<chr>\u001b[39m\u001b[23m \"13495\", \"16500\", \"16500\", \"13950\", \"17450\", \"15250…\n"
     ]
    }
   ],
   "source": [
    "# Glimpse data frame\n",
    "glimpse(df_auto)"
   ]
  },
  {
   "cell_type": "markdown",
   "metadata": {},
   "source": [
    "Look at the above information carefully. This is where you can start to determine the following:\n",
    "•\tWhich columns you are interested in and which you can ignore\n",
    "•\tFor the columns of interest, what are the most appropriate data types\n",
    "•\tFor columns that we want to change the data type, is there any data cleaning needed first\n",
    "•\tDetermine how many missing values and how to best handle them\n",
    "\n"
   ]
  },
  {
   "cell_type": "markdown",
   "metadata": {},
   "source": [
    "## select()\n",
    "I am interested in analyzing fuel economy in conjunction with vehicle and engine size. Columns that come to mind are:\n",
    "* fuel_type\n",
    "* drive_wheels\n",
    "* curb_weight\n",
    "* engine_type\n",
    "* num_of_cylinders\n",
    "* engine_size\n",
    "* fuel_system\n",
    "* horsepower\n",
    "* city_mpg\n",
    "* highway_mpg"
   ]
  },
  {
   "cell_type": "code",
   "execution_count": 21,
   "metadata": {},
   "outputs": [
    {
     "name": "stdout",
     "output_type": "stream",
     "text": [
      "Observations: 205\n",
      "Variables: 10\n",
      "$ fuel_type        \u001b[3m\u001b[90m<chr>\u001b[39m\u001b[23m \"gas\", \"gas\", \"gas\", \"gas\", \"gas\", \"gas\", \"gas\", \"ga…\n",
      "$ drive_wheels     \u001b[3m\u001b[90m<chr>\u001b[39m\u001b[23m \"rwd\", \"rwd\", \"rwd\", \"fwd\", \"4wd\", \"fwd\", \"fwd\", \"fw…\n",
      "$ curb_weight      \u001b[3m\u001b[90m<int>\u001b[39m\u001b[23m 2548, 2548, 2823, 2337, 2824, 2507, 2844, 2954, 3086…\n",
      "$ engine_type      \u001b[3m\u001b[90m<chr>\u001b[39m\u001b[23m \"dohc\", \"dohc\", \"ohcv\", \"ohc\", \"ohc\", \"ohc\", \"ohc\", …\n",
      "$ num_of_cylinders \u001b[3m\u001b[90m<chr>\u001b[39m\u001b[23m \"four\", \"four\", \"six\", \"four\", \"five\", \"five\", \"five…\n",
      "$ engine_size      \u001b[3m\u001b[90m<int>\u001b[39m\u001b[23m 130, 130, 152, 109, 136, 136, 136, 136, 131, 131, 10…\n",
      "$ fuel_system      \u001b[3m\u001b[90m<chr>\u001b[39m\u001b[23m \"mpfi\", \"mpfi\", \"mpfi\", \"mpfi\", \"mpfi\", \"mpfi\", \"mpf…\n",
      "$ horsepower       \u001b[3m\u001b[90m<chr>\u001b[39m\u001b[23m \"111\", \"111\", \"154\", \"102\", \"115\", \"110\", \"110\", \"11…\n",
      "$ city_mpg         \u001b[3m\u001b[90m<int>\u001b[39m\u001b[23m 21, 21, 19, 24, 18, 19, 19, 19, 17, 16, 23, 23, 21, …\n",
      "$ highway_mpg      \u001b[3m\u001b[90m<int>\u001b[39m\u001b[23m 27, 27, 26, 30, 22, 25, 25, 25, 20, 22, 29, 29, 28, …\n"
     ]
    }
   ],
   "source": [
    "# Create a new df with\n",
    "# just the columns of interest above\n",
    "# Use select()\n",
    "df <- df_auto %>% \n",
    "   select(fuel_type, drive_wheels, \n",
    "          curb_weight, engine_type, \n",
    "          num_of_cylinders, engine_size, \n",
    "          fuel_system, horsepower, \n",
    "          city_mpg, highway_mpg)\n",
    "\n",
    "# Glimpse result\n",
    "glimpse(df)"
   ]
  },
  {
   "cell_type": "markdown",
   "metadata": {},
   "source": [
    "## summary()\n",
    "Another useful function similar to glimpse is summary(). It gives some statistics and an idea of missing values. These concepts will be covered in the stats lessons in the course. Here we will just take a peek."
   ]
  },
  {
   "cell_type": "code",
   "execution_count": 22,
   "metadata": {},
   "outputs": [
    {
     "data": {
      "text/plain": [
       "  fuel_type         drive_wheels        curb_weight   engine_type       \n",
       " Length:205         Length:205         Min.   :1488   Length:205        \n",
       " Class :character   Class :character   1st Qu.:2145   Class :character  \n",
       " Mode  :character   Mode  :character   Median :2414   Mode  :character  \n",
       "                                       Mean   :2556                     \n",
       "                                       3rd Qu.:2935                     \n",
       "                                       Max.   :4066                     \n",
       " num_of_cylinders    engine_size    fuel_system         horsepower       \n",
       " Length:205         Min.   : 61.0   Length:205         Length:205        \n",
       " Class :character   1st Qu.: 97.0   Class :character   Class :character  \n",
       " Mode  :character   Median :120.0   Mode  :character   Mode  :character  \n",
       "                    Mean   :126.9                                        \n",
       "                    3rd Qu.:141.0                                        \n",
       "                    Max.   :326.0                                        \n",
       "    city_mpg      highway_mpg   \n",
       " Min.   :13.00   Min.   :16.00  \n",
       " 1st Qu.:19.00   1st Qu.:25.00  \n",
       " Median :24.00   Median :30.00  \n",
       " Mean   :25.22   Mean   :30.75  \n",
       " 3rd Qu.:30.00   3rd Qu.:34.00  \n",
       " Max.   :49.00   Max.   :54.00  "
      ]
     },
     "metadata": {},
     "output_type": "display_data"
    }
   ],
   "source": [
    "# Run summary() on df\n",
    "summary(df)"
   ]
  },
  {
   "cell_type": "markdown",
   "metadata": {},
   "source": [
    "There is a lot of information in summary(). When in the context of data cleaning and data type conversion, I am looking for missing values or unexpected min or max outliers. I don't see much here. The work we have to do is on the character columns and unfortunately summary() doesn't provide much insight. \n",
    "\n",
    "There are two columns that I want to look into further, num_of_cylinders and horsepower. Both of these are character data type and have the potential for an integer data type."
   ]
  },
  {
   "cell_type": "markdown",
   "metadata": {},
   "source": [
    "## as.factor()\n",
    "Factors are just a way for R to normalize character strings by referencing them by number. \n",
    "\n",
    "I like to temporarility convert strings to factors just to see what is in there. Often there are some outliers that may need to be removed before we can convert the string to a number. \n",
    "\n",
    "If we combine as.factor() with summary() we can see more.\n",
    "\n"
   ]
  },
  {
   "cell_type": "code",
   "execution_count": 23,
   "metadata": {},
   "outputs": [
    {
     "data": {
      "text/html": [
       "<dl class=dl-horizontal>\n",
       "\t<dt>eight</dt>\n",
       "\t\t<dd>5</dd>\n",
       "\t<dt>five</dt>\n",
       "\t\t<dd>11</dd>\n",
       "\t<dt>four</dt>\n",
       "\t\t<dd>159</dd>\n",
       "\t<dt>six</dt>\n",
       "\t\t<dd>24</dd>\n",
       "\t<dt>three</dt>\n",
       "\t\t<dd>1</dd>\n",
       "\t<dt>twelve</dt>\n",
       "\t\t<dd>1</dd>\n",
       "\t<dt>two</dt>\n",
       "\t\t<dd>4</dd>\n",
       "</dl>\n"
      ],
      "text/latex": [
       "\\begin{description*}\n",
       "\\item[eight] 5\n",
       "\\item[five] 11\n",
       "\\item[four] 159\n",
       "\\item[six] 24\n",
       "\\item[three] 1\n",
       "\\item[twelve] 1\n",
       "\\item[two] 4\n",
       "\\end{description*}\n"
      ],
      "text/markdown": [
       "eight\n",
       ":   5five\n",
       ":   11four\n",
       ":   159six\n",
       ":   24three\n",
       ":   1twelve\n",
       ":   1two\n",
       ":   4\n",
       "\n"
      ],
      "text/plain": [
       " eight   five   four    six  three twelve    two \n",
       "     5     11    159     24      1      1      4 "
      ]
     },
     "metadata": {},
     "output_type": "display_data"
    }
   ],
   "source": [
    "# Use $ to select num of cylinders column of df\n",
    "# then pipe it to as.factor() \n",
    "# then pipe to summary()\n",
    "df$num_of_cylinders%>%as.factor() %>% summary()"
   ]
  },
  {
   "cell_type": "markdown",
   "metadata": {},
   "source": [
    "Now we can see all of the different values of number of cylinders and how many rows each contain. Since I am interested in analyzing the general trend of fuel economy, I would like to stick to the more popular cylinder counts. I don't want any outliers to confuse my analysiss. \n",
    "\n",
    "From the data it looks like I should keep 4 and 6 cylinder engines. Let's filter the data for this."
   ]
  },
  {
   "cell_type": "code",
   "execution_count": 24,
   "metadata": {
    "collapsed": true
   },
   "outputs": [],
   "source": [
    "#?filter"
   ]
  },
  {
   "cell_type": "code",
   "execution_count": 25,
   "metadata": {},
   "outputs": [
    {
     "name": "stdout",
     "output_type": "stream",
     "text": [
      "Observations: 183\n",
      "Variables: 10\n",
      "$ fuel_type        \u001b[3m\u001b[90m<chr>\u001b[39m\u001b[23m \"gas\", \"gas\", \"gas\", \"gas\", \"gas\", \"gas\", \"gas\", \"ga…\n",
      "$ drive_wheels     \u001b[3m\u001b[90m<chr>\u001b[39m\u001b[23m \"rwd\", \"rwd\", \"rwd\", \"fwd\", \"rwd\", \"rwd\", \"rwd\", \"rw…\n",
      "$ curb_weight      \u001b[3m\u001b[90m<int>\u001b[39m\u001b[23m 2548, 2548, 2823, 2337, 2395, 2395, 2710, 2765, 3055…\n",
      "$ engine_type      \u001b[3m\u001b[90m<chr>\u001b[39m\u001b[23m \"dohc\", \"dohc\", \"ohcv\", \"ohc\", \"ohc\", \"ohc\", \"ohc\", …\n",
      "$ num_of_cylinders \u001b[3m\u001b[90m<chr>\u001b[39m\u001b[23m \"four\", \"four\", \"six\", \"four\", \"four\", \"four\", \"six\"…\n",
      "$ engine_size      \u001b[3m\u001b[90m<int>\u001b[39m\u001b[23m 130, 130, 152, 109, 108, 108, 164, 164, 164, 209, 20…\n",
      "$ fuel_system      \u001b[3m\u001b[90m<chr>\u001b[39m\u001b[23m \"mpfi\", \"mpfi\", \"mpfi\", \"mpfi\", \"mpfi\", \"mpfi\", \"mpf…\n",
      "$ horsepower       \u001b[3m\u001b[90m<chr>\u001b[39m\u001b[23m \"111\", \"111\", \"154\", \"102\", \"101\", \"101\", \"121\", \"12…\n",
      "$ city_mpg         \u001b[3m\u001b[90m<int>\u001b[39m\u001b[23m 21, 21, 19, 24, 23, 23, 21, 21, 20, 16, 16, 15, 38, …\n",
      "$ highway_mpg      \u001b[3m\u001b[90m<int>\u001b[39m\u001b[23m 27, 27, 26, 30, 29, 29, 28, 28, 25, 22, 22, 20, 43, …\n"
     ]
    }
   ],
   "source": [
    "# Filter df so it contains \n",
    "# only 4 and 6 cylinder vehicles\n",
    "# store back in df\n",
    "df <- df %>% \n",
    "   filter(num_of_cylinders %in% c(\"four\", \"six\"))\n",
    "\n",
    "# Glimpse result\n",
    "glimpse(df)"
   ]
  },
  {
   "cell_type": "markdown",
   "metadata": {},
   "source": [
    "Let's rerun the last as.factor() + summary() code and confirm that only 4 and 6 cylinder vehicles remain. Don't be fooled by glimpse(). It is only showing the first set of rows of data."
   ]
  },
  {
   "cell_type": "code",
   "execution_count": 26,
   "metadata": {},
   "outputs": [
    {
     "data": {
      "text/html": [
       "<dl class=dl-horizontal>\n",
       "\t<dt>four</dt>\n",
       "\t\t<dd>159</dd>\n",
       "\t<dt>six</dt>\n",
       "\t\t<dd>24</dd>\n",
       "</dl>\n"
      ],
      "text/latex": [
       "\\begin{description*}\n",
       "\\item[four] 159\n",
       "\\item[six] 24\n",
       "\\end{description*}\n"
      ],
      "text/markdown": [
       "four\n",
       ":   159six\n",
       ":   24\n",
       "\n"
      ],
      "text/plain": [
       "four  six \n",
       " 159   24 "
      ]
     },
     "metadata": {},
     "output_type": "display_data"
    }
   ],
   "source": [
    "# Use $ to select num of cylinders column of df\n",
    "# then pipe it to as.factor() \n",
    "# then pipe to summary()\n",
    "df$num_of_cylinders %>% as.factor() %>% summary()"
   ]
  },
  {
   "cell_type": "markdown",
   "metadata": {},
   "source": [
    "## mutate()\n",
    "\n",
    "That looks good. Now back to the question of data type conversion. We could convert the string \"four\" and \"six\" to numbers and we could do that. However, I know that this is going to be used as a categorical variable not and not as a variable that we would perform mathematical operations against. So, leaving it as strings won't hurt anything. \n",
    "\n",
    "In either case, we want to convert this column to a factor. This is where mutate() comes in. mutate() is a tidyverse dplyr function that can update existing columns or create new columns in a data frame.\n"
   ]
  },
  {
   "cell_type": "code",
   "execution_count": 27,
   "metadata": {
    "collapsed": true
   },
   "outputs": [],
   "source": [
    "?levels()"
   ]
  },
  {
   "cell_type": "code",
   "execution_count": 28,
   "metadata": {
    "collapsed": true
   },
   "outputs": [],
   "source": [
    "?gl"
   ]
  },
  {
   "cell_type": "code",
   "execution_count": 29,
   "metadata": {},
   "outputs": [
    {
     "data": {
      "text/html": [
       "<ol class=list-inline>\n",
       "\t<li>'four'</li>\n",
       "\t<li>'six'</li>\n",
       "</ol>\n"
      ],
      "text/latex": [
       "\\begin{enumerate*}\n",
       "\\item 'four'\n",
       "\\item 'six'\n",
       "\\end{enumerate*}\n"
      ],
      "text/markdown": [
       "1. 'four'\n",
       "2. 'six'\n",
       "\n",
       "\n"
      ],
      "text/plain": [
       "[1] \"four\" \"six\" "
      ]
     },
     "metadata": {},
     "output_type": "display_data"
    },
    {
     "name": "stdout",
     "output_type": "stream",
     "text": [
      "Observations: 183\n",
      "Variables: 10\n",
      "$ fuel_type        \u001b[3m\u001b[90m<chr>\u001b[39m\u001b[23m \"gas\", \"gas\", \"gas\", \"gas\", \"gas\", \"gas\", \"gas\", \"ga…\n",
      "$ drive_wheels     \u001b[3m\u001b[90m<chr>\u001b[39m\u001b[23m \"rwd\", \"rwd\", \"rwd\", \"fwd\", \"rwd\", \"rwd\", \"rwd\", \"rw…\n",
      "$ curb_weight      \u001b[3m\u001b[90m<int>\u001b[39m\u001b[23m 2548, 2548, 2823, 2337, 2395, 2395, 2710, 2765, 3055…\n",
      "$ engine_type      \u001b[3m\u001b[90m<chr>\u001b[39m\u001b[23m \"dohc\", \"dohc\", \"ohcv\", \"ohc\", \"ohc\", \"ohc\", \"ohc\", …\n",
      "$ num_of_cylinders \u001b[3m\u001b[90m<fct>\u001b[39m\u001b[23m four, four, six, four, four, four, six, six, six, si…\n",
      "$ engine_size      \u001b[3m\u001b[90m<int>\u001b[39m\u001b[23m 130, 130, 152, 109, 108, 108, 164, 164, 164, 209, 20…\n",
      "$ fuel_system      \u001b[3m\u001b[90m<chr>\u001b[39m\u001b[23m \"mpfi\", \"mpfi\", \"mpfi\", \"mpfi\", \"mpfi\", \"mpfi\", \"mpf…\n",
      "$ horsepower       \u001b[3m\u001b[90m<chr>\u001b[39m\u001b[23m \"111\", \"111\", \"154\", \"102\", \"101\", \"101\", \"121\", \"12…\n",
      "$ city_mpg         \u001b[3m\u001b[90m<int>\u001b[39m\u001b[23m 21, 21, 19, 24, 23, 23, 21, 21, 20, 16, 16, 15, 38, …\n",
      "$ highway_mpg      \u001b[3m\u001b[90m<int>\u001b[39m\u001b[23m 27, 27, 26, 30, 29, 29, 28, 28, 25, 22, 22, 20, 43, …\n"
     ]
    }
   ],
   "source": [
    "# Convert cylinders to a factor\n",
    "df <- df %>% \n",
    "   mutate(num_of_cylinders = as.factor(num_of_cylinders))\n",
    "\n",
    "# View factor levels with levels()\n",
    "levels(df$num_of_cylinders)\n",
    "\n",
    "# Glimpse result\n",
    "glimpse(df)"
   ]
  },
  {
   "cell_type": "markdown",
   "metadata": {},
   "source": [
    "Notice above that num_of_cylinders data type changed from <chr> to <fctr> and the values are not quoted.\n",
    "\n",
    "Let's convert the following to factors:\n",
    "* fuel_type\n",
    "* drive_wheels\n",
    "* engine_type\n",
    "* fuel_system\n",
    "\n"
   ]
  },
  {
   "cell_type": "code",
   "execution_count": 30,
   "metadata": {},
   "outputs": [
    {
     "name": "stdout",
     "output_type": "stream",
     "text": [
      "Observations: 183\n",
      "Variables: 10\n",
      "$ fuel_type        \u001b[3m\u001b[90m<fct>\u001b[39m\u001b[23m gas, gas, gas, gas, gas, gas, gas, gas, gas, gas, ga…\n",
      "$ drive_wheels     \u001b[3m\u001b[90m<fct>\u001b[39m\u001b[23m rwd, rwd, rwd, fwd, rwd, rwd, rwd, rwd, rwd, rwd, rw…\n",
      "$ curb_weight      \u001b[3m\u001b[90m<int>\u001b[39m\u001b[23m 2548, 2548, 2823, 2337, 2395, 2395, 2710, 2765, 3055…\n",
      "$ engine_type      \u001b[3m\u001b[90m<fct>\u001b[39m\u001b[23m dohc, dohc, ohcv, ohc, ohc, ohc, ohc, ohc, ohc, ohc,…\n",
      "$ num_of_cylinders \u001b[3m\u001b[90m<fct>\u001b[39m\u001b[23m four, four, six, four, four, four, six, six, six, si…\n",
      "$ engine_size      \u001b[3m\u001b[90m<int>\u001b[39m\u001b[23m 130, 130, 152, 109, 108, 108, 164, 164, 164, 209, 20…\n",
      "$ fuel_system      \u001b[3m\u001b[90m<fct>\u001b[39m\u001b[23m mpfi, mpfi, mpfi, mpfi, mpfi, mpfi, mpfi, mpfi, mpfi…\n",
      "$ horsepower       \u001b[3m\u001b[90m<chr>\u001b[39m\u001b[23m \"111\", \"111\", \"154\", \"102\", \"101\", \"101\", \"121\", \"12…\n",
      "$ city_mpg         \u001b[3m\u001b[90m<int>\u001b[39m\u001b[23m 21, 21, 19, 24, 23, 23, 21, 21, 20, 16, 16, 15, 38, …\n",
      "$ highway_mpg      \u001b[3m\u001b[90m<int>\u001b[39m\u001b[23m 27, 27, 26, 30, 29, 29, 28, 28, 25, 22, 22, 20, 43, …\n"
     ]
    },
    {
     "data": {
      "text/plain": [
       "  fuel_type   drive_wheels  curb_weight   engine_type num_of_cylinders\n",
       " diesel: 16   4wd:  7      Min.   :1713   dohc: 12    four:159        \n",
       " gas   :167   fwd:114      1st Qu.:2125   l   : 11    six : 24        \n",
       "              rwd: 62      Median :2395   ohc :137                    \n",
       "                           Mean   :2491   ohcf: 15                    \n",
       "                           3rd Qu.:2820   ohcv:  8                    \n",
       "                           Max.   :4066                               \n",
       "                                                                      \n",
       "  engine_size    fuel_system  horsepower           city_mpg      highway_mpg  \n",
       " Min.   : 79.0   1bbl:11     Length:183         Min.   :15.00   Min.   :19.0  \n",
       " 1st Qu.: 97.0   2bbl:65     Class :character   1st Qu.:21.00   1st Qu.:27.0  \n",
       " Median :110.0   idi :16     Mode  :character   Median :26.00   Median :31.0  \n",
       " Mean   :122.3   mfi : 1                        Mean   :25.96   Mean   :31.6  \n",
       " 3rd Qu.:141.0   mpfi:80                        3rd Qu.:31.00   3rd Qu.:37.0  \n",
       " Max.   :258.0   spdi: 9                        Max.   :49.00   Max.   :54.0  \n",
       "                 spfi: 1                                                      "
      ]
     },
     "metadata": {},
     "output_type": "display_data"
    }
   ],
   "source": [
    "# Convert strings to factors\n",
    "df <- df %>% \n",
    "   mutate(fuel_type = as.factor(fuel_type),\n",
    "         drive_wheels = as.factor(drive_wheels),\n",
    "         engine_type = as.factor(engine_type),\n",
    "         fuel_system = as.factor(fuel_system))\n",
    "\n",
    "# Glimpse result\n",
    "df%>%glimpse()\n",
    "\n",
    "# Summary result\n",
    "df%>%summary()"
   ]
  },
  {
   "cell_type": "markdown",
   "metadata": {},
   "source": [
    "It is looking much better. Notice all of our data types are either factor or integer, with the exception of horsepower, which we will tackle next. \n",
    "\n",
    "Also notice how much more informative the summary() function is for factors as compared to characters. I can see for example that there are only 7 4wd, much lower than the rest. \n",
    "\n",
    "Let's filter out 4wd before we tackle horsepower."
   ]
  },
  {
   "cell_type": "code",
   "execution_count": 31,
   "metadata": {},
   "outputs": [
    {
     "name": "stdout",
     "output_type": "stream",
     "text": [
      "Observations: 176\n",
      "Variables: 10\n",
      "$ fuel_type        \u001b[3m\u001b[90m<fct>\u001b[39m\u001b[23m gas, gas, gas, gas, gas, gas, gas, gas, gas, gas, ga…\n",
      "$ drive_wheels     \u001b[3m\u001b[90m<fct>\u001b[39m\u001b[23m rwd, rwd, rwd, fwd, rwd, rwd, rwd, rwd, rwd, rwd, rw…\n",
      "$ curb_weight      \u001b[3m\u001b[90m<int>\u001b[39m\u001b[23m 2548, 2548, 2823, 2337, 2395, 2395, 2710, 2765, 3055…\n",
      "$ engine_type      \u001b[3m\u001b[90m<fct>\u001b[39m\u001b[23m dohc, dohc, ohcv, ohc, ohc, ohc, ohc, ohc, ohc, ohc,…\n",
      "$ num_of_cylinders \u001b[3m\u001b[90m<fct>\u001b[39m\u001b[23m four, four, six, four, four, four, six, six, six, si…\n",
      "$ engine_size      \u001b[3m\u001b[90m<int>\u001b[39m\u001b[23m 130, 130, 152, 109, 108, 108, 164, 164, 164, 209, 20…\n",
      "$ fuel_system      \u001b[3m\u001b[90m<fct>\u001b[39m\u001b[23m mpfi, mpfi, mpfi, mpfi, mpfi, mpfi, mpfi, mpfi, mpfi…\n",
      "$ horsepower       \u001b[3m\u001b[90m<chr>\u001b[39m\u001b[23m \"111\", \"111\", \"154\", \"102\", \"101\", \"101\", \"121\", \"12…\n",
      "$ city_mpg         \u001b[3m\u001b[90m<int>\u001b[39m\u001b[23m 21, 21, 19, 24, 23, 23, 21, 21, 20, 16, 16, 15, 38, …\n",
      "$ highway_mpg      \u001b[3m\u001b[90m<int>\u001b[39m\u001b[23m 27, 27, 26, 30, 29, 29, 28, 28, 25, 22, 22, 20, 43, …\n"
     ]
    },
    {
     "data": {
      "text/plain": [
       "  fuel_type   drive_wheels  curb_weight   engine_type num_of_cylinders\n",
       " diesel: 16   4wd:  0      Min.   :1713   dohc: 12    four:152        \n",
       " gas   :160   fwd:114      1st Qu.:2117   l   : 11    six : 24        \n",
       "              rwd: 62      Median :2395   ohc :135                    \n",
       "                           Mean   :2491   ohcf: 10                    \n",
       "                           3rd Qu.:2826   ohcv:  8                    \n",
       "                           Max.   :4066                               \n",
       "                                                                      \n",
       "  engine_size    fuel_system  horsepower           city_mpg      highway_mpg   \n",
       " Min.   : 79.0   1bbl:11     Length:176         Min.   :15.00   Min.   :19.00  \n",
       " 1st Qu.: 97.0   2bbl:60     Class :character   1st Qu.:21.00   1st Qu.:27.00  \n",
       " Median :110.5   idi :16     Mode  :character   Median :26.00   Median :31.00  \n",
       " Mean   :123.1   mfi : 1                        Mean   :26.01   Mean   :31.72  \n",
       " 3rd Qu.:141.0   mpfi:78                        3rd Qu.:31.00   3rd Qu.:37.00  \n",
       " Max.   :258.0   spdi: 9                        Max.   :49.00   Max.   :54.00  \n",
       "                 spfi: 1                                                       "
      ]
     },
     "metadata": {},
     "output_type": "display_data"
    }
   ],
   "source": [
    "df <- df %>% \n",
    "   filter(drive_wheels != \"4wd\")\n",
    "\n",
    "# Glimpse result\n",
    "df %>% glimpse()\n",
    "\n",
    "# Summary result\n",
    "df %>% summary()"
   ]
  },
  {
   "cell_type": "markdown",
   "metadata": {},
   "source": [
    "Notice the number of observations decreased from 183 to 176. Also notice that under drive wheels summary, 4wd is 0. This is a situation where I would like to drop that level otherwise it will always show 0."
   ]
  },
  {
   "cell_type": "code",
   "execution_count": 33,
   "metadata": {},
   "outputs": [
    {
     "name": "stdout",
     "output_type": "stream",
     "text": [
      "Observations: 176\n",
      "Variables: 10\n",
      "$ fuel_type        \u001b[3m\u001b[90m<fct>\u001b[39m\u001b[23m gas, gas, gas, gas, gas, gas, gas, gas, gas, gas, ga…\n",
      "$ drive_wheels     \u001b[3m\u001b[90m<fct>\u001b[39m\u001b[23m rwd, rwd, rwd, fwd, rwd, rwd, rwd, rwd, rwd, rwd, rw…\n",
      "$ curb_weight      \u001b[3m\u001b[90m<int>\u001b[39m\u001b[23m 2548, 2548, 2823, 2337, 2395, 2395, 2710, 2765, 3055…\n",
      "$ engine_type      \u001b[3m\u001b[90m<fct>\u001b[39m\u001b[23m dohc, dohc, ohcv, ohc, ohc, ohc, ohc, ohc, ohc, ohc,…\n",
      "$ num_of_cylinders \u001b[3m\u001b[90m<fct>\u001b[39m\u001b[23m four, four, six, four, four, four, six, six, six, si…\n",
      "$ engine_size      \u001b[3m\u001b[90m<int>\u001b[39m\u001b[23m 130, 130, 152, 109, 108, 108, 164, 164, 164, 209, 20…\n",
      "$ fuel_system      \u001b[3m\u001b[90m<fct>\u001b[39m\u001b[23m mpfi, mpfi, mpfi, mpfi, mpfi, mpfi, mpfi, mpfi, mpfi…\n",
      "$ horsepower       \u001b[3m\u001b[90m<chr>\u001b[39m\u001b[23m \"111\", \"111\", \"154\", \"102\", \"101\", \"101\", \"121\", \"12…\n",
      "$ city_mpg         \u001b[3m\u001b[90m<int>\u001b[39m\u001b[23m 21, 21, 19, 24, 23, 23, 21, 21, 20, 16, 16, 15, 38, …\n",
      "$ highway_mpg      \u001b[3m\u001b[90m<int>\u001b[39m\u001b[23m 27, 27, 26, 30, 29, 29, 28, 28, 25, 22, 22, 20, 43, …\n"
     ]
    },
    {
     "data": {
      "text/plain": [
       "  fuel_type   drive_wheels  curb_weight   engine_type num_of_cylinders\n",
       " diesel: 16   fwd:114      Min.   :1713   dohc: 12    four:152        \n",
       " gas   :160   rwd: 62      1st Qu.:2117   l   : 11    six : 24        \n",
       "                           Median :2395   ohc :135                    \n",
       "                           Mean   :2491   ohcf: 10                    \n",
       "                           3rd Qu.:2826   ohcv:  8                    \n",
       "                           Max.   :4066                               \n",
       "                                                                      \n",
       "  engine_size    fuel_system  horsepower           city_mpg      highway_mpg   \n",
       " Min.   : 79.0   1bbl:11     Length:176         Min.   :15.00   Min.   :19.00  \n",
       " 1st Qu.: 97.0   2bbl:60     Class :character   1st Qu.:21.00   1st Qu.:27.00  \n",
       " Median :110.5   idi :16     Mode  :character   Median :26.00   Median :31.00  \n",
       " Mean   :123.1   mfi : 1                        Mean   :26.01   Mean   :31.72  \n",
       " 3rd Qu.:141.0   mpfi:78                        3rd Qu.:31.00   3rd Qu.:37.00  \n",
       " Max.   :258.0   spdi: 9                        Max.   :49.00   Max.   :54.00  \n",
       "                 spfi: 1                                                       "
      ]
     },
     "metadata": {},
     "output_type": "display_data"
    }
   ],
   "source": [
    "# Drop drive_wheels unused levels\n",
    "# using fct_drop\n",
    "df <- df %>% \n",
    "   mutate(drive_wheels = fct_drop(drive_wheels))\n",
    "\n",
    "# Glimpse result\n",
    "df %>% glimpse()\n",
    "\n",
    "# Summary result\n",
    "df %>% summary()"
   ]
  },
  {
   "cell_type": "markdown",
   "metadata": {},
   "source": [
    "Great. drive_wheels looks good. 4wd is gone. Let's explore horsepower. Recall from earlier how we piped the column to as.factor() then onto summary(). Let's do that with horsepower."
   ]
  },
  {
   "cell_type": "code",
   "execution_count": 34,
   "metadata": {},
   "outputs": [
    {
     "data": {
      "text/html": [
       "<dl class=dl-horizontal>\n",
       "\t<dt>?</dt>\n",
       "\t\t<dd>2</dd>\n",
       "\t<dt>100</dt>\n",
       "\t\t<dd>2</dd>\n",
       "\t<dt>101</dt>\n",
       "\t\t<dd>3</dd>\n",
       "\t<dt>102</dt>\n",
       "\t\t<dd>5</dd>\n",
       "\t<dt>106</dt>\n",
       "\t\t<dd>1</dd>\n",
       "\t<dt>110</dt>\n",
       "\t\t<dd>4</dd>\n",
       "\t<dt>111</dt>\n",
       "\t\t<dd>2</dd>\n",
       "\t<dt>112</dt>\n",
       "\t\t<dd>2</dd>\n",
       "\t<dt>114</dt>\n",
       "\t\t<dd>6</dd>\n",
       "\t<dt>116</dt>\n",
       "\t\t<dd>9</dd>\n",
       "\t<dt>120</dt>\n",
       "\t\t<dd>1</dd>\n",
       "\t<dt>121</dt>\n",
       "\t\t<dd>3</dd>\n",
       "\t<dt>134</dt>\n",
       "\t\t<dd>1</dd>\n",
       "\t<dt>142</dt>\n",
       "\t\t<dd>1</dd>\n",
       "\t<dt>143</dt>\n",
       "\t\t<dd>1</dd>\n",
       "\t<dt>145</dt>\n",
       "\t\t<dd>5</dd>\n",
       "\t<dt>152</dt>\n",
       "\t\t<dd>3</dd>\n",
       "\t<dt>154</dt>\n",
       "\t\t<dd>1</dd>\n",
       "\t<dt>156</dt>\n",
       "\t\t<dd>2</dd>\n",
       "\t<dt>160</dt>\n",
       "\t\t<dd>5</dd>\n",
       "\t<dt>161</dt>\n",
       "\t\t<dd>2</dd>\n",
       "\t<dt>162</dt>\n",
       "\t\t<dd>2</dd>\n",
       "\t<dt>175</dt>\n",
       "\t\t<dd>1</dd>\n",
       "\t<dt>176</dt>\n",
       "\t\t<dd>2</dd>\n",
       "\t<dt>182</dt>\n",
       "\t\t<dd>3</dd>\n",
       "\t<dt>200</dt>\n",
       "\t\t<dd>1</dd>\n",
       "\t<dt>207</dt>\n",
       "\t\t<dd>3</dd>\n",
       "\t<dt>52</dt>\n",
       "\t\t<dd>2</dd>\n",
       "\t<dt>55</dt>\n",
       "\t\t<dd>1</dd>\n",
       "\t<dt>56</dt>\n",
       "\t\t<dd>2</dd>\n",
       "\t<dt>58</dt>\n",
       "\t\t<dd>1</dd>\n",
       "\t<dt>60</dt>\n",
       "\t\t<dd>1</dd>\n",
       "\t<dt>62</dt>\n",
       "\t\t<dd>4</dd>\n",
       "\t<dt>64</dt>\n",
       "\t\t<dd>1</dd>\n",
       "\t<dt>68</dt>\n",
       "\t\t<dd>19</dd>\n",
       "\t<dt>69</dt>\n",
       "\t\t<dd>10</dd>\n",
       "\t<dt>70</dt>\n",
       "\t\t<dd>11</dd>\n",
       "\t<dt>72</dt>\n",
       "\t\t<dd>1</dd>\n",
       "\t<dt>73</dt>\n",
       "\t\t<dd>2</dd>\n",
       "\t<dt>76</dt>\n",
       "\t\t<dd>5</dd>\n",
       "\t<dt>78</dt>\n",
       "\t\t<dd>1</dd>\n",
       "\t<dt>82</dt>\n",
       "\t\t<dd>3</dd>\n",
       "\t<dt>84</dt>\n",
       "\t\t<dd>5</dd>\n",
       "\t<dt>85</dt>\n",
       "\t\t<dd>3</dd>\n",
       "\t<dt>86</dt>\n",
       "\t\t<dd>4</dd>\n",
       "\t<dt>88</dt>\n",
       "\t\t<dd>6</dd>\n",
       "\t<dt>90</dt>\n",
       "\t\t<dd>3</dd>\n",
       "\t<dt>92</dt>\n",
       "\t\t<dd>4</dd>\n",
       "\t<dt>94</dt>\n",
       "\t\t<dd>2</dd>\n",
       "\t<dt>95</dt>\n",
       "\t\t<dd>7</dd>\n",
       "\t<dt>97</dt>\n",
       "\t\t<dd>5</dd>\n",
       "</dl>\n"
      ],
      "text/latex": [
       "\\begin{description*}\n",
       "\\item[?] 2\n",
       "\\item[100] 2\n",
       "\\item[101] 3\n",
       "\\item[102] 5\n",
       "\\item[106] 1\n",
       "\\item[110] 4\n",
       "\\item[111] 2\n",
       "\\item[112] 2\n",
       "\\item[114] 6\n",
       "\\item[116] 9\n",
       "\\item[120] 1\n",
       "\\item[121] 3\n",
       "\\item[134] 1\n",
       "\\item[142] 1\n",
       "\\item[143] 1\n",
       "\\item[145] 5\n",
       "\\item[152] 3\n",
       "\\item[154] 1\n",
       "\\item[156] 2\n",
       "\\item[160] 5\n",
       "\\item[161] 2\n",
       "\\item[162] 2\n",
       "\\item[175] 1\n",
       "\\item[176] 2\n",
       "\\item[182] 3\n",
       "\\item[200] 1\n",
       "\\item[207] 3\n",
       "\\item[52] 2\n",
       "\\item[55] 1\n",
       "\\item[56] 2\n",
       "\\item[58] 1\n",
       "\\item[60] 1\n",
       "\\item[62] 4\n",
       "\\item[64] 1\n",
       "\\item[68] 19\n",
       "\\item[69] 10\n",
       "\\item[70] 11\n",
       "\\item[72] 1\n",
       "\\item[73] 2\n",
       "\\item[76] 5\n",
       "\\item[78] 1\n",
       "\\item[82] 3\n",
       "\\item[84] 5\n",
       "\\item[85] 3\n",
       "\\item[86] 4\n",
       "\\item[88] 6\n",
       "\\item[90] 3\n",
       "\\item[92] 4\n",
       "\\item[94] 2\n",
       "\\item[95] 7\n",
       "\\item[97] 5\n",
       "\\end{description*}\n"
      ],
      "text/markdown": [
       "?\n",
       ":   2100\n",
       ":   2101\n",
       ":   3102\n",
       ":   5106\n",
       ":   1110\n",
       ":   4111\n",
       ":   2112\n",
       ":   2114\n",
       ":   6116\n",
       ":   9120\n",
       ":   1121\n",
       ":   3134\n",
       ":   1142\n",
       ":   1143\n",
       ":   1145\n",
       ":   5152\n",
       ":   3154\n",
       ":   1156\n",
       ":   2160\n",
       ":   5161\n",
       ":   2162\n",
       ":   2175\n",
       ":   1176\n",
       ":   2182\n",
       ":   3200\n",
       ":   1207\n",
       ":   352\n",
       ":   255\n",
       ":   156\n",
       ":   258\n",
       ":   160\n",
       ":   162\n",
       ":   464\n",
       ":   168\n",
       ":   1969\n",
       ":   1070\n",
       ":   1172\n",
       ":   173\n",
       ":   276\n",
       ":   578\n",
       ":   182\n",
       ":   384\n",
       ":   585\n",
       ":   386\n",
       ":   488\n",
       ":   690\n",
       ":   392\n",
       ":   494\n",
       ":   295\n",
       ":   797\n",
       ":   5\n",
       "\n"
      ],
      "text/plain": [
       "  ? 100 101 102 106 110 111 112 114 116 120 121 134 142 143 145 152 154 156 160 \n",
       "  2   2   3   5   1   4   2   2   6   9   1   3   1   1   1   5   3   1   2   5 \n",
       "161 162 175 176 182 200 207  52  55  56  58  60  62  64  68  69  70  72  73  76 \n",
       "  2   2   1   2   3   1   3   2   1   2   1   1   4   1  19  10  11   1   2   5 \n",
       " 78  82  84  85  86  88  90  92  94  95  97 \n",
       "  1   3   5   3   4   6   3   4   2   7   5 "
      ]
     },
     "metadata": {},
     "output_type": "display_data"
    }
   ],
   "source": [
    "# Summary of factorized horsepower\n",
    "df$horsepower%>%as.factor() %>% summary()"
   ]
  },
  {
   "cell_type": "markdown",
   "metadata": {},
   "source": [
    "Notice the reason why it couldn't be converted to a number? It is the 2 rows with a question mark. I am tempted to just filter out those rows, but for learning purposes, let's see what happens when we leave them in and convert to an integer data type.\n",
    "\n",
    "In these exercises we are overwriting the columns and the data frame with updated data. In practice, there is a balance with traceability back to the source and information loss. For example, you could store snapshots of the data frame in distinct variables at each stage in the pipeline. You could also have multiple copies of the same column. I would append '_original' to the raw data and the regular column name for the 'cleaned' version."
   ]
  },
  {
   "cell_type": "code",
   "execution_count": 36,
   "metadata": {},
   "outputs": [
    {
     "name": "stderr",
     "output_type": "stream",
     "text": [
      "Warning message:\n",
      "“NAs introduced by coercion”"
     ]
    },
    {
     "name": "stdout",
     "output_type": "stream",
     "text": [
      "Observations: 176\n",
      "Variables: 10\n",
      "$ fuel_type        \u001b[3m\u001b[90m<fct>\u001b[39m\u001b[23m gas, gas, gas, gas, gas, gas, gas, gas, gas, gas, ga…\n",
      "$ drive_wheels     \u001b[3m\u001b[90m<fct>\u001b[39m\u001b[23m rwd, rwd, rwd, fwd, rwd, rwd, rwd, rwd, rwd, rwd, rw…\n",
      "$ curb_weight      \u001b[3m\u001b[90m<int>\u001b[39m\u001b[23m 2548, 2548, 2823, 2337, 2395, 2395, 2710, 2765, 3055…\n",
      "$ engine_type      \u001b[3m\u001b[90m<fct>\u001b[39m\u001b[23m dohc, dohc, ohcv, ohc, ohc, ohc, ohc, ohc, ohc, ohc,…\n",
      "$ num_of_cylinders \u001b[3m\u001b[90m<fct>\u001b[39m\u001b[23m four, four, six, four, four, four, six, six, six, si…\n",
      "$ engine_size      \u001b[3m\u001b[90m<int>\u001b[39m\u001b[23m 130, 130, 152, 109, 108, 108, 164, 164, 164, 209, 20…\n",
      "$ fuel_system      \u001b[3m\u001b[90m<fct>\u001b[39m\u001b[23m mpfi, mpfi, mpfi, mpfi, mpfi, mpfi, mpfi, mpfi, mpfi…\n",
      "$ horsepower       \u001b[3m\u001b[90m<int>\u001b[39m\u001b[23m 111, 111, 154, 102, 101, 101, 121, 121, 121, 182, 18…\n",
      "$ city_mpg         \u001b[3m\u001b[90m<int>\u001b[39m\u001b[23m 21, 21, 19, 24, 23, 23, 21, 21, 20, 16, 16, 15, 38, …\n",
      "$ highway_mpg      \u001b[3m\u001b[90m<int>\u001b[39m\u001b[23m 27, 27, 26, 30, 29, 29, 28, 28, 25, 22, 22, 20, 43, …\n"
     ]
    },
    {
     "data": {
      "text/plain": [
       "  fuel_type   drive_wheels  curb_weight   engine_type num_of_cylinders\n",
       " diesel: 16   fwd:114      Min.   :1713   dohc: 12    four:152        \n",
       " gas   :160   rwd: 62      1st Qu.:2117   l   : 11    six : 24        \n",
       "                           Median :2395   ohc :135                    \n",
       "                           Mean   :2491   ohcf: 10                    \n",
       "                           3rd Qu.:2826   ohcv:  8                    \n",
       "                           Max.   :4066                               \n",
       "                                                                      \n",
       "  engine_size    fuel_system   horsepower       city_mpg      highway_mpg   \n",
       " Min.   : 79.0   1bbl:11     Min.   : 52.0   Min.   :15.00   Min.   :19.00  \n",
       " 1st Qu.: 97.0   2bbl:60     1st Qu.: 70.0   1st Qu.:21.00   1st Qu.:27.00  \n",
       " Median :110.5   idi :16     Median : 92.0   Median :26.00   Median :31.00  \n",
       " Mean   :123.1   mfi : 1     Mean   :100.7   Mean   :26.01   Mean   :31.72  \n",
       " 3rd Qu.:141.0   mpfi:78     3rd Qu.:116.0   3rd Qu.:31.00   3rd Qu.:37.00  \n",
       " Max.   :258.0   spdi: 9     Max.   :207.0   Max.   :49.00   Max.   :54.00  \n",
       "                 spfi: 1     NA's   :2                                      "
      ]
     },
     "metadata": {},
     "output_type": "display_data"
    }
   ],
   "source": [
    "df <- df %>% \n",
    "   mutate(horsepower = as.integer(horsepower))\n",
    "\n",
    "# Glimpse result\n",
    "df %>% glimpse()\n",
    "\n",
    "# Summary result\n",
    "df %>% summary()"
   ]
  },
  {
   "cell_type": "markdown",
   "metadata": {},
   "source": [
    "Success. Well there was a warning. We expected this. 'NAs introduced by coercion'. Notice it doesn't say how many NAs were introduced. Whenever you get this message, you need to check the count. It could 'introduce' NA to *every* row. That has happened to me before. \n",
    "\n",
    "glimpse shows we didn't lose any rows or columns. It also indicates horsepower is an integer. \n",
    "\n",
    "summary now shows something useful for horsepower. It has the min of 52. That sure seems low. A median of 92...which also seems low to me. I guess it is my U.S. muscle car teenage years. Notice the number of NA values. That is where the two question marks ended up.\n",
    "\n",
    "That is a good thing. I prefer to have missing values to be the more formal NA R value than a custom value in the data. There are functions that operate on NA values making them easier to deal with. \n",
    "\n",
    "With that said, let's remove the NA rows to give us a clean data set to work with. We'll use the tidyverse drop_na function from tidyr."
   ]
  },
  {
   "cell_type": "markdown",
   "metadata": {},
   "source": [
    "## drop_na()\n",
    "Drop rows containing missing values. \n",
    "\n",
    "drop_na(data, ...)"
   ]
  },
  {
   "cell_type": "code",
   "execution_count": 37,
   "metadata": {
    "collapsed": true
   },
   "outputs": [],
   "source": [
    "# Let's open help on drop_na \n",
    "?drop_na"
   ]
  },
  {
   "cell_type": "markdown",
   "metadata": {},
   "source": [
    "We have a choice of specifying columns explicitly or just leaving it blank and rows with NAs in any column will be dropped. \n",
    "\n",
    "This, of course depends on our analysis. Typically we would fill in all the missing values that we wanted to with the assumption that whatever we didn't fill in, we would drop at the end. \n",
    "\n",
    "This time let's not specify column names so it will look over the entire data set."
   ]
  },
  {
   "cell_type": "code",
   "execution_count": 38,
   "metadata": {},
   "outputs": [
    {
     "name": "stdout",
     "output_type": "stream",
     "text": [
      "Observations: 174\n",
      "Variables: 10\n",
      "$ fuel_type        \u001b[3m\u001b[90m<fct>\u001b[39m\u001b[23m gas, gas, gas, gas, gas, gas, gas, gas, gas, gas, ga…\n",
      "$ drive_wheels     \u001b[3m\u001b[90m<fct>\u001b[39m\u001b[23m rwd, rwd, rwd, fwd, rwd, rwd, rwd, rwd, rwd, rwd, rw…\n",
      "$ curb_weight      \u001b[3m\u001b[90m<int>\u001b[39m\u001b[23m 2548, 2548, 2823, 2337, 2395, 2395, 2710, 2765, 3055…\n",
      "$ engine_type      \u001b[3m\u001b[90m<fct>\u001b[39m\u001b[23m dohc, dohc, ohcv, ohc, ohc, ohc, ohc, ohc, ohc, ohc,…\n",
      "$ num_of_cylinders \u001b[3m\u001b[90m<fct>\u001b[39m\u001b[23m four, four, six, four, four, four, six, six, six, si…\n",
      "$ engine_size      \u001b[3m\u001b[90m<int>\u001b[39m\u001b[23m 130, 130, 152, 109, 108, 108, 164, 164, 164, 209, 20…\n",
      "$ fuel_system      \u001b[3m\u001b[90m<fct>\u001b[39m\u001b[23m mpfi, mpfi, mpfi, mpfi, mpfi, mpfi, mpfi, mpfi, mpfi…\n",
      "$ horsepower       \u001b[3m\u001b[90m<int>\u001b[39m\u001b[23m 111, 111, 154, 102, 101, 101, 121, 121, 121, 182, 18…\n",
      "$ city_mpg         \u001b[3m\u001b[90m<int>\u001b[39m\u001b[23m 21, 21, 19, 24, 23, 23, 21, 21, 20, 16, 16, 15, 38, …\n",
      "$ highway_mpg      \u001b[3m\u001b[90m<int>\u001b[39m\u001b[23m 27, 27, 26, 30, 29, 29, 28, 28, 25, 22, 22, 20, 43, …\n"
     ]
    },
    {
     "data": {
      "text/plain": [
       "  fuel_type   drive_wheels  curb_weight   engine_type num_of_cylinders\n",
       " diesel: 16   fwd:112      Min.   :1713   dohc: 12    four:150        \n",
       " gas   :158   rwd: 62      1st Qu.:2112   l   : 11    six : 24        \n",
       "                           Median :2390   ohc :133                    \n",
       "                           Mean   :2490   ohcf: 10                    \n",
       "                           3rd Qu.:2830   ohcv:  8                    \n",
       "                           Max.   :4066                               \n",
       "                                                                      \n",
       "  engine_size  fuel_system   horsepower       city_mpg      highway_mpg   \n",
       " Min.   : 79   1bbl:11     Min.   : 52.0   Min.   :15.00   Min.   :19.00  \n",
       " 1st Qu.: 97   2bbl:60     1st Qu.: 70.0   1st Qu.:21.00   1st Qu.:27.00  \n",
       " Median :110   idi :16     Median : 92.0   Median :26.00   Median :31.50  \n",
       " Mean   :123   mfi : 1     Mean   :100.7   Mean   :26.04   Mean   :31.72  \n",
       " 3rd Qu.:141   mpfi:76     3rd Qu.:116.0   3rd Qu.:31.00   3rd Qu.:37.00  \n",
       " Max.   :258   spdi: 9     Max.   :207.0   Max.   :49.00   Max.   :54.00  \n",
       "               spfi: 1                                                    "
      ]
     },
     "metadata": {},
     "output_type": "display_data"
    }
   ],
   "source": [
    "# Drop all rows containing NAs\n",
    "df <- drop_na(df)\n",
    "\n",
    "# Glimpse result\n",
    "df %>% glimpse()\n",
    "\n",
    "# Summary result\n",
    "df %>% summary()"
   ]
  },
  {
   "cell_type": "markdown",
   "metadata": {},
   "source": [
    "Notice above that the row count dropped from 176 to 174 as expected. Also notice that horsepower summary does not contain any NA rows.\n",
    "\n",
    "We did a good job cleaning the data! Now let's see if that made any difference on our analysis.\n",
    "\n",
    "Let's plot highway mpg vs engine size colored by number of cylinders, faceted by drive wheels and fuel type. And yes, jitter, alpha blend, and linear trend lines please!"
   ]
  },
  {
   "cell_type": "code",
   "execution_count": 40,
   "metadata": {
    "scrolled": false
   },
   "outputs": [
    {
     "data": {
      "image/png": "[encoded data removed]",
      "text/plain": [
       "plot without title"
      ]
     },
     "metadata": {},
     "output_type": "display_data"
    }
   ],
   "source": [
    "# Create highway mpg vs engine size plot\n",
    "# include cylinders, drive wheels, and fuel type\n",
    "# Add jitter, alpha and trend lines\n",
    "df %>% \n",
    "   ggplot(aes(x = highway_mpg, y = engine_size, color = num_of_cylinders)) + \n",
    "   geom_jitter(alpha = 0.3) +\n",
    "   geom_smooth(se = FALSE, method = \"lm\") +\n",
    "   facet_wrap(drive_wheels ~ fuel_type)"
   ]
  },
  {
   "cell_type": "markdown",
   "metadata": {},
   "source": [
    "Let's summarize the cleaning process we did in a single code block. This is an exercise in looking back at what you did earlier and recreating it below to reinforce your learning and to use this as a more concise code reference."
   ]
  },
  {
   "cell_type": "code",
   "execution_count": 45,
   "metadata": {},
   "outputs": [
    {
     "name": "stderr",
     "output_type": "stream",
     "text": [
      "Parsed with column specification:\n",
      "cols(\n",
      "  .default = col_character(),\n",
      "  symboling = col_integer(),\n",
      "  wheel_base = col_double(),\n",
      "  length = col_double(),\n",
      "  width = col_double(),\n",
      "  height = col_double(),\n",
      "  curb_weight = col_integer(),\n",
      "  engine_size = col_integer(),\n",
      "  compression_ratio = col_double(),\n",
      "  city_mpg = col_integer(),\n",
      "  highway_mpg = col_integer()\n",
      ")\n",
      "See spec(...) for full column specifications.\n",
      "Warning message:\n",
      "“NAs introduced by coercion”"
     ]
    },
    {
     "name": "stdout",
     "output_type": "stream",
     "text": [
      "Observations: 174\n",
      "Variables: 10\n",
      "$ fuel_type        \u001b[3m\u001b[90m<fct>\u001b[39m\u001b[23m gas, gas, gas, gas, gas, gas, gas, gas, gas, gas, ga…\n",
      "$ drive_wheels     \u001b[3m\u001b[90m<fct>\u001b[39m\u001b[23m rwd, rwd, rwd, fwd, rwd, rwd, rwd, rwd, rwd, rwd, rw…\n",
      "$ curb_weight      \u001b[3m\u001b[90m<int>\u001b[39m\u001b[23m 2548, 2548, 2823, 2337, 2395, 2395, 2710, 2765, 3055…\n",
      "$ engine_type      \u001b[3m\u001b[90m<fct>\u001b[39m\u001b[23m dohc, dohc, ohcv, ohc, ohc, ohc, ohc, ohc, ohc, ohc,…\n",
      "$ num_of_cylinders \u001b[3m\u001b[90m<fct>\u001b[39m\u001b[23m four, four, six, four, four, four, six, six, six, si…\n",
      "$ engine_size      \u001b[3m\u001b[90m<int>\u001b[39m\u001b[23m 130, 130, 152, 109, 108, 108, 164, 164, 164, 209, 20…\n",
      "$ fuel_system      \u001b[3m\u001b[90m<fct>\u001b[39m\u001b[23m mpfi, mpfi, mpfi, mpfi, mpfi, mpfi, mpfi, mpfi, mpfi…\n",
      "$ horsepower       \u001b[3m\u001b[90m<int>\u001b[39m\u001b[23m 111, 111, 154, 102, 101, 101, 121, 121, 121, 182, 18…\n",
      "$ city_mpg         \u001b[3m\u001b[90m<int>\u001b[39m\u001b[23m 21, 21, 19, 24, 23, 23, 21, 21, 20, 16, 16, 15, 38, …\n",
      "$ highway_mpg      \u001b[3m\u001b[90m<int>\u001b[39m\u001b[23m 27, 27, 26, 30, 29, 29, 28, 28, 25, 22, 22, 20, 43, …\n",
      "Observations: 174\n",
      "Variables: 10\n",
      "$ fuel_type        \u001b[3m\u001b[90m<fct>\u001b[39m\u001b[23m gas, gas, gas, gas, gas, gas, gas, gas, gas, gas, ga…\n",
      "$ drive_wheels     \u001b[3m\u001b[90m<fct>\u001b[39m\u001b[23m rwd, rwd, rwd, fwd, rwd, rwd, rwd, rwd, rwd, rwd, rw…\n",
      "$ curb_weight      \u001b[3m\u001b[90m<int>\u001b[39m\u001b[23m 2548, 2548, 2823, 2337, 2395, 2395, 2710, 2765, 3055…\n",
      "$ engine_type      \u001b[3m\u001b[90m<fct>\u001b[39m\u001b[23m dohc, dohc, ohcv, ohc, ohc, ohc, ohc, ohc, ohc, ohc,…\n",
      "$ num_of_cylinders \u001b[3m\u001b[90m<fct>\u001b[39m\u001b[23m four, four, six, four, four, four, six, six, six, si…\n",
      "$ engine_size      \u001b[3m\u001b[90m<int>\u001b[39m\u001b[23m 130, 130, 152, 109, 108, 108, 164, 164, 164, 209, 20…\n",
      "$ fuel_system      \u001b[3m\u001b[90m<fct>\u001b[39m\u001b[23m mpfi, mpfi, mpfi, mpfi, mpfi, mpfi, mpfi, mpfi, mpfi…\n",
      "$ horsepower       \u001b[3m\u001b[90m<int>\u001b[39m\u001b[23m 111, 111, 154, 102, 101, 101, 121, 121, 121, 182, 18…\n",
      "$ city_mpg         \u001b[3m\u001b[90m<int>\u001b[39m\u001b[23m 21, 21, 19, 24, 23, 23, 21, 21, 20, 16, 16, 15, 38, …\n",
      "$ highway_mpg      \u001b[3m\u001b[90m<int>\u001b[39m\u001b[23m 27, 27, 26, 30, 29, 29, 28, 28, 25, 22, 22, 20, 43, …\n"
     ]
    }
   ],
   "source": [
    "# Load libraries\n",
    "library('forcats')# forcats\n",
    "library('tidyverse')# tidyverse\n",
    "\n",
    "# Load data\n",
    "df_auto <- read_csv(\"auto.csv\")\n",
    "\n",
    "# Select columns of interest\n",
    "df <- df_auto %>% \n",
    "   select(fuel_type, drive_wheels, \n",
    "          curb_weight, engine_type, \n",
    "          num_of_cylinders, engine_size, \n",
    "          fuel_system, horsepower, \n",
    "          city_mpg, highway_mpg)\n",
    "\n",
    "# Filter rows as necessary\n",
    "df <- df %>% \n",
    "   filter(num_of_cylinders %in% c(\"four\", \"six\"), \n",
    "          drive_wheels != '4wd') %>% \n",
    "   mutate(num_of_cylinders = as.factor(num_of_cylinders),\n",
    "        fuel_type = as.factor(fuel_type),\n",
    "        drive_wheels = as.factor(drive_wheels),\n",
    "        engine_type = as.factor(engine_type),\n",
    "        fuel_system = as.factor(fuel_system),\n",
    "        horsepower = as.integer(horsepower))\n",
    "\n",
    "\n",
    "# Dropping levels wasn't required\n",
    "# Drop all rows containing NAs\n",
    "df <- df %>% drop_na() \n",
    "\n",
    "# Glimpse result\n",
    "df %>% glimpse()\n",
    "\n",
    "# Summary result\n",
    "df %>% glimpse()"
   ]
  },
  {
   "cell_type": "markdown",
   "metadata": {},
   "source": [
    "Notice the same number of rows and columns and data types as before. Nicely done!"
   ]
  }
 ],
 "metadata": {
  "kernelspec": {
   "display_name": "R 3.5.1",
   "language": "R",
   "name": "ir"
  },
  "language_info": {
   "codemirror_mode": "r",
   "file_extension": ".r",
   "mimetype": "text/x-r-source",
   "name": "R",
   "pygments_lexer": "r",
   "version": "3.5.1"
  }
 },
 "nbformat": 4,
 "nbformat_minor": 1
}
