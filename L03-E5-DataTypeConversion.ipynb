{
 "cells": [
  {
   "cell_type": "markdown",
   "metadata": {},
   "source": [
    "# Data Type Conversion\n",
    "Data type conversion starts when you first import data and continues on with the data wrangling process. When adding categorical variables and your own derived columns, this becomes an ongoing iterative process. \n",
    "\n",
    "In this exercise, we will clean up the automotive data from UCI, exposing you to some new key functions such as mutate(), and as.factor(). We will walk through the process step-by-step looking at the data and determining what data is important and how it should be transformed. The end results in a data analysis of the newly cleaned data showing the relationship between diesel and gas engines and their highway gas mileage performance.\n",
    "\n",
    "\n",
    "\n",
    "## R Features\n",
    "* library()\n",
    "* read_csv()\n",
    "* glimpse()\n",
    "* summary()\n",
    "* mutate()\n",
    "* as.factor()\n",
    "* fct_drop()\n",
    "* drop_na()\n",
    "* as.integer()\n",
    "* ggplot()\n",
    "* geom_jitter()\n",
    "* geom_smooth()\n",
    "* filter()\n",
    "* facet_grid()\n",
    "\n",
    "## Datasets\n",
    "* automotive from UCI\n"
   ]
  },
  {
   "cell_type": "markdown",
   "metadata": {},
   "source": [
    "# L03-5-Data Type Conversion\n",
    "## Assignment Instructions\n",
    "Rename with your name in place of Studentname and make your edits and updates here.\n"
   ]
  },
  {
   "cell_type": "code",
   "execution_count": null,
   "metadata": {
    "collapsed": true,
    "scrolled": false
   },
   "outputs": [],
   "source": [
    "# Load libraries\n",
    "library(___) # forcats\n",
    "library(___) # tidyverse"
   ]
  },
  {
   "cell_type": "markdown",
   "metadata": {},
   "source": [
    "## UCI Automobile Data Set\n",
    "\n",
    "Manually explore UCI and a description of the data in your web browser. \n",
    "\n",
    "https://archive.ics.uci.edu/ml/datasets/Automobile\n",
    "\n",
    "Did you notice where the column names were stored? "
   ]
  },
  {
   "cell_type": "code",
   "execution_count": null,
   "metadata": {
    "collapsed": true
   },
   "outputs": [],
   "source": [
    "# Load the UCI auto data\n",
    "# store auto.csv in df_auto\n",
    "___ <- ___(\"___\")"
   ]
  },
  {
   "cell_type": "code",
   "execution_count": null,
   "metadata": {
    "collapsed": true
   },
   "outputs": [],
   "source": [
    "# Glimpse data frame\n",
    "___"
   ]
  },
  {
   "cell_type": "markdown",
   "metadata": {},
   "source": [
    "Look at the above information carefully. This is where you can start to determine the following:\n",
    "•\tWhich columns you are interested in and which you can ignore\n",
    "•\tFor the columns of interest, what are the most appropriate data types\n",
    "•\tFor columns that we want to change the data type, is there any data cleaning needed first\n",
    "•\tDetermine how many missing values and how to best handle them\n",
    "\n"
   ]
  },
  {
   "cell_type": "markdown",
   "metadata": {},
   "source": [
    "## select()\n",
    "I am interested in analyzing fuel economy in conjunction with vehicle and engine size. Columns that come to mind are:\n",
    "* fuel_type\n",
    "* drive_wheels\n",
    "* curb_weight\n",
    "* engine_type\n",
    "* num_of_cylinders\n",
    "* engine_size\n",
    "* fuel_system\n",
    "* horsepower\n",
    "* city_mpg\n",
    "* highway_mpg"
   ]
  },
  {
   "cell_type": "code",
   "execution_count": null,
   "metadata": {
    "collapsed": true
   },
   "outputs": [],
   "source": [
    "# Create a new df with\n",
    "# just the columns of interest above\n",
    "# Use select()\n",
    "___ <- ___ %>% \n",
    "   ___(___, drive_wheels, \n",
    "          curb_weight, engine_type, \n",
    "          num_of_cylinders, engine_size, \n",
    "          fuel_system, horsepower, \n",
    "          city_mpg, ___)\n",
    "\n",
    "# Glimpse result\n",
    "___"
   ]
  },
  {
   "cell_type": "markdown",
   "metadata": {},
   "source": [
    "## summary()\n",
    "Another useful function similar to glimpse is summary(). It gives some statistics and an idea of missing values. These concepts will be covered in the stats lessons in the course. Here we will just take a peek."
   ]
  },
  {
   "cell_type": "code",
   "execution_count": null,
   "metadata": {
    "collapsed": true
   },
   "outputs": [],
   "source": [
    "# Run summary() on df\n",
    "___(___)"
   ]
  },
  {
   "cell_type": "markdown",
   "metadata": {},
   "source": [
    "There is a lot of information in summary(). When in the context of data cleaning and data type conversion, I am looking for missing values or unexpected min or max outliers. I don't see much here. The work we have to do is on the character columns and unfortunately summary() doesn't provide much insight. \n",
    "\n",
    "There are two columns that I want to look into further, num_of_cylinders and horsepower. Both of these are character data type and have the potential for an integer data type."
   ]
  },
  {
   "cell_type": "markdown",
   "metadata": {},
   "source": [
    "## as.factor()\n",
    "Factors are just a way for R to normalize character strings by referencing them by number. \n",
    "\n",
    "I like to temporarility convert strings to factors just to see what is in there. Often there are some outliers that may need to be removed before we can convert the string to a number. \n",
    "\n",
    "If we combine as.factor() with summary() we can see more.\n",
    "\n"
   ]
  },
  {
   "cell_type": "code",
   "execution_count": null,
   "metadata": {
    "collapsed": true
   },
   "outputs": [],
   "source": [
    "# Use $ to select num of cylinders column of df\n",
    "# then pipe it to as.factor() \n",
    "# then pipe to summary()\n",
    "df$___ %>% ___() %>% ___()"
   ]
  },
  {
   "cell_type": "markdown",
   "metadata": {},
   "source": [
    "Now we can see all of the different values of number of cylinders and how many rows each contain. Since I am interested in analyzing the general trend of fuel economy, I would like to stick to the more popular cylinder counts. I don't want any outliers to confuse my analysiss. \n",
    "\n",
    "From the data it looks like I should keep 4 and 6 cylinder engines. Let's filter the data for this."
   ]
  },
  {
   "cell_type": "code",
   "execution_count": null,
   "metadata": {
    "collapsed": true
   },
   "outputs": [],
   "source": [
    "# Filter df so it contains \n",
    "# only 4 and 6 cylinder vehicles\n",
    "# store back in df\n",
    "___ <- ___ %>% \n",
    "   ___(num_of_cylinders ___ ___(\"four\", \"six\"))\n",
    "\n",
    "# Glimpse result\n",
    "___"
   ]
  },
  {
   "cell_type": "markdown",
   "metadata": {},
   "source": [
    "Let's rerun the last as.factor() + summary() code and confirm that only 4 and 6 cylinder vehicles remain. Don't be fooled by glimpse(). It is only showing the first set of rows of data."
   ]
  },
  {
   "cell_type": "code",
   "execution_count": null,
   "metadata": {
    "collapsed": true
   },
   "outputs": [],
   "source": [
    "# Use $ to select num of cylinders column of df\n",
    "# then pipe it to as.factor() \n",
    "# then pipe to summary()\n",
    "df$___ %>% ___() %>% ___()"
   ]
  },
  {
   "cell_type": "markdown",
   "metadata": {},
   "source": [
    "## mutate()\n",
    "\n",
    "That looks good. Now back to the question of data type conversion. We could convert the string \"four\" and \"six\" to numbers and we could do that. However, I know that this is going to be used as a categorical variable not and not as a variable that we would perform mathematical operations against. So, leaving it as strings won't hurt anything. \n",
    "\n",
    "In either case, we want to convert this column to a factor. This is where mutate() comes in. mutate() is a tidyverse dplyr function that can update existing columns or create new columns in a data frame.\n"
   ]
  },
  {
   "cell_type": "code",
   "execution_count": null,
   "metadata": {
    "collapsed": true
   },
   "outputs": [],
   "source": [
    "# Convert cylinders to a factor\n",
    "df <- df %>% \n",
    "   ___(num_of_cylinders = ___(num_of_cylinders))\n",
    "\n",
    "# View factor levels with levels()\n",
    "___(df$num_of_cylinders)\n",
    "\n",
    "# Glimpse result\n",
    "___"
   ]
  },
  {
   "cell_type": "markdown",
   "metadata": {},
   "source": [
    "Notice above that num_of_cylinders data type changed from <chr> to <fctr> and the values are not quoted.\n",
    "\n",
    "Let's convert the following to factors:\n",
    "* fuel_type\n",
    "* drive_wheels\n",
    "* engine_type\n",
    "* fuel_system\n",
    "\n"
   ]
  },
  {
   "cell_type": "code",
   "execution_count": null,
   "metadata": {
    "collapsed": true
   },
   "outputs": [],
   "source": [
    "# Convert strings to factors\n",
    "df <- df %>% \n",
    "   ___(fuel_type = as.factor(fuel_type),\n",
    "         ___ = ___,\n",
    "         ___ = ___),\n",
    "         ___ = ___)\n",
    "\n",
    "# Glimpse result\n",
    "___\n",
    "\n",
    "# Summary result\n",
    "___"
   ]
  },
  {
   "cell_type": "markdown",
   "metadata": {},
   "source": [
    "It is looking much better. Notice all of our data types are either factor or integer, with the exception of horsepower, which we will tackle next. \n",
    "\n",
    "Also notice how much more informative the summary() function is for factors as compared to characters. I can see for example that there are only 7 4wd, much lower than the rest. \n",
    "\n",
    "Let's filter out 4wd before we tackle horsepower."
   ]
  },
  {
   "cell_type": "code",
   "execution_count": null,
   "metadata": {
    "collapsed": true
   },
   "outputs": [],
   "source": [
    "df <- df %>% \n",
    "   ___(drive_wheels ___ \"___\")\n",
    "\n",
    "# Glimpse result\n",
    "___\n",
    "\n",
    "# Summary result\n",
    "___"
   ]
  },
  {
   "cell_type": "markdown",
   "metadata": {},
   "source": [
    "Notice the number of observations decreased from 183 to 176. Also notice that under drive wheels summary, 4wd is 0. This is a situation where I would like to drop that level otherwise it will always show 0."
   ]
  },
  {
   "cell_type": "code",
   "execution_count": null,
   "metadata": {
    "collapsed": true
   },
   "outputs": [],
   "source": [
    "# Drop drive_wheels unused levels\n",
    "# using fct_drop\n",
    "df <- df %>% \n",
    "   ___(drive_wheels = fct_drop(___))\n",
    "\n",
    "# Glimpse result\n",
    "___\n",
    "\n",
    "# Summary result\n",
    "___"
   ]
  },
  {
   "cell_type": "markdown",
   "metadata": {},
   "source": [
    "Great. drive_wheels looks good. 4wd is gone. Let's explore horsepower. Recall from earlier how we piped the column to as.factor() then onto summary(). Let's do that with horsepower."
   ]
  },
  {
   "cell_type": "code",
   "execution_count": null,
   "metadata": {
    "collapsed": true
   },
   "outputs": [],
   "source": [
    "# Summary of factorized horsepower\n",
    "df$___ %>% ___() %>% ___()"
   ]
  },
  {
   "cell_type": "markdown",
   "metadata": {},
   "source": [
    "Notice the reason why it couldn't be converted to a number? It is the 2 rows with a question mark. I am tempted to just filter out those rows, but for learning purposes, let's see what happens when we leave them in and convert to an integer data type.\n",
    "\n",
    "In these exercises we are overwriting the columns and the data frame with updated data. In practice, there is a balance with traceability back to the source and information loss. For example, you could store snapshots of the data frame in distinct variables at each stage in the pipeline. You could also have multiple copies of the same column. I would append '_original' to the raw data and the regular column name for the 'cleaned' version."
   ]
  },
  {
   "cell_type": "code",
   "execution_count": null,
   "metadata": {
    "collapsed": true
   },
   "outputs": [],
   "source": [
    "df <- df %>% \n",
    "   ___(horsepower = ___(horsepower))\n",
    "\n",
    "# Glimpse result\n",
    "___\n",
    "\n",
    "# Summary result\n",
    "___"
   ]
  },
  {
   "cell_type": "markdown",
   "metadata": {},
   "source": [
    "Success. Well there was a warning. We expected this. 'NAs introduced by coercion'. Notice it doesn't say how many NAs were introduced. Whenever you get this message, you need to check the count. It could 'introduce' NA to *every* row. That has happened to me before. \n",
    "\n",
    "glimpse shows we didn't lose any rows or columns. It also indicates horsepower is an integer. \n",
    "\n",
    "summary now shows something useful for horsepower. It has the min of 52. That sure seems low. A median of 92...which also seems low to me. I guess it is my U.S. muscle car teenage years. Notice the number of NA values. That is where the two question marks ended up.\n",
    "\n",
    "That is a good thing. I prefer to have missing values to be the more formal NA R value than a custom value in the data. There are functions that operate on NA values making them easier to deal with. \n",
    "\n",
    "With that said, let's remove the NA rows to give us a clean data set to work with. We'll use the tidyverse drop_na function from tidyr."
   ]
  },
  {
   "cell_type": "markdown",
   "metadata": {},
   "source": [
    "## drop_na()\n",
    "Drop rows containing missing values. \n",
    "\n",
    "drop_na(data, ...)"
   ]
  },
  {
   "cell_type": "code",
   "execution_count": null,
   "metadata": {
    "collapsed": true
   },
   "outputs": [],
   "source": [
    "# Let's open help on drop_na \n",
    "?drop_na"
   ]
  },
  {
   "cell_type": "markdown",
   "metadata": {},
   "source": [
    "We have a choice of specifying columns explicitly or just leaving it blank and rows with NAs in any column will be dropped. \n",
    "\n",
    "This, of course depends on our analysis. Typically we would fill in all the missing values that we wanted to with the assumption that whatever we didn't fill in, we would drop at the end. \n",
    "\n",
    "This time let's not specify column names so it will look over the entire data set."
   ]
  },
  {
   "cell_type": "code",
   "execution_count": null,
   "metadata": {
    "collapsed": true
   },
   "outputs": [],
   "source": [
    "# Drop all rows containing NAs\n",
    "df <- ___(___)\n",
    "\n",
    "# Glimpse result\n",
    "___\n",
    "\n",
    "# Summary result\n",
    "___"
   ]
  },
  {
   "cell_type": "markdown",
   "metadata": {},
   "source": [
    "Notice above that the row count dropped from 176 to 174 as expected. Also notice that horsepower summary does not contain any NA rows.\n",
    "\n",
    "We did a good job cleaning the data! Now let's see if that made any difference on our analysis.\n",
    "\n",
    "Let's plot highway mpg vs engine size colored by number of cylinders, faceted by drive wheels and fuel type. And yes, jitter, alpha blend, and linear trend lines please!"
   ]
  },
  {
   "cell_type": "code",
   "execution_count": null,
   "metadata": {
    "collapsed": true,
    "scrolled": false
   },
   "outputs": [],
   "source": [
    "# Create highway mpg vs engine size plot\n",
    "# include cylinders, drive wheels, and fuel type\n",
    "# Add jitter, alpha and trend lines\n",
    "df %>% \n",
    "   ggplot(aes(x = ___, y = ___, ___ = ___)) + \n",
    "   ___(alpha = 0.3) +\n",
    "   ___(se = FALSE, ___) +\n",
    "   ___(drive_wheels ~ ___)"
   ]
  },
  {
   "cell_type": "markdown",
   "metadata": {},
   "source": [
    "Let's summarize the cleaning process we did in a single code block. This is an exercise in looking back at what you did earlier and recreating it below to reinforce your learning and to use this as a more concise code reference."
   ]
  },
  {
   "cell_type": "code",
   "execution_count": null,
   "metadata": {
    "collapsed": true
   },
   "outputs": [],
   "source": [
    "# Load libraries\n",
    "___ # forcats\n",
    "___ # tidyverse\n",
    "\n",
    "# Load data\n",
    "df_auto <- ___(\"auto.csv\")\n",
    "\n",
    "# Select columns of interest\n",
    "df <- df_auto %>% \n",
    "   ___(fuel_type, drive_wheels, \n",
    "          curb_weight, engine_type, \n",
    "          num_of_cylinders, engine_size, \n",
    "          fuel_system, horsepower, \n",
    "          city_mpg, highway_mpg)\n",
    "\n",
    "# Filter rows as necessary\n",
    "df <- df %>% \n",
    "   ___(num_of_cylinders ___, \n",
    "          drive_wheels ___) %>% \n",
    "   ___(num_of_cylinders = ___,\n",
    "          fuel_type = ___,\n",
    "          drive_wheels = ___,\n",
    "          engine_type = ___,\n",
    "          fuel_system = ___,\n",
    "          horsepower = ___)\n",
    "\n",
    "# Dropping levels wasn't required\n",
    "# Drop all rows containing NAs\n",
    "___\n",
    "\n",
    "# Glimpse result\n",
    "___\n",
    "\n",
    "# Summary result\n",
    "___"
   ]
  },
  {
   "cell_type": "markdown",
   "metadata": {},
   "source": [
    "Notice the same number of rows and columns and data types as before. Nicely done!"
   ]
  }
 ],
 "metadata": {
  "kernelspec": {
   "display_name": "R 3.5.1",
   "language": "R",
   "name": "ir"
  },
  "language_info": {
   "codemirror_mode": "r",
   "file_extension": ".r",
   "mimetype": "text/x-r-source",
   "name": "R",
   "pygments_lexer": "r",
   "version": "3.5.1"
  }
 },
 "nbformat": 4,
 "nbformat_minor": 1
}
