{
 "cells": [
  {
   "cell_type": "markdown",
   "metadata": {},
   "source": [
    "# L05-3-Functions\n",
    "## Assignment Instructions\n",
    "Rename with your name in place of Studentname and make your edits and updates here.\n"
   ]
  },
  {
   "cell_type": "markdown",
   "metadata": {},
   "source": [
    "# Using User Defined Functions and Loops\n",
    "In this exercise, you organize your code by creating your own functions. This reduces code duplication and enhances readability. Once you have your code in functions, you can call this code using for loops. \n",
    "\n",
    "You apply these features to two functions you create. The first is loading libraries and installing packages on demand if not already installed. The second is a logging program that will log a message to a text file as well as print it to the screen. The first function is not vectorized meaning that it cannot be called with multiple objects at once. For this you explore the For() loop to to load multiple libraries in a single function call. The second function is vectorized and you explore how this works when passing it multiple messages at once. \n",
    "\n",
    "## R Features\n",
    "* require()\n",
    "* install.packages()\n",
    "* if()\n",
    "* library()\n",
    "* for()\n",
    "* print()\n",
    "* file.path()\n",
    "* dirname()\n",
    "* dir.exists()\n",
    "* str_c()\n",
    "* write_lines()\n",
    "* dir.create()\n",
    "* now()\n",
    "* today()\n",
    "\n",
    "## Datasets\n",
    "* NA\n"
   ]
  },
  {
   "cell_type": "code",
   "execution_count": 1,
   "metadata": {
    "collapsed": true
   },
   "outputs": [],
   "source": [
    "# Loading libraries later in this notebook\n",
    "\n",
    "# Illustrate some simple user defined functions\n",
    "# Create a function named my_func_hello\n",
    "# The function should print \"Hello World!\"\n",
    "my_func_hello<- function() {\n",
    "    print(\"Hello World!\")\n",
    "}\n"
   ]
  },
  {
   "cell_type": "markdown",
   "metadata": {},
   "source": [
    "Nothing it output when you run the above code block. It just loads the function into memory.\n",
    "\n",
    "Let's call the function."
   ]
  },
  {
   "cell_type": "code",
   "execution_count": 2,
   "metadata": {},
   "outputs": [
    {
     "data": {
      "text/html": [
       "<pre class=language-r><code>function () \n",
       "{\n",
       "<span style=white-space:pre-wrap>    print(\"Hello World!\")</span>\n",
       "}</code></pre>"
      ],
      "text/latex": [
       "\\begin{minted}{r}\n",
       "function () \n",
       "\\{\n",
       "    print(\"Hello World!\")\n",
       "\\}\n",
       "\\end{minted}"
      ],
      "text/markdown": [
       "```r\n",
       "function () \n",
       "{\n",
       "    print(\"Hello World!\")\n",
       "}\n",
       "```"
      ],
      "text/plain": [
       "function() {\n",
       "    print(\"Hello World!\")\n",
       "}"
      ]
     },
     "metadata": {},
     "output_type": "display_data"
    },
    {
     "name": "stdout",
     "output_type": "stream",
     "text": [
      "[1] \"Hello World!\"\n"
     ]
    }
   ],
   "source": [
    "# After the function is defined, you can call it\n",
    "\n",
    "# If you call it without the ()\n",
    "# It displays the function definition\n",
    "my_func_hello\n",
    "\n",
    "# Normally you call it with the () at the end\n",
    "# even when there are no parameters defined in the function\n",
    "my_func_hello()\n"
   ]
  },
  {
   "cell_type": "markdown",
   "metadata": {},
   "source": [
    "Notice is printed the function code and ran the function displaying \"Hello World!\"\n",
    "\n",
    "Let's now create a function using parameters."
   ]
  },
  {
   "cell_type": "code",
   "execution_count": 3,
   "metadata": {},
   "outputs": [
    {
     "name": "stdout",
     "output_type": "stream",
     "text": [
      "[1] \"Another World\"\n",
      "[1] \"Am I having fun yet?\"\n"
     ]
    }
   ],
   "source": [
    "# Create a function named my_func_msg\n",
    "# Include a parameter msg and print msg in the function\n",
    "my_func_msg <- function(msg) {\n",
    "    print(msg)\n",
    "}\n",
    "\n",
    "# Call the function with different values for msg\n",
    "# msg \"Another world\"\n",
    "my_func_msg(\"Another World\")\n",
    "\n",
    "# Call the function with different values for msg\n",
    "# msg \"Am I having fun yet?\"\n",
    "my_func_msg(\"Am I having fun yet?\")\n"
   ]
  },
  {
   "cell_type": "markdown",
   "metadata": {},
   "source": [
    "Notice that user defined functions work just like the 'built-in' R functions.\n",
    "\n",
    "Let's define a function that takes two parameters and returns a value."
   ]
  },
  {
   "cell_type": "markdown",
   "metadata": {},
   "source": [
    "## return()\n",
    "Function Definition. These functions provide the base mechanisms for defining new functions in the R language. \n",
    "### Usage \n",
    "function( arglist ) expr\n",
    "\n",
    "return(value)"
   ]
  },
  {
   "cell_type": "code",
   "execution_count": 4,
   "metadata": {
    "collapsed": true
   },
   "outputs": [],
   "source": [
    "# View help on return()\n",
    "# Hint: help() since this is a keyword\n",
    "help(\"return\")\n"
   ]
  },
  {
   "cell_type": "code",
   "execution_count": 5,
   "metadata": {},
   "outputs": [
    {
     "data": {
      "text/html": [
       "5"
      ],
      "text/latex": [
       "5"
      ],
      "text/markdown": [
       "5"
      ],
      "text/plain": [
       "[1] 5"
      ]
     },
     "metadata": {},
     "output_type": "display_data"
    },
    {
     "data": {
      "text/html": [
       "6"
      ],
      "text/latex": [
       "6"
      ],
      "text/markdown": [
       "6"
      ],
      "text/plain": [
       "[1] 6"
      ]
     },
     "metadata": {},
     "output_type": "display_data"
    },
    {
     "data": {
      "text/html": [
       "6"
      ],
      "text/latex": [
       "6"
      ],
      "text/markdown": [
       "6"
      ],
      "text/plain": [
       "[1] 6"
      ]
     },
     "metadata": {},
     "output_type": "display_data"
    }
   ],
   "source": [
    "# Define function my_func_add\n",
    "# Define parameters x and y \n",
    "# Make both parameters default to 0\n",
    "# In the function, add x and y and return the result\n",
    "my_func_add <- function(x = 0, y = 0) {\n",
    "    return(x+y)\n",
    "}\n",
    "\n",
    "# Call the function with \n",
    "# x = 2, y = 3\n",
    "my_func_add(2, 3)\n",
    "\n",
    "# Call the function with \n",
    "# x = 6 and do not specify y\n",
    "my_func_add(6)\n",
    "\n",
    "# Call the function with \n",
    "# y = 7 and do not specify x\n",
    "# Hint: need to used named parameters\n",
    "my_func_add(y=6)\n"
   ]
  },
  {
   "cell_type": "markdown",
   "metadata": {},
   "source": [
    "That is all there is to functions! Function syntax is straight forward. \n",
    "\n",
    "Let's create functions that do a bit more work inside them."
   ]
  },
  {
   "cell_type": "markdown",
   "metadata": {},
   "source": [
    "## require\n",
    "Loading/Attaching and Listing of Packages. library and require load and attach add-on packages. \n",
    "### Usage\n",
    "require(package, lib.loc = NULL, quietly = FALSE,\n",
    "        warn.conflicts = TRUE,\n",
    "        character.only = FALSE)"
   ]
  },
  {
   "cell_type": "code",
   "execution_count": 7,
   "metadata": {},
   "outputs": [
    {
     "data": {
      "text/html": [
       "<ol class=list-inline>\n",
       "\t<li>'.GlobalEnv'</li>\n",
       "\t<li>'package:splines'</li>\n",
       "\t<li>'jupyter:irkernel'</li>\n",
       "\t<li>'package:stats'</li>\n",
       "\t<li>'package:graphics'</li>\n",
       "\t<li>'package:grDevices'</li>\n",
       "\t<li>'package:utils'</li>\n",
       "\t<li>'package:datasets'</li>\n",
       "\t<li>'package:methods'</li>\n",
       "\t<li>'Autoloads'</li>\n",
       "\t<li>'package:base'</li>\n",
       "</ol>\n"
      ],
      "text/latex": [
       "\\begin{enumerate*}\n",
       "\\item '.GlobalEnv'\n",
       "\\item 'package:splines'\n",
       "\\item 'jupyter:irkernel'\n",
       "\\item 'package:stats'\n",
       "\\item 'package:graphics'\n",
       "\\item 'package:grDevices'\n",
       "\\item 'package:utils'\n",
       "\\item 'package:datasets'\n",
       "\\item 'package:methods'\n",
       "\\item 'Autoloads'\n",
       "\\item 'package:base'\n",
       "\\end{enumerate*}\n"
      ],
      "text/markdown": [
       "1. '.GlobalEnv'\n",
       "2. 'package:splines'\n",
       "3. 'jupyter:irkernel'\n",
       "4. 'package:stats'\n",
       "5. 'package:graphics'\n",
       "6. 'package:grDevices'\n",
       "7. 'package:utils'\n",
       "8. 'package:datasets'\n",
       "9. 'package:methods'\n",
       "10. 'Autoloads'\n",
       "11. 'package:base'\n",
       "\n",
       "\n"
      ],
      "text/plain": [
       " [1] \".GlobalEnv\"        \"package:splines\"   \"jupyter:irkernel\" \n",
       " [4] \"package:stats\"     \"package:graphics\"  \"package:grDevices\"\n",
       " [7] \"package:utils\"     \"package:datasets\"  \"package:methods\"  \n",
       "[10] \"Autoloads\"         \"package:base\"     "
      ]
     },
     "metadata": {},
     "output_type": "display_data"
    },
    {
     "name": "stderr",
     "output_type": "stream",
     "text": [
      "Loading required package: splines\n",
      "Loading required package: nonexistent\n",
      "Warning message in library(package, lib.loc = lib.loc, character.only = TRUE, logical.return = TRUE, :\n",
      "“there is no package called ‘nonexistent’”"
     ]
    },
    {
     "ename": "ERROR",
     "evalue": "Error in library(mypkg, pos = \"package:base\"): there is no package called ‘mypkg’\n",
     "output_type": "error",
     "traceback": [
      "Error in library(mypkg, pos = \"package:base\"): there is no package called ‘mypkg’\nTraceback:\n",
      "1. library(mypkg, pos = \"package:base\")",
      "2. stop(txt, domain = NA)"
     ]
    }
   ],
   "source": [
    "# View help on require()\n",
    "# ?require()\n",
    "\n",
    "library()                   # list all available packages\n",
    "library(lib.loc = .Library) # list all packages in the default library\n",
    "library(help = splines)     # documentation on package 'splines'\n",
    "library(splines)            # attach package 'splines'\n",
    "require(splines)            # the same\n",
    "search()                    # \"splines\", too\n",
    "detach(\"package:splines\")\n",
    "\n",
    "# if the package name is in a character vector, use\n",
    "pkg <- \"splines\"\n",
    "library(pkg, character.only = TRUE)\n",
    "detach(pos = match(paste(\"package\", pkg, sep = \":\"), search()))\n",
    "\n",
    "require(pkg, character.only = TRUE)\n",
    "detach(pos = match(paste(\"package\", pkg, sep = \":\"), search()))\n",
    "\n",
    "require(nonexistent)        # FALSE\n",
    "## Not run: \n",
    "## if you want to mask as little as possible, use\n",
    "library(mypkg, pos = \"package:base\")\n",
    "\n",
    "## End(Not run)"
   ]
  },
  {
   "cell_type": "markdown",
   "metadata": {},
   "source": [
    "## install.packages()\n",
    "Install Packages from Repositories or Local Files. \n",
    "### Usage\n",
    "install.packages(pkgs, lib, repos = getOption(\"repos\"),\n",
    "                 contriburl = contrib.url(repos, type),\n",
    "                 method, available = NULL, destdir = NULL,\n",
    "                 dependencies = NA, type = getOption(\"pkgType\"),\n",
    "                 configure.args = getOption(\"configure.args\"),\n",
    "                 configure.vars = getOption(\"configure.vars\"),\n",
    "                 clean = FALSE, Ncpus = getOption(\"Ncpus\", 1L),\n",
    "                 verbose = getOption(\"verbose\"),\n",
    "                 libs_only = FALSE, INSTALL_opts, quiet = FALSE,\n",
    "                 keep_outputs = FALSE, ...)"
   ]
  },
  {
   "cell_type": "code",
   "execution_count": 9,
   "metadata": {
    "collapsed": true
   },
   "outputs": [],
   "source": [
    "# View help on install.packages()\n",
    "?install.packages()\n"
   ]
  },
  {
   "cell_type": "markdown",
   "metadata": {},
   "source": [
    "## if()\n",
    "Control Flow. These are the basic control-flow constructs of the R language. They function in much the same way as control statements in any Algol-like language. They are all reserved words.\n",
    "### Usage\n",
    "if(cond) expr\n",
    "if(cond) cons.expr  else  alt.expr"
   ]
  },
  {
   "cell_type": "code",
   "execution_count": 10,
   "metadata": {
    "collapsed": true
   },
   "outputs": [],
   "source": [
    "# View help on if()\n",
    "# Cannot use ? for keywords\n",
    "help(\"if\")\n"
   ]
  },
  {
   "cell_type": "markdown",
   "metadata": {},
   "source": [
    "require() is loads a library just like library(), but it also returns a TRUE or FALSE if it was successful or not. This allows you to catch the failure and trigger the installation of a package."
   ]
  },
  {
   "cell_type": "code",
   "execution_count": 11,
   "metadata": {
    "collapsed": true,
    "scrolled": false
   },
   "outputs": [],
   "source": [
    "# Load library and if fails\n",
    "# run install.packages\n",
    "# function: load_library\n",
    "load_library<- function(x) {\n",
    "  if(!require(x, character.only = TRUE)) {\n",
    "    install.packages(x, repos = \"https://cloud.r-project.org\")\n",
    "  }\n",
    "}\n"
   ]
  },
  {
   "cell_type": "markdown",
   "metadata": {},
   "source": [
    "* Notice that when you run the code block just containing functions, there is no output. It just created the function and put it into memory so it can be called by some other code later.\n",
    "* The definition of a function uses the 'function' keyword. The assignment is assigning a name to the function. In this case it is load_pkg. \n",
    "* There is one parameter passed to the function named 'x' and it is in parenthesis after the keyword function. \n",
    "* The code that will be run when the function is called is inside curly braces '{ }'\n",
    "* When the function is called, the value of x must be supplied and inside the function, it uses that value that was passed into the function.\n",
    "\n",
    "Next: Call the function to load libraries"
   ]
  },
  {
   "cell_type": "code",
   "execution_count": 12,
   "metadata": {},
   "outputs": [
    {
     "name": "stderr",
     "output_type": "stream",
     "text": [
      "Loading required package: stringr\n"
     ]
    }
   ],
   "source": [
    "# Call load_library\n",
    "# to load 'stringr'\n",
    "load_library(\"stringr\")\n"
   ]
  },
  {
   "cell_type": "markdown",
   "metadata": {},
   "source": [
    "The library successfully loaded and provided an informational message. \n",
    "\n",
    "Let's find a package that might not already be installed in our environment. \n",
    "Some new packages can be found at https://cran.r-project.org/web/packages/available_packages_by_date.html\n",
    "\n",
    "'editData' looks like a good choice."
   ]
  },
  {
   "cell_type": "code",
   "execution_count": 13,
   "metadata": {},
   "outputs": [
    {
     "ename": "ERROR",
     "evalue": "Error in library(\"editData\"): there is no package called ‘editData’\n",
     "output_type": "error",
     "traceback": [
      "Error in library(\"editData\"): there is no package called ‘editData’\nTraceback:\n",
      "1. library(\"editData\")",
      "2. stop(txt, domain = NA)"
     ]
    }
   ],
   "source": [
    "# Attempt standard library call to load\n",
    "# a new package not already installed\n",
    "# such as 'editData'\n",
    "library('editData')\n"
   ]
  },
  {
   "cell_type": "markdown",
   "metadata": {},
   "source": [
    "If the package was not installed, then there would be an error message stating that 'there is no package called 'package_name'\n",
    "\n",
    "Now try again using load_library() function."
   ]
  },
  {
   "cell_type": "code",
   "execution_count": 14,
   "metadata": {},
   "outputs": [
    {
     "name": "stderr",
     "output_type": "stream",
     "text": [
      "Loading required package: editData\n",
      "Warning message in library(package, lib.loc = lib.loc, character.only = TRUE, logical.return = TRUE, :\n",
      "“there is no package called ‘editData’”Warning message in install.packages(x, repos = \"https://cloud.r-project.org\"):\n",
      "“'lib = \"/home/lib/ubuntu1604/R-3.5.1/lib/R/library\"' is not writable”"
     ]
    },
    {
     "ename": "ERROR",
     "evalue": "Error in install.packages(x, repos = \"https://cloud.r-project.org\"): unable to install packages\n",
     "output_type": "error",
     "traceback": [
      "Error in install.packages(x, repos = \"https://cloud.r-project.org\"): unable to install packages\nTraceback:\n",
      "1. load_library(\"editData\")",
      "2. install.packages(x, repos = \"https://cloud.r-project.org\")   # at line 6 of file <text>",
      "3. stop(\"unable to install packages\")"
     ]
    }
   ],
   "source": [
    "# Load the same library that previously failed\n",
    "# using your user defined function load_library()\n",
    "# such as 'editData'\n",
    "# Unlike library() you must put the library in quotes\n",
    "# when passing it to the function.\n",
    "load_library(\"editData\")\n"
   ]
  },
  {
   "cell_type": "markdown",
   "metadata": {},
   "source": [
    "If this was successful, it attempted to load the library using the require() function. This failed and returned FALSE. \n",
    "\n",
    "The if() function with the ! inside instructed R to run the code inside the if() block, namely the install.packages() function. This in turn installed the package.\n",
    "\n",
    "## Vectorized functions\n",
    "If a function is vectorized, that means the x value you pass into the function could contain more than one element. It could contain a list of libraries to load. Let's see if load_library is a vectorized function."
   ]
  },
  {
   "cell_type": "code",
   "execution_count": 15,
   "metadata": {},
   "outputs": [
    {
     "name": "stderr",
     "output_type": "stream",
     "text": [
      "Warning message in if (!loaded) {:\n",
      "“the condition has length > 1 and only the first element will be used”"
     ]
    }
   ],
   "source": [
    "# Define two libraries in a character vector\n",
    "# libs and then call load_library()\n",
    "libs <- c(\"stringr\", \"lubridate\")\n",
    "\n",
    "load_library(libs)\n"
   ]
  },
  {
   "cell_type": "markdown",
   "metadata": {},
   "source": [
    "Notice the warning message indicating that it can only process one element. It turns out that this function isn't vectorized. \n",
    "\n",
    "This is a good opportunity for a For loop which will repeatedly call the function for each library we have in our libs variable."
   ]
  },
  {
   "cell_type": "markdown",
   "metadata": {},
   "source": [
    "## For\n",
    "Control Flow. These are the basic control-flow constructs of the R language. They function in much the same way as control statements in any Algol-like language. They are all reserved words.\n",
    "### Usage\n",
    "for(var in seq) expr\n",
    "\n",
    "break\n",
    "\n",
    "next"
   ]
  },
  {
   "cell_type": "code",
   "execution_count": 17,
   "metadata": {
    "collapsed": true
   },
   "outputs": [],
   "source": [
    "# View help on for()\n",
    "help(\"for\")\n"
   ]
  },
  {
   "cell_type": "code",
   "execution_count": 18,
   "metadata": {},
   "outputs": [
    {
     "data": {
      "text/html": [
       "<ol class=list-inline>\n",
       "\t<li>1</li>\n",
       "\t<li>2</li>\n",
       "\t<li>3</li>\n",
       "\t<li>4</li>\n",
       "\t<li>5</li>\n",
       "</ol>\n"
      ],
      "text/latex": [
       "\\begin{enumerate*}\n",
       "\\item 1\n",
       "\\item 2\n",
       "\\item 3\n",
       "\\item 4\n",
       "\\item 5\n",
       "\\end{enumerate*}\n"
      ],
      "text/markdown": [
       "1. 1\n",
       "2. 2\n",
       "3. 3\n",
       "4. 4\n",
       "5. 5\n",
       "\n",
       "\n"
      ],
      "text/plain": [
       "[1] 1 2 3 4 5"
      ]
     },
     "metadata": {},
     "output_type": "display_data"
    },
    {
     "name": "stdout",
     "output_type": "stream",
     "text": [
      "[1] 1\n",
      "[1] 2\n",
      "[1] 3\n",
      "[1] 4\n",
      "[1] 5\n"
     ]
    }
   ],
   "source": [
    "# Sequence of 1 to 5 by 1s\n",
    "1:5\n",
    "\n",
    "# Simple for loop\n",
    "# Loop from 1 to 5 by 1\n",
    "# print the current loop number\n",
    "for(i in 1:5) {\n",
    "    print(i)\n",
    "}\n"
   ]
  },
  {
   "cell_type": "markdown",
   "metadata": {},
   "source": [
    "First notice the 1:5 sequence printed the values 1 2 3 4 5. It generated a sequence of 5 element from the starting number to the ending number.\n",
    "\n",
    "The for loop takes a sequence of values and assigns them starting with the first one to the iterator variable (i). You can use any name for this variable, but if it is a simple counter, convention is to use the letter i. \n",
    "\n",
    "The main code in the loop inside the curly braces is executed for each of the sequence values. Inside the loop the iterator is printed. This is why the numbers 1 through 5 printed to the screen. You can replace the print() function with anything you want. You can also replace the sequence with anything you want. \n",
    "\n",
    "Let's try to get a for loop to iterate over the libraries we want to load."
   ]
  },
  {
   "cell_type": "code",
   "execution_count": 19,
   "metadata": {},
   "outputs": [
    {
     "name": "stdout",
     "output_type": "stream",
     "text": [
      "[1] \"stringr\"\n",
      "[1] \"lubridate\"\n"
     ]
    }
   ],
   "source": [
    "# Define two libraries in a character vector\n",
    "# libs and then print in for loop\n",
    "# print library to screen\n",
    "libs <- c(\"stringr\", \"lubridate\")\n",
    "\n",
    "for(lib in libs) {\n",
    "    print(lib)\n",
    "}\n"
   ]
  },
  {
   "cell_type": "markdown",
   "metadata": {},
   "source": [
    "Notice the sequence was the list of library strings from libs and that the variable lib took on each of the values in libs, one at time. Then the print statement was called which printed the values to the screen. \n",
    "\n",
    "Now let's try with load_library inside the for loop. "
   ]
  },
  {
   "cell_type": "code",
   "execution_count": 20,
   "metadata": {},
   "outputs": [
    {
     "name": "stdout",
     "output_type": "stream",
     "text": [
      "[1] \"stringr\"\n",
      "[1] \"lubridate\"\n"
     ]
    },
    {
     "name": "stderr",
     "output_type": "stream",
     "text": [
      "Loading required package: lubridate\n",
      "\n",
      "Attaching package: ‘lubridate’\n",
      "\n",
      "The following object is masked from ‘package:base’:\n",
      "\n",
      "    date\n",
      "\n"
     ]
    }
   ],
   "source": [
    "# Define two libraries in a character vector\n",
    "# libs and then call load_library()\n",
    "# using for loop\n",
    "# Also print library to screen\n",
    "libs <- c(\"stringr\", \"lubridate\")\n",
    "\n",
    "for(lib in libs) {\n",
    "    print(lib)\n",
    "    load_library(lib)\n",
    "}\n"
   ]
  },
  {
   "cell_type": "markdown",
   "metadata": {},
   "source": [
    "Notice that it printed both libraries to the screen. And from the conflict warning, it loaded the lubridate library. The stringr library was already loaded earlier. It only loads the library if it isn't already loaded. Rerun the above code cell to check this. If you rerun the cell, the only output would be the print() function since it didn't load either library again.\n",
    "\n",
    "Let's do this one more time adding a few more packages to the list and removing the print() function. The print() function is handy for troubleshooting / debugging code. You can comment them out or add and remove them as needed. "
   ]
  },
  {
   "cell_type": "code",
   "execution_count": 21,
   "metadata": {},
   "outputs": [
    {
     "name": "stderr",
     "output_type": "stream",
     "text": [
      "Loading required package: odbc\n",
      "Loading required package: DBI\n",
      "Loading required package: tools\n",
      "Loading required package: forcats\n",
      "Loading required package: tidyverse\n",
      "── \u001b[1mAttaching packages\u001b[22m ─────────────────────────────────────── tidyverse 1.2.1 ──\n",
      "\u001b[32m✔\u001b[39m \u001b[34mggplot2\u001b[39m 3.2.0     \u001b[32m✔\u001b[39m \u001b[34mreadr  \u001b[39m 1.1.1\n",
      "\u001b[32m✔\u001b[39m \u001b[34mtibble \u001b[39m 2.1.3     \u001b[32m✔\u001b[39m \u001b[34mpurrr  \u001b[39m 0.2.5\n",
      "\u001b[32m✔\u001b[39m \u001b[34mtidyr  \u001b[39m 0.8.1     \u001b[32m✔\u001b[39m \u001b[34mdplyr  \u001b[39m 0.8.3\n",
      "── \u001b[1mConflicts\u001b[22m ────────────────────────────────────────── tidyverse_conflicts() ──\n",
      "\u001b[31m✖\u001b[39m \u001b[34mlubridate\u001b[39m::\u001b[32mas.difftime()\u001b[39m masks \u001b[34mbase\u001b[39m::as.difftime()\n",
      "\u001b[31m✖\u001b[39m \u001b[34mlubridate\u001b[39m::\u001b[32mdate()\u001b[39m        masks \u001b[34mbase\u001b[39m::date()\n",
      "\u001b[31m✖\u001b[39m \u001b[34mdplyr\u001b[39m::\u001b[32mfilter()\u001b[39m          masks \u001b[34mstats\u001b[39m::filter()\n",
      "\u001b[31m✖\u001b[39m \u001b[34mlubridate\u001b[39m::\u001b[32mintersect()\u001b[39m   masks \u001b[34mbase\u001b[39m::intersect()\n",
      "\u001b[31m✖\u001b[39m \u001b[34mdplyr\u001b[39m::\u001b[32mlag()\u001b[39m             masks \u001b[34mstats\u001b[39m::lag()\n",
      "\u001b[31m✖\u001b[39m \u001b[34mlubridate\u001b[39m::\u001b[32msetdiff()\u001b[39m     masks \u001b[34mbase\u001b[39m::setdiff()\n",
      "\u001b[31m✖\u001b[39m \u001b[34mlubridate\u001b[39m::\u001b[32munion()\u001b[39m       masks \u001b[34mbase\u001b[39m::union()\n"
     ]
    }
   ],
   "source": [
    "# Define all libraries to be loaded in a character vector\n",
    "# libs and then call load_library()\n",
    "# using for loop\n",
    "libs <- c(\"odbc\", \"DBI\", \"tools\", \"forcats\", \n",
    "          \"stringr\", \"lubridate\", \"tidyverse\")\n",
    "\n",
    "for(lib in libs) {\n",
    "    load_library(lib)\n",
    "}\n"
   ]
  },
  {
   "cell_type": "markdown",
   "metadata": {},
   "source": [
    "This time the tidyverse loaded as well as some others.\n",
    "\n",
    "## Functions for logging\n",
    "Just like the print() function, it may be desired to output progress when in a loop or just in general when executing a long running program. Often printing to the screen and logging to a file is helpful. Also, having a timestamp can help to determine exactly when something occurred as well as how long an operation took. "
   ]
  },
  {
   "cell_type": "code",
   "execution_count": 22,
   "metadata": {},
   "outputs": [
    {
     "name": "stdout",
     "output_type": "stream",
     "text": [
      "[1] \"log/msg_log.txt\"\n"
     ]
    }
   ],
   "source": [
    "# Create variable for log filename\n",
    "# use file.path() to prepend the folder\n",
    "# \"log\" to the filename\n",
    "# Store result as log_file\n",
    "log_file <- file.path(\"log\", \"msg_log.txt\")\n",
    "\n",
    "# Print result\n",
    "print(log_file)\n"
   ]
  },
  {
   "cell_type": "markdown",
   "metadata": {},
   "source": [
    "Notice it has a forward slash after the folder name even on Windows operating system.\n",
    "\n",
    "Next: Ensure the folder exists"
   ]
  },
  {
   "cell_type": "code",
   "execution_count": 23,
   "metadata": {},
   "outputs": [
    {
     "data": {
      "text/html": [
       "'log'"
      ],
      "text/latex": [
       "'log'"
      ],
      "text/markdown": [
       "'log'"
      ],
      "text/plain": [
       "[1] \"log\""
      ]
     },
     "metadata": {},
     "output_type": "display_data"
    },
    {
     "data": {
      "text/html": [
       "FALSE"
      ],
      "text/latex": [
       "FALSE"
      ],
      "text/markdown": [
       "FALSE"
      ],
      "text/plain": [
       "[1] FALSE"
      ]
     },
     "metadata": {},
     "output_type": "display_data"
    }
   ],
   "source": [
    "# Extract the folder name from the filename\n",
    "# Hint: dirname()\n",
    "log_file %>% dirname()\n",
    "\n",
    "# Determine if folder exists\n",
    "# Hint: dir.exists()\n",
    "log_file %>% dirname() %>% dir.exists()\n"
   ]
  },
  {
   "cell_type": "markdown",
   "metadata": {},
   "source": [
    "Notice it printed 'log' indicating that this is the folder name. Notice that it printed FALSE indicating that the log folder did not exist. \n",
    "\n",
    "Just like when require() returned FALSE for a library that didn't exist, you can wrap this statement in an if() block and if the folder doesn't exist, you can run code to create it. Let's do that."
   ]
  },
  {
   "cell_type": "code",
   "execution_count": 24,
   "metadata": {},
   "outputs": [
    {
     "data": {
      "text/html": [
       "TRUE"
      ],
      "text/latex": [
       "TRUE"
      ],
      "text/markdown": [
       "TRUE"
      ],
      "text/plain": [
       "[1] TRUE"
      ]
     },
     "metadata": {},
     "output_type": "display_data"
    }
   ],
   "source": [
    "# Create variable for log filename\n",
    "# use file.path() to prepend the folder\n",
    "# \"log\" to the filename\n",
    "# Store result as log_file\n",
    "log_file <- file.path(\"log\", \"msg_log.txt\")\n",
    "\n",
    "# If folder doesn't exist\n",
    "# create it\n",
    "# Hint: dir.create()\n",
    "if(!dir.exists(dirname(log_file))) { \n",
    "        dir.create(dirname(log_file))\n",
    "}\n",
    "\n",
    "# Determine if folder exists\n",
    "# Hint: dir.exists()\n",
    "log_file %>% dirname() %>% dir.exists()\n"
   ]
  },
  {
   "cell_type": "markdown",
   "metadata": {},
   "source": [
    "Notice it returned TRUE this time indicating that the folder was created. \n",
    "\n",
    "Now let's create a file and put something in there"
   ]
  },
  {
   "cell_type": "code",
   "execution_count": 25,
   "metadata": {},
   "outputs": [
    {
     "name": "stdout",
     "output_type": "stream",
     "text": [
      "[1] \"Monolord Rules!\"\n"
     ]
    }
   ],
   "source": [
    "# Create variable for log filename\n",
    "# use file.path() to prepend the folder\n",
    "# \"log\" to the filename\n",
    "# Store result as log_file\n",
    "log_file <- file.path(\"log\", \"msg_log.txt\")\n",
    "\n",
    "# Create message text with timestamp\n",
    "text <- \"Monolord Rules!\"\n",
    "\n",
    "msg_text <- str_c(now(), \" \", text)\n",
    "\n",
    "# Print msg_text\n",
    "print(text)\n"
   ]
  },
  {
   "cell_type": "markdown",
   "metadata": {},
   "source": [
    "Notice that combining now() with text resulted in a timestamped text message. \n",
    "\n",
    "The next step is to save it to a file."
   ]
  },
  {
   "cell_type": "code",
   "execution_count": 27,
   "metadata": {},
   "outputs": [],
   "source": [
    "# Write msg_text to log_file\n",
    "# Hint: write_lines() append = TRUE\n",
    "write_lines(str_c(msg_text, \"\\r\\n\"), log_file, append = log_file)\n"
   ]
  },
  {
   "cell_type": "markdown",
   "metadata": {},
   "source": [
    "Notice there was no output. It was written to the file silently. To check if the folder and file have actually been written, go to your Jupyter Notebook navigation and look for a log folder in the same folder as this notebook. Inside the log folder should be the file. You can open the file to see the message.\n",
    "\n",
    "Now we are ready to wrap this all into a function. Create a function that passes in the text message you want to log."
   ]
  },
  {
   "cell_type": "code",
   "execution_count": 28,
   "metadata": {
    "collapsed": true
   },
   "outputs": [],
   "source": [
    "# Write message to file\n",
    "# function: msg_log\n",
    "# Parameters: text - the message\n",
    "# output_to_console = TRUE defaults to also printing the message to the screen\n",
    "# log_file = <default> so you don't have to specify a log file, but you can if you want\n",
    "msg_log <- function(text, output_to_console = TRUE, \n",
    "                    log_file = file.path(\"log\", str_c(\"msg_log_\", today(), \".txt\"))) {\n",
    "  if(!dir.exists(dirname(log_file))) { dir.create(dirname(log_file))}\n",
    "  msg_text <- str_c(now(), \" \", text)\n",
    "  if(output_to_console == TRUE) {\n",
    "    print(msg_text)\n",
    "  }\n",
    "  write_lines(str_c(msg_text, \"\\r\\n\"), log_file, append = TRUE)\n",
    "}\n"
   ]
  },
  {
   "cell_type": "markdown",
   "metadata": {},
   "source": [
    "Recall that running a code block with a function returns no output.\n",
    "\n",
    "Let's test it next. "
   ]
  },
  {
   "cell_type": "code",
   "execution_count": 29,
   "metadata": {},
   "outputs": [
    {
     "name": "stdout",
     "output_type": "stream",
     "text": [
      "[1] \"2019-12-22 11:20:35 Is this thing on\"\n"
     ]
    }
   ],
   "source": [
    "# Call msg_log with text\n",
    "# \"Is this thing on?\"\n",
    "msg_log(\"Is this thing on\")\n",
    "\n",
    "# Another one without printing to the screen\n",
    "# Hint: set output_to_console = FALSE\n",
    "msg_log(\"Just log this message\", output_to_console = FALSE)\n"
   ]
  },
  {
   "cell_type": "markdown",
   "metadata": {},
   "source": [
    "It added a timestamp to the message and wrote it to a file and printed to the screen. It created a new file that has the date as part of the filename so it will 'roll over' on a daily basis automatically. This is from the today() function as part of the default value of the filename.\n",
    "\n",
    "Check in your Jupyter notebook whether the message was written to the file. Confirm that both messages were written to the file even though only one was printed.\n",
    "\n",
    "Let's test if this function is vectorized meaning that if you wanted to send a list of messages all at once in a single function call, would the all be logged. "
   ]
  },
  {
   "cell_type": "code",
   "execution_count": 30,
   "metadata": {},
   "outputs": [
    {
     "name": "stdout",
     "output_type": "stream",
     "text": [
      "[1] \"2019-12-22 11:27:08 one\"   \"2019-12-22 11:27:08 two\"  \n",
      "[3] \"2019-12-22 11:27:08 three\"\n"
     ]
    }
   ],
   "source": [
    "# Multiple messages\n",
    "messages <- c(\"one\", \"two\", \"three\")\n",
    "\n",
    "# Call msg_log with messages\n",
    "msg_log(messages)\n"
   ]
  },
  {
   "cell_type": "markdown",
   "metadata": {},
   "source": [
    "The function call wrote all three messages both to the screen and to the file. "
   ]
  },
  {
   "cell_type": "markdown",
   "metadata": {},
   "source": [
    "# Summary\n",
    "Creating your own functions is simple and calling them is even simpler. First you get your code working without worrying about a function. After it is working you can 'wrap it' in a function call. Then you are able to call it for multiple object if the function is vectorized. If it isn't you can use a for() loop. With just these two added tools, you can greatly reduce code duplication and increase your productivity as an analyst. "
   ]
  }
 ],
 "metadata": {
  "kernelspec": {
   "display_name": "R 3.5.1",
   "language": "R",
   "name": "ir"
  },
  "language_info": {
   "codemirror_mode": "r",
   "file_extension": ".r",
   "mimetype": "text/x-r-source",
   "name": "R",
   "pygments_lexer": "r",
   "version": "3.5.1"
  }
 },
 "nbformat": 4,
 "nbformat_minor": 1
}
