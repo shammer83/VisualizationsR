{
 "cells": [
  {
   "cell_type": "markdown",
   "metadata": {},
   "source": [
    "# L02-E6-Select\n",
    "## Exercise Instructions\n",
    "\n",
    "* Complete all cells as instructed, replacing any ??? with the appropriate code\n",
    "\n",
    "* Execute Jupyter **Kernel** > **Restart & Run All** and ensure that all code blocks run without error"
   ]
  },
  {
   "cell_type": "markdown",
   "metadata": {
    "collapsed": true
   },
   "source": [
    "# Selecting Columns\n",
    "\n",
    "The select() function is simple, in that, you provide a comma separated list of columns and only those columns are selected. Practice makes perfect. Let’s revisit the select() function and work with some of its helper functions to be able to select the columns we are looking for. In a prior exercise, we explored the basic select() operation, namely, provide it a list of columns and only those columns are returned in a data frame, in that order. Often times, we aren’t selecting columns just to remove columns we don’t need, but rather selecting columns that we need to do some additional data wrangling or cleansing with such as data type conversion. This makes selecting columns a much more common task than just part of the data import process. \n",
    "\n",
    "In this exercise, we will explore some additional time-saving features select() provides. \n",
    "Admittedly, the dataset we are working with have only several columns. As a result, some functions we won't be able to cover, and all this might seem a bit trivial. In practice, however, there can be data frames with hundreds or thousands of columns. Managing these manually would be painful. Often, these thousand-column data frames have some patterns in their column names. Maybe they end with a 3-digit number, or maybe the date columns end with _date. We can exploit these patterns. Being able to more programmatically select the columns of interest will become more important in these cases. After all, we are in a programming environment, so let’s take advantage of it.\n",
    "\n",
    "We will also use regular expressions. Regular Expressions is a popular method for text pattern matching that is implemented in many programming languages. Full coverage is outside the scope of this course. It is used briefly in this exercise to make you aware of it and it will show up more, later in the course. Just know that R makes extensive use of regular expressions and is the default for most text matching functions. So be careful when trying to match symbols as they may be interpreted as regular expression modifiers.\n",
    "\n",
    "\n",
    "## R Features\n",
    "* library()\n",
    "* glimpse()\n",
    "* select()\n",
    "* select_if()\n",
    "* ? help\n",
    "* %>% pipe\n",
    "* names()\n",
    "* sort()\n",
    "* rename()\n",
    "* \\- exclude\n",
    "* : range\n",
    "* starts_with(): starts with a prefix\n",
    "* ends_with(): ends with a prefix\n",
    "* contains(): contains a literal string\n",
    "* matches(): matches a regular expression\n",
    "* everything(): all variables\n",
    "* regular expressions\n",
    "* is.character()\n",
    "* is.integer()\n",
    "* is.double()\n",
    "* is.numeric()\n",
    "* is.logical()\n",
    "\n",
    "\n",
    "## Datasets\n",
    "* mpg"
   ]
  },
  {
   "cell_type": "code",
   "execution_count": null,
   "metadata": {
    "collapsed": true
   },
   "outputs": [],
   "source": [
    "# Load libraries\n",
    "library(tidyverse)"
   ]
  },
  {
   "cell_type": "code",
   "execution_count": null,
   "metadata": {
    "collapsed": true,
    "scrolled": true
   },
   "outputs": [],
   "source": [
    "# Explore data structure\n",
    "# Data: mpg\n",
    "mpg %>% ???"
   ]
  },
  {
   "cell_type": "code",
   "execution_count": null,
   "metadata": {
    "collapsed": true
   },
   "outputs": [],
   "source": [
    "# Display the select() help\n",
    "??? select"
   ]
  },
  {
   "cell_type": "markdown",
   "metadata": {},
   "source": [
    "# select {dplyr}\tR Documentation\n",
    "Select/rename variables by name\n",
    "## Description\n",
    "select() keeps only the variables you mention; rename() keeps all variables.\n",
    "\n",
    "## Usage\n",
    "select(.data, ...)\n",
    "\n",
    "rename(.data, ...)"
   ]
  },
  {
   "cell_type": "code",
   "execution_count": null,
   "metadata": {
    "collapsed": true
   },
   "outputs": [],
   "source": [
    "# select columns with comma delimited list\n",
    "# Only display the column names instead of glimpse to reduce output\n",
    "# select columns: hwy, displ, cyl, class\n",
    "# Hint: select(), names()\n",
    "mpg %>% \n",
    "   ??? (hwy, displ, cyl, class) %>% \n",
    "   names()"
   ]
  },
  {
   "cell_type": "markdown",
   "metadata": {},
   "source": [
    "Notice that it simply returns the list of column names."
   ]
  },
  {
   "cell_type": "markdown",
   "metadata": {},
   "source": [
    "# sort()\n",
    "Sometimes for longer lists of columns, I like to see them in alphabetical order. sort() can help with this."
   ]
  },
  {
   "cell_type": "code",
   "execution_count": null,
   "metadata": {
    "collapsed": true
   },
   "outputs": [],
   "source": [
    "# sort column names\n",
    "# Hint: sort()\n",
    "mpg %>% \n",
    "   names() %>% \n",
    "   ??? ()"
   ]
  },
  {
   "cell_type": "markdown",
   "metadata": {
    "collapsed": true
   },
   "source": [
    "Notice that all the columns are in alphabetical order. The order in the data frame didn't change, only the order that they are being displayed was sorted."
   ]
  },
  {
   "cell_type": "markdown",
   "metadata": {},
   "source": [
    "# Select all columns except some\n",
    "Use - (minus) to remove columns. These should be ordered first in the select()."
   ]
  },
  {
   "cell_type": "code",
   "execution_count": null,
   "metadata": {
    "collapsed": true
   },
   "outputs": [],
   "source": [
    "# select all columns except trans and fl\n",
    "mpg %>%\n",
    "   select(- ???, - ???) %>%\n",
    "   names()"
   ]
  },
  {
   "cell_type": "markdown",
   "metadata": {},
   "source": [
    "# Select columns by range\n",
    "Use <column name>:<column name> for start and end range."
   ]
  },
  {
   "cell_type": "code",
   "execution_count": null,
   "metadata": {
    "collapsed": true,
    "scrolled": true
   },
   "outputs": [],
   "source": [
    "# select all columns inclusively between model and hwy\n",
    "mpg %>% \n",
    "   select( ??? : ??? ) %>% \n",
    "   names()"
   ]
  },
  {
   "cell_type": "markdown",
   "metadata": {},
   "source": [
    "# Combine different selection methods"
   ]
  },
  {
   "cell_type": "code",
   "execution_count": null,
   "metadata": {
    "collapsed": true
   },
   "outputs": [],
   "source": [
    "# select all columns inclusively between displ and fl \n",
    "# Exclude trans \n",
    "# With the last column being manufacturer\n",
    "# Hint: if you are selecting columns and removing columns then put the column removal at the end \n",
    "mpg %>% \n",
    "   select(- ??? , ??? : ??? , manufacturer) %>% \n",
    "   names()"
   ]
  },
  {
   "cell_type": "markdown",
   "metadata": {},
   "source": [
    "# Rename columns while selecting them\n",
    "Pattern is: new_name = current_name"
   ]
  },
  {
   "cell_type": "code",
   "execution_count": null,
   "metadata": {
    "collapsed": true
   },
   "outputs": [],
   "source": [
    "# select displ and rename it displacement\n",
    "mpg %>% \n",
    "   select( ??? = ??? ) %>% \n",
    "   names()"
   ]
  },
  {
   "cell_type": "markdown",
   "metadata": {},
   "source": [
    "Notice that the column was renamed, but it was also the only column selected. If we want all the columns, and rename some of them, then the rename() function is more appropriate for this task. "
   ]
  },
  {
   "cell_type": "markdown",
   "metadata": {},
   "source": [
    "# rename()\n",
    "Select all the columns and rename some. rename() is simpler when renaming columns and selecting all columns."
   ]
  },
  {
   "cell_type": "code",
   "execution_count": null,
   "metadata": {
    "collapsed": true
   },
   "outputs": [],
   "source": [
    "# Rename displ to displacement yet include all columns\n",
    "# Hint: rename()\n",
    "mpg %>% \n",
    "   rename( ??? = ??? ) %>% \n",
    "   names()"
   ]
  },
  {
   "cell_type": "markdown",
   "metadata": {},
   "source": [
    "Notice that rename doesn't change the order of the columns or drop any columns."
   ]
  },
  {
   "cell_type": "code",
   "execution_count": null,
   "metadata": {
    "collapsed": true
   },
   "outputs": [],
   "source": [
    "# Display help for starts_with() which displays all select helper functions\n",
    "??? starts_with"
   ]
  },
  {
   "cell_type": "markdown",
   "metadata": {},
   "source": [
    "# select_helpers {dplyr}\tR Documentation\n",
    "Select helpers\n",
    "## Description\n",
    "These functions allow you to select variables based on their names.\n",
    "\n",
    "starts_with(): starts with a prefix\n",
    "\n",
    "ends_with(): ends with a prefix\n",
    "\n",
    "contains(): contains a literal string\n",
    "\n",
    "matches(): matches a regular expression\n",
    "\n",
    "num_range(): a numerical range like x01, x02, x03.\n",
    "\n",
    "one_of(): variables in character vector.\n",
    "\n",
    "everything(): all variables.\n",
    "\n",
    "## Usage\n",
    "current_vars()\n",
    "\n",
    "starts_with(match, ignore.case = TRUE, vars = current_vars())\n",
    "\n",
    "ends_with(match, ignore.case = TRUE, vars = current_vars())\n",
    "\n",
    "contains(match, ignore.case = TRUE, vars = current_vars())\n",
    "\n",
    "matches(match, ignore.case = TRUE, vars = current_vars())\n",
    "\n",
    "num_range(prefix, range, width = NULL, vars = current_vars())\n",
    "\n",
    "one_of(..., vars = current_vars())\n",
    "\n",
    "everything(vars = current_vars())"
   ]
  },
  {
   "cell_type": "markdown",
   "metadata": {},
   "source": [
    "# starts_with()\n",
    "This can help select columns using string literal matching starting at the beginning of the column name."
   ]
  },
  {
   "cell_type": "code",
   "execution_count": null,
   "metadata": {
    "collapsed": true,
    "scrolled": false
   },
   "outputs": [],
   "source": [
    "# Select all columns that start with \"m\"\n",
    "# Hint: starts_with()\n",
    "mpg %>% \n",
    "   select( ??? (\"m\")) %>% \n",
    "   names()"
   ]
  },
  {
   "cell_type": "markdown",
   "metadata": {},
   "source": [
    "# ends_with()\n",
    "Just like starts_with() but matches the end of the column name instead of the start."
   ]
  },
  {
   "cell_type": "code",
   "execution_count": null,
   "metadata": {
    "collapsed": true
   },
   "outputs": [],
   "source": [
    "# Select columns that end with 'y'\n",
    "# Hint: ends_with()\n",
    "mpg %>% \n",
    "   select( ??? (\"y\")) %>% \n",
    "   names()"
   ]
  },
  {
   "cell_type": "markdown",
   "metadata": {},
   "source": [
    "# contains()\n",
    "This will match the string literal anywhere in the column name, the start, the end, or anywhere in the middle."
   ]
  },
  {
   "cell_type": "code",
   "execution_count": null,
   "metadata": {
    "collapsed": true,
    "scrolled": true
   },
   "outputs": [],
   "source": [
    "# Select columns that contain \"an\"\n",
    "# Hint: contains()\n",
    "mpg %>% \n",
    "   select( ??? (\"an\")) %>% \n",
    "   names()"
   ]
  },
  {
   "cell_type": "markdown",
   "metadata": {},
   "source": [
    "# matches()\n",
    "Select columns that match a text pattern. matches() uses a string pattern called Regular Expressions allowing for wildcard matches. \n",
    "\n",
    "A . (dot) matches any character   \n",
    "\n",
    "A * (asterisk) means 0 or more occurrences of the last character\n",
    "\n",
    "So .\\* means any number of characters. This allows you to have two pattern matches together like starts with and ends with and anything in the middle. The .\\* accounts for the 'anything in the middle'."
   ]
  },
  {
   "cell_type": "code",
   "execution_count": null,
   "metadata": {
    "collapsed": true
   },
   "outputs": [],
   "source": [
    "# Select columns that matches an \"a\" and then an \"s\" later in the string\n",
    "# Hint: matches()\n",
    "mpg %>% \n",
    "   select( ??? (\"a.*s\")) %>% \n",
    "   names()"
   ]
  },
  {
   "cell_type": "markdown",
   "metadata": {},
   "source": [
    "In regular expressions the '.' means any character and the '\\*' modified the previous pattern character adding 0 or more \"a.*s\" means look for an a followed by 0 or more of any chararcter followed by an s."
   ]
  },
  {
   "cell_type": "markdown",
   "metadata": {},
   "source": [
    "# everything()\n",
    "Reordering one column to the front. everything() means all columns not specified."
   ]
  },
  {
   "cell_type": "code",
   "execution_count": null,
   "metadata": {
    "collapsed": true,
    "scrolled": false
   },
   "outputs": [],
   "source": [
    "# Select all columns with class ordered to be the first column\n",
    "# Don't change the order of any other column\n",
    "# Hint: everything()\n",
    "mpg %>% \n",
    "   select(class, ??? ()) %>%\n",
    "   names()"
   ]
  },
  {
   "cell_type": "markdown",
   "metadata": {},
   "source": [
    "# select_if()\n",
    "There are a number of verbs that can be added to the select function to extend its versatility. Look for these verbs n other tidyverse functions as well. \n",
    "\n",
    "A useful verb is 'if'. select_if() will return the columns if the specified function returns true for that column. If I want to select all of the columns that are of type character, I can use the is.character function which returns true or false if that column is a character. \n",
    "\n",
    "When a function is used in select_if() the function parenthesis are left off. For example: \n",
    "\n",
    "select_if(dataframe, is.character) will return the character columns of that dataframe."
   ]
  },
  {
   "cell_type": "code",
   "execution_count": null,
   "metadata": {
    "collapsed": true
   },
   "outputs": [],
   "source": [
    "# View help on select_if()\n",
    "??? select_if"
   ]
  },
  {
   "cell_type": "markdown",
   "metadata": {},
   "source": [
    "# select_all {dplyr}\tR Documentation\n",
    "Select and rename a selection of variables\n",
    "## Description\n",
    "These scoped variants of select() and rename() operate on a selection of variables. The semantics of these verbs have simple but important differences:\n",
    "\n",
    "Selection drops variables that are not in the selection while renaming retains them.\n",
    "\n",
    "The renaming function is optional for selection but not for renaming.\n",
    "\n",
    "## Usage\n",
    "select_all(.tbl, .funs = list(), ...)\n",
    "\n",
    "rename_all(.tbl, .funs = list(), ...)\n",
    "\n",
    "select_if(.tbl, .predicate, .funs = list(), ...)\n",
    "\n",
    "rename_if(.tbl, .predicate, .funs = list(), ...)\n",
    "\n",
    "select_at(.tbl, .vars, .funs = list(), ...)\n",
    "\n",
    "rename_at(.tbl, .vars, .funs = list(), ...)"
   ]
  },
  {
   "cell_type": "code",
   "execution_count": null,
   "metadata": {
    "collapsed": true
   },
   "outputs": [],
   "source": [
    "# Select all character columns\n",
    "#Hint: select_if(), is.character()\n",
    "mpg %>% \n",
    "   ??? (is.character) %>% \n",
    "   names()"
   ]
  },
  {
   "cell_type": "code",
   "execution_count": null,
   "metadata": {
    "collapsed": true
   },
   "outputs": [],
   "source": [
    "# Select all integer columns\n",
    "#Hint: select_if(), is.integer()\n",
    "mpg %>% \n",
    "   select_if( ??? ) %>% \n",
    "   names()"
   ]
  },
  {
   "cell_type": "code",
   "execution_count": null,
   "metadata": {
    "collapsed": true
   },
   "outputs": [],
   "source": [
    "# Select all double columns\n",
    "#Hint: select_if(), is.double()\n",
    "mpg %>% \n",
    "   select_if( ??? ) %>% \n",
    "   names()"
   ]
  },
  {
   "cell_type": "code",
   "execution_count": null,
   "metadata": {
    "collapsed": true
   },
   "outputs": [],
   "source": [
    "# Select all numeric columns\n",
    "#Hint: select_if(), is.numeric()\n",
    "mpg %>% \n",
    "   select_if( ??? ) %>% \n",
    "   names()"
   ]
  },
  {
   "cell_type": "code",
   "execution_count": null,
   "metadata": {
    "collapsed": true
   },
   "outputs": [],
   "source": [
    "# Select all logical columns\n",
    "#Hint: select_if(), is.logical()\n",
    "mpg %>% \n",
    "   select_if( ??? ) %>% \n",
    "   names()"
   ]
  },
  {
   "cell_type": "markdown",
   "metadata": {},
   "source": [
    "Looks like there were no logical columns in this dataframe."
   ]
  },
  {
   "cell_type": "markdown",
   "metadata": {},
   "source": [
    "# Code Summary\n",
    "Let's combine several of these functions together."
   ]
  },
  {
   "cell_type": "code",
   "execution_count": null,
   "metadata": {
    "collapsed": true,
    "scrolled": false
   },
   "outputs": [],
   "source": [
    "# displ as the first column renamed to displacement\n",
    "# followed by all columns containing \"r\" except for year\n",
    "# include all columns that end with \"y\"\n",
    "# include all columns that starts with the letter \"f\"\n",
    "\n",
    "mpg %>% \n",
    "   select( ??? ) %>% \n",
    "   names()\n",
    "\n",
    "# Replicate the same criteria as above and additionally\n",
    "# filter to only return numeric columns\n",
    "mpg %>% \n",
    "   select( ??? ) %>% \n",
    "   select_if( ??? ) %>% \n",
    "   names()\n"
   ]
  },
  {
   "cell_type": "markdown",
   "metadata": {},
   "source": [
    "The output should be: \n",
    "\n",
    "'displacement' 'manufacturer' 'trans' 'drv' 'cty' 'hwy' 'fl'\n",
    "\n",
    "'displacement' 'cty' 'hwy'\n"
   ]
  }
 ],
 "metadata": {
  "kernelspec": {
   "display_name": "R 3.5.1",
   "language": "R",
   "name": "ir"
  },
  "language_info": {
   "codemirror_mode": "r",
   "file_extension": ".r",
   "mimetype": "text/x-r-source",
   "name": "R",
   "pygments_lexer": "r",
   "version": "3.5.1"
  }
 },
 "nbformat": 4,
 "nbformat_minor": 1
}
