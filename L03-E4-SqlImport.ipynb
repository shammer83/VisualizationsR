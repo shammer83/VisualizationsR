{
 "cells": [
  {
   "cell_type": "markdown",
   "metadata": {},
   "source": [
    "# L03-4-SQL Import\n",
    "## Assignment Instructions\n",
    "Rename with your name in place of Studentname and make your edits and updates here.\n",
    "\n"
   ]
  },
  {
   "cell_type": "markdown",
   "metadata": {},
   "source": [
    "# SQL Import\n",
    "In this exercise, we will connect to a SQL database, browse the data programmatically and then export the data into R data frames. We will use the odbc and DBI libraries to connect to SQL Server. These libraries work well with the tidyverse dplyr package.\n",
    "\n",
    "The database authorization level is read-only for the credentials used in this exercise. However, these packages provide the capability to alter the database data and the database itself.\n",
    "\n",
    "\n",
    "## R Features\n",
    "* library()\n",
    "* dbconnect()\n",
    "* print()\n",
    "* str()\n",
    "* dbListTables()\n",
    "* sort()\n",
    "* head()\n",
    "* dbListFields()\n",
    "* dbGetQuery()\n",
    "* select()\n",
    "* everything()\n",
    "* arrange()\n",
    "* desc()\n",
    "* dbDisconnect()\n",
    "* ggplot()\n",
    "* geom_bar()\n",
    "\n",
    "\n",
    "## Datasets\n",
    "* AdventureWorks\n"
   ]
  },
  {
   "cell_type": "code",
   "execution_count": 4,
   "metadata": {
    "scrolled": false
   },
   "outputs": [
    {
     "name": "stderr",
     "output_type": "stream",
     "text": [
      "── \u001b[1mAttaching packages\u001b[22m ─────────────────────────────────────── tidyverse 1.2.1 ──\n",
      "\u001b[32m✔\u001b[39m \u001b[34mggplot2\u001b[39m 3.2.0     \u001b[32m✔\u001b[39m \u001b[34mpurrr  \u001b[39m 0.2.5\n",
      "\u001b[32m✔\u001b[39m \u001b[34mtibble \u001b[39m 2.1.3     \u001b[32m✔\u001b[39m \u001b[34mdplyr  \u001b[39m 0.8.3\n",
      "\u001b[32m✔\u001b[39m \u001b[34mtidyr  \u001b[39m 0.8.1     \u001b[32m✔\u001b[39m \u001b[34mstringr\u001b[39m 1.3.1\n",
      "\u001b[32m✔\u001b[39m \u001b[34mreadr  \u001b[39m 1.1.1     \u001b[32m✔\u001b[39m \u001b[34mforcats\u001b[39m 0.3.0\n",
      "── \u001b[1mConflicts\u001b[22m ────────────────────────────────────────── tidyverse_conflicts() ──\n",
      "\u001b[31m✖\u001b[39m \u001b[34mdplyr\u001b[39m::\u001b[32mfilter()\u001b[39m masks \u001b[34mstats\u001b[39m::filter()\n",
      "\u001b[31m✖\u001b[39m \u001b[34mdplyr\u001b[39m::\u001b[32mlag()\u001b[39m    masks \u001b[34mstats\u001b[39m::lag()\n"
     ]
    }
   ],
   "source": [
    "# Load libraries\n",
    "library('odbc') # odbc\n",
    "library('DBI') # DBI\n",
    "library('tidyverse') # tidyverse"
   ]
  },
  {
   "cell_type": "markdown",
   "metadata": {},
   "source": [
    "## Database connection information\n",
    "There are a few bits of information you will want to have handy in order to import data from SQL. \n",
    "* Driver library: Driver library is the database driver that is compatible with your database. We will use 'odbc' in this exercise. You would change this to match your needs and perhaps have to load a different library than odbc for your connection.\n",
    "* Driver: Driver name is part of the connection string information. We will use 'SQL Server' in this exercise. You would change this to match your needs.\n",
    "* Server: Server name is the name of the database server or server instance\n",
    "* Database: Database name is the name of the database within the server you want to connect to\n",
    "* Authentication credentials: Authentication credentials is the username and password to allow access to the database. \n",
    "\n"
   ]
  },
  {
   "cell_type": "code",
   "execution_count": 5,
   "metadata": {
    "collapsed": true
   },
   "outputs": [],
   "source": [
    "# Connection string info\n",
    "# Already completed, just run the code block\n",
    "driver_name <- \"ODBC Driver 13 for SQL Server\"\n",
    "server_name <- \"uwc-sqlserver.clients.uw.edu\"\n",
    "database_name <- \"AdventureWorks2016CTP3\" \n",
    "user_id <- \"sqlstudentreader\"\n",
    "password <- \"PA6aX2gAhe4hE!ru$6atru\""
   ]
  },
  {
   "cell_type": "markdown",
   "metadata": {},
   "source": [
    "## dbConnect()\n",
    "Connects to a ODBC compatible database. The required first parameter, drv is the driver library that you want to use. In our case it will be odbc::odbc() which means, call the odbc() function found in the odbc library.\n",
    "\n",
    "dbConnect(drv, dsn = NULL, ..., timezone = \"UTC\",\n",
    "  encoding = \"\", driver = NULL, server = NULL, database = NULL,\n",
    "  uid = NULL, pwd = NULL, .connection_string = NULL)"
   ]
  },
  {
   "cell_type": "code",
   "execution_count": 6,
   "metadata": {},
   "outputs": [
    {
     "name": "stderr",
     "output_type": "stream",
     "text": [
      "Warning message in .helpForCall(topicExpr, parent.frame()):\n",
      "“no method defined for function ‘dbConnect’ and signature ‘drv = \"missing\"’”"
     ]
    },
    {
     "ename": "ERROR",
     "evalue": "Error in .helpForCall(topicExpr, parent.frame()): no documentation for function ‘dbConnect’ and signature ‘drv = \"missing\"’\n",
     "output_type": "error",
     "traceback": [
      "Error in .helpForCall(topicExpr, parent.frame()): no documentation for function ‘dbConnect’ and signature ‘drv = \"missing\"’\nTraceback:\n",
      "1. `?`(dbConnect())",
      "2. .helpForCall(topicExpr, parent.frame())",
      "3. stop(gettextf(\"no documentation for function %s and signature %s\", \n .     sQuote(f), sQuote(sigFormat(sigNames, sigClasses))), domain = NA)"
     ]
    }
   ],
   "source": [
    "# View help on dbConnect()\n",
    "?dbConnect()"
   ]
  },
  {
   "cell_type": "code",
   "execution_count": 7,
   "metadata": {},
   "outputs": [
    {
     "name": "stdout",
     "output_type": "stream",
     "text": [
      "<OdbcConnection> sqlstudentreader@UWC-SQLSERVER\n",
      "  Database: AdventureWorks2016CTP3\n",
      "  Microsoft SQL Server Version: 13.00.4259\n"
     ]
    }
   ],
   "source": [
    "# Connect to the database\n",
    "# Store connection in conn variable\n",
    "conn <- dbConnect(odbc::odbc(), \n",
    "                  driver = driver_name, \n",
    "                  server = server_name, \n",
    "                  database = database_name,\n",
    "                  uid = user_id,\n",
    "                  pwd = password)\n",
    "\n",
    "# Print the connection object\n",
    "print(conn)"
   ]
  },
  {
   "cell_type": "markdown",
   "metadata": {},
   "source": [
    "Notice in the above output that it returned similar information to what you passed into dbConnect, namely the driver, server, and database information. You can additionally see the driver version."
   ]
  },
  {
   "cell_type": "markdown",
   "metadata": {},
   "source": [
    "## str()\n",
    "Compactly displays the internal structure of an R object, a diagnostic function and an alternative to summary(). Ideally, only one line for each ‘basic’ structure is displayed. The idea is to give reasonable output for any R object. \n",
    "\n",
    "You can use str() on any R variable making it universally useful."
   ]
  },
  {
   "cell_type": "code",
   "execution_count": 8,
   "metadata": {
    "collapsed": true
   },
   "outputs": [],
   "source": [
    "# View help on str()\n",
    "?str()"
   ]
  },
  {
   "cell_type": "code",
   "execution_count": 9,
   "metadata": {},
   "outputs": [
    {
     "name": "stdout",
     "output_type": "stream",
     "text": [
      "Formal class 'Microsoft SQL Server' [package \".GlobalEnv\"] with 4 slots\n",
      "  ..@ ptr     :<externalptr> \n",
      "  ..@ quote   : chr \"\\\"\"\n",
      "  ..@ info    :List of 13\n",
      "  .. ..$ dbname               : chr \"AdventureWorks2016CTP3\"\n",
      "  .. ..$ dbms.name            : chr \"Microsoft SQL Server\"\n",
      "  .. ..$ db.version           : chr \"13.00.4259\"\n",
      "  .. ..$ username             : chr \"sqlstudentreader\"\n",
      "  .. ..$ host                 : chr \"\"\n",
      "  .. ..$ port                 : chr \"\"\n",
      "  .. ..$ sourcename           : chr \"\"\n",
      "  .. ..$ servername           : chr \"UWC-SQLSERVER\"\n",
      "  .. ..$ drivername           : chr \"libmsodbcsql-13.1.so.9.2\"\n",
      "  .. ..$ odbc.version         : chr \"03.52\"\n",
      "  .. ..$ driver.version       : chr \"13.01.0009\"\n",
      "  .. ..$ odbcdriver.version   : chr \"03.52\"\n",
      "  .. ..$ supports.transactions: logi TRUE\n",
      "  .. ..- attr(*, \"class\")= chr [1:3] \"Microsoft SQL Server\" \"driver_info\" \"list\"\n",
      "  ..@ encoding: chr \"\"\n"
     ]
    }
   ],
   "source": [
    "# Print connection details\n",
    "# using str()\n",
    "str(conn)"
   ]
  },
  {
   "cell_type": "markdown",
   "metadata": {},
   "source": [
    "Notice in the output above, that str() provides additional details including the DLL of the driver, and the versions of various components. This may be useful in troubleshooting connection issues."
   ]
  },
  {
   "cell_type": "markdown",
   "metadata": {},
   "source": [
    "## dbListTables()\n",
    "Lists remote tables found when using the established database connection.\n",
    "\n",
    "dbListTables(conn, ...)"
   ]
  },
  {
   "cell_type": "code",
   "execution_count": 10,
   "metadata": {
    "collapsed": true
   },
   "outputs": [],
   "source": [
    "# View help on dbListTables()\n",
    "?dbListTables"
   ]
  },
  {
   "cell_type": "code",
   "execution_count": 11,
   "metadata": {},
   "outputs": [
    {
     "data": {
      "text/html": [
       "<ol class=list-inline>\n",
       "\t<li>'Address'</li>\n",
       "\t<li>'AddressType'</li>\n",
       "\t<li>'all_columns'</li>\n",
       "\t<li>'all_objects'</li>\n",
       "\t<li>'all_parameters'</li>\n",
       "\t<li>'all_sql_modules'</li>\n",
       "\t<li>'all_views'</li>\n",
       "\t<li>'allocation_units'</li>\n",
       "\t<li>'assemblies'</li>\n",
       "\t<li>'assembly_files'</li>\n",
       "\t<li>'assembly_modules'</li>\n",
       "\t<li>'assembly_references'</li>\n",
       "\t<li>'assembly_types'</li>\n",
       "\t<li>'asymmetric_keys'</li>\n",
       "\t<li>'availability_databases_cluster'</li>\n",
       "\t<li>'availability_group_listener_ip_addresses'</li>\n",
       "\t<li>'availability_group_listeners'</li>\n",
       "\t<li>'availability_groups'</li>\n",
       "\t<li>'availability_groups_cluster'</li>\n",
       "\t<li>'availability_read_only_routing_lists'</li>\n",
       "\t<li>'availability_replicas'</li>\n",
       "\t<li>'AWBuildVersion'</li>\n",
       "\t<li>'backup_devices'</li>\n",
       "\t<li>'BillOfMaterials'</li>\n",
       "\t<li>'BusinessEntity'</li>\n",
       "\t<li>'BusinessEntityAddress'</li>\n",
       "\t<li>'BusinessEntityContact'</li>\n",
       "\t<li>'certificates'</li>\n",
       "\t<li>'change_tracking_databases'</li>\n",
       "\t<li>'change_tracking_tables'</li>\n",
       "\t<li>'check_constraints'</li>\n",
       "\t<li>'CHECK_CONSTRAINTS'</li>\n",
       "\t<li>'COLUMN_DOMAIN_USAGE'</li>\n",
       "\t<li>'column_encryption_key_values'</li>\n",
       "\t<li>'column_encryption_keys'</li>\n",
       "\t<li>'column_master_keys'</li>\n",
       "\t<li>'COLUMN_PRIVILEGES'</li>\n",
       "\t<li>'column_store_dictionaries'</li>\n",
       "\t<li>'column_store_row_groups'</li>\n",
       "\t<li>'column_store_segments'</li>\n",
       "\t<li>'column_type_usages'</li>\n",
       "\t<li>'column_xml_schema_collection_usages'</li>\n",
       "\t<li>'columns'</li>\n",
       "\t<li>'COLUMNS'</li>\n",
       "\t<li>'computed_columns'</li>\n",
       "\t<li>'configurations'</li>\n",
       "\t<li>'CONSTRAINT_COLUMN_USAGE'</li>\n",
       "\t<li>'CONSTRAINT_TABLE_USAGE'</li>\n",
       "\t<li>'ContactType'</li>\n",
       "\t<li>'conversation_endpoints'</li>\n",
       "</ol>\n"
      ],
      "text/latex": [
       "\\begin{enumerate*}\n",
       "\\item 'Address'\n",
       "\\item 'AddressType'\n",
       "\\item 'all\\_columns'\n",
       "\\item 'all\\_objects'\n",
       "\\item 'all\\_parameters'\n",
       "\\item 'all\\_sql\\_modules'\n",
       "\\item 'all\\_views'\n",
       "\\item 'allocation\\_units'\n",
       "\\item 'assemblies'\n",
       "\\item 'assembly\\_files'\n",
       "\\item 'assembly\\_modules'\n",
       "\\item 'assembly\\_references'\n",
       "\\item 'assembly\\_types'\n",
       "\\item 'asymmetric\\_keys'\n",
       "\\item 'availability\\_databases\\_cluster'\n",
       "\\item 'availability\\_group\\_listener\\_ip\\_addresses'\n",
       "\\item 'availability\\_group\\_listeners'\n",
       "\\item 'availability\\_groups'\n",
       "\\item 'availability\\_groups\\_cluster'\n",
       "\\item 'availability\\_read\\_only\\_routing\\_lists'\n",
       "\\item 'availability\\_replicas'\n",
       "\\item 'AWBuildVersion'\n",
       "\\item 'backup\\_devices'\n",
       "\\item 'BillOfMaterials'\n",
       "\\item 'BusinessEntity'\n",
       "\\item 'BusinessEntityAddress'\n",
       "\\item 'BusinessEntityContact'\n",
       "\\item 'certificates'\n",
       "\\item 'change\\_tracking\\_databases'\n",
       "\\item 'change\\_tracking\\_tables'\n",
       "\\item 'check\\_constraints'\n",
       "\\item 'CHECK\\_CONSTRAINTS'\n",
       "\\item 'COLUMN\\_DOMAIN\\_USAGE'\n",
       "\\item 'column\\_encryption\\_key\\_values'\n",
       "\\item 'column\\_encryption\\_keys'\n",
       "\\item 'column\\_master\\_keys'\n",
       "\\item 'COLUMN\\_PRIVILEGES'\n",
       "\\item 'column\\_store\\_dictionaries'\n",
       "\\item 'column\\_store\\_row\\_groups'\n",
       "\\item 'column\\_store\\_segments'\n",
       "\\item 'column\\_type\\_usages'\n",
       "\\item 'column\\_xml\\_schema\\_collection\\_usages'\n",
       "\\item 'columns'\n",
       "\\item 'COLUMNS'\n",
       "\\item 'computed\\_columns'\n",
       "\\item 'configurations'\n",
       "\\item 'CONSTRAINT\\_COLUMN\\_USAGE'\n",
       "\\item 'CONSTRAINT\\_TABLE\\_USAGE'\n",
       "\\item 'ContactType'\n",
       "\\item 'conversation\\_endpoints'\n",
       "\\end{enumerate*}\n"
      ],
      "text/markdown": [
       "1. 'Address'\n",
       "2. 'AddressType'\n",
       "3. 'all_columns'\n",
       "4. 'all_objects'\n",
       "5. 'all_parameters'\n",
       "6. 'all_sql_modules'\n",
       "7. 'all_views'\n",
       "8. 'allocation_units'\n",
       "9. 'assemblies'\n",
       "10. 'assembly_files'\n",
       "11. 'assembly_modules'\n",
       "12. 'assembly_references'\n",
       "13. 'assembly_types'\n",
       "14. 'asymmetric_keys'\n",
       "15. 'availability_databases_cluster'\n",
       "16. 'availability_group_listener_ip_addresses'\n",
       "17. 'availability_group_listeners'\n",
       "18. 'availability_groups'\n",
       "19. 'availability_groups_cluster'\n",
       "20. 'availability_read_only_routing_lists'\n",
       "21. 'availability_replicas'\n",
       "22. 'AWBuildVersion'\n",
       "23. 'backup_devices'\n",
       "24. 'BillOfMaterials'\n",
       "25. 'BusinessEntity'\n",
       "26. 'BusinessEntityAddress'\n",
       "27. 'BusinessEntityContact'\n",
       "28. 'certificates'\n",
       "29. 'change_tracking_databases'\n",
       "30. 'change_tracking_tables'\n",
       "31. 'check_constraints'\n",
       "32. 'CHECK_CONSTRAINTS'\n",
       "33. 'COLUMN_DOMAIN_USAGE'\n",
       "34. 'column_encryption_key_values'\n",
       "35. 'column_encryption_keys'\n",
       "36. 'column_master_keys'\n",
       "37. 'COLUMN_PRIVILEGES'\n",
       "38. 'column_store_dictionaries'\n",
       "39. 'column_store_row_groups'\n",
       "40. 'column_store_segments'\n",
       "41. 'column_type_usages'\n",
       "42. 'column_xml_schema_collection_usages'\n",
       "43. 'columns'\n",
       "44. 'COLUMNS'\n",
       "45. 'computed_columns'\n",
       "46. 'configurations'\n",
       "47. 'CONSTRAINT_COLUMN_USAGE'\n",
       "48. 'CONSTRAINT_TABLE_USAGE'\n",
       "49. 'ContactType'\n",
       "50. 'conversation_endpoints'\n",
       "\n",
       "\n"
      ],
      "text/plain": [
       " [1] \"Address\"                                 \n",
       " [2] \"AddressType\"                             \n",
       " [3] \"all_columns\"                             \n",
       " [4] \"all_objects\"                             \n",
       " [5] \"all_parameters\"                          \n",
       " [6] \"all_sql_modules\"                         \n",
       " [7] \"all_views\"                               \n",
       " [8] \"allocation_units\"                        \n",
       " [9] \"assemblies\"                              \n",
       "[10] \"assembly_files\"                          \n",
       "[11] \"assembly_modules\"                        \n",
       "[12] \"assembly_references\"                     \n",
       "[13] \"assembly_types\"                          \n",
       "[14] \"asymmetric_keys\"                         \n",
       "[15] \"availability_databases_cluster\"          \n",
       "[16] \"availability_group_listener_ip_addresses\"\n",
       "[17] \"availability_group_listeners\"            \n",
       "[18] \"availability_groups\"                     \n",
       "[19] \"availability_groups_cluster\"             \n",
       "[20] \"availability_read_only_routing_lists\"    \n",
       "[21] \"availability_replicas\"                   \n",
       "[22] \"AWBuildVersion\"                          \n",
       "[23] \"backup_devices\"                          \n",
       "[24] \"BillOfMaterials\"                         \n",
       "[25] \"BusinessEntity\"                          \n",
       "[26] \"BusinessEntityAddress\"                   \n",
       "[27] \"BusinessEntityContact\"                   \n",
       "[28] \"certificates\"                            \n",
       "[29] \"change_tracking_databases\"               \n",
       "[30] \"change_tracking_tables\"                  \n",
       "[31] \"check_constraints\"                       \n",
       "[32] \"CHECK_CONSTRAINTS\"                       \n",
       "[33] \"COLUMN_DOMAIN_USAGE\"                     \n",
       "[34] \"column_encryption_key_values\"            \n",
       "[35] \"column_encryption_keys\"                  \n",
       "[36] \"column_master_keys\"                      \n",
       "[37] \"COLUMN_PRIVILEGES\"                       \n",
       "[38] \"column_store_dictionaries\"               \n",
       "[39] \"column_store_row_groups\"                 \n",
       "[40] \"column_store_segments\"                   \n",
       "[41] \"column_type_usages\"                      \n",
       "[42] \"column_xml_schema_collection_usages\"     \n",
       "[43] \"columns\"                                 \n",
       "[44] \"COLUMNS\"                                 \n",
       "[45] \"computed_columns\"                        \n",
       "[46] \"configurations\"                          \n",
       "[47] \"CONSTRAINT_COLUMN_USAGE\"                 \n",
       "[48] \"CONSTRAINT_TABLE_USAGE\"                  \n",
       "[49] \"ContactType\"                             \n",
       "[50] \"conversation_endpoints\"                  "
      ]
     },
     "metadata": {},
     "output_type": "display_data"
    }
   ],
   "source": [
    "# List the alphabetically first 50 \n",
    "# table objects in the database\n",
    "# Sorted alphabetically\n",
    "# Hint: head(), sort()\n",
    "conn %>% dbListTables %>% \n",
    "   sort() %>% \n",
    "   head(50)"
   ]
  },
  {
   "cell_type": "markdown",
   "metadata": {},
   "source": [
    "Notice the output above lists tables along with other objects. This potentially could be a long list. Using another tool to explore the database as well as develop the SQL query might be useful. "
   ]
  },
  {
   "cell_type": "markdown",
   "metadata": {},
   "source": [
    "## dbListFields()\n",
    "Lists field names of a remote table. Field names is another term for column names.\n",
    "\n",
    "dbListFields(conn, name, ...)"
   ]
  },
  {
   "cell_type": "code",
   "execution_count": null,
   "metadata": {
    "collapsed": true
   },
   "outputs": [],
   "source": [
    "# View help on dbListFields()\n",
    "?dbListFields"
   ]
  },
  {
   "cell_type": "code",
   "execution_count": 12,
   "metadata": {},
   "outputs": [
    {
     "data": {
      "text/html": [
       "<ol class=list-inline>\n",
       "\t<li>'CustomerID'</li>\n",
       "\t<li>'PersonID'</li>\n",
       "\t<li>'StoreID'</li>\n",
       "\t<li>'TerritoryID'</li>\n",
       "\t<li>'AccountNumber'</li>\n",
       "\t<li>'rowguid'</li>\n",
       "\t<li>'ModifiedDate'</li>\n",
       "</ol>\n"
      ],
      "text/latex": [
       "\\begin{enumerate*}\n",
       "\\item 'CustomerID'\n",
       "\\item 'PersonID'\n",
       "\\item 'StoreID'\n",
       "\\item 'TerritoryID'\n",
       "\\item 'AccountNumber'\n",
       "\\item 'rowguid'\n",
       "\\item 'ModifiedDate'\n",
       "\\end{enumerate*}\n"
      ],
      "text/markdown": [
       "1. 'CustomerID'\n",
       "2. 'PersonID'\n",
       "3. 'StoreID'\n",
       "4. 'TerritoryID'\n",
       "5. 'AccountNumber'\n",
       "6. 'rowguid'\n",
       "7. 'ModifiedDate'\n",
       "\n",
       "\n"
      ],
      "text/plain": [
       "[1] \"CustomerID\"    \"PersonID\"      \"StoreID\"       \"TerritoryID\"  \n",
       "[5] \"AccountNumber\" \"rowguid\"       \"ModifiedDate\" "
      ]
     },
     "metadata": {},
     "output_type": "display_data"
    }
   ],
   "source": [
    "# List the columns \n",
    "# for table: Customer\n",
    "conn %>% \n",
    "   dbListFields(\"Customer\")"
   ]
  },
  {
   "cell_type": "markdown",
   "metadata": {},
   "source": [
    "The above is the equivalant to the names() function, providing the column names of the table. This is useful to determine what columns we might want to export using our SELECT statement, or of course we can use SELECT * and get them all and sort them out in R later if we choose."
   ]
  },
  {
   "cell_type": "markdown",
   "metadata": {},
   "source": [
    "## dbGetQuery()\n",
    "Send query, retrieve results and then clear result set. This function is for SELECT queries only. Some backends may support data manipulation statements through this function for compatibility reasons. However callers are strongly advised to use dbExecute for data manipulation statements.\n",
    "\n",
    "dbGetQuery(conn, statement, ...)"
   ]
  },
  {
   "cell_type": "code",
   "execution_count": 23,
   "metadata": {
    "collapsed": true
   },
   "outputs": [],
   "source": [
    "# View help on dbGetQuery()\n",
    "?dbGetQuery"
   ]
  },
  {
   "cell_type": "code",
   "execution_count": 14,
   "metadata": {},
   "outputs": [
    {
     "name": "stdout",
     "output_type": "stream",
     "text": [
      "Observations: 10\n",
      "Variables: 7\n",
      "$ CustomerID    \u001b[3m\u001b[90m<int>\u001b[39m\u001b[23m 1, 2, 3, 4, 5, 6, 7, 8, 9, 10\n",
      "$ PersonID      \u001b[3m\u001b[90m<int>\u001b[39m\u001b[23m NA, NA, NA, NA, NA, NA, NA, NA, NA, NA\n",
      "$ StoreID       \u001b[3m\u001b[90m<int>\u001b[39m\u001b[23m 934, 1028, 642, 932, 1026, 644, 930, 1024, 620, 928\n",
      "$ TerritoryID   \u001b[3m\u001b[90m<int>\u001b[39m\u001b[23m 1, 1, 4, 4, 4, 4, 1, 5, 5, 6\n",
      "$ AccountNumber \u001b[3m\u001b[90m<chr>\u001b[39m\u001b[23m \"AW00000001\", \"AW00000002\", \"AW00000003\", \"AW00000004\",…\n",
      "$ rowguid       \u001b[3m\u001b[90m<chr>\u001b[39m\u001b[23m \"3F5AE95E-B87D-4AED-95B4-C3797AFCB74F\", \"E552F657-A9AF-…\n",
      "$ ModifiedDate  \u001b[3m\u001b[90m<dttm>\u001b[39m\u001b[23m 2014-09-12 11:15:07, 2014-09-12 11:15:07, 2014-09-12 1…\n"
     ]
    }
   ],
   "source": [
    "# Create a SQL SELECT statement\n",
    "# select the first 10 rows of data for all columns\n",
    "# Table: Sales.Customer\n",
    "# First store the query text in a variable sql_dim_date\n",
    "# Hint: SQL TOP N\n",
    "sql_customer <- \n",
    "\"SELECT Top 10 * \n",
    "FROM Sales.Customer\"\n",
    "\n",
    "# Second, execute the query\n",
    "# store result in df_customer\n",
    "df_customer <- conn %>% \n",
    "   dbGetQuery(sql_customer) %>%\n",
    "   head(10)  # Optional if part of SQL query\n",
    "\n",
    "# Glimpse result\n",
    "glimpse(df_customer)"
   ]
  },
  {
   "cell_type": "markdown",
   "metadata": {},
   "source": [
    "* Notice that it is simple to execute SQL SELECT statements and return the results as a data frame. \n",
    "* Notice that the data types map well from SQL to R since R is less restrictive than SQL.  \n",
    "* Notice that the SQL statement can be a variable and thus we can programmatically create and edit this code to create what is referred to as 'dynamic SQL'. This is where the power of programming comes in for automation as well as adjusting what is queried based upon other data or configurations."
   ]
  },
  {
   "cell_type": "markdown",
   "metadata": {},
   "source": [
    "## SQL SELECT \n",
    "There is full capabilities with the SQL SELECT statement. It doesn't have to be limited to simple queries. \n",
    "\n",
    "Let's try returning specific columns and filtering on some rows."
   ]
  },
  {
   "cell_type": "code",
   "execution_count": 26,
   "metadata": {
    "collapsed": true
   },
   "outputs": [],
   "source": [
    "?select"
   ]
  },
  {
   "cell_type": "code",
   "execution_count": 28,
   "metadata": {
    "scrolled": true
   },
   "outputs": [
    {
     "name": "stdout",
     "output_type": "stream",
     "text": [
      "Observations: 10\n",
      "Variables: 5\n",
      "$ BusinessEntityID \u001b[3m\u001b[90m<int>\u001b[39m\u001b[23m 289, 284, 286, 288, 290, 282, 277, 276, 283, 275\n",
      "$ TerritoryID      \u001b[3m\u001b[90m<int>\u001b[39m\u001b[23m 10, 1, 9, 8, 7, 6, 3, 4, 1, 2\n",
      "$ SalesQuota       \u001b[3m\u001b[90m<dbl>\u001b[39m\u001b[23m 250000, 300000, 250000, 250000, 250000, 250000, 2500…\n",
      "$ Bonus            \u001b[3m\u001b[90m<dbl>\u001b[39m\u001b[23m 5150, 3900, 5650, 75, 985, 5000, 2500, 2000, 3500, 4…\n",
      "$ CommissionPct    \u001b[3m\u001b[90m<dbl>\u001b[39m\u001b[23m 0.020, 0.019, 0.018, 0.018, 0.016, 0.015, 0.015, 0.0…\n"
     ]
    }
   ],
   "source": [
    "# Import Sales.SalesPerson\n",
    "# returning only the first 5 columns \n",
    "# and top 10 rows\n",
    "# with Bonus > 0\n",
    "# sorted by CommissionPct from high to low\n",
    "# Hint: select(1:5)\n",
    "sql_sales_person <- \"SELECT top 10 *\n",
    "FROM Sales.SalesPerson\n",
    "WHERE Sales.SalesPerson.Bonus > 0\n",
    "ORDER BY Sales.SalesPerson.CommissionPct Desc\"\n",
    "\n",
    "df_sales_person <- conn %>% \n",
    "   dbGetQuery(sql_sales_person)%>%\n",
    "    select(1:5)\n",
    "\n",
    "# Glimpse result\n",
    "glimpse(df_sales_person)"
   ]
  },
  {
   "cell_type": "markdown",
   "metadata": {},
   "source": [
    "Repeat the above task but instead bring in all the data from the SQL statement and perform the manipulation using R"
   ]
  },
  {
   "cell_type": "code",
   "execution_count": 31,
   "metadata": {
    "collapsed": true
   },
   "outputs": [],
   "source": [
    "?arrange"
   ]
  },
  {
   "cell_type": "code",
   "execution_count": 33,
   "metadata": {},
   "outputs": [
    {
     "name": "stdout",
     "output_type": "stream",
     "text": [
      "Observations: 10\n",
      "Variables: 5\n",
      "$ BusinessEntityID \u001b[3m\u001b[90m<int>\u001b[39m\u001b[23m 289, 284, 286, 288, 290, 276, 277, 282, 275, 283\n",
      "$ TerritoryID      \u001b[3m\u001b[90m<int>\u001b[39m\u001b[23m 10, 1, 9, 8, 7, 4, 3, 6, 2, 1\n",
      "$ SalesQuota       \u001b[3m\u001b[90m<dbl>\u001b[39m\u001b[23m 250000, 300000, 250000, 250000, 250000, 250000, 2500…\n",
      "$ Bonus            \u001b[3m\u001b[90m<dbl>\u001b[39m\u001b[23m 5150, 3900, 5650, 75, 985, 2000, 2500, 5000, 4100, 3…\n",
      "$ CommissionPct    \u001b[3m\u001b[90m<dbl>\u001b[39m\u001b[23m 0.020, 0.019, 0.018, 0.018, 0.016, 0.015, 0.015, 0.0…\n"
     ]
    }
   ],
   "source": [
    "# Import Sales.SalesPerson\n",
    "# returning only the first 5 columns \n",
    "# and top 10 rows\n",
    "# with Bonus > 0\n",
    "# sorted by CommissionPct from high to low\n",
    "# Hint: select(1:5), filter(), arrange(), desc(), head()\n",
    "sql_sales_person <- \n",
    "\"SELECT *  \n",
    "FROM Sales.SalesPerson\"\n",
    "\n",
    "df_sales_person <- conn %>% \n",
    "   dbGetQuery(sql_sales_person) %>%\n",
    "   select(1:5) %>%  \n",
    "   filter(Bonus > 0) %>%  \n",
    "   arrange(desc(CommissionPct)) %>% \n",
    "   head(n = 10)  \n",
    "\n",
    "# Glimpse result\n",
    "glimpse(df_sales_person)"
   ]
  },
  {
   "cell_type": "markdown",
   "metadata": {},
   "source": [
    "Are the results from using SQL SELECT and R identical? If not, why not?"
   ]
  },
  {
   "cell_type": "code",
   "execution_count": 45,
   "metadata": {
    "collapsed": true
   },
   "outputs": [],
   "source": [
    "?everything"
   ]
  },
  {
   "cell_type": "code",
   "execution_count": 51,
   "metadata": {},
   "outputs": [
    {
     "name": "stdout",
     "output_type": "stream",
     "text": [
      "Observations: 121,317\n",
      "Variables: 11\n",
      "$ SalesOrderID          \u001b[3m\u001b[90m<int>\u001b[39m\u001b[23m 43659, 43659, 43659, 43659, 43659, 43659, 43659…\n",
      "$ SalesOrderDetailID    \u001b[3m\u001b[90m<int>\u001b[39m\u001b[23m 1, 2, 3, 4, 5, 6, 7, 8, 9, 10, 11, 12, 13, 14, …\n",
      "$ CarrierTrackingNumber \u001b[3m\u001b[90m<chr>\u001b[39m\u001b[23m \"4911-403C-98\", \"4911-403C-98\", \"4911-403C-98\",…\n",
      "$ OrderQty              \u001b[3m\u001b[90m<int>\u001b[39m\u001b[23m 1, 3, 1, 1, 1, 2, 1, 3, 1, 6, 2, 4, 1, 1, 1, 1,…\n",
      "$ ProductID             \u001b[3m\u001b[90m<int>\u001b[39m\u001b[23m 776, 777, 778, 771, 772, 773, 774, 714, 716, 70…\n",
      "$ SpecialOfferID        \u001b[3m\u001b[90m<int>\u001b[39m\u001b[23m 1, 1, 1, 1, 1, 1, 1, 1, 1, 1, 1, 1, 1, 1, 1, 1,…\n",
      "$ UnitPrice             \u001b[3m\u001b[90m<dbl>\u001b[39m\u001b[23m 2024.9940, 2024.9940, 2024.9940, 2039.9940, 203…\n",
      "$ UnitPriceDiscount     \u001b[3m\u001b[90m<dbl>\u001b[39m\u001b[23m 0, 0, 0, 0, 0, 0, 0, 0, 0, 0, 0, 0, 0, 0, 0, 0,…\n",
      "$ LineTotal             \u001b[3m\u001b[90m<dbl>\u001b[39m\u001b[23m 2024.9940, 6074.9820, 2024.9940, 2039.9940, 203…\n",
      "$ rowguid               \u001b[3m\u001b[90m<chr>\u001b[39m\u001b[23m \"B207C96D-D9E6-402B-8470-2CC176C42283\", \"7ABB60…\n",
      "$ ModifiedDate          \u001b[3m\u001b[90m<dttm>\u001b[39m\u001b[23m 2011-05-31, 2011-05-31, 2011-05-31, 2011-05-31…\n"
     ]
    },
    {
     "data": {
      "text/html": [
       "<table>\n",
       "<caption>A data.frame: 10 × 5</caption>\n",
       "<thead>\n",
       "\t<tr><th scope=col>OrderQty</th><th scope=col>SalesOrderID</th><th scope=col>SalesOrderDetailID</th><th scope=col>CarrierTrackingNumber</th><th scope=col>ProductID</th></tr>\n",
       "\t<tr><th scope=col>&lt;int&gt;</th><th scope=col>&lt;int&gt;</th><th scope=col>&lt;int&gt;</th><th scope=col>&lt;chr&gt;</th><th scope=col>&lt;int&gt;</th></tr>\n",
       "</thead>\n",
       "<tbody>\n",
       "\t<tr><td>44</td><td>50270</td><td>32300</td><td>A828-45A2-8B</td><td>863</td></tr>\n",
       "\t<tr><td>41</td><td>67266</td><td>95437</td><td>3CFE-46C9-88</td><td>869</td></tr>\n",
       "\t<tr><td>40</td><td>51783</td><td>41192</td><td>B7A2-49BC-89</td><td>867</td></tr>\n",
       "\t<tr><td>40</td><td>57186</td><td>63156</td><td>EF93-4946-97</td><td>869</td></tr>\n",
       "\t<tr><td>39</td><td>48089</td><td>22231</td><td>EACD-4BB9-97</td><td>863</td></tr>\n",
       "\t<tr><td>38</td><td>67266</td><td>95433</td><td>3CFE-46C9-88</td><td>867</td></tr>\n",
       "\t<tr><td>36</td><td>51109</td><td>36271</td><td>0EFE-4639-BE</td><td>864</td></tr>\n",
       "\t<tr><td>36</td><td>51783</td><td>41188</td><td>B7A2-49BC-89</td><td>869</td></tr>\n",
       "\t<tr><td>35</td><td>46610</td><td>10831</td><td>B7D1-4895-B6</td><td>863</td></tr>\n",
       "\t<tr><td>35</td><td>46673</td><td>12350</td><td>578D-4F7B-A6</td><td>863</td></tr>\n",
       "</tbody>\n",
       "</table>\n"
      ],
      "text/latex": [
       "A data.frame: 10 × 5\n",
       "\\begin{tabular}{r|lllll}\n",
       " OrderQty & SalesOrderID & SalesOrderDetailID & CarrierTrackingNumber & ProductID\\\\\n",
       " <int> & <int> & <int> & <chr> & <int>\\\\\n",
       "\\hline\n",
       "\t 44 & 50270 & 32300 & A828-45A2-8B & 863\\\\\n",
       "\t 41 & 67266 & 95437 & 3CFE-46C9-88 & 869\\\\\n",
       "\t 40 & 51783 & 41192 & B7A2-49BC-89 & 867\\\\\n",
       "\t 40 & 57186 & 63156 & EF93-4946-97 & 869\\\\\n",
       "\t 39 & 48089 & 22231 & EACD-4BB9-97 & 863\\\\\n",
       "\t 38 & 67266 & 95433 & 3CFE-46C9-88 & 867\\\\\n",
       "\t 36 & 51109 & 36271 & 0EFE-4639-BE & 864\\\\\n",
       "\t 36 & 51783 & 41188 & B7A2-49BC-89 & 869\\\\\n",
       "\t 35 & 46610 & 10831 & B7D1-4895-B6 & 863\\\\\n",
       "\t 35 & 46673 & 12350 & 578D-4F7B-A6 & 863\\\\\n",
       "\\end{tabular}\n"
      ],
      "text/markdown": [
       "\n",
       "A data.frame: 10 × 5\n",
       "\n",
       "| OrderQty &lt;int&gt; | SalesOrderID &lt;int&gt; | SalesOrderDetailID &lt;int&gt; | CarrierTrackingNumber &lt;chr&gt; | ProductID &lt;int&gt; |\n",
       "|---|---|---|---|---|\n",
       "| 44 | 50270 | 32300 | A828-45A2-8B | 863 |\n",
       "| 41 | 67266 | 95437 | 3CFE-46C9-88 | 869 |\n",
       "| 40 | 51783 | 41192 | B7A2-49BC-89 | 867 |\n",
       "| 40 | 57186 | 63156 | EF93-4946-97 | 869 |\n",
       "| 39 | 48089 | 22231 | EACD-4BB9-97 | 863 |\n",
       "| 38 | 67266 | 95433 | 3CFE-46C9-88 | 867 |\n",
       "| 36 | 51109 | 36271 | 0EFE-4639-BE | 864 |\n",
       "| 36 | 51783 | 41188 | B7A2-49BC-89 | 869 |\n",
       "| 35 | 46610 | 10831 | B7D1-4895-B6 | 863 |\n",
       "| 35 | 46673 | 12350 | 578D-4F7B-A6 | 863 |\n",
       "\n"
      ],
      "text/plain": [
       "   OrderQty SalesOrderID SalesOrderDetailID CarrierTrackingNumber ProductID\n",
       "1  44       50270        32300              A828-45A2-8B          863      \n",
       "2  41       67266        95437              3CFE-46C9-88          869      \n",
       "3  40       51783        41192              B7A2-49BC-89          867      \n",
       "4  40       57186        63156              EF93-4946-97          869      \n",
       "5  39       48089        22231              EACD-4BB9-97          863      \n",
       "6  38       67266        95433              3CFE-46C9-88          867      \n",
       "7  36       51109        36271              0EFE-4639-BE          864      \n",
       "8  36       51783        41188              B7A2-49BC-89          869      \n",
       "9  35       46610        10831              B7D1-4895-B6          863      \n",
       "10 35       46673        12350              578D-4F7B-A6          863      "
      ]
     },
     "metadata": {},
     "output_type": "display_data"
    }
   ],
   "source": [
    "# Create a SELECT statement \n",
    "# that returns all rows\n",
    "# for table Sales.SalesOrderDetail\n",
    "# Store as sql_sales_order_detail\n",
    "sql_sales_order_detail <- \n",
    "\"SELECT *\n",
    "  FROM Sales.SalesOrderDetail\"\n",
    "\n",
    "# Execute the query \n",
    "# Store the result in df_usa\n",
    "df_sales_order_detail <- conn %>%\n",
    "   dbGetQuery(sql_sales_order_detail)\n",
    "\n",
    "# Glimpse result\n",
    "glimpse(df_sales_order_detail) \n",
    "\n",
    "# Print top 5 results of the first 5 columns\n",
    "# with OrderQty being the first column\n",
    "# Hint: select(), everything(), arrange(), head()\n",
    "df_sales_order_detail %>% \n",
    "   select(1:5)%>%\n",
    "    select(OrderQty, everything())%>%\n",
    "    arrange(desc(OrderQty)) %>%\n",
    "    head(n = 10)# May need to use several functions, see hint above"
   ]
  },
  {
   "cell_type": "markdown",
   "metadata": {},
   "source": [
    "## dbDisconnect()\n",
    "Disconnect (close) a connection. This closes the connection, discards all pending work, and frees resources (e.g., memory, sockets).\n",
    "\n",
    "dbDisconnect(conn, ...)"
   ]
  },
  {
   "cell_type": "code",
   "execution_count": null,
   "metadata": {
    "collapsed": true
   },
   "outputs": [],
   "source": [
    "# View help on dbDisconnect()\n",
    "?dbDisconnect"
   ]
  },
  {
   "cell_type": "code",
   "execution_count": 52,
   "metadata": {
    "collapsed": true
   },
   "outputs": [],
   "source": [
    "# Close the database connection\n",
    "dbDisconnect(conn)"
   ]
  },
  {
   "cell_type": "markdown",
   "metadata": {},
   "source": [
    "Notice it returned TRUE meaning the connection was successfully closed."
   ]
  },
  {
   "cell_type": "markdown",
   "metadata": {},
   "source": [
    "## Code Recap\n",
    "Let's put all the code in one block to better see the pattern."
   ]
  },
  {
   "cell_type": "code",
   "execution_count": 57,
   "metadata": {},
   "outputs": [
    {
     "data": {
      "text/html": [
       "<ol class=list-inline>\n",
       "\t<li>'AWBuildVersion'</li>\n",
       "\t<li>'DatabaseLog'</li>\n",
       "\t<li>'ErrorLog'</li>\n",
       "\t<li>'DemoSalesOrderDetailSeed'</li>\n",
       "\t<li>'DemoSalesOrderHeaderSeed'</li>\n",
       "\t<li>'Department'</li>\n",
       "\t<li>'Employee'</li>\n",
       "\t<li>'Employee_Temporal'</li>\n",
       "\t<li>'Employee_Temporal_History'</li>\n",
       "\t<li>'EmployeeDepartmentHistory'</li>\n",
       "\t<li>'EmployeePayHistory'</li>\n",
       "\t<li>'JobCandidate'</li>\n",
       "\t<li>'Shift'</li>\n",
       "\t<li>'Address'</li>\n",
       "\t<li>'AddressType'</li>\n",
       "\t<li>'BusinessEntity'</li>\n",
       "\t<li>'BusinessEntityAddress'</li>\n",
       "\t<li>'BusinessEntityContact'</li>\n",
       "\t<li>'ContactType'</li>\n",
       "\t<li>'CountryRegion'</li>\n",
       "</ol>\n"
      ],
      "text/latex": [
       "\\begin{enumerate*}\n",
       "\\item 'AWBuildVersion'\n",
       "\\item 'DatabaseLog'\n",
       "\\item 'ErrorLog'\n",
       "\\item 'DemoSalesOrderDetailSeed'\n",
       "\\item 'DemoSalesOrderHeaderSeed'\n",
       "\\item 'Department'\n",
       "\\item 'Employee'\n",
       "\\item 'Employee\\_Temporal'\n",
       "\\item 'Employee\\_Temporal\\_History'\n",
       "\\item 'EmployeeDepartmentHistory'\n",
       "\\item 'EmployeePayHistory'\n",
       "\\item 'JobCandidate'\n",
       "\\item 'Shift'\n",
       "\\item 'Address'\n",
       "\\item 'AddressType'\n",
       "\\item 'BusinessEntity'\n",
       "\\item 'BusinessEntityAddress'\n",
       "\\item 'BusinessEntityContact'\n",
       "\\item 'ContactType'\n",
       "\\item 'CountryRegion'\n",
       "\\end{enumerate*}\n"
      ],
      "text/markdown": [
       "1. 'AWBuildVersion'\n",
       "2. 'DatabaseLog'\n",
       "3. 'ErrorLog'\n",
       "4. 'DemoSalesOrderDetailSeed'\n",
       "5. 'DemoSalesOrderHeaderSeed'\n",
       "6. 'Department'\n",
       "7. 'Employee'\n",
       "8. 'Employee_Temporal'\n",
       "9. 'Employee_Temporal_History'\n",
       "10. 'EmployeeDepartmentHistory'\n",
       "11. 'EmployeePayHistory'\n",
       "12. 'JobCandidate'\n",
       "13. 'Shift'\n",
       "14. 'Address'\n",
       "15. 'AddressType'\n",
       "16. 'BusinessEntity'\n",
       "17. 'BusinessEntityAddress'\n",
       "18. 'BusinessEntityContact'\n",
       "19. 'ContactType'\n",
       "20. 'CountryRegion'\n",
       "\n",
       "\n"
      ],
      "text/plain": [
       " [1] \"AWBuildVersion\"            \"DatabaseLog\"              \n",
       " [3] \"ErrorLog\"                  \"DemoSalesOrderDetailSeed\" \n",
       " [5] \"DemoSalesOrderHeaderSeed\"  \"Department\"               \n",
       " [7] \"Employee\"                  \"Employee_Temporal\"        \n",
       " [9] \"Employee_Temporal_History\" \"EmployeeDepartmentHistory\"\n",
       "[11] \"EmployeePayHistory\"        \"JobCandidate\"             \n",
       "[13] \"Shift\"                     \"Address\"                  \n",
       "[15] \"AddressType\"               \"BusinessEntity\"           \n",
       "[17] \"BusinessEntityAddress\"     \"BusinessEntityContact\"    \n",
       "[19] \"ContactType\"               \"CountryRegion\"            "
      ]
     },
     "metadata": {},
     "output_type": "display_data"
    },
    {
     "data": {
      "text/html": [
       "<ol class=list-inline>\n",
       "\t<li>'CustomerID'</li>\n",
       "\t<li>'PersonID'</li>\n",
       "\t<li>'StoreID'</li>\n",
       "\t<li>'TerritoryID'</li>\n",
       "\t<li>'AccountNumber'</li>\n",
       "\t<li>'rowguid'</li>\n",
       "\t<li>'ModifiedDate'</li>\n",
       "</ol>\n"
      ],
      "text/latex": [
       "\\begin{enumerate*}\n",
       "\\item 'CustomerID'\n",
       "\\item 'PersonID'\n",
       "\\item 'StoreID'\n",
       "\\item 'TerritoryID'\n",
       "\\item 'AccountNumber'\n",
       "\\item 'rowguid'\n",
       "\\item 'ModifiedDate'\n",
       "\\end{enumerate*}\n"
      ],
      "text/markdown": [
       "1. 'CustomerID'\n",
       "2. 'PersonID'\n",
       "3. 'StoreID'\n",
       "4. 'TerritoryID'\n",
       "5. 'AccountNumber'\n",
       "6. 'rowguid'\n",
       "7. 'ModifiedDate'\n",
       "\n",
       "\n"
      ],
      "text/plain": [
       "[1] \"CustomerID\"    \"PersonID\"      \"StoreID\"       \"TerritoryID\"  \n",
       "[5] \"AccountNumber\" \"rowguid\"       \"ModifiedDate\" "
      ]
     },
     "metadata": {},
     "output_type": "display_data"
    },
    {
     "name": "stdout",
     "output_type": "stream",
     "text": [
      "Observations: 121,317\n",
      "Variables: 11\n",
      "$ SalesOrderID          \u001b[3m\u001b[90m<int>\u001b[39m\u001b[23m 43659, 43659, 43659, 43659, 43659, 43659, 43659…\n",
      "$ SalesOrderDetailID    \u001b[3m\u001b[90m<int>\u001b[39m\u001b[23m 1, 2, 3, 4, 5, 6, 7, 8, 9, 10, 11, 12, 13, 14, …\n",
      "$ CarrierTrackingNumber \u001b[3m\u001b[90m<chr>\u001b[39m\u001b[23m \"4911-403C-98\", \"4911-403C-98\", \"4911-403C-98\",…\n",
      "$ OrderQty              \u001b[3m\u001b[90m<int>\u001b[39m\u001b[23m 1, 3, 1, 1, 1, 2, 1, 3, 1, 6, 2, 4, 1, 1, 1, 1,…\n",
      "$ ProductID             \u001b[3m\u001b[90m<int>\u001b[39m\u001b[23m 776, 777, 778, 771, 772, 773, 774, 714, 716, 70…\n",
      "$ SpecialOfferID        \u001b[3m\u001b[90m<int>\u001b[39m\u001b[23m 1, 1, 1, 1, 1, 1, 1, 1, 1, 1, 1, 1, 1, 1, 1, 1,…\n",
      "$ UnitPrice             \u001b[3m\u001b[90m<dbl>\u001b[39m\u001b[23m 2024.9940, 2024.9940, 2024.9940, 2039.9940, 203…\n",
      "$ UnitPriceDiscount     \u001b[3m\u001b[90m<dbl>\u001b[39m\u001b[23m 0, 0, 0, 0, 0, 0, 0, 0, 0, 0, 0, 0, 0, 0, 0, 0,…\n",
      "$ LineTotal             \u001b[3m\u001b[90m<dbl>\u001b[39m\u001b[23m 2024.9940, 6074.9820, 2024.9940, 2039.9940, 203…\n",
      "$ rowguid               \u001b[3m\u001b[90m<chr>\u001b[39m\u001b[23m \"B207C96D-D9E6-402B-8470-2CC176C42283\", \"7ABB60…\n",
      "$ ModifiedDate          \u001b[3m\u001b[90m<dttm>\u001b[39m\u001b[23m 2011-05-31, 2011-05-31, 2011-05-31, 2011-05-31…\n"
     ]
    },
    {
     "data": {
      "text/html": [
       "<table>\n",
       "<caption>A data.frame: 5 × 5</caption>\n",
       "<thead>\n",
       "\t<tr><th scope=col>OrderQty</th><th scope=col>SalesOrderID</th><th scope=col>SalesOrderDetailID</th><th scope=col>CarrierTrackingNumber</th><th scope=col>ProductID</th></tr>\n",
       "\t<tr><th scope=col>&lt;int&gt;</th><th scope=col>&lt;int&gt;</th><th scope=col>&lt;int&gt;</th><th scope=col>&lt;chr&gt;</th><th scope=col>&lt;int&gt;</th></tr>\n",
       "</thead>\n",
       "<tbody>\n",
       "\t<tr><td>44</td><td>50270</td><td>32300</td><td>A828-45A2-8B</td><td>863</td></tr>\n",
       "\t<tr><td>41</td><td>67266</td><td>95437</td><td>3CFE-46C9-88</td><td>869</td></tr>\n",
       "\t<tr><td>40</td><td>51783</td><td>41192</td><td>B7A2-49BC-89</td><td>867</td></tr>\n",
       "\t<tr><td>40</td><td>57186</td><td>63156</td><td>EF93-4946-97</td><td>869</td></tr>\n",
       "\t<tr><td>39</td><td>48089</td><td>22231</td><td>EACD-4BB9-97</td><td>863</td></tr>\n",
       "</tbody>\n",
       "</table>\n"
      ],
      "text/latex": [
       "A data.frame: 5 × 5\n",
       "\\begin{tabular}{r|lllll}\n",
       " OrderQty & SalesOrderID & SalesOrderDetailID & CarrierTrackingNumber & ProductID\\\\\n",
       " <int> & <int> & <int> & <chr> & <int>\\\\\n",
       "\\hline\n",
       "\t 44 & 50270 & 32300 & A828-45A2-8B & 863\\\\\n",
       "\t 41 & 67266 & 95437 & 3CFE-46C9-88 & 869\\\\\n",
       "\t 40 & 51783 & 41192 & B7A2-49BC-89 & 867\\\\\n",
       "\t 40 & 57186 & 63156 & EF93-4946-97 & 869\\\\\n",
       "\t 39 & 48089 & 22231 & EACD-4BB9-97 & 863\\\\\n",
       "\\end{tabular}\n"
      ],
      "text/markdown": [
       "\n",
       "A data.frame: 5 × 5\n",
       "\n",
       "| OrderQty &lt;int&gt; | SalesOrderID &lt;int&gt; | SalesOrderDetailID &lt;int&gt; | CarrierTrackingNumber &lt;chr&gt; | ProductID &lt;int&gt; |\n",
       "|---|---|---|---|---|\n",
       "| 44 | 50270 | 32300 | A828-45A2-8B | 863 |\n",
       "| 41 | 67266 | 95437 | 3CFE-46C9-88 | 869 |\n",
       "| 40 | 51783 | 41192 | B7A2-49BC-89 | 867 |\n",
       "| 40 | 57186 | 63156 | EF93-4946-97 | 869 |\n",
       "| 39 | 48089 | 22231 | EACD-4BB9-97 | 863 |\n",
       "\n"
      ],
      "text/plain": [
       "  OrderQty SalesOrderID SalesOrderDetailID CarrierTrackingNumber ProductID\n",
       "1 44       50270        32300              A828-45A2-8B          863      \n",
       "2 41       67266        95437              3CFE-46C9-88          869      \n",
       "3 40       51783        41192              B7A2-49BC-89          867      \n",
       "4 40       57186        63156              EF93-4946-97          869      \n",
       "5 39       48089        22231              EACD-4BB9-97          863      "
      ]
     },
     "metadata": {},
     "output_type": "display_data"
    }
   ],
   "source": [
    "# Load libraries\n",
    "library('odbc') # odbc\n",
    "library('DBI') # DBI\n",
    "library('tidyverse') # tidyverse\n",
    "\n",
    "# Connection string info\n",
    "driver_name <- \"ODBC Driver 13 for SQL Server\"\n",
    "server_name <- \"69.91.210.142\" \n",
    "database_name <- \"AdventureWorks2016CTP3\" \n",
    "user_id <- \"sqlstudentreader\"\n",
    "password <- \"PA6aX2gAhe4hE!ru$6atru\"\n",
    "\n",
    "# Connect to the database\n",
    "conn <- dbConnect(odbc::odbc(), \n",
    "                  driver = driver_name, \n",
    "                  server = server_name, \n",
    "                  database = database_name,\n",
    "                  uid = user_id,\n",
    "                  pwd = password)\n",
    "\n",
    "# List the first 20 table objects in the database\n",
    "conn %>% \n",
    "   dbListTables()%>% \n",
    "   head(20)\n",
    "\n",
    "# List the columns \n",
    "# for table: Customer\n",
    "# limit to the first 10 columns\n",
    "conn %>% \n",
    "   dbListFields(\"Customer\") %>% \n",
    "   head(10)\n",
    "\n",
    "# Create a SELECT statement \n",
    "# that returns all rows\n",
    "# for table Sales.SalesOrderDetail\n",
    "# Store as sql_sales_order_detail\n",
    "sql_sales_order_detail <- \n",
    "\"SELECT *\n",
    "  FROM Sales.SalesOrderDetail\"\n",
    "\n",
    "# Execute the query \n",
    "# Store the result in df_top_orders\n",
    "df_sales_order_detail <- conn %>%\n",
    "   dbGetQuery(sql_sales_order_detail)\n",
    "\n",
    "# Glimpse result\n",
    "glimpse(df_sales_order_detail)\n",
    "\n",
    "# Print top 5 highest quantity orders and the first 5 columns\n",
    "# with OrderQty being the first column\n",
    "# Hint: select(), everything(), arrange(), head()\n",
    "df_sales_order_detail %>% \n",
    "   select(1:5)%>%\n",
    "    select(OrderQty, everything())%>%\n",
    "    arrange(desc(OrderQty))%>%\n",
    "    head(5)# See hint above\n",
    "\n",
    "# Close the database connection\n",
    "dbDisconnect(conn)"
   ]
  },
  {
   "cell_type": "markdown",
   "metadata": {
    "collapsed": true
   },
   "source": [
    "## Analyze Sales Orders\n",
    "Once you import a table of data, it may be helpful to get a sense of the data from a graphical perspective. \n",
    "\n",
    "Let's plot the frequency of the order quantities.  "
   ]
  },
  {
   "cell_type": "code",
   "execution_count": 58,
   "metadata": {},
   "outputs": [
    {
     "data": {
      "image/png": "[encoded data removed]",
      "text/plain": [
       "plot without title"
      ]
     },
     "metadata": {},
     "output_type": "display_data"
    }
   ],
   "source": [
    "# Create a bar plot of OrderQty\n",
    "# Create a bar plot of OrderQty\n",
    "df_sales_order_detail %>% \n",
    "   ggplot(aes(OrderQty)) + \n",
    "      geom_bar()"
   ]
  },
  {
   "cell_type": "markdown",
   "metadata": {},
   "source": [
    "## Summary\n",
    "odbc and DBI packages enable you to execute SQL SELECT statements with the results returned as data frames."
   ]
  }
 ],
 "metadata": {
  "kernelspec": {
   "display_name": "R",
   "language": "R",
   "name": "ir"
  },
  "language_info": {
   "codemirror_mode": "r",
   "file_extension": ".r",
   "mimetype": "text/x-r-source",
   "name": "R",
   "pygments_lexer": "r",
   "version": "3.6.1"
  }
 },
 "nbformat": 4,
 "nbformat_minor": 1
}
