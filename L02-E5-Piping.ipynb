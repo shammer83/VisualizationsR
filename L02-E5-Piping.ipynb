{
 "cells": [
  {
   "cell_type": "markdown",
   "metadata": {},
   "source": [
    "# L02-E5-Piping\n",
    "## Exercise Instructions\n",
    "\n",
    "* Complete all cells as instructed, replacing any ??? with the appropriate code\n",
    "\n",
    "* Execute Jupyter **Kernel** > **Restart & Run All** and ensure that all code blocks run without error\n"
   ]
  },
  {
   "cell_type": "markdown",
   "metadata": {
    "collapsed": true
   },
   "source": [
    "# Using the Pipe Operator %>% \n",
    "\n",
    "As we add more complexity in the form of different data manipulations through functions, the code becomes difficult to read and thus more error prone. The pipe operator can help.\n",
    "\n",
    "The pipe operator, %>%, can be used to take the result of the expression on the left side of the pipe and feed it into the first parameter of the function on the right side of the pipe.\n",
    "\n",
    "We will take the opportunity to see how the previous exercise can benefit from using the pipe syntax. Since our code is pretty simple right now, the readability might not be that improved by using the pipe. But as more and more function calls are nested, the benefits of the pipe become obvious. \n",
    "\n",
    "Since the tidyverse was built with the pipe in mind, it works well with the pipe. A notable exception is ggplot, which was created before standardizing on the pipe, and thus it has its own type of pipe operator, the plus sign. That is why ggplot uses pluses to connect statements while the other packages use pipes instead. \n",
    "\n",
    "\n",
    "## R Features\n",
    "* %>% pipe operator\n",
    "* library()\n",
    "* glimpse()\n",
    "* select()\n",
    "* <- variable assignment operator\n",
    "* head()\n",
    "* tail()\n",
    "* arrange()\n",
    "* desc()\n",
    "* labs()\n",
    "* filter()\n",
    "* ggplot()\n",
    "* geom_jitter()\n",
    "* geom_smooth()\n",
    "* facet_wrap()\n",
    "* facet_grid()\n",
    "\n",
    "## Datasets\n",
    "* mpg"
   ]
  },
  {
   "cell_type": "markdown",
   "metadata": {},
   "source": [
    "# Load libraries"
   ]
  },
  {
   "cell_type": "code",
   "execution_count": null,
   "metadata": {
    "collapsed": true
   },
   "outputs": [],
   "source": [
    "library(tidyverse)"
   ]
  },
  {
   "cell_type": "markdown",
   "metadata": {},
   "source": [
    "Loading the tidyverse defines the pipe operator, it isn't built into R. If you get an error like this, remember to load the tidyverse library first. \n",
    "\n",
    "Error in eval(expr, envir, enclos): could not find function \"%>%\""
   ]
  },
  {
   "cell_type": "markdown",
   "metadata": {},
   "source": [
    "# Explore data's structure"
   ]
  },
  {
   "cell_type": "code",
   "execution_count": null,
   "metadata": {
    "collapsed": true,
    "scrolled": false
   },
   "outputs": [],
   "source": [
    "# Dataframe: mpg\n",
    "glimpse(mpg)\n",
    "\n",
    "# Using pipe\n",
    "??? %>% glimpse()"
   ]
  },
  {
   "cell_type": "markdown",
   "metadata": {},
   "source": [
    "Notice that it is just moving the first function parameter to the left side of the pipe. In single function calls, it might not be necessary to use the pipe since it is all about code readability whatever works best for you"
   ]
  },
  {
   "cell_type": "markdown",
   "metadata": {},
   "source": [
    "# Using select()\n",
    "Let's start by selecting only the variables we need for plotting.\n",
    "\n",
    "Use the form: \n",
    "\n",
    "select(dataframe_name, column1, column2, column3, column4)"
   ]
  },
  {
   "cell_type": "code",
   "execution_count": null,
   "metadata": {
    "collapsed": true
   },
   "outputs": [],
   "source": [
    "# Select columns: hwy, displ, cyl, and class\n",
    "select(mpg, hwy, displ, cyl, class)\n",
    "\n",
    "# Using pipe\n",
    "mpg ??? select(hwy , displ, cyl, class)"
   ]
  },
  {
   "cell_type": "markdown",
   "metadata": {},
   "source": [
    "# Store result in a variable\n",
    "Store the result from select(). Let's use the generic df variable name. I use this a lot for temporary variables and inside function. df stands for data frame. We will use the two character assignment operator '<-'. "
   ]
  },
  {
   "cell_type": "code",
   "execution_count": null,
   "metadata": {
    "collapsed": true
   },
   "outputs": [],
   "source": [
    "# Select columns: hwy, displ, cyl, and class\n",
    "# Store in variable: df\n",
    "df <- select(mpg, hwy, displ, cyl, class)\n",
    "\n",
    "# Using pipe\n",
    "df <- mpg %>% select( ??? )"
   ]
  },
  {
   "cell_type": "markdown",
   "metadata": {},
   "source": [
    "# Explore the data's structure\n",
    "The above block didn't have any output so we didn't see anything. But we can look at what is in this data frame\n",
    "\n",
    "Do you recall the function?"
   ]
  },
  {
   "cell_type": "code",
   "execution_count": null,
   "metadata": {
    "collapsed": true,
    "scrolled": true
   },
   "outputs": [],
   "source": [
    "# Hint: glimpse()\n",
    "glimpse(df)\n",
    "\n",
    "# Using pipe\n",
    "df %>% ??? ()"
   ]
  },
  {
   "cell_type": "markdown",
   "metadata": {},
   "source": [
    "# Using head() and tail()\n",
    "There are two other functions for looking at the data, head() and tail(). Run both of those passing in our data frame variable."
   ]
  },
  {
   "cell_type": "code",
   "execution_count": null,
   "metadata": {
    "collapsed": true
   },
   "outputs": [],
   "source": [
    "# Use head()\n",
    "head(df)\n",
    "\n",
    "# Using pipe\n",
    "df %>% ??? ()\n",
    "\n",
    "# Use tail()\n",
    "tail(df)\n",
    "\n",
    "# Using pipe\n",
    "??? %>% tail()"
   ]
  },
  {
   "cell_type": "markdown",
   "metadata": {},
   "source": [
    "# Altering the number of rows in head() and tail()\n",
    "What if we wanted a different number of rows returned? We can pass a number to head() and tail() representing the number of rows we want them to return. This is the n parameter.\n",
    "\n",
    "How could you find the parameter name? It is described in the function's help documentation."
   ]
  },
  {
   "cell_type": "code",
   "execution_count": null,
   "metadata": {
    "collapsed": true
   },
   "outputs": [],
   "source": [
    "# Return the top 2 rows\n",
    "head(df, n = 2)\n",
    "\n",
    "# Using pipe\n",
    "df %>% head(n = ??? )\n",
    "\n",
    "# Return the bottom 3 rows\n",
    "tail(df, n = 3)\n",
    "\n",
    "# Using pipe\n",
    "df %>% tail( ??? = 3)"
   ]
  },
  {
   "cell_type": "markdown",
   "metadata": {},
   "source": [
    "# Using positional arguments with head()\n",
    "Would head(df, 2) work without the 'n = '?"
   ]
  },
  {
   "cell_type": "code",
   "execution_count": null,
   "metadata": {
    "collapsed": true
   },
   "outputs": [],
   "source": [
    "# Return the first 7 rows using parameter position instead of name\n",
    "head(df, 7)\n",
    "\n",
    "# Using pipe\n",
    "??? head(7)"
   ]
  },
  {
   "cell_type": "markdown",
   "metadata": {},
   "source": [
    "Notice that this looks a bit better because the 'n = ' parameter is removed. Now it is easier to see that head is returning 7 rows."
   ]
  },
  {
   "cell_type": "markdown",
   "metadata": {},
   "source": [
    "# Using arrange()\n",
    "Let's take our smaller data frame and find the vehicles with the worst highway miles per gallon. "
   ]
  },
  {
   "cell_type": "code",
   "execution_count": null,
   "metadata": {
    "collapsed": true
   },
   "outputs": [],
   "source": [
    "# arrange df by lowest hwy\n",
    "arrange(df, hwy)\n",
    "\n",
    "# Using pipe\n",
    "df %>% arrange( ??? )"
   ]
  },
  {
   "cell_type": "markdown",
   "metadata": {},
   "source": [
    "The pipe version seems easier for me to understand."
   ]
  },
  {
   "cell_type": "markdown",
   "metadata": {},
   "source": [
    "# Combining head() and arrange()\n",
    "Let's combine head and arrange to get the top 6 worst gas guzzlers. \n",
    "\n",
    "To do this you will need to wrap the arrange function inside the head function. The innermost function is processed first and it works its way out.\n",
    "\n",
    "It takes the form:\n",
    "\n",
    "outer_function(inner_function (something))"
   ]
  },
  {
   "cell_type": "code",
   "execution_count": null,
   "metadata": {
    "collapsed": true
   },
   "outputs": [],
   "source": [
    "# Display the top 7 worst gas guzzlers\n",
    "# Hint: head(), arrange()\n",
    "head(arrange(df, hwy))\n",
    "\n",
    "# Using pipe\n",
    "df %>% arrange(hwy) %>% ??? ()"
   ]
  },
  {
   "cell_type": "markdown",
   "metadata": {},
   "source": [
    "As things become more complex, the pipe version is easier to read and easier to code."
   ]
  },
  {
   "cell_type": "markdown",
   "metadata": {},
   "source": [
    "# Combining functions with parameters\n",
    "What if you want to pass parameters to these functions such as changing the n value of the head parameter? \n",
    "\n",
    "Where does the n parameter go?\n",
    "\n",
    "Positional argument function nesting takes the form:\n",
    "\n",
    "outer_function(inner_function(inner_parameter1, inner_parameter2), outer_parameter2)\n",
    "\n",
    "Where is outer_parameter1? It is the return value of inner_function. This is the positional way to specify parameters. It is also possible to specify the parameter name. This is the recommended way to make the code more readable when there is a lot of function nesting. \n",
    "\n",
    "Named argument function nesting takes the form:\n",
    "\n",
    "outer_function(outer_arg1 = inner_function(inner_arg1 = inner_parameter1, inner_arg2 = inner_parameter2), outer_arg2 = outer_parameter2)"
   ]
  },
  {
   "cell_type": "code",
   "execution_count": null,
   "metadata": {
    "collapsed": true,
    "scrolled": true
   },
   "outputs": [],
   "source": [
    "# Display the top 2 worst hwy vehicles \n",
    "# Hint: head(), arrange()\n",
    "head(arrange(df, hwy), n = 2)\n",
    "\n",
    "# Using pipe\n",
    "df %>% ??? (hwy) %>% ??? (n = 2)"
   ]
  },
  {
   "cell_type": "markdown",
   "metadata": {},
   "source": [
    "I would normally remove the 'n = ' for readability. \n",
    "\n",
    "For few functions, a single line might read better. With more functions, adding new lines after each pipe is helpful."
   ]
  },
  {
   "cell_type": "code",
   "execution_count": null,
   "metadata": {
    "collapsed": true
   },
   "outputs": [],
   "source": [
    "# How about the highest hwy\n",
    "# Hint: tail()\n",
    "tail(arrange(df, hwy))\n",
    "\n",
    "# Using pipe\n",
    "df %>% ??? (hwy) %>% ??? ()"
   ]
  },
  {
   "cell_type": "code",
   "execution_count": null,
   "metadata": {
    "collapsed": true,
    "scrolled": false
   },
   "outputs": [],
   "source": [
    "# Get the top 10 highest hwy vehicles\n",
    "# Hint: head(), arrange(), desc()\n",
    "head(arrange(df, desc(hwy)), n = 10)\n",
    "\n",
    "# Using pipe\n",
    "df %>% arrange( ??? %>% desc()) %>% head(n = 10)"
   ]
  },
  {
   "cell_type": "markdown",
   "metadata": {},
   "source": [
    "This one is interesting because there is a second pipeline for hwy into desc(). You can have as many of these as you want. Sometimes I need to put \"( )\" around the whole thing like (hwy %>% desc()) if R doesn't evaluate in the order I am hoping for. I add parenthesis only when required. Parenthesis wasn't necessary in this case."
   ]
  },
  {
   "cell_type": "code",
   "execution_count": null,
   "metadata": {
    "collapsed": true,
    "scrolled": true
   },
   "outputs": [],
   "source": [
    "# Let's order by more than one column\n",
    "# Order by by class, then by highest hwy\n",
    "# Return top 10\n",
    "head(arrange(df, class, desc(hwy)), n = 10)\n",
    "\n",
    "# Using pipe + new lines\n",
    "df %>% \n",
    "   arrange( ??? , hwy %>% desc()) %>% \n",
    "   head(n = 10)"
   ]
  },
  {
   "cell_type": "markdown",
   "metadata": {},
   "source": [
    "As more functions are strung together, I find it easier to read if I put them on their own line. I manually indent each line for readability. If you are coding in R frequently, look for tool that has auto indent such as RStudio."
   ]
  },
  {
   "cell_type": "markdown",
   "metadata": {},
   "source": [
    "# Using filter()\n",
    "The filter function takes a comma seperated list of boolean expressions, meaning that each expression evaluates to true or false or NA. The list of expressions are implicitly ANDed together. The comparison operators are <, <=, ==, >=, >, <>, !=. The last two both mean 'not equal'. Note that for equality it uses two equal signs also called a double equal. \n",
    "\n",
    "Within each expression, there can be sub expressions using nested parenthesis and those can be ANDed using '&' or ORed using '|'.\n"
   ]
  },
  {
   "cell_type": "code",
   "execution_count": null,
   "metadata": {
    "collapsed": true,
    "scrolled": true
   },
   "outputs": [],
   "source": [
    "# Let's find those 5 cylinder vehicles\n",
    "# Use the double equal\n",
    "filter(df, cyl == 5)\n",
    "\n",
    "# Using pipe\n",
    "df %>% filter( ??? )"
   ]
  },
  {
   "cell_type": "markdown",
   "metadata": {},
   "source": [
    "# Create and plot a filtered dataframe\n",
    "Let's create a filtered data frame removing 5 cylinder and then plot it."
   ]
  },
  {
   "cell_type": "code",
   "execution_count": null,
   "metadata": {
    "collapsed": true,
    "scrolled": false
   },
   "outputs": [],
   "source": [
    "# Name: df_filtered\n",
    "# Filter: remove 5 cylinder rows\n",
    "df_filtered <- filter(df, cyl != 5)  # != or <> can be used for not equal\n",
    "\n",
    "# Using pipe\n",
    "df_filtered <- df %>% filter( ??? )\n",
    "\n",
    "# Plot: scatterplot x = displ, y = hwy; facet by cyl\n",
    "ggplot(df_filtered, mapping = aes(x = displ, y = hwy)) +\n",
    "   geom_point() +\n",
    "   facet_wrap( ~ cyl )\n",
    "\n",
    "# Using pipe\n",
    "??? %>% ggplot(mapping = aes(x = displ, y = hwy)) + \n",
    "   geom_point() +\n",
    "   facet_wrap( ~ cyl )"
   ]
  },
  {
   "cell_type": "markdown",
   "metadata": {},
   "source": [
    "Notice that the pipe eventually returns the final value which is assigned to df_filtered. R can assign it at the end with -> df_filtered but all other langauges only have variable assignments on the left hand side of the expression. So we will use that to make R seem a bit more 'normal'."
   ]
  },
  {
   "cell_type": "markdown",
   "metadata": {},
   "source": [
    "# Filtered plot with some polish\n",
    "You can use the variable from the cell above df_filtered in this cell. Everything is running in the same R kernel. So it remembers everything regardless of where the code it, you just need to run it for the R kernel to know about it.\n",
    "\n",
    "Using the existing df_filtered data frame and the previous plot paramaters, add +jitter, +alpha (0.5), and +smooth (linear) with no confidence interval bands. Facet by class and cyl. Connect class to color."
   ]
  },
  {
   "cell_type": "code",
   "execution_count": null,
   "metadata": {
    "collapsed": true,
    "scrolled": false
   },
   "outputs": [],
   "source": [
    "# Plot: scatterplot x = displ, y = hwy, color = class; \n",
    "# facet class (rows) by cyl (columns)\n",
    "# Add jitter, alpha, and linear trend line and title\n",
    "ggplot(df_filtered, mapping = aes(x = displ, y = hwy, color = class)) +\n",
    "   geom_jitter(alpha = 0.5) +\n",
    "   geom_smooth(method = \"lm\", se = FALSE) +\n",
    "   facet_grid( class ~ cyl ) + \n",
    "   labs(title = \"mpg trend: displ vs hwy by class and cyl\",\n",
    "       subtitle = \"Points jittered, alpha blended, colored by class, and faceted by class and cyl\")\n",
    "\n",
    "# Using pipe\n",
    "??? %>% \n",
    "   ggplot(mapping = aes(x = displ, y = hwy, color = class)) +\n",
    "   geom_jitter(alpha = 0.5) +\n",
    "   geom_smooth(method = \"lm\", se = FALSE) +\n",
    "   facet_grid( class ~ cyl ) + \n",
    "   labs(title = \"mpg trend: displ vs hwy by class and cyl\",\n",
    "       subtitle = \"Points jittered, alpha blended, colored by class, and faceted by class and cyl\")"
   ]
  },
  {
   "cell_type": "markdown",
   "metadata": {},
   "source": [
    "Notice that ggplot has its own 'pipe' like operator, the '+'. This is because ggplot was developed prior to the popularity of the pipe in R. Also, I would normally remove the 'mapping =' from ggplot and rely on its position instead."
   ]
  },
  {
   "cell_type": "markdown",
   "metadata": {},
   "source": [
    "# Plotting a subset of the data\n",
    "What would happen if we only plotted the first 10 rows?"
   ]
  },
  {
   "cell_type": "code",
   "execution_count": null,
   "metadata": {
    "collapsed": true,
    "scrolled": false
   },
   "outputs": [],
   "source": [
    "# Plot the first 10 rows of the prior plot\n",
    "ggplot(head(df_filtered, n = 10), mapping = aes(x = displ, y = hwy, color = class)) +\n",
    "   geom_jitter(alpha = 0.5) +\n",
    "   geom_smooth(method = \"lm\", se = FALSE) +\n",
    "   facet_grid( class ~ cyl ) + \n",
    "   labs(title = \"mpg trend: displ vs hwy by class and cyl\",\n",
    "       subtitle = \"First 10 rows +jitter, +alpha , colored by class, facet class x cyl\")\n",
    "\n",
    "# Using pipe\n",
    "df_filtered ??? head(n = 10) ??? ggplot(mapping = aes(x = displ, y = hwy, color = class)) +\n",
    "   geom_jitter(alpha = 0.5) +\n",
    "   geom_smooth(method = \"lm\", se = FALSE) +\n",
    "   facet_grid( class ~ cyl ) + \n",
    "   labs(title = \"mpg trend: displ vs hwy by class and cyl\",\n",
    "       subtitle = \"First 10 rows +jitter, +alpha , colored by class, facet class x cyl\")"
   ]
  },
  {
   "cell_type": "markdown",
   "metadata": {},
   "source": [
    "# Plot top 10 results\n",
    "Let's plot the top 10 highest hwy of the previous plot."
   ]
  },
  {
   "cell_type": "code",
   "execution_count": null,
   "metadata": {
    "collapsed": true,
    "scrolled": false
   },
   "outputs": [],
   "source": [
    "# Plot the top 10 highest hwy of the prior plot\n",
    "ggplot(head(arrange(df_filtered, desc(hwy)), n = 10), mapping = aes(x = displ, y = hwy, color = class)) +\n",
    "   geom_jitter(alpha = 0.5) +\n",
    "   geom_smooth(method = \"lm\", se = FALSE) +\n",
    "   facet_grid( class ~ cyl ) + \n",
    "   labs(title = \"mpg trend: displ vs hwy by class and cyl\",\n",
    "       subtitle = \"Top 10 hwy vehicles, +jitter, +alpha , colored by class, facet class x cyl\")\n",
    "\n",
    "# Using pipe\n",
    "df_filtered %>% \n",
    "   arrange( ??? ) %>% \n",
    "   head(n = 10) %>% \n",
    "   ggplot(head(arrange(df_filtered, desc(hwy)), n = 10), mapping = aes(x = displ, y = hwy, color = class)) +\n",
    "   geom_jitter(alpha = 0.5) +\n",
    "   geom_smooth(method = \"lm\", se = FALSE) +\n",
    "   facet_grid( class ~ cyl ) + \n",
    "   labs(title = \"mpg trend: displ vs hwy by class and cyl\",\n",
    "       subtitle = \"Top 10 hwy vehicles, +jitter, +alpha , colored by class, facet class x cyl\")"
   ]
  },
  {
   "cell_type": "markdown",
   "metadata": {},
   "source": [
    "# Code Summary\n",
    "Let's summarize the piping code we just did. Let's also remove argument names such as 'n' and 'mapping' to make it more clear and add some new lines when it seems right to do that."
   ]
  },
  {
   "cell_type": "code",
   "execution_count": null,
   "metadata": {
    "collapsed": true
   },
   "outputs": [],
   "source": [
    "# Load libraries\n",
    "library(tidyverse)\n",
    "\n",
    "# Explore data structure\n",
    "# Data: mpg\n",
    "??? %>% glimpse()\n",
    "\n",
    "# Select hwy, displ, cyl, class\n",
    "# Store in df\n",
    "df <- mpg %>% \n",
    "   select( ??? )\n",
    "\n",
    "# Last 5 rows of df\n",
    "df %>% tail( ??? )\n",
    "\n",
    "# Name: df_filtered\n",
    "# Filter: remove 5 cylinder rows\n",
    "df_filtered <- ??? %>% \n",
    "   filter(cyl != 5)  # != or <> can be used for not equal\n",
    "\n",
    "# Store top 10 hwy \n",
    "df_top_hwy <- df_filtered %>% \n",
    "   arrange(hwy %>% desc()) ??? \n",
    "   head(10)\n",
    "\n",
    "# Plot using above variable\n",
    "# x = displ, y = hwy, color = class; \n",
    "# facet class (rows) by cyl (columns)\n",
    "# Add jitter, alpha, and linear trend line and title\n",
    "??? %>% \n",
    "   ggplot(aes(x = displ, y = hwy, color = class)) +\n",
    "   geom_jitter(alpha = 0.5) +\n",
    "   geom_smooth(method = \"lm\", se = FALSE) +\n",
    "   facet_grid( class ~ cyl ) + \n",
    "   labs(title = \"mpg trend: displ vs hwy by class and cyl\",\n",
    "       subtitle = \"Top 10 hwy vehicles, +jitter, +alpha , colored by class, facet class x cyl\")"
   ]
  }
 ],
 "metadata": {
  "kernelspec": {
   "display_name": "R 3.5.1",
   "language": "R",
   "name": "ir"
  },
  "language_info": {
   "codemirror_mode": "r",
   "file_extension": ".r",
   "mimetype": "text/x-r-source",
   "name": "R",
   "pygments_lexer": "r",
   "version": "3.5.1"
  }
 },
 "nbformat": 4,
 "nbformat_minor": 1
}
