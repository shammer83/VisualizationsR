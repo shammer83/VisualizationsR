{
 "cells": [
  {
   "cell_type": "markdown",
   "metadata": {},
   "source": [
    "# T.Test With Factors\n",
    "## Exercise Instructions\n",
    "\n",
    "* Complete all cells as instructed, replacing any ??? with the appropriate code\n",
    "\n",
    "* Execute Jupyter **Kernel** > **Restart & Run All** and ensure that all code blocks run without error"
   ]
  },
  {
   "cell_type": "markdown",
   "metadata": {},
   "source": [
    "## Running multiple t-tests for factor columns\n",
    "\n",
    "In the last two exercises, we performed a two-sample test using two continous variables for SalePrice. Now suppose you want to do this for one continous variable and a factor. The first sample is the continous variable, and the second sample is the factor. Note that the factor must have only two levels. "
   ]
  },
  {
   "cell_type": "code",
   "execution_count": 2,
   "metadata": {},
   "outputs": [
    {
     "name": "stderr",
     "output_type": "stream",
     "text": [
      "── \u001b[1mAttaching packages\u001b[22m ─────────────────────────────────────── tidyverse 1.2.1 ──\n",
      "\u001b[32m✔\u001b[39m \u001b[34mggplot2\u001b[39m 3.2.0     \u001b[32m✔\u001b[39m \u001b[34mpurrr  \u001b[39m 0.2.5\n",
      "\u001b[32m✔\u001b[39m \u001b[34mtibble \u001b[39m 2.1.3     \u001b[32m✔\u001b[39m \u001b[34mdplyr  \u001b[39m 0.8.3\n",
      "\u001b[32m✔\u001b[39m \u001b[34mtidyr  \u001b[39m 0.8.1     \u001b[32m✔\u001b[39m \u001b[34mstringr\u001b[39m 1.3.1\n",
      "\u001b[32m✔\u001b[39m \u001b[34mreadr  \u001b[39m 1.1.1     \u001b[32m✔\u001b[39m \u001b[34mforcats\u001b[39m 0.3.0\n",
      "── \u001b[1mConflicts\u001b[22m ────────────────────────────────────────── tidyverse_conflicts() ──\n",
      "\u001b[31m✖\u001b[39m \u001b[34mdplyr\u001b[39m::\u001b[32mfilter()\u001b[39m masks \u001b[34mstats\u001b[39m::filter()\n",
      "\u001b[31m✖\u001b[39m \u001b[34mdplyr\u001b[39m::\u001b[32mlag()\u001b[39m    masks \u001b[34mstats\u001b[39m::lag()\n"
     ]
    }
   ],
   "source": [
    "# Load libraries\n",
    "library(tidyverse)"
   ]
  },
  {
   "cell_type": "code",
   "execution_count": 4,
   "metadata": {},
   "outputs": [
    {
     "name": "stderr",
     "output_type": "stream",
     "text": [
      "Parsed with column specification:\n",
      "cols(\n",
      "  .default = col_character(),\n",
      "  Order = col_double(),\n",
      "  Lot_Frontage = col_integer(),\n",
      "  Lot_Area = col_double(),\n",
      "  Overall_Qual = col_integer(),\n",
      "  Overall_Cond = col_integer(),\n",
      "  Year_Built = col_double(),\n",
      "  Year_Remod_Add = col_double(),\n",
      "  Mas_Vnr_Area = col_integer(),\n",
      "  BsmtFin_SF_1 = col_double(),\n",
      "  BsmtFin_SF_2 = col_integer(),\n",
      "  Bsmt_Unf_SF = col_integer(),\n",
      "  Total_Bsmt_SF = col_integer(),\n",
      "  Z_1st_Flr_SF = col_double(),\n",
      "  Z_2nd_Flr_SF = col_double(),\n",
      "  Low_Qual_Fin_SF = col_integer(),\n",
      "  Gr_Liv_Area = col_integer(),\n",
      "  Bsmt_Full_Bath = col_integer(),\n",
      "  Bsmt_Half_Bath = col_integer(),\n",
      "  Full_Bath = col_integer(),\n",
      "  Half_Bath = col_integer()\n",
      "  # ... with 17 more columns\n",
      ")\n",
      "See spec(...) for full column specifications.\n"
     ]
    }
   ],
   "source": [
    "# Load data: ames_housing.csv\n",
    "# Convert character columns to factor\n",
    "# Select columns of interest: Neighborhood, Central_Air, SalePrice\n",
    "# Store in df_ames_housing\n",
    "# Hint: read_csv(), mutate_if(), select(), is.character(), as.factor()\n",
    "df_ames_housing <- \"ames_housing.csv\" %>% \n",
    "   read_csv () %>% \n",
    "   mutate_if(is.character, as.factor) %>% \n",
    "   select(Neighborhood, Central_Air, SalePrice)"
   ]
  },
  {
   "cell_type": "code",
   "execution_count": 5,
   "metadata": {},
   "outputs": [
    {
     "name": "stdout",
     "output_type": "stream",
     "text": [
      "Observations: 2,930\n",
      "Variables: 3\n",
      "$ Neighborhood \u001b[3m\u001b[90m<fct>\u001b[39m\u001b[23m NAmes, NAmes, NAmes, NAmes, Gilbert, Gilbert, StoneBr, S…\n",
      "$ Central_Air  \u001b[3m\u001b[90m<fct>\u001b[39m\u001b[23m Y, Y, Y, Y, Y, Y, Y, Y, Y, Y, Y, Y, Y, Y, Y, Y, Y, Y, Y,…\n",
      "$ SalePrice    \u001b[3m\u001b[90m<dbl>\u001b[39m\u001b[23m 215000, 105000, 172000, 244000, 189900, 195500, 213500, …\n"
     ]
    },
    {
     "data": {
      "text/plain": [
       "  Neighborhood  Central_Air   SalePrice     \n",
       " NAmes  : 443   N: 196      Min.   : 12789  \n",
       " CollgCr: 267   Y:2734      1st Qu.:129500  \n",
       " OldTown: 239               Median :160000  \n",
       " Edwards: 194               Mean   :180796  \n",
       " Somerst: 182               3rd Qu.:213500  \n",
       " NridgHt: 166               Max.   :755000  \n",
       " (Other):1439                               "
      ]
     },
     "metadata": {},
     "output_type": "display_data"
    }
   ],
   "source": [
    "# Explore data structure\n",
    "# Data: AmesHousing\n",
    "df_ames_housing %>% \n",
    "   glimpse() %>% \n",
    "   summary()"
   ]
  },
  {
   "cell_type": "markdown",
   "metadata": {},
   "source": [
    "# Filter to only two factor levels\n",
    "Since t.test wants two factor levels, and column with two factor levels will work. Let's recreate the Neighborhood test this way. "
   ]
  },
  {
   "cell_type": "code",
   "execution_count": 6,
   "metadata": {},
   "outputs": [
    {
     "name": "stdout",
     "output_type": "stream",
     "text": [
      "Observations: 421\n",
      "Variables: 3\n",
      "$ Neighborhood \u001b[3m\u001b[90m<fct>\u001b[39m\u001b[23m Somerst, Somerst, Somerst, Somerst, Somerst, Somerst, So…\n",
      "$ Central_Air  \u001b[3m\u001b[90m<fct>\u001b[39m\u001b[23m Y, Y, Y, Y, Y, Y, Y, Y, Y, Y, Y, Y, Y, Y, Y, Y, Y, Y, Y,…\n",
      "$ SalePrice    \u001b[3m\u001b[90m<dbl>\u001b[39m\u001b[23m 216000, 221500, 204500, 215200, 262500, 254900, 271500, …\n"
     ]
    },
    {
     "data": {
      "text/plain": [
       "  Neighborhood Central_Air   SalePrice     \n",
       " OldTown:239   N: 56       Min.   : 12789  \n",
       " Somerst:182   Y:365       1st Qu.:115000  \n",
       " Blmngtn:  0               Median :151000  \n",
       " Blueste:  0               Mean   :169693  \n",
       " BrDale :  0               3rd Qu.:220000  \n",
       " BrkSide:  0               Max.   :475000  \n",
       " (Other):  0                               "
      ]
     },
     "metadata": {},
     "output_type": "display_data"
    }
   ],
   "source": [
    "# Create a dataframe filtered to two neighborhoods Somerst and OldTown\n",
    "# Name the variable df_neighborhoods\n",
    "# Hint: filter(), %in%, c()\n",
    "df_neighborhoods <- df_ames_housing %>% \n",
    "   filter(Neighborhood %in% c(\"Somerst\", \"OldTown\"))\n",
    "\n",
    "# Explore the result\n",
    "df_neighborhoods %>% glimpse() %>% summary()"
   ]
  },
  {
   "cell_type": "markdown",
   "metadata": {},
   "source": [
    "Notice in the summary of Neighborhood, there still are all the values from the original data, but zeros for all but the two we filtered for. This won't be a problem for t.test, but if you did want to remove these 0 levels, you can use fct_drop()."
   ]
  },
  {
   "cell_type": "markdown",
   "metadata": {},
   "source": [
    "# Perform t.test on Neighborhoods\n",
    "Using our filtered dataframe with only two neighborhoods, let's run the t.test on it. Since both samples are in the same dataframe, we can use the alternate formula form for t.test. This has a data parameter to provide the dataframe and then the formula can reference the columns without the '$' or retyping the dataframe."
   ]
  },
  {
   "cell_type": "code",
   "execution_count": 10,
   "metadata": {},
   "outputs": [
    {
     "data": {
      "text/plain": [
       "\n",
       "\tWelch Two Sample t-test\n",
       "\n",
       "data:  SalePrice by Neighborhood\n",
       "t = -20.595, df = 330.68, p-value < 2.2e-16\n",
       "alternative hypothesis: true difference in means is not equal to 0\n",
       "95 percent confidence interval:\n",
       " -115812.94  -95617.93\n",
       "sample estimates:\n",
       "mean in group OldTown mean in group Somerst \n",
       "             123991.9              229707.3 \n"
      ]
     },
     "metadata": {},
     "output_type": "display_data"
    }
   ],
   "source": [
    "# Peform t.test on SalePrice ~ Neighborhood\n",
    "# Use the default two.sided, 95% confidence level\n",
    "t.test(SalePrice ~ Neighborhood, data = df_neighborhoods)"
   ]
  },
  {
   "cell_type": "markdown",
   "metadata": {},
   "source": [
    "# Analyzing results\n",
    "Notice when stating the mean, that it states which is the first sample, OldTown, and which is the second sample, Somerst. This is needed when interpretting a one-sided test, but not important for this two-sided test.\n",
    "\n",
    "So, what is the result of the test? The p-value is < 0.05 and the confidence interval does not contain 0, so alternate hypothesis is true...OldTown SalePrice is not the same as Somerst SalePrice. Of course, we already knew that. "
   ]
  },
  {
   "cell_type": "markdown",
   "metadata": {},
   "source": [
    "# t.test for Sale Price ~ Central Air\n",
    "Let's try another one. I noticed that Central_Air is also in our dataframe and it has only two levels (values), Y and N. \n",
    "\n",
    "Is Central Air a statistically signficant feature that drives sale price? Let's find out."
   ]
  },
  {
   "cell_type": "code",
   "execution_count": 11,
   "metadata": {},
   "outputs": [
    {
     "data": {
      "text/plain": [
       "\n",
       "\tWelch Two Sample t-test\n",
       "\n",
       "data:  SalePrice by Central_Air\n",
       "t = -27.433, df = 336.06, p-value < 2.2e-16\n",
       "alternative hypothesis: true difference in means is not equal to 0\n",
       "95 percent confidence interval:\n",
       " -90625.69 -78498.92\n",
       "sample estimates:\n",
       "mean in group N mean in group Y \n",
       "       101890.5        186452.8 \n"
      ]
     },
     "metadata": {},
     "output_type": "display_data"
    }
   ],
   "source": [
    "# Peform t.test on SalePrice ~ Neighborhood\n",
    "# Use the default two.sided, 95% confidence level\n",
    "t.test(SalePrice ~ Central_Air, data = df_ames_housing)"
   ]
  },
  {
   "cell_type": "markdown",
   "metadata": {},
   "source": [
    "# Analyzing results\n",
    "Notice when stating the mean, that it states which is the first sample, N, and which is the second sample, Y referring to the Yes and No as to whether a central air conditioner is in the home. This is needed when interpretting a one-sided test, but not important for this two-sided test.\n",
    "\n",
    "So, what is the result of the test? The p-value is < 0.05 and the confidence interval does not contain 0, so alternate hypothesis is true...Central Air No SalePrice is not the same as Central Air Yes SalePrice. That makes sense. Having central air would likely affect the sale price of the home...and this test proves that the differences in sale price are not by random chance alone."
   ]
  },
  {
   "cell_type": "markdown",
   "metadata": {},
   "source": [
    "# Code Summary\n",
    "Let's summarize the code for a two-sample, two-level factor t.test."
   ]
  },
  {
   "cell_type": "code",
   "execution_count": 12,
   "metadata": {},
   "outputs": [
    {
     "name": "stderr",
     "output_type": "stream",
     "text": [
      "Parsed with column specification:\n",
      "cols(\n",
      "  .default = col_character(),\n",
      "  Order = col_double(),\n",
      "  Lot_Frontage = col_integer(),\n",
      "  Lot_Area = col_double(),\n",
      "  Overall_Qual = col_integer(),\n",
      "  Overall_Cond = col_integer(),\n",
      "  Year_Built = col_double(),\n",
      "  Year_Remod_Add = col_double(),\n",
      "  Mas_Vnr_Area = col_integer(),\n",
      "  BsmtFin_SF_1 = col_double(),\n",
      "  BsmtFin_SF_2 = col_integer(),\n",
      "  Bsmt_Unf_SF = col_integer(),\n",
      "  Total_Bsmt_SF = col_integer(),\n",
      "  Z_1st_Flr_SF = col_double(),\n",
      "  Z_2nd_Flr_SF = col_double(),\n",
      "  Low_Qual_Fin_SF = col_integer(),\n",
      "  Gr_Liv_Area = col_integer(),\n",
      "  Bsmt_Full_Bath = col_integer(),\n",
      "  Bsmt_Half_Bath = col_integer(),\n",
      "  Full_Bath = col_integer(),\n",
      "  Half_Bath = col_integer()\n",
      "  # ... with 17 more columns\n",
      ")\n",
      "See spec(...) for full column specifications.\n"
     ]
    },
    {
     "data": {
      "text/plain": [
       "\n",
       "\tWelch Two Sample t-test\n",
       "\n",
       "data:  SalePrice by Neighborhood\n",
       "t = -20.595, df = 330.68, p-value < 2.2e-16\n",
       "alternative hypothesis: true difference in means is not equal to 0\n",
       "95 percent confidence interval:\n",
       " -115812.94  -95617.93\n",
       "sample estimates:\n",
       "mean in group OldTown mean in group Somerst \n",
       "             123991.9              229707.3 \n"
      ]
     },
     "metadata": {},
     "output_type": "display_data"
    },
    {
     "data": {
      "text/plain": [
       "\n",
       "\tWelch Two Sample t-test\n",
       "\n",
       "data:  SalePrice by Central_Air\n",
       "t = -27.433, df = 336.06, p-value < 2.2e-16\n",
       "alternative hypothesis: true difference in means is not equal to 0\n",
       "95 percent confidence interval:\n",
       " -90625.69 -78498.92\n",
       "sample estimates:\n",
       "mean in group N mean in group Y \n",
       "       101890.5        186452.8 \n"
      ]
     },
     "metadata": {},
     "output_type": "display_data"
    }
   ],
   "source": [
    "# Load libraries\n",
    "library( tidyverse )\n",
    "\n",
    "# Load data: ames_housing.csv\n",
    "df_ames_housing <- \"ames_housing.csv\" %>% \n",
    "   read_csv () %>% \n",
    "   mutate_if(is.character, as.factor) %>% \n",
    "   select(Neighborhood, Central_Air, SalePrice)\n",
    "\n",
    "# Filter data to get to two levels in the factor\n",
    "df_neighborhoods <- df_ames_housing %>% \n",
    "   filter(Neighborhood %in% c(\"Somerst\", \"OldTown\"))\n",
    "\n",
    "# Perform t.test\n",
    "t.test(SalePrice ~ Neighborhood, data = df_neighborhoods)\n",
    "t.test(SalePrice ~ Central_Air, data = df_ames_housing)"
   ]
  },
  {
   "cell_type": "code",
   "execution_count": null,
   "metadata": {
    "collapsed": true
   },
   "outputs": [],
   "source": []
  }
 ],
 "metadata": {
  "kernelspec": {
   "display_name": "R 3.5.1",
   "language": "R",
   "name": "ir"
  },
  "language_info": {
   "codemirror_mode": "r",
   "file_extension": ".r",
   "mimetype": "text/x-r-source",
   "name": "R",
   "pygments_lexer": "r",
   "version": "3.5.1"
  }
 },
 "nbformat": 4,
 "nbformat_minor": 2
}
