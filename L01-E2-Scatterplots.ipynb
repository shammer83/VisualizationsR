{
 "cells": [
  {
   "cell_type": "markdown",
   "metadata": {},
   "source": [
    "# L01-E2-Scatterplots\n",
    "## Exercise Instructions\n",
    "\n",
    "* Complete all cells as instructed, replacing any ??? with the appropriate code\n",
    "\n",
    "* Execute Jupyter **Kernel** > **Restart & Run All** and ensure that all code blocks run without error\n"
   ]
  },
  {
   "cell_type": "markdown",
   "metadata": {},
   "source": [
    "# Scatterplots\n",
    "\n",
    "We have been looking at vehicle fuel economy using a scatterplot of miles per gallon and the size of the vehicle’s engine as measured in piston displacement. Scatterplots are useful to show the relationship between two variables. It is good practice to explore all the data variables available in the dataset. There are other variables that are related to the size of the engine. \n",
    "\n",
    "We’ll look at these variables to see if they reveal any new information. Using the same datasets, mtcars and mpg, we will deepen our understanding of the functions you previously used, namely library(), glimpse(), ggplot() and geom_point(). We will also introduce comments, a key feature to making your code more human readable, including your future self.\n",
    "\n",
    "\n",
    "## R Features\n",
    "* library()\n",
    "* class()\n",
    "* glimpse()\n",
    "* ggplot()\n",
    "* geom_point()\n",
    "\n",
    "## Datasets\n",
    "* mtcars\n",
    "* mpg"
   ]
  },
  {
   "cell_type": "markdown",
   "metadata": {},
   "source": [
    "## Comments\n",
    "R Code comments start with a \\# (pound sign). They can be on their own line or at the end of a line of code. All text after the \\# is ignored by R. Comments are used for two purposes. \n",
    "1. Communciate something via text to other humans...or to your future self\n",
    "2. Keep a line of code from executing, often called 'commented out' code\n",
    "\n",
    "Feel free to add your comments in any of the exercises. It doesn't affect the running of the code and it is good practice.\n",
    "\n",
    "## Jupyter Code Blocks\n",
    "Jupyter code blocks are like the one shown below. They simply group the code so you can run all those lines at once either by clicking the run button on the toolbar or by holding down the control key and pressing Enter.\n",
    "\n",
    "To the left of the code block is In []:. Inside the square brackets is the status of that block. If it is: \n",
    "* blank - it hasn't been run before\n",
    "* \\* - currently running\n",
    "* (number) means that it completed running. The number is just an execution counter and goes up by one every time any code block is run in the notebook."
   ]
  },
  {
   "cell_type": "code",
   "execution_count": null,
   "metadata": {
    "collapsed": true
   },
   "outputs": [],
   "source": [
    "# Run this block (click the run button on \n",
    "# the toolbar or the ctrl-enter keyboard shortcut)\n",
    "\n",
    "# Does anything happen?\n",
    "\n",
    "# Run it a few more times. You will notice that in the upper left of this block\n",
    "# In [n]: there is a number for the 'n'. That number increases each\n",
    "# time you run the block. \n",
    "# Try it again to see."
   ]
  },
  {
   "cell_type": "markdown",
   "metadata": {},
   "source": [
    "Did you notice the In [ ]: above changing?\n",
    "\n",
    "## Error messages\n",
    "You will deliberately run a line of code that produces an error. \n",
    "\n",
    "Run the code block to see the error, then comment out that line of code by placing a \\# at the beginning of the line."
   ]
  },
  {
   "cell_type": "code",
   "execution_count": null,
   "metadata": {
    "collapsed": true
   },
   "outputs": [],
   "source": [
    "# The below line of code is broken\n",
    "# Run it to see the error message\n",
    "# Pretty terse message. \n",
    "# Comment out this line,\n",
    "# We'll fix it in the next code block\n",
    "library( ??? )"
   ]
  },
  {
   "cell_type": "markdown",
   "metadata": {},
   "source": [
    "It produces an error something like:\n",
    "\n",
    "` Error in parse(text = x, srcfile = src): <text>:6:12: unexpected ')'  \n",
    "5: # We'll fix it in the next code block \n",
    "6: library(???) \n",
    "              ^\n",
    "Traceback: `\n",
    "\n"
   ]
  },
  {
   "cell_type": "markdown",
   "metadata": {},
   "source": [
    "## Updating ??? (question mark blanks)\n",
    "Throughout this course you will get starter code to guide you. This starter code needs to be edited to get to the solution. One way of guiding you through this is by replacing some of the solution code with ??? . You would delete the ??? and replace it with the appropriate line of code. \n",
    "\n",
    "The ??? doesn't reflect the size of the replacement code. The replacement code could be one character to several characters.\n",
    "\n"
   ]
  },
  {
   "cell_type": "markdown",
   "metadata": {},
   "source": [
    "## Library\n",
    "Load the tidyverse library in the code block below. Note that tidyverse doesn't need to be enclosed in quotes. Some functions require the parameters to be in quotes whiles others don't. library() actually works both ways but convention is to not use quotes unless required. That is more of a human readability style than anything else."
   ]
  },
  {
   "cell_type": "code",
   "execution_count": null,
   "metadata": {
    "collapsed": true
   },
   "outputs": [],
   "source": [
    "# Load the tidyverse library\n",
    "# Do this by editing the line below replacing the \n",
    "# ??? placeholder with the word tidyverse\n",
    "# After you fix it, run the code block\n",
    "\n",
    "library( ??? )  # Update this and run"
   ]
  },
  {
   "cell_type": "markdown",
   "metadata": {},
   "source": [
    "## Class\n",
    "The class() prints the kind or type of variable. Different classes organize the data differently and functions are designed to work with certain classes."
   ]
  },
  {
   "cell_type": "code",
   "execution_count": null,
   "metadata": {
    "collapsed": true,
    "scrolled": true
   },
   "outputs": [],
   "source": [
    "# Let's check out the class of the data\n",
    "class(mtcars) "
   ]
  },
  {
   "cell_type": "markdown",
   "metadata": {},
   "source": [
    "Notice in the above output that the class is 'data.frame'. No tibble enhancements.\n",
    "\n",
    "## Glimpse\n",
    "Glimpse allows you to look at the data in a data frame. It reports the number of rows and columns, column names, data types, and some of the data."
   ]
  },
  {
   "cell_type": "code",
   "execution_count": null,
   "metadata": {
    "collapsed": true,
    "scrolled": true
   },
   "outputs": [],
   "source": [
    "# Use glimpse to display the variable names and sample data\n",
    "# for mtcars dataset\n",
    "glimpse( ??? )  # Update the ??? and run cell"
   ]
  },
  {
   "cell_type": "markdown",
   "metadata": {},
   "source": [
    "## ggplot\n",
    "ggplot() is the primary function for plotting. It stores the basic information that can be inherited by the layers and geometries. geom_point() is a geometry layer that plots points on the canvas."
   ]
  },
  {
   "cell_type": "code",
   "execution_count": null,
   "metadata": {
    "collapsed": true,
    "scrolled": false
   },
   "outputs": [],
   "source": [
    "# Create a scatterplot of mtcars \n",
    "# Miles per gallon vs. engine displacement\n",
    "# mpg on the y-axis and disp on the x-axis\n",
    "ggplot(data = mtcars) + \n",
    "   geom_point(mapping = aes(x = ??? , y = ??? )) # Update ??? then run cell"
   ]
  },
  {
   "cell_type": "code",
   "execution_count": null,
   "metadata": {
    "collapsed": true,
    "scrolled": false
   },
   "outputs": [],
   "source": [
    "# Create a scatterplot of mtcars \n",
    "# Miles per gallon vs engine horsepower\n",
    "# mpg on the y-axis and hp on the x-axis\n",
    "ggplot(data = mtcars) + \n",
    "   geom_point(mapping = aes(x = ???, y = ???)) "
   ]
  },
  {
   "cell_type": "code",
   "execution_count": null,
   "metadata": {
    "collapsed": true,
    "scrolled": false
   },
   "outputs": [],
   "source": [
    "# Create a scatterplot of mtcars \n",
    "# Miles per gallon vs engine cylinders\n",
    "# mpg on the y-axis and cyl on the x-axis\n",
    "ggplot(data = mtcars) + \n",
    "   geom_point(mapping = aes(x = ??? , y = ??? ))"
   ]
  },
  {
   "cell_type": "markdown",
   "metadata": {},
   "source": [
    "Let's switch from mtcars to mpg dataset. Also, a Jupyter feature I find helpful is clicking in the margin to the left of the output window chart to collapse the output area to a smaller size with a scrollbar. Click it again to expand to full size. Give it a try on the above chart. See if you can click in the white area to the left of the chart to collapse it.\n",
    "\n",
    "## mpg dataset"
   ]
  },
  {
   "cell_type": "code",
   "execution_count": null,
   "metadata": {
    "collapsed": true
   },
   "outputs": [],
   "source": [
    "# Let's look at the class for\n",
    "# the mpg dataset\n",
    "class(mpg)"
   ]
  },
  {
   "cell_type": "markdown",
   "metadata": {},
   "source": [
    "Notice above that there are three classes belonging to mpg, the data.frame and two tibble classes that store additional metadata."
   ]
  },
  {
   "cell_type": "code",
   "execution_count": null,
   "metadata": {
    "collapsed": true
   },
   "outputs": [],
   "source": [
    "# Let's take a peek at the data\n",
    "# Do you remember the function we were using?\n",
    "# Hint: glimpse()\n",
    "??? (mpg)"
   ]
  },
  {
   "cell_type": "code",
   "execution_count": null,
   "metadata": {
    "collapsed": true,
    "scrolled": false
   },
   "outputs": [],
   "source": [
    "# Create a scatterplot of mpg \n",
    "# Highway miles per gallon vs. engine displacement\n",
    "# hwy on the y-axis and displ on the x-axis\n",
    "ggplot(data = mpg) + \n",
    "   geom_point(mapping = aes(x = ???, y = ???))"
   ]
  },
  {
   "cell_type": "code",
   "execution_count": null,
   "metadata": {
    "collapsed": true
   },
   "outputs": [],
   "source": [
    "# Create a scatterplot of mpg \n",
    "# Highway miles per gallon vs engine cylinders\n",
    "# hwy on the y-axis and cyl on the x-axis\n",
    "ggplot(data = mpg) + \n",
    "   geom_point(mapping = aes(x = ??? , y = ??? ))"
   ]
  },
  {
   "cell_type": "markdown",
   "metadata": {},
   "source": [
    "## Code Recap\n",
    "Let's put all the lines of code together to see the bigger picture of what we did. You can do this too in your notebook if you like. Select the last code block to highlight it. On the Jupyter toolbar, click the + to create a new block. Change the block type to 'Markdown' or 'Code' depending on whether you want a text block like this one or a code block like the one below. This can be found in the dropdown in the toolbar. If necessary, you can use the up and down arrows on the toolbar to move the blocks around. The scissors toolbar button is used to delete a block."
   ]
  },
  {
   "cell_type": "code",
   "execution_count": null,
   "metadata": {
    "collapsed": true,
    "scrolled": false
   },
   "outputs": [],
   "source": [
    "# Load libraries\n",
    "library( ??? )\n",
    "\n",
    "# Explore mtcars data\n",
    "# Hint: glimpse()\n",
    "??? (mtcars)\n",
    "\n",
    "# Plot mtcars: mpg vs disp, hp, cyl\n",
    "ggplot(data = mtcars) + \n",
    "   geom_point(mapping = aes(x = ??? , y = mpg)) \n",
    "\n",
    "ggplot(data = mtcars) + \n",
    "   geom_point(mapping = aes(x = ??? , y = mpg)) \n",
    "\n",
    "ggplot(data = mtcars) + \n",
    "   geom_point(mapping = aes(x = ??? , y = mpg))\n",
    "\n",
    "# Explore mpg\n",
    "??? (mpg)\n",
    "\n",
    "# Plot mpg: hwy vs displ, cyl\n",
    "ggplot(data = mpg) + \n",
    "   geom_point(mapping = aes(x = ??? , y = hwy)) \n",
    "\n",
    "ggplot(data = mpg) + \n",
    "   geom_point(mapping = aes(x = ??? , y = hwy))"
   ]
  },
  {
   "cell_type": "markdown",
   "metadata": {},
   "source": [
    "# Congratulations!\n",
    "Wonderful progress! You can load a library and you know how to look into a dataset to see what's available. You have also learned how to create simple scatterplots controlling what variables are plotted on the x- and y-axes. "
   ]
  }
 ],
 "metadata": {
  "kernelspec": {
   "display_name": "R 3.5.1",
   "language": "R",
   "name": "ir"
  },
  "language_info": {
   "codemirror_mode": "r",
   "file_extension": ".r",
   "mimetype": "text/x-r-source",
   "name": "R",
   "pygments_lexer": "r",
   "version": "3.5.1"
  }
 },
 "nbformat": 4,
 "nbformat_minor": 1
}
