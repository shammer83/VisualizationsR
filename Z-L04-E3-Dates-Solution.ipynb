{
 "cells": [
  {
   "cell_type": "markdown",
   "metadata": {},
   "source": [
    "# Parsing Dates\n",
    "These are the solutions to selected code blocks. You will have to run the code blocks to see what they do."
   ]
  },
  {
   "cell_type": "code",
   "execution_count": 1,
   "metadata": {
    "scrolled": false
   },
   "outputs": [
    {
     "name": "stderr",
     "output_type": "stream",
     "text": [
      "\n",
      "Attaching package: ‘lubridate’\n",
      "\n",
      "The following object is masked from ‘package:base’:\n",
      "\n",
      "    date\n",
      "\n",
      "── \u001b[1mAttaching packages\u001b[22m ─────────────────────────────────────── tidyverse 1.2.1 ──\n",
      "\u001b[32m✔\u001b[39m \u001b[34mggplot2\u001b[39m 3.2.0     \u001b[32m✔\u001b[39m \u001b[34mpurrr  \u001b[39m 0.2.5\n",
      "\u001b[32m✔\u001b[39m \u001b[34mtibble \u001b[39m 2.1.3     \u001b[32m✔\u001b[39m \u001b[34mdplyr  \u001b[39m 0.8.3\n",
      "\u001b[32m✔\u001b[39m \u001b[34mtidyr  \u001b[39m 0.8.1     \u001b[32m✔\u001b[39m \u001b[34mstringr\u001b[39m 1.3.1\n",
      "\u001b[32m✔\u001b[39m \u001b[34mreadr  \u001b[39m 1.1.1     \u001b[32m✔\u001b[39m \u001b[34mforcats\u001b[39m 0.3.0\n",
      "── \u001b[1mConflicts\u001b[22m ────────────────────────────────────────── tidyverse_conflicts() ──\n",
      "\u001b[31m✖\u001b[39m \u001b[34mlubridate\u001b[39m::\u001b[32mas.difftime()\u001b[39m masks \u001b[34mbase\u001b[39m::as.difftime()\n",
      "\u001b[31m✖\u001b[39m \u001b[34mlubridate\u001b[39m::\u001b[32mdate()\u001b[39m        masks \u001b[34mbase\u001b[39m::date()\n",
      "\u001b[31m✖\u001b[39m \u001b[34mdplyr\u001b[39m::\u001b[32mfilter()\u001b[39m          masks \u001b[34mstats\u001b[39m::filter()\n",
      "\u001b[31m✖\u001b[39m \u001b[34mlubridate\u001b[39m::\u001b[32mintersect()\u001b[39m   masks \u001b[34mbase\u001b[39m::intersect()\n",
      "\u001b[31m✖\u001b[39m \u001b[34mdplyr\u001b[39m::\u001b[32mlag()\u001b[39m             masks \u001b[34mstats\u001b[39m::lag()\n",
      "\u001b[31m✖\u001b[39m \u001b[34mlubridate\u001b[39m::\u001b[32msetdiff()\u001b[39m     masks \u001b[34mbase\u001b[39m::setdiff()\n",
      "\u001b[31m✖\u001b[39m \u001b[34mlubridate\u001b[39m::\u001b[32munion()\u001b[39m       masks \u001b[34mbase\u001b[39m::union()\n"
     ]
    }
   ],
   "source": [
    "# Load libraries\n",
    "library(lubridate)  # lubridate\n",
    "library(tidyverse)  # tidyverse"
   ]
  },
  {
   "cell_type": "code",
   "execution_count": 2,
   "metadata": {
    "collapsed": true
   },
   "outputs": [],
   "source": [
    "# Use library(help = \"package\")\n",
    "# to see the functions\n",
    "library(help = \"lubridate\")"
   ]
  },
  {
   "cell_type": "markdown",
   "metadata": {},
   "source": [
    "## today()\n",
    "The current date. \n",
    "### Usage\n",
    "today(tzone = \"\")"
   ]
  },
  {
   "cell_type": "code",
   "execution_count": 3,
   "metadata": {},
   "outputs": [
    {
     "data": {
      "text/html": [
       "<time datetime=\"2019-12-04\">2019-12-04</time>"
      ],
      "text/latex": [
       "2019-12-04"
      ],
      "text/markdown": [
       "2019-12-04"
      ],
      "text/plain": [
       "[1] \"2019-12-04\""
      ]
     },
     "metadata": {},
     "output_type": "display_data"
    }
   ],
   "source": [
    "# Execute today()\n",
    "today()"
   ]
  },
  {
   "cell_type": "markdown",
   "metadata": {},
   "source": [
    "## now()\n",
    "The current time. \n",
    "### Usage\n",
    "now(tzone = \"\")"
   ]
  },
  {
   "cell_type": "code",
   "execution_count": 4,
   "metadata": {},
   "outputs": [
    {
     "data": {
      "text/plain": [
       "[1] \"2019-12-04 12:47:38 PST\""
      ]
     },
     "metadata": {},
     "output_type": "display_data"
    }
   ],
   "source": [
    "# Execute now()\n",
    "now()"
   ]
  },
  {
   "cell_type": "code",
   "execution_count": 11,
   "metadata": {},
   "outputs": [
    {
     "data": {
      "text/html": [
       "<ol class=list-inline>\n",
       "\t<li><time datetime=\"2009-01-01\">2009-01-01</time></li>\n",
       "\t<li><time datetime=\"2009-01-02\">2009-01-02</time></li>\n",
       "\t<li><time datetime=\"2009-01-03\">2009-01-03</time></li>\n",
       "</ol>\n"
      ],
      "text/latex": [
       "\\begin{enumerate*}\n",
       "\\item 2009-01-01\n",
       "\\item 2009-01-02\n",
       "\\item 2009-01-03\n",
       "\\end{enumerate*}\n"
      ],
      "text/markdown": [
       "1. 2009-01-01\n",
       "2. 2009-01-02\n",
       "3. 2009-01-03\n",
       "\n",
       "\n"
      ],
      "text/plain": [
       "[1] \"2009-01-01\" \"2009-01-02\" \"2009-01-03\""
      ]
     },
     "metadata": {},
     "output_type": "display_data"
    },
    {
     "data": {
      "text/html": [
       "<ol class=list-inline>\n",
       "\t<li><time datetime=\"2009-01-01\">2009-01-01</time></li>\n",
       "\t<li><time datetime=\"2009-01-02\">2009-01-02</time></li>\n",
       "\t<li><time datetime=\"2009-01-03\">2009-01-03</time></li>\n",
       "</ol>\n"
      ],
      "text/latex": [
       "\\begin{enumerate*}\n",
       "\\item 2009-01-01\n",
       "\\item 2009-01-02\n",
       "\\item 2009-01-03\n",
       "\\end{enumerate*}\n"
      ],
      "text/markdown": [
       "1. 2009-01-01\n",
       "2. 2009-01-02\n",
       "3. 2009-01-03\n",
       "\n",
       "\n"
      ],
      "text/plain": [
       "[1] \"2009-01-01\" \"2009-01-02\" \"2009-01-03\""
      ]
     },
     "metadata": {},
     "output_type": "display_data"
    },
    {
     "name": "stderr",
     "output_type": "stream",
     "text": [
      "Warning message:\n",
      "“All formats failed to parse. No formats found.”"
     ]
    },
    {
     "data": {
      "text/html": [
       "<time datetime=\"&lt;NA&gt;\">&lt;NA&gt;</time>"
      ],
      "text/latex": [
       "<NA>"
      ],
      "text/markdown": [
       "&lt;NA&gt;"
      ],
      "text/plain": [
       "[1] NA"
      ]
     },
     "metadata": {},
     "output_type": "display_data"
    }
   ],
   "source": [
    "x <- c(\"09-01-01\", \"09-01-02\", \"09-01-03\")\n",
    "ymd(x)\n",
    "x <- c(\"2009-01-01\", \"2009-01-02\", \"2009-01-03\")\n",
    "ymd(x)\n",
    "\n",
    "x <- \"2009/Nov\"\n",
    "ymd(x)"
   ]
  },
  {
   "cell_type": "markdown",
   "metadata": {},
   "source": [
    "## ymd()\n",
    "Parse dates according to the order in that year, month, and day elements appear in the input vector. Transforms dates stored in character and numeric vectors to Date or POSIXct objects (see tz argument). These functions recognize arbitrary non-digit separators as well as no separator. As long as the order of formats is correct, these functions will parse dates correctly even when the input vectors contain differently formatted dates.\n",
    "### Usage\n",
    "* ymd(..., quiet = FALSE, tz = NULL, locale = Sys.getlocale(\"LC_TIME\"),\n",
    "  truncated = 0)\n",
    "\n",
    "* ydm(..., quiet = FALSE, tz = NULL, locale = Sys.getlocale(\"LC_TIME\"),\n",
    "  truncated = 0)\n",
    "\n",
    "* mdy(..., quiet = FALSE, tz = NULL, locale = Sys.getlocale(\"LC_TIME\"),\n",
    "  truncated = 0)\n",
    "\n",
    "* myd(..., quiet = FALSE, tz = NULL, locale = Sys.getlocale(\"LC_TIME\"),\n",
    "  truncated = 0)\n",
    "\n",
    "* dmy(..., quiet = FALSE, tz = NULL, locale = Sys.getlocale(\"LC_TIME\"),\n",
    "  truncated = 0)\n",
    "\n",
    "* dym(..., quiet = FALSE, tz = NULL, locale = Sys.getlocale(\"LC_TIME\"),\n",
    "  truncated = 0)\n",
    "\n",
    "* yq(..., quiet = FALSE, tz = NULL, locale = Sys.getlocale(\"LC_TIME\"))"
   ]
  },
  {
   "cell_type": "code",
   "execution_count": 5,
   "metadata": {},
   "outputs": [
    {
     "name": "stderr",
     "output_type": "stream",
     "text": [
      "Warning message:\n",
      "“`data_frame()` is deprecated, use `tibble()`.\n",
      "\u001b[90mThis warning is displayed once per session.\u001b[39m”"
     ]
    },
    {
     "name": "stdout",
     "output_type": "stream",
     "text": [
      "Observations: 6\n",
      "Variables: 1\n",
      "$ birthdate_str \u001b[3m\u001b[90m<chr>\u001b[39m\u001b[23m \"2008-12-22\", \"2011_Jun_09\", \"November 16th, 1970\", \"30…\n"
     ]
    }
   ],
   "source": [
    "# Create some dates\n",
    "\n",
    "# Typical ANSI standard date\n",
    "yyyy_mm_dd <- \"2008-12-22\"\n",
    "\n",
    "# Text short month and underscore delimiter\n",
    "yyyy_MM_dd <- \"2011_Jun_09\"\n",
    "\n",
    "# Text full month and day with comma separation\n",
    "MMM_DD_yyyy <- \"November 16th, 1970\"  \n",
    "\n",
    "# Mix of - and _\n",
    "dd_mm_yyyy <- \"30-07_1971\" \n",
    "\n",
    "# This is a number not a string\n",
    "yyyymmdd <- 19701116  \n",
    "\n",
    "# Create your own custom date string to try\n",
    "my_custom_date <- \"2008/02/29\"\n",
    "\n",
    "# Create data frame df_date\n",
    "# Column birthdate_str with all the dates above\n",
    "df_date <- data_frame(birthdate_str = c(yyyy_mm_dd, yyyy_MM_dd, \n",
    "                                   MMM_DD_yyyy, dd_mm_yyyy,\n",
    "                                  yyyymmdd, my_custom_date))\n",
    "\n",
    "# Glimpse result\n",
    "glimpse(df_date)"
   ]
  },
  {
   "cell_type": "code",
   "execution_count": 6,
   "metadata": {},
   "outputs": [
    {
     "name": "stderr",
     "output_type": "stream",
     "text": [
      "Warning message:\n",
      "“ 2 failed to parse.”Warning message:\n",
      "“ 5 failed to parse.”Warning message:\n",
      "“ 4 failed to parse.”"
     ]
    },
    {
     "data": {
      "text/html": [
       "<table>\n",
       "<caption>A tibble: 6 × 4</caption>\n",
       "<thead>\n",
       "\t<tr><th scope=col>birthdate_str</th><th scope=col>birthdate_ymd</th><th scope=col>birthdate_mdy</th><th scope=col>birthdate_dmy</th></tr>\n",
       "\t<tr><th scope=col>&lt;chr&gt;</th><th scope=col>&lt;date&gt;</th><th scope=col>&lt;date&gt;</th><th scope=col>&lt;date&gt;</th></tr>\n",
       "</thead>\n",
       "<tbody>\n",
       "\t<tr><td>2008-12-22         </td><td>2008-12-22</td><td>NA</td><td>NA</td></tr>\n",
       "\t<tr><td>2011_Jun_09        </td><td>2011-06-09</td><td>NA</td><td>2009-11-20</td></tr>\n",
       "\t<tr><td>November 16th, 1970</td><td>NA</td><td>1970-11-16</td><td>NA</td></tr>\n",
       "\t<tr><td>30-07_1971         </td><td>NA</td><td>NA</td><td>1971-07-30</td></tr>\n",
       "\t<tr><td>19701116           </td><td>1970-11-16</td><td>NA</td><td>NA</td></tr>\n",
       "\t<tr><td>2008/02/29         </td><td>2008-02-29</td><td>NA</td><td>NA</td></tr>\n",
       "</tbody>\n",
       "</table>\n"
      ],
      "text/latex": [
       "A tibble: 6 × 4\n",
       "\\begin{tabular}{r|llll}\n",
       " birthdate\\_str & birthdate\\_ymd & birthdate\\_mdy & birthdate\\_dmy\\\\\n",
       " <chr> & <date> & <date> & <date>\\\\\n",
       "\\hline\n",
       "\t 2008-12-22          & 2008-12-22 & NA & NA\\\\\n",
       "\t 2011\\_Jun\\_09         & 2011-06-09 & NA & 2009-11-20\\\\\n",
       "\t November 16th, 1970 & NA & 1970-11-16 & NA\\\\\n",
       "\t 30-07\\_1971          & NA & NA & 1971-07-30\\\\\n",
       "\t 19701116            & 1970-11-16 & NA & NA\\\\\n",
       "\t 2008/02/29          & 2008-02-29 & NA & NA\\\\\n",
       "\\end{tabular}\n"
      ],
      "text/markdown": [
       "\n",
       "A tibble: 6 × 4\n",
       "\n",
       "| birthdate_str &lt;chr&gt; | birthdate_ymd &lt;date&gt; | birthdate_mdy &lt;date&gt; | birthdate_dmy &lt;date&gt; |\n",
       "|---|---|---|---|\n",
       "| 2008-12-22          | 2008-12-22 | NA | NA |\n",
       "| 2011_Jun_09         | 2011-06-09 | NA | 2009-11-20 |\n",
       "| November 16th, 1970 | NA | 1970-11-16 | NA |\n",
       "| 30-07_1971          | NA | NA | 1971-07-30 |\n",
       "| 19701116            | 1970-11-16 | NA | NA |\n",
       "| 2008/02/29          | 2008-02-29 | NA | NA |\n",
       "\n"
      ],
      "text/plain": [
       "  birthdate_str       birthdate_ymd birthdate_mdy birthdate_dmy\n",
       "1 2008-12-22          2008-12-22    <NA>          <NA>         \n",
       "2 2011_Jun_09         2011-06-09    <NA>          2009-11-20   \n",
       "3 November 16th, 1970 <NA>          1970-11-16    <NA>         \n",
       "4 30-07_1971          <NA>          <NA>          1971-07-30   \n",
       "5 19701116            1970-11-16    <NA>          <NA>         \n",
       "6 2008/02/29          2008-02-29    <NA>          <NA>         "
      ]
     },
     "metadata": {},
     "output_type": "display_data"
    }
   ],
   "source": [
    "# Create birthdate columns in df\n",
    "# birthdate_ymd using ymd()\n",
    "# birthdate_mdy using mdy()\n",
    "# birthday_dmy using dmy()\n",
    "df_date <- df_date %>% mutate(birthdate_ymd = ymd(birthdate_str),\n",
    "                   birthdate_mdy = mdy(birthdate_str),\n",
    "                   birthdate_dmy = dmy(birthdate_str))\n",
    "\n",
    "# Display result\n",
    "df_date\n"
   ]
  },
  {
   "cell_type": "markdown",
   "metadata": {},
   "source": [
    "Were all the dates able to be parsed by at least one method?\n",
    "\n",
    "* Delimiters such as / or - and a mix of both are supported\n",
    "* Months and days can be numerical or text\n",
    "* Most important element is consistent order of year, month, and day known ahead of time"
   ]
  },
  {
   "cell_type": "code",
   "execution_count": 7,
   "metadata": {},
   "outputs": [
    {
     "name": "stdout",
     "output_type": "stream",
     "text": [
      "Observations: 7\n",
      "Variables: 1\n",
      "$ timestamp_str \u001b[3m\u001b[90m<chr>\u001b[39m\u001b[23m \"2017-10-04 15:22:06\", \"10/04/2017 15:22:06 PDT\", \"2017…\n"
     ]
    }
   ],
   "source": [
    "# Create some timestamps\n",
    "\n",
    "# ymd hms\n",
    "ymd_hms <- \"2017-10-04 15:22:06\"\n",
    "\n",
    "# mdy hms with timezone\n",
    "mdy_hms_timezone <- \"10/04/2017 15:22:06 PDT\"\n",
    "\n",
    "# ymd hms fraction of seconds\n",
    "mdy_hms_ms <- \"2017-10-04 15:22:06.123456789\"\n",
    "\n",
    "# ymd hms am pm\n",
    "mdy_hms_pm <- \"2017-10-04 3:22:06 PM\"\n",
    "\n",
    "# hms\n",
    "hms <- \"15:22:06\"\n",
    "\n",
    "# ymd_hm\n",
    "ymd_hm <- \"2017-10-04 15:22\"\n",
    "\n",
    "# Create your own custom time string to try\n",
    "my_custom_time <- \"2017-10-04T15:22:06\"\n",
    "\n",
    "# Create data frame df_time\n",
    "# Column timestamp_str with all the times above\n",
    "df_time <- data_frame(timestamp_str = c(ymd_hms, mdy_hms_timezone, \n",
    "                                   mdy_hms_ms, mdy_hms_pm, hms,\n",
    "                                   ymd_hm, my_custom_time))\n",
    "\n",
    "# Glimpse result\n",
    "glimpse(df_time)"
   ]
  },
  {
   "cell_type": "code",
   "execution_count": 8,
   "metadata": {},
   "outputs": [
    {
     "name": "stderr",
     "output_type": "stream",
     "text": [
      "Warning message:\n",
      "“ 3 failed to parse.”Warning message:\n",
      "“ 6 failed to parse.”Warning message:\n",
      "“ 6 failed to parse.”Warning message in .parse_hms(..., order = \"HMS\", quiet = quiet):\n",
      "“Some strings failed to parse, or all strings are NAs”"
     ]
    },
    {
     "data": {
      "text/html": [
       "<table>\n",
       "<caption>A tibble: 7 × 5</caption>\n",
       "<thead>\n",
       "\t<tr><th scope=col>timestamp_str</th><th scope=col>timestamp_ymd_hms</th><th scope=col>timestamp_mdy_hms</th><th scope=col>timestamp_ymd_hm</th><th scope=col>timestamp_hms</th></tr>\n",
       "\t<tr><th scope=col>&lt;chr&gt;</th><th scope=col>&lt;dttm&gt;</th><th scope=col>&lt;dttm&gt;</th><th scope=col>&lt;dttm&gt;</th><th scope=col>&lt;Period&gt;</th></tr>\n",
       "</thead>\n",
       "<tbody>\n",
       "\t<tr><td>2017-10-04 15:22:06          </td><td>2017-10-04 15:22:06</td><td>NA</td><td>NA</td><td>NA</td></tr>\n",
       "\t<tr><td>10/04/2017 15:22:06 PDT      </td><td>NA</td><td>2017-10-04 15:22:06</td><td>NA</td><td>NA</td></tr>\n",
       "\t<tr><td>2017-10-04 15:22:06.123456789</td><td>2017-10-04 15:22:06</td><td>NA</td><td>NA</td><td>NA</td></tr>\n",
       "\t<tr><td>2017-10-04 3:22:06 PM        </td><td>2017-10-04 15:22:06</td><td>NA</td><td>NA</td><td>NA</td></tr>\n",
       "\t<tr><td>15:22:06                     </td><td>NA</td><td>NA</td><td>NA</td><td>15H 22M 6S</td></tr>\n",
       "\t<tr><td>2017-10-04 15:22             </td><td>NA</td><td>NA</td><td>2017-10-04 15:22:00</td><td>NA</td></tr>\n",
       "\t<tr><td>2017-10-04T15:22:06          </td><td>2017-10-04 15:22:06</td><td>NA</td><td>NA</td><td>NA</td></tr>\n",
       "</tbody>\n",
       "</table>\n"
      ],
      "text/latex": [
       "A tibble: 7 × 5\n",
       "\\begin{tabular}{r|lllll}\n",
       " timestamp\\_str & timestamp\\_ymd\\_hms & timestamp\\_mdy\\_hms & timestamp\\_ymd\\_hm & timestamp\\_hms\\\\\n",
       " <chr> & <dttm> & <dttm> & <dttm> & <Period>\\\\\n",
       "\\hline\n",
       "\t 2017-10-04 15:22:06           & 2017-10-04 15:22:06 & NA & NA & NA\\\\\n",
       "\t 10/04/2017 15:22:06 PDT       & NA & 2017-10-04 15:22:06 & NA & NA\\\\\n",
       "\t 2017-10-04 15:22:06.123456789 & 2017-10-04 15:22:06 & NA & NA & NA\\\\\n",
       "\t 2017-10-04 3:22:06 PM         & 2017-10-04 15:22:06 & NA & NA & NA\\\\\n",
       "\t 15:22:06                      & NA & NA & NA & 15H 22M 6S\\\\\n",
       "\t 2017-10-04 15:22              & NA & NA & 2017-10-04 15:22:00 & NA\\\\\n",
       "\t 2017-10-04T15:22:06           & 2017-10-04 15:22:06 & NA & NA & NA\\\\\n",
       "\\end{tabular}\n"
      ],
      "text/markdown": [
       "\n",
       "A tibble: 7 × 5\n",
       "\n",
       "| timestamp_str &lt;chr&gt; | timestamp_ymd_hms &lt;dttm&gt; | timestamp_mdy_hms &lt;dttm&gt; | timestamp_ymd_hm &lt;dttm&gt; | timestamp_hms &lt;Period&gt; |\n",
       "|---|---|---|---|---|\n",
       "| 2017-10-04 15:22:06           | 2017-10-04 15:22:06 | NA | NA | NA |\n",
       "| 10/04/2017 15:22:06 PDT       | NA | 2017-10-04 15:22:06 | NA | NA |\n",
       "| 2017-10-04 15:22:06.123456789 | 2017-10-04 15:22:06 | NA | NA | NA |\n",
       "| 2017-10-04 3:22:06 PM         | 2017-10-04 15:22:06 | NA | NA | NA |\n",
       "| 15:22:06                      | NA | NA | NA | 15H 22M 6S |\n",
       "| 2017-10-04 15:22              | NA | NA | 2017-10-04 15:22:00 | NA |\n",
       "| 2017-10-04T15:22:06           | 2017-10-04 15:22:06 | NA | NA | NA |\n",
       "\n"
      ],
      "text/plain": [
       "  timestamp_str                 timestamp_ymd_hms   timestamp_mdy_hms  \n",
       "1 2017-10-04 15:22:06           2017-10-04 15:22:06 <NA>               \n",
       "2 10/04/2017 15:22:06 PDT       <NA>                2017-10-04 15:22:06\n",
       "3 2017-10-04 15:22:06.123456789 2017-10-04 15:22:06 <NA>               \n",
       "4 2017-10-04 3:22:06 PM         2017-10-04 15:22:06 <NA>               \n",
       "5 15:22:06                      <NA>                <NA>               \n",
       "6 2017-10-04 15:22              <NA>                <NA>               \n",
       "7 2017-10-04T15:22:06           2017-10-04 15:22:06 <NA>               \n",
       "  timestamp_ymd_hm    timestamp_hms\n",
       "1 <NA>                <NA>         \n",
       "2 <NA>                <NA>         \n",
       "3 <NA>                <NA>         \n",
       "4 <NA>                <NA>         \n",
       "5 <NA>                15H 22M 6S   \n",
       "6 2017-10-04 15:22:00 <NA>         \n",
       "7 <NA>                <NA>         "
      ]
     },
     "metadata": {},
     "output_type": "display_data"
    }
   ],
   "source": [
    "# Create birthdate columns in df\n",
    "# timestamp_ymd_hms using ymd_hms()\n",
    "# timestamp_mdy_hms using mdy_hms()\n",
    "# timestamp_ymd_hm using ymd_hm()\n",
    "# timestamp_hms using hms()\n",
    "df_time <- df_time %>% mutate(timestamp_ymd_hms = ymd_hms(timestamp_str),\n",
    "                   timestamp_mdy_hms = mdy_hms(timestamp_str),\n",
    "                   timestamp_ymd_hm = ymd_hm(timestamp_str),\n",
    "                   timestamp_hms = hms(timestamp_str))\n",
    "\n",
    "# Display result\n",
    "df_time"
   ]
  },
  {
   "cell_type": "markdown",
   "metadata": {},
   "source": [
    "Were all the times able to be parsed by at least one method?\n",
    "\n",
    "* Handles timezone\n",
    "* Handles AM / PM and 24 hour\n",
    "* Most important element is consistent order of year, month, day, hours, minutes, and seconds known ahead of time"
   ]
  },
  {
   "cell_type": "markdown",
   "metadata": {},
   "source": [
    "## year(), month(), day()\n",
    "Get/set days component of a date-time.\n",
    "### Usage\n",
    "year(x)\n",
    "\n",
    "month(x, label = FALSE, abbr = TRUE)\n",
    "\n",
    "day(x)\n",
    "\n",
    "mday(x)\n",
    "\n",
    "wday(x, label = FALSE, abbr = TRUE)\n",
    "\n",
    "qday(x)\n",
    "\n",
    "yday(x)"
   ]
  },
  {
   "cell_type": "code",
   "execution_count": 9,
   "metadata": {},
   "outputs": [
    {
     "data": {
      "text/html": [
       "<table>\n",
       "<caption>A tibble: 6 × 7</caption>\n",
       "<thead>\n",
       "\t<tr><th scope=col>birthdate_str</th><th scope=col>birthdate_ymd</th><th scope=col>birthdate_mdy</th><th scope=col>birthdate_dmy</th><th scope=col>birthdate_year</th><th scope=col>birthdate_month</th><th scope=col>birthdate_day</th></tr>\n",
       "\t<tr><th scope=col>&lt;chr&gt;</th><th scope=col>&lt;date&gt;</th><th scope=col>&lt;date&gt;</th><th scope=col>&lt;date&gt;</th><th scope=col>&lt;dbl&gt;</th><th scope=col>&lt;dbl&gt;</th><th scope=col>&lt;int&gt;</th></tr>\n",
       "</thead>\n",
       "<tbody>\n",
       "\t<tr><td>2008-12-22         </td><td>2008-12-22</td><td>NA</td><td>NA</td><td>2008</td><td>12</td><td>22</td></tr>\n",
       "\t<tr><td>2011_Jun_09        </td><td>2011-06-09</td><td>NA</td><td>2009-11-20</td><td>2011</td><td> 6</td><td> 9</td></tr>\n",
       "\t<tr><td>November 16th, 1970</td><td>NA</td><td>1970-11-16</td><td>NA</td><td>  NA</td><td>NA</td><td>NA</td></tr>\n",
       "\t<tr><td>30-07_1971         </td><td>NA</td><td>NA</td><td>1971-07-30</td><td>  NA</td><td>NA</td><td>NA</td></tr>\n",
       "\t<tr><td>19701116           </td><td>1970-11-16</td><td>NA</td><td>NA</td><td>1970</td><td>11</td><td>16</td></tr>\n",
       "\t<tr><td>2008/02/29         </td><td>2008-02-29</td><td>NA</td><td>NA</td><td>2008</td><td> 2</td><td>29</td></tr>\n",
       "</tbody>\n",
       "</table>\n"
      ],
      "text/latex": [
       "A tibble: 6 × 7\n",
       "\\begin{tabular}{r|lllllll}\n",
       " birthdate\\_str & birthdate\\_ymd & birthdate\\_mdy & birthdate\\_dmy & birthdate\\_year & birthdate\\_month & birthdate\\_day\\\\\n",
       " <chr> & <date> & <date> & <date> & <dbl> & <dbl> & <int>\\\\\n",
       "\\hline\n",
       "\t 2008-12-22          & 2008-12-22 & NA & NA & 2008 & 12 & 22\\\\\n",
       "\t 2011\\_Jun\\_09         & 2011-06-09 & NA & 2009-11-20 & 2011 &  6 &  9\\\\\n",
       "\t November 16th, 1970 & NA & 1970-11-16 & NA &   NA & NA & NA\\\\\n",
       "\t 30-07\\_1971          & NA & NA & 1971-07-30 &   NA & NA & NA\\\\\n",
       "\t 19701116            & 1970-11-16 & NA & NA & 1970 & 11 & 16\\\\\n",
       "\t 2008/02/29          & 2008-02-29 & NA & NA & 2008 &  2 & 29\\\\\n",
       "\\end{tabular}\n"
      ],
      "text/markdown": [
       "\n",
       "A tibble: 6 × 7\n",
       "\n",
       "| birthdate_str &lt;chr&gt; | birthdate_ymd &lt;date&gt; | birthdate_mdy &lt;date&gt; | birthdate_dmy &lt;date&gt; | birthdate_year &lt;dbl&gt; | birthdate_month &lt;dbl&gt; | birthdate_day &lt;int&gt; |\n",
       "|---|---|---|---|---|---|---|\n",
       "| 2008-12-22          | 2008-12-22 | NA | NA | 2008 | 12 | 22 |\n",
       "| 2011_Jun_09         | 2011-06-09 | NA | 2009-11-20 | 2011 |  6 |  9 |\n",
       "| November 16th, 1970 | NA | 1970-11-16 | NA |   NA | NA | NA |\n",
       "| 30-07_1971          | NA | NA | 1971-07-30 |   NA | NA | NA |\n",
       "| 19701116            | 1970-11-16 | NA | NA | 1970 | 11 | 16 |\n",
       "| 2008/02/29          | 2008-02-29 | NA | NA | 2008 |  2 | 29 |\n",
       "\n"
      ],
      "text/plain": [
       "  birthdate_str       birthdate_ymd birthdate_mdy birthdate_dmy birthdate_year\n",
       "1 2008-12-22          2008-12-22    <NA>          <NA>          2008          \n",
       "2 2011_Jun_09         2011-06-09    <NA>          2009-11-20    2011          \n",
       "3 November 16th, 1970 <NA>          1970-11-16    <NA>            NA          \n",
       "4 30-07_1971          <NA>          <NA>          1971-07-30      NA          \n",
       "5 19701116            1970-11-16    <NA>          <NA>          1970          \n",
       "6 2008/02/29          2008-02-29    <NA>          <NA>          2008          \n",
       "  birthdate_month birthdate_day\n",
       "1 12              22           \n",
       "2  6               9           \n",
       "3 NA              NA           \n",
       "4 NA              NA           \n",
       "5 11              16           \n",
       "6  2              29           "
      ]
     },
     "metadata": {},
     "output_type": "display_data"
    }
   ],
   "source": [
    "# Create df_date_components from df_date\n",
    "# Create columns for year, month, and day\n",
    "# from df_date$birthdate_ymd\n",
    "# birthdate_year use year()\n",
    "# birthdate_month use month()\n",
    "# birthdate_day use day()\n",
    "df_date_components <- df_date %>% \n",
    "   mutate(birthdate_year = year(birthdate_ymd),\n",
    "         birthdate_month = month(birthdate_ymd),\n",
    "         birthdate_day = day(birthdate_ymd))\n",
    "\n",
    "# Display df_date\n",
    "df_date_components\n"
   ]
  },
  {
   "cell_type": "markdown",
   "metadata": {},
   "source": [
    "Use year(), month(), and day() to split a date into its components."
   ]
  },
  {
   "cell_type": "markdown",
   "metadata": {},
   "source": [
    "## make_date()\n",
    "Efficient creation of date-times from numeric representations.\n",
    "### Usage\n",
    "make_datetime(year = 1970L, month = 1L, day = 1L, hour = 0L, min = 0L,\n",
    "  sec = 0, tz = \"UTC\")\n",
    "\n",
    "make_date(year = 1970L, month = 1L, day = 1L)"
   ]
  },
  {
   "cell_type": "code",
   "execution_count": 10,
   "metadata": {},
   "outputs": [
    {
     "data": {
      "text/html": [
       "<table>\n",
       "<caption>A tibble: 6 × 8</caption>\n",
       "<thead>\n",
       "\t<tr><th scope=col>birthdate_str</th><th scope=col>birthdate_ymd</th><th scope=col>birthdate_mdy</th><th scope=col>birthdate_dmy</th><th scope=col>birthdate_year</th><th scope=col>birthdate_month</th><th scope=col>birthdate_day</th><th scope=col>birthdate_comp</th></tr>\n",
       "\t<tr><th scope=col>&lt;chr&gt;</th><th scope=col>&lt;date&gt;</th><th scope=col>&lt;date&gt;</th><th scope=col>&lt;date&gt;</th><th scope=col>&lt;dbl&gt;</th><th scope=col>&lt;dbl&gt;</th><th scope=col>&lt;int&gt;</th><th scope=col>&lt;date&gt;</th></tr>\n",
       "</thead>\n",
       "<tbody>\n",
       "\t<tr><td>2008-12-22         </td><td>2008-12-22</td><td>NA</td><td>NA</td><td>2008</td><td>12</td><td>22</td><td>2008-12-22</td></tr>\n",
       "\t<tr><td>2011_Jun_09        </td><td>2011-06-09</td><td>NA</td><td>2009-11-20</td><td>2011</td><td> 6</td><td> 9</td><td>2011-06-09</td></tr>\n",
       "\t<tr><td>November 16th, 1970</td><td>NA</td><td>1970-11-16</td><td>NA</td><td>  NA</td><td>NA</td><td>NA</td><td>NA</td></tr>\n",
       "\t<tr><td>30-07_1971         </td><td>NA</td><td>NA</td><td>1971-07-30</td><td>  NA</td><td>NA</td><td>NA</td><td>NA</td></tr>\n",
       "\t<tr><td>19701116           </td><td>1970-11-16</td><td>NA</td><td>NA</td><td>1970</td><td>11</td><td>16</td><td>1970-11-16</td></tr>\n",
       "\t<tr><td>2008/02/29         </td><td>2008-02-29</td><td>NA</td><td>NA</td><td>2008</td><td> 2</td><td>29</td><td>2008-02-29</td></tr>\n",
       "</tbody>\n",
       "</table>\n"
      ],
      "text/latex": [
       "A tibble: 6 × 8\n",
       "\\begin{tabular}{r|llllllll}\n",
       " birthdate\\_str & birthdate\\_ymd & birthdate\\_mdy & birthdate\\_dmy & birthdate\\_year & birthdate\\_month & birthdate\\_day & birthdate\\_comp\\\\\n",
       " <chr> & <date> & <date> & <date> & <dbl> & <dbl> & <int> & <date>\\\\\n",
       "\\hline\n",
       "\t 2008-12-22          & 2008-12-22 & NA & NA & 2008 & 12 & 22 & 2008-12-22\\\\\n",
       "\t 2011\\_Jun\\_09         & 2011-06-09 & NA & 2009-11-20 & 2011 &  6 &  9 & 2011-06-09\\\\\n",
       "\t November 16th, 1970 & NA & 1970-11-16 & NA &   NA & NA & NA & NA\\\\\n",
       "\t 30-07\\_1971          & NA & NA & 1971-07-30 &   NA & NA & NA & NA\\\\\n",
       "\t 19701116            & 1970-11-16 & NA & NA & 1970 & 11 & 16 & 1970-11-16\\\\\n",
       "\t 2008/02/29          & 2008-02-29 & NA & NA & 2008 &  2 & 29 & 2008-02-29\\\\\n",
       "\\end{tabular}\n"
      ],
      "text/markdown": [
       "\n",
       "A tibble: 6 × 8\n",
       "\n",
       "| birthdate_str &lt;chr&gt; | birthdate_ymd &lt;date&gt; | birthdate_mdy &lt;date&gt; | birthdate_dmy &lt;date&gt; | birthdate_year &lt;dbl&gt; | birthdate_month &lt;dbl&gt; | birthdate_day &lt;int&gt; | birthdate_comp &lt;date&gt; |\n",
       "|---|---|---|---|---|---|---|---|\n",
       "| 2008-12-22          | 2008-12-22 | NA | NA | 2008 | 12 | 22 | 2008-12-22 |\n",
       "| 2011_Jun_09         | 2011-06-09 | NA | 2009-11-20 | 2011 |  6 |  9 | 2011-06-09 |\n",
       "| November 16th, 1970 | NA | 1970-11-16 | NA |   NA | NA | NA | NA |\n",
       "| 30-07_1971          | NA | NA | 1971-07-30 |   NA | NA | NA | NA |\n",
       "| 19701116            | 1970-11-16 | NA | NA | 1970 | 11 | 16 | 1970-11-16 |\n",
       "| 2008/02/29          | 2008-02-29 | NA | NA | 2008 |  2 | 29 | 2008-02-29 |\n",
       "\n"
      ],
      "text/plain": [
       "  birthdate_str       birthdate_ymd birthdate_mdy birthdate_dmy birthdate_year\n",
       "1 2008-12-22          2008-12-22    <NA>          <NA>          2008          \n",
       "2 2011_Jun_09         2011-06-09    <NA>          2009-11-20    2011          \n",
       "3 November 16th, 1970 <NA>          1970-11-16    <NA>            NA          \n",
       "4 30-07_1971          <NA>          <NA>          1971-07-30      NA          \n",
       "5 19701116            1970-11-16    <NA>          <NA>          1970          \n",
       "6 2008/02/29          2008-02-29    <NA>          <NA>          2008          \n",
       "  birthdate_month birthdate_day birthdate_comp\n",
       "1 12              22            2008-12-22    \n",
       "2  6               9            2011-06-09    \n",
       "3 NA              NA            <NA>          \n",
       "4 NA              NA            <NA>          \n",
       "5 11              16            1970-11-16    \n",
       "6  2              29            2008-02-29    "
      ]
     },
     "metadata": {},
     "output_type": "display_data"
    }
   ],
   "source": [
    "# Create date from separate year, month, day numeric columns\n",
    "# Use df_date_components and create df_date_comp2\n",
    "# birthdate_year, birthdate_month, birthdate_day\n",
    "# Create new column, birthdate_comp from above columns\n",
    "df_date_comp2 <- df_date_components %>%\n",
    "   mutate(birthdate_comp = make_date(birthdate_year, birthdate_month, birthdate_day))\n",
    "          \n",
    "# Display df_date_components\n",
    "df_date_comp2\n"
   ]
  },
  {
   "cell_type": "markdown",
   "metadata": {},
   "source": [
    "Do the dates in birthdate_comp match the dates in birthdate_ymd?"
   ]
  },
  {
   "cell_type": "markdown",
   "metadata": {},
   "source": [
    "## as_date(), as_datetime()\n",
    "Convert an object to a date or date-time. \n",
    "### Usage\n",
    "as_date(x, ...)\n",
    "\n",
    "as_datetime(x, ...)"
   ]
  },
  {
   "cell_type": "code",
   "execution_count": 11,
   "metadata": {},
   "outputs": [
    {
     "name": "stdout",
     "output_type": "stream",
     "text": [
      "Observations: 7\n",
      "Variables: 6\n",
      "$ timestamp_str     \u001b[3m\u001b[90m<chr>\u001b[39m\u001b[23m \"2017-10-04 15:22:06\", \"10/04/2017 15:22:06 PDT\", \"…\n",
      "$ timestamp_ymd_hms \u001b[3m\u001b[90m<dttm>\u001b[39m\u001b[23m 2017-10-04 15:22:06, NA, 2017-10-04 15:22:06, 2017…\n",
      "$ timestamp_mdy_hms \u001b[3m\u001b[90m<dttm>\u001b[39m\u001b[23m NA, 2017-10-04 15:22:06, NA, NA, NA, NA, NA\n",
      "$ timestamp_ymd_hm  \u001b[3m\u001b[90m<dttm>\u001b[39m\u001b[23m NA, NA, NA, NA, NA, 2017-10-04 15:22:00, NA\n",
      "$ timestamp_hms     \u001b[3m\u001b[90m<Period>\u001b[39m\u001b[23m NA, NA, NA, NA, 15H 22M 6S, NA, NA\n",
      "$ birthdate         \u001b[3m\u001b[90m<date>\u001b[39m\u001b[23m 2017-10-04, NA, 2017-10-04, 2017-10-04, NA, NA, 20…\n"
     ]
    }
   ],
   "source": [
    "# Convert from datetime to date\n",
    "# Create df_time from df_time_date\n",
    "# Add column birthdate\n",
    "# from column timestamp_ymd_hms\n",
    "# Hint: use as_date()\n",
    "df_time_date <- df_time %>% \n",
    "   mutate(birthdate = as_date(timestamp_ymd_hms))\n",
    "\n",
    "# Glimpse df_time_date\n",
    "glimpse(df_time_date)"
   ]
  },
  {
   "cell_type": "code",
   "execution_count": 12,
   "metadata": {},
   "outputs": [
    {
     "name": "stdout",
     "output_type": "stream",
     "text": [
      "Observations: 6\n",
      "Variables: 5\n",
      "$ birthdate_str \u001b[3m\u001b[90m<chr>\u001b[39m\u001b[23m \"2008-12-22\", \"2011_Jun_09\", \"November 16th, 1970\", \"30…\n",
      "$ birthdate_ymd \u001b[3m\u001b[90m<date>\u001b[39m\u001b[23m 2008-12-22, 2011-06-09, NA, NA, 1970-11-16, 2008-02-29\n",
      "$ birthdate_mdy \u001b[3m\u001b[90m<date>\u001b[39m\u001b[23m NA, NA, 1970-11-16, NA, NA, NA\n",
      "$ birthdate_dmy \u001b[3m\u001b[90m<date>\u001b[39m\u001b[23m NA, 2009-11-20, NA, 1971-07-30, NA, NA\n",
      "$ birthdatetime \u001b[3m\u001b[90m<dttm>\u001b[39m\u001b[23m 2008-12-22, 2011-06-09, NA, NA, 1970-11-16, 2008-02-29\n"
     ]
    }
   ],
   "source": [
    "# Convert from date to datetime\n",
    "# Create df_date_time from df_date\n",
    "# Add column birthdatetime\n",
    "# from column birthdate_ymd\n",
    "# Hint: Use as_datetime()\n",
    "df_date_time <- df_date %>% \n",
    "   mutate(birthdatetime = as_datetime(birthdate_ymd))\n",
    "\n",
    "# Glimpse df_date_time\n",
    "glimpse(df_date_time)"
   ]
  },
  {
   "cell_type": "markdown",
   "metadata": {},
   "source": [
    "* Notice the data types from glimpse(). \n",
    "* The conversion to date uses < date > \n",
    "* The conversion to time uses < dttm >"
   ]
  },
  {
   "cell_type": "markdown",
   "metadata": {},
   "source": [
    "# Summary\n",
    "Lubridate includes several powerful date parsing functions to convert your string dates into date or date time data types."
   ]
  }
 ],
 "metadata": {
  "kernelspec": {
   "display_name": "R 3.5.1",
   "language": "R",
   "name": "ir"
  },
  "language_info": {
   "codemirror_mode": "r",
   "file_extension": ".r",
   "mimetype": "text/x-r-source",
   "name": "R",
   "pygments_lexer": "r",
   "version": "3.5.1"
  }
 },
 "nbformat": 4,
 "nbformat_minor": 1
}
