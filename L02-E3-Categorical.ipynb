{
 "cells": [
  {
   "cell_type": "markdown",
   "metadata": {},
   "source": [
    "# L02-E3-Categorical\n",
    "## Exercise Instructions\n",
    "\n",
    "* Complete all cells as instructed, replacing any ??? with the appropriate code\n",
    "\n",
    "* Execute Jupyter **Kernel** > **Restart & Run All** and ensure that all code blocks run without error\n"
   ]
  },
  {
   "cell_type": "markdown",
   "metadata": {},
   "source": [
    "# Scatterplots with Categorical Variables\n",
    "\n",
    "When we can identify variables as categorical or non-categorical, we can then use the categorical variables differently to show the categorization of the other variables. \n",
    "\n",
    "Categorical variables are variables with limited number of values. We will look at the now familiar fuel economy vs. displacement, and add categorical information to them to reveal more patterns. \n",
    "\n",
    "Jitter and alpha transparency blending help with overplotting of categorical variables. Both jitter and alpha used static parameters. For example, alpha = 0.5 meant that each point was 50% transparent. That 50% was independent of the data. In other words, it was 0.5 for every point regardless of the value of that point. \n",
    "A powerful feature of ggplot is mapping data columns to aesthetics. Technically when we map columns to the x and y parameters, we are already doing this. Notice that it is inside the mapping = aes() function. There are many more aesthetics than just x and y. Color is a great example. Imagine the color of a point changing based upon the number of cylinders. \n",
    "\n",
    "In some situations when the underlying data appears to be a continuous variable, the color scale will be a continuous range. A way to indicate that the variable is categorical is to wrap it with as.factor().\n",
    "\n",
    "\n",
    "## R Features\n",
    "* library()\n",
    "* glimpse()\n",
    "* ggplot()\n",
    "* geom_jitter()\n",
    "* geom_smooth()\n",
    "* labs()\n",
    "* as.factor()\n",
    "* facet_wrap()\n",
    "* facet_grid()\n",
    "\n",
    "## Datasets\n",
    "* mpg"
   ]
  },
  {
   "cell_type": "code",
   "execution_count": null,
   "metadata": {
    "collapsed": true
   },
   "outputs": [],
   "source": [
    "# Load the tidyverse library\n",
    "???"
   ]
  },
  {
   "cell_type": "code",
   "execution_count": null,
   "metadata": {
    "collapsed": true,
    "scrolled": false
   },
   "outputs": [],
   "source": [
    "# Explore the data\n",
    "# Dataframe: mpg\n",
    "# Hint: glimpse()\n",
    "???"
   ]
  },
  {
   "cell_type": "markdown",
   "metadata": {},
   "source": [
    "## Start with a baseline plot"
   ]
  },
  {
   "cell_type": "code",
   "execution_count": null,
   "metadata": {
    "collapsed": true,
    "scrolled": false
   },
   "outputs": [],
   "source": [
    "# Scatterplot mpg: x = displ, y = hwy\n",
    "# + jitter + alpha = 0.5 + trend (linear)\n",
    "ggplot(data = mpg, mapping = aes( ??? )) + \n",
    "   geom_jitter( ??? ) + \n",
    "   geom_smooth(method = ??? , se = FALSE) +\n",
    "   labs(title=\"mpg trend: hwy vs displ\", \n",
    "        subtitle=\"Points jittered + alpha blended\")"
   ]
  },
  {
   "cell_type": "markdown",
   "metadata": {},
   "source": [
    "## Map color to cyl\n",
    "Since we have no reason not to inherit color to all geoms just like data, x, and y, so we map the color in ggplot. Be sure to add it into the aes area and separate it by a comma."
   ]
  },
  {
   "cell_type": "code",
   "execution_count": null,
   "metadata": {
    "collapsed": true,
    "scrolled": false
   },
   "outputs": [],
   "source": [
    "# Scatterplot mpg: x = displ, y = hwy, color = cyl\n",
    "# + jitter + alpha = 0.5 + trend (linear)\n",
    "ggplot(data = mpg, mapping = aes( ??? )) + \n",
    "   geom_jitter(alpha = 0.5) + \n",
    "   geom_smooth(method = \"lm\", se = FALSE) +\n",
    "   labs(title=\"mpg trend: hwy vs displ by cyl\", \n",
    "        subtitle=\"Points jittered + alpha blended + cyl color\")"
   ]
  },
  {
   "cell_type": "markdown",
   "metadata": {},
   "source": [
    "Notice that 8 cylinders are toward the right and 4 cylinders are toward the left. Since the variable was a number, ggplot defaulted it to a continuous variable and made the colors continuous from light to dark. That is hard to analyze and it isn't appropriate for a categorical variable."
   ]
  },
  {
   "cell_type": "markdown",
   "metadata": {},
   "source": [
    "## Change cyl to a categorical variable\n",
    "Change cyl to a categorical variable so ggplot will use more distinct colors.\n",
    "\n",
    "One way is to wrap the variable in as.factor()"
   ]
  },
  {
   "cell_type": "code",
   "execution_count": null,
   "metadata": {
    "collapsed": true,
    "scrolled": false
   },
   "outputs": [],
   "source": [
    "# Scatterplot mpg: x = displ, y = hwy, color = cyl\n",
    "# + jitter + alpha = 0.5 + trend (linear)\n",
    "# Hint: use color = as.factor(cyl) and be sure you have the right number of opening and closing parenthesis\n",
    "ggplot(data = mpg, mapping = aes( ??? )) + \n",
    "   geom_jitter(alpha = 0.5) + \n",
    "   geom_smooth(method = \"lm\", se = FALSE) +\n",
    "   labs(title=\"mpg trend: hwy vs displ by cyl - factor\", \n",
    "        subtitle=\"Points jittered + alpha blended + cyl color\")"
   ]
  },
  {
   "cell_type": "markdown",
   "metadata": {},
   "source": [
    "Now we get more distinct colors making it much easier to analyze. Also notice as a side effect of inheriting the color mapping to all geoms\n",
    "that geom_smooth got the color mapping too. So it calculated a linear trend line for each category of cyl. Take a look at the 8 cylinder trend line. Interesting."
   ]
  },
  {
   "cell_type": "markdown",
   "metadata": {},
   "source": [
    "## Replace cyl with class\n",
    "Since class is of type character, it will be automatically converted to a factor and the color rendering will be discrete instead of continuous."
   ]
  },
  {
   "cell_type": "code",
   "execution_count": null,
   "metadata": {
    "collapsed": true,
    "scrolled": false
   },
   "outputs": [],
   "source": [
    "# Scatterplot mpg: x = displ, y = hwy, color = class\n",
    "# + jitter + alpha = 0.5 + trend (linear)\n",
    "ggplot(data = mpg, mapping = aes( ??? )) + \n",
    "   geom_jitter(alpha = 0.5) + \n",
    "   geom_smooth(method = \"lm\", se = FALSE) +\n",
    "   labs(title=\"mpg trend: hwy vs displ by class\", \n",
    "        subtitle=\"Points jittered + alpha blended + class color\")"
   ]
  },
  {
   "cell_type": "markdown",
   "metadata": {},
   "source": [
    "Now things are getting more interesting. It is clear now that the upward slope for 8 cylinders might be due to 2 seater sports cars. It would be good to confirm that these have 8 cylinder engines."
   ]
  },
  {
   "cell_type": "markdown",
   "metadata": {},
   "source": [
    "## Add cyl by mapping it to shape\n",
    "We want to see both class and cyl on the same graph. Recall that cyl is a continuous varaible. It will need to be converted into a factor because shape (circle, square, triangle, etc. of the points) is discrete. First try it without as.factor() and see what you get. Then wrap cyl in as.factor() as done previously."
   ]
  },
  {
   "cell_type": "code",
   "execution_count": null,
   "metadata": {
    "collapsed": true,
    "scrolled": false
   },
   "outputs": [],
   "source": [
    "# Scatterplot mpg: x = displ, y = hwy, color = class, shape = cyl\n",
    "# + jitter + alpha = 0.5 + trend (linear)\n",
    "ggplot(data = mpg, mapping = aes( ??? )) + \n",
    "   geom_jitter(alpha = 0.5) + \n",
    "   geom_smooth(method = \"lm\", se = FALSE) +\n",
    "   labs(title=\"mpg trend: hwy vs displ by class and cyl\", \n",
    "        subtitle=\"Points jittered + alpha blended + class color + shape cyl\")"
   ]
  },
  {
   "cell_type": "markdown",
   "metadata": {},
   "source": [
    "Confirmed. The 2-seater cars have 8 cylinder engines. These trend lines are getting out of control now. We could add size...probably not. The visual is getting too busy. There can be too much of a good thing. "
   ]
  },
  {
   "cell_type": "markdown",
   "metadata": {},
   "source": [
    "As you can see, mapping categorical variables is easy and very helpful for analysis. I look for these first in the dataset. Also, as we found, we can quickly over do it with information overload in a single plot. And we haven't even scratched the surface yet at the number of geoms and aesthetics that are at our disposal. \n",
    "\n",
    "A way to handle visual overload is by having more plots. Of course we have been doing this throughout this course in different Jupyter cells, but here I mean a group of plots that are related to each other in some way. Plotting them next to each other or with the same axis ranges may yield some analytical insights that would be harder to spot in more visually seperated plots.\n",
    "\n",
    "ggplot has two functions to create a group of related plot. facet_wrap() and facet_grid(). They are added to the plot as another layer just like the geoms. facet_wrap() takes one categorical variable and instead of plotting all the categories in a single plot, it creates a smaller plot for each category. The reason it is called wrap is because it creates them as one long row and then wraps large rows onto the next row just like text wraps in a document when it exceeds the margin. \n",
    "\n",
    "facet_grid() on the other hand doesn't wrap and you can specify whether you want a single row or a single column of plots. The real power of facet_grid() comes in because it allows you to specify two categorical variables, one for the rows and another for the columns. This provides a matrix or grid of plots that include the interactions with both.\n",
    "\n",
    "facet_wrap() and facet_grid() use R's formula syntax which may seem pretty strange. At this point, we aren't working with all the features of formulas so all we need to know is just a bit of syntax which is the use of the tilde '~'. For facet_wrap() prefice the categorical variable with a ~ and for facet_grid put use row_variable ~ column_variable. If you just want one variable for facet_grid then replace the other with a period '.'."
   ]
  },
  {
   "cell_type": "markdown",
   "metadata": {},
   "source": [
    "# Help on facet_wrap()\n",
    "Let's get into the habit of seeing the usage help on new functions. Recall that you can preceed the function with a question mark to get help on it. This works for the functions that have been loaded via the library statement. Different versions will work such as:\n",
    "\n",
    "* ? facet_wrap\n",
    "* ?facet_wrap\n",
    "* ? ggplot2::facet_wrap\n",
    "\n",
    "There often is sample code at the bottom of the help topic for many functions."
   ]
  },
  {
   "cell_type": "code",
   "execution_count": null,
   "metadata": {
    "collapsed": true
   },
   "outputs": [],
   "source": [
    "# Display help for facet_wrap()\n",
    "? facet_wrap"
   ]
  },
  {
   "cell_type": "markdown",
   "metadata": {},
   "source": [
    "# facet_wrap {ggplot2} R Documentation\n",
    "## Wrap a 1d ribbon of panels into 2d\n",
    "## Description\n",
    "facet_wrap wraps a 1d sequence of panels into 2d. This is generally a better use of screen space than facet_grid because most displays are roughly rectangular.\n",
    "\n",
    "## Usage\n",
    "facet_wrap(facets, nrow = NULL, ncol = NULL, scales = \"fixed\",\n",
    "  shrink = TRUE, labeller = \"label_value\", as.table = TRUE,\n",
    "  switch = NULL, drop = TRUE, dir = \"h\", strip.position = \"top\")"
   ]
  },
  {
   "cell_type": "markdown",
   "metadata": {},
   "source": [
    "# Use facet_wrap for cyl\n",
    "When a chart gets too busy, it might be helpful to have multiple charts rather than adding another dimension to an existing chart. \n",
    "\n",
    "You add facet_wrap as a new line in the ggplot and chain it with the '+' just as if you were adding another geom.\n",
    "\n",
    "The method for passing in the value uses R's formula method. This includes a ~ followed by the variable name like ~ cyl. We don't have to explicitly cast it with as.factor() since facet wrap just uses the values directly. \n",
    "\n",
    "It would look like: ggplot(blah, blah) + geom_blah(blah) + facet_wrap( ~ cyl ) + labs(blah)"
   ]
  },
  {
   "cell_type": "code",
   "execution_count": null,
   "metadata": {
    "collapsed": true,
    "scrolled": false
   },
   "outputs": [],
   "source": [
    "# Scatterplot mpg: x = displ, y = hwy, color = class\n",
    "# + jitter + alpha = 0.5 + trend (linear)\n",
    "# facet wrap on cyl\n",
    "ggplot(data = mpg, mapping = aes( ??? )) + \n",
    "   geom_jitter(alpha = 0.5) + \n",
    "   geom_smooth(method = \"lm\", se = FALSE) +\n",
    "   facet_wrap( ??? ) +\n",
    "   labs(title=\"mpg trend: hwy vs displ by class and cyl\", \n",
    "        subtitle=\"Points jittered + alpha blended + class color + facet cyl\")"
   ]
  },
  {
   "cell_type": "markdown",
   "metadata": {},
   "source": [
    "Notice how the x and y axis are shared by the plot. Having a shared scale can reveal insights. Look at the slope of trend lines. Notice that different cylinder engines affect fuel efficiency differently in relation to engine displacement. \n",
    "\n",
    "Yes, I really want to filter out the 5 cylinder vehicles. We will learn how to do this soon."
   ]
  },
  {
   "cell_type": "markdown",
   "metadata": {},
   "source": [
    "# Passing parameters by position instead of name\n",
    "\n",
    "Did you notice that when we used facet_wrap() that we didn't type the name of the parameter, 'facets'? \n",
    "\n",
    "facet_wrap( ~ cyl ) compared to facet_wrap( facets = ~ cyl )\n",
    "\n",
    "R knew that this should be the facets parameter because it is the first parameter. So it lines them up by positon. So you can have a combination of position and naming.\n",
    "\n",
    "Usually the first parameter of a function is the most important one and as we start remembering what they are, we don't need to remind ourselves by typing them in every time. This can improve code readability. On the flip side, it is possible to specify all the parameters, by position as it is called, and not type any of the parameter names. This could make the code much harder to understand, forcing the programmer to count the position of the parameter and consult the usage help.\n",
    "\n",
    "So, we will slowly move to not specifying the parameter names for the first one or two parameter values of a function, and continue to specify names for the other ones. \n",
    "\n",
    "As we consolidate the code below, let me remove the 'data =' from our ggplot function. We should remember that the first parameter is the data paramater without having to call it out specifically. \n",
    "\n",
    "In your code, you are welcome to do what you find most comfortable. "
   ]
  },
  {
   "cell_type": "markdown",
   "metadata": {},
   "source": [
    "# Use facet_wrap for class\n",
    "Swap out cyl for class and see what faceting on class can reveal. We can keep class mapped to color as well. "
   ]
  },
  {
   "cell_type": "code",
   "execution_count": null,
   "metadata": {
    "collapsed": true,
    "scrolled": false
   },
   "outputs": [],
   "source": [
    "# Scatterplot mpg: x = displ, y = hwy, color = class\n",
    "# + jitter + alpha = 0.5 + trend (linear)\n",
    "# facet wrap on class\n",
    "ggplot(data = mpg, mapping = aes(x = displ, y = hwy, color = class)) + \n",
    "   geom_jitter(alpha = 0.5) + \n",
    "   geom_smooth(method = \"lm\", se = FALSE) +\n",
    "   facet_wrap( ??? ) +\n",
    "   labs(title=\"mpg trend: hwy vs displ by class and cyl\", \n",
    "        subtitle=\"Points jittered + alpha blended + class color + facet class\")"
   ]
  },
  {
   "cell_type": "markdown",
   "metadata": {},
   "source": [
    "Notice that slope for all vehicle classes are down yet when for 8 cylinder vehicles it is a positive slope."
   ]
  },
  {
   "cell_type": "markdown",
   "metadata": {},
   "source": [
    "# Help on facet_grid()\n",
    "The usage help on new functions reveals default and advanced parameters. Tidyverse functions strive to both be simple (a function does just one thing) and versatile (many options and the ability to chain to other functions). "
   ]
  },
  {
   "cell_type": "code",
   "execution_count": null,
   "metadata": {
    "collapsed": true
   },
   "outputs": [],
   "source": [
    "# Open help for facet_grid()\n",
    "? facet_grid"
   ]
  },
  {
   "cell_type": "markdown",
   "metadata": {},
   "source": [
    "# facet_grid {ggplot2}\tR Documentation\n",
    "## Lay out panels in a grid\n",
    "## Description\n",
    "facet_grid forms a matrix of panels defined by row and column facetting variables. It is most useful when you have two discrete variables, and all combinations of the variables exist in the data.\n",
    "\n",
    "## Usage\n",
    "facet_grid(facets, margins = FALSE, scales = \"fixed\", space = \"fixed\",\n",
    "  shrink = TRUE, labeller = \"label_value\", as.table = TRUE,\n",
    "  switch = NULL, drop = TRUE)"
   ]
  },
  {
   "cell_type": "markdown",
   "metadata": {},
   "source": [
    "## Use facet_grid for cyl\n",
    "The formula for facet_grid is variable_one ~ variable_two. This will create a 2D grid of charts. variable_one will define the rows and variable_two will define the columns.\n",
    "\n",
    "facet_grid can have a single row or single column of charts when given only one variable. The missing other variable uses a '.' (period) as a placeholder. \n",
    "\n",
    "Let's start with one variable to compare it to facet_wrap. Later we will add a second variable.\n",
    "\n",
    "It would look like: ggplot(blah, blah) + geom_blah(blah) + facet_grid( . ~ cyl ) + labs(blah)"
   ]
  },
  {
   "cell_type": "code",
   "execution_count": null,
   "metadata": {
    "collapsed": true
   },
   "outputs": [],
   "source": [
    "# Scatterplot mpg: x = displ, y = hwy, color = class\n",
    "# + jitter + alpha = 0.5 + trend (linear)\n",
    "# facet grid on cyl (columns)\n",
    "ggplot(data = mpg, mapping = aes(x = displ, y = hwy, color = class)) + \n",
    "   geom_jitter(alpha = 0.5) + \n",
    "   geom_smooth(method = \"lm\", se = FALSE) +\n",
    "   facet_grid( ??? ) +\n",
    "   labs(title=\"mpg trend: hwy vs displ by class and cyl\", \n",
    "        subtitle=\"Points jittered + alpha blended + class color + facet cyl\")"
   ]
  },
  {
   "cell_type": "markdown",
   "metadata": {},
   "source": [
    "Notice how much more pronounced the slopes are with this x and y plot perspective. Be careful with perspective since it can alter \n",
    "your analytical thinking."
   ]
  },
  {
   "cell_type": "markdown",
   "metadata": {},
   "source": [
    "# Facet cyl as rows\n",
    "Swap the missing '.' in facet_grid to see what cyl looks like as rows of charts instead of columns of charts."
   ]
  },
  {
   "cell_type": "code",
   "execution_count": null,
   "metadata": {
    "collapsed": true
   },
   "outputs": [],
   "source": [
    "# Scatterplot mpg: x = displ, y = hwy, color = class\n",
    "# + jitter + alpha = 0.5 + trend (linear)\n",
    "# facet grid on cyl (rows)\n",
    "ggplot(data = mpg, mapping = aes(x = displ, y = hwy, color = class)) + \n",
    "   geom_jitter(alpha = 0.5) + \n",
    "   geom_smooth(method = \"lm\", se = FALSE) +\n",
    "   facet_grid( ??? ) +\n",
    "   labs(title=\"mpg trend: hwy vs displ by class and cyl\", \n",
    "        subtitle=\"Points jittered + alpha blended + class color + facet cyl\")"
   ]
  },
  {
   "cell_type": "markdown",
   "metadata": {},
   "source": [
    "The slopes seem less aggressive now. Aside from the aspect ratio, the choice of columns vs rows reveals the relationship of one or the other more clear. cyl as columns shows how hwy decreases as cyl increases. cyl as rows shows the clustering of displacement by cyl. For example, 4 cyl vehicles are 1 - 3 liter engines with a little overlap with 6 cyl engines."
   ]
  },
  {
   "cell_type": "markdown",
   "metadata": {},
   "source": [
    "# Facet by both cyl and class\n",
    "Finally, let's see the full power of facet_grid by using both cyl and class. We can leave color = class but the purist in me would be nagging at me to remove the color since it isn't providing any additional information that the grid panel labels aren't already conveying. Sometimes it is okay to have a little eye candy in the charts. \n",
    "\n",
    "Facet class as rows and cyl as columns."
   ]
  },
  {
   "cell_type": "code",
   "execution_count": null,
   "metadata": {
    "collapsed": true,
    "scrolled": false
   },
   "outputs": [],
   "source": [
    "# Scatterplot mpg: x = displ, y = hwy, color = class\n",
    "# + jitter + alpha = 0.5 + trend (linear)\n",
    "# facet grid on class (rows) and cyl (columns)\n",
    "ggplot(data = mpg, mapping = aes(x = displ, y = hwy, color = class)) + \n",
    "   geom_jitter(alpha = 0.5) + \n",
    "   geom_smooth(method = \"lm\", se = FALSE) +\n",
    "   facet_grid( ??? ) +\n",
    "   labs(title=\"mpg trend: hwy vs displ by class and cyl\", \n",
    "        subtitle=\"Points jittered + alpha blended + class color + facet class ~ cyl\")"
   ]
  },
  {
   "cell_type": "markdown",
   "metadata": {},
   "source": [
    "Notice we can easily see the effects of hwy and displ have for each class and cyl."
   ]
  },
  {
   "cell_type": "markdown",
   "metadata": {},
   "source": [
    "## Facet by both cyl and class (switch rows and colums)\n",
    "This time switch rows and columns and see if you can glean any additional insights. "
   ]
  },
  {
   "cell_type": "code",
   "execution_count": null,
   "metadata": {
    "collapsed": true
   },
   "outputs": [],
   "source": [
    "# Scatterplot mpg: x = displ, y = hwy, color = class\n",
    "# + jitter + alpha = 0.5 + trend (linear)\n",
    "# facet grid on cyl (rows) and class (columnns)\n",
    "ggplot(data = mpg, mapping = aes(x = displ, y = hwy, color = class)) + \n",
    "   geom_jitter(alpha = 0.5) + \n",
    "   geom_smooth(method = \"lm\", se = FALSE) +\n",
    "   facet_grid( ??? ) +\n",
    "   labs(title=\"mpg trend: hwy vs displ by class and cyl\", \n",
    "        subtitle=\"Points jittered + alpha blended + class color + facet cyl ~ class\")"
   ]
  },
  {
   "cell_type": "markdown",
   "metadata": {},
   "source": [
    "Although a matter of preference, but patterns like 2 seater is only 8 cylinder stand out to me much more in this configuration. It doesn't hurt to plot multiple ways."
   ]
  },
  {
   "cell_type": "markdown",
   "metadata": {},
   "source": [
    "# Summary\n",
    "You explored the relationships of more than two dimensions by mapping to other aesthetics such as color and shape as well as faceting by one or two variables. \n",
    "\n",
    "Overlaying more dimensions works especially well with categorical variables, noting that it may be necessary to convert a variable to a factor using as.factor(). These can reveal great insights, but can also become information overload if it is over done."
   ]
  }
 ],
 "metadata": {
  "kernelspec": {
   "display_name": "R",
   "language": "R",
   "name": "ir"
  },
  "language_info": {
   "codemirror_mode": "r",
   "file_extension": ".r",
   "mimetype": "text/x-r-source",
   "name": "R",
   "pygments_lexer": "r",
   "version": "3.3.3"
  }
 },
 "nbformat": 4,
 "nbformat_minor": 1
}
